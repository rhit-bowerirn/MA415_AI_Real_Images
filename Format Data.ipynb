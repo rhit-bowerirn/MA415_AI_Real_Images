{
 "cells": [
  {
   "cell_type": "markdown",
   "id": "6ee9337a",
   "metadata": {},
   "source": [
    "# Format Data"
   ]
  },
  {
   "cell_type": "code",
   "execution_count": 115,
   "id": "b392bf94",
   "metadata": {},
   "outputs": [],
   "source": [
    "import pandas as pd\n",
    "import os\n",
    "import numpy as np\n",
    "from PIL import Image\n",
    "from sklearn.linear_model import LogisticRegression, LogisticRegressionCV"
   ]
  },
  {
   "cell_type": "code",
   "execution_count": 116,
   "id": "21c44b34",
   "metadata": {},
   "outputs": [],
   "source": [
    "path = \"./AIR_Image\""
   ]
  },
  {
   "cell_type": "code",
   "execution_count": 117,
   "id": "4603417c",
   "metadata": {},
   "outputs": [],
   "source": [
    "df = pd.DataFrame()"
   ]
  },
  {
   "cell_type": "code",
   "execution_count": 118,
   "id": "e97a96d8",
   "metadata": {},
   "outputs": [],
   "source": [
    "fake_train_images = []\n",
    "fake_test_images = []\n",
    "real_train_images = []\n",
    "real_test_images = []\n",
    "\n"
   ]
  },
  {
   "cell_type": "code",
   "execution_count": 119,
   "id": "01cf15e8",
   "metadata": {},
   "outputs": [
    {
     "name": "stdout",
     "output_type": "stream",
     "text": [
      "50000\n"
     ]
    }
   ],
   "source": [
    "for filename in os.listdir(path+\"/train/FAKE/\"):\n",
    "    file_path = path+\"/train/FAKE/\"\n",
    "    im = Image.open(file_path+filename)\n",
    "    im_array = np.array(im)\n",
    "    fake_train_images.append(im_array)\n",
    "    \n",
    "print(len(fake_train_images))"
   ]
  },
  {
   "cell_type": "code",
   "execution_count": 120,
   "id": "ce43294a",
   "metadata": {},
   "outputs": [
    {
     "name": "stdout",
     "output_type": "stream",
     "text": [
      "50000\n"
     ]
    }
   ],
   "source": [
    "for filename in os.listdir(path+\"/train/REAL/\"):\n",
    "    file_path = path+\"/train/REAL/\"\n",
    "    im = Image.open(file_path+filename)\n",
    "    im_array = np.array(im)\n",
    "    real_train_images.append(im_array)\n",
    "    \n",
    "print(len(real_train_images))"
   ]
  },
  {
   "cell_type": "code",
   "execution_count": 121,
   "id": "ee2faf62",
   "metadata": {},
   "outputs": [
    {
     "name": "stdout",
     "output_type": "stream",
     "text": [
      "10000\n"
     ]
    }
   ],
   "source": [
    "for filename in os.listdir(path+\"/test/FAKE/\"):\n",
    "    file_path = path+\"/test/FAKE/\"\n",
    "    im = Image.open(file_path+filename)\n",
    "    im_array = np.array(im)\n",
    "    fake_test_images.append(im_array)\n",
    "    \n",
    "print(len(fake_test_images))"
   ]
  },
  {
   "cell_type": "code",
   "execution_count": 122,
   "id": "7d131f68",
   "metadata": {},
   "outputs": [
    {
     "name": "stdout",
     "output_type": "stream",
     "text": [
      "10000\n"
     ]
    }
   ],
   "source": [
    "    \n",
    "for filename in os.listdir(path+\"/test/REAL/\"):\n",
    "    file_path = path+\"/test/REAL/\"\n",
    "    im = Image.open(file_path+filename)\n",
    "    im_array = np.array(im)\n",
    "    real_test_images.append(im_array)\n",
    "    \n",
    "print(len(real_test_images))"
   ]
  },
  {
   "cell_type": "code",
   "execution_count": 123,
   "id": "3bcdd694",
   "metadata": {},
   "outputs": [],
   "source": [
    "df_fake_test = pd.DataFrame()\n",
    "df_fake_train = pd.DataFrame()\n",
    "df_real_train = pd.DataFrame()\n",
    "df_real_test = pd.DataFrame()\n"
   ]
  },
  {
   "cell_type": "code",
   "execution_count": 124,
   "id": "26097f22",
   "metadata": {},
   "outputs": [
    {
     "name": "stdout",
     "output_type": "stream",
     "text": [
      "(50000, 2)\n"
     ]
    },
    {
     "data": {
      "text/html": [
       "<div>\n",
       "<style scoped>\n",
       "    .dataframe tbody tr th:only-of-type {\n",
       "        vertical-align: middle;\n",
       "    }\n",
       "\n",
       "    .dataframe tbody tr th {\n",
       "        vertical-align: top;\n",
       "    }\n",
       "\n",
       "    .dataframe thead th {\n",
       "        text-align: right;\n",
       "    }\n",
       "</style>\n",
       "<table border=\"1\" class=\"dataframe\">\n",
       "  <thead>\n",
       "    <tr style=\"text-align: right;\">\n",
       "      <th></th>\n",
       "      <th>images</th>\n",
       "      <th>labels</th>\n",
       "    </tr>\n",
       "  </thead>\n",
       "  <tbody>\n",
       "    <tr>\n",
       "      <th>0</th>\n",
       "      <td>[[[114, 112, 113], [119, 117, 118], [117, 117,...</td>\n",
       "      <td>Fake</td>\n",
       "    </tr>\n",
       "    <tr>\n",
       "      <th>1</th>\n",
       "      <td>[[[206, 204, 205], [215, 213, 214], [224, 222,...</td>\n",
       "      <td>Fake</td>\n",
       "    </tr>\n",
       "    <tr>\n",
       "      <th>2</th>\n",
       "      <td>[[[153, 185, 208], [130, 162, 185], [153, 185,...</td>\n",
       "      <td>Fake</td>\n",
       "    </tr>\n",
       "  </tbody>\n",
       "</table>\n",
       "</div>"
      ],
      "text/plain": [
       "                                              images labels\n",
       "0  [[[114, 112, 113], [119, 117, 118], [117, 117,...   Fake\n",
       "1  [[[206, 204, 205], [215, 213, 214], [224, 222,...   Fake\n",
       "2  [[[153, 185, 208], [130, 162, 185], [153, 185,...   Fake"
      ]
     },
     "execution_count": 124,
     "metadata": {},
     "output_type": "execute_result"
    }
   ],
   "source": [
    "df_fake_train['images']=fake_train_images\n",
    "df_fake_train['labels']='Fake'\n",
    "print(df_fake_train.shape)\n",
    "df_fake_train.head(3)"
   ]
  },
  {
   "cell_type": "code",
   "execution_count": 125,
   "id": "fadcd3fb",
   "metadata": {},
   "outputs": [
    {
     "name": "stdout",
     "output_type": "stream",
     "text": [
      "(10000, 2)\n"
     ]
    },
    {
     "data": {
      "text/html": [
       "<div>\n",
       "<style scoped>\n",
       "    .dataframe tbody tr th:only-of-type {\n",
       "        vertical-align: middle;\n",
       "    }\n",
       "\n",
       "    .dataframe tbody tr th {\n",
       "        vertical-align: top;\n",
       "    }\n",
       "\n",
       "    .dataframe thead th {\n",
       "        text-align: right;\n",
       "    }\n",
       "</style>\n",
       "<table border=\"1\" class=\"dataframe\">\n",
       "  <thead>\n",
       "    <tr style=\"text-align: right;\">\n",
       "      <th></th>\n",
       "      <th>images</th>\n",
       "      <th>labels</th>\n",
       "    </tr>\n",
       "  </thead>\n",
       "  <tbody>\n",
       "    <tr>\n",
       "      <th>0</th>\n",
       "      <td>[[[11, 45, 54], [14, 48, 57], [20, 52, 63], [2...</td>\n",
       "      <td>Fake</td>\n",
       "    </tr>\n",
       "    <tr>\n",
       "      <th>1</th>\n",
       "      <td>[[[86, 84, 85], [60, 58, 59], [56, 54, 55], [8...</td>\n",
       "      <td>Fake</td>\n",
       "    </tr>\n",
       "    <tr>\n",
       "      <th>2</th>\n",
       "      <td>[[[96, 80, 90], [97, 81, 92], [102, 86, 97], [...</td>\n",
       "      <td>Fake</td>\n",
       "    </tr>\n",
       "  </tbody>\n",
       "</table>\n",
       "</div>"
      ],
      "text/plain": [
       "                                              images labels\n",
       "0  [[[11, 45, 54], [14, 48, 57], [20, 52, 63], [2...   Fake\n",
       "1  [[[86, 84, 85], [60, 58, 59], [56, 54, 55], [8...   Fake\n",
       "2  [[[96, 80, 90], [97, 81, 92], [102, 86, 97], [...   Fake"
      ]
     },
     "execution_count": 125,
     "metadata": {},
     "output_type": "execute_result"
    }
   ],
   "source": [
    "df_fake_test['images']=fake_test_images\n",
    "df_fake_test['labels']='Fake'\n",
    "print(df_fake_test.shape)\n",
    "df_fake_test.head(3)"
   ]
  },
  {
   "cell_type": "code",
   "execution_count": 126,
   "id": "ec75f08c",
   "metadata": {},
   "outputs": [
    {
     "name": "stdout",
     "output_type": "stream",
     "text": [
      "(50000, 2)\n"
     ]
    },
    {
     "data": {
      "text/html": [
       "<div>\n",
       "<style scoped>\n",
       "    .dataframe tbody tr th:only-of-type {\n",
       "        vertical-align: middle;\n",
       "    }\n",
       "\n",
       "    .dataframe tbody tr th {\n",
       "        vertical-align: top;\n",
       "    }\n",
       "\n",
       "    .dataframe thead th {\n",
       "        text-align: right;\n",
       "    }\n",
       "</style>\n",
       "<table border=\"1\" class=\"dataframe\">\n",
       "  <thead>\n",
       "    <tr style=\"text-align: right;\">\n",
       "      <th></th>\n",
       "      <th>images</th>\n",
       "      <th>labels</th>\n",
       "    </tr>\n",
       "  </thead>\n",
       "  <tbody>\n",
       "    <tr>\n",
       "      <th>0</th>\n",
       "      <td>[[[169, 169, 181], [138, 138, 150], [91, 93, 1...</td>\n",
       "      <td>Real</td>\n",
       "    </tr>\n",
       "    <tr>\n",
       "      <th>1</th>\n",
       "      <td>[[[168, 180, 192], [174, 186, 198], [179, 191,...</td>\n",
       "      <td>Real</td>\n",
       "    </tr>\n",
       "    <tr>\n",
       "      <th>2</th>\n",
       "      <td>[[[150, 195, 100], [103, 147, 58], [111, 152, ...</td>\n",
       "      <td>Real</td>\n",
       "    </tr>\n",
       "  </tbody>\n",
       "</table>\n",
       "</div>"
      ],
      "text/plain": [
       "                                              images labels\n",
       "0  [[[169, 169, 181], [138, 138, 150], [91, 93, 1...   Real\n",
       "1  [[[168, 180, 192], [174, 186, 198], [179, 191,...   Real\n",
       "2  [[[150, 195, 100], [103, 147, 58], [111, 152, ...   Real"
      ]
     },
     "execution_count": 126,
     "metadata": {},
     "output_type": "execute_result"
    }
   ],
   "source": [
    "df_real_train['images']=real_train_images\n",
    "df_real_train['labels']='Real'\n",
    "print(df_real_train.shape)\n",
    "df_real_train.head(3)"
   ]
  },
  {
   "cell_type": "code",
   "execution_count": 127,
   "id": "f617bd45",
   "metadata": {},
   "outputs": [
    {
     "name": "stdout",
     "output_type": "stream",
     "text": [
      "(10000, 2)\n"
     ]
    },
    {
     "data": {
      "text/html": [
       "<div>\n",
       "<style scoped>\n",
       "    .dataframe tbody tr th:only-of-type {\n",
       "        vertical-align: middle;\n",
       "    }\n",
       "\n",
       "    .dataframe tbody tr th {\n",
       "        vertical-align: top;\n",
       "    }\n",
       "\n",
       "    .dataframe thead th {\n",
       "        text-align: right;\n",
       "    }\n",
       "</style>\n",
       "<table border=\"1\" class=\"dataframe\">\n",
       "  <thead>\n",
       "    <tr style=\"text-align: right;\">\n",
       "      <th></th>\n",
       "      <th>images</th>\n",
       "      <th>labels</th>\n",
       "    </tr>\n",
       "  </thead>\n",
       "  <tbody>\n",
       "    <tr>\n",
       "      <th>0</th>\n",
       "      <td>[[[240, 250, 242], [251, 255, 251], [234, 239,...</td>\n",
       "      <td>Real</td>\n",
       "    </tr>\n",
       "    <tr>\n",
       "      <th>1</th>\n",
       "      <td>[[[197, 24, 0], [212, 39, 0], [224, 51, 0], [2...</td>\n",
       "      <td>Real</td>\n",
       "    </tr>\n",
       "    <tr>\n",
       "      <th>2</th>\n",
       "      <td>[[[77, 98, 41], [92, 120, 62], [114, 149, 91],...</td>\n",
       "      <td>Real</td>\n",
       "    </tr>\n",
       "  </tbody>\n",
       "</table>\n",
       "</div>"
      ],
      "text/plain": [
       "                                              images labels\n",
       "0  [[[240, 250, 242], [251, 255, 251], [234, 239,...   Real\n",
       "1  [[[197, 24, 0], [212, 39, 0], [224, 51, 0], [2...   Real\n",
       "2  [[[77, 98, 41], [92, 120, 62], [114, 149, 91],...   Real"
      ]
     },
     "execution_count": 127,
     "metadata": {},
     "output_type": "execute_result"
    }
   ],
   "source": [
    "df_real_test['images']=real_test_images\n",
    "df_real_test['labels']='Real'\n",
    "print(df_real_test.shape)\n",
    "df_real_test.head(3)"
   ]
  },
  {
   "cell_type": "code",
   "execution_count": 128,
   "id": "e7c8ae08",
   "metadata": {},
   "outputs": [],
   "source": [
    "df_test = pd.DataFrame()\n",
    "df_train = pd.DataFrame()"
   ]
  },
  {
   "cell_type": "code",
   "execution_count": 129,
   "id": "9b683ddb",
   "metadata": {},
   "outputs": [],
   "source": [
    "df_test = pd.concat([df_fake_test,df_real_test],axis = 0)"
   ]
  },
  {
   "cell_type": "code",
   "execution_count": 130,
   "id": "db68822a",
   "metadata": {},
   "outputs": [
    {
     "data": {
      "text/plain": [
       "(20000, 2)"
      ]
     },
     "execution_count": 130,
     "metadata": {},
     "output_type": "execute_result"
    }
   ],
   "source": [
    "df_test.shape"
   ]
  },
  {
   "cell_type": "code",
   "execution_count": 131,
   "id": "523590f8",
   "metadata": {},
   "outputs": [],
   "source": [
    "df_train = pd.concat([df_fake_train,df_real_train],axis = 0)"
   ]
  },
  {
   "cell_type": "code",
   "execution_count": 132,
   "id": "43735265",
   "metadata": {},
   "outputs": [
    {
     "data": {
      "text/plain": [
       "(100000, 2)"
      ]
     },
     "execution_count": 132,
     "metadata": {},
     "output_type": "execute_result"
    }
   ],
   "source": [
    "df_train.shape"
   ]
  },
  {
   "cell_type": "code",
   "execution_count": 133,
   "id": "1d16fafa",
   "metadata": {},
   "outputs": [],
   "source": [
    "np.savez_compressed('./Train_images.npz',\n",
    "                    images =df_train.images,\n",
    "                    labels=df_train.labels)"
   ]
  },
  {
   "cell_type": "code",
   "execution_count": 134,
   "id": "ccfc67e5",
   "metadata": {},
   "outputs": [],
   "source": [
    "np.savez_compressed('./Test_images.npz',\n",
    "                    images =df_test.images,\n",
    "                    labels=df_test.labels)"
   ]
  },
  {
   "cell_type": "code",
   "execution_count": 135,
   "id": "7d323c4f",
   "metadata": {},
   "outputs": [],
   "source": [
    "fake = np.load('./Train_images.npz',allow_pickle=True)\n"
   ]
  },
  {
   "cell_type": "code",
   "execution_count": null,
   "id": "d491eaa4",
   "metadata": {},
   "outputs": [],
   "source": []
  },
  {
   "cell_type": "code",
   "execution_count": null,
   "id": "47c73841",
   "metadata": {},
   "outputs": [],
   "source": []
  },
  {
   "cell_type": "code",
   "execution_count": null,
   "id": "f28d31bb",
   "metadata": {},
   "outputs": [],
   "source": []
  }
 ],
 "metadata": {
  "kernelspec": {
   "display_name": "Python 3 (ipykernel)",
   "language": "python",
   "name": "python3"
  },
  "language_info": {
   "codemirror_mode": {
    "name": "ipython",
    "version": 3
   },
   "file_extension": ".py",
   "mimetype": "text/x-python",
   "name": "python",
   "nbconvert_exporter": "python",
   "pygments_lexer": "ipython3",
   "version": "3.8.13"
  }
 },
 "nbformat": 4,
 "nbformat_minor": 5
}
