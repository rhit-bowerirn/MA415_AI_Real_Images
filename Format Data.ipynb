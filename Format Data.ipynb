{
 "cells": [
  {
   "cell_type": "markdown",
   "id": "e4f1ba88",
   "metadata": {},
   "source": [
    "# Format Data"
   ]
  },
  {
   "cell_type": "code",
   "execution_count": 1,
   "id": "ec84334c",
   "metadata": {},
   "outputs": [],
   "source": [
    "import pandas as pd\n",
    "import os\n",
    "import numpy as np\n",
    "from PIL import Image\n",
    "from sklearn.linear_model import LogisticRegression, LogisticRegressionCV"
   ]
  },
  {
   "cell_type": "code",
   "execution_count": 2,
   "id": "15426a0a",
   "metadata": {},
   "outputs": [],
   "source": [
    "path = \"./AIR_Image\""
   ]
  },
  {
   "cell_type": "code",
   "execution_count": 3,
   "id": "deffe135",
   "metadata": {},
   "outputs": [],
   "source": [
    "df = pd.DataFrame()"
   ]
  },
  {
   "cell_type": "code",
   "execution_count": 4,
   "id": "55d5516b",
   "metadata": {},
   "outputs": [],
   "source": [
    "fake_train_images = []\n",
    "fake_test_images = []\n",
    "real_train_images = []\n",
    "real_test_images = []\n",
    "\n"
   ]
  },
  {
   "cell_type": "code",
   "execution_count": 5,
   "id": "de792526",
   "metadata": {},
   "outputs": [
    {
     "name": "stdout",
     "output_type": "stream",
     "text": [
      "50000\n"
     ]
    }
   ],
   "source": [
    "for filename in os.listdir(path + \"/train/FAKE/\"):\n",
    "    file_path = path + \"/train/FAKE/\"\n",
    "    im = Image.open(file_path + filename)\n",
    "    im_array = np.array(im)\n",
    "    fake_train_images.append(im_array)\n",
    "    \n",
    "print(len(fake_train_images))"
   ]
  },
  {
   "cell_type": "code",
   "execution_count": 6,
   "id": "607c6366",
   "metadata": {},
   "outputs": [
    {
     "name": "stdout",
     "output_type": "stream",
     "text": [
      "50000\n"
     ]
    }
   ],
   "source": [
    "for filename in os.listdir(path + \"/train/REAL/\"):\n",
    "    file_path = path + \"/train/REAL/\"\n",
    "    im = Image.open(file_path + filename)\n",
    "    im_array = np.array(im)\n",
    "    real_train_images.append(im_array)\n",
    "    \n",
    "print(len(real_train_images))"
   ]
  },
  {
   "cell_type": "code",
   "execution_count": 7,
   "id": "49eedaf6",
   "metadata": {},
   "outputs": [
    {
     "name": "stdout",
     "output_type": "stream",
     "text": [
      "10000\n"
     ]
    }
   ],
   "source": [
    "for filename in os.listdir(path + \"/test/FAKE/\"):\n",
    "    file_path = path + \"/test/FAKE/\"\n",
    "    im = Image.open(file_path + filename)\n",
    "    im_array = np.array(im)\n",
    "    fake_test_images.append(im_array)\n",
    "    \n",
    "print(len(fake_test_images))"
   ]
  },
  {
   "cell_type": "code",
   "execution_count": 8,
   "id": "3c2a4660",
   "metadata": {},
   "outputs": [
    {
     "name": "stdout",
     "output_type": "stream",
     "text": [
      "10000\n"
     ]
    }
   ],
   "source": [
    "    \n",
    "for filename in os.listdir(path + \"/test/REAL/\"):\n",
    "    file_path = path + \"/test/REAL/\"\n",
    "    im = Image.open(file_path + filename)\n",
    "    im_array = np.array(im)\n",
    "    real_test_images.append(im_array)\n",
    "    \n",
    "print(len(real_test_images))"
   ]
  },
  {
   "cell_type": "code",
   "execution_count": 9,
   "id": "1507a611",
   "metadata": {},
   "outputs": [],
   "source": [
    "df_fake_test = pd.DataFrame()\n",
    "df_fake_train = pd.DataFrame()\n",
    "df_real_train = pd.DataFrame()\n",
    "df_real_test = pd.DataFrame()\n"
   ]
  },
  {
   "cell_type": "code",
   "execution_count": 10,
   "id": "09efde3f",
   "metadata": {},
   "outputs": [
    {
     "name": "stdout",
     "output_type": "stream",
     "text": [
      "(50000, 2)\n"
     ]
    },
    {
     "data": {
      "text/html": [
       "<div>\n",
       "<style scoped>\n",
       "    .dataframe tbody tr th:only-of-type {\n",
       "        vertical-align: middle;\n",
       "    }\n",
       "\n",
       "    .dataframe tbody tr th {\n",
       "        vertical-align: top;\n",
       "    }\n",
       "\n",
       "    .dataframe thead th {\n",
       "        text-align: right;\n",
       "    }\n",
       "</style>\n",
       "<table border=\"1\" class=\"dataframe\">\n",
       "  <thead>\n",
       "    <tr style=\"text-align: right;\">\n",
       "      <th></th>\n",
       "      <th>images</th>\n",
       "      <th>labels</th>\n",
       "    </tr>\n",
       "  </thead>\n",
       "  <tbody>\n",
       "    <tr>\n",
       "      <th>0</th>\n",
       "      <td>[[[114, 112, 113], [119, 117, 118], [117, 117,...</td>\n",
       "      <td>Fake</td>\n",
       "    </tr>\n",
       "    <tr>\n",
       "      <th>1</th>\n",
       "      <td>[[[206, 204, 205], [215, 213, 214], [224, 222,...</td>\n",
       "      <td>Fake</td>\n",
       "    </tr>\n",
       "    <tr>\n",
       "      <th>2</th>\n",
       "      <td>[[[153, 185, 208], [130, 162, 185], [153, 185,...</td>\n",
       "      <td>Fake</td>\n",
       "    </tr>\n",
       "  </tbody>\n",
       "</table>\n",
       "</div>"
      ],
      "text/plain": [
       "                                              images labels\n",
       "0  [[[114, 112, 113], [119, 117, 118], [117, 117,...   Fake\n",
       "1  [[[206, 204, 205], [215, 213, 214], [224, 222,...   Fake\n",
       "2  [[[153, 185, 208], [130, 162, 185], [153, 185,...   Fake"
      ]
     },
     "execution_count": 10,
     "metadata": {},
     "output_type": "execute_result"
    }
   ],
   "source": [
    "df_fake_train['images'] = fake_train_images\n",
    "df_fake_train['labels'] = 'Fake'\n",
    "print(df_fake_train.shape)\n",
    "df_fake_train.head(3)"
   ]
  },
  {
   "cell_type": "code",
   "execution_count": 11,
   "id": "8a78c29e",
   "metadata": {},
   "outputs": [
    {
     "name": "stdout",
     "output_type": "stream",
     "text": [
      "(10000, 2)\n"
     ]
    },
    {
     "data": {
      "text/html": [
       "<div>\n",
       "<style scoped>\n",
       "    .dataframe tbody tr th:only-of-type {\n",
       "        vertical-align: middle;\n",
       "    }\n",
       "\n",
       "    .dataframe tbody tr th {\n",
       "        vertical-align: top;\n",
       "    }\n",
       "\n",
       "    .dataframe thead th {\n",
       "        text-align: right;\n",
       "    }\n",
       "</style>\n",
       "<table border=\"1\" class=\"dataframe\">\n",
       "  <thead>\n",
       "    <tr style=\"text-align: right;\">\n",
       "      <th></th>\n",
       "      <th>images</th>\n",
       "      <th>labels</th>\n",
       "    </tr>\n",
       "  </thead>\n",
       "  <tbody>\n",
       "    <tr>\n",
       "      <th>0</th>\n",
       "      <td>[[[11, 45, 54], [14, 48, 57], [20, 52, 63], [2...</td>\n",
       "      <td>Fake</td>\n",
       "    </tr>\n",
       "    <tr>\n",
       "      <th>1</th>\n",
       "      <td>[[[86, 84, 85], [60, 58, 59], [56, 54, 55], [8...</td>\n",
       "      <td>Fake</td>\n",
       "    </tr>\n",
       "    <tr>\n",
       "      <th>2</th>\n",
       "      <td>[[[96, 80, 90], [97, 81, 92], [102, 86, 97], [...</td>\n",
       "      <td>Fake</td>\n",
       "    </tr>\n",
       "  </tbody>\n",
       "</table>\n",
       "</div>"
      ],
      "text/plain": [
       "                                              images labels\n",
       "0  [[[11, 45, 54], [14, 48, 57], [20, 52, 63], [2...   Fake\n",
       "1  [[[86, 84, 85], [60, 58, 59], [56, 54, 55], [8...   Fake\n",
       "2  [[[96, 80, 90], [97, 81, 92], [102, 86, 97], [...   Fake"
      ]
     },
     "execution_count": 11,
     "metadata": {},
     "output_type": "execute_result"
    }
   ],
   "source": [
    "df_fake_test['images'] = fake_test_images\n",
    "df_fake_test['labels'] = 'Fake'\n",
    "print(df_fake_test.shape)\n",
    "df_fake_test.head(3)"
   ]
  },
  {
   "cell_type": "code",
   "execution_count": 12,
   "id": "8af22c66",
   "metadata": {},
   "outputs": [
    {
     "name": "stdout",
     "output_type": "stream",
     "text": [
      "(50000, 2)\n"
     ]
    },
    {
     "data": {
      "text/html": [
       "<div>\n",
       "<style scoped>\n",
       "    .dataframe tbody tr th:only-of-type {\n",
       "        vertical-align: middle;\n",
       "    }\n",
       "\n",
       "    .dataframe tbody tr th {\n",
       "        vertical-align: top;\n",
       "    }\n",
       "\n",
       "    .dataframe thead th {\n",
       "        text-align: right;\n",
       "    }\n",
       "</style>\n",
       "<table border=\"1\" class=\"dataframe\">\n",
       "  <thead>\n",
       "    <tr style=\"text-align: right;\">\n",
       "      <th></th>\n",
       "      <th>images</th>\n",
       "      <th>labels</th>\n",
       "    </tr>\n",
       "  </thead>\n",
       "  <tbody>\n",
       "    <tr>\n",
       "      <th>0</th>\n",
       "      <td>[[[169, 169, 181], [138, 138, 150], [91, 93, 1...</td>\n",
       "      <td>Real</td>\n",
       "    </tr>\n",
       "    <tr>\n",
       "      <th>1</th>\n",
       "      <td>[[[168, 180, 192], [174, 186, 198], [179, 191,...</td>\n",
       "      <td>Real</td>\n",
       "    </tr>\n",
       "    <tr>\n",
       "      <th>2</th>\n",
       "      <td>[[[150, 195, 100], [103, 147, 58], [111, 152, ...</td>\n",
       "      <td>Real</td>\n",
       "    </tr>\n",
       "  </tbody>\n",
       "</table>\n",
       "</div>"
      ],
      "text/plain": [
       "                                              images labels\n",
       "0  [[[169, 169, 181], [138, 138, 150], [91, 93, 1...   Real\n",
       "1  [[[168, 180, 192], [174, 186, 198], [179, 191,...   Real\n",
       "2  [[[150, 195, 100], [103, 147, 58], [111, 152, ...   Real"
      ]
     },
     "execution_count": 12,
     "metadata": {},
     "output_type": "execute_result"
    }
   ],
   "source": [
    "df_real_train['images'] = real_train_images\n",
    "df_real_train['labels'] = 'Real'\n",
    "print(df_real_train.shape)\n",
    "df_real_train.head(3)"
   ]
  },
  {
   "cell_type": "code",
   "execution_count": 13,
   "id": "4d2300ef",
   "metadata": {},
   "outputs": [
    {
     "name": "stdout",
     "output_type": "stream",
     "text": [
      "(10000, 2)\n"
     ]
    },
    {
     "data": {
      "text/html": [
       "<div>\n",
       "<style scoped>\n",
       "    .dataframe tbody tr th:only-of-type {\n",
       "        vertical-align: middle;\n",
       "    }\n",
       "\n",
       "    .dataframe tbody tr th {\n",
       "        vertical-align: top;\n",
       "    }\n",
       "\n",
       "    .dataframe thead th {\n",
       "        text-align: right;\n",
       "    }\n",
       "</style>\n",
       "<table border=\"1\" class=\"dataframe\">\n",
       "  <thead>\n",
       "    <tr style=\"text-align: right;\">\n",
       "      <th></th>\n",
       "      <th>images</th>\n",
       "      <th>labels</th>\n",
       "    </tr>\n",
       "  </thead>\n",
       "  <tbody>\n",
       "    <tr>\n",
       "      <th>0</th>\n",
       "      <td>[[[240, 250, 242], [251, 255, 251], [234, 239,...</td>\n",
       "      <td>Real</td>\n",
       "    </tr>\n",
       "    <tr>\n",
       "      <th>1</th>\n",
       "      <td>[[[197, 24, 0], [212, 39, 0], [224, 51, 0], [2...</td>\n",
       "      <td>Real</td>\n",
       "    </tr>\n",
       "    <tr>\n",
       "      <th>2</th>\n",
       "      <td>[[[77, 98, 41], [92, 120, 62], [114, 149, 91],...</td>\n",
       "      <td>Real</td>\n",
       "    </tr>\n",
       "  </tbody>\n",
       "</table>\n",
       "</div>"
      ],
      "text/plain": [
       "                                              images labels\n",
       "0  [[[240, 250, 242], [251, 255, 251], [234, 239,...   Real\n",
       "1  [[[197, 24, 0], [212, 39, 0], [224, 51, 0], [2...   Real\n",
       "2  [[[77, 98, 41], [92, 120, 62], [114, 149, 91],...   Real"
      ]
     },
     "execution_count": 13,
     "metadata": {},
     "output_type": "execute_result"
    }
   ],
   "source": [
    "df_real_test['images'] = real_test_images\n",
    "df_real_test['labels'] = 'Real'\n",
    "print(df_real_test.shape)\n",
    "df_real_test.head(3)"
   ]
  },
  {
   "cell_type": "code",
   "execution_count": 14,
   "id": "f81cf836",
   "metadata": {},
   "outputs": [],
   "source": [
    "df_test = pd.DataFrame()\n",
    "df_train = pd.DataFrame()"
   ]
  },
  {
   "cell_type": "code",
   "execution_count": 15,
   "id": "7de18a87",
   "metadata": {},
   "outputs": [],
   "source": [
    "df_test = pd.concat([df_fake_test,df_real_test],axis = 0)"
   ]
  },
  {
   "cell_type": "code",
   "execution_count": 16,
   "id": "6657aafd",
   "metadata": {},
   "outputs": [
    {
     "data": {
      "text/plain": [
       "(20000, 2)"
      ]
     },
     "execution_count": 16,
     "metadata": {},
     "output_type": "execute_result"
    }
   ],
   "source": [
    "df_test.shape"
   ]
  },
  {
   "cell_type": "code",
   "execution_count": 17,
   "id": "a4fc54df",
   "metadata": {},
   "outputs": [],
   "source": [
    "df_train = pd.concat([df_fake_train,df_real_train],axis = 0)"
   ]
  },
  {
   "cell_type": "code",
   "execution_count": 18,
   "id": "530a9aa7",
   "metadata": {},
   "outputs": [
    {
     "data": {
      "text/plain": [
       "(100000, 2)"
      ]
     },
     "execution_count": 18,
     "metadata": {},
     "output_type": "execute_result"
    }
   ],
   "source": [
    "df_train.shape"
   ]
  },
  {
   "cell_type": "code",
   "execution_count": 19,
   "id": "7cc31ae1",
   "metadata": {},
   "outputs": [],
   "source": [
    "np.savez_compressed('./Train_images.npz',\n",
    "                    images=df_train.images,\n",
    "                    labels=df_train.labels)"
   ]
  },
  {
   "cell_type": "code",
   "execution_count": null,
   "id": "0714888e",
   "metadata": {},
   "outputs": [],
   "source": [
    "np.savez_compressed('./Test_images.npz',\n",
    "                    images=df_test.images,\n",
    "                    labels=df_test.labels)"
   ]
  },
  {
   "cell_type": "code",
   "execution_count": null,
   "id": "c08fe32e",
   "metadata": {},
   "outputs": [],
   "source": [
    "train = np.load('./Train_images.npz', allow_pickle=True)\n",
    "##train['images'][0]  #load an image\n",
    "##train['label'][0]   #get the label"
   ]
  }
 ],
 "metadata": {
  "kernelspec": {
   "display_name": "Python 3 (ipykernel)",
   "language": "python",
   "name": "python3"
  },
  "language_info": {
   "codemirror_mode": {
    "name": "ipython",
    "version": 3
   },
   "file_extension": ".py",
   "mimetype": "text/x-python",
   "name": "python",
   "nbconvert_exporter": "python",
   "pygments_lexer": "ipython3",
   "version": "3.10.9"
  }
 },
 "nbformat": 4,
 "nbformat_minor": 5
}
