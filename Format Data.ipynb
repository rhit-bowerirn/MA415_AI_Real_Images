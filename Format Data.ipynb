{
 "cells": [
  {
   "cell_type": "markdown",
   "id": "612f295c",
   "metadata": {},
   "source": [
    "# Format Data"
   ]
  },
  {
   "cell_type": "code",
   "execution_count": 1,
   "id": "e8d8200d",
   "metadata": {},
   "outputs": [],
   "source": [
    "import pandas as pd\n",
    "import os\n",
    "import numpy as np\n",
    "from PIL import Image\n",
    "from sklearn.linear_model import LogisticRegression, LogisticRegressionCV"
   ]
  },
  {
   "cell_type": "code",
   "execution_count": 2,
   "id": "91a362dc",
   "metadata": {},
   "outputs": [],
   "source": [
    "path = \"./AIR_Image\""
   ]
  },
  {
   "cell_type": "code",
   "execution_count": 3,
   "id": "0f5fc361",
   "metadata": {},
   "outputs": [],
   "source": [
    "df = pd.DataFrame()"
   ]
  },
  {
   "cell_type": "code",
   "execution_count": 4,
   "id": "f6617651",
   "metadata": {},
   "outputs": [],
   "source": [
    "fake_train_images = []\n",
    "fake_test_images = []\n",
    "real_train_images = []\n",
    "real_test_images = []\n",
    "\n"
   ]
  },
  {
   "cell_type": "code",
   "execution_count": null,
   "id": "a6bb7b91",
   "metadata": {},
   "outputs": [],
   "source": [
    "for filename in os.listdir(path+\"/train/FAKE/\"):\n",
    "    file_path = path+\"/train/FAKE/\"\n",
    "    im = Image.open(file_path+filename)\n",
    "    im_array = np.array(im)\n",
    "    fake_train_images.append(im_array)\n",
    "    \n",
    "print(len(fake_train_images))"
   ]
  },
  {
   "cell_type": "code",
   "execution_count": null,
   "id": "2b4aa4c8",
   "metadata": {},
   "outputs": [],
   "source": [
    "for filename in os.listdir(path+\"/train/REAL/\"):\n",
    "    file_path = path+\"/train/REAL/\"\n",
    "    im = Image.open(file_path+filename)\n",
    "    im_array = np.array(im)\n",
    "    real_train_images.append(im_array)\n",
    "    \n",
    "print(len(real_train_images))"
   ]
  },
  {
   "cell_type": "code",
   "execution_count": null,
   "id": "6952b0f3",
   "metadata": {},
   "outputs": [],
   "source": [
    "for filename in os.listdir(path+\"/test/FAKE/\"):\n",
    "    file_path = path+\"/test/FAKE/\"\n",
    "    im = Image.open(file_path+filename)\n",
    "    im_array = np.array(im)\n",
    "    fake_test_images.append(im_array)\n",
    "    \n",
    "print(len(fake_test_images))"
   ]
  },
  {
   "cell_type": "code",
   "execution_count": null,
   "id": "710705a0",
   "metadata": {},
   "outputs": [],
   "source": [
    "    \n",
    "for filename in os.listdir(path+\"/test/REAL/\"):\n",
    "    file_path = path+\"/test/REAL/\"\n",
    "    im = Image.open(file_path+filename)\n",
    "    im_array = np.array(im)\n",
    "    real_test_images.append(im_array)\n",
    "    \n",
    "print(len(real_test_images))"
   ]
  },
  {
   "cell_type": "code",
   "execution_count": null,
   "id": "9f60dc90",
   "metadata": {},
   "outputs": [],
   "source": [
    "df_fake_test = pd.DataFrame()\n",
    "df_fake_train = pd.DataFrame()\n",
    "df_real_train = pd.DataFrame()\n",
    "df_real_test = pd.DataFrame()\n"
   ]
  },
  {
   "cell_type": "code",
   "execution_count": null,
   "id": "2e333dab",
   "metadata": {},
   "outputs": [],
   "source": [
    "df_fake_train['images']=fake_train_images\n",
    "df_fake_train['labels']='Fake'\n",
    "print(df_fake_train.shape)\n",
    "df_fake_train.head(3)"
   ]
  },
  {
   "cell_type": "code",
   "execution_count": null,
   "id": "26d8d68f",
   "metadata": {},
   "outputs": [],
   "source": [
    "df_fake_test['images']=fake_test_images\n",
    "df_fake_test['labels']='Fake'\n",
    "print(df_fake_test.shape)\n",
    "df_fake_test.head(3)"
   ]
  },
  {
   "cell_type": "code",
   "execution_count": null,
   "id": "63eb3ab1",
   "metadata": {},
   "outputs": [],
   "source": [
    "df_real_train['images']=real_train_images\n",
    "df_real_train['labels']='Real'\n",
    "print(df_real_train.shape)\n",
    "df_real_train.head(3)"
   ]
  },
  {
   "cell_type": "code",
   "execution_count": null,
   "id": "2478366e",
   "metadata": {},
   "outputs": [],
   "source": [
    "df_real_test['images']=real_test_images\n",
    "df_real_test['labels']='Real'\n",
    "print(df_real_test.shape)\n",
    "df_real_test.head(3)"
   ]
  },
  {
   "cell_type": "code",
   "execution_count": null,
   "id": "5620877e",
   "metadata": {},
   "outputs": [],
   "source": [
    "df_test = pd.DataFrame()\n",
    "df_train = pd.DataFrame()"
   ]
  },
  {
   "cell_type": "code",
   "execution_count": null,
   "id": "317f0287",
   "metadata": {},
   "outputs": [],
   "source": [
    "df_test = pd.concat([df_fake_test,df_real_test],axis = 0)"
   ]
  },
  {
   "cell_type": "code",
   "execution_count": null,
   "id": "7a18f6bc",
   "metadata": {},
   "outputs": [],
   "source": [
    "df_test.shape"
   ]
  },
  {
   "cell_type": "code",
   "execution_count": null,
   "id": "e3db7302",
   "metadata": {},
   "outputs": [],
   "source": [
    "df_train = pd.concat([df_fake_train,df_real_train],axis = 0)"
   ]
  },
  {
   "cell_type": "code",
   "execution_count": null,
   "id": "9934e3ef",
   "metadata": {},
   "outputs": [],
   "source": [
    "df_train.shape"
   ]
  },
  {
   "cell_type": "code",
   "execution_count": null,
   "id": "9224855f",
   "metadata": {},
   "outputs": [],
   "source": [
    "np.savez_compressed('./Train_images.npz',\n",
    "                    images =df_train.images,\n",
    "                    labels=df_train.labels)"
   ]
  },
  {
   "cell_type": "code",
   "execution_count": null,
   "id": "7d02b7bf",
   "metadata": {},
   "outputs": [],
   "source": [
    "np.savez_compressed('./Test_images.npz',\n",
    "                    images =df_test.images,\n",
    "                    labels=df_test.labels)"
   ]
  },
  {
   "cell_type": "code",
   "execution_count": null,
   "id": "71002c84",
   "metadata": {},
   "outputs": [],
   "source": [
    "train = np.load('./Train_images.npz',allow_pickle=True)\n",
    "##train['images'][0]  #load an image\n",
    "##train['label'][0]   #get the label"
   ]
  },
  {
   "cell_type": "code",
   "execution_count": null,
   "id": "3a259295",
   "metadata": {},
   "outputs": [],
   "source": []
  },
  {
   "cell_type": "code",
   "execution_count": null,
   "id": "d5c25c42",
   "metadata": {},
   "outputs": [],
   "source": []
  },
  {
   "cell_type": "code",
   "execution_count": null,
   "id": "fe6487ac",
   "metadata": {},
   "outputs": [],
   "source": []
  }
 ],
 "metadata": {
  "kernelspec": {
   "display_name": "Python 3 (ipykernel)",
   "language": "python",
   "name": "python3"
  },
  "language_info": {
   "codemirror_mode": {
    "name": "ipython",
    "version": 3
   },
   "file_extension": ".py",
   "mimetype": "text/x-python",
   "name": "python",
   "nbconvert_exporter": "python",
   "pygments_lexer": "ipython3",
   "version": "3.8.13"
  }
 },
 "nbformat": 4,
 "nbformat_minor": 5
}
