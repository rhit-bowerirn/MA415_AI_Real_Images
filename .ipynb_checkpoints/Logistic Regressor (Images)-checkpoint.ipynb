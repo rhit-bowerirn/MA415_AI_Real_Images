{
 "cells": [
  {
   "cell_type": "code",
   "execution_count": 1,
   "id": "c999fda6",
   "metadata": {},
   "outputs": [],
   "source": [
    "import pandas as pd\n",
    "import numpy as np\n",
    "from sklearn.linear_model import LogisticRegression\n",
    "from sklearn.preprocessing import StandardScaler, PolynomialFeatures\n",
    "from sklearn.model_selection import cross_validate\n",
    "from time import time\n",
    "from PIL import Image"
   ]
  },
  {
   "cell_type": "code",
   "execution_count": 2,
   "id": "058170ff",
   "metadata": {},
   "outputs": [],
   "source": [
    "train = np.load('./Train_images.npz',allow_pickle=True)\n",
    "test = np.load('./Test_images.npz',allow_pickle=True)"
   ]
  },
  {
   "cell_type": "code",
   "execution_count": 3,
   "id": "79920108",
   "metadata": {},
   "outputs": [],
   "source": [
    "df = pd.DataFrame()"
   ]
  },
  {
   "cell_type": "code",
   "execution_count": 14,
   "id": "51eb985c",
   "metadata": {},
   "outputs": [
    {
     "name": "stdout",
     "output_type": "stream",
     "text": [
      "(100000,)\n",
      "100000\n"
     ]
    }
   ],
   "source": [
    "print(train['images'].shape)\n",
    "print(train['images'].shape[0])"
   ]
  },
  {
   "cell_type": "code",
   "execution_count": 15,
   "id": "d60bfa39",
   "metadata": {},
   "outputs": [
    {
     "name": "stdout",
     "output_type": "stream",
     "text": [
      "100000\n"
     ]
    }
   ],
   "source": [
    "print(train['images'].shape[-1])"
   ]
  },
  {
   "cell_type": "code",
   "execution_count": 6,
   "id": "3f73a37e",
   "metadata": {},
   "outputs": [
    {
     "ename": "ValueError",
     "evalue": "cannot reshape array of size 10 into shape (10,3072)",
     "output_type": "error",
     "traceback": [
      "\u001b[1;31m---------------------------------------------------------------------------\u001b[0m",
      "\u001b[1;31mValueError\u001b[0m                                Traceback (most recent call last)",
      "Cell \u001b[1;32mIn[6], line 1\u001b[0m\n\u001b[1;32m----> 1\u001b[0m \u001b[38;5;28mprint\u001b[39m(\u001b[43mtrain\u001b[49m\u001b[43m[\u001b[49m\u001b[38;5;124;43m'\u001b[39;49m\u001b[38;5;124;43mimages\u001b[39;49m\u001b[38;5;124;43m'\u001b[39;49m\u001b[43m]\u001b[49m\u001b[43m[\u001b[49m\u001b[43m:\u001b[49m\u001b[38;5;241;43m10\u001b[39;49m\u001b[43m]\u001b[49m\u001b[38;5;241;43m.\u001b[39;49m\u001b[43mreshape\u001b[49m\u001b[43m(\u001b[49m\u001b[43mtrain\u001b[49m\u001b[43m[\u001b[49m\u001b[38;5;124;43m'\u001b[39;49m\u001b[38;5;124;43mimages\u001b[39;49m\u001b[38;5;124;43m'\u001b[39;49m\u001b[43m]\u001b[49m\u001b[43m[\u001b[49m\u001b[43m:\u001b[49m\u001b[38;5;241;43m10\u001b[39;49m\u001b[43m]\u001b[49m\u001b[38;5;241;43m.\u001b[39;49m\u001b[43mshape\u001b[49m\u001b[43m[\u001b[49m\u001b[38;5;241;43m0\u001b[39;49m\u001b[43m]\u001b[49m\u001b[43m,\u001b[49m\u001b[43m \u001b[49m\u001b[38;5;241;43m32\u001b[39;49m\u001b[38;5;241;43m*\u001b[39;49m\u001b[38;5;241;43m32\u001b[39;49m\u001b[38;5;241;43m*\u001b[39;49m\u001b[38;5;241;43m3\u001b[39;49m\u001b[43m)\u001b[49m)\n",
      "\u001b[1;31mValueError\u001b[0m: cannot reshape array of size 10 into shape (10,3072)"
     ]
    }
   ],
   "source": [
    "print(train['images'][:10].reshape(train['images'][:10].shape[0], 32*32*3))"
   ]
  },
  {
   "cell_type": "code",
   "execution_count": null,
   "id": "66932853",
   "metadata": {},
   "outputs": [],
   "source": [
    "train['images'][0].reshape(1, 32*32*3)"
   ]
  },
  {
   "cell_type": "code",
   "execution_count": null,
   "id": "9daa65e1",
   "metadata": {},
   "outputs": [],
   "source": [
    "train['images'].reshape(100000, 32*32*3)\n",
    "df['features'] = feat\n",
    "df['target'] = train['labels']\n",
    "# train['images'][0].shape"
   ]
  },
  {
   "cell_type": "code",
   "execution_count": null,
   "id": "a7482092",
   "metadata": {},
   "outputs": [],
   "source": [
    "print(df.shape)\n",
    "df.head(3)"
   ]
  },
  {
   "cell_type": "code",
   "execution_count": null,
   "id": "ad627817",
   "metadata": {},
   "outputs": [],
   "source": [
    "X = df.features\n",
    "y = df.target"
   ]
  },
  {
   "cell_type": "code",
   "execution_count": null,
   "id": "f4dfdb22",
   "metadata": {},
   "outputs": [],
   "source": [
    "time_start = time()\n",
    "lgr = LogisticRegression()\n",
    "# cv_results = cross_validate(lgr, X, y, return_train_score=True)\n",
    "\n",
    "# acc_train = cv_results['train_score'].mean()\n",
    "# acc_valid = cv_results['test_score'].mean()\n",
    "lgr.fit(X,y)\n",
    "\n",
    "time_stop = time()\n",
    "print('Elapsed Time for Features:', time_stop-time_start)"
   ]
  },
  {
   "cell_type": "code",
   "execution_count": null,
   "id": "b6a3f52f",
   "metadata": {},
   "outputs": [],
   "source": [
    "print('Baseline Accuracy:')\n",
    "print('Score', lgr.score(X,y))\n",
    "# print('Training Accuracy = ', acc_train.round(3))\n",
    "# print('Validation Accuracy = ', acc_valid.round(3))"
   ]
  },
  {
   "cell_type": "code",
   "execution_count": null,
   "id": "ead2894f",
   "metadata": {},
   "outputs": [],
   "source": []
  },
  {
   "cell_type": "raw",
   "id": "cfcb000b",
   "metadata": {},
   "source": [
    "##train['images'][0]  #load an image\n",
    "##train['labels'][0]   #get the label\n",
    "\n",
    "# print(len(train['images'])) # 100000 images in this set\n",
    "# print(train['labels'][0])   # Returns whether the selected image is real or fake"
   ]
  },
  {
   "cell_type": "raw",
   "id": "9388a099",
   "metadata": {},
   "source": [
    "img = []\n",
    "ts = time()\n",
    "for k in range(10):\n",
    "    img.append(train['images'][k].reshape(1, 32*32*3))\n",
    "    \n",
    "tss = time()\n",
    "print(tss-ts)\n",
    "img"
   ]
  },
  {
   "cell_type": "raw",
   "id": "212e105e",
   "metadata": {},
   "source": [
    "# time_start = time()\n",
    "# feat = []\n",
    "# for k in range(20):\n",
    "#     img = Image.fromarray(train['images'][k], 'RGB')\n",
    "#     feat.append(img)\n",
    "    \n",
    "# time_stop = time()\n",
    "# print('Elapsed Time for Features:', time_stop-time_start)"
   ]
  }
 ],
 "metadata": {
  "kernelspec": {
   "display_name": "Python 3 (ipykernel)",
   "language": "python",
   "name": "python3"
  },
  "language_info": {
   "codemirror_mode": {
    "name": "ipython",
    "version": 3
   },
   "file_extension": ".py",
   "mimetype": "text/x-python",
   "name": "python",
   "nbconvert_exporter": "python",
   "pygments_lexer": "ipython3",
   "version": "3.9.16"
  }
 },
 "nbformat": 4,
 "nbformat_minor": 5
}
