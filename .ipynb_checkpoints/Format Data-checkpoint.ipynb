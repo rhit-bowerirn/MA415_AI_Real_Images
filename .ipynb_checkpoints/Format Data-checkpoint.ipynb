{
 "cells": [
  {
   "cell_type": "markdown",
   "id": "e4f1ba88",
   "metadata": {},
   "source": [
    "# Format Data"
   ]
  },
  {
   "cell_type": "code",
   "execution_count": 1,
   "id": "ec84334c",
   "metadata": {},
   "outputs": [],
   "source": [
    "import pandas as pd\n",
    "import os\n",
    "import numpy as np\n",
    "from PIL import Image\n",
    "from sklearn.linear_model import LogisticRegression, LogisticRegressionCV"
   ]
  },
  {
   "cell_type": "code",
   "execution_count": 2,
   "id": "15426a0a",
   "metadata": {},
   "outputs": [],
   "source": [
    "path = \"./AIR_Image\""
   ]
  },
  {
   "cell_type": "code",
   "execution_count": 3,
   "id": "deffe135",
   "metadata": {},
   "outputs": [],
   "source": [
    "df = pd.DataFrame()"
   ]
  },
  {
   "cell_type": "code",
   "execution_count": 4,
   "id": "55d5516b",
   "metadata": {},
   "outputs": [],
   "source": [
    "fake_train_images = []\n",
    "fake_test_images = []\n",
    "real_train_images = []\n",
    "real_test_images = []\n",
    "\n"
   ]
  },
  {
   "cell_type": "code",
   "execution_count": 5,
   "id": "de792526",
   "metadata": {},
   "outputs": [
    {
     "name": "stdout",
     "output_type": "stream",
     "text": [
      "Unexpected exception formatting exception. Falling back to standard exception\n"
     ]
    },
    {
     "name": "stderr",
     "output_type": "stream",
     "text": [
      "Traceback (most recent call last):\n",
      "  File \"C:\\Users\\millerd7\\Anaconda3\\envs\\tf2\\lib\\site-packages\\IPython\\core\\interactiveshell.py\", line 3398, in run_code\n",
      "  File \"C:\\Users\\millerd7\\AppData\\Local\\Temp\\ipykernel_37116\\4080382018.py\", line 3, in <cell line: 1>\n",
      "    im = Image.open(file_path + filename)\n",
      "  File \"C:\\Users\\millerd7\\Anaconda3\\envs\\tf2\\lib\\site-packages\\PIL\\Image.py\", line 3092, in open\n",
      "OSError: [Errno 24] Too many open files: './AIR_Image/train/FAKE/1818 (9).jpg'\n",
      "\n",
      "During handling of the above exception, another exception occurred:\n",
      "\n",
      "Traceback (most recent call last):\n",
      "  File \"C:\\Users\\millerd7\\Anaconda3\\envs\\tf2\\lib\\site-packages\\IPython\\core\\interactiveshell.py\", line 1993, in showtraceback\n",
      "  File \"C:\\Users\\millerd7\\Anaconda3\\envs\\tf2\\lib\\site-packages\\IPython\\core\\ultratb.py\", line 1118, in structured_traceback\n",
      "  File \"C:\\Users\\millerd7\\Anaconda3\\envs\\tf2\\lib\\site-packages\\IPython\\core\\ultratb.py\", line 1012, in structured_traceback\n",
      "  File \"C:\\Users\\millerd7\\Anaconda3\\envs\\tf2\\lib\\site-packages\\IPython\\core\\ultratb.py\", line 865, in structured_traceback\n",
      "  File \"C:\\Users\\millerd7\\Anaconda3\\envs\\tf2\\lib\\site-packages\\IPython\\core\\ultratb.py\", line 799, in format_exception_as_a_whole\n",
      "  File \"C:\\Users\\millerd7\\Anaconda3\\envs\\tf2\\lib\\site-packages\\IPython\\core\\ultratb.py\", line 844, in get_records\n",
      "  File \"C:\\Users\\millerd7\\Anaconda3\\envs\\tf2\\lib\\site-packages\\pygments\\styles\\__init__.py\", line 78, in get_style_by_name\n",
      "  File \"<frozen importlib._bootstrap>\", line 991, in _find_and_load\n",
      "  File \"<frozen importlib._bootstrap>\", line 975, in _find_and_load_unlocked\n",
      "  File \"<frozen importlib._bootstrap>\", line 671, in _load_unlocked\n",
      "  File \"<frozen importlib._bootstrap_external>\", line 839, in exec_module\n",
      "  File \"<frozen importlib._bootstrap_external>\", line 975, in get_code\n",
      "  File \"<frozen importlib._bootstrap_external>\", line 1032, in get_data\n",
      "OSError: [Errno 24] Too many open files: 'C:\\\\Users\\\\millerd7\\\\Anaconda3\\\\envs\\\\tf2\\\\lib\\\\site-packages\\\\pygments\\\\styles\\\\default.py'\n"
     ]
    }
   ],
   "source": [
    "for filename in os.listdir(path + \"/train/FAKE/\"):\n",
    "    file_path = path + \"/train/FAKE/\"\n",
    "    im = Image.open(file_path + filename)\n",
    "    im_array = np.array(im)\n",
    "    fake_train_images.append(im_array)\n",
    "    \n",
    "print(len(fake_train_images))"
   ]
  },
  {
   "cell_type": "code",
   "execution_count": null,
   "id": "607c6366",
   "metadata": {},
   "outputs": [],
   "source": [
    "for filename in os.listdir(path + \"/train/REAL/\"):\n",
    "    file_path = path + \"/train/REAL/\"\n",
    "    im = Image.open(file_path + filename)\n",
    "    im_array = np.array(im)\n",
    "    real_train_images.append(im_array)\n",
    "    \n",
    "print(len(real_train_images))"
   ]
  },
  {
   "cell_type": "code",
   "execution_count": null,
   "id": "49eedaf6",
   "metadata": {},
   "outputs": [],
   "source": [
    "for filename in os.listdir(path + \"/test/FAKE/\"):\n",
    "    file_path = path + \"/test/FAKE/\"\n",
    "    im = Image.open(file_path + filename)\n",
    "    im_array = np.array(im)\n",
    "    fake_test_images.append(im_array)\n",
    "    \n",
    "print(len(fake_test_images))"
   ]
  },
  {
   "cell_type": "code",
   "execution_count": null,
   "id": "3c2a4660",
   "metadata": {},
   "outputs": [],
   "source": [
    "    \n",
    "for filename in os.listdir(path + \"/test/REAL/\"):\n",
    "    file_path = path + \"/test/REAL/\"\n",
    "    im = Image.open(file_path + filename)\n",
    "    im_array = np.array(im)\n",
    "    real_test_images.append(im_array)\n",
    "    \n",
    "print(len(real_test_images))"
   ]
  },
  {
   "cell_type": "code",
   "execution_count": null,
   "id": "1507a611",
   "metadata": {},
   "outputs": [],
   "source": [
    "df_fake_test = pd.DataFrame()\n",
    "df_fake_train = pd.DataFrame()\n",
    "df_real_train = pd.DataFrame()\n",
    "df_real_test = pd.DataFrame()\n"
   ]
  },
  {
   "cell_type": "code",
   "execution_count": null,
   "id": "09efde3f",
   "metadata": {},
   "outputs": [],
   "source": [
    "df_fake_train['images'] = fake_train_images\n",
    "df_fake_train['labels'] = 'Fake'\n",
    "print(df_fake_train.shape)\n",
    "df_fake_train.head(3)"
   ]
  },
  {
   "cell_type": "code",
   "execution_count": null,
   "id": "8a78c29e",
   "metadata": {},
   "outputs": [],
   "source": [
    "df_fake_test['images'] = fake_test_images\n",
    "df_fake_test['labels'] = 'Fake'\n",
    "print(df_fake_test.shape)\n",
    "df_fake_test.head(3)"
   ]
  },
  {
   "cell_type": "code",
   "execution_count": null,
   "id": "8af22c66",
   "metadata": {},
   "outputs": [],
   "source": [
    "df_real_train['images'] = real_train_images\n",
    "df_real_train['labels'] = 'Real'\n",
    "print(df_real_train.shape)\n",
    "df_real_train.head(3)"
   ]
  },
  {
   "cell_type": "code",
   "execution_count": null,
   "id": "4d2300ef",
   "metadata": {},
   "outputs": [],
   "source": [
    "df_real_test['images'] = real_test_images\n",
    "df_real_test['labels'] = 'Real'\n",
    "print(df_real_test.shape)\n",
    "df_real_test.head(3)"
   ]
  },
  {
   "cell_type": "code",
   "execution_count": null,
   "id": "f81cf836",
   "metadata": {},
   "outputs": [],
   "source": [
    "df_test = pd.DataFrame()\n",
    "df_train = pd.DataFrame()"
   ]
  },
  {
   "cell_type": "code",
   "execution_count": null,
   "id": "7de18a87",
   "metadata": {},
   "outputs": [],
   "source": [
    "df_test = pd.concat([df_fake_test,df_real_test],axis = 0)"
   ]
  },
  {
   "cell_type": "code",
   "execution_count": null,
   "id": "6657aafd",
   "metadata": {},
   "outputs": [],
   "source": [
    "df_test.shape"
   ]
  },
  {
   "cell_type": "code",
   "execution_count": null,
   "id": "a4fc54df",
   "metadata": {},
   "outputs": [],
   "source": [
    "df_train = pd.concat([df_fake_train,df_real_train],axis = 0)"
   ]
  },
  {
   "cell_type": "code",
   "execution_count": null,
   "id": "530a9aa7",
   "metadata": {},
   "outputs": [],
   "source": [
    "df_train.shape"
   ]
  },
  {
   "cell_type": "code",
   "execution_count": null,
   "id": "7cc31ae1",
   "metadata": {},
   "outputs": [],
   "source": [
    "np.savez_compressed('./Train_images.npz',\n",
    "                    images=df_train.images,\n",
    "                    labels=df_train.labels)"
   ]
  },
  {
   "cell_type": "code",
   "execution_count": null,
   "id": "0714888e",
   "metadata": {},
   "outputs": [],
   "source": [
    "np.savez_compressed('./Test_images.npz',\n",
    "                    images=df_test.images,\n",
    "                    labels=df_test.labels)"
   ]
  },
  {
   "cell_type": "code",
   "execution_count": null,
   "id": "c08fe32e",
   "metadata": {},
   "outputs": [],
   "source": [
    "train = np.load('./Train_images.npz', allow_pickle=True)\n",
    "##train['images'][0]  #load an image\n",
    "##train['label'][0]   #get the label"
   ]
  }
 ],
 "metadata": {
  "kernelspec": {
   "display_name": "Python 3 (ipykernel)",
   "language": "python",
   "name": "python3"
  },
  "language_info": {
   "codemirror_mode": {
    "name": "ipython",
    "version": 3
   },
   "file_extension": ".py",
   "mimetype": "text/x-python",
   "name": "python",
   "nbconvert_exporter": "python",
   "pygments_lexer": "ipython3",
   "version": "3.8.13"
  }
 },
 "nbformat": 4,
 "nbformat_minor": 5
}
