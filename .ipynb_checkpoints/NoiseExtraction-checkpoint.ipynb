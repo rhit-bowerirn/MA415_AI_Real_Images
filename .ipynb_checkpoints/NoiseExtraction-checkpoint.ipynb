{
 "cells": [
  {
   "cell_type": "code",
   "execution_count": 1,
   "id": "980fe53e",
   "metadata": {},
   "outputs": [],
   "source": [
    "import cv2 \n",
    "import os\n",
    "import pandas as pd\n",
    "import numpy as np\n",
    "from os import listdir"
   ]
  },
  {
   "cell_type": "code",
   "execution_count": 2,
   "id": "a8516d77",
   "metadata": {},
   "outputs": [
    {
     "name": "stdout",
     "output_type": "stream",
     "text": [
      "Convolving Done\n",
      "Dataframe Real Test Created\n"
     ]
    }
   ],
   "source": [
    "array_size = 1024\n",
    "\n",
    "noise_out = np.zeros((10000,array_size))\n",
    "kernel = (1/12) * np.array([[-1, 2, -2, 2, -1], [2, -6, 8, -6, 2], [-2, 8, -12, 8, -2], [2, -6, 8, -6, 2], [-1, 2, -2, 2, -1]])\n",
    "# get the path/directory\n",
    "count = 0\n",
    "folder_dir = \"./AIR_Image/test/REAL/\"\n",
    "for images in os.listdir(folder_dir):\n",
    "    img_path = folder_dir + images\n",
    "    cimage = cv2.imread(img_path) \n",
    "    image = cv2.cvtColor(src=cimage, code=cv2.COLOR_BGR2GRAY) \n",
    "    im = output = cv2.filter2D(image, -1, kernel)\n",
    "    im_array = np.array(im).flatten()\n",
    "    noise_out[count] = im_array\n",
    "    #print(count, end=' ')\n",
    "    count = count + 1\n",
    "print(\"Convolving Done\")\n",
    "\n",
    "real_test = pd.DataFrame(noise_out)\n",
    "real_test['class'] = 'Real'\n",
    "\n",
    "print(\"Dataframe Real Test Created\")"
   ]
  },
  {
   "cell_type": "code",
   "execution_count": 3,
   "id": "7550f594",
   "metadata": {},
   "outputs": [
    {
     "name": "stdout",
     "output_type": "stream",
     "text": [
      "Convolving Done\n",
      " Fake Test Dataframe Created\n"
     ]
    }
   ],
   "source": [
    "noise_out = np.zeros((10000,array_size))\n",
    "kernel = (1/12) * np.array([[-1, 2, -2, 2, -1], [2, -6, 8, -6, 2], [-2, 8, -12, 8, -2], [2, -6, 8, -6, 2], [-1, 2, -2, 2, -1]])\n",
    "# get the path/directory\n",
    "count = 0\n",
    "folder_dir = \"./AIR_Image/test/FAKE/\"\n",
    "for images in os.listdir(folder_dir):\n",
    "    img_path = folder_dir + images\n",
    "    cimage = cv2.imread(img_path) \n",
    "    image = cv2.cvtColor(src=cimage, code=cv2.COLOR_BGR2GRAY) \n",
    "    im = output = cv2.filter2D(image, -1, kernel)\n",
    "    im_array = np.array(im).flatten()\n",
    "    noise_out[count] = im_array\n",
    "    #print(count, end=' ')\n",
    "    count = count + 1\n",
    "print(\"Convolving Done\")\n",
    "\n",
    "fake_test = pd.DataFrame(noise_out)\n",
    "fake_test['class'] = 'Fake'\n",
    "\n",
    "print(\" Fake Test Dataframe Created\")"
   ]
  },
  {
   "cell_type": "code",
   "execution_count": 4,
   "id": "f0d409f1",
   "metadata": {},
   "outputs": [
    {
     "name": "stdout",
     "output_type": "stream",
     "text": [
      "Convolving Done\n",
      "Dataframe Real Training Created\n"
     ]
    }
   ],
   "source": [
    "noise_out = np.zeros((50000,array_size))\n",
    "kernel = (1/12) * np.array([[-1, 2, -2, 2, -1], [2, -6, 8, -6, 2], [-2, 8, -12, 8, -2], [2, -6, 8, -6, 2], [-1, 2, -2, 2, -1]])\n",
    "# get the path/directory\n",
    "count = 0\n",
    "folder_dir = \"./AIR_Image/train/REAL/\"\n",
    "for images in os.listdir(folder_dir):\n",
    "    img_path = folder_dir + images\n",
    "    cimage = cv2.imread(img_path) \n",
    "    image = cv2.cvtColor(src=cimage, code=cv2.COLOR_BGR2GRAY) \n",
    "    im = output = cv2.filter2D(image, -1, kernel)\n",
    "    im_array = np.array(im).flatten()\n",
    "    noise_out[count] = im_array\n",
    "    #print(count, end=' ')\n",
    "    count = count + 1\n",
    "print(\"Convolving Done\")\n",
    "\n",
    "real_training = pd.DataFrame(noise_out)\n",
    "real_training['class'] = 'Real'\n",
    "\n",
    "print(\"Dataframe Real Training Created\")"
   ]
  },
  {
   "cell_type": "code",
   "execution_count": 5,
   "id": "309cccfb",
   "metadata": {},
   "outputs": [
    {
     "name": "stdout",
     "output_type": "stream",
     "text": [
      "Convolving Done\n",
      "Dataframe Fake Training Created\n"
     ]
    }
   ],
   "source": [
    "noise_out = np.zeros((50000,array_size))\n",
    "kernel = (1/12) * np.array([[-1, 2, -2, 2, -1], [2, -6, 8, -6, 2], [-2, 8, -12, 8, -2], [2, -6, 8, -6, 2], [-1, 2, -2, 2, -1]])\n",
    "# get the path/directory\n",
    "count = 0\n",
    "folder_dir = \"./AIR_Image/train/REAL/\"\n",
    "for images in os.listdir(folder_dir):\n",
    "    img_path = folder_dir + images\n",
    "    cimage = cv2.imread(img_path) \n",
    "    image = cv2.cvtColor(src=cimage, code=cv2.COLOR_BGR2GRAY) \n",
    "    im = output = cv2.filter2D(image, -1, kernel)\n",
    "    im_array = np.array(im).flatten()\n",
    "    noise_out[count] = im_array\n",
    "    #print(count, end=' ')\n",
    "    count = count + 1\n",
    "print(\"Convolving Done\")\n",
    "\n",
    "fake_training = pd.DataFrame(noise_out)\n",
    "fake_training['class'] = 'Fake'\n",
    "\n",
    "print(\"Dataframe Fake Training Created\")"
   ]
  },
  {
   "cell_type": "code",
   "execution_count": 6,
   "id": "0b1b233e",
   "metadata": {},
   "outputs": [
    {
     "data": {
      "text/html": [
       "<div>\n",
       "<style scoped>\n",
       "    .dataframe tbody tr th:only-of-type {\n",
       "        vertical-align: middle;\n",
       "    }\n",
       "\n",
       "    .dataframe tbody tr th {\n",
       "        vertical-align: top;\n",
       "    }\n",
       "\n",
       "    .dataframe thead th {\n",
       "        text-align: right;\n",
       "    }\n",
       "</style>\n",
       "<table border=\"1\" class=\"dataframe\">\n",
       "  <thead>\n",
       "    <tr style=\"text-align: right;\">\n",
       "      <th></th>\n",
       "      <th>0</th>\n",
       "      <th>1</th>\n",
       "      <th>2</th>\n",
       "      <th>3</th>\n",
       "      <th>4</th>\n",
       "      <th>5</th>\n",
       "      <th>6</th>\n",
       "      <th>7</th>\n",
       "      <th>8</th>\n",
       "      <th>9</th>\n",
       "      <th>...</th>\n",
       "      <th>1015</th>\n",
       "      <th>1016</th>\n",
       "      <th>1017</th>\n",
       "      <th>1018</th>\n",
       "      <th>1019</th>\n",
       "      <th>1020</th>\n",
       "      <th>1021</th>\n",
       "      <th>1022</th>\n",
       "      <th>1023</th>\n",
       "      <th>class</th>\n",
       "    </tr>\n",
       "  </thead>\n",
       "  <tbody>\n",
       "    <tr>\n",
       "      <th>0</th>\n",
       "      <td>0.0</td>\n",
       "      <td>5.0</td>\n",
       "      <td>4.0</td>\n",
       "      <td>2.0</td>\n",
       "      <td>0.0</td>\n",
       "      <td>0.0</td>\n",
       "      <td>0.0</td>\n",
       "      <td>1.0</td>\n",
       "      <td>3.0</td>\n",
       "      <td>0.0</td>\n",
       "      <td>...</td>\n",
       "      <td>23.0</td>\n",
       "      <td>0.0</td>\n",
       "      <td>38.0</td>\n",
       "      <td>0.0</td>\n",
       "      <td>0.0</td>\n",
       "      <td>5.0</td>\n",
       "      <td>0.0</td>\n",
       "      <td>0.0</td>\n",
       "      <td>16.0</td>\n",
       "      <td>Fake</td>\n",
       "    </tr>\n",
       "    <tr>\n",
       "      <th>1</th>\n",
       "      <td>5.0</td>\n",
       "      <td>2.0</td>\n",
       "      <td>0.0</td>\n",
       "      <td>0.0</td>\n",
       "      <td>0.0</td>\n",
       "      <td>0.0</td>\n",
       "      <td>0.0</td>\n",
       "      <td>8.0</td>\n",
       "      <td>0.0</td>\n",
       "      <td>1.0</td>\n",
       "      <td>...</td>\n",
       "      <td>0.0</td>\n",
       "      <td>15.0</td>\n",
       "      <td>0.0</td>\n",
       "      <td>1.0</td>\n",
       "      <td>0.0</td>\n",
       "      <td>0.0</td>\n",
       "      <td>0.0</td>\n",
       "      <td>1.0</td>\n",
       "      <td>0.0</td>\n",
       "      <td>Fake</td>\n",
       "    </tr>\n",
       "    <tr>\n",
       "      <th>2</th>\n",
       "      <td>17.0</td>\n",
       "      <td>0.0</td>\n",
       "      <td>0.0</td>\n",
       "      <td>0.0</td>\n",
       "      <td>21.0</td>\n",
       "      <td>0.0</td>\n",
       "      <td>0.0</td>\n",
       "      <td>9.0</td>\n",
       "      <td>0.0</td>\n",
       "      <td>1.0</td>\n",
       "      <td>...</td>\n",
       "      <td>1.0</td>\n",
       "      <td>1.0</td>\n",
       "      <td>12.0</td>\n",
       "      <td>0.0</td>\n",
       "      <td>0.0</td>\n",
       "      <td>4.0</td>\n",
       "      <td>7.0</td>\n",
       "      <td>0.0</td>\n",
       "      <td>9.0</td>\n",
       "      <td>Fake</td>\n",
       "    </tr>\n",
       "  </tbody>\n",
       "</table>\n",
       "<p>3 rows × 1025 columns</p>\n",
       "</div>"
      ],
      "text/plain": [
       "      0    1    2    3     4    5    6    7    8    9  ...  1015  1016  1017  \\\n",
       "0   0.0  5.0  4.0  2.0   0.0  0.0  0.0  1.0  3.0  0.0  ...  23.0   0.0  38.0   \n",
       "1   5.0  2.0  0.0  0.0   0.0  0.0  0.0  8.0  0.0  1.0  ...   0.0  15.0   0.0   \n",
       "2  17.0  0.0  0.0  0.0  21.0  0.0  0.0  9.0  0.0  1.0  ...   1.0   1.0  12.0   \n",
       "\n",
       "   1018  1019  1020  1021  1022  1023  class  \n",
       "0   0.0   0.0   5.0   0.0   0.0  16.0   Fake  \n",
       "1   1.0   0.0   0.0   0.0   1.0   0.0   Fake  \n",
       "2   0.0   0.0   4.0   7.0   0.0   9.0   Fake  \n",
       "\n",
       "[3 rows x 1025 columns]"
      ]
     },
     "execution_count": 6,
     "metadata": {},
     "output_type": "execute_result"
    }
   ],
   "source": [
    "fake_training.head(3)"
   ]
  },
  {
   "cell_type": "code",
   "execution_count": 1,
   "id": "c7403273",
   "metadata": {},
   "outputs": [
    {
     "ename": "NameError",
     "evalue": "name 'np' is not defined",
     "output_type": "error",
     "traceback": [
      "\u001b[1;31m---------------------------------------------------------------------------\u001b[0m",
      "\u001b[1;31mNameError\u001b[0m                                 Traceback (most recent call last)",
      "Input \u001b[1;32mIn [1]\u001b[0m, in \u001b[0;36m<cell line: 3>\u001b[1;34m()\u001b[0m\n\u001b[0;32m      1\u001b[0m array_size \u001b[38;5;241m=\u001b[39m \u001b[38;5;241m1024\u001b[39m\n\u001b[1;32m----> 3\u001b[0m noise_out \u001b[38;5;241m=\u001b[39m \u001b[43mnp\u001b[49m\u001b[38;5;241m.\u001b[39mzeros((\u001b[38;5;241m10000\u001b[39m,array_size))\n\u001b[0;32m      4\u001b[0m kernel \u001b[38;5;241m=\u001b[39m (\u001b[38;5;241m1\u001b[39m\u001b[38;5;241m/\u001b[39m\u001b[38;5;241m12\u001b[39m) \u001b[38;5;241m*\u001b[39m np\u001b[38;5;241m.\u001b[39marray([[\u001b[38;5;241m-\u001b[39m\u001b[38;5;241m1\u001b[39m, \u001b[38;5;241m2\u001b[39m, \u001b[38;5;241m-\u001b[39m\u001b[38;5;241m2\u001b[39m, \u001b[38;5;241m2\u001b[39m, \u001b[38;5;241m-\u001b[39m\u001b[38;5;241m1\u001b[39m], [\u001b[38;5;241m2\u001b[39m, \u001b[38;5;241m-\u001b[39m\u001b[38;5;241m6\u001b[39m, \u001b[38;5;241m8\u001b[39m, \u001b[38;5;241m-\u001b[39m\u001b[38;5;241m6\u001b[39m, \u001b[38;5;241m2\u001b[39m], [\u001b[38;5;241m-\u001b[39m\u001b[38;5;241m2\u001b[39m, \u001b[38;5;241m8\u001b[39m, \u001b[38;5;241m-\u001b[39m\u001b[38;5;241m12\u001b[39m, \u001b[38;5;241m8\u001b[39m, \u001b[38;5;241m-\u001b[39m\u001b[38;5;241m2\u001b[39m], [\u001b[38;5;241m2\u001b[39m, \u001b[38;5;241m-\u001b[39m\u001b[38;5;241m6\u001b[39m, \u001b[38;5;241m8\u001b[39m, \u001b[38;5;241m-\u001b[39m\u001b[38;5;241m6\u001b[39m, \u001b[38;5;241m2\u001b[39m], [\u001b[38;5;241m-\u001b[39m\u001b[38;5;241m1\u001b[39m, \u001b[38;5;241m2\u001b[39m, \u001b[38;5;241m-\u001b[39m\u001b[38;5;241m2\u001b[39m, \u001b[38;5;241m2\u001b[39m, \u001b[38;5;241m-\u001b[39m\u001b[38;5;241m1\u001b[39m]])\n\u001b[0;32m      5\u001b[0m \u001b[38;5;66;03m# get the path/directory\u001b[39;00m\n",
      "\u001b[1;31mNameError\u001b[0m: name 'np' is not defined"
     ]
    }
   ],
   "source": [
    "array_size = 1024\n",
    "\n",
    "noise_out = np.zeros((10000,array_size))\n",
    "kernel = (1/12) * np.array([[-1, 2, -2, 2, -1], [2, -6, 8, -6, 2], [-2, 8, -12, 8, -2], [2, -6, 8, -6, 2], [-1, 2, -2, 2, -1]])\n",
    "# get the path/directory\n",
    "count = 0\n",
    "folder_dir = \"./AIR_Image/test/REAL/\"\n",
    "for images in os.listdir(folder_dir):\n",
    "    if (count == 1):\n",
    "        img_path = folder_dir + images\n",
    "        cimage = cv2.imread(img_path) \n",
    "        image = cv2.cvtColor(src=cimage, code=cv2.COLOR_BGR2GRAY) \n",
    "        im = output = cv2.filter2D(image, -1, kernel)\n",
    "        imshow(im)\n",
    "        return\n"
   ]
  },
  {
   "cell_type": "code",
   "execution_count": null,
   "id": "8ebd5640",
   "metadata": {},
   "outputs": [],
   "source": []
  },
  {
   "cell_type": "code",
   "execution_count": null,
   "id": "7e3fc958",
   "metadata": {},
   "outputs": [],
   "source": []
  },
  {
   "cell_type": "code",
   "execution_count": null,
   "id": "204c3146",
   "metadata": {},
   "outputs": [],
   "source": []
  },
  {
   "cell_type": "code",
   "execution_count": null,
   "id": "792d81ee",
   "metadata": {},
   "outputs": [],
   "source": []
  }
 ],
 "metadata": {
  "kernelspec": {
   "display_name": "Python 3 (ipykernel)",
   "language": "python",
   "name": "python3"
  },
  "language_info": {
   "codemirror_mode": {
    "name": "ipython",
    "version": 3
   },
   "file_extension": ".py",
   "mimetype": "text/x-python",
   "name": "python",
   "nbconvert_exporter": "python",
   "pygments_lexer": "ipython3",
   "version": "3.8.13"
  }
 },
 "nbformat": 4,
 "nbformat_minor": 5
}
