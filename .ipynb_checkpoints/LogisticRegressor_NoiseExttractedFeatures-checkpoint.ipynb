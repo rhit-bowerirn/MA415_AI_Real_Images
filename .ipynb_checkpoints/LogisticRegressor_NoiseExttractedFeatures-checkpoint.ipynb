{
 "cells": [
  {
   "cell_type": "code",
   "execution_count": 2,
   "id": "980fe53e",
   "metadata": {},
   "outputs": [
    {
     "ename": "ModuleNotFoundError",
     "evalue": "No module named 'cv2'",
     "output_type": "error",
     "traceback": [
      "\u001b[1;31m---------------------------------------------------------------------------\u001b[0m",
      "\u001b[1;31mModuleNotFoundError\u001b[0m                       Traceback (most recent call last)",
      "Input \u001b[1;32mIn [2]\u001b[0m, in \u001b[0;36m<cell line: 1>\u001b[1;34m()\u001b[0m\n\u001b[1;32m----> 1\u001b[0m \u001b[38;5;28;01mimport\u001b[39;00m \u001b[38;5;21;01mcv2\u001b[39;00m \n\u001b[0;32m      2\u001b[0m \u001b[38;5;28;01mimport\u001b[39;00m \u001b[38;5;21;01mos\u001b[39;00m\n\u001b[0;32m      3\u001b[0m \u001b[38;5;28;01mimport\u001b[39;00m \u001b[38;5;21;01mpandas\u001b[39;00m \u001b[38;5;28;01mas\u001b[39;00m \u001b[38;5;21;01mpd\u001b[39;00m\n",
      "\u001b[1;31mModuleNotFoundError\u001b[0m: No module named 'cv2'"
     ]
    }
   ],
   "source": [
    "import cv2 \n",
    "import os\n",
    "import pandas as pd\n",
    "import numpy as np\n",
    "from os import listdir"
   ]
  },
  {
   "cell_type": "code",
   "execution_count": null,
   "id": "a8516d77",
   "metadata": {},
   "outputs": [],
   "source": [
    "array_size = 1024\n",
    "\n",
    "noise_out = np.zeros((10000,array_size))\n",
    "kernel = (1/12) * np.array([[-1, 2, -2, 2, -1], [2, -6, 8, -6, 2], [-2, 8, -12, 8, -2], [2, -6, 8, -6, 2], [-1, 2, -2, 2, -1]])\n",
    "# get the path/directory\n",
    "count = 0\n",
    "folder_dir = \"./AIR_Image/test/REAL/\"\n",
    "for images in os.listdir(folder_dir):\n",
    "    img_path = folder_dir + images\n",
    "    cimage = cv2.imread(img_path) \n",
    "    image = cv2.cvtColor(src=cimage, code=cv2.COLOR_BGR2GRAY) \n",
    "    im = output = cv2.filter2D(image, -1, kernel)\n",
    "    im_array = np.array(im).flatten()\n",
    "    noise_out[count] = im_array\n",
    "    #print(count, end=' ')\n",
    "    count = count + 1\n",
    "print(\"Convolving Done\")\n",
    "\n",
    "real_test = pd.DataFrame(noise_out)\n",
    "real_test['class'] = 'Real'\n",
    "\n",
    "print(\"Dataframe Real Test Created\")"
   ]
  },
  {
   "cell_type": "code",
   "execution_count": null,
   "id": "7550f594",
   "metadata": {},
   "outputs": [],
   "source": [
    "noise_out = np.zeros((10000,array_size))\n",
    "kernel = (1/12) * np.array([[-1, 2, -2, 2, -1], [2, -6, 8, -6, 2], [-2, 8, -12, 8, -2], [2, -6, 8, -6, 2], [-1, 2, -2, 2, -1]])\n",
    "# get the path/directory\n",
    "count = 0\n",
    "folder_dir = \"./AIR_Image/test/FAKE/\"\n",
    "for images in os.listdir(folder_dir):\n",
    "    img_path = folder_dir + images\n",
    "    cimage = cv2.imread(img_path) \n",
    "    image = cv2.cvtColor(src=cimage, code=cv2.COLOR_BGR2GRAY) \n",
    "    im = output = cv2.filter2D(image, -1, kernel)\n",
    "    im_array = np.array(im).flatten()\n",
    "    noise_out[count] = im_array\n",
    "    #print(count, end=' ')\n",
    "    count = count + 1\n",
    "print(\"Convolving Done\")\n",
    "\n",
    "fake_test = pd.DataFrame(noise_out)\n",
    "fake_test['class'] = 'Fake'\n",
    "\n",
    "print(\" Fake Test Dataframe Created\")"
   ]
  },
  {
   "cell_type": "code",
   "execution_count": null,
   "id": "f0d409f1",
   "metadata": {},
   "outputs": [],
   "source": [
    "noise_out = np.zeros((50000,array_size))\n",
    "kernel = (1/12) * np.array([[-1, 2, -2, 2, -1], [2, -6, 8, -6, 2], [-2, 8, -12, 8, -2], [2, -6, 8, -6, 2], [-1, 2, -2, 2, -1]])\n",
    "# get the path/directory\n",
    "count = 0\n",
    "folder_dir = \"./AIR_Image/train/REAL/\"\n",
    "for images in os.listdir(folder_dir):\n",
    "    img_path = folder_dir + images\n",
    "    cimage = cv2.imread(img_path) \n",
    "    image = cv2.cvtColor(src=cimage, code=cv2.COLOR_BGR2GRAY) \n",
    "    im = output = cv2.filter2D(image, -1, kernel)\n",
    "    im_array = np.array(im).flatten()\n",
    "    noise_out[count] = im_array\n",
    "    #print(count, end=' ')\n",
    "    count = count + 1\n",
    "print(\"Convolving Done\")\n",
    "\n",
    "real_training = pd.DataFrame(noise_out)\n",
    "real_training['class'] = 'Real'\n",
    "\n",
    "print(\"Dataframe Real Training Created\")"
   ]
  },
  {
   "cell_type": "code",
   "execution_count": null,
   "id": "309cccfb",
   "metadata": {},
   "outputs": [],
   "source": [
    "noise_out = np.zeros((50000,array_size))\n",
    "kernel = (1/12) * np.array([[-1, 2, -2, 2, -1], [2, -6, 8, -6, 2], [-2, 8, -12, 8, -2], [2, -6, 8, -6, 2], [-1, 2, -2, 2, -1]])\n",
    "# get the path/directory\n",
    "count = 0\n",
    "folder_dir = \"./AIR_Image/train/REAL/\"\n",
    "for images in os.listdir(folder_dir):\n",
    "    img_path = folder_dir + images\n",
    "    cimage = cv2.imread(img_path) \n",
    "    image = cv2.cvtColor(src=cimage, code=cv2.COLOR_BGR2GRAY) \n",
    "    im = output = cv2.filter2D(image, -1, kernel)\n",
    "    im_array = np.array(im).flatten()\n",
    "    noise_out[count] = im_array\n",
    "    #print(count, end=' ')\n",
    "    count = count + 1\n",
    "print(\"Convolving Done\")\n",
    "\n",
    "fake_training = pd.DataFrame(noise_out)\n",
    "fake_training['class'] = 'Fake'\n",
    "\n",
    "print(\"Dataframe Fake Training Created\")"
   ]
  },
  {
   "cell_type": "code",
   "execution_count": null,
   "id": "0b1b233e",
   "metadata": {},
   "outputs": [],
   "source": [
    "fake_training.head(3)"
   ]
  },
  {
   "cell_type": "code",
   "execution_count": null,
   "id": "c7403273",
   "metadata": {},
   "outputs": [],
   "source": []
  },
  {
   "cell_type": "code",
   "execution_count": null,
   "id": "8ebd5640",
   "metadata": {},
   "outputs": [],
   "source": []
  },
  {
   "cell_type": "code",
   "execution_count": null,
   "id": "7e3fc958",
   "metadata": {},
   "outputs": [],
   "source": []
  },
  {
   "cell_type": "code",
   "execution_count": null,
   "id": "204c3146",
   "metadata": {},
   "outputs": [],
   "source": []
  },
  {
   "cell_type": "code",
   "execution_count": null,
   "id": "792d81ee",
   "metadata": {},
   "outputs": [],
   "source": []
  }
 ],
 "metadata": {
  "kernelspec": {
   "display_name": "Python 3 (ipykernel)",
   "language": "python",
   "name": "python3"
  },
  "language_info": {
   "codemirror_mode": {
    "name": "ipython",
    "version": 3
   },
   "file_extension": ".py",
   "mimetype": "text/x-python",
   "name": "python",
   "nbconvert_exporter": "python",
   "pygments_lexer": "ipython3",
   "version": "3.8.13"
  }
 },
 "nbformat": 4,
 "nbformat_minor": 5
}
