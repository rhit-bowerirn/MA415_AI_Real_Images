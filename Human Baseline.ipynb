{
 "cells": [
  {
   "cell_type": "code",
   "execution_count": 188,
   "id": "ca88744c",
   "metadata": {},
   "outputs": [],
   "source": [
    "import pandas as pd\n",
    "import numpy as np\n",
    "from Loader import train_data, test_data, train_data_vgg16, test_data_vgg16\n",
    "import plotly.express as px\n",
    "import plotly.graph_objects as go\n",
    "import matplotlib.pyplot as plt\n",
    "from sklearn.preprocessing import LabelEncoder\n",
    "from PIL import Image as image"
   ]
  },
  {
   "cell_type": "code",
   "execution_count": 189,
   "id": "ec4b2a4b",
   "metadata": {},
   "outputs": [],
   "source": [
    "df_train = train_data()"
   ]
  },
  {
   "cell_type": "code",
   "execution_count": 190,
   "id": "9c5c665e",
   "metadata": {},
   "outputs": [],
   "source": [
    "df_train = df_train.sample(frac=1.0)"
   ]
  },
  {
   "cell_type": "code",
   "execution_count": 191,
   "id": "79942c16",
   "metadata": {},
   "outputs": [
    {
     "name": "stdout",
     "output_type": "stream",
     "text": [
      "         0    1    2    3    4   5    6    7   8    9  ... 3062 3063 3064  \\\n",
      "43632   96   94    9   98   96  13  100   98  15  103  ...   69  142  131   \n",
      "24352  187  159  122  134  106  69  135  109  72  130  ...   68  129  105   \n",
      "94497   22   18   17    8    4   3    8    5   0   16  ...   72  129  142   \n",
      "\n",
      "      3065 3066 3067 3068 3069 3070 3071  \n",
      "43632   67  139  128   64  136  125   61  \n",
      "24352   69  123   99   61  176  152  114  \n",
      "94497   73  115  127   61   97  109   45  \n",
      "\n",
      "[3 rows x 3072 columns]\n"
     ]
    },
    {
     "data": {
      "text/plain": [
       "array([0, 0, 1, ..., 1, 0, 0])"
      ]
     },
     "execution_count": 191,
     "metadata": {},
     "output_type": "execute_result"
    }
   ],
   "source": [
    "X = df_train.iloc[:,:-1]\n",
    "print(X.head(3))\n",
    "y = df_train.iloc[:,-1]\n",
    "le = LabelEncoder()\n",
    "ans = y\n",
    "y = le.fit_transform(y)\n",
    "y"
   ]
  },
  {
   "cell_type": "code",
   "execution_count": 192,
   "id": "7ecfe86a",
   "metadata": {},
   "outputs": [],
   "source": [
    "X = np.uint8(X)"
   ]
  },
  {
   "cell_type": "code",
   "execution_count": 193,
   "id": "cb65f5d4",
   "metadata": {},
   "outputs": [],
   "source": [
    "for i in range(16):\n",
    "    plt.imsave(str(i)+\".jpg\",np.array(X[i]).reshape(32,32,3) , cmap='Greys') \n",
    "    "
   ]
  },
  {
   "cell_type": "code",
   "execution_count": 194,
   "id": "33c1d9a2",
   "metadata": {},
   "outputs": [],
   "source": [
    "y = le.inverse_transform(y)"
   ]
  },
  {
   "cell_type": "code",
   "execution_count": 196,
   "id": "95284fbe",
   "metadata": {},
   "outputs": [
    {
     "name": "stdout",
     "output_type": "stream",
     "text": [
      "Fake\n",
      "Fake\n",
      "Real\n",
      "Fake\n",
      "Fake\n",
      "Real\n",
      "Fake\n",
      "Fake\n",
      "Fake\n",
      "Real\n",
      "Real\n",
      "Fake\n",
      "Fake\n",
      "Fake\n",
      "Real\n",
      "Real\n"
     ]
    }
   ],
   "source": [
    "for i in range(16):\n",
    "    print(y[i])"
   ]
  },
  {
   "cell_type": "code",
   "execution_count": null,
   "id": "fe897638",
   "metadata": {},
   "outputs": [],
   "source": []
  }
 ],
 "metadata": {
  "kernelspec": {
   "display_name": "Python 3 (ipykernel)",
   "language": "python",
   "name": "python3"
  },
  "language_info": {
   "codemirror_mode": {
    "name": "ipython",
    "version": 3
   },
   "file_extension": ".py",
   "mimetype": "text/x-python",
   "name": "python",
   "nbconvert_exporter": "python",
   "pygments_lexer": "ipython3",
   "version": "3.8.13"
  }
 },
 "nbformat": 4,
 "nbformat_minor": 5
}
