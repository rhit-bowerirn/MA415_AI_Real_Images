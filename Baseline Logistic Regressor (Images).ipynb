{
 "cells": [
  {
   "cell_type": "markdown",
   "id": "2ce1c497",
   "metadata": {},
   "source": [
    "# Setting up Logistic Regression for the AI vs Human images"
   ]
  },
  {
   "cell_type": "code",
   "execution_count": 10,
   "id": "dc9daed2",
   "metadata": {},
   "outputs": [],
   "source": [
    "import pandas as pd\n",
    "import numpy as np\n",
    "from sklearn.linear_model import LogisticRegression, LogisticRegressionCV\n",
    "from sklearn.model_selection import cross_validate\n",
    "from time import time\n",
    "from Loader import train_data, test_data"
   ]
  },
  {
   "cell_type": "code",
   "execution_count": 19,
   "id": "9abf9984",
   "metadata": {},
   "outputs": [
    {
     "name": "stdout",
     "output_type": "stream",
     "text": [
      "(100000, 3073)\n"
     ]
    },
    {
     "data": {
      "text/html": [
       "<div>\n",
       "<style scoped>\n",
       "    .dataframe tbody tr th:only-of-type {\n",
       "        vertical-align: middle;\n",
       "    }\n",
       "\n",
       "    .dataframe tbody tr th {\n",
       "        vertical-align: top;\n",
       "    }\n",
       "\n",
       "    .dataframe thead th {\n",
       "        text-align: right;\n",
       "    }\n",
       "</style>\n",
       "<table border=\"1\" class=\"dataframe\">\n",
       "  <thead>\n",
       "    <tr style=\"text-align: right;\">\n",
       "      <th></th>\n",
       "      <th>0</th>\n",
       "      <th>1</th>\n",
       "      <th>2</th>\n",
       "      <th>3</th>\n",
       "      <th>4</th>\n",
       "      <th>5</th>\n",
       "      <th>6</th>\n",
       "      <th>7</th>\n",
       "      <th>8</th>\n",
       "      <th>9</th>\n",
       "      <th>...</th>\n",
       "      <th>3063</th>\n",
       "      <th>3064</th>\n",
       "      <th>3065</th>\n",
       "      <th>3066</th>\n",
       "      <th>3067</th>\n",
       "      <th>3068</th>\n",
       "      <th>3069</th>\n",
       "      <th>3070</th>\n",
       "      <th>3071</th>\n",
       "      <th>label</th>\n",
       "    </tr>\n",
       "  </thead>\n",
       "  <tbody>\n",
       "    <tr>\n",
       "      <th>0</th>\n",
       "      <td>114</td>\n",
       "      <td>112</td>\n",
       "      <td>113</td>\n",
       "      <td>119</td>\n",
       "      <td>117</td>\n",
       "      <td>118</td>\n",
       "      <td>117</td>\n",
       "      <td>117</td>\n",
       "      <td>115</td>\n",
       "      <td>111</td>\n",
       "      <td>...</td>\n",
       "      <td>100</td>\n",
       "      <td>91</td>\n",
       "      <td>86</td>\n",
       "      <td>99</td>\n",
       "      <td>91</td>\n",
       "      <td>88</td>\n",
       "      <td>98</td>\n",
       "      <td>90</td>\n",
       "      <td>87</td>\n",
       "      <td>Fake</td>\n",
       "    </tr>\n",
       "    <tr>\n",
       "      <th>1</th>\n",
       "      <td>206</td>\n",
       "      <td>204</td>\n",
       "      <td>205</td>\n",
       "      <td>215</td>\n",
       "      <td>213</td>\n",
       "      <td>214</td>\n",
       "      <td>224</td>\n",
       "      <td>222</td>\n",
       "      <td>223</td>\n",
       "      <td>228</td>\n",
       "      <td>...</td>\n",
       "      <td>126</td>\n",
       "      <td>125</td>\n",
       "      <td>123</td>\n",
       "      <td>124</td>\n",
       "      <td>123</td>\n",
       "      <td>121</td>\n",
       "      <td>123</td>\n",
       "      <td>122</td>\n",
       "      <td>120</td>\n",
       "      <td>Fake</td>\n",
       "    </tr>\n",
       "    <tr>\n",
       "      <th>2</th>\n",
       "      <td>153</td>\n",
       "      <td>185</td>\n",
       "      <td>208</td>\n",
       "      <td>130</td>\n",
       "      <td>162</td>\n",
       "      <td>185</td>\n",
       "      <td>153</td>\n",
       "      <td>185</td>\n",
       "      <td>208</td>\n",
       "      <td>162</td>\n",
       "      <td>...</td>\n",
       "      <td>167</td>\n",
       "      <td>178</td>\n",
       "      <td>172</td>\n",
       "      <td>166</td>\n",
       "      <td>177</td>\n",
       "      <td>171</td>\n",
       "      <td>165</td>\n",
       "      <td>176</td>\n",
       "      <td>170</td>\n",
       "      <td>Fake</td>\n",
       "    </tr>\n",
       "  </tbody>\n",
       "</table>\n",
       "<p>3 rows × 3073 columns</p>\n",
       "</div>"
      ],
      "text/plain": [
       "     0    1    2    3    4    5    6    7    8    9  ... 3063 3064 3065 3066  \\\n",
       "0  114  112  113  119  117  118  117  117  115  111  ...  100   91   86   99   \n",
       "1  206  204  205  215  213  214  224  222  223  228  ...  126  125  123  124   \n",
       "2  153  185  208  130  162  185  153  185  208  162  ...  167  178  172  166   \n",
       "\n",
       "  3067 3068 3069 3070 3071 label  \n",
       "0   91   88   98   90   87  Fake  \n",
       "1  123  121  123  122  120  Fake  \n",
       "2  177  171  165  176  170  Fake  \n",
       "\n",
       "[3 rows x 3073 columns]"
      ]
     },
     "execution_count": 19,
     "metadata": {},
     "output_type": "execute_result"
    }
   ],
   "source": [
    "df_train = train_data()\n",
    "print(df_train.shape)\n",
    "df_train.head(3)"
   ]
  },
  {
   "cell_type": "code",
   "execution_count": 18,
   "id": "d818b92e",
   "metadata": {},
   "outputs": [
    {
     "name": "stdout",
     "output_type": "stream",
     "text": [
      "(20000, 3073)\n"
     ]
    },
    {
     "data": {
      "text/html": [
       "<div>\n",
       "<style scoped>\n",
       "    .dataframe tbody tr th:only-of-type {\n",
       "        vertical-align: middle;\n",
       "    }\n",
       "\n",
       "    .dataframe tbody tr th {\n",
       "        vertical-align: top;\n",
       "    }\n",
       "\n",
       "    .dataframe thead th {\n",
       "        text-align: right;\n",
       "    }\n",
       "</style>\n",
       "<table border=\"1\" class=\"dataframe\">\n",
       "  <thead>\n",
       "    <tr style=\"text-align: right;\">\n",
       "      <th></th>\n",
       "      <th>0</th>\n",
       "      <th>1</th>\n",
       "      <th>2</th>\n",
       "      <th>3</th>\n",
       "      <th>4</th>\n",
       "      <th>5</th>\n",
       "      <th>6</th>\n",
       "      <th>7</th>\n",
       "      <th>8</th>\n",
       "      <th>9</th>\n",
       "      <th>...</th>\n",
       "      <th>3063</th>\n",
       "      <th>3064</th>\n",
       "      <th>3065</th>\n",
       "      <th>3066</th>\n",
       "      <th>3067</th>\n",
       "      <th>3068</th>\n",
       "      <th>3069</th>\n",
       "      <th>3070</th>\n",
       "      <th>3071</th>\n",
       "      <th>label</th>\n",
       "    </tr>\n",
       "  </thead>\n",
       "  <tbody>\n",
       "    <tr>\n",
       "      <th>0</th>\n",
       "      <td>11</td>\n",
       "      <td>45</td>\n",
       "      <td>54</td>\n",
       "      <td>14</td>\n",
       "      <td>48</td>\n",
       "      <td>57</td>\n",
       "      <td>20</td>\n",
       "      <td>52</td>\n",
       "      <td>63</td>\n",
       "      <td>26</td>\n",
       "      <td>...</td>\n",
       "      <td>59</td>\n",
       "      <td>71</td>\n",
       "      <td>71</td>\n",
       "      <td>60</td>\n",
       "      <td>72</td>\n",
       "      <td>72</td>\n",
       "      <td>46</td>\n",
       "      <td>58</td>\n",
       "      <td>58</td>\n",
       "      <td>Fake</td>\n",
       "    </tr>\n",
       "    <tr>\n",
       "      <th>1</th>\n",
       "      <td>86</td>\n",
       "      <td>84</td>\n",
       "      <td>85</td>\n",
       "      <td>60</td>\n",
       "      <td>58</td>\n",
       "      <td>59</td>\n",
       "      <td>56</td>\n",
       "      <td>54</td>\n",
       "      <td>55</td>\n",
       "      <td>87</td>\n",
       "      <td>...</td>\n",
       "      <td>61</td>\n",
       "      <td>59</td>\n",
       "      <td>60</td>\n",
       "      <td>57</td>\n",
       "      <td>55</td>\n",
       "      <td>56</td>\n",
       "      <td>59</td>\n",
       "      <td>57</td>\n",
       "      <td>58</td>\n",
       "      <td>Fake</td>\n",
       "    </tr>\n",
       "    <tr>\n",
       "      <th>2</th>\n",
       "      <td>96</td>\n",
       "      <td>80</td>\n",
       "      <td>90</td>\n",
       "      <td>97</td>\n",
       "      <td>81</td>\n",
       "      <td>92</td>\n",
       "      <td>102</td>\n",
       "      <td>86</td>\n",
       "      <td>97</td>\n",
       "      <td>110</td>\n",
       "      <td>...</td>\n",
       "      <td>75</td>\n",
       "      <td>65</td>\n",
       "      <td>66</td>\n",
       "      <td>74</td>\n",
       "      <td>64</td>\n",
       "      <td>62</td>\n",
       "      <td>70</td>\n",
       "      <td>61</td>\n",
       "      <td>56</td>\n",
       "      <td>Fake</td>\n",
       "    </tr>\n",
       "  </tbody>\n",
       "</table>\n",
       "<p>3 rows × 3073 columns</p>\n",
       "</div>"
      ],
      "text/plain": [
       "    0   1   2   3   4   5    6   7   8    9  ... 3063 3064 3065 3066 3067  \\\n",
       "0  11  45  54  14  48  57   20  52  63   26  ...   59   71   71   60   72   \n",
       "1  86  84  85  60  58  59   56  54  55   87  ...   61   59   60   57   55   \n",
       "2  96  80  90  97  81  92  102  86  97  110  ...   75   65   66   74   64   \n",
       "\n",
       "  3068 3069 3070 3071 label  \n",
       "0   72   46   58   58  Fake  \n",
       "1   56   59   57   58  Fake  \n",
       "2   62   70   61   56  Fake  \n",
       "\n",
       "[3 rows x 3073 columns]"
      ]
     },
     "execution_count": 18,
     "metadata": {},
     "output_type": "execute_result"
    }
   ],
   "source": [
    "df_test = test_data()\n",
    "print(df_test.shape)\n",
    "df_test.head(3)"
   ]
  },
  {
   "cell_type": "code",
   "execution_count": 13,
   "id": "eca0e91c",
   "metadata": {},
   "outputs": [],
   "source": [
    "df_sample = df_train.sample(frac=0.1, random_state=0)"
   ]
  },
  {
   "cell_type": "code",
   "execution_count": 16,
   "id": "426bb235",
   "metadata": {},
   "outputs": [],
   "source": [
    "X = df_sample.drop('label', axis=1)\n",
    "y = df_sample.label"
   ]
  },
  {
   "cell_type": "code",
   "execution_count": 17,
   "id": "caa4fc6b",
   "metadata": {},
   "outputs": [
    {
     "name": "stdout",
     "output_type": "stream",
     "text": [
      "Elapsed Time for Logistic Regression: 74.39588809013367\n",
      "\n",
      "Baseline Accuracy: 0.7183\n"
     ]
    }
   ],
   "source": [
    "time_start = time()\n",
    "lgr = LogisticRegression(n_jobs=-1)\n",
    "\n",
    "lgr.fit(X,y)\n",
    "\n",
    "time_stop = time()\n",
    "print('Elapsed Time for Logistic Regression:', time_stop-time_start)\n",
    "print()\n",
    "print('Baseline Training Accuracy:', lgr.score(X,y))"
   ]
  },
  {
   "cell_type": "markdown",
   "id": "725bc9ce",
   "metadata": {},
   "source": [
    "### Cross validation"
   ]
  },
  {
   "cell_type": "code",
   "execution_count": 20,
   "id": "01a36400",
   "metadata": {},
   "outputs": [],
   "source": []
  },
  {
   "cell_type": "code",
   "execution_count": null,
   "id": "97f969dc",
   "metadata": {},
   "outputs": [],
   "source": []
  },
  {
   "cell_type": "code",
   "execution_count": null,
   "id": "2acfca71",
   "metadata": {},
   "outputs": [],
   "source": []
  },
  {
   "cell_type": "code",
   "execution_count": null,
   "id": "e478274d",
   "metadata": {},
   "outputs": [],
   "source": []
  },
  {
   "cell_type": "code",
   "execution_count": null,
   "id": "d006ac08",
   "metadata": {},
   "outputs": [],
   "source": []
  },
  {
   "cell_type": "code",
   "execution_count": null,
   "id": "f166cbad",
   "metadata": {},
   "outputs": [],
   "source": []
  },
  {
   "cell_type": "raw",
   "id": "b1733196",
   "metadata": {},
   "source": [
    "train = np.load('./Train_images.npz',allow_pickle=True)\n",
    "test = np.load('./Test_images.npz',allow_pickle=True)"
   ]
  },
  {
   "cell_type": "raw",
   "id": "de153d1e",
   "metadata": {},
   "source": [
    "n = len(train['images'])\n",
    "comb = comb.reshape((n, -1))"
   ]
  },
  {
   "cell_type": "raw",
   "id": "797df83e",
   "metadata": {},
   "source": [
    "df = pd.DataFrame(comb)\n",
    "df.head(3)"
   ]
  },
  {
   "cell_type": "raw",
   "id": "a3456dcd",
   "metadata": {},
   "source": [
    "##train['images'][0]  #load an image\n",
    "##train['labels'][0]   #get the label\n",
    "\n",
    "# print(len(train['images'])) # 100000 images in this set\n",
    "# print(train['labels'][0])   # Returns whether the selected image is real or fake"
   ]
  },
  {
   "cell_type": "raw",
   "id": "a52f6182",
   "metadata": {},
   "source": [
    "img = []\n",
    "ts = time()\n",
    "for k in range(10):\n",
    "    img.append(train['images'][k].reshape(1, 32*32*3))\n",
    "    \n",
    "tss = time()\n",
    "print(tss-ts)\n",
    "img"
   ]
  },
  {
   "cell_type": "raw",
   "id": "d449b7dd",
   "metadata": {},
   "source": [
    "# time_start = time()\n",
    "# feat = []\n",
    "# for k in range(20):\n",
    "#     img = Image.fromarray(train['images'][k], 'RGB')\n",
    "#     feat.append(img)\n",
    "    \n",
    "# time_stop = time()\n",
    "# print('Elapsed Time for Features:', time_stop-time_start)"
   ]
  }
 ],
 "metadata": {
  "kernelspec": {
   "display_name": "Python 3 (ipykernel)",
   "language": "python",
   "name": "python3"
  },
  "language_info": {
   "codemirror_mode": {
    "name": "ipython",
    "version": 3
   },
   "file_extension": ".py",
   "mimetype": "text/x-python",
   "name": "python",
   "nbconvert_exporter": "python",
   "pygments_lexer": "ipython3",
   "version": "3.9.16"
  }
 },
 "nbformat": 4,
 "nbformat_minor": 5
}
