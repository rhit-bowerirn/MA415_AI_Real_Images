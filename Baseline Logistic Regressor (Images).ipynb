{
 "cells": [
  {
   "cell_type": "markdown",
   "id": "0acf7054",
   "metadata": {},
   "source": [
    "# Setting up Logistic Regression for the AI vs Human images"
   ]
  },
  {
   "cell_type": "code",
   "execution_count": 3,
   "id": "dc9daed2",
   "metadata": {},
   "outputs": [],
   "source": [
    "import pandas as pd\n",
    "import numpy as np\n",
    "from sklearn.linear_model import LogisticRegression, LogisticRegressionCV\n",
    "from sklearn.model_selection import GridSearchCV\n",
    "from sklearn.linear_model import Ridge, Lasso\n",
    "from time import time\n",
    "from Loader import train_data, test_data\n",
    "import matplotlib.pyplot as plt\n",
    "import plotly.express as px"
   ]
  },
  {
   "cell_type": "code",
   "execution_count": 4,
   "id": "701c89b0",
   "metadata": {},
   "outputs": [
    {
     "name": "stdout",
     "output_type": "stream",
     "text": [
      "(100000, 3073)\n"
     ]
    },
    {
     "data": {
      "text/html": [
       "<div>\n",
       "<style scoped>\n",
       "    .dataframe tbody tr th:only-of-type {\n",
       "        vertical-align: middle;\n",
       "    }\n",
       "\n",
       "    .dataframe tbody tr th {\n",
       "        vertical-align: top;\n",
       "    }\n",
       "\n",
       "    .dataframe thead th {\n",
       "        text-align: right;\n",
       "    }\n",
       "</style>\n",
       "<table border=\"1\" class=\"dataframe\">\n",
       "  <thead>\n",
       "    <tr style=\"text-align: right;\">\n",
       "      <th></th>\n",
       "      <th>0</th>\n",
       "      <th>1</th>\n",
       "      <th>2</th>\n",
       "      <th>3</th>\n",
       "      <th>4</th>\n",
       "      <th>5</th>\n",
       "      <th>6</th>\n",
       "      <th>7</th>\n",
       "      <th>8</th>\n",
       "      <th>9</th>\n",
       "      <th>...</th>\n",
       "      <th>3063</th>\n",
       "      <th>3064</th>\n",
       "      <th>3065</th>\n",
       "      <th>3066</th>\n",
       "      <th>3067</th>\n",
       "      <th>3068</th>\n",
       "      <th>3069</th>\n",
       "      <th>3070</th>\n",
       "      <th>3071</th>\n",
       "      <th>label</th>\n",
       "    </tr>\n",
       "  </thead>\n",
       "  <tbody>\n",
       "    <tr>\n",
       "      <th>0</th>\n",
       "      <td>114</td>\n",
       "      <td>112</td>\n",
       "      <td>113</td>\n",
       "      <td>119</td>\n",
       "      <td>117</td>\n",
       "      <td>118</td>\n",
       "      <td>117</td>\n",
       "      <td>117</td>\n",
       "      <td>115</td>\n",
       "      <td>111</td>\n",
       "      <td>...</td>\n",
       "      <td>100</td>\n",
       "      <td>91</td>\n",
       "      <td>86</td>\n",
       "      <td>99</td>\n",
       "      <td>91</td>\n",
       "      <td>88</td>\n",
       "      <td>98</td>\n",
       "      <td>90</td>\n",
       "      <td>87</td>\n",
       "      <td>Fake</td>\n",
       "    </tr>\n",
       "    <tr>\n",
       "      <th>1</th>\n",
       "      <td>206</td>\n",
       "      <td>204</td>\n",
       "      <td>205</td>\n",
       "      <td>215</td>\n",
       "      <td>213</td>\n",
       "      <td>214</td>\n",
       "      <td>224</td>\n",
       "      <td>222</td>\n",
       "      <td>223</td>\n",
       "      <td>228</td>\n",
       "      <td>...</td>\n",
       "      <td>126</td>\n",
       "      <td>125</td>\n",
       "      <td>123</td>\n",
       "      <td>124</td>\n",
       "      <td>123</td>\n",
       "      <td>121</td>\n",
       "      <td>123</td>\n",
       "      <td>122</td>\n",
       "      <td>120</td>\n",
       "      <td>Fake</td>\n",
       "    </tr>\n",
       "    <tr>\n",
       "      <th>2</th>\n",
       "      <td>153</td>\n",
       "      <td>185</td>\n",
       "      <td>208</td>\n",
       "      <td>130</td>\n",
       "      <td>162</td>\n",
       "      <td>185</td>\n",
       "      <td>153</td>\n",
       "      <td>185</td>\n",
       "      <td>208</td>\n",
       "      <td>162</td>\n",
       "      <td>...</td>\n",
       "      <td>167</td>\n",
       "      <td>178</td>\n",
       "      <td>172</td>\n",
       "      <td>166</td>\n",
       "      <td>177</td>\n",
       "      <td>171</td>\n",
       "      <td>165</td>\n",
       "      <td>176</td>\n",
       "      <td>170</td>\n",
       "      <td>Fake</td>\n",
       "    </tr>\n",
       "  </tbody>\n",
       "</table>\n",
       "<p>3 rows × 3073 columns</p>\n",
       "</div>"
      ],
      "text/plain": [
       "     0    1    2    3    4    5    6    7    8    9  ... 3063 3064 3065 3066  \\\n",
       "0  114  112  113  119  117  118  117  117  115  111  ...  100   91   86   99   \n",
       "1  206  204  205  215  213  214  224  222  223  228  ...  126  125  123  124   \n",
       "2  153  185  208  130  162  185  153  185  208  162  ...  167  178  172  166   \n",
       "\n",
       "  3067 3068 3069 3070 3071 label  \n",
       "0   91   88   98   90   87  Fake  \n",
       "1  123  121  123  122  120  Fake  \n",
       "2  177  171  165  176  170  Fake  \n",
       "\n",
       "[3 rows x 3073 columns]"
      ]
     },
     "execution_count": 4,
     "metadata": {},
     "output_type": "execute_result"
    }
   ],
   "source": [
    "df_train = train_data()\n",
    "print(df_train.shape)\n",
    "df_train.head(3)"
   ]
  },
  {
   "cell_type": "code",
   "execution_count": 5,
   "id": "eca0e91c",
   "metadata": {},
   "outputs": [],
   "source": [
    "df_sample = df_train.sample(frac=0.1, random_state=0)"
   ]
  },
  {
   "cell_type": "code",
   "execution_count": 6,
   "id": "426bb235",
   "metadata": {},
   "outputs": [],
   "source": [
    "X = df_sample.drop('label', axis=1)\n",
    "X = (X-X.mean())/X.std()\n",
    "y = df_sample.label"
   ]
  },
  {
   "cell_type": "markdown",
   "id": "76f155a9",
   "metadata": {},
   "source": [
    "### Training Score"
   ]
  },
  {
   "cell_type": "code",
   "execution_count": 7,
   "id": "caa4fc6b",
   "metadata": {},
   "outputs": [
    {
     "name": "stdout",
     "output_type": "stream",
     "text": [
      "Elapsed Time for Logistic Regression: 56.8619441986084\n",
      "\n",
      "Baseline Training Accuracy: 0.7264\n"
     ]
    }
   ],
   "source": [
    "time_start = time()\n",
    "lgr = LogisticRegression(n_jobs = -1)\n",
    "lgr.fit(X,y)\n",
    "\n",
    "time_stop = time()\n",
    "print('Elapsed Time for Logistic Regression:', time_stop-time_start)\n",
    "print()\n",
    "print('Baseline Training Accuracy:', lgr.score(X,y))"
   ]
  },
  {
   "cell_type": "markdown",
   "id": "9ee7bacf",
   "metadata": {},
   "source": [
    "### Cross validation"
   ]
  },
  {
   "cell_type": "code",
   "execution_count": 6,
   "id": "13da8280",
   "metadata": {
    "scrolled": true
   },
   "outputs": [
    {
     "name": "stdout",
     "output_type": "stream",
     "text": [
      "CV Time: 3267.194613456726\n",
      "\n",
      "CV Baseline: 0.7008\n"
     ]
    }
   ],
   "source": [
    "ts = time()\n",
    "lgrcv2 = LogisticRegressionCV(cv=5, \n",
    "                             random_state=0, \n",
    "                             n_jobs=-1,\n",
    "                             penalty='l2',\n",
    "                             solver='sag',\n",
    "                             max_iter = 5000)\n",
    "\n",
    "lgrcv2.fit(X,y)\n",
    "tss= time()\n",
    "print('CV Time:', (tss-ts)/60)\n",
    "print()\n",
    "print('CV Baseline:', lgrcv2.score(X,y))"
   ]
  },
  {
   "cell_type": "code",
   "execution_count": 10,
   "id": "99cc306f",
   "metadata": {},
   "outputs": [
    {
     "name": "stdout",
     "output_type": "stream",
     "text": [
      "CV Time: 7163.760345697403\n",
      "\n",
      "CV Baseline: 0.6967\n"
     ]
    }
   ],
   "source": [
    "ts = time()\n",
    "lgrcv1 = LogisticRegressionCV(cv=5, \n",
    "                             random_state=0, \n",
    "                             n_jobs=-1,\n",
    "                             penalty='l1',\n",
    "                             solver='saga',\n",
    "                             max_iter = 10000)\n",
    "\n",
    "lgrcv1.fit(X,y)\n",
    "tss= time()\n",
    "print('CV Time:', (tss-ts)/60)\n",
    "print()\n",
    "print('CV Baseline:', lgrcv1.score(X,y))"
   ]
  },
  {
   "cell_type": "code",
   "execution_count": null,
   "id": "74c8344c",
   "metadata": {},
   "outputs": [],
   "source": [
    "resultsl2 = lgrcv2.coef_\n",
    "resultsl2 = resultsl2.reshape([32,32,3])\n",
    "x = []\n",
    "y = []\n",
    "\n",
    "xred = []\n",
    "yred = []\n",
    "\n",
    "xgreen = []\n",
    "ygreen = []\n",
    "\n",
    "xblue = []\n",
    "yblue = []\n",
    "\n",
    "weight = [0.01,0.05,0.1]\n",
    "\n",
    "for w in range(len(weight)):\n",
    "    for rgb in range(3):\n",
    "        for i in range(32):\n",
    "            for j in range(32):\n",
    "                if abs(resultsl2[i,j,rgb]) > weight[w]:\n",
    "                    if rgb == 0:\n",
    "                        xred.append(i);\n",
    "                        yred.append(j);\n",
    "                    if rgb == 1:\n",
    "                        xgreen.append(i);\n",
    "                        ygreen.append(j);\n",
    "                    if rgb == 2:\n",
    "                        xblue.append(i);\n",
    "                        yblue.append(j);\n",
    "\n",
    "x = xred + xgreen + xblue;\n",
    "y = yred + ygreen + yblue"
   ]
  },
  {
   "cell_type": "code",
   "execution_count": null,
   "id": "acebe69a",
   "metadata": {},
   "outputs": [],
   "source": [
    "plt.scatter(xred,yred,alpha=0.3,c='r',marker='s')"
   ]
  },
  {
   "cell_type": "code",
   "execution_count": null,
   "id": "bd9c29aa",
   "metadata": {},
   "outputs": [],
   "source": [
    "plt.scatter(xgreen,ygreen,alpha=0.3,c='g',marker='s')"
   ]
  },
  {
   "cell_type": "code",
   "execution_count": null,
   "id": "d20ae19a",
   "metadata": {},
   "outputs": [],
   "source": [
    "plt.scatter(xblue,yblue,alpha=0.3,c='b',marker='s')"
   ]
  },
  {
   "cell_type": "code",
   "execution_count": null,
   "id": "125c2ef2",
   "metadata": {},
   "outputs": [],
   "source": [
    "plt.scatter(x,y,alpha=0.3,c='black',marker='s')"
   ]
  },
  {
   "cell_type": "code",
   "execution_count": null,
   "id": "5f9a75db",
   "metadata": {},
   "outputs": [],
   "source": [
    "resultsl1 = lgrcv1.coef_\n",
    "resultsl1 = resultsl1.reshape([32,32,3])\n",
    "x = []\n",
    "y = []\n",
    "\n",
    "xred = []\n",
    "yred = []\n",
    "\n",
    "xgreen = []\n",
    "ygreen = []\n",
    "\n",
    "xblue = []\n",
    "yblue = []\n",
    "\n",
    "weight = [0.005,0.01,0.05,0.1]\n",
    "\n",
    "for w in range(len(weight)):\n",
    "    for rgb in range(3):\n",
    "        for i in range(32):\n",
    "            for j in range(32):\n",
    "                if abs(resultsl1[i,j,rgb]) > weight[w]:\n",
    "                    if rgb == 0:\n",
    "                        xred.append(i);\n",
    "                        yred.append(j);\n",
    "                    if rgb == 1:\n",
    "                        xgreen.append(i);\n",
    "                        ygreen.append(j);\n",
    "                    if rgb == 2:\n",
    "                        xblue.append(i);\n",
    "                        yblue.append(j);\n",
    "\n",
    "x = xred + xgreen + xblue;\n",
    "y = yred + ygreen + yblue"
   ]
  },
  {
   "cell_type": "code",
   "execution_count": null,
   "id": "ab06d97b",
   "metadata": {},
   "outputs": [],
   "source": [
    "plt.scatter(xred,yred,alpha=0.2,c='r',marker='s')"
   ]
  },
  {
   "cell_type": "code",
   "execution_count": null,
   "id": "b5a3109e",
   "metadata": {},
   "outputs": [],
   "source": [
    "plt.scatter(xgreen,ygreen,alpha=0.2,c='g',marker='s')"
   ]
  },
  {
   "cell_type": "code",
   "execution_count": null,
   "id": "6daff044",
   "metadata": {},
   "outputs": [],
   "source": [
    "plt.scatter(xblue,yblue,alpha=0.2,c='b',marker='s')"
   ]
  },
  {
   "cell_type": "code",
   "execution_count": null,
   "id": "281bd8c5",
   "metadata": {},
   "outputs": [],
   "source": [
    "plt.scatter(x,y,alpha=0.3,c='black',marker='s')"
   ]
  },
  {
   "cell_type": "code",
   "execution_count": null,
   "id": "90fe42b6",
   "metadata": {},
   "outputs": [],
   "source": [
    "resultsl2_r = []\n",
    "resultsl2_g = []\n",
    "resultsl2_b = []\n",
    "\n",
    "\n",
    "for rgb in range(3):\n",
    "        for i in range(32):\n",
    "            for j in range(32):\n",
    "                if rgb == 0:\n",
    "                    resultsl2_r.append(resultsl2[i,j,rgb])\n",
    "                if rgb =resultsl2_r = np.array(resultsl2_r)\n",
    "resultsl2_r = resultsl2_r.reshape([32,32])\n",
    "\n",
    "fig_r = px.imshow(resultsl2_r)\n",
    "fig_r.update_xaxes(side=\"top\")\n",
    "fig_r.show()= 1:\n",
    "                    resultsl2_g.append(resultsl2[i,j,rgb])\n",
    "                if rgb == 2:\n",
    "                    resultsl2_b.append(resultsl2[i,j,rgb])\n",
    "                    "
   ]
  },
  {
   "cell_type": "code",
   "execution_count": null,
   "id": "d3fb39c8",
   "metadata": {},
   "outputs": [],
   "source": [
    "resultsl2_r = np.array(resultsl2_r)\n",
    "resultsl2_r = resultsl2_r.reshape([32,32])\n",
    "\n",
    "fig_r = px.imshow(resultsl2_r)\n",
    "fig_r.update_xaxes(side=\"top\")\n",
    "fig_r.show()"
   ]
  },
  {
   "cell_type": "code",
   "execution_count": null,
   "id": "7833aa55",
   "metadata": {},
   "outputs": [],
   "source": [
    "resultsl2_g = np.array(resultsl2_g)\n",
    "resultsl2_g = resultsl2_g.reshape([32,32])\n",
    "\n",
    "fig_g = px.imshow(resultsl2_g)\n",
    "fig_g.update_xaxes(side=\"top\")\n",
    "fig_g.show()"
   ]
  },
  {
   "cell_type": "code",
   "execution_count": null,
   "id": "86e918dc",
   "metadata": {},
   "outputs": [],
   "source": [
    "resultsl2_b = np.array(resultsl2_b)\n",
    "resultsl2_b = resultsl2_b.reshape([32,32])\n",
    "\n",
    "fig_b = px.imshow(resultsl2_b)\n",
    "fig_b.update_xaxes(side=\"top\")\n",
    "fig_b.show()"
   ]
  },
  {
   "cell_type": "code",
   "execution_count": null,
   "id": "71767a51",
   "metadata": {},
   "outputs": [],
   "source": [
    "resultsl2 = []\n",
    "resultsl2 = resultsl2_r + resultsl2_g + resultsl2_b\n",
    "\n",
    "fig = px.imshow(resultsl2)\n",
    "fig.update_xaxes(side=\"top\")\n",
    "fig.show()"
   ]
  },
  {
   "cell_type": "code",
   "execution_count": null,
   "id": "c61c5a45",
   "metadata": {},
   "outputs": [],
   "source": [
    "resultsl1_r = []\n",
    "resultsl1_g = []\n",
    "resultsl1_b = []\n",
    "\n",
    "\n",
    "for rgb in range(3):\n",
    "        for i in range(32):\n",
    "            for j in range(32):\n",
    "                if rgb == 0:\n",
    "                    resultsl1_r.append(resultsl1[i,j,rgb])\n",
    "                if rgb == 1:\n",
    "                    resultsl1_g.append(resultsl1[i,j,rgb])\n",
    "                if rgb == 2:\n",
    "                    resultsl1_b.append(resultsl1[i,j,rgb])"
   ]
  },
  {
   "cell_type": "code",
   "execution_count": null,
   "id": "57a77f59",
   "metadata": {},
   "outputs": [],
   "source": [
    "resultsl1_r = np.array(resultsl1_r)\n",
    "resultsl1_r = resultsl1_r.reshape([32,32])\n",
    "\n",
    "fig_r = px.imshow(resultsl1_r)\n",
    "fig_r.update_xaxes(side=\"top\")\n",
    "fig_r.show()"
   ]
  },
  {
   "cell_type": "code",
   "execution_count": null,
   "id": "0eb02984",
   "metadata": {},
   "outputs": [],
   "source": [
    "resultsl1_g = np.array(resultsl1_g)\n",
    "resultsl1_g = resultsl1_g.reshape([32,32])\n",
    "\n",
    "fig_g = px.imshow(resultsl1_g)\n",
    "fig_g.update_xaxes(side=\"top\")\n",
    "fig_g.show()"
   ]
  },
  {
   "cell_type": "code",
   "execution_count": null,
   "id": "79d3a576",
   "metadata": {},
   "outputs": [],
   "source": [
    "resultsl1_b = np.array(resultsl1_b)\n",
    "resultsl1_b = resultsl1_b.reshape([32,32])\n",
    "\n",
    "fig_b = px.imshow(resultsl1_b)\n",
    "fig_b.update_xaxes(side=\"top\")\n",
    "fig_b.show()"
   ]
  },
  {
   "cell_type": "code",
   "execution_count": null,
   "id": "b6d1abbc",
   "metadata": {},
   "outputs": [],
   "source": [
    "resultsl1 = []\n",
    "resultsl1 = resultsl1_r + resultsl1_g + resultsl1_b\n",
    "\n",
    "fig = px.imshow(resultsl1)\n",
    "fig.update_xaxes(side=\"top\")\n",
    "fig.show()"
   ]
  },
  {
   "cell_type": "code",
   "execution_count": null,
   "id": "a169ce8f",
   "metadata": {},
   "outputs": [],
   "source": []
  }
 ],
 "metadata": {
  "kernelspec": {
   "display_name": "Python 3 (ipykernel)",
   "language": "python",
   "name": "python3"
  },
  "language_info": {
   "codemirror_mode": {
    "name": "ipython",
    "version": 3
   },
   "file_extension": ".py",
   "mimetype": "text/x-python",
   "name": "python",
   "nbconvert_exporter": "python",
   "pygments_lexer": "ipython3",
   "version": "3.9.16"
  }
 },
 "nbformat": 4,
 "nbformat_minor": 5
}
