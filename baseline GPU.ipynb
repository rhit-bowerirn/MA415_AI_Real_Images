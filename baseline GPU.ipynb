{
 "cells": [
  {
   "cell_type": "code",
   "execution_count": 1,
   "id": "770d0349-c346-4afe-9caa-eb17000c1ad9",
   "metadata": {},
   "outputs": [
    {
     "name": "stdout",
     "output_type": "stream",
     "text": [
      "Mon May  8 18:35:17 2023       \n",
      "+---------------------------------------------------------------------------------------+\n",
      "| NVIDIA-SMI 530.30.02              Driver Version: 530.30.02    CUDA Version: 12.1     |\n",
      "|-----------------------------------------+----------------------+----------------------+\n",
      "| GPU  Name                  Persistence-M| Bus-Id        Disp.A | Volatile Uncorr. ECC |\n",
      "| Fan  Temp  Perf            Pwr:Usage/Cap|         Memory-Usage | GPU-Util  Compute M. |\n",
      "|                                         |                      |               MIG M. |\n",
      "|=========================================+======================+======================|\n",
      "|   0  Quadro RTX 6000                 On | 00000000:1B:00.0 Off |                  Off |\n",
      "| 33%   26C    P8               11W / 260W|    751MiB / 24576MiB |      0%      Default |\n",
      "|                                         |                      |                  N/A |\n",
      "+-----------------------------------------+----------------------+----------------------+\n",
      "|   1  Quadro RTX 6000                 On | 00000000:1C:00.0 Off |                  Off |\n",
      "| 33%   24C    P8                9W / 260W|    477MiB / 24576MiB |      0%      Default |\n",
      "|                                         |                      |                  N/A |\n",
      "+-----------------------------------------+----------------------+----------------------+\n",
      "|   2  Quadro RTX 6000                 On | 00000000:1D:00.0 Off |                  Off |\n",
      "| 33%   27C    P8               15W / 260W|    477MiB / 24576MiB |      0%      Default |\n",
      "|                                         |                      |                  N/A |\n",
      "+-----------------------------------------+----------------------+----------------------+\n",
      "|   3  Quadro RTX 6000                 On | 00000000:1E:00.0 Off |                  Off |\n",
      "| 33%   26C    P8                6W / 260W|    477MiB / 24576MiB |      0%      Default |\n",
      "|                                         |                      |                  N/A |\n",
      "+-----------------------------------------+----------------------+----------------------+\n",
      "|   4  Quadro RTX 6000                 On | 00000000:3D:00.0 Off |                  Off |\n",
      "| 33%   24C    P8               11W / 260W|    477MiB / 24576MiB |      0%      Default |\n",
      "|                                         |                      |                  N/A |\n",
      "+-----------------------------------------+----------------------+----------------------+\n",
      "|   5  Quadro RTX 6000                 On | 00000000:3F:00.0 Off |                  Off |\n",
      "| 33%   26C    P8                5W / 260W|    477MiB / 24576MiB |      0%      Default |\n",
      "|                                         |                      |                  N/A |\n",
      "+-----------------------------------------+----------------------+----------------------+\n",
      "|   6  Quadro RTX 6000                 On | 00000000:40:00.0 Off |                  Off |\n",
      "| 35%   26C    P8               16W / 260W|    477MiB / 24576MiB |      0%      Default |\n",
      "|                                         |                      |                  N/A |\n",
      "+-----------------------------------------+----------------------+----------------------+\n",
      "|   7  Quadro RTX 6000                 On | 00000000:41:00.0 Off |                  Off |\n",
      "| 34%   26C    P8               16W / 260W|    477MiB / 24576MiB |      0%      Default |\n",
      "|                                         |                      |                  N/A |\n",
      "+-----------------------------------------+----------------------+----------------------+\n",
      "                                                                                         \n",
      "+---------------------------------------------------------------------------------------+\n",
      "| Processes:                                                                            |\n",
      "|  GPU   GI   CI        PID   Type   Process name                            GPU Memory |\n",
      "|        ID   ID                                                             Usage      |\n",
      "|=======================================================================================|\n",
      "|    0   N/A  N/A   3380490      C   /opt/anaconda3/bin/python                   310MiB |\n",
      "|    0   N/A  N/A   3398004      C   /opt/anaconda3/bin/python                   274MiB |\n",
      "|    0   N/A  N/A   3400215      C   /opt/anaconda3/bin/python                   162MiB |\n",
      "|    1   N/A  N/A   3380490      C   /opt/anaconda3/bin/python                   310MiB |\n",
      "|    1   N/A  N/A   3400216      C   /opt/anaconda3/bin/python                   162MiB |\n",
      "|    2   N/A  N/A   3380490      C   /opt/anaconda3/bin/python                   310MiB |\n",
      "|    2   N/A  N/A   3400224      C   /opt/anaconda3/bin/python                   162MiB |\n",
      "|    3   N/A  N/A   3380490      C   /opt/anaconda3/bin/python                   310MiB |\n",
      "|    3   N/A  N/A   3400221      C   /opt/anaconda3/bin/python                   162MiB |\n",
      "|    4   N/A  N/A   3380490      C   /opt/anaconda3/bin/python                   310MiB |\n",
      "|    4   N/A  N/A   3400229      C   /opt/anaconda3/bin/python                   162MiB |\n",
      "|    5   N/A  N/A   3380490      C   /opt/anaconda3/bin/python                   310MiB |\n",
      "|    5   N/A  N/A   3400227      C   /opt/anaconda3/bin/python                   162MiB |\n",
      "|    6   N/A  N/A   3380490      C   /opt/anaconda3/bin/python                   310MiB |\n",
      "|    6   N/A  N/A   3400232      C   /opt/anaconda3/bin/python                   162MiB |\n",
      "|    7   N/A  N/A   3380490      C   /opt/anaconda3/bin/python                   310MiB |\n",
      "|    7   N/A  N/A   3400235      C   /opt/anaconda3/bin/python                   162MiB |\n",
      "+---------------------------------------------------------------------------------------+\n"
     ]
    }
   ],
   "source": [
    "!nvidia-smi"
   ]
  },
  {
   "cell_type": "code",
   "execution_count": 2,
   "id": "c954c645-b447-4c04-9b18-2f150de72b78",
   "metadata": {},
   "outputs": [
    {
     "name": "stderr",
     "output_type": "stream",
     "text": [
      "2023-05-08 18:35:18.898392: I tensorflow/stream_executor/platform/default/dso_loader.cc:49] Successfully opened dynamic library libcudart.so.10.1\n"
     ]
    }
   ],
   "source": [
    "import pandas as pd\n",
    "import numpy as np\n",
    "from sklearn.linear_model import LogisticRegression, LogisticRegressionCV\n",
    "from time import time\n",
    "import tensorflow as tf \n",
    "from Loader import train_data, test_data"
   ]
  },
  {
   "cell_type": "code",
   "execution_count": 3,
   "id": "53216fd4-8c5d-44cd-b329-0e02afc3f34e",
   "metadata": {},
   "outputs": [
    {
     "name": "stderr",
     "output_type": "stream",
     "text": [
      "2023-05-08 18:35:20.009325: I tensorflow/core/platform/cpu_feature_guard.cc:142] This TensorFlow binary is optimized with oneAPI Deep Neural Network Library (oneDNN) to use the following CPU instructions in performance-critical operations:  SSE4.1 SSE4.2 AVX AVX2 AVX512F FMA\n",
      "To enable them in other operations, rebuild TensorFlow with the appropriate compiler flags.\n",
      "2023-05-08 18:35:20.016777: I tensorflow/compiler/jit/xla_gpu_device.cc:99] Not creating XLA devices, tf_xla_enable_xla_devices not set\n",
      "2023-05-08 18:35:20.017860: I tensorflow/stream_executor/platform/default/dso_loader.cc:49] Successfully opened dynamic library libcuda.so.1\n",
      "2023-05-08 18:35:21.151972: I tensorflow/core/common_runtime/gpu/gpu_device.cc:1720] Found device 0 with properties: \n",
      "pciBusID: 0000:1b:00.0 name: Quadro RTX 6000 computeCapability: 7.5\n",
      "coreClock: 1.77GHz coreCount: 72 deviceMemorySize: 23.64GiB deviceMemoryBandwidth: 625.94GiB/s\n",
      "2023-05-08 18:35:21.152550: I tensorflow/core/common_runtime/gpu/gpu_device.cc:1720] Found device 1 with properties: \n",
      "pciBusID: 0000:1c:00.0 name: Quadro RTX 6000 computeCapability: 7.5\n",
      "coreClock: 1.77GHz coreCount: 72 deviceMemorySize: 23.64GiB deviceMemoryBandwidth: 625.94GiB/s\n",
      "2023-05-08 18:35:21.153057: I tensorflow/core/common_runtime/gpu/gpu_device.cc:1720] Found device 2 with properties: \n",
      "pciBusID: 0000:1d:00.0 name: Quadro RTX 6000 computeCapability: 7.5\n",
      "coreClock: 1.77GHz coreCount: 72 deviceMemorySize: 23.64GiB deviceMemoryBandwidth: 625.94GiB/s\n",
      "2023-05-08 18:35:21.153554: I tensorflow/core/common_runtime/gpu/gpu_device.cc:1720] Found device 3 with properties: \n",
      "pciBusID: 0000:1e:00.0 name: Quadro RTX 6000 computeCapability: 7.5\n",
      "coreClock: 1.77GHz coreCount: 72 deviceMemorySize: 23.64GiB deviceMemoryBandwidth: 625.94GiB/s\n",
      "2023-05-08 18:35:21.154047: I tensorflow/core/common_runtime/gpu/gpu_device.cc:1720] Found device 4 with properties: \n",
      "pciBusID: 0000:3d:00.0 name: Quadro RTX 6000 computeCapability: 7.5\n",
      "coreClock: 1.77GHz coreCount: 72 deviceMemorySize: 23.64GiB deviceMemoryBandwidth: 625.94GiB/s\n",
      "2023-05-08 18:35:21.154528: I tensorflow/core/common_runtime/gpu/gpu_device.cc:1720] Found device 5 with properties: \n",
      "pciBusID: 0000:3f:00.0 name: Quadro RTX 6000 computeCapability: 7.5\n",
      "coreClock: 1.77GHz coreCount: 72 deviceMemorySize: 23.64GiB deviceMemoryBandwidth: 625.94GiB/s\n",
      "2023-05-08 18:35:21.155011: I tensorflow/core/common_runtime/gpu/gpu_device.cc:1720] Found device 6 with properties: \n",
      "pciBusID: 0000:40:00.0 name: Quadro RTX 6000 computeCapability: 7.5\n",
      "coreClock: 1.77GHz coreCount: 72 deviceMemorySize: 23.64GiB deviceMemoryBandwidth: 625.94GiB/s\n",
      "2023-05-08 18:35:21.155475: I tensorflow/core/common_runtime/gpu/gpu_device.cc:1720] Found device 7 with properties: \n",
      "pciBusID: 0000:41:00.0 name: Quadro RTX 6000 computeCapability: 7.5\n",
      "coreClock: 1.77GHz coreCount: 72 deviceMemorySize: 23.64GiB deviceMemoryBandwidth: 625.94GiB/s\n",
      "2023-05-08 18:35:21.155519: I tensorflow/stream_executor/platform/default/dso_loader.cc:49] Successfully opened dynamic library libcudart.so.10.1\n",
      "2023-05-08 18:35:21.157511: I tensorflow/stream_executor/platform/default/dso_loader.cc:49] Successfully opened dynamic library libcublas.so.10\n",
      "2023-05-08 18:35:21.157584: I tensorflow/stream_executor/platform/default/dso_loader.cc:49] Successfully opened dynamic library libcublasLt.so.10\n",
      "2023-05-08 18:35:21.159475: I tensorflow/stream_executor/platform/default/dso_loader.cc:49] Successfully opened dynamic library libcufft.so.10\n",
      "2023-05-08 18:35:21.159847: I tensorflow/stream_executor/platform/default/dso_loader.cc:49] Successfully opened dynamic library libcurand.so.10\n",
      "2023-05-08 18:35:21.161802: I tensorflow/stream_executor/platform/default/dso_loader.cc:49] Successfully opened dynamic library libcusolver.so.10\n",
      "2023-05-08 18:35:21.162874: I tensorflow/stream_executor/platform/default/dso_loader.cc:49] Successfully opened dynamic library libcusparse.so.10\n",
      "2023-05-08 18:35:21.166796: I tensorflow/stream_executor/platform/default/dso_loader.cc:49] Successfully opened dynamic library libcudnn.so.7\n",
      "2023-05-08 18:35:21.174095: I tensorflow/core/common_runtime/gpu/gpu_device.cc:1862] Adding visible gpu devices: 0, 1, 2, 3, 4, 5, 6, 7\n",
      "2023-05-08 18:35:21.174137: I tensorflow/stream_executor/platform/default/dso_loader.cc:49] Successfully opened dynamic library libcudart.so.10.1\n",
      "2023-05-08 18:35:24.840640: I tensorflow/core/common_runtime/gpu/gpu_device.cc:1261] Device interconnect StreamExecutor with strength 1 edge matrix:\n",
      "2023-05-08 18:35:24.840687: I tensorflow/core/common_runtime/gpu/gpu_device.cc:1267]      0 1 2 3 4 5 6 7 \n",
      "2023-05-08 18:35:24.840695: I tensorflow/core/common_runtime/gpu/gpu_device.cc:1280] 0:   N Y Y Y Y Y Y Y \n",
      "2023-05-08 18:35:24.840699: I tensorflow/core/common_runtime/gpu/gpu_device.cc:1280] 1:   Y N Y Y Y Y Y Y \n",
      "2023-05-08 18:35:24.840703: I tensorflow/core/common_runtime/gpu/gpu_device.cc:1280] 2:   Y Y N Y Y Y Y Y \n",
      "2023-05-08 18:35:24.840707: I tensorflow/core/common_runtime/gpu/gpu_device.cc:1280] 3:   Y Y Y N Y Y Y Y \n",
      "2023-05-08 18:35:24.840710: I tensorflow/core/common_runtime/gpu/gpu_device.cc:1280] 4:   Y Y Y Y N Y Y Y \n",
      "2023-05-08 18:35:24.840714: I tensorflow/core/common_runtime/gpu/gpu_device.cc:1280] 5:   Y Y Y Y Y N Y Y \n",
      "2023-05-08 18:35:24.840718: I tensorflow/core/common_runtime/gpu/gpu_device.cc:1280] 6:   Y Y Y Y Y Y N Y \n",
      "2023-05-08 18:35:24.840721: I tensorflow/core/common_runtime/gpu/gpu_device.cc:1280] 7:   Y Y Y Y Y Y Y N \n",
      "2023-05-08 18:35:24.846470: I tensorflow/core/common_runtime/gpu/gpu_device.cc:1406] Created TensorFlow device (/job:localhost/replica:0/task:0/device:GPU:0 with 12106 MB memory) -> physical GPU (device: 0, name: Quadro RTX 6000, pci bus id: 0000:1b:00.0, compute capability: 7.5)\n",
      "2023-05-08 18:35:24.848860: I tensorflow/core/common_runtime/gpu/gpu_device.cc:1406] Created TensorFlow device (/job:localhost/replica:0/task:0/device:GPU:1 with 12106 MB memory) -> physical GPU (device: 1, name: Quadro RTX 6000, pci bus id: 0000:1c:00.0, compute capability: 7.5)\n",
      "2023-05-08 18:35:24.850616: I tensorflow/core/common_runtime/gpu/gpu_device.cc:1406] Created TensorFlow device (/job:localhost/replica:0/task:0/device:GPU:2 with 12106 MB memory) -> physical GPU (device: 2, name: Quadro RTX 6000, pci bus id: 0000:1d:00.0, compute capability: 7.5)\n",
      "2023-05-08 18:35:24.853412: I tensorflow/core/common_runtime/gpu/gpu_device.cc:1406] Created TensorFlow device (/job:localhost/replica:0/task:0/device:GPU:3 with 12106 MB memory) -> physical GPU (device: 3, name: Quadro RTX 6000, pci bus id: 0000:1e:00.0, compute capability: 7.5)\n",
      "2023-05-08 18:35:24.855023: I tensorflow/core/common_runtime/gpu/gpu_device.cc:1406] Created TensorFlow device (/job:localhost/replica:0/task:0/device:GPU:4 with 12106 MB memory) -> physical GPU (device: 4, name: Quadro RTX 6000, pci bus id: 0000:3d:00.0, compute capability: 7.5)\n",
      "2023-05-08 18:35:24.857111: I tensorflow/core/common_runtime/gpu/gpu_device.cc:1406] Created TensorFlow device (/job:localhost/replica:0/task:0/device:GPU:5 with 12106 MB memory) -> physical GPU (device: 5, name: Quadro RTX 6000, pci bus id: 0000:3f:00.0, compute capability: 7.5)\n",
      "2023-05-08 18:35:24.859113: I tensorflow/core/common_runtime/gpu/gpu_device.cc:1406] Created TensorFlow device (/job:localhost/replica:0/task:0/device:GPU:6 with 12106 MB memory) -> physical GPU (device: 6, name: Quadro RTX 6000, pci bus id: 0000:40:00.0, compute capability: 7.5)\n",
      "2023-05-08 18:35:24.860674: I tensorflow/core/common_runtime/gpu/gpu_device.cc:1406] Created TensorFlow device (/job:localhost/replica:0/task:0/device:GPU:7 with 12106 MB memory) -> physical GPU (device: 7, name: Quadro RTX 6000, pci bus id: 0000:41:00.0, compute capability: 7.5)\n"
     ]
    }
   ],
   "source": [
    "config = tf.compat.v1.ConfigProto()\n",
    "config.gpu_options.per_process_gpu_memory_fraction = 0.5\n",
    "config.operation_timeout_in_ms=60000\n",
    "sess = tf.compat.v1.Session(config=config)"
   ]
  },
  {
   "cell_type": "code",
   "execution_count": 4,
   "id": "3a6dc553-b16e-4e17-a04a-ea6295c84a6f",
   "metadata": {},
   "outputs": [
    {
     "name": "stderr",
     "output_type": "stream",
     "text": [
      "2023-05-08 18:35:24.873458: I tensorflow/compiler/jit/xla_cpu_device.cc:41] Not creating XLA devices, tf_xla_enable_xla_devices not set\n",
      "2023-05-08 18:35:24.874147: I tensorflow/core/common_runtime/gpu/gpu_device.cc:1720] Found device 0 with properties: \n",
      "pciBusID: 0000:1b:00.0 name: Quadro RTX 6000 computeCapability: 7.5\n",
      "coreClock: 1.77GHz coreCount: 72 deviceMemorySize: 23.64GiB deviceMemoryBandwidth: 625.94GiB/s\n",
      "2023-05-08 18:35:24.874668: I tensorflow/core/common_runtime/gpu/gpu_device.cc:1720] Found device 1 with properties: \n",
      "pciBusID: 0000:1c:00.0 name: Quadro RTX 6000 computeCapability: 7.5\n",
      "coreClock: 1.77GHz coreCount: 72 deviceMemorySize: 23.64GiB deviceMemoryBandwidth: 625.94GiB/s\n",
      "2023-05-08 18:35:24.875164: I tensorflow/core/common_runtime/gpu/gpu_device.cc:1720] Found device 2 with properties: \n",
      "pciBusID: 0000:1d:00.0 name: Quadro RTX 6000 computeCapability: 7.5\n",
      "coreClock: 1.77GHz coreCount: 72 deviceMemorySize: 23.64GiB deviceMemoryBandwidth: 625.94GiB/s\n",
      "2023-05-08 18:35:24.875651: I tensorflow/core/common_runtime/gpu/gpu_device.cc:1720] Found device 3 with properties: \n",
      "pciBusID: 0000:1e:00.0 name: Quadro RTX 6000 computeCapability: 7.5\n",
      "coreClock: 1.77GHz coreCount: 72 deviceMemorySize: 23.64GiB deviceMemoryBandwidth: 625.94GiB/s\n",
      "2023-05-08 18:35:24.876113: I tensorflow/core/common_runtime/gpu/gpu_device.cc:1720] Found device 4 with properties: \n",
      "pciBusID: 0000:3d:00.0 name: Quadro RTX 6000 computeCapability: 7.5\n",
      "coreClock: 1.77GHz coreCount: 72 deviceMemorySize: 23.64GiB deviceMemoryBandwidth: 625.94GiB/s\n",
      "2023-05-08 18:35:24.876595: I tensorflow/core/common_runtime/gpu/gpu_device.cc:1720] Found device 5 with properties: \n",
      "pciBusID: 0000:3f:00.0 name: Quadro RTX 6000 computeCapability: 7.5\n",
      "coreClock: 1.77GHz coreCount: 72 deviceMemorySize: 23.64GiB deviceMemoryBandwidth: 625.94GiB/s\n",
      "2023-05-08 18:35:24.877086: I tensorflow/core/common_runtime/gpu/gpu_device.cc:1720] Found device 6 with properties: \n",
      "pciBusID: 0000:40:00.0 name: Quadro RTX 6000 computeCapability: 7.5\n",
      "coreClock: 1.77GHz coreCount: 72 deviceMemorySize: 23.64GiB deviceMemoryBandwidth: 625.94GiB/s\n",
      "2023-05-08 18:35:24.877554: I tensorflow/core/common_runtime/gpu/gpu_device.cc:1720] Found device 7 with properties: \n",
      "pciBusID: 0000:41:00.0 name: Quadro RTX 6000 computeCapability: 7.5\n",
      "coreClock: 1.77GHz coreCount: 72 deviceMemorySize: 23.64GiB deviceMemoryBandwidth: 625.94GiB/s\n",
      "2023-05-08 18:35:24.877602: I tensorflow/stream_executor/platform/default/dso_loader.cc:49] Successfully opened dynamic library libcudart.so.10.1\n",
      "2023-05-08 18:35:24.877640: I tensorflow/stream_executor/platform/default/dso_loader.cc:49] Successfully opened dynamic library libcublas.so.10\n",
      "2023-05-08 18:35:24.877653: I tensorflow/stream_executor/platform/default/dso_loader.cc:49] Successfully opened dynamic library libcublasLt.so.10\n",
      "2023-05-08 18:35:24.877665: I tensorflow/stream_executor/platform/default/dso_loader.cc:49] Successfully opened dynamic library libcufft.so.10\n",
      "2023-05-08 18:35:24.877676: I tensorflow/stream_executor/platform/default/dso_loader.cc:49] Successfully opened dynamic library libcurand.so.10\n",
      "2023-05-08 18:35:24.877690: I tensorflow/stream_executor/platform/default/dso_loader.cc:49] Successfully opened dynamic library libcusolver.so.10\n",
      "2023-05-08 18:35:24.877702: I tensorflow/stream_executor/platform/default/dso_loader.cc:49] Successfully opened dynamic library libcusparse.so.10\n",
      "2023-05-08 18:35:24.877714: I tensorflow/stream_executor/platform/default/dso_loader.cc:49] Successfully opened dynamic library libcudnn.so.7\n",
      "2023-05-08 18:35:24.884937: I tensorflow/core/common_runtime/gpu/gpu_device.cc:1862] Adding visible gpu devices: 0, 1, 2, 3, 4, 5, 6, 7\n"
     ]
    }
   ],
   "source": [
    "####################################################################\n",
    "# Following code releases unused GPU memory for others to use.\n",
    "gpus = tf.config.experimental.list_physical_devices('GPU')\n",
    "for gpu in gpus:\n",
    "  tf.config.experimental.set_memory_growth(gpu, True)\n",
    "####################################################################"
   ]
  },
  {
   "cell_type": "code",
   "execution_count": 5,
   "id": "88d3963f-d3e6-4e6e-92e2-4812afc5ac53",
   "metadata": {},
   "outputs": [
    {
     "name": "stdout",
     "output_type": "stream",
     "text": [
      "(100000, 3073)\n"
     ]
    },
    {
     "data": {
      "text/html": [
       "<div>\n",
       "<style scoped>\n",
       "    .dataframe tbody tr th:only-of-type {\n",
       "        vertical-align: middle;\n",
       "    }\n",
       "\n",
       "    .dataframe tbody tr th {\n",
       "        vertical-align: top;\n",
       "    }\n",
       "\n",
       "    .dataframe thead th {\n",
       "        text-align: right;\n",
       "    }\n",
       "</style>\n",
       "<table border=\"1\" class=\"dataframe\">\n",
       "  <thead>\n",
       "    <tr style=\"text-align: right;\">\n",
       "      <th></th>\n",
       "      <th>0</th>\n",
       "      <th>1</th>\n",
       "      <th>2</th>\n",
       "      <th>3</th>\n",
       "      <th>4</th>\n",
       "      <th>5</th>\n",
       "      <th>6</th>\n",
       "      <th>7</th>\n",
       "      <th>8</th>\n",
       "      <th>9</th>\n",
       "      <th>...</th>\n",
       "      <th>3063</th>\n",
       "      <th>3064</th>\n",
       "      <th>3065</th>\n",
       "      <th>3066</th>\n",
       "      <th>3067</th>\n",
       "      <th>3068</th>\n",
       "      <th>3069</th>\n",
       "      <th>3070</th>\n",
       "      <th>3071</th>\n",
       "      <th>label</th>\n",
       "    </tr>\n",
       "  </thead>\n",
       "  <tbody>\n",
       "    <tr>\n",
       "      <th>0</th>\n",
       "      <td>114</td>\n",
       "      <td>112</td>\n",
       "      <td>113</td>\n",
       "      <td>119</td>\n",
       "      <td>117</td>\n",
       "      <td>118</td>\n",
       "      <td>117</td>\n",
       "      <td>117</td>\n",
       "      <td>115</td>\n",
       "      <td>111</td>\n",
       "      <td>...</td>\n",
       "      <td>100</td>\n",
       "      <td>91</td>\n",
       "      <td>86</td>\n",
       "      <td>99</td>\n",
       "      <td>91</td>\n",
       "      <td>88</td>\n",
       "      <td>98</td>\n",
       "      <td>90</td>\n",
       "      <td>87</td>\n",
       "      <td>Fake</td>\n",
       "    </tr>\n",
       "    <tr>\n",
       "      <th>1</th>\n",
       "      <td>206</td>\n",
       "      <td>204</td>\n",
       "      <td>205</td>\n",
       "      <td>215</td>\n",
       "      <td>213</td>\n",
       "      <td>214</td>\n",
       "      <td>224</td>\n",
       "      <td>222</td>\n",
       "      <td>223</td>\n",
       "      <td>228</td>\n",
       "      <td>...</td>\n",
       "      <td>126</td>\n",
       "      <td>125</td>\n",
       "      <td>123</td>\n",
       "      <td>124</td>\n",
       "      <td>123</td>\n",
       "      <td>121</td>\n",
       "      <td>123</td>\n",
       "      <td>122</td>\n",
       "      <td>120</td>\n",
       "      <td>Fake</td>\n",
       "    </tr>\n",
       "    <tr>\n",
       "      <th>2</th>\n",
       "      <td>153</td>\n",
       "      <td>185</td>\n",
       "      <td>208</td>\n",
       "      <td>130</td>\n",
       "      <td>162</td>\n",
       "      <td>185</td>\n",
       "      <td>153</td>\n",
       "      <td>185</td>\n",
       "      <td>208</td>\n",
       "      <td>162</td>\n",
       "      <td>...</td>\n",
       "      <td>167</td>\n",
       "      <td>178</td>\n",
       "      <td>172</td>\n",
       "      <td>166</td>\n",
       "      <td>177</td>\n",
       "      <td>171</td>\n",
       "      <td>165</td>\n",
       "      <td>176</td>\n",
       "      <td>170</td>\n",
       "      <td>Fake</td>\n",
       "    </tr>\n",
       "  </tbody>\n",
       "</table>\n",
       "<p>3 rows × 3073 columns</p>\n",
       "</div>"
      ],
      "text/plain": [
       "     0    1    2    3    4    5    6    7    8    9  ... 3063 3064 3065 3066  \\\n",
       "0  114  112  113  119  117  118  117  117  115  111  ...  100   91   86   99   \n",
       "1  206  204  205  215  213  214  224  222  223  228  ...  126  125  123  124   \n",
       "2  153  185  208  130  162  185  153  185  208  162  ...  167  178  172  166   \n",
       "\n",
       "  3067 3068 3069 3070 3071 label  \n",
       "0   91   88   98   90   87  Fake  \n",
       "1  123  121  123  122  120  Fake  \n",
       "2  177  171  165  176  170  Fake  \n",
       "\n",
       "[3 rows x 3073 columns]"
      ]
     },
     "execution_count": 5,
     "metadata": {},
     "output_type": "execute_result"
    }
   ],
   "source": [
    "df_train = train_data()\n",
    "print(df_train.shape)\n",
    "df_train.head(3)"
   ]
  },
  {
   "cell_type": "code",
   "execution_count": 6,
   "id": "10f9899f-aca5-464b-9108-13a2c9717613",
   "metadata": {},
   "outputs": [],
   "source": [
    "df_sample = df_train.sample(frac=0.1, random_state=0)\n",
    "X = df_sample.drop('label', axis=1)\n",
    "X = (X-X.mean())/X.std()\n",
    "y = df_sample.label"
   ]
  },
  {
   "cell_type": "code",
   "execution_count": 7,
   "id": "1e4b7a92-d371-44b8-8622-a48bf672be33",
   "metadata": {},
   "outputs": [
    {
     "name": "stdout",
     "output_type": "stream",
     "text": [
      "INFO:tensorflow:Using MirroredStrategy with devices ('/job:localhost/replica:0/task:0/device:GPU:0', '/job:localhost/replica:0/task:0/device:GPU:1', '/job:localhost/replica:0/task:0/device:GPU:2', '/job:localhost/replica:0/task:0/device:GPU:3', '/job:localhost/replica:0/task:0/device:GPU:4', '/job:localhost/replica:0/task:0/device:GPU:5', '/job:localhost/replica:0/task:0/device:GPU:6', '/job:localhost/replica:0/task:0/device:GPU:7')\n"
     ]
    },
    {
     "name": "stderr",
     "output_type": "stream",
     "text": [
      "2023-05-08 18:35:56.601519: I tensorflow/compiler/jit/xla_gpu_device.cc:99] Not creating XLA devices, tf_xla_enable_xla_devices not set\n",
      "2023-05-08 18:35:56.602348: I tensorflow/core/common_runtime/gpu/gpu_device.cc:1720] Found device 0 with properties: \n",
      "pciBusID: 0000:1b:00.0 name: Quadro RTX 6000 computeCapability: 7.5\n",
      "coreClock: 1.77GHz coreCount: 72 deviceMemorySize: 23.64GiB deviceMemoryBandwidth: 625.94GiB/s\n",
      "2023-05-08 18:35:56.602906: I tensorflow/core/common_runtime/gpu/gpu_device.cc:1720] Found device 1 with properties: \n",
      "pciBusID: 0000:1c:00.0 name: Quadro RTX 6000 computeCapability: 7.5\n",
      "coreClock: 1.77GHz coreCount: 72 deviceMemorySize: 23.64GiB deviceMemoryBandwidth: 625.94GiB/s\n",
      "2023-05-08 18:35:56.603411: I tensorflow/core/common_runtime/gpu/gpu_device.cc:1720] Found device 2 with properties: \n",
      "pciBusID: 0000:1d:00.0 name: Quadro RTX 6000 computeCapability: 7.5\n",
      "coreClock: 1.77GHz coreCount: 72 deviceMemorySize: 23.64GiB deviceMemoryBandwidth: 625.94GiB/s\n",
      "2023-05-08 18:35:56.603908: I tensorflow/core/common_runtime/gpu/gpu_device.cc:1720] Found device 3 with properties: \n",
      "pciBusID: 0000:1e:00.0 name: Quadro RTX 6000 computeCapability: 7.5\n",
      "coreClock: 1.77GHz coreCount: 72 deviceMemorySize: 23.64GiB deviceMemoryBandwidth: 625.94GiB/s\n",
      "2023-05-08 18:35:56.604416: I tensorflow/core/common_runtime/gpu/gpu_device.cc:1720] Found device 4 with properties: \n",
      "pciBusID: 0000:3d:00.0 name: Quadro RTX 6000 computeCapability: 7.5\n",
      "coreClock: 1.77GHz coreCount: 72 deviceMemorySize: 23.64GiB deviceMemoryBandwidth: 625.94GiB/s\n",
      "2023-05-08 18:35:56.604900: I tensorflow/core/common_runtime/gpu/gpu_device.cc:1720] Found device 5 with properties: \n",
      "pciBusID: 0000:3f:00.0 name: Quadro RTX 6000 computeCapability: 7.5\n",
      "coreClock: 1.77GHz coreCount: 72 deviceMemorySize: 23.64GiB deviceMemoryBandwidth: 625.94GiB/s\n",
      "2023-05-08 18:35:56.605384: I tensorflow/core/common_runtime/gpu/gpu_device.cc:1720] Found device 6 with properties: \n",
      "pciBusID: 0000:40:00.0 name: Quadro RTX 6000 computeCapability: 7.5\n",
      "coreClock: 1.77GHz coreCount: 72 deviceMemorySize: 23.64GiB deviceMemoryBandwidth: 625.94GiB/s\n",
      "2023-05-08 18:35:56.605923: I tensorflow/core/common_runtime/gpu/gpu_device.cc:1720] Found device 7 with properties: \n",
      "pciBusID: 0000:41:00.0 name: Quadro RTX 6000 computeCapability: 7.5\n",
      "coreClock: 1.77GHz coreCount: 72 deviceMemorySize: 23.64GiB deviceMemoryBandwidth: 625.94GiB/s\n",
      "2023-05-08 18:35:56.605964: I tensorflow/stream_executor/platform/default/dso_loader.cc:49] Successfully opened dynamic library libcudart.so.10.1\n",
      "2023-05-08 18:35:56.605990: I tensorflow/stream_executor/platform/default/dso_loader.cc:49] Successfully opened dynamic library libcublas.so.10\n",
      "2023-05-08 18:35:56.606003: I tensorflow/stream_executor/platform/default/dso_loader.cc:49] Successfully opened dynamic library libcublasLt.so.10\n",
      "2023-05-08 18:35:56.606015: I tensorflow/stream_executor/platform/default/dso_loader.cc:49] Successfully opened dynamic library libcufft.so.10\n",
      "2023-05-08 18:35:56.606027: I tensorflow/stream_executor/platform/default/dso_loader.cc:49] Successfully opened dynamic library libcurand.so.10\n",
      "2023-05-08 18:35:56.606039: I tensorflow/stream_executor/platform/default/dso_loader.cc:49] Successfully opened dynamic library libcusolver.so.10\n",
      "2023-05-08 18:35:56.606051: I tensorflow/stream_executor/platform/default/dso_loader.cc:49] Successfully opened dynamic library libcusparse.so.10\n",
      "2023-05-08 18:35:56.606063: I tensorflow/stream_executor/platform/default/dso_loader.cc:49] Successfully opened dynamic library libcudnn.so.7\n",
      "2023-05-08 18:35:56.613816: I tensorflow/core/common_runtime/gpu/gpu_device.cc:1862] Adding visible gpu devices: 0, 1, 2, 3, 4, 5, 6, 7\n",
      "2023-05-08 18:35:56.613946: I tensorflow/core/common_runtime/gpu/gpu_device.cc:1261] Device interconnect StreamExecutor with strength 1 edge matrix:\n",
      "2023-05-08 18:35:56.613953: I tensorflow/core/common_runtime/gpu/gpu_device.cc:1267]      0 1 2 3 4 5 6 7 \n",
      "2023-05-08 18:35:56.613959: I tensorflow/core/common_runtime/gpu/gpu_device.cc:1280] 0:   N Y Y Y Y Y Y Y \n",
      "2023-05-08 18:35:56.613963: I tensorflow/core/common_runtime/gpu/gpu_device.cc:1280] 1:   Y N Y Y Y Y Y Y \n",
      "2023-05-08 18:35:56.613967: I tensorflow/core/common_runtime/gpu/gpu_device.cc:1280] 2:   Y Y N Y Y Y Y Y \n",
      "2023-05-08 18:35:56.613972: I tensorflow/core/common_runtime/gpu/gpu_device.cc:1280] 3:   Y Y Y N Y Y Y Y \n",
      "2023-05-08 18:35:56.613976: I tensorflow/core/common_runtime/gpu/gpu_device.cc:1280] 4:   Y Y Y Y N Y Y Y \n",
      "2023-05-08 18:35:56.613980: I tensorflow/core/common_runtime/gpu/gpu_device.cc:1280] 5:   Y Y Y Y Y N Y Y \n",
      "2023-05-08 18:35:56.613984: I tensorflow/core/common_runtime/gpu/gpu_device.cc:1280] 6:   Y Y Y Y Y Y N Y \n",
      "2023-05-08 18:35:56.613988: I tensorflow/core/common_runtime/gpu/gpu_device.cc:1280] 7:   Y Y Y Y Y Y Y N \n",
      "2023-05-08 18:35:56.618651: I tensorflow/core/common_runtime/gpu/gpu_device.cc:1406] Created TensorFlow device (/job:localhost/replica:0/task:0/device:GPU:0 with 12106 MB memory) -> physical GPU (device: 0, name: Quadro RTX 6000, pci bus id: 0000:1b:00.0, compute capability: 7.5)\n",
      "2023-05-08 18:35:56.619192: I tensorflow/core/common_runtime/gpu/gpu_device.cc:1406] Created TensorFlow device (/job:localhost/replica:0/task:0/device:GPU:1 with 12106 MB memory) -> physical GPU (device: 1, name: Quadro RTX 6000, pci bus id: 0000:1c:00.0, compute capability: 7.5)\n",
      "2023-05-08 18:35:56.619687: I tensorflow/core/common_runtime/gpu/gpu_device.cc:1406] Created TensorFlow device (/job:localhost/replica:0/task:0/device:GPU:2 with 12106 MB memory) -> physical GPU (device: 2, name: Quadro RTX 6000, pci bus id: 0000:1d:00.0, compute capability: 7.5)\n",
      "2023-05-08 18:35:56.620178: I tensorflow/core/common_runtime/gpu/gpu_device.cc:1406] Created TensorFlow device (/job:localhost/replica:0/task:0/device:GPU:3 with 12106 MB memory) -> physical GPU (device: 3, name: Quadro RTX 6000, pci bus id: 0000:1e:00.0, compute capability: 7.5)\n",
      "2023-05-08 18:35:56.620668: I tensorflow/core/common_runtime/gpu/gpu_device.cc:1406] Created TensorFlow device (/job:localhost/replica:0/task:0/device:GPU:4 with 12106 MB memory) -> physical GPU (device: 4, name: Quadro RTX 6000, pci bus id: 0000:3d:00.0, compute capability: 7.5)\n",
      "2023-05-08 18:35:56.621189: I tensorflow/core/common_runtime/gpu/gpu_device.cc:1406] Created TensorFlow device (/job:localhost/replica:0/task:0/device:GPU:5 with 12106 MB memory) -> physical GPU (device: 5, name: Quadro RTX 6000, pci bus id: 0000:3f:00.0, compute capability: 7.5)\n",
      "2023-05-08 18:35:56.621714: I tensorflow/core/common_runtime/gpu/gpu_device.cc:1406] Created TensorFlow device (/job:localhost/replica:0/task:0/device:GPU:6 with 12106 MB memory) -> physical GPU (device: 6, name: Quadro RTX 6000, pci bus id: 0000:40:00.0, compute capability: 7.5)\n",
      "2023-05-08 18:35:56.622243: I tensorflow/core/common_runtime/gpu/gpu_device.cc:1406] Created TensorFlow device (/job:localhost/replica:0/task:0/device:GPU:7 with 12106 MB memory) -> physical GPU (device: 7, name: Quadro RTX 6000, pci bus id: 0000:41:00.0, compute capability: 7.5)\n",
      "/opt/anaconda3/lib/python3.9/site-packages/sklearn/linear_model/_logistic.py:444: ConvergenceWarning: lbfgs failed to converge (status=1):\n",
      "STOP: TOTAL NO. of ITERATIONS REACHED LIMIT.\n",
      "\n",
      "Increase the number of iterations (max_iter) or scale the data as shown in:\n",
      "    https://scikit-learn.org/stable/modules/preprocessing.html\n",
      "Please also refer to the documentation for alternative solver options:\n",
      "    https://scikit-learn.org/stable/modules/linear_model.html#logistic-regression\n",
      "  n_iter_i = _check_optimize_result(\n"
     ]
    },
    {
     "name": "stdout",
     "output_type": "stream",
     "text": [
      "Elapsed Time for Logistic Regression: 9.882444858551025\n",
      "\n",
      "Baseline Training Accuracy: 0.7264\n",
      "CV l2 Time: 2668.494802713394\n",
      "\n",
      "CV l2 Baseline: 0.7008\n",
      "CV l1 Time: 6986.902775287628\n",
      "\n",
      "CV l1 Baseline: 0.6967\n"
     ]
    }
   ],
   "source": [
    "tf.debugging.set_log_device_placement(True)\n",
    "gpus = tf.config.list_logical_devices('GPU')\n",
    "strategy = tf.distribute.MirroredStrategy(gpus)\n",
    "with strategy.scope():\n",
    "\n",
    "    ####################################################################\n",
    "    time_start = time()\n",
    "    lgr = LogisticRegression(n_jobs = -1)\n",
    "    lgr.fit(X,y)\n",
    "\n",
    "    time_stop = time()\n",
    "    print('Elapsed Time for Logistic Regression:', time_stop-time_start)\n",
    "    print()\n",
    "    print('Baseline Training Accuracy:', lgr.score(X,y))\n",
    "    ####################################################################\n",
    "    ts = time()\n",
    "    lgrcv2 = LogisticRegressionCV(cv=5, \n",
    "                                 random_state=0, \n",
    "                                 n_jobs=-1,\n",
    "                                 penalty='l2',\n",
    "                                 solver='sag',\n",
    "                                 max_iter = 5000)\n",
    "\n",
    "    lgrcv2.fit(X,y)\n",
    "    tss= time()\n",
    "    print('CV l2 Time:', tss-ts)\n",
    "    print()\n",
    "    print('CV l2 Baseline:', lgrcv2.score(X,y))\n",
    "    ####################################################################\n",
    "    ts = time()\n",
    "    lgrcv1 = LogisticRegressionCV(cv=5, \n",
    "                                 random_state=0, \n",
    "                                 n_jobs=-1,\n",
    "                                 penalty='l1',\n",
    "                                 solver='saga',\n",
    "                                 max_iter = 10000)\n",
    "\n",
    "    lgrcv1.fit(X,y)\n",
    "    tss= time()\n",
    "    print('CV l1 Time:', tss-ts)\n",
    "    print()\n",
    "    print('CV l1 Baseline:', lgrcv1.score(X,y))\n",
    "    "
   ]
  },
  {
   "cell_type": "code",
   "execution_count": 85,
   "id": "de366b30-6146-4332-9548-2f7bad090754",
   "metadata": {},
   "outputs": [],
   "source": [
    "import matplotlib.pyplot as plt"
   ]
  },
  {
   "cell_type": "code",
   "execution_count": 195,
   "id": "c8a55480-5500-4d9e-b8d4-3d06801e9820",
   "metadata": {},
   "outputs": [],
   "source": [
    "resultsl2 = lgrcv2.coef_\n",
    "resultsl2 = resultsl2.reshape([32,32,3])\n",
    "x = []\n",
    "y = []\n",
    "\n",
    "xred = []\n",
    "yred = []\n",
    "\n",
    "xgreen = []\n",
    "ygreen = []\n",
    "\n",
    "xblue = []\n",
    "yblue = []\n",
    "\n",
    "weight = [0.01,0.05,0.1]\n",
    "\n",
    "for w in range(len(weight)):\n",
    "    for rgb in range(3):\n",
    "        for i in range(32):\n",
    "            for j in range(32):\n",
    "                if abs(resultsl2[i,j,rgb]) > weight[w]:\n",
    "                    if rgb == 0:\n",
    "                        xred.append(i);\n",
    "                        yred.append(j);\n",
    "                    if rgb == 1:\n",
    "                        xgreen.append(i);\n",
    "                        ygreen.append(j);\n",
    "                    if rgb == 2:\n",
    "                        xblue.append(i);\n",
    "                        yblue.append(j);\n",
    "\n",
    "x = xred + xgreen + xblue;\n",
    "y = yred + ygreen + yblue"
   ]
  },
  {
   "cell_type": "code",
   "execution_count": 210,
   "id": "87a7f54d-10fa-469f-8229-2c0b822832b5",
   "metadata": {},
   "outputs": [
    {
     "data": {
      "text/plain": [
       "<matplotlib.collections.PathCollection at 0x7fcf2019f250>"
      ]
     },
     "execution_count": 210,
     "metadata": {},
     "output_type": "execute_result"
    },
    {
     "data": {
      "image/png": "[encoded data removed]",
      "text/plain": [
       "<Figure size 640x480 with 1 Axes>"
      ]
     },
     "metadata": {},
     "output_type": "display_data"
    }
   ],
   "source": [
    "plt.scatter(xred,yred,alpha=0.3,c='r',marker='s')"
   ]
  },
  {
   "cell_type": "code",
   "execution_count": 211,
   "id": "a622f2f5-f878-45d3-b5e8-ccc32ad6a71f",
   "metadata": {},
   "outputs": [
    {
     "data": {
      "text/plain": [
       "<matplotlib.collections.PathCollection at 0x7fce6041a760>"
      ]
     },
     "execution_count": 211,
     "metadata": {},
     "output_type": "execute_result"
    },
    {
     "data": {
      "image/png": "[encoded data removed]",
      "text/plain": [
       "<Figure size 640x480 with 1 Axes>"
      ]
     },
     "metadata": {},
     "output_type": "display_data"
    }
   ],
   "source": [
    "plt.scatter(xgreen,ygreen,alpha=0.3,c='g',marker='s')"
   ]
  },
  {
   "cell_type": "code",
   "execution_count": 212,
   "id": "0a223b2c-cc7d-461a-b51d-78518af64fbd",
   "metadata": {},
   "outputs": [
    {
     "data": {
      "text/plain": [
       "<matplotlib.collections.PathCollection at 0x7fce601ce7f0>"
      ]
     },
     "execution_count": 212,
     "metadata": {},
     "output_type": "execute_result"
    },
    {
     "data": {
      "image/png": "[encoded data removed]",
      "text/plain": [
       "<Figure size 640x480 with 1 Axes>"
      ]
     },
     "metadata": {},
     "output_type": "display_data"
    }
   ],
   "source": [
    "plt.scatter(xblue,yblue,alpha=0.3,c='b',marker='s')"
   ]
  },
  {
   "cell_type": "code",
   "execution_count": 213,
   "id": "9aaccd67-53a2-42a0-92b6-d93740f013e5",
   "metadata": {},
   "outputs": [
    {
     "data": {
      "text/plain": [
       "<matplotlib.collections.PathCollection at 0x7fce601a7850>"
      ]
     },
     "execution_count": 213,
     "metadata": {},
     "output_type": "execute_result"
    },
    {
     "data": {
      "image/png": "[encoded data removed]",
      "text/plain": [
       "<Figure size 640x480 with 1 Axes>"
      ]
     },
     "metadata": {},
     "output_type": "display_data"
    }
   ],
   "source": [
    "plt.scatter(x,y,alpha=0.3,c='black',marker='s')"
   ]
  },
  {
   "cell_type": "code",
   "execution_count": 205,
   "id": "22bd3540-8d35-47dd-8893-df3954eaad02",
   "metadata": {},
   "outputs": [],
   "source": [
    "resultsl1 = lgrcv1.coef_\n",
    "resultsl1 = resultsl1.reshape([32,32,3])\n",
    "x = []\n",
    "y = []\n",
    "\n",
    "xred = []\n",
    "yred = []\n",
    "\n",
    "xgreen = []\n",
    "ygreen = []\n",
    "\n",
    "xblue = []\n",
    "yblue = []\n",
    "\n",
    "weight = [0.005,0.01,0.05,0.1]\n",
    "\n",
    "for w in range(len(weight)):\n",
    "    for rgb in range(3):\n",
    "        for i in range(32):\n",
    "            for j in range(32):\n",
    "                if abs(resultsl1[i,j,rgb]) > weight[w]:\n",
    "                    if rgb == 0:\n",
    "                        xred.append(i);\n",
    "                        yred.append(j);\n",
    "                    if rgb == 1:\n",
    "                        xgreen.append(i);\n",
    "                        ygreen.append(j);\n",
    "                    if rgb == 2:\n",
    "                        xblue.append(i);\n",
    "                        yblue.append(j);\n",
    "\n",
    "x = xred + xgreen + xblue;\n",
    "y = yred + ygreen + yblue"
   ]
  },
  {
   "cell_type": "code",
   "execution_count": 215,
   "id": "aa54387c-80da-48e5-94c7-7d6187831164",
   "metadata": {},
   "outputs": [
    {
     "data": {
      "text/plain": [
       "<matplotlib.collections.PathCollection at 0x7fce600d12e0>"
      ]
     },
     "execution_count": 215,
     "metadata": {},
     "output_type": "execute_result"
    },
    {
     "data": {
      "image/png": "[encoded data removed]",
      "text/plain": [
       "<Figure size 640x480 with 1 Axes>"
      ]
     },
     "metadata": {},
     "output_type": "display_data"
    }
   ],
   "source": [
    "plt.scatter(xred,yred,alpha=0.2,c='r',marker='s')"
   ]
  },
  {
   "cell_type": "code",
   "execution_count": 216,
   "id": "866be704-5bc0-4e2a-9be9-53466fb4b788",
   "metadata": {},
   "outputs": [
    {
     "data": {
      "text/plain": [
       "<matplotlib.collections.PathCollection at 0x7fce6004b5b0>"
      ]
     },
     "execution_count": 216,
     "metadata": {},
     "output_type": "execute_result"
    },
    {
     "data": {
      "image/png": "[encoded data removed]",
      "text/plain": [
       "<Figure size 640x480 with 1 Axes>"
      ]
     },
     "metadata": {},
     "output_type": "display_data"
    }
   ],
   "source": [
    "plt.scatter(xgreen,ygreen,alpha=0.2,c='g',marker='s')"
   ]
  },
  {
   "cell_type": "code",
   "execution_count": 217,
   "id": "f1e1b8b8-b9d4-4cf3-a2c7-40b71bd1aff5",
   "metadata": {},
   "outputs": [
    {
     "data": {
      "text/plain": [
       "<matplotlib.collections.PathCollection at 0x7fce347f8e50>"
      ]
     },
     "execution_count": 217,
     "metadata": {},
     "output_type": "execute_result"
    },
    {
     "data": {
      "image/png": "[encoded data removed]",
      "text/plain": [
       "<Figure size 640x480 with 1 Axes>"
      ]
     },
     "metadata": {},
     "output_type": "display_data"
    }
   ],
   "source": [
    "plt.scatter(xblue,yblue,alpha=0.2,c='b',marker='s')"
   ]
  },
  {
   "cell_type": "code",
   "execution_count": 218,
   "id": "b1d711d6-b207-44d2-bd87-5fc32dfd85a9",
   "metadata": {},
   "outputs": [
    {
     "data": {
      "text/plain": [
       "<matplotlib.collections.PathCollection at 0x7fce6007f760>"
      ]
     },
     "execution_count": 218,
     "metadata": {},
     "output_type": "execute_result"
    },
    {
     "data": {
      "image/png": "[encoded data removed]",
      "text/plain": [
       "<Figure size 640x480 with 1 Axes>"
      ]
     },
     "metadata": {},
     "output_type": "display_data"
    }
   ],
   "source": [
    "plt.scatter(x,y,alpha=0.3,c='black',marker='s')"
   ]
  },
  {
   "cell_type": "code",
   "execution_count": 220,
   "id": "becc770a-05ad-49eb-96cf-1d1e42394ed1",
   "metadata": {},
   "outputs": [],
   "source": [
    "import plotly.express as px"
   ]
  },
  {
   "cell_type": "code",
   "execution_count": 1,
   "id": "b7891325-376a-4f6f-9fef-90bdd38c5f80",
   "metadata": {},
   "outputs": [
    {
     "ename": "NameError",
     "evalue": "name 'resultsl2' is not defined",
     "output_type": "error",
     "traceback": [
      "\u001b[1;31m---------------------------------------------------------------------------\u001b[0m",
      "\u001b[1;31mNameError\u001b[0m                                 Traceback (most recent call last)",
      "Cell \u001b[1;32mIn[1], line 10\u001b[0m\n\u001b[0;32m      8\u001b[0m \u001b[38;5;28;01mfor\u001b[39;00m j \u001b[38;5;129;01min\u001b[39;00m \u001b[38;5;28mrange\u001b[39m(\u001b[38;5;241m32\u001b[39m):\n\u001b[0;32m      9\u001b[0m     \u001b[38;5;28;01mif\u001b[39;00m rgb \u001b[38;5;241m==\u001b[39m \u001b[38;5;241m0\u001b[39m:\n\u001b[1;32m---> 10\u001b[0m         resultsl2_r\u001b[38;5;241m.\u001b[39mappend(\u001b[43mresultsl2\u001b[49m[i,j,rgb])\n\u001b[0;32m     11\u001b[0m     \u001b[38;5;28;01mif\u001b[39;00m rgb \u001b[38;5;241m==\u001b[39m \u001b[38;5;241m1\u001b[39m:\n\u001b[0;32m     12\u001b[0m         resultsl2_g\u001b[38;5;241m.\u001b[39mappend(resultsl2[i,j,rgb])\n",
      "\u001b[1;31mNameError\u001b[0m: name 'resultsl2' is not defined"
     ]
    }
   ],
   "source": [
    "resultsl2_r = []\n",
    "resultsl2_g = []\n",
    "resultsl2_b = []\n",
    "\n",
    "\n",
    "for rgb in range(3):\n",
    "        for i in range(32):\n",
    "            for j in range(32):\n",
    "                if rgb == 0:\n",
    "                    resultsl2_r.append(resultsl2[i,j,rgb])\n",
    "                if rgb == 1:\n",
    "                    resultsl2_g.append(resultsl2[i,j,rgb])\n",
    "                if rgb == 2:\n",
    "                    resultsl2_b.append(resultsl2[i,j,rgb])\n",
    "                    "
   ]
  },
  {
   "cell_type": "code",
   "execution_count": null,
   "id": "562e0dd2-027a-4144-ae8e-7bf3d8354ba6",
   "metadata": {},
   "outputs": [],
   "source": [
    "resultsl2_r = np.array(resultsl2_r)\n",
    "resultsl2_r = resultsl2_r.reshape([32,32])\n",
    "\n",
    "fig_r = px.imshow(resultsl2_r)\n",
    "fig_r.update_xaxes(side=\"top\")\n",
    "fig_r.show()"
   ]
  },
  {
   "cell_type": "code",
   "execution_count": 2,
   "id": "87ee8419-c2ff-41b6-822c-0980f34b7c46",
   "metadata": {},
   "outputs": [
    {
     "ename": "NameError",
     "evalue": "name 'np' is not defined",
     "output_type": "error",
     "traceback": [
      "\u001b[1;31m---------------------------------------------------------------------------\u001b[0m",
      "\u001b[1;31mNameError\u001b[0m                                 Traceback (most recent call last)",
      "Cell \u001b[1;32mIn[2], line 1\u001b[0m\n\u001b[1;32m----> 1\u001b[0m resultsl2_g \u001b[38;5;241m=\u001b[39m \u001b[43mnp\u001b[49m\u001b[38;5;241m.\u001b[39marray(resultsl2_g)\n\u001b[0;32m      2\u001b[0m resultsl2_g \u001b[38;5;241m=\u001b[39m resultsl2_g\u001b[38;5;241m.\u001b[39mreshape([\u001b[38;5;241m32\u001b[39m,\u001b[38;5;241m32\u001b[39m])\n\u001b[0;32m      4\u001b[0m fig_g \u001b[38;5;241m=\u001b[39m px\u001b[38;5;241m.\u001b[39mimshow(resultsl2_g)\n",
      "\u001b[1;31mNameError\u001b[0m: name 'np' is not defined"
     ]
    }
   ],
   "source": [
    "resultsl2_g = np.array(resultsl2_g)\n",
    "resultsl2_g = resultsl2_g.reshape([32,32])\n",
    "\n",
    "fig_g = px.imshow(resultsl2_g)\n",
    "fig_g.update_xaxes(side=\"top\")\n",
    "fig_g.show()"
   ]
  },
  {
   "cell_type": "code",
   "execution_count": 264,
   "id": "28341aa6-dea0-492c-bbf5-7fe7f60a4858",
   "metadata": {},
   "outputs": [
    {
     "data": {
      "application/vnd.plotly.v1+json": {
       "config": {
        "plotlyServerURL": "https://plot.ly"
       },
       "data": [
        {
         "coloraxis": "coloraxis",
         "hovertemplate": "x: %{x}<br>y: %{y}<br>color: %{z}<extra></extra>",
         "name": "0",
         "type": "heatmap",
         "xaxis": "x",
         "yaxis": "y",
         "z": [
          [
           0.005330362738584114,
           -0.00046951999833525014,
           -0.0007960061717765666,
           -0.005888638002282562,
           -0.004656807549183286,
           0.007606311311274236,
           0.003488190599497558,
           0.005643543045106346,
           0.012726631420210263,
           0.007083923244324161,
           -0.0018354151847140118,
           -0.003716459106466443,
           0.003120653245035073,
           -0.005877605069680798,
           -0.006304874962626769,
           -0.005343407418408101,
           0.002516815417681715,
           0.005217089967655704,
           0.001522976132170091,
           0.004663533775557179,
           -0.0016546808734950354,
           0.00039263597629773196,
           -0.0003107695268408375,
           0.00974095983563102,
           0.008511999582231927,
           0.0071386728380871175,
           0.006893754788833827,
           0.0037655804696567433,
           0.001706817307627276,
           0.006524828024673172,
           0.013345644781564145,
           0.01619527368182659
          ],
          [
           0.0026534526708017502,
           -0.007585874206493089,
           -0.0077256278520171605,
           -0.0070446741730545055,
           -0.00032928470246612477,
           0.007029453998897488,
           0.004845487260741701,
           0.0077059316981961425,
           0.0002571946443992724,
           0.002673529061035032,
           -0.003460160200583551,
           -0.005591371127155446,
           0.0016693456287951527,
           -0.002281799590515562,
           0.002260466595172905,
           -0.005306468744459615,
           -0.0032811074477135382,
           0.005440791782597155,
           0.007131802003682347,
           0.005682047586275113,
           -0.000478454646674422,
           0.0007811211596496008,
           -0.0012940057168578112,
           0.003722733119539938,
           0.0026873543340574122,
           0.004358734210401157,
           0.003806140661615362,
           -0.005769995200541669,
           -0.006629547546183419,
           -8.292550473207015e-05,
           0.006159064619482942,
           0.003659396842551457
          ],
          [
           7.450130567685143e-06,
           -0.01323064254983212,
           -0.010915683896064206,
           -0.007357674257015345,
           0.000696919878540987,
           0.004274766060260057,
           0.004932987873588631,
           0.007543366246482348,
           -0.002636748032901307,
           -0.003621118969616989,
           0.0006923236842461431,
           0.004007125417192549,
           0.005087620638024116,
           -0.0006835199207941886,
           0.0031330759406973567,
           -0.010934195649340905,
           -0.007889546850555562,
           -0.00589480027860717,
           0.004747317411577158,
           0.007121947376370088,
           0.003051090679965776,
           -0.003608812749969258,
           -0.0008963276472953089,
           0.009238517778742412,
           0.00509056347654302,
           0.005198977668912111,
           0.0003013066601618776,
           0.0016004536217446195,
           0.005291893522724627,
           0.004658901294647302,
           0.009104233328283967,
           0.0008213305706225402
          ],
          [
           -0.002588974507612947,
           -0.01279768123500591,
           -0.008551669053572908,
           -0.0027812674520356403,
           -0.008551315811837388,
           -0.008269104826884466,
           -0.0010377054329840586,
           0.0022588823900717256,
           0.005812682565561417,
           0.0031942501794316657,
           0.005910563497819049,
           0.001576542373036327,
           -0.0045057937463432,
           -0.0031562183159467255,
           0.0037617770498376275,
           -0.006118804790379534,
           -0.0025434586932447083,
           -0.010609774871904794,
           -0.0009400214301788077,
           -0.004086880087478774,
           -0.0045627385602931315,
           -0.005639206472156732,
           -0.0014288157433261697,
           0.003187897886902855,
           0.010247429156458416,
           0.007771811591842386,
           0.0029789604213680816,
           0.011287980134562434,
           0.006284544949127103,
           -0.0017361986870375915,
           0.005382043329276574,
           0.003909254713332743
          ],
          [
           -0.0026096192218087416,
           -0.0026615693683230014,
           0.00017008636583035268,
           0.0032892594995815273,
           -0.004632299253399946,
           -0.00044072160741417265,
           0.0022229825315538345,
           -0.0012101634826965008,
           0.0019031201689412413,
           0.0023847133818391732,
           0.0036514937744751307,
           0.005268424786352233,
           0.003896421272530779,
           0.0021030050861531647,
           0.006258601284558931,
           0.003796543023491272,
           0.0009068821309414508,
           -0.0023019026413528968,
           0.005711143349332604,
           0.00521433178475744,
           0.0032777469522202933,
           -0.006543462191690674,
           -0.00881896430351431,
           -0.013171288279500122,
           -0.002093388903301918,
           -0.0011369613828521416,
           -0.0005722563733020087,
           0.0028008887287536326,
           0.00027128863646269,
           -0.0033096358053467155,
           0.0014262271401760819,
           0.004219591373796975
          ],
          [
           0.006602498495684546,
           0.0059866233028357165,
           0.002792308364100678,
           0.0048087449332123115,
           0.0016618730156478065,
           0.0028458554251046897,
           -3.2662698233512356e-05,
           -0.004503847937134774,
           -0.01032509880939362,
           -0.008769846495964163,
           0.001062365463870465,
           0.007429588862814541,
           0.0010727365484849243,
           -0.0006289950196111505,
           0.005231016865311862,
           -0.0013376275794397443,
           -0.004897300683018479,
           -0.005776721481085391,
           0.0006478388398671417,
           0.003494028756316713,
           0.003936788598727496,
           -0.005960940388446449,
           -0.007325685520188238,
           -0.0031025495452538863,
           -0.002231383876058271,
           -0.0015326227954093534,
           0.0008869352241191771,
           -0.000913077145303909,
           0.0016888093371113045,
           0.0024589924379406487,
           0.0029198741724317033,
           0.0010911848387030417
          ],
          [
           0.014110193452507629,
           0.0036050076136455358,
           -0.0045457007813281885,
           -0.002804582258562106,
           0.0004924560285674985,
           -0.0003484927311942398,
           -0.0009341417455921726,
           -0.0005827855957996161,
           -0.0021244616153765186,
           -0.004679284678422032,
           0.004770337982914303,
           0.00036368094224551584,
           -0.011513166551245863,
           -0.0009243360994092926,
           0.004858137567440236,
           -0.0006841361705926163,
           -0.002866705936320428,
           -0.006982017232966425,
           -0.012134683595789267,
           -0.008728282813267374,
           -0.0038160066984071345,
           -0.005797703343849959,
           -0.013607766391543994,
           -0.004434071566021941,
           0.00367453158006476,
           0.0037281843139828665,
           0.0010166491149575195,
           -0.0033486714679317013,
           0.0019333758724583597,
           0.005121576017726878,
           0.0028057882019981075,
           0.0014564428063269415
          ],
          [
           0.016381946521447352,
           0.007666174924554888,
           -0.0024944924508373788,
           -0.006811842342554551,
           -0.001173333694232184,
           -0.001873743283128594,
           -0.0019141029381544283,
           0.006776400221405474,
           0.008576456485280447,
           0.005804519005573021,
           0.016224258331306796,
           0.009047534117509255,
           -0.009915147153088534,
           -0.0011240507174114232,
           0.00439437635612161,
           -0.004576300291360843,
           -0.0061717253602875015,
           -0.005645812968989164,
           -0.007366744616589605,
           -0.003784280941921093,
           -0.002064186599628959,
           -0.0026913420680303164,
           -0.004285555699711292,
           -0.0005273386465940665,
           -0.004586522759037666,
           -0.0018870932160326504,
           -0.0014108829331483947,
           1.9596937668088157e-05,
           0.0012729536476111488,
           0.00970723148804136,
           0.000924178375116478,
           0.003215624871855664
          ],
          [
           0.00019034979448781013,
           -0.006121389706937804,
           -0.007205061502036057,
           -0.011382249159732639,
           -0.012502170338178823,
           -0.0005474433284755216,
           -0.005921339550352879,
           0.009182572608956203,
           -0.0007855906582696301,
           -0.0014302948548538803,
           -0.001760246326789995,
           -0.00019918476797416772,
           -0.007226159454240647,
           0.0053990004462928535,
           0.006294329708040809,
           -0.0038381936714297284,
           -0.009525594975335712,
           0.0022428984583465783,
           0.002294558186448768,
           -0.004756439513959608,
           -0.005585677802592207,
           -0.005138862360120884,
           -0.0008229656603191823,
           0.00830532756674638,
           -0.00324927200823542,
           0.0034823618560633303,
           -0.009263842269017815,
           0.005013257722912951,
           0.003934961675341616,
           0.0004261579373955417,
           0.00229218845943901,
           -0.0035698135076352036
          ],
          [
           0.004257053604984331,
           0.00667569070220366,
           -0.0005326664975097878,
           -0.006791388862595341,
           0.0024302727760673604,
           0.010030625373368969,
           -0.002454937460166391,
           -0.002819882385278615,
           -0.009221059857732947,
           5.260937328318687e-05,
           0.005210840604578752,
           0.007613556351642931,
           0.00015850677100071365,
           -0.0032280232784259303,
           -0.001666792545057406,
           -0.010342965871660378,
           0.0023272917480724963,
           0.012870156654676652,
           -0.001883419743319102,
           0.006955386384694017,
           0.0064861842111104,
           -0.0028597566046411863,
           -0.004949665732139372,
           -0.004416766581029474,
           -0.0012402898012647211,
           0.008515674471871916,
           0.007157247596257253,
           0.009886989255164886,
           -0.0032728282937451755,
           0.0028357886581245606,
           0.011027762642804565,
           -0.0010661350567109022
          ],
          [
           -0.0005572264742182531,
           0.0040988987032496175,
           0.004043431843644536,
           0.0034248466608083144,
           0.009172496294829075,
           0.005853806851334258,
           0.005838853729046091,
           0.0009530456930686637,
           -0.0051906929064267525,
           -0.003385575340099151,
           -0.0011889318636019834,
           -0.00023243718551593462,
           -0.009147136595337816,
           -0.00883714509115715,
           0.0006871840293995241,
           -0.007503783960291112,
           0.010777605281245137,
           0.010894213711515562,
           0.002696197070780653,
           0.021752963435962766,
           0.016268945050357475,
           -0.0004090631809165976,
           0.004326896871332045,
           0.005134635056818744,
           -0.0019399987454586734,
           0.0069115177106382555,
           0.0055286426387777905,
           0.01033117418679087,
           -0.0059240325423376185,
           -9.726074333661585e-05,
           0.007914298510380923,
           -0.0002324916314067645
          ],
          [
           0.008501856228526809,
           0.004057145816186561,
           0.005482566890139089,
           0.0035142841425132697,
           0.004824651343269981,
           -0.0008047471709297319,
           0.007444309812147195,
           -0.00010503156055742566,
           -0.0006160864224109454,
           0.004460503019625866,
           -0.0030544001171499396,
           0.002161197026298216,
           -0.001495728965540888,
           -0.002082123868797479,
           -0.0026208743847780736,
           -0.007943447340017187,
           -0.008679197484289759,
           0.0003298041108234641,
           3.195261392174313e-05,
           0.012218227476434274,
           0.006370594351381738,
           -0.00015747116471667545,
           0.009886852020466637,
           0.009263929158336138,
           -0.0016126702300384593,
           -0.003780411801441914,
           -0.007810165162722777,
           -0.0035905073561438437,
           -0.004467374292009482,
           -0.0031031579288461632,
           -0.008553351534272035,
           -0.0035805011884331066
          ],
          [
           0.014761367470974283,
           0.003967741001007112,
           0.004921487196038255,
           -0.007980404865927574,
           -0.011717021588138936,
           -0.007609010156966955,
           0.00013684437498966002,
           -0.0043273746530085935,
           0.00023764024598212465,
           0.008042827236034819,
           0.007759405700601881,
           0.0070375203410459105,
           0.006080170704518032,
           0.007736669411427228,
           -0.0005774765743583602,
           -0.01035776966060586,
           -0.007509765435127719,
           0.003739245657905691,
           0.0011833525500680835,
           -0.0021686947694869296,
           0.0006233228317054509,
           0.001045891412446691,
           0.00492430742243488,
           0.009484666539479407,
           0.007448758989843324,
           0.005261192993643785,
           0.0025086237180970933,
           0.004728649477150335,
           0.003725054283350262,
           -0.0016047862358753934,
           -0.014547424646999192,
           -5.288081764669082e-05
          ],
          [
           0.0037419914391141245,
           -0.00339773830500641,
           0.0039000362265830604,
           -0.0029322456002539104,
           -0.0029586924071966854,
           0.00954448092576809,
           0.0008580209660470174,
           -0.0030063553056547732,
           0.0031648561328294187,
           0.010715840988516214,
           0.0061092378993522906,
           0.006824597638709261,
           0.0010557298690828546,
           0.004150884021593469,
           0.0011298339489820529,
           -0.00244184847732541,
           -0.0029918211442732105,
           0.007694948287886765,
           0.0016278396854136718,
           -0.00745896947803539,
           0.010482236771712176,
           -0.0022526629515968242,
           -0.00823821580054488,
           -0.004335307545606279,
           0.009744758833450756,
           0.006999535240878111,
           0.0030673622246573102,
           0.0033181394289124627,
           -0.000314729382549736,
           0.0007484611041314902,
           -0.004933787326777239,
           -0.0017021103965273064
          ],
          [
           -0.0025659372198734267,
           -0.007474873524264304,
           0.007605483134268028,
           -0.0009475656940646848,
           -0.007394811030538385,
           0.0059062719123142045,
           0.0030862035205496356,
           0.011706410231358537,
           0.005541359761296812,
           0.01588900137993095,
           0.012418031736793931,
           0.01370352177797315,
           0.00970127988281655,
           0.012365802549687447,
           -0.0017795876509883958,
           0.006101938525077133,
           0.0024708300476069,
           -0.008304709907434465,
           -0.0023871085750549787,
           0.008319816318306406,
           0.020018220260491774,
           0.01168511632836298,
           0.005907598441584879,
           -0.0034184432417548477,
           0.0038809309423332742,
           -0.007550731717058358,
           -0.009829545521645075,
           -0.005171837032576823,
           -0.0049164967441008515,
           -0.004160028421416264,
           -0.0018110421447235158,
           -0.006437973939081608
          ],
          [
           -0.0033471570392922677,
           -0.006613804016462418,
           0.006874473724382374,
           0.0012913569607319814,
           -0.0034841430101245434,
           0.008721342339885859,
           -0.002373294034671966,
           0.010904580701206765,
           0.007944901797393147,
           0.021443997801777966,
           0.008873961035925117,
           0.004908820395831948,
           0.011961121851281417,
           0.019743815588049968,
           -0.0040538278420768304,
           4.782723262294956e-05,
           0.006783793459402991,
           0.0015454936497272963,
           0.014802116896498359,
           0.02190169830544834,
           0.0021736702197494968,
           0.01035055851607291,
           0.00942649481813853,
           0.005968139080299347,
           0.00612225548411489,
           -0.0046842781667512014,
           -0.005938447788750678,
           -0.0053956301967937464,
           -0.0043696297850732415,
           -0.005859926947706903,
           0.0002903610563353236,
           -0.008199014263489688
          ],
          [
           0.012446549908736566,
           0.011845642819510165,
           0.008071679109800686,
           0.010706390261920825,
           0.0018129529473602899,
           0.00804010601197253,
           -0.002205890449004092,
           -0.00267619576499214,
           -0.009950633502845746,
           0.004803978958755619,
           -0.008087446036664555,
           -0.0021228901304015586,
           -0.0030367385394117754,
           0.004530925768057054,
           0.0005173710076075892,
           -0.0035050788825735585,
           0.0015442741327239132,
           0.0014042091625196189,
           0.0013761670265336242,
           -0.002275794584183886,
           -0.004802586395443579,
           -0.012517259058280597,
           -0.006159627015712873,
           0.013150495369356405,
           0.016386576818595094,
           0.006778013534337555,
           0.001245603792341959,
           0.0059089674126396085,
           0.0017913666743104946,
           -0.0056314759348266566,
           -0.005559358999447865,
           -0.002035359169481416
          ],
          [
           0.013548906604414785,
           0.001584380812807943,
           0.007425915901788455,
           0.011384358702569248,
           0.0020691626019724765,
           0.0008061889710782924,
           0.00415805742413795,
           0.013986925214837444,
           -0.008556787621772213,
           -0.0033709426141029534,
           -0.0052347435353483065,
           0.0011753728815999023,
           0.0029115072186890302,
           0.006804108783369716,
           0.0031486247817823425,
           0.0013870195991318526,
           -0.009429213276995934,
           -0.002162342358812614,
           -0.0051013327299189734,
           0.005077929043236652,
           0.008557208116830636,
           0.004082173299081989,
           0.0061819632854801,
           0.009676471379192307,
           0.0018977911233994272,
           0.002558937711555874,
           -0.0007197802884104231,
           0.0005232891771207615,
           0.0015413537624619671,
           0.005974064158892395,
           0.008734925397852577,
           0.0023344144148588915
          ],
          [
           0.013105246077414557,
           -0.000834616508897808,
           0.004979912712401254,
           0.00642692275582802,
           -0.0052968581851824395,
           -0.011943666334267222,
           -2.587999745594676e-05,
           0.008243963714969287,
           -0.007053445129695135,
           0.001983715369657221,
           -0.00300320959332446,
           0.007008178010715661,
           0.005492578211253464,
           -0.0013742862959062261,
           -0.004520534970241658,
           -0.011902937265012598,
           -0.012134626801515561,
           0.0002643768403774694,
           -0.0030356498513414696,
           -0.004258655475076115,
           -6.0241447052635634e-05,
           0.005859319606675793,
           0.009264244774787598,
           0.01186556692192576,
           -0.0023769340017179897,
           0.005692487941664491,
           0.010010963679061608,
           -0.0034273217904792277,
           -0.005516230207728855,
           0.004869619092377614,
           0.008406129708060902,
           0.013396544860079601
          ],
          [
           0.015925177355702078,
           -0.002373487663265848,
           -0.006516408310835916,
           0.0040828795496689885,
           0.0035275848393266935,
           -0.004011468955088662,
           9.849057397628725e-05,
           -0.004119883185382394,
           0.002400732360800689,
           0.010937238830151512,
           -0.0010399484921958337,
           -0.00038352324070113484,
           -0.005669396502552292,
           -0.0056910908837669825,
           -0.0018573641152693297,
           -0.004247952828501048,
           -0.00850102320186746,
           -0.0022573111784126997,
           -0.002183981349067876,
           0.0003233532884426219,
           0.0020234175684591695,
           -0.0009010856346110662,
           -0.0002269523079402704,
           0.0014003440580464598,
           0.005624706447623011,
           0.007543713813801803,
           0.013013497446576863,
           0.008427310310034375,
           0.0010074602694545543,
           0.0021285930208279733,
           0.0032704375734816616,
           0.013452701515906945
          ],
          [
           0.002547971361061316,
           -0.009888888818523943,
           -0.002205879952744127,
           0.0012663154929686833,
           0.005081640644546555,
           0.004915281211181219,
           0.007028143455489855,
           0.0021448723332796026,
           -0.003891666582039968,
           0.0016280951036583555,
           -0.010573597419044407,
           -0.007883147753566775,
           -0.005369960036804953,
           -0.0035848254526353895,
           -0.012046672561994504,
           -0.014583561042795802,
           0.009795584875454042,
           0.0038402202978890377,
           -0.007773759182100429,
           -0.01139937590937104,
           0.0063765004876797015,
           0.0003904751560634953,
           -0.00819007412785903,
           -0.009193461232089042,
           -0.009876306450189156,
           -0.008225347956127624,
           -0.002522673675661547,
           0.006759370412540615,
           0.0030988790302733044,
           -0.0007590515241360529,
           0.007443399407812973,
           0.008979621332821479
          ],
          [
           0.0040371827763021695,
           -0.008781809017351311,
           0.006916553460650462,
           -0.00544246191387223,
           -0.012572806737133279,
           -0.008762862189757104,
           -0.003438087616956122,
           -0.0037378022812483086,
           0.003685640715665578,
           0.011272392794707096,
           0.0033073765193887745,
           -0.002477022421314129,
           -0.006240506901676941,
           -0.009808321522895519,
           -0.01261707468066115,
           -0.00623203551968642,
           0.011708078133780749,
           -0.001381261672449781,
           -0.006223297976285411,
           -0.007116823918540234,
           -0.00774811822790625,
           -0.014251628008282327,
           -0.002659948947633787,
           0.003184222594951309,
           -0.004798391576502763,
           0.00957054493194256,
           0.01614895744580461,
           0.0009628910600547307,
           -0.007522287199266414,
           -0.0021206285112193818,
           0.014712045258762557,
           0.01313661979514486
          ],
          [
           0.018046805426883056,
           -0.006037617311647828,
           0.0070375401404084124,
           0.010629509060743106,
           0.00014145876559296992,
           -0.006208079869662489,
           -0.00594465127086175,
           -0.0018809695480248355,
           -0.006817289858377409,
           -0.0005750660162317297,
           0.003683642375742501,
           -0.00206000239124803,
           -0.007017640058271916,
           -0.007904845322938206,
           -0.012556316609042285,
           -0.017142460949885207,
           -0.014310551592607069,
           -0.0091848439785001,
           0.0006240228162165441,
           0.000989615082122205,
           -0.015177990865785264,
           -0.017608557674508512,
           -0.0034818595929838416,
           -0.003624682353349938,
           -0.0035404405765388004,
           0.00594786172661298,
           0.016005454023039694,
           0.0003457255053164919,
           -0.006794520381741618,
           -0.0011727627841508295,
           0.012751888531637296,
           0.019501421707341253
          ],
          [
           0.012072967106116732,
           -0.004929035197643521,
           0.0010389490593893317,
           0.00948472148679891,
           0.00536994430530324,
           0.005560664121480966,
           0.0020444262891229246,
           0.003818551742420178,
           -0.004738676710168029,
           -0.0031342588846695906,
           4.1131732138808445e-05,
           0.0020764965880160097,
           -0.006058857059084899,
           -0.00020076312835003586,
           0.0021931657427432154,
           0.006019836894983795,
           -0.01679359014829389,
           0.0063445379445459735,
           0.010071878450537732,
           -0.0002547444880253705,
           -0.008927768939366258,
           -0.0027319051858567013,
           -0.009276579590699077,
           -0.007038982900140438,
           -0.0016212907824654941,
           -0.0066187199625506645,
           0.0006013459436349235,
           -0.005541483477364636,
           0.005169675359607391,
           -0.00438638891997223,
           -0.003484824704537301,
           0.0033602313960434727
          ],
          [
           0.011074555980643951,
           -0.0043278217854427195,
           0.0019171403870861976,
           0.004651203841817777,
           0.0017671421637055161,
           0.00121736700827322,
           0.0008898198242228195,
           0.002665591489520554,
           0.001627689046301422,
           -0.009895942589650989,
           -0.007779443027555664,
           0.009698413779047108,
           -0.006703255080157801,
           0.0067667289912240955,
           0.0022993531189313787,
           0.009625284967186983,
           -0.013636510085468788,
           -0.012394604196930168,
           -0.005024491252853356,
           -0.004012961137259955,
           0.0004931864174740699,
           -0.0016555130095685408,
           -0.012046949990591907,
           -5.2378629056957944e-05,
           0.00222603780482748,
           -0.0012811042773745026,
           -0.004451705291420206,
           -0.0021631811077283667,
           -0.0031619613339012678,
           -0.0027925150651855017,
           0.009821661817524535,
           0.011377238559582184
          ],
          [
           0.004088919227194721,
           -0.009309403046594725,
           -0.00510874876424772,
           -0.0053701026483881364,
           -0.00808442772196677,
           -0.008486247120184226,
           0.0011537176131937803,
           0.0005307280238984266,
           -0.003117172426142421,
           -0.010820330055172741,
           -0.0007963795073408,
           0.013526045246607074,
           0.004833770441204335,
           0.005290420864190558,
           -0.003957502789412587,
           0.0013347096217242976,
           -0.0053760258046749295,
           -0.008669748645838225,
           -0.0008111503862086309,
           0.005815873321720343,
           0.0021140255611705404,
           -0.004002314783885521,
           -0.010384934299281317,
           -0.0009105120334264151,
           0.0057479160828944695,
           0.0020303647940304436,
           -0.0005693727445715021,
           0.0008272075218537304,
           -0.0005765692947747379,
           -0.007476462436351272,
           0.0019609525270491406,
           0.0031268682052052062
          ],
          [
           0.007385952313859415,
           -0.007083448907217344,
           0.004322369956146954,
           0.009283532355751422,
           0.0017763686658735733,
           -0.005004999700596759,
           0.0010471259217176723,
           0.0010180084868955698,
           -0.002288067546161933,
           -0.0075409576513790644,
           0.004253933715838707,
           -2.8300173959110653e-05,
           -0.005990988134150339,
           -0.007479733086546839,
           -0.006520857330026764,
           -0.0009441353499237263,
           0.004818741658053727,
           0.002784799134997605,
           -0.0019802292475004373,
           -0.0012240168413451614,
           -0.006042975447912654,
           -0.005170024175306523,
           -0.00619090432105367,
           -0.009409872581331035,
           0.0013683580184790727,
           0.010116452628416978,
           0.004895542622971192,
           0.0075034528455990585,
           0.010083772190671785,
           0.001683607291553309,
           0.004644948351814016,
           -0.0016787543314753994
          ],
          [
           0.01625146718045013,
           0.00035484555025303054,
           0.007323229325407035,
           0.011000916265578132,
           0.0034736828639281153,
           0.0019812660569597574,
           0.002101207957059471,
           -0.0053563157822800805,
           -0.00342013759935008,
           -0.0010260638189728657,
           0.004766957356794726,
           0.004807694427233761,
           0.009439565615982713,
           -0.0018572709939092323,
           0.004078769774574606,
           -0.003476662706184634,
           -0.004957832137137959,
           0.011423770037246157,
           0.008657316146367923,
           0.0013487596398891106,
           -0.0013530479002125775,
           0.0015413002304635103,
           0.0029406288431470832,
           -0.00928107781487916,
           -0.008669338512850374,
           0.0047836133322460336,
           -0.0027401937342484356,
           -0.0033214959421088122,
           0.006807189070207721,
           5.7641750136920597e-05,
           -0.0030236196829161767,
           -0.01322451958639047
          ],
          [
           0.006895244459240275,
           -0.008912627473383897,
           -0.005756162857510593,
           -0.006250356232532693,
           -0.01425704639314846,
           -0.004012106748806641,
           0.009939127150510868,
           0.006917499856592136,
           -0.001072672503560216,
           -0.00013730715835530682,
           0.0006982243227014228,
           0.0023305194254325525,
           0.00258629514785654,
           -0.011674144443039908,
           -0.0036528593025046143,
           -0.0047625087478976365,
           -0.009970171636263457,
           0.0028093797084022083,
           0.0034081034049396725,
           -0.002399595332975017,
           0.0012922559862966778,
           -0.0021734789764223513,
           -0.005026318891746808,
           -0.011618452657469167,
           -0.009414982627346231,
           -0.007664658127062974,
           -0.012429375766255057,
           -0.011457861747962789,
           -0.0069569537354393736,
           -0.004855570930837816,
           -0.006137058833676279,
           -0.009686281099153066
          ],
          [
           0.0020255666677759594,
           -0.011615993957471525,
           -0.006339782068323116,
           -0.0004091932288101478,
           -0.006334567629287347,
           -0.011098686078984126,
           -0.003090574381481145,
           0.0033936696190656227,
           -0.004335115505547542,
           -0.002432999655643582,
           -0.003504668213034806,
           0.0015974426867050285,
           -0.0035836914365758765,
           -0.009565489729525745,
           -0.0067462876420072634,
           -0.0018939710015385975,
           0.005594212321928367,
           -0.0018407456397486336,
           -0.005636248520597358,
           -0.0068703426545871265,
           -0.007025276757416283,
           -0.007192981591357644,
           -0.01004611322729382,
           -0.01030351663669665,
           0.006861243891443221,
           -0.0035402600820981737,
           -0.013851575711771334,
           -0.010493111730788457,
           -0.014124728784515225,
           -0.010364366876253616,
           -0.0021022597265072072,
           -0.0017894434337511597
          ],
          [
           0.019286179356374687,
           0.003560155145113772,
           0.0014798913540844552,
           0.0015152991592399339,
           -0.003123638558735802,
           -0.010888501804541163,
           -0.008847391995293611,
           -0.0018418839290650843,
           -0.0061123738713399845,
           -0.002931288670995507,
           -0.0045066678736132145,
           0.0012132014645534269,
           -0.001548783800505287,
           -0.0005691338740930213,
           -0.005518481325776875,
           -0.010583458535046596,
           0.00039423198054290635,
           0.0038623187966816182,
           -0.0014009220299808025,
           0.004262502209101096,
           0.0018020922753746538,
           0.0042732000691794135,
           -0.0006461294645534959,
           -0.002681299472064273,
           -1.2835155427762759e-05,
           0.004554142642065844,
           0.0018412176935382707,
           -0.002634365397078111,
           -0.009220202679534899,
           -0.00019595427367712578,
           0.011742329664022626,
           0.009418439721724061
          ],
          [
           0.02613330082738462,
           0.006182795954966401,
           0.006706678320378097,
           -0.001052729578575744,
           -0.0008855479925006156,
           0.0026406795245548505,
           0.0028937870718949107,
           0.0028104699668062543,
           -0.003941692952476659,
           -0.0010841189038621765,
           0.003947103031061468,
           -0.0031210748234921956,
           -0.002869793921388336,
           0.005632740498999043,
           0.003145321373370962,
           0.00046894240030059727,
           -0.0006803672273005361,
           0.005107015147190071,
           0.0048656678926283425,
           0.012442652803459043,
           0.005130096942542586,
           -0.0019323471206095049,
           -0.0003618176375729628,
           0.002359774217968723,
           0.0025150399392828413,
           0.0030312337509576233,
           0.001628875052877015,
           -0.0036672973271328286,
           -0.005061482645955921,
           0.008186950051049215,
           0.006527567242074281,
           0.009315028573396522
          ]
         ]
        }
       ],
       "layout": {
        "autosize": true,
        "coloraxis": {
         "colorscale": [
          [
           0,
           "#0d0887"
          ],
          [
           0.1111111111111111,
           "#46039f"
          ],
          [
           0.2222222222222222,
           "#7201a8"
          ],
          [
           0.3333333333333333,
           "#9c179e"
          ],
          [
           0.4444444444444444,
           "#bd3786"
          ],
          [
           0.5555555555555556,
           "#d8576b"
          ],
          [
           0.6666666666666666,
           "#ed7953"
          ],
          [
           0.7777777777777778,
           "#fb9f3a"
          ],
          [
           0.8888888888888888,
           "#fdca26"
          ],
          [
           1,
           "#f0f921"
          ]
         ]
        },
        "margin": {
         "t": 60
        },
        "template": {
         "data": {
          "bar": [
           {
            "error_x": {
             "color": "#2a3f5f"
            },
            "error_y": {
             "color": "#2a3f5f"
            },
            "marker": {
             "line": {
              "color": "#E5ECF6",
              "width": 0.5
             },
             "pattern": {
              "fillmode": "overlay",
              "size": 10,
              "solidity": 0.2
             }
            },
            "type": "bar"
           }
          ],
          "barpolar": [
           {
            "marker": {
             "line": {
              "color": "#E5ECF6",
              "width": 0.5
             },
             "pattern": {
              "fillmode": "overlay",
              "size": 10,
              "solidity": 0.2
             }
            },
            "type": "barpolar"
           }
          ],
          "carpet": [
           {
            "aaxis": {
             "endlinecolor": "#2a3f5f",
             "gridcolor": "white",
             "linecolor": "white",
             "minorgridcolor": "white",
             "startlinecolor": "#2a3f5f"
            },
            "baxis": {
             "endlinecolor": "#2a3f5f",
             "gridcolor": "white",
             "linecolor": "white",
             "minorgridcolor": "white",
             "startlinecolor": "#2a3f5f"
            },
            "type": "carpet"
           }
          ],
          "choropleth": [
           {
            "colorbar": {
             "outlinewidth": 0,
             "ticks": ""
            },
            "type": "choropleth"
           }
          ],
          "contour": [
           {
            "colorbar": {
             "outlinewidth": 0,
             "ticks": ""
            },
            "colorscale": [
             [
              0,
              "#0d0887"
             ],
             [
              0.1111111111111111,
              "#46039f"
             ],
             [
              0.2222222222222222,
              "#7201a8"
             ],
             [
              0.3333333333333333,
              "#9c179e"
             ],
             [
              0.4444444444444444,
              "#bd3786"
             ],
             [
              0.5555555555555556,
              "#d8576b"
             ],
             [
              0.6666666666666666,
              "#ed7953"
             ],
             [
              0.7777777777777778,
              "#fb9f3a"
             ],
             [
              0.8888888888888888,
              "#fdca26"
             ],
             [
              1,
              "#f0f921"
             ]
            ],
            "type": "contour"
           }
          ],
          "contourcarpet": [
           {
            "colorbar": {
             "outlinewidth": 0,
             "ticks": ""
            },
            "type": "contourcarpet"
           }
          ],
          "heatmap": [
           {
            "colorbar": {
             "outlinewidth": 0,
             "ticks": ""
            },
            "colorscale": [
             [
              0,
              "#0d0887"
             ],
             [
              0.1111111111111111,
              "#46039f"
             ],
             [
              0.2222222222222222,
              "#7201a8"
             ],
             [
              0.3333333333333333,
              "#9c179e"
             ],
             [
              0.4444444444444444,
              "#bd3786"
             ],
             [
              0.5555555555555556,
              "#d8576b"
             ],
             [
              0.6666666666666666,
              "#ed7953"
             ],
             [
              0.7777777777777778,
              "#fb9f3a"
             ],
             [
              0.8888888888888888,
              "#fdca26"
             ],
             [
              1,
              "#f0f921"
             ]
            ],
            "type": "heatmap"
           }
          ],
          "heatmapgl": [
           {
            "colorbar": {
             "outlinewidth": 0,
             "ticks": ""
            },
            "colorscale": [
             [
              0,
              "#0d0887"
             ],
             [
              0.1111111111111111,
              "#46039f"
             ],
             [
              0.2222222222222222,
              "#7201a8"
             ],
             [
              0.3333333333333333,
              "#9c179e"
             ],
             [
              0.4444444444444444,
              "#bd3786"
             ],
             [
              0.5555555555555556,
              "#d8576b"
             ],
             [
              0.6666666666666666,
              "#ed7953"
             ],
             [
              0.7777777777777778,
              "#fb9f3a"
             ],
             [
              0.8888888888888888,
              "#fdca26"
             ],
             [
              1,
              "#f0f921"
             ]
            ],
            "type": "heatmapgl"
           }
          ],
          "histogram": [
           {
            "marker": {
             "pattern": {
              "fillmode": "overlay",
              "size": 10,
              "solidity": 0.2
             }
            },
            "type": "histogram"
           }
          ],
          "histogram2d": [
           {
            "colorbar": {
             "outlinewidth": 0,
             "ticks": ""
            },
            "colorscale": [
             [
              0,
              "#0d0887"
             ],
             [
              0.1111111111111111,
              "#46039f"
             ],
             [
              0.2222222222222222,
              "#7201a8"
             ],
             [
              0.3333333333333333,
              "#9c179e"
             ],
             [
              0.4444444444444444,
              "#bd3786"
             ],
             [
              0.5555555555555556,
              "#d8576b"
             ],
             [
              0.6666666666666666,
              "#ed7953"
             ],
             [
              0.7777777777777778,
              "#fb9f3a"
             ],
             [
              0.8888888888888888,
              "#fdca26"
             ],
             [
              1,
              "#f0f921"
             ]
            ],
            "type": "histogram2d"
           }
          ],
          "histogram2dcontour": [
           {
            "colorbar": {
             "outlinewidth": 0,
             "ticks": ""
            },
            "colorscale": [
             [
              0,
              "#0d0887"
             ],
             [
              0.1111111111111111,
              "#46039f"
             ],
             [
              0.2222222222222222,
              "#7201a8"
             ],
             [
              0.3333333333333333,
              "#9c179e"
             ],
             [
              0.4444444444444444,
              "#bd3786"
             ],
             [
              0.5555555555555556,
              "#d8576b"
             ],
             [
              0.6666666666666666,
              "#ed7953"
             ],
             [
              0.7777777777777778,
              "#fb9f3a"
             ],
             [
              0.8888888888888888,
              "#fdca26"
             ],
             [
              1,
              "#f0f921"
             ]
            ],
            "type": "histogram2dcontour"
           }
          ],
          "mesh3d": [
           {
            "colorbar": {
             "outlinewidth": 0,
             "ticks": ""
            },
            "type": "mesh3d"
           }
          ],
          "parcoords": [
           {
            "line": {
             "colorbar": {
              "outlinewidth": 0,
              "ticks": ""
             }
            },
            "type": "parcoords"
           }
          ],
          "pie": [
           {
            "automargin": true,
            "type": "pie"
           }
          ],
          "scatter": [
           {
            "fillpattern": {
             "fillmode": "overlay",
             "size": 10,
             "solidity": 0.2
            },
            "type": "scatter"
           }
          ],
          "scatter3d": [
           {
            "line": {
             "colorbar": {
              "outlinewidth": 0,
              "ticks": ""
             }
            },
            "marker": {
             "colorbar": {
              "outlinewidth": 0,
              "ticks": ""
             }
            },
            "type": "scatter3d"
           }
          ],
          "scattercarpet": [
           {
            "marker": {
             "colorbar": {
              "outlinewidth": 0,
              "ticks": ""
             }
            },
            "type": "scattercarpet"
           }
          ],
          "scattergeo": [
           {
            "marker": {
             "colorbar": {
              "outlinewidth": 0,
              "ticks": ""
             }
            },
            "type": "scattergeo"
           }
          ],
          "scattergl": [
           {
            "marker": {
             "colorbar": {
              "outlinewidth": 0,
              "ticks": ""
             }
            },
            "type": "scattergl"
           }
          ],
          "scattermapbox": [
           {
            "marker": {
             "colorbar": {
              "outlinewidth": 0,
              "ticks": ""
             }
            },
            "type": "scattermapbox"
           }
          ],
          "scatterpolar": [
           {
            "marker": {
             "colorbar": {
              "outlinewidth": 0,
              "ticks": ""
             }
            },
            "type": "scatterpolar"
           }
          ],
          "scatterpolargl": [
           {
            "marker": {
             "colorbar": {
              "outlinewidth": 0,
              "ticks": ""
             }
            },
            "type": "scatterpolargl"
           }
          ],
          "scatterternary": [
           {
            "marker": {
             "colorbar": {
              "outlinewidth": 0,
              "ticks": ""
             }
            },
            "type": "scatterternary"
           }
          ],
          "surface": [
           {
            "colorbar": {
             "outlinewidth": 0,
             "ticks": ""
            },
            "colorscale": [
             [
              0,
              "#0d0887"
             ],
             [
              0.1111111111111111,
              "#46039f"
             ],
             [
              0.2222222222222222,
              "#7201a8"
             ],
             [
              0.3333333333333333,
              "#9c179e"
             ],
             [
              0.4444444444444444,
              "#bd3786"
             ],
             [
              0.5555555555555556,
              "#d8576b"
             ],
             [
              0.6666666666666666,
              "#ed7953"
             ],
             [
              0.7777777777777778,
              "#fb9f3a"
             ],
             [
              0.8888888888888888,
              "#fdca26"
             ],
             [
              1,
              "#f0f921"
             ]
            ],
            "type": "surface"
           }
          ],
          "table": [
           {
            "cells": {
             "fill": {
              "color": "#EBF0F8"
             },
             "line": {
              "color": "white"
             }
            },
            "header": {
             "fill": {
              "color": "#C8D4E3"
             },
             "line": {
              "color": "white"
             }
            },
            "type": "table"
           }
          ]
         },
         "layout": {
          "annotationdefaults": {
           "arrowcolor": "#2a3f5f",
           "arrowhead": 0,
           "arrowwidth": 1
          },
          "autotypenumbers": "strict",
          "coloraxis": {
           "colorbar": {
            "outlinewidth": 0,
            "ticks": ""
           }
          },
          "colorscale": {
           "diverging": [
            [
             0,
             "#8e0152"
            ],
            [
             0.1,
             "#c51b7d"
            ],
            [
             0.2,
             "#de77ae"
            ],
            [
             0.3,
             "#f1b6da"
            ],
            [
             0.4,
             "#fde0ef"
            ],
            [
             0.5,
             "#f7f7f7"
            ],
            [
             0.6,
             "#e6f5d0"
            ],
            [
             0.7,
             "#b8e186"
            ],
            [
             0.8,
             "#7fbc41"
            ],
            [
             0.9,
             "#4d9221"
            ],
            [
             1,
             "#276419"
            ]
           ],
           "sequential": [
            [
             0,
             "#0d0887"
            ],
            [
             0.1111111111111111,
             "#46039f"
            ],
            [
             0.2222222222222222,
             "#7201a8"
            ],
            [
             0.3333333333333333,
             "#9c179e"
            ],
            [
             0.4444444444444444,
             "#bd3786"
            ],
            [
             0.5555555555555556,
             "#d8576b"
            ],
            [
             0.6666666666666666,
             "#ed7953"
            ],
            [
             0.7777777777777778,
             "#fb9f3a"
            ],
            [
             0.8888888888888888,
             "#fdca26"
            ],
            [
             1,
             "#f0f921"
            ]
           ],
           "sequentialminus": [
            [
             0,
             "#0d0887"
            ],
            [
             0.1111111111111111,
             "#46039f"
            ],
            [
             0.2222222222222222,
             "#7201a8"
            ],
            [
             0.3333333333333333,
             "#9c179e"
            ],
            [
             0.4444444444444444,
             "#bd3786"
            ],
            [
             0.5555555555555556,
             "#d8576b"
            ],
            [
             0.6666666666666666,
             "#ed7953"
            ],
            [
             0.7777777777777778,
             "#fb9f3a"
            ],
            [
             0.8888888888888888,
             "#fdca26"
            ],
            [
             1,
             "#f0f921"
            ]
           ]
          },
          "colorway": [
           "#636efa",
           "#EF553B",
           "#00cc96",
           "#ab63fa",
           "#FFA15A",
           "#19d3f3",
           "#FF6692",
           "#B6E880",
           "#FF97FF",
           "#FECB52"
          ],
          "font": {
           "color": "#2a3f5f"
          },
          "geo": {
           "bgcolor": "white",
           "lakecolor": "white",
           "landcolor": "#E5ECF6",
           "showlakes": true,
           "showland": true,
           "subunitcolor": "white"
          },
          "hoverlabel": {
           "align": "left"
          },
          "hovermode": "closest",
          "mapbox": {
           "style": "light"
          },
          "paper_bgcolor": "white",
          "plot_bgcolor": "#E5ECF6",
          "polar": {
           "angularaxis": {
            "gridcolor": "white",
            "linecolor": "white",
            "ticks": ""
           },
           "bgcolor": "#E5ECF6",
           "radialaxis": {
            "gridcolor": "white",
            "linecolor": "white",
            "ticks": ""
           }
          },
          "scene": {
           "xaxis": {
            "backgroundcolor": "#E5ECF6",
            "gridcolor": "white",
            "gridwidth": 2,
            "linecolor": "white",
            "showbackground": true,
            "ticks": "",
            "zerolinecolor": "white"
           },
           "yaxis": {
            "backgroundcolor": "#E5ECF6",
            "gridcolor": "white",
            "gridwidth": 2,
            "linecolor": "white",
            "showbackground": true,
            "ticks": "",
            "zerolinecolor": "white"
           },
           "zaxis": {
            "backgroundcolor": "#E5ECF6",
            "gridcolor": "white",
            "gridwidth": 2,
            "linecolor": "white",
            "showbackground": true,
            "ticks": "",
            "zerolinecolor": "white"
           }
          },
          "shapedefaults": {
           "line": {
            "color": "#2a3f5f"
           }
          },
          "ternary": {
           "aaxis": {
            "gridcolor": "white",
            "linecolor": "white",
            "ticks": ""
           },
           "baxis": {
            "gridcolor": "white",
            "linecolor": "white",
            "ticks": ""
           },
           "bgcolor": "#E5ECF6",
           "caxis": {
            "gridcolor": "white",
            "linecolor": "white",
            "ticks": ""
           }
          },
          "title": {
           "x": 0.05
          },
          "xaxis": {
           "automargin": true,
           "gridcolor": "white",
           "linecolor": "white",
           "ticks": "",
           "title": {
            "standoff": 15
           },
           "zerolinecolor": "white",
           "zerolinewidth": 2
          },
          "yaxis": {
           "automargin": true,
           "gridcolor": "white",
           "linecolor": "white",
           "ticks": "",
           "title": {
            "standoff": 15
           },
           "zerolinecolor": "white",
           "zerolinewidth": 2
          }
         }
        },
        "xaxis": {
         "anchor": "y",
         "autorange": true,
         "constrain": "domain",
         "domain": [
          0.3653610771113831,
          0.6346389228886169
         ],
         "range": [
          -0.5,
          31.5
         ],
         "scaleanchor": "y",
         "side": "top"
        },
        "yaxis": {
         "anchor": "x",
         "autorange": true,
         "constrain": "domain",
         "domain": [
          0,
          1
         ],
         "range": [
          31.5,
          -0.5
         ]
        }
       }
      },
      "image/png": "[encoded data removed]",
      "text/html": [
       "<div>                            <div id=\"4e6133e0-aaf9-457e-89ef-b6e2a8505941\" class=\"plotly-graph-div\" style=\"height:525px; width:100%;\"></div>            <script type=\"text/javascript\">                require([\"plotly\"], function(Plotly) {                    window.PLOTLYENV=window.PLOTLYENV || {};                                    if (document.getElementById(\"4e6133e0-aaf9-457e-89ef-b6e2a8505941\")) {                    Plotly.newPlot(                        \"4e6133e0-aaf9-457e-89ef-b6e2a8505941\",                        [{\"coloraxis\":\"coloraxis\",\"name\":\"0\",\"z\":[[0.005330362738584114,-0.00046951999833525014,-0.0007960061717765666,-0.005888638002282562,-0.004656807549183286,0.007606311311274236,0.003488190599497558,0.005643543045106346,0.012726631420210263,0.007083923244324161,-0.0018354151847140118,-0.003716459106466443,0.003120653245035073,-0.005877605069680798,-0.006304874962626769,-0.005343407418408101,0.002516815417681715,0.005217089967655704,0.001522976132170091,0.004663533775557179,-0.0016546808734950354,0.00039263597629773196,-0.0003107695268408375,0.00974095983563102,0.008511999582231927,0.0071386728380871175,0.006893754788833827,0.0037655804696567433,0.001706817307627276,0.006524828024673172,0.013345644781564145,0.01619527368182659],[0.0026534526708017502,-0.007585874206493089,-0.0077256278520171605,-0.0070446741730545055,-0.00032928470246612477,0.007029453998897488,0.004845487260741701,0.0077059316981961425,0.0002571946443992724,0.002673529061035032,-0.003460160200583551,-0.005591371127155446,0.0016693456287951527,-0.002281799590515562,0.002260466595172905,-0.005306468744459615,-0.0032811074477135382,0.005440791782597155,0.007131802003682347,0.005682047586275113,-0.000478454646674422,0.0007811211596496008,-0.0012940057168578112,0.003722733119539938,0.0026873543340574122,0.004358734210401157,0.003806140661615362,-0.005769995200541669,-0.006629547546183419,-8.292550473207015e-05,0.006159064619482942,0.003659396842551457],[7.450130567685143e-06,-0.01323064254983212,-0.010915683896064206,-0.007357674257015345,0.000696919878540987,0.004274766060260057,0.004932987873588631,0.007543366246482348,-0.002636748032901307,-0.003621118969616989,0.0006923236842461431,0.004007125417192549,0.005087620638024116,-0.0006835199207941886,0.0031330759406973567,-0.010934195649340905,-0.007889546850555562,-0.00589480027860717,0.004747317411577158,0.007121947376370088,0.003051090679965776,-0.003608812749969258,-0.0008963276472953089,0.009238517778742412,0.00509056347654302,0.005198977668912111,0.0003013066601618776,0.0016004536217446195,0.005291893522724627,0.004658901294647302,0.009104233328283967,0.0008213305706225402],[-0.002588974507612947,-0.01279768123500591,-0.008551669053572908,-0.0027812674520356403,-0.008551315811837388,-0.008269104826884466,-0.0010377054329840586,0.0022588823900717256,0.005812682565561417,0.0031942501794316657,0.005910563497819049,0.001576542373036327,-0.0045057937463432,-0.0031562183159467255,0.0037617770498376275,-0.006118804790379534,-0.0025434586932447083,-0.010609774871904794,-0.0009400214301788077,-0.004086880087478774,-0.0045627385602931315,-0.005639206472156732,-0.0014288157433261697,0.003187897886902855,0.010247429156458416,0.007771811591842386,0.0029789604213680816,0.011287980134562434,0.006284544949127103,-0.0017361986870375915,0.005382043329276574,0.003909254713332743],[-0.0026096192218087416,-0.0026615693683230014,0.00017008636583035268,0.0032892594995815273,-0.004632299253399946,-0.00044072160741417265,0.0022229825315538345,-0.0012101634826965008,0.0019031201689412413,0.0023847133818391732,0.0036514937744751307,0.005268424786352233,0.003896421272530779,0.0021030050861531647,0.006258601284558931,0.003796543023491272,0.0009068821309414508,-0.0023019026413528968,0.005711143349332604,0.00521433178475744,0.0032777469522202933,-0.006543462191690674,-0.00881896430351431,-0.013171288279500122,-0.002093388903301918,-0.0011369613828521416,-0.0005722563733020087,0.0028008887287536326,0.00027128863646269,-0.0033096358053467155,0.0014262271401760819,0.004219591373796975],[0.006602498495684546,0.0059866233028357165,0.002792308364100678,0.0048087449332123115,0.0016618730156478065,0.0028458554251046897,-3.2662698233512356e-05,-0.004503847937134774,-0.01032509880939362,-0.008769846495964163,0.001062365463870465,0.007429588862814541,0.0010727365484849243,-0.0006289950196111505,0.005231016865311862,-0.0013376275794397443,-0.004897300683018479,-0.005776721481085391,0.0006478388398671417,0.003494028756316713,0.003936788598727496,-0.005960940388446449,-0.007325685520188238,-0.0031025495452538863,-0.002231383876058271,-0.0015326227954093534,0.0008869352241191771,-0.000913077145303909,0.0016888093371113045,0.0024589924379406487,0.0029198741724317033,0.0010911848387030417],[0.014110193452507629,0.0036050076136455358,-0.0045457007813281885,-0.002804582258562106,0.0004924560285674985,-0.0003484927311942398,-0.0009341417455921726,-0.0005827855957996161,-0.0021244616153765186,-0.004679284678422032,0.004770337982914303,0.00036368094224551584,-0.011513166551245863,-0.0009243360994092926,0.004858137567440236,-0.0006841361705926163,-0.002866705936320428,-0.006982017232966425,-0.012134683595789267,-0.008728282813267374,-0.0038160066984071345,-0.005797703343849959,-0.013607766391543994,-0.004434071566021941,0.00367453158006476,0.0037281843139828665,0.0010166491149575195,-0.0033486714679317013,0.0019333758724583597,0.005121576017726878,0.0028057882019981075,0.0014564428063269415],[0.016381946521447352,0.007666174924554888,-0.0024944924508373788,-0.006811842342554551,-0.001173333694232184,-0.001873743283128594,-0.0019141029381544283,0.006776400221405474,0.008576456485280447,0.005804519005573021,0.016224258331306796,0.009047534117509255,-0.009915147153088534,-0.0011240507174114232,0.00439437635612161,-0.004576300291360843,-0.0061717253602875015,-0.005645812968989164,-0.007366744616589605,-0.003784280941921093,-0.002064186599628959,-0.0026913420680303164,-0.004285555699711292,-0.0005273386465940665,-0.004586522759037666,-0.0018870932160326504,-0.0014108829331483947,1.9596937668088157e-05,0.0012729536476111488,0.00970723148804136,0.000924178375116478,0.003215624871855664],[0.00019034979448781013,-0.006121389706937804,-0.007205061502036057,-0.011382249159732639,-0.012502170338178823,-0.0005474433284755216,-0.005921339550352879,0.009182572608956203,-0.0007855906582696301,-0.0014302948548538803,-0.001760246326789995,-0.00019918476797416772,-0.007226159454240647,0.0053990004462928535,0.006294329708040809,-0.0038381936714297284,-0.009525594975335712,0.0022428984583465783,0.002294558186448768,-0.004756439513959608,-0.005585677802592207,-0.005138862360120884,-0.0008229656603191823,0.00830532756674638,-0.00324927200823542,0.0034823618560633303,-0.009263842269017815,0.005013257722912951,0.003934961675341616,0.0004261579373955417,0.00229218845943901,-0.0035698135076352036],[0.004257053604984331,0.00667569070220366,-0.0005326664975097878,-0.006791388862595341,0.0024302727760673604,0.010030625373368969,-0.002454937460166391,-0.002819882385278615,-0.009221059857732947,5.260937328318687e-05,0.005210840604578752,0.007613556351642931,0.00015850677100071365,-0.0032280232784259303,-0.001666792545057406,-0.010342965871660378,0.0023272917480724963,0.012870156654676652,-0.001883419743319102,0.006955386384694017,0.0064861842111104,-0.0028597566046411863,-0.004949665732139372,-0.004416766581029474,-0.0012402898012647211,0.008515674471871916,0.007157247596257253,0.009886989255164886,-0.0032728282937451755,0.0028357886581245606,0.011027762642804565,-0.0010661350567109022],[-0.0005572264742182531,0.0040988987032496175,0.004043431843644536,0.0034248466608083144,0.009172496294829075,0.005853806851334258,0.005838853729046091,0.0009530456930686637,-0.0051906929064267525,-0.003385575340099151,-0.0011889318636019834,-0.00023243718551593462,-0.009147136595337816,-0.00883714509115715,0.0006871840293995241,-0.007503783960291112,0.010777605281245137,0.010894213711515562,0.002696197070780653,0.021752963435962766,0.016268945050357475,-0.0004090631809165976,0.004326896871332045,0.005134635056818744,-0.0019399987454586734,0.0069115177106382555,0.0055286426387777905,0.01033117418679087,-0.0059240325423376185,-9.726074333661585e-05,0.007914298510380923,-0.0002324916314067645],[0.008501856228526809,0.004057145816186561,0.005482566890139089,0.0035142841425132697,0.004824651343269981,-0.0008047471709297319,0.007444309812147195,-0.00010503156055742566,-0.0006160864224109454,0.004460503019625866,-0.0030544001171499396,0.002161197026298216,-0.001495728965540888,-0.002082123868797479,-0.0026208743847780736,-0.007943447340017187,-0.008679197484289759,0.0003298041108234641,3.195261392174313e-05,0.012218227476434274,0.006370594351381738,-0.00015747116471667545,0.009886852020466637,0.009263929158336138,-0.0016126702300384593,-0.003780411801441914,-0.007810165162722777,-0.0035905073561438437,-0.004467374292009482,-0.0031031579288461632,-0.008553351534272035,-0.0035805011884331066],[0.014761367470974283,0.003967741001007112,0.004921487196038255,-0.007980404865927574,-0.011717021588138936,-0.007609010156966955,0.00013684437498966002,-0.0043273746530085935,0.00023764024598212465,0.008042827236034819,0.007759405700601881,0.0070375203410459105,0.006080170704518032,0.007736669411427228,-0.0005774765743583602,-0.01035776966060586,-0.007509765435127719,0.003739245657905691,0.0011833525500680835,-0.0021686947694869296,0.0006233228317054509,0.001045891412446691,0.00492430742243488,0.009484666539479407,0.007448758989843324,0.005261192993643785,0.0025086237180970933,0.004728649477150335,0.003725054283350262,-0.0016047862358753934,-0.014547424646999192,-5.288081764669082e-05],[0.0037419914391141245,-0.00339773830500641,0.0039000362265830604,-0.0029322456002539104,-0.0029586924071966854,0.00954448092576809,0.0008580209660470174,-0.0030063553056547732,0.0031648561328294187,0.010715840988516214,0.0061092378993522906,0.006824597638709261,0.0010557298690828546,0.004150884021593469,0.0011298339489820529,-0.00244184847732541,-0.0029918211442732105,0.007694948287886765,0.0016278396854136718,-0.00745896947803539,0.010482236771712176,-0.0022526629515968242,-0.00823821580054488,-0.004335307545606279,0.009744758833450756,0.006999535240878111,0.0030673622246573102,0.0033181394289124627,-0.000314729382549736,0.0007484611041314902,-0.004933787326777239,-0.0017021103965273064],[-0.0025659372198734267,-0.007474873524264304,0.007605483134268028,-0.0009475656940646848,-0.007394811030538385,0.0059062719123142045,0.0030862035205496356,0.011706410231358537,0.005541359761296812,0.01588900137993095,0.012418031736793931,0.01370352177797315,0.00970127988281655,0.012365802549687447,-0.0017795876509883958,0.006101938525077133,0.0024708300476069,-0.008304709907434465,-0.0023871085750549787,0.008319816318306406,0.020018220260491774,0.01168511632836298,0.005907598441584879,-0.0034184432417548477,0.0038809309423332742,-0.007550731717058358,-0.009829545521645075,-0.005171837032576823,-0.0049164967441008515,-0.004160028421416264,-0.0018110421447235158,-0.006437973939081608],[-0.0033471570392922677,-0.006613804016462418,0.006874473724382374,0.0012913569607319814,-0.0034841430101245434,0.008721342339885859,-0.002373294034671966,0.010904580701206765,0.007944901797393147,0.021443997801777966,0.008873961035925117,0.004908820395831948,0.011961121851281417,0.019743815588049968,-0.0040538278420768304,4.782723262294956e-05,0.006783793459402991,0.0015454936497272963,0.014802116896498359,0.02190169830544834,0.0021736702197494968,0.01035055851607291,0.00942649481813853,0.005968139080299347,0.00612225548411489,-0.0046842781667512014,-0.005938447788750678,-0.0053956301967937464,-0.0043696297850732415,-0.005859926947706903,0.0002903610563353236,-0.008199014263489688],[0.012446549908736566,0.011845642819510165,0.008071679109800686,0.010706390261920825,0.0018129529473602899,0.00804010601197253,-0.002205890449004092,-0.00267619576499214,-0.009950633502845746,0.004803978958755619,-0.008087446036664555,-0.0021228901304015586,-0.0030367385394117754,0.004530925768057054,0.0005173710076075892,-0.0035050788825735585,0.0015442741327239132,0.0014042091625196189,0.0013761670265336242,-0.002275794584183886,-0.004802586395443579,-0.012517259058280597,-0.006159627015712873,0.013150495369356405,0.016386576818595094,0.006778013534337555,0.001245603792341959,0.0059089674126396085,0.0017913666743104946,-0.0056314759348266566,-0.005559358999447865,-0.002035359169481416],[0.013548906604414785,0.001584380812807943,0.007425915901788455,0.011384358702569248,0.0020691626019724765,0.0008061889710782924,0.00415805742413795,0.013986925214837444,-0.008556787621772213,-0.0033709426141029534,-0.0052347435353483065,0.0011753728815999023,0.0029115072186890302,0.006804108783369716,0.0031486247817823425,0.0013870195991318526,-0.009429213276995934,-0.002162342358812614,-0.0051013327299189734,0.005077929043236652,0.008557208116830636,0.004082173299081989,0.0061819632854801,0.009676471379192307,0.0018977911233994272,0.002558937711555874,-0.0007197802884104231,0.0005232891771207615,0.0015413537624619671,0.005974064158892395,0.008734925397852577,0.0023344144148588915],[0.013105246077414557,-0.000834616508897808,0.004979912712401254,0.00642692275582802,-0.0052968581851824395,-0.011943666334267222,-2.587999745594676e-05,0.008243963714969287,-0.007053445129695135,0.001983715369657221,-0.00300320959332446,0.007008178010715661,0.005492578211253464,-0.0013742862959062261,-0.004520534970241658,-0.011902937265012598,-0.012134626801515561,0.0002643768403774694,-0.0030356498513414696,-0.004258655475076115,-6.0241447052635634e-05,0.005859319606675793,0.009264244774787598,0.01186556692192576,-0.0023769340017179897,0.005692487941664491,0.010010963679061608,-0.0034273217904792277,-0.005516230207728855,0.004869619092377614,0.008406129708060902,0.013396544860079601],[0.015925177355702078,-0.002373487663265848,-0.006516408310835916,0.0040828795496689885,0.0035275848393266935,-0.004011468955088662,9.849057397628725e-05,-0.004119883185382394,0.002400732360800689,0.010937238830151512,-0.0010399484921958337,-0.00038352324070113484,-0.005669396502552292,-0.0056910908837669825,-0.0018573641152693297,-0.004247952828501048,-0.00850102320186746,-0.0022573111784126997,-0.002183981349067876,0.0003233532884426219,0.0020234175684591695,-0.0009010856346110662,-0.0002269523079402704,0.0014003440580464598,0.005624706447623011,0.007543713813801803,0.013013497446576863,0.008427310310034375,0.0010074602694545543,0.0021285930208279733,0.0032704375734816616,0.013452701515906945],[0.002547971361061316,-0.009888888818523943,-0.002205879952744127,0.0012663154929686833,0.005081640644546555,0.004915281211181219,0.007028143455489855,0.0021448723332796026,-0.003891666582039968,0.0016280951036583555,-0.010573597419044407,-0.007883147753566775,-0.005369960036804953,-0.0035848254526353895,-0.012046672561994504,-0.014583561042795802,0.009795584875454042,0.0038402202978890377,-0.007773759182100429,-0.01139937590937104,0.0063765004876797015,0.0003904751560634953,-0.00819007412785903,-0.009193461232089042,-0.009876306450189156,-0.008225347956127624,-0.002522673675661547,0.006759370412540615,0.0030988790302733044,-0.0007590515241360529,0.007443399407812973,0.008979621332821479],[0.0040371827763021695,-0.008781809017351311,0.006916553460650462,-0.00544246191387223,-0.012572806737133279,-0.008762862189757104,-0.003438087616956122,-0.0037378022812483086,0.003685640715665578,0.011272392794707096,0.0033073765193887745,-0.002477022421314129,-0.006240506901676941,-0.009808321522895519,-0.01261707468066115,-0.00623203551968642,0.011708078133780749,-0.001381261672449781,-0.006223297976285411,-0.007116823918540234,-0.00774811822790625,-0.014251628008282327,-0.002659948947633787,0.003184222594951309,-0.004798391576502763,0.00957054493194256,0.01614895744580461,0.0009628910600547307,-0.007522287199266414,-0.0021206285112193818,0.014712045258762557,0.01313661979514486],[0.018046805426883056,-0.006037617311647828,0.0070375401404084124,0.010629509060743106,0.00014145876559296992,-0.006208079869662489,-0.00594465127086175,-0.0018809695480248355,-0.006817289858377409,-0.0005750660162317297,0.003683642375742501,-0.00206000239124803,-0.007017640058271916,-0.007904845322938206,-0.012556316609042285,-0.017142460949885207,-0.014310551592607069,-0.0091848439785001,0.0006240228162165441,0.000989615082122205,-0.015177990865785264,-0.017608557674508512,-0.0034818595929838416,-0.003624682353349938,-0.0035404405765388004,0.00594786172661298,0.016005454023039694,0.0003457255053164919,-0.006794520381741618,-0.0011727627841508295,0.012751888531637296,0.019501421707341253],[0.012072967106116732,-0.004929035197643521,0.0010389490593893317,0.00948472148679891,0.00536994430530324,0.005560664121480966,0.0020444262891229246,0.003818551742420178,-0.004738676710168029,-0.0031342588846695906,4.1131732138808445e-05,0.0020764965880160097,-0.006058857059084899,-0.00020076312835003586,0.0021931657427432154,0.006019836894983795,-0.01679359014829389,0.0063445379445459735,0.010071878450537732,-0.0002547444880253705,-0.008927768939366258,-0.0027319051858567013,-0.009276579590699077,-0.007038982900140438,-0.0016212907824654941,-0.0066187199625506645,0.0006013459436349235,-0.005541483477364636,0.005169675359607391,-0.00438638891997223,-0.003484824704537301,0.0033602313960434727],[0.011074555980643951,-0.0043278217854427195,0.0019171403870861976,0.004651203841817777,0.0017671421637055161,0.00121736700827322,0.0008898198242228195,0.002665591489520554,0.001627689046301422,-0.009895942589650989,-0.007779443027555664,0.009698413779047108,-0.006703255080157801,0.0067667289912240955,0.0022993531189313787,0.009625284967186983,-0.013636510085468788,-0.012394604196930168,-0.005024491252853356,-0.004012961137259955,0.0004931864174740699,-0.0016555130095685408,-0.012046949990591907,-5.2378629056957944e-05,0.00222603780482748,-0.0012811042773745026,-0.004451705291420206,-0.0021631811077283667,-0.0031619613339012678,-0.0027925150651855017,0.009821661817524535,0.011377238559582184],[0.004088919227194721,-0.009309403046594725,-0.00510874876424772,-0.0053701026483881364,-0.00808442772196677,-0.008486247120184226,0.0011537176131937803,0.0005307280238984266,-0.003117172426142421,-0.010820330055172741,-0.0007963795073408,0.013526045246607074,0.004833770441204335,0.005290420864190558,-0.003957502789412587,0.0013347096217242976,-0.0053760258046749295,-0.008669748645838225,-0.0008111503862086309,0.005815873321720343,0.0021140255611705404,-0.004002314783885521,-0.010384934299281317,-0.0009105120334264151,0.0057479160828944695,0.0020303647940304436,-0.0005693727445715021,0.0008272075218537304,-0.0005765692947747379,-0.007476462436351272,0.0019609525270491406,0.0031268682052052062],[0.007385952313859415,-0.007083448907217344,0.004322369956146954,0.009283532355751422,0.0017763686658735733,-0.005004999700596759,0.0010471259217176723,0.0010180084868955698,-0.002288067546161933,-0.0075409576513790644,0.004253933715838707,-2.8300173959110653e-05,-0.005990988134150339,-0.007479733086546839,-0.006520857330026764,-0.0009441353499237263,0.004818741658053727,0.002784799134997605,-0.0019802292475004373,-0.0012240168413451614,-0.006042975447912654,-0.005170024175306523,-0.00619090432105367,-0.009409872581331035,0.0013683580184790727,0.010116452628416978,0.004895542622971192,0.0075034528455990585,0.010083772190671785,0.001683607291553309,0.004644948351814016,-0.0016787543314753994],[0.01625146718045013,0.00035484555025303054,0.007323229325407035,0.011000916265578132,0.0034736828639281153,0.0019812660569597574,0.002101207957059471,-0.0053563157822800805,-0.00342013759935008,-0.0010260638189728657,0.004766957356794726,0.004807694427233761,0.009439565615982713,-0.0018572709939092323,0.004078769774574606,-0.003476662706184634,-0.004957832137137959,0.011423770037246157,0.008657316146367923,0.0013487596398891106,-0.0013530479002125775,0.0015413002304635103,0.0029406288431470832,-0.00928107781487916,-0.008669338512850374,0.0047836133322460336,-0.0027401937342484356,-0.0033214959421088122,0.006807189070207721,5.7641750136920597e-05,-0.0030236196829161767,-0.01322451958639047],[0.006895244459240275,-0.008912627473383897,-0.005756162857510593,-0.006250356232532693,-0.01425704639314846,-0.004012106748806641,0.009939127150510868,0.006917499856592136,-0.001072672503560216,-0.00013730715835530682,0.0006982243227014228,0.0023305194254325525,0.00258629514785654,-0.011674144443039908,-0.0036528593025046143,-0.0047625087478976365,-0.009970171636263457,0.0028093797084022083,0.0034081034049396725,-0.002399595332975017,0.0012922559862966778,-0.0021734789764223513,-0.005026318891746808,-0.011618452657469167,-0.009414982627346231,-0.007664658127062974,-0.012429375766255057,-0.011457861747962789,-0.0069569537354393736,-0.004855570930837816,-0.006137058833676279,-0.009686281099153066],[0.0020255666677759594,-0.011615993957471525,-0.006339782068323116,-0.0004091932288101478,-0.006334567629287347,-0.011098686078984126,-0.003090574381481145,0.0033936696190656227,-0.004335115505547542,-0.002432999655643582,-0.003504668213034806,0.0015974426867050285,-0.0035836914365758765,-0.009565489729525745,-0.0067462876420072634,-0.0018939710015385975,0.005594212321928367,-0.0018407456397486336,-0.005636248520597358,-0.0068703426545871265,-0.007025276757416283,-0.007192981591357644,-0.01004611322729382,-0.01030351663669665,0.006861243891443221,-0.0035402600820981737,-0.013851575711771334,-0.010493111730788457,-0.014124728784515225,-0.010364366876253616,-0.0021022597265072072,-0.0017894434337511597],[0.019286179356374687,0.003560155145113772,0.0014798913540844552,0.0015152991592399339,-0.003123638558735802,-0.010888501804541163,-0.008847391995293611,-0.0018418839290650843,-0.0061123738713399845,-0.002931288670995507,-0.0045066678736132145,0.0012132014645534269,-0.001548783800505287,-0.0005691338740930213,-0.005518481325776875,-0.010583458535046596,0.00039423198054290635,0.0038623187966816182,-0.0014009220299808025,0.004262502209101096,0.0018020922753746538,0.0042732000691794135,-0.0006461294645534959,-0.002681299472064273,-1.2835155427762759e-05,0.004554142642065844,0.0018412176935382707,-0.002634365397078111,-0.009220202679534899,-0.00019595427367712578,0.011742329664022626,0.009418439721724061],[0.02613330082738462,0.006182795954966401,0.006706678320378097,-0.001052729578575744,-0.0008855479925006156,0.0026406795245548505,0.0028937870718949107,0.0028104699668062543,-0.003941692952476659,-0.0010841189038621765,0.003947103031061468,-0.0031210748234921956,-0.002869793921388336,0.005632740498999043,0.003145321373370962,0.00046894240030059727,-0.0006803672273005361,0.005107015147190071,0.0048656678926283425,0.012442652803459043,0.005130096942542586,-0.0019323471206095049,-0.0003618176375729628,0.002359774217968723,0.0025150399392828413,0.0030312337509576233,0.001628875052877015,-0.0036672973271328286,-0.005061482645955921,0.008186950051049215,0.006527567242074281,0.009315028573396522]],\"type\":\"heatmap\",\"xaxis\":\"x\",\"yaxis\":\"y\",\"hovertemplate\":\"x: %{x}<br>y: %{y}<br>color: %{z}<extra></extra>\"}],                        {\"template\":{\"data\":{\"histogram2dcontour\":[{\"type\":\"histogram2dcontour\",\"colorbar\":{\"outlinewidth\":0,\"ticks\":\"\"},\"colorscale\":[[0.0,\"#0d0887\"],[0.1111111111111111,\"#46039f\"],[0.2222222222222222,\"#7201a8\"],[0.3333333333333333,\"#9c179e\"],[0.4444444444444444,\"#bd3786\"],[0.5555555555555556,\"#d8576b\"],[0.6666666666666666,\"#ed7953\"],[0.7777777777777778,\"#fb9f3a\"],[0.8888888888888888,\"#fdca26\"],[1.0,\"#f0f921\"]]}],\"choropleth\":[{\"type\":\"choropleth\",\"colorbar\":{\"outlinewidth\":0,\"ticks\":\"\"}}],\"histogram2d\":[{\"type\":\"histogram2d\",\"colorbar\":{\"outlinewidth\":0,\"ticks\":\"\"},\"colorscale\":[[0.0,\"#0d0887\"],[0.1111111111111111,\"#46039f\"],[0.2222222222222222,\"#7201a8\"],[0.3333333333333333,\"#9c179e\"],[0.4444444444444444,\"#bd3786\"],[0.5555555555555556,\"#d8576b\"],[0.6666666666666666,\"#ed7953\"],[0.7777777777777778,\"#fb9f3a\"],[0.8888888888888888,\"#fdca26\"],[1.0,\"#f0f921\"]]}],\"heatmap\":[{\"type\":\"heatmap\",\"colorbar\":{\"outlinewidth\":0,\"ticks\":\"\"},\"colorscale\":[[0.0,\"#0d0887\"],[0.1111111111111111,\"#46039f\"],[0.2222222222222222,\"#7201a8\"],[0.3333333333333333,\"#9c179e\"],[0.4444444444444444,\"#bd3786\"],[0.5555555555555556,\"#d8576b\"],[0.6666666666666666,\"#ed7953\"],[0.7777777777777778,\"#fb9f3a\"],[0.8888888888888888,\"#fdca26\"],[1.0,\"#f0f921\"]]}],\"heatmapgl\":[{\"type\":\"heatmapgl\",\"colorbar\":{\"outlinewidth\":0,\"ticks\":\"\"},\"colorscale\":[[0.0,\"#0d0887\"],[0.1111111111111111,\"#46039f\"],[0.2222222222222222,\"#7201a8\"],[0.3333333333333333,\"#9c179e\"],[0.4444444444444444,\"#bd3786\"],[0.5555555555555556,\"#d8576b\"],[0.6666666666666666,\"#ed7953\"],[0.7777777777777778,\"#fb9f3a\"],[0.8888888888888888,\"#fdca26\"],[1.0,\"#f0f921\"]]}],\"contourcarpet\":[{\"type\":\"contourcarpet\",\"colorbar\":{\"outlinewidth\":0,\"ticks\":\"\"}}],\"contour\":[{\"type\":\"contour\",\"colorbar\":{\"outlinewidth\":0,\"ticks\":\"\"},\"colorscale\":[[0.0,\"#0d0887\"],[0.1111111111111111,\"#46039f\"],[0.2222222222222222,\"#7201a8\"],[0.3333333333333333,\"#9c179e\"],[0.4444444444444444,\"#bd3786\"],[0.5555555555555556,\"#d8576b\"],[0.6666666666666666,\"#ed7953\"],[0.7777777777777778,\"#fb9f3a\"],[0.8888888888888888,\"#fdca26\"],[1.0,\"#f0f921\"]]}],\"surface\":[{\"type\":\"surface\",\"colorbar\":{\"outlinewidth\":0,\"ticks\":\"\"},\"colorscale\":[[0.0,\"#0d0887\"],[0.1111111111111111,\"#46039f\"],[0.2222222222222222,\"#7201a8\"],[0.3333333333333333,\"#9c179e\"],[0.4444444444444444,\"#bd3786\"],[0.5555555555555556,\"#d8576b\"],[0.6666666666666666,\"#ed7953\"],[0.7777777777777778,\"#fb9f3a\"],[0.8888888888888888,\"#fdca26\"],[1.0,\"#f0f921\"]]}],\"mesh3d\":[{\"type\":\"mesh3d\",\"colorbar\":{\"outlinewidth\":0,\"ticks\":\"\"}}],\"scatter\":[{\"fillpattern\":{\"fillmode\":\"overlay\",\"size\":10,\"solidity\":0.2},\"type\":\"scatter\"}],\"parcoords\":[{\"type\":\"parcoords\",\"line\":{\"colorbar\":{\"outlinewidth\":0,\"ticks\":\"\"}}}],\"scatterpolargl\":[{\"type\":\"scatterpolargl\",\"marker\":{\"colorbar\":{\"outlinewidth\":0,\"ticks\":\"\"}}}],\"bar\":[{\"error_x\":{\"color\":\"#2a3f5f\"},\"error_y\":{\"color\":\"#2a3f5f\"},\"marker\":{\"line\":{\"color\":\"#E5ECF6\",\"width\":0.5},\"pattern\":{\"fillmode\":\"overlay\",\"size\":10,\"solidity\":0.2}},\"type\":\"bar\"}],\"scattergeo\":[{\"type\":\"scattergeo\",\"marker\":{\"colorbar\":{\"outlinewidth\":0,\"ticks\":\"\"}}}],\"scatterpolar\":[{\"type\":\"scatterpolar\",\"marker\":{\"colorbar\":{\"outlinewidth\":0,\"ticks\":\"\"}}}],\"histogram\":[{\"marker\":{\"pattern\":{\"fillmode\":\"overlay\",\"size\":10,\"solidity\":0.2}},\"type\":\"histogram\"}],\"scattergl\":[{\"type\":\"scattergl\",\"marker\":{\"colorbar\":{\"outlinewidth\":0,\"ticks\":\"\"}}}],\"scatter3d\":[{\"type\":\"scatter3d\",\"line\":{\"colorbar\":{\"outlinewidth\":0,\"ticks\":\"\"}},\"marker\":{\"colorbar\":{\"outlinewidth\":0,\"ticks\":\"\"}}}],\"scattermapbox\":[{\"type\":\"scattermapbox\",\"marker\":{\"colorbar\":{\"outlinewidth\":0,\"ticks\":\"\"}}}],\"scatterternary\":[{\"type\":\"scatterternary\",\"marker\":{\"colorbar\":{\"outlinewidth\":0,\"ticks\":\"\"}}}],\"scattercarpet\":[{\"type\":\"scattercarpet\",\"marker\":{\"colorbar\":{\"outlinewidth\":0,\"ticks\":\"\"}}}],\"carpet\":[{\"aaxis\":{\"endlinecolor\":\"#2a3f5f\",\"gridcolor\":\"white\",\"linecolor\":\"white\",\"minorgridcolor\":\"white\",\"startlinecolor\":\"#2a3f5f\"},\"baxis\":{\"endlinecolor\":\"#2a3f5f\",\"gridcolor\":\"white\",\"linecolor\":\"white\",\"minorgridcolor\":\"white\",\"startlinecolor\":\"#2a3f5f\"},\"type\":\"carpet\"}],\"table\":[{\"cells\":{\"fill\":{\"color\":\"#EBF0F8\"},\"line\":{\"color\":\"white\"}},\"header\":{\"fill\":{\"color\":\"#C8D4E3\"},\"line\":{\"color\":\"white\"}},\"type\":\"table\"}],\"barpolar\":[{\"marker\":{\"line\":{\"color\":\"#E5ECF6\",\"width\":0.5},\"pattern\":{\"fillmode\":\"overlay\",\"size\":10,\"solidity\":0.2}},\"type\":\"barpolar\"}],\"pie\":[{\"automargin\":true,\"type\":\"pie\"}]},\"layout\":{\"autotypenumbers\":\"strict\",\"colorway\":[\"#636efa\",\"#EF553B\",\"#00cc96\",\"#ab63fa\",\"#FFA15A\",\"#19d3f3\",\"#FF6692\",\"#B6E880\",\"#FF97FF\",\"#FECB52\"],\"font\":{\"color\":\"#2a3f5f\"},\"hovermode\":\"closest\",\"hoverlabel\":{\"align\":\"left\"},\"paper_bgcolor\":\"white\",\"plot_bgcolor\":\"#E5ECF6\",\"polar\":{\"bgcolor\":\"#E5ECF6\",\"angularaxis\":{\"gridcolor\":\"white\",\"linecolor\":\"white\",\"ticks\":\"\"},\"radialaxis\":{\"gridcolor\":\"white\",\"linecolor\":\"white\",\"ticks\":\"\"}},\"ternary\":{\"bgcolor\":\"#E5ECF6\",\"aaxis\":{\"gridcolor\":\"white\",\"linecolor\":\"white\",\"ticks\":\"\"},\"baxis\":{\"gridcolor\":\"white\",\"linecolor\":\"white\",\"ticks\":\"\"},\"caxis\":{\"gridcolor\":\"white\",\"linecolor\":\"white\",\"ticks\":\"\"}},\"coloraxis\":{\"colorbar\":{\"outlinewidth\":0,\"ticks\":\"\"}},\"colorscale\":{\"sequential\":[[0.0,\"#0d0887\"],[0.1111111111111111,\"#46039f\"],[0.2222222222222222,\"#7201a8\"],[0.3333333333333333,\"#9c179e\"],[0.4444444444444444,\"#bd3786\"],[0.5555555555555556,\"#d8576b\"],[0.6666666666666666,\"#ed7953\"],[0.7777777777777778,\"#fb9f3a\"],[0.8888888888888888,\"#fdca26\"],[1.0,\"#f0f921\"]],\"sequentialminus\":[[0.0,\"#0d0887\"],[0.1111111111111111,\"#46039f\"],[0.2222222222222222,\"#7201a8\"],[0.3333333333333333,\"#9c179e\"],[0.4444444444444444,\"#bd3786\"],[0.5555555555555556,\"#d8576b\"],[0.6666666666666666,\"#ed7953\"],[0.7777777777777778,\"#fb9f3a\"],[0.8888888888888888,\"#fdca26\"],[1.0,\"#f0f921\"]],\"diverging\":[[0,\"#8e0152\"],[0.1,\"#c51b7d\"],[0.2,\"#de77ae\"],[0.3,\"#f1b6da\"],[0.4,\"#fde0ef\"],[0.5,\"#f7f7f7\"],[0.6,\"#e6f5d0\"],[0.7,\"#b8e186\"],[0.8,\"#7fbc41\"],[0.9,\"#4d9221\"],[1,\"#276419\"]]},\"xaxis\":{\"gridcolor\":\"white\",\"linecolor\":\"white\",\"ticks\":\"\",\"title\":{\"standoff\":15},\"zerolinecolor\":\"white\",\"automargin\":true,\"zerolinewidth\":2},\"yaxis\":{\"gridcolor\":\"white\",\"linecolor\":\"white\",\"ticks\":\"\",\"title\":{\"standoff\":15},\"zerolinecolor\":\"white\",\"automargin\":true,\"zerolinewidth\":2},\"scene\":{\"xaxis\":{\"backgroundcolor\":\"#E5ECF6\",\"gridcolor\":\"white\",\"linecolor\":\"white\",\"showbackground\":true,\"ticks\":\"\",\"zerolinecolor\":\"white\",\"gridwidth\":2},\"yaxis\":{\"backgroundcolor\":\"#E5ECF6\",\"gridcolor\":\"white\",\"linecolor\":\"white\",\"showbackground\":true,\"ticks\":\"\",\"zerolinecolor\":\"white\",\"gridwidth\":2},\"zaxis\":{\"backgroundcolor\":\"#E5ECF6\",\"gridcolor\":\"white\",\"linecolor\":\"white\",\"showbackground\":true,\"ticks\":\"\",\"zerolinecolor\":\"white\",\"gridwidth\":2}},\"shapedefaults\":{\"line\":{\"color\":\"#2a3f5f\"}},\"annotationdefaults\":{\"arrowcolor\":\"#2a3f5f\",\"arrowhead\":0,\"arrowwidth\":1},\"geo\":{\"bgcolor\":\"white\",\"landcolor\":\"#E5ECF6\",\"subunitcolor\":\"white\",\"showland\":true,\"showlakes\":true,\"lakecolor\":\"white\"},\"title\":{\"x\":0.05},\"mapbox\":{\"style\":\"light\"}}},\"xaxis\":{\"anchor\":\"y\",\"domain\":[0.0,1.0],\"scaleanchor\":\"y\",\"constrain\":\"domain\",\"side\":\"top\"},\"yaxis\":{\"anchor\":\"x\",\"domain\":[0.0,1.0],\"autorange\":\"reversed\",\"constrain\":\"domain\"},\"coloraxis\":{\"colorscale\":[[0.0,\"#0d0887\"],[0.1111111111111111,\"#46039f\"],[0.2222222222222222,\"#7201a8\"],[0.3333333333333333,\"#9c179e\"],[0.4444444444444444,\"#bd3786\"],[0.5555555555555556,\"#d8576b\"],[0.6666666666666666,\"#ed7953\"],[0.7777777777777778,\"#fb9f3a\"],[0.8888888888888888,\"#fdca26\"],[1.0,\"#f0f921\"]]},\"margin\":{\"t\":60}},                        {\"responsive\": true}                    ).then(function(){\n",
       "                            \n",
       "var gd = document.getElementById('4e6133e0-aaf9-457e-89ef-b6e2a8505941');\n",
       "var x = new MutationObserver(function (mutations, observer) {{\n",
       "        var display = window.getComputedStyle(gd).display;\n",
       "        if (!display || display === 'none') {{\n",
       "            console.log([gd, 'removed!']);\n",
       "            Plotly.purge(gd);\n",
       "            observer.disconnect();\n",
       "        }}\n",
       "}});\n",
       "\n",
       "// Listen for the removal of the full notebook cells\n",
       "var notebookContainer = gd.closest('#notebook-container');\n",
       "if (notebookContainer) {{\n",
       "    x.observe(notebookContainer, {childList: true});\n",
       "}}\n",
       "\n",
       "// Listen for the clearing of the current output cell\n",
       "var outputEl = gd.closest('.output');\n",
       "if (outputEl) {{\n",
       "    x.observe(outputEl, {childList: true});\n",
       "}}\n",
       "\n",
       "                        })                };                });            </script>        </div>"
      ]
     },
     "metadata": {},
     "output_type": "display_data"
    }
   ],
   "source": [
    "resultsl2_b = np.array(resultsl2_b)\n",
    "resultsl2_b = resultsl2_b.reshape([32,32])\n",
    "\n",
    "fig_b = px.imshow(resultsl2_b)\n",
    "fig_b.update_xaxes(side=\"top\")\n",
    "fig_b.show()"
   ]
  },
  {
   "cell_type": "code",
   "execution_count": 265,
   "id": "cf219f98-e52a-4d5e-afd7-d618e79f7fce",
   "metadata": {},
   "outputs": [
    {
     "data": {
      "application/vnd.plotly.v1+json": {
       "config": {
        "plotlyServerURL": "https://plot.ly"
       },
       "data": [
        {
         "coloraxis": "coloraxis",
         "hovertemplate": "x: %{x}<br>y: %{y}<br>color: %{z}<extra></extra>",
         "name": "0",
         "type": "heatmap",
         "xaxis": "x",
         "yaxis": "y",
         "z": [
          [
           0.07270052619011791,
           0.04953739505232055,
           0.038938857427472245,
           0.00778063099984077,
           -0.004815383198215487,
           0.020218536316635886,
           -0.006449725324852504,
           -0.001107727114562809,
           0.021485630296440697,
           0.009100555050508437,
           -0.015762429789892805,
           -0.01814480008902539,
           0.008888109533627585,
           -0.016910253816127544,
           -0.01416642719373111,
           -0.00889734032724125,
           0.003337750350695847,
           0.00441034468648478,
           -0.009398170414706948,
           0.009306061544309241,
           -0.0011870628520151529,
           0.012774965749940666,
           0.01305027038733634,
           0.04433961764285166,
           0.03502573022364106,
           0.02661454389939332,
           0.022914161814094634,
           0.013620194817007264,
           0.014318365331012174,
           0.035493227558998926,
           0.06152000410117008,
           0.0737065487933956
          ],
          [
           0.05441203109073038,
           0.018242940680058384,
           0.013496396325869173,
           0.003585965649767528,
           0.00881445654788452,
           0.016035890099464083,
           -0.005966670650928635,
           0.0017582387905106652,
           -0.022509769494971868,
           -0.008492833081550119,
           -0.02089816533051586,
           -0.023707263794480512,
           0.0045586036451801815,
           -0.005796854202667329,
           0.01582543786852282,
           -0.008132857095956497,
           -0.020962975689771547,
           0.001322174034208502,
           0.007324140400901699,
           0.008373233739342414,
           -0.0038821098440261657,
           0.009450309608612947,
           0.0025984403926672455,
           0.02044287082173304,
           0.009831911635584174,
           0.010357737315422486,
           0.00016572654783733598,
           -0.029057524414941648,
           -0.03088283938222402,
           -0.0023010392246127754,
           0.022805386493761206,
           0.018233349922878058
          ],
          [
           0.03700055522779851,
           -0.007997926966202969,
           -0.00018099146465937015,
           0.0009080245705710907,
           0.009940045595188818,
           0.010453145933627308,
           7.980197206367782e-05,
           0.0023471231126000105,
           -0.03013159275034591,
           -0.025599743146901673,
           -0.0026707818092000122,
           0.012816985279508076,
           0.02031840399006151,
           0.004778943525168303,
           0.02003528770572233,
           -0.024047925436473227,
           -0.03514830742128895,
           -0.034756000926997155,
           -0.001433304340728075,
           0.011381012838567002,
           0.006823489579333026,
           -0.01043127482138544,
           -0.0010109973931305856,
           0.032508650733064304,
           0.015288328746191474,
           0.011454446479719289,
           -0.012316857147328681,
           -0.011950032423074866,
           -0.0016907178524589459,
           0.0023226561062734945,
           0.022784335896710854,
           0.0007158084108403043
          ],
          [
           0.0159892567987914,
           -0.021346486000940336,
           -0.0069947443192351026,
           0.007063990784867868,
           -0.025559949859176832,
           -0.03421157386943967,
           -0.017896283357762235,
           -0.008967757262949499,
           0.0038195487856178623,
           0.003324902927932347,
           0.018789738215333307,
           0.007350511905073458,
           -0.012770581948826866,
           -0.005728458854302785,
           0.018987211028937502,
           -0.00847275761897829,
           -0.01561382539724481,
           -0.04816820007376107,
           -0.01629637675223057,
           -0.024370145195512866,
           -0.01908512810273294,
           -0.020638111472501146,
           -0.005456399066740932,
           0.011155455623283097,
           0.03326343479340646,
           0.020841952661092372,
           0.00024344944913480418,
           0.023252258864212498,
           0.00510160546648533,
           -0.019262856338215655,
           0.011052550774259248,
           0.011941370587949713
          ],
          [
           0.001264354465237256,
           -0.003035535485788319,
           0.006602861750955244,
           0.015326516015136554,
           -0.01871494220363657,
           -0.008321537284456053,
           -0.005148134503446632,
           -0.015468169340925578,
           -0.0006594102872235711,
           0.004403372561946764,
           0.01088668411616965,
           0.018466479282115235,
           0.013437402439020866,
           0.00743404316819259,
           0.02445000742134452,
           0.022382503812695485,
           0.0040833144299801,
           -0.008684261619633786,
           0.018886562999198962,
           0.014134095367403059,
           0.00844604197995814,
           -0.019568281030088334,
           -0.025583170348527574,
           -0.041430857682325295,
           -0.004652070892998851,
           -0.005512818184979298,
           -0.0078210916242801,
           -0.0013925061907020852,
           -0.011457515192800367,
           -0.021285878347474037,
           -0.0002889945288865373,
           0.016610908305118185
          ],
          [
           0.01663541425371075,
           0.01403432046262601,
           0.007417869596632128,
           0.012791691048500468,
           0.0007638452600706341,
           0.005292915577758266,
           -0.008588744559818368,
           -0.02415966653930951,
           -0.03867783649820551,
           -0.02842578688479224,
           0.007847307497385592,
           0.030141038551358718,
           0.0027443627085496705,
           -0.0023381110208492463,
           0.015230394595140856,
           0.0022793494058157195,
           -0.002234745330010916,
           -0.007379907769549743,
           0.013033200469699139,
           0.022564964415792036,
           0.024480263227161972,
           -0.005580248267678213,
           -0.012489466315108605,
           0.0002356957627736543,
           -0.006764372966983361,
           -0.004369968790692595,
           0.0017804384982623587,
           -0.008634890572284318,
           -0.0012697227619429341,
           0.0017566318627108032,
           0.0019450739712283266,
           0.0027261884421201435
          ],
          [
           0.038195154022259516,
           0.003250201145187424,
           -0.017154068965932374,
           -0.011126862867108556,
           -0.00018141963561892202,
           -0.0019729496089018923,
           -0.010061138796543443,
           -0.009025481428975062,
           -0.009898624611841463,
           -0.01296699135731048,
           0.01831318420271707,
           0.004425467703445149,
           -0.03983531381190984,
           -0.004422093054007569,
           0.016397914741381903,
           0.005170331246436423,
           0.01703279506529734,
           -0.003224777832550695,
           -0.02355370227548255,
           -0.013030767043273182,
           0.004970006127372138,
           -0.0022343782727730845,
           -0.030009964049216083,
           -0.006401576322866025,
           0.015088076752669294,
           0.012576464152839275,
           0.003773476523153417,
           -0.01378912383431722,
           -0.0006225148277225218,
           0.006282718022492327,
           -0.0031943496341881768,
           -0.0009527865812297399
          ],
          [
           0.047910689552723346,
           0.017212816197787244,
           -0.010927079038643706,
           -0.021384448531400896,
           -0.004780803838924389,
           -0.006152541773306876,
           -0.00828264214773154,
           0.022405128376683778,
           0.03059822916601462,
           0.022535459828656255,
           0.05555448478125974,
           0.0304732097932969,
           -0.03408751097984384,
           -0.004112400654000051,
           0.019523691760612003,
           -0.0026211281538171542,
           0.0020971311774268192,
           -0.0072930066097842495,
           -0.015158163644675022,
           -0.004017472939842831,
           0.0018316833695807846,
           0.005238739738870067,
           0.0002866158874739004,
           0.006236404760457696,
           -0.015257683589786956,
           -0.008564944180325489,
           -0.004208650612579027,
           -0.007963615393047244,
           -0.004496364445815553,
           0.01845146980064461,
           -0.013512544783628,
           0.001123494669153072
          ],
          [
           -0.005715664756883145,
           -0.02582560965162641,
           -0.02755687716333842,
           -0.03744101166175442,
           -0.04372120501501997,
           -0.001106193260488265,
           -0.02187556264228666,
           0.027179041255975922,
           -0.006724516049726667,
           -0.00556214252286958,
           -0.007778832161148604,
           -0.0018514654895641256,
           -0.02221195381673134,
           0.02257327090236327,
           0.027732409618132135,
           0.004309299492640591,
           -0.021678471454758846,
           0.01344730718856108,
           0.004737587785543664,
           -0.02176284854766157,
           -0.022355062305209228,
           -0.014037656595151457,
           0.004704774770013427,
           0.03317791225678868,
           -0.01590817112849306,
           0.003743086881507505,
           -0.040534259837837615,
           0.0062238225392968645,
           0.004376913990657645,
           -0.008422999797618947,
           -0.002282114429544989,
           -0.01625576517722108
          ],
          [
           0.011566324638395839,
           0.01726750135925195,
           -0.004607536608212991,
           -0.022478848399381867,
           0.006123537235577901,
           0.03029209993722662,
           -0.013771941543670282,
           -0.016474843151009572,
           -0.03401027422809952,
           -0.002671505907746231,
           0.014502530360247227,
           0.028316079108402965,
           0.0038740293680561296,
           -0.0006978516930343987,
           0.009921247961071465,
           -0.015354886679910966,
           0.005191089419158053,
           0.03137991087926838,
           -0.022567345064586287,
           0.00553862914076384,
           0.005947912702323378,
           -0.014997300978265075,
           -0.018158199078956137,
           -0.019522476984331193,
           -0.01398214545872018,
           0.017630417523709252,
           0.016446602209267146,
           0.024693050617057562,
           -0.018053686120762,
           0.003668549992487681,
           0.03208223961391425,
           -0.0012086073917815143
          ],
          [
           -0.006229063530414508,
           0.007873139409326137,
           0.009163734716166218,
           0.012342931640656004,
           0.036304742325270145,
           0.020000792346328733,
           0.017433758204472415,
           0.0002655444659318603,
           -0.023022559366868173,
           -0.01522125463259923,
           -0.005750769058963764,
           0.0043301133903863795,
           -0.019600795130561656,
           -0.015760371639147647,
           0.016503407262208794,
           0.0003330888890805007,
           0.03148304451542601,
           0.024204017907096483,
           -0.008639265836668929,
           0.04963780808806272,
           0.036478779400755314,
           -0.00757933988338485,
           0.015255808031531414,
           0.01213359009983958,
           -0.022383737788917665,
           0.005873058253644706,
           0.009736013037133647,
           0.032075016427938086,
           -0.018202959277631506,
           -0.0016236865636100424,
           0.024237697548957333,
           0.005636655119324447
          ],
          [
           0.017029183137647636,
           0.005244590970385414,
           0.01611620966671974,
           0.0147849683404409,
           0.021017952368877015,
           0.0004461330487071369,
           0.022771347303948572,
           -0.002483020290871962,
           -0.004705796323893706,
           0.010363278650882013,
           -0.012158949496233968,
           0.011311880373674659,
           0.0043172781676324235,
           0.0030935410060786146,
           0.00484803309506796,
           -0.005191345367182937,
           -0.025027332898141165,
           -0.005170738166972062,
           -0.009636288670055957,
           0.025996224736029402,
           0.006182830484638835,
           -0.006306543265422783,
           0.03362022451887221,
           0.026625168630117803,
           -0.02206139391707081,
           -0.0257134890395911,
           -0.033729674398593784,
           -0.008303123172739447,
           -0.010469114287561677,
           -0.007531166767832092,
           -0.025309999724383248,
           -0.0010917853263832295
          ],
          [
           0.03749697456540314,
           0.0048155702599959995,
           0.012902562969681862,
           -0.02313794183942527,
           -0.03336948571303839,
           -0.021745875366735643,
           -0.0002221957658058226,
           -0.01810045632705209,
           -0.011013996312555714,
           0.011894118393261603,
           0.014039197597980875,
           0.018935901772717135,
           0.019941720881567676,
           0.03080758943249787,
           0.008965723142856832,
           -0.018631569530469273,
           -0.019137150316489344,
           0.0067366521034721225,
           -0.0077263908206780495,
           -0.020147604176202392,
           -0.012114200602534297,
           -0.005940184191300097,
           0.013747919226551301,
           0.029507456326787376,
           0.017699791030473748,
           0.007372657747946473,
           0.0029956560510191045,
           0.01774021527250049,
           0.0180898859240614,
           -0.002558992279230998,
           -0.047064606234829325,
           0.009123230302355635
          ],
          [
           0.004016397347217585,
           -0.024503182261512012,
           0.0041037961061134685,
           -0.011464619001270762,
           -0.008872528012877991,
           0.03233775244891146,
           0.0022865932437605655,
           -0.017362469039293723,
           -0.006234353318669684,
           0.008783623162223527,
           -0.007582565167827474,
           -0.0008878226478730294,
           -0.007601774544209796,
           0.01006513000267424,
           0.0027438375027955065,
           -0.00244717607219671,
           -0.011627967715730068,
           0.01547059305573776,
           -0.006853179440815523,
           -0.04331148139958694,
           0.012897152976164202,
           -0.021723423188605637,
           -0.031013491650382294,
           -0.01408605716513257,
           0.025161136635691018,
           0.017134486240791166,
           0.0053803859592703,
           0.015681167936061793,
           0.008771868221991774,
           0.011887594222967594,
           -0.010180997179327972,
           0.0027679765303781243
          ],
          [
           -0.02587370488740037,
           -0.044332610116808016,
           0.010439890140179403,
           -0.013964447338567469,
           -0.027643657136413532,
           0.012769783082823973,
           0.0006541420514033164,
           0.02229426229156851,
           -0.010191411905727699,
           0.015788298545305487,
           0.0059336609920094,
           0.017900163079003134,
           0.004954521348360321,
           0.02170196577000867,
           -0.018654101447417554,
           0.009251316744136841,
           0.00940638131074126,
           -0.03231247003439766,
           -0.01672686129687398,
           0.005974647153418122,
           0.03525515088849164,
           0.017455772868287183,
           0.009484000662057348,
           -0.017000861405892635,
           0.0014509623123490252,
           -0.033831105176207486,
           -0.031564882877217,
           -0.01034084205980279,
           -0.005386814496222062,
           -0.004503265690001311,
           0.00349971772107385,
           -0.011550266985905663
          ],
          [
           -0.02610323425519602,
           -0.04155885919514033,
           0.009479913360796883,
           -0.005000483032814717,
           -0.014477848103035913,
           0.021885574830781643,
           -0.014303008420495417,
           0.019573732353000063,
           -0.0018230698041867936,
           0.03600391497798797,
           -0.003946580361901736,
           -0.01534583618771556,
           0.013563772624250302,
           0.0394870431663637,
           -0.028662127720831116,
           -0.009534595233615537,
           0.024825696626768985,
           0.0028656287749162634,
           0.03483813563750457,
           0.04525992469742851,
           -0.014546271095191363,
           0.0108759189255715,
           0.018545409049061864,
           0.013303416617864904,
           0.014962364057686906,
           -0.020360518337620002,
           -0.016072369093216618,
           -0.007962941880620805,
           -0.000964936508484799,
           -0.002516558657738595,
           0.016416818217821504,
           -0.006618900797339837
          ],
          [
           0.00988244520957513,
           0.002078475922093268,
           -0.005446129363379832,
           0.010923565011459468,
           -0.010850192384509544,
           0.012996895969372507,
           -0.010268826767199035,
           -0.007251772867300841,
           -0.02289664313726702,
           0.021647550057795575,
           -0.02546394692189474,
           -0.006134003901586213,
           -0.02019601965718066,
           0.01007997450818756,
           -0.0003231647228069095,
           -0.007901004854585471,
           0.03026548707296913,
           0.017557763425535944,
           0.013630919934896814,
           -0.0006658721272488179,
           -0.003739244792121359,
           -0.030870205114103814,
           -0.02284352450629962,
           0.037625444418017115,
           0.048874354034346056,
           0.01695147210463749,
           0.0012718254893989448,
           0.016446382690727505,
           0.0008937673153482212,
           -0.022340451373367213,
           -0.018900499562596724,
           0.003909233181520446
          ],
          [
           0.019446264786899446,
           -0.02560786355218706,
           -0.0029031061207706495,
           0.017584204630937163,
           -0.005111660678946354,
           -0.005302838417078419,
           0.008153340741614036,
           0.04543488714872392,
           -0.021203873559669073,
           -0.005976249495893794,
           -0.01581417530207361,
           0.0005278451790405515,
           -0.002469533322693088,
           0.012598045936437357,
           0.009934198843010318,
           0.00811311704217784,
           -0.02079454109011819,
           -0.008387792078792018,
           -0.012034890004215976,
           0.012999882802164941,
           0.023902759322028712,
           0.010702040061367204,
           0.007900385253422378,
           0.015028357296693148,
           -0.008013063767521198,
           -0.005617445953970256,
           -0.014474344328156568,
           -0.009573404703593035,
           -0.009226793288283788,
           0.003054840522628278,
           0.008315882403043047,
           -0.006733360029399595
          ],
          [
           0.03306994871249615,
           -0.01872290494021104,
           0.005328330226657163,
           0.013102270599998174,
           -0.022889840821400276,
           -0.03943835562371483,
           -0.005529333451984477,
           0.032517825224219296,
           -0.01702627833275091,
           0.013181134316585442,
           -0.003245468256466219,
           0.025441810537375112,
           0.02328804669397941,
           0.004916690484942079,
           0.0009241181574949344,
           -0.006097660435318571,
           -0.03262432640179308,
           -0.0009801495202485337,
           -0.007594902766869251,
           -0.01377151178048125,
           -0.004618898041458825,
           0.008625939321623135,
           0.016625758876255274,
           0.0235829549288259,
           -0.020214006439324833,
           0.005030881920541857,
           0.017627304611146113,
           -0.023822048225565974,
           -0.03863236196801624,
           -0.009555859275726521,
           -0.0035361495569607247,
           0.013460204175242034
          ],
          [
           0.055502094734732124,
           -0.010109223093070961,
           -0.029505998638597528,
           0.0031533023836327156,
           0.007832559956175659,
           -0.0116239725355328,
           -0.0018985445368336728,
           -0.008590229196099836,
           0.011004860937309471,
           0.040662575756755984,
           0.008426548817643384,
           0.011828851786455782,
           -0.0005943188754837063,
           0.004298328769186779,
           0.021241240672477204,
           0.028834000578436974,
           -0.01236051260082156,
           -0.002099174829564098,
           -0.004731101943035346,
           0.008279123790168822,
           0.007922743769957837,
           -0.0012002187184628082,
           -0.005070045674158916,
           -0.0031697736013898995,
           0.00882808253831716,
           0.010898626948176282,
           0.024249305929132027,
           0.008713955248146707,
           -0.01571520350022192,
           -0.013382972471254643,
           -0.019417970303139152,
           0.005156032918076236
          ],
          [
           0.004173181155138343,
           -0.03888153510914412,
           -0.016131406499556182,
           -0.01148921230810741,
           0.0064591849547205,
           0.017920795723122773,
           0.02573051074763567,
           0.01087179356171828,
           -0.010653405612082658,
           0.0046743320509944975,
           -0.024092584545338226,
           -0.008155769287292437,
           0.00011282862475389677,
           0.007921623211193192,
           -0.00781396621478191,
           -0.003635892459774203,
           0.042574353566168704,
           0.01890710106195499,
           -0.016153407373078417,
           -0.02471021249612011,
           0.03290745139112841,
           0.021085575073351424,
           -0.011419854629558836,
           -0.019967387912467088,
           -0.029299228156801062,
           -0.03264809682404483,
           -0.021715494445088423,
           0.008311927428497026,
           -0.002214586027107306,
           -0.016848196709664733,
           -0.0004965591000960128,
           0.003701477960053389
          ],
          [
           0.006761586288737735,
           -0.04420490573472811,
           0.00439002623504923,
           -0.03420087750144413,
           -0.04601307986338643,
           -0.027791172728249852,
           -0.006979375255029303,
           -0.008610957654932035,
           0.008173262215864728,
           0.03681712016645732,
           0.019861976608532624,
           0.00666948573345295,
           -0.004245480137028819,
           -0.010566445838205206,
           -0.01742996493268556,
           0.012715423467259863,
           0.05404329839515902,
           0.014112613130152371,
           -0.0012196206396966978,
           0.000758757509684029,
           0.0034097493437702424,
           -0.01756674489154882,
           0.013865286379016815,
           0.02853748102315918,
           -0.01213462301906373,
           0.02089625905697683,
           0.03688731604703782,
           -0.00879592676588663,
           -0.03332249362686395,
           -0.01605250706601104,
           0.03229115202550466,
           0.026489267349137154
          ],
          [
           0.05261242937722897,
           -0.03348847145372251,
           0.007097925334174305,
           0.017923585617283605,
           -0.004259605844983246,
           -0.01976321436500326,
           -0.013970961583449952,
           -0.0014254826001412005,
           -0.01918206348047998,
           -0.0019572138795755784,
           0.011213775977086598,
           -0.003220947195510515,
           -0.017821590530167592,
           -0.013029021653066117,
           -0.024193797805938964,
           -0.0336059131402453,
           -0.0226336413068155,
           -0.009760214028449732,
           0.020685162635887325,
           0.023722028125935043,
           -0.02053057017192978,
           -0.02841549152146669,
           0.015518980139215854,
           0.0024460211197656298,
           -0.006734635275701695,
           0.013183671634752064,
           0.04119689514191463,
           -0.007095681313685712,
           -0.027220724461557603,
           -0.009778652227984989,
           0.03138096778809785,
           0.050624020860431884
          ],
          [
           0.03090384088123322,
           -0.026902521868339576,
           -0.0074032774566125436,
           0.02221716451682973,
           0.019230320285991125,
           0.018655931274875685,
           0.01360819381280974,
           0.01986378323377331,
           -0.011906408565948304,
           -0.009927290465346319,
           -0.0023088621827587075,
           0.00071211375560095,
           -0.021771613787833176,
           0.0019214486625213772,
           0.017688643733196615,
           0.02960893522766624,
           -0.023602196412569297,
           0.04066908170605735,
           0.04844406347798985,
           0.01833857758073503,
           -0.007540709623737794,
           0.00914136190153394,
           -0.009563661922283343,
           -0.015275280747034266,
           -0.004662222780430846,
           -0.025410052664936934,
           -0.005761707863535655,
           -0.024299346700705052,
           0.011034062495326466,
           -0.015889248873757485,
           -0.018348136362895125,
           0.0036289509813135106
          ],
          [
           0.03477495022962736,
           -0.019268763816327465,
           -0.003118479705017916,
           0.008135469879941935,
           -7.61545977047385e-05,
           0.002538007236371637,
           0.004508496157154512,
           0.010949621490338988,
           0.007405828847544707,
           -0.032191340205572454,
           -0.026813607193575666,
           0.027976326206788665,
           -0.023874362768875085,
           0.02542012874473424,
           0.019880859753723865,
           0.047652808029404914,
           -0.01781559763561097,
           -0.020477545263200662,
           -0.0013423125826163111,
           -0.0005707306025557043,
           0.01211396211996516,
           0.007583381078401126,
           -0.022351566112104232,
           0.011355559742073787,
           0.008182191164426061,
           -0.00744119209277628,
           -0.019749625106059987,
           -0.014474614713350839,
           -0.019094016503146845,
           -0.011763327221011022,
           0.02648510327606783,
           0.03704155426661025
          ],
          [
           0.020247506792192314,
           -0.029515914431640856,
           -0.023048853568660037,
           -0.028645281132283693,
           -0.0371507548802382,
           -0.03215223406543015,
           0.0017474585758497742,
           0.004716938679839742,
           -0.00724345659658002,
           -0.034699639663433465,
           -0.0020233144967292753,
           0.04274218546052352,
           0.01475723636103906,
           0.016121470802107435,
           -0.008930954137784795,
           0.023141665622257595,
           -0.003159903328487129,
           -0.01605046426737197,
           0.0016339401178912685,
           0.019168396467082648,
           0.007514537290008011,
           -0.005169984878962047,
           -0.023388415567335084,
           -0.0013188481255233325,
           0.00865226937047518,
           -0.004249756038652647,
           -0.014210423807307396,
           -0.008034029212060723,
           -0.010760013190601698,
           -0.028016389863400833,
           0.006479287761560525,
           0.017356186754600558
          ],
          [
           0.03569138277988926,
           -0.01825839321609013,
           0.007790212707381561,
           0.01944984250390901,
           -0.005297324122018228,
           -0.026648574013469907,
           -0.0008090818188128826,
           0.0021070227968891042,
           -0.007363635445750702,
           -0.024900888249256396,
           0.013140967868544651,
           0.001858249965671972,
           -0.018302567302753144,
           -0.024851096860421768,
           -0.0230505237041974,
           -0.0030087712552424,
           0.015685058221286012,
           0.006642961748298978,
           -0.013980859779580818,
           -0.005904238922437045,
           -0.019941170249290187,
           -0.009324548267792662,
           -0.008376991420574336,
           -0.02547548153348495,
           0.0011924698684117414,
           0.02429740334466518,
           0.008277467268596244,
           0.016899941742237315,
           0.026865226562126854,
           0.005651730566675629,
           0.019966535424852043,
           0.006208387609296086
          ],
          [
           0.06809586474520853,
           0.011418034462554414,
           0.025211781222793977,
           0.03132715190761097,
           0.006754898155120632,
           -0.0013453166926400222,
           -0.0006408962109566902,
           -0.021552733344099302,
           -0.013290753344554887,
           0.0026067732896846215,
           0.018277834863504996,
           0.015406374840311245,
           0.02778085097213044,
           -0.011649669976191164,
           0.0024015104953135505,
           -0.021578197269578655,
           -0.018110759881592373,
           0.027303369689588235,
           0.017927766864900357,
           0.00017959517336407034,
           -0.0035001878435765533,
           0.017852848434752856,
           0.024802445368086384,
           -0.01828891966174316,
           -0.021987639264224784,
           0.014561565333798899,
           -0.010684800890277936,
           -0.006592895714730524,
           0.029911162085187883,
           0.010497252078427633,
           0.0025843522504874258,
           -0.025559746974691874
          ],
          [
           0.044952477837140035,
           -0.010105012096345093,
           -0.005625503160038073,
           -0.013654554743534282,
           -0.04307131960603593,
           -0.016704279362147197,
           0.02633345642002352,
           0.022322128179066203,
           -0.0036188268037303717,
           0.00781855623949914,
           0.008458589074103547,
           0.010129118612683768,
           0.007121572983308634,
           -0.04260565140489487,
           -0.024270081768734693,
           -0.024088505544657017,
           -0.03783230302570201,
           -0.0037749755146025852,
           0.004298225381175326,
           -0.013549533301212715,
           0.0013350611579318568,
           0.0016489025013598614,
           -0.00013389309611414046,
           -0.019366194421072368,
           -0.016579988855185145,
           -0.01661062859665853,
           -0.030029245716712408,
           -0.020783385879694697,
           -0.002259120774646647,
           0.004951613351931782,
           0.0033841521348383597,
           -0.007398495812394469
          ],
          [
           0.035757068459448434,
           -0.01438408573717389,
           -0.005094305919072402,
           0.010000652417185464,
           -0.01690026421075455,
           -0.03419276707907784,
           -0.011802157863989568,
           0.012174858647769612,
           -0.01063567790791524,
           0.003831347611977136,
           -7.368936421192889e-05,
           0.013044198951653548,
           -0.007864823770316632,
           -0.031417667801060575,
           -0.026335357095953332,
           -0.011102693661668689,
           0.01308336099379434,
           -0.013939917579015557,
           -0.02421456930255375,
           -0.027464707338512594,
           -0.02312228079332078,
           -0.016991610364730243,
           -0.021314952338913423,
           -0.01992813555307641,
           0.029402465240153025,
           -0.005268351777283213,
           -0.0348523874684453,
           -0.017418362463172125,
           -0.022837856516688806,
           -0.01095710211830205,
           0.01936581246616199,
           0.023711997607105857
          ],
          [
           0.09514494187134506,
           0.03440283147670594,
           0.01871617800479635,
           0.013243354979041602,
           -0.008858443020446324,
           -0.03550660913900265,
           -0.030454707128645342,
           -0.0057544188333186865,
           -0.012350619317755267,
           0.002180577605391818,
           -0.006715758798029417,
           0.009227641314485798,
           -0.0049251877350426935,
           -0.0013596568421834487,
           -0.017955148625903777,
           -0.0313645550736638,
           -0.001221757532194108,
           0.005634669084914167,
           -0.013752670491968318,
           0.0015330552527480523,
           -0.004912769905430745,
           0.008657256380953717,
           0.0006178305344591951,
           -0.006293502053633973,
           0.0008123789663156849,
           0.011714558421115132,
           0.008098393195453558,
           0.0017577926761424795,
           -0.010824616395192294,
           0.022094525516415785,
           0.06401883728119387,
           0.06326610627056455
          ],
          [
           0.12380211881226576,
           0.04225627391810963,
           0.03221623319020978,
           0.004954044058184804,
           0.0033618224319308765,
           0.014542754632471011,
           0.016412993186228145,
           0.018010102713510834,
           -0.00021110640958107519,
           0.014256880248257855,
           0.026378227609564174,
           -0.0007614185643340181,
           -0.008659424565486278,
           0.01922078274110561,
           0.011413315872095969,
           0.006867076004035375,
           -0.00024706137021336476,
           0.011566480218837345,
           0.006434262938234823,
           0.02745682123074278,
           0.00410056488472045,
           -0.011445016203216314,
           0.001506625798483813,
           0.01060202344286962,
           0.006299927682679358,
           0.004517681976918766,
           0.004328520920211708,
           -0.0021018982045292447,
           0.0005953909641586855,
           0.050007973509077944,
           0.052028762498052154,
           0.0686147813846067
          ]
         ]
        }
       ],
       "layout": {
        "autosize": true,
        "coloraxis": {
         "colorscale": [
          [
           0,
           "#0d0887"
          ],
          [
           0.1111111111111111,
           "#46039f"
          ],
          [
           0.2222222222222222,
           "#7201a8"
          ],
          [
           0.3333333333333333,
           "#9c179e"
          ],
          [
           0.4444444444444444,
           "#bd3786"
          ],
          [
           0.5555555555555556,
           "#d8576b"
          ],
          [
           0.6666666666666666,
           "#ed7953"
          ],
          [
           0.7777777777777778,
           "#fb9f3a"
          ],
          [
           0.8888888888888888,
           "#fdca26"
          ],
          [
           1,
           "#f0f921"
          ]
         ]
        },
        "margin": {
         "t": 60
        },
        "template": {
         "data": {
          "bar": [
           {
            "error_x": {
             "color": "#2a3f5f"
            },
            "error_y": {
             "color": "#2a3f5f"
            },
            "marker": {
             "line": {
              "color": "#E5ECF6",
              "width": 0.5
             },
             "pattern": {
              "fillmode": "overlay",
              "size": 10,
              "solidity": 0.2
             }
            },
            "type": "bar"
           }
          ],
          "barpolar": [
           {
            "marker": {
             "line": {
              "color": "#E5ECF6",
              "width": 0.5
             },
             "pattern": {
              "fillmode": "overlay",
              "size": 10,
              "solidity": 0.2
             }
            },
            "type": "barpolar"
           }
          ],
          "carpet": [
           {
            "aaxis": {
             "endlinecolor": "#2a3f5f",
             "gridcolor": "white",
             "linecolor": "white",
             "minorgridcolor": "white",
             "startlinecolor": "#2a3f5f"
            },
            "baxis": {
             "endlinecolor": "#2a3f5f",
             "gridcolor": "white",
             "linecolor": "white",
             "minorgridcolor": "white",
             "startlinecolor": "#2a3f5f"
            },
            "type": "carpet"
           }
          ],
          "choropleth": [
           {
            "colorbar": {
             "outlinewidth": 0,
             "ticks": ""
            },
            "type": "choropleth"
           }
          ],
          "contour": [
           {
            "colorbar": {
             "outlinewidth": 0,
             "ticks": ""
            },
            "colorscale": [
             [
              0,
              "#0d0887"
             ],
             [
              0.1111111111111111,
              "#46039f"
             ],
             [
              0.2222222222222222,
              "#7201a8"
             ],
             [
              0.3333333333333333,
              "#9c179e"
             ],
             [
              0.4444444444444444,
              "#bd3786"
             ],
             [
              0.5555555555555556,
              "#d8576b"
             ],
             [
              0.6666666666666666,
              "#ed7953"
             ],
             [
              0.7777777777777778,
              "#fb9f3a"
             ],
             [
              0.8888888888888888,
              "#fdca26"
             ],
             [
              1,
              "#f0f921"
             ]
            ],
            "type": "contour"
           }
          ],
          "contourcarpet": [
           {
            "colorbar": {
             "outlinewidth": 0,
             "ticks": ""
            },
            "type": "contourcarpet"
           }
          ],
          "heatmap": [
           {
            "colorbar": {
             "outlinewidth": 0,
             "ticks": ""
            },
            "colorscale": [
             [
              0,
              "#0d0887"
             ],
             [
              0.1111111111111111,
              "#46039f"
             ],
             [
              0.2222222222222222,
              "#7201a8"
             ],
             [
              0.3333333333333333,
              "#9c179e"
             ],
             [
              0.4444444444444444,
              "#bd3786"
             ],
             [
              0.5555555555555556,
              "#d8576b"
             ],
             [
              0.6666666666666666,
              "#ed7953"
             ],
             [
              0.7777777777777778,
              "#fb9f3a"
             ],
             [
              0.8888888888888888,
              "#fdca26"
             ],
             [
              1,
              "#f0f921"
             ]
            ],
            "type": "heatmap"
           }
          ],
          "heatmapgl": [
           {
            "colorbar": {
             "outlinewidth": 0,
             "ticks": ""
            },
            "colorscale": [
             [
              0,
              "#0d0887"
             ],
             [
              0.1111111111111111,
              "#46039f"
             ],
             [
              0.2222222222222222,
              "#7201a8"
             ],
             [
              0.3333333333333333,
              "#9c179e"
             ],
             [
              0.4444444444444444,
              "#bd3786"
             ],
             [
              0.5555555555555556,
              "#d8576b"
             ],
             [
              0.6666666666666666,
              "#ed7953"
             ],
             [
              0.7777777777777778,
              "#fb9f3a"
             ],
             [
              0.8888888888888888,
              "#fdca26"
             ],
             [
              1,
              "#f0f921"
             ]
            ],
            "type": "heatmapgl"
           }
          ],
          "histogram": [
           {
            "marker": {
             "pattern": {
              "fillmode": "overlay",
              "size": 10,
              "solidity": 0.2
             }
            },
            "type": "histogram"
           }
          ],
          "histogram2d": [
           {
            "colorbar": {
             "outlinewidth": 0,
             "ticks": ""
            },
            "colorscale": [
             [
              0,
              "#0d0887"
             ],
             [
              0.1111111111111111,
              "#46039f"
             ],
             [
              0.2222222222222222,
              "#7201a8"
             ],
             [
              0.3333333333333333,
              "#9c179e"
             ],
             [
              0.4444444444444444,
              "#bd3786"
             ],
             [
              0.5555555555555556,
              "#d8576b"
             ],
             [
              0.6666666666666666,
              "#ed7953"
             ],
             [
              0.7777777777777778,
              "#fb9f3a"
             ],
             [
              0.8888888888888888,
              "#fdca26"
             ],
             [
              1,
              "#f0f921"
             ]
            ],
            "type": "histogram2d"
           }
          ],
          "histogram2dcontour": [
           {
            "colorbar": {
             "outlinewidth": 0,
             "ticks": ""
            },
            "colorscale": [
             [
              0,
              "#0d0887"
             ],
             [
              0.1111111111111111,
              "#46039f"
             ],
             [
              0.2222222222222222,
              "#7201a8"
             ],
             [
              0.3333333333333333,
              "#9c179e"
             ],
             [
              0.4444444444444444,
              "#bd3786"
             ],
             [
              0.5555555555555556,
              "#d8576b"
             ],
             [
              0.6666666666666666,
              "#ed7953"
             ],
             [
              0.7777777777777778,
              "#fb9f3a"
             ],
             [
              0.8888888888888888,
              "#fdca26"
             ],
             [
              1,
              "#f0f921"
             ]
            ],
            "type": "histogram2dcontour"
           }
          ],
          "mesh3d": [
           {
            "colorbar": {
             "outlinewidth": 0,
             "ticks": ""
            },
            "type": "mesh3d"
           }
          ],
          "parcoords": [
           {
            "line": {
             "colorbar": {
              "outlinewidth": 0,
              "ticks": ""
             }
            },
            "type": "parcoords"
           }
          ],
          "pie": [
           {
            "automargin": true,
            "type": "pie"
           }
          ],
          "scatter": [
           {
            "fillpattern": {
             "fillmode": "overlay",
             "size": 10,
             "solidity": 0.2
            },
            "type": "scatter"
           }
          ],
          "scatter3d": [
           {
            "line": {
             "colorbar": {
              "outlinewidth": 0,
              "ticks": ""
             }
            },
            "marker": {
             "colorbar": {
              "outlinewidth": 0,
              "ticks": ""
             }
            },
            "type": "scatter3d"
           }
          ],
          "scattercarpet": [
           {
            "marker": {
             "colorbar": {
              "outlinewidth": 0,
              "ticks": ""
             }
            },
            "type": "scattercarpet"
           }
          ],
          "scattergeo": [
           {
            "marker": {
             "colorbar": {
              "outlinewidth": 0,
              "ticks": ""
             }
            },
            "type": "scattergeo"
           }
          ],
          "scattergl": [
           {
            "marker": {
             "colorbar": {
              "outlinewidth": 0,
              "ticks": ""
             }
            },
            "type": "scattergl"
           }
          ],
          "scattermapbox": [
           {
            "marker": {
             "colorbar": {
              "outlinewidth": 0,
              "ticks": ""
             }
            },
            "type": "scattermapbox"
           }
          ],
          "scatterpolar": [
           {
            "marker": {
             "colorbar": {
              "outlinewidth": 0,
              "ticks": ""
             }
            },
            "type": "scatterpolar"
           }
          ],
          "scatterpolargl": [
           {
            "marker": {
             "colorbar": {
              "outlinewidth": 0,
              "ticks": ""
             }
            },
            "type": "scatterpolargl"
           }
          ],
          "scatterternary": [
           {
            "marker": {
             "colorbar": {
              "outlinewidth": 0,
              "ticks": ""
             }
            },
            "type": "scatterternary"
           }
          ],
          "surface": [
           {
            "colorbar": {
             "outlinewidth": 0,
             "ticks": ""
            },
            "colorscale": [
             [
              0,
              "#0d0887"
             ],
             [
              0.1111111111111111,
              "#46039f"
             ],
             [
              0.2222222222222222,
              "#7201a8"
             ],
             [
              0.3333333333333333,
              "#9c179e"
             ],
             [
              0.4444444444444444,
              "#bd3786"
             ],
             [
              0.5555555555555556,
              "#d8576b"
             ],
             [
              0.6666666666666666,
              "#ed7953"
             ],
             [
              0.7777777777777778,
              "#fb9f3a"
             ],
             [
              0.8888888888888888,
              "#fdca26"
             ],
             [
              1,
              "#f0f921"
             ]
            ],
            "type": "surface"
           }
          ],
          "table": [
           {
            "cells": {
             "fill": {
              "color": "#EBF0F8"
             },
             "line": {
              "color": "white"
             }
            },
            "header": {
             "fill": {
              "color": "#C8D4E3"
             },
             "line": {
              "color": "white"
             }
            },
            "type": "table"
           }
          ]
         },
         "layout": {
          "annotationdefaults": {
           "arrowcolor": "#2a3f5f",
           "arrowhead": 0,
           "arrowwidth": 1
          },
          "autotypenumbers": "strict",
          "coloraxis": {
           "colorbar": {
            "outlinewidth": 0,
            "ticks": ""
           }
          },
          "colorscale": {
           "diverging": [
            [
             0,
             "#8e0152"
            ],
            [
             0.1,
             "#c51b7d"
            ],
            [
             0.2,
             "#de77ae"
            ],
            [
             0.3,
             "#f1b6da"
            ],
            [
             0.4,
             "#fde0ef"
            ],
            [
             0.5,
             "#f7f7f7"
            ],
            [
             0.6,
             "#e6f5d0"
            ],
            [
             0.7,
             "#b8e186"
            ],
            [
             0.8,
             "#7fbc41"
            ],
            [
             0.9,
             "#4d9221"
            ],
            [
             1,
             "#276419"
            ]
           ],
           "sequential": [
            [
             0,
             "#0d0887"
            ],
            [
             0.1111111111111111,
             "#46039f"
            ],
            [
             0.2222222222222222,
             "#7201a8"
            ],
            [
             0.3333333333333333,
             "#9c179e"
            ],
            [
             0.4444444444444444,
             "#bd3786"
            ],
            [
             0.5555555555555556,
             "#d8576b"
            ],
            [
             0.6666666666666666,
             "#ed7953"
            ],
            [
             0.7777777777777778,
             "#fb9f3a"
            ],
            [
             0.8888888888888888,
             "#fdca26"
            ],
            [
             1,
             "#f0f921"
            ]
           ],
           "sequentialminus": [
            [
             0,
             "#0d0887"
            ],
            [
             0.1111111111111111,
             "#46039f"
            ],
            [
             0.2222222222222222,
             "#7201a8"
            ],
            [
             0.3333333333333333,
             "#9c179e"
            ],
            [
             0.4444444444444444,
             "#bd3786"
            ],
            [
             0.5555555555555556,
             "#d8576b"
            ],
            [
             0.6666666666666666,
             "#ed7953"
            ],
            [
             0.7777777777777778,
             "#fb9f3a"
            ],
            [
             0.8888888888888888,
             "#fdca26"
            ],
            [
             1,
             "#f0f921"
            ]
           ]
          },
          "colorway": [
           "#636efa",
           "#EF553B",
           "#00cc96",
           "#ab63fa",
           "#FFA15A",
           "#19d3f3",
           "#FF6692",
           "#B6E880",
           "#FF97FF",
           "#FECB52"
          ],
          "font": {
           "color": "#2a3f5f"
          },
          "geo": {
           "bgcolor": "white",
           "lakecolor": "white",
           "landcolor": "#E5ECF6",
           "showlakes": true,
           "showland": true,
           "subunitcolor": "white"
          },
          "hoverlabel": {
           "align": "left"
          },
          "hovermode": "closest",
          "mapbox": {
           "style": "light"
          },
          "paper_bgcolor": "white",
          "plot_bgcolor": "#E5ECF6",
          "polar": {
           "angularaxis": {
            "gridcolor": "white",
            "linecolor": "white",
            "ticks": ""
           },
           "bgcolor": "#E5ECF6",
           "radialaxis": {
            "gridcolor": "white",
            "linecolor": "white",
            "ticks": ""
           }
          },
          "scene": {
           "xaxis": {
            "backgroundcolor": "#E5ECF6",
            "gridcolor": "white",
            "gridwidth": 2,
            "linecolor": "white",
            "showbackground": true,
            "ticks": "",
            "zerolinecolor": "white"
           },
           "yaxis": {
            "backgroundcolor": "#E5ECF6",
            "gridcolor": "white",
            "gridwidth": 2,
            "linecolor": "white",
            "showbackground": true,
            "ticks": "",
            "zerolinecolor": "white"
           },
           "zaxis": {
            "backgroundcolor": "#E5ECF6",
            "gridcolor": "white",
            "gridwidth": 2,
            "linecolor": "white",
            "showbackground": true,
            "ticks": "",
            "zerolinecolor": "white"
           }
          },
          "shapedefaults": {
           "line": {
            "color": "#2a3f5f"
           }
          },
          "ternary": {
           "aaxis": {
            "gridcolor": "white",
            "linecolor": "white",
            "ticks": ""
           },
           "baxis": {
            "gridcolor": "white",
            "linecolor": "white",
            "ticks": ""
           },
           "bgcolor": "#E5ECF6",
           "caxis": {
            "gridcolor": "white",
            "linecolor": "white",
            "ticks": ""
           }
          },
          "title": {
           "x": 0.05
          },
          "xaxis": {
           "automargin": true,
           "gridcolor": "white",
           "linecolor": "white",
           "ticks": "",
           "title": {
            "standoff": 15
           },
           "zerolinecolor": "white",
           "zerolinewidth": 2
          },
          "yaxis": {
           "automargin": true,
           "gridcolor": "white",
           "linecolor": "white",
           "ticks": "",
           "title": {
            "standoff": 15
           },
           "zerolinecolor": "white",
           "zerolinewidth": 2
          }
         }
        },
        "xaxis": {
         "anchor": "y",
         "autorange": true,
         "constrain": "domain",
         "domain": [
          0.3668280871670702,
          0.6331719128329298
         ],
         "range": [
          -0.5,
          31.5
         ],
         "scaleanchor": "y",
         "side": "top"
        },
        "yaxis": {
         "anchor": "x",
         "autorange": true,
         "constrain": "domain",
         "domain": [
          0,
          1
         ],
         "range": [
          31.5,
          -0.5
         ]
        }
       }
      },
      "image/png": "[encoded data removed]",
      "text/html": [
       "<div>                            <div id=\"24ad86b9-b32d-45ac-9d6f-2c8a85dca11a\" class=\"plotly-graph-div\" style=\"height:525px; width:100%;\"></div>            <script type=\"text/javascript\">                require([\"plotly\"], function(Plotly) {                    window.PLOTLYENV=window.PLOTLYENV || {};                                    if (document.getElementById(\"24ad86b9-b32d-45ac-9d6f-2c8a85dca11a\")) {                    Plotly.newPlot(                        \"24ad86b9-b32d-45ac-9d6f-2c8a85dca11a\",                        [{\"coloraxis\":\"coloraxis\",\"name\":\"0\",\"z\":[[0.07270052619011791,0.04953739505232055,0.038938857427472245,0.00778063099984077,-0.004815383198215487,0.020218536316635886,-0.006449725324852504,-0.001107727114562809,0.021485630296440697,0.009100555050508437,-0.015762429789892805,-0.01814480008902539,0.008888109533627585,-0.016910253816127544,-0.01416642719373111,-0.00889734032724125,0.003337750350695847,0.00441034468648478,-0.009398170414706948,0.009306061544309241,-0.0011870628520151529,0.012774965749940666,0.01305027038733634,0.04433961764285166,0.03502573022364106,0.02661454389939332,0.022914161814094634,0.013620194817007264,0.014318365331012174,0.035493227558998926,0.06152000410117008,0.0737065487933956],[0.05441203109073038,0.018242940680058384,0.013496396325869173,0.003585965649767528,0.00881445654788452,0.016035890099464083,-0.005966670650928635,0.0017582387905106652,-0.022509769494971868,-0.008492833081550119,-0.02089816533051586,-0.023707263794480512,0.0045586036451801815,-0.005796854202667329,0.01582543786852282,-0.008132857095956497,-0.020962975689771547,0.001322174034208502,0.007324140400901699,0.008373233739342414,-0.0038821098440261657,0.009450309608612947,0.0025984403926672455,0.02044287082173304,0.009831911635584174,0.010357737315422486,0.00016572654783733598,-0.029057524414941648,-0.03088283938222402,-0.0023010392246127754,0.022805386493761206,0.018233349922878058],[0.03700055522779851,-0.007997926966202969,-0.00018099146465937015,0.0009080245705710907,0.009940045595188818,0.010453145933627308,7.980197206367782e-05,0.0023471231126000105,-0.03013159275034591,-0.025599743146901673,-0.0026707818092000122,0.012816985279508076,0.02031840399006151,0.004778943525168303,0.02003528770572233,-0.024047925436473227,-0.03514830742128895,-0.034756000926997155,-0.001433304340728075,0.011381012838567002,0.006823489579333026,-0.01043127482138544,-0.0010109973931305856,0.032508650733064304,0.015288328746191474,0.011454446479719289,-0.012316857147328681,-0.011950032423074866,-0.0016907178524589459,0.0023226561062734945,0.022784335896710854,0.0007158084108403043],[0.0159892567987914,-0.021346486000940336,-0.0069947443192351026,0.007063990784867868,-0.025559949859176832,-0.03421157386943967,-0.017896283357762235,-0.008967757262949499,0.0038195487856178623,0.003324902927932347,0.018789738215333307,0.007350511905073458,-0.012770581948826866,-0.005728458854302785,0.018987211028937502,-0.00847275761897829,-0.01561382539724481,-0.04816820007376107,-0.01629637675223057,-0.024370145195512866,-0.01908512810273294,-0.020638111472501146,-0.005456399066740932,0.011155455623283097,0.03326343479340646,0.020841952661092372,0.00024344944913480418,0.023252258864212498,0.00510160546648533,-0.019262856338215655,0.011052550774259248,0.011941370587949713],[0.001264354465237256,-0.003035535485788319,0.006602861750955244,0.015326516015136554,-0.01871494220363657,-0.008321537284456053,-0.005148134503446632,-0.015468169340925578,-0.0006594102872235711,0.004403372561946764,0.01088668411616965,0.018466479282115235,0.013437402439020866,0.00743404316819259,0.02445000742134452,0.022382503812695485,0.0040833144299801,-0.008684261619633786,0.018886562999198962,0.014134095367403059,0.00844604197995814,-0.019568281030088334,-0.025583170348527574,-0.041430857682325295,-0.004652070892998851,-0.005512818184979298,-0.0078210916242801,-0.0013925061907020852,-0.011457515192800367,-0.021285878347474037,-0.0002889945288865373,0.016610908305118185],[0.01663541425371075,0.01403432046262601,0.007417869596632128,0.012791691048500468,0.0007638452600706341,0.005292915577758266,-0.008588744559818368,-0.02415966653930951,-0.03867783649820551,-0.02842578688479224,0.007847307497385592,0.030141038551358718,0.0027443627085496705,-0.0023381110208492463,0.015230394595140856,0.0022793494058157195,-0.002234745330010916,-0.007379907769549743,0.013033200469699139,0.022564964415792036,0.024480263227161972,-0.005580248267678213,-0.012489466315108605,0.0002356957627736543,-0.006764372966983361,-0.004369968790692595,0.0017804384982623587,-0.008634890572284318,-0.0012697227619429341,0.0017566318627108032,0.0019450739712283266,0.0027261884421201435],[0.038195154022259516,0.003250201145187424,-0.017154068965932374,-0.011126862867108556,-0.00018141963561892202,-0.0019729496089018923,-0.010061138796543443,-0.009025481428975062,-0.009898624611841463,-0.01296699135731048,0.01831318420271707,0.004425467703445149,-0.03983531381190984,-0.004422093054007569,0.016397914741381903,0.005170331246436423,0.01703279506529734,-0.003224777832550695,-0.02355370227548255,-0.013030767043273182,0.004970006127372138,-0.0022343782727730845,-0.030009964049216083,-0.006401576322866025,0.015088076752669294,0.012576464152839275,0.003773476523153417,-0.01378912383431722,-0.0006225148277225218,0.006282718022492327,-0.0031943496341881768,-0.0009527865812297399],[0.047910689552723346,0.017212816197787244,-0.010927079038643706,-0.021384448531400896,-0.004780803838924389,-0.006152541773306876,-0.00828264214773154,0.022405128376683778,0.03059822916601462,0.022535459828656255,0.05555448478125974,0.0304732097932969,-0.03408751097984384,-0.004112400654000051,0.019523691760612003,-0.0026211281538171542,0.0020971311774268192,-0.0072930066097842495,-0.015158163644675022,-0.004017472939842831,0.0018316833695807846,0.005238739738870067,0.0002866158874739004,0.006236404760457696,-0.015257683589786956,-0.008564944180325489,-0.004208650612579027,-0.007963615393047244,-0.004496364445815553,0.01845146980064461,-0.013512544783628,0.001123494669153072],[-0.005715664756883145,-0.02582560965162641,-0.02755687716333842,-0.03744101166175442,-0.04372120501501997,-0.001106193260488265,-0.02187556264228666,0.027179041255975922,-0.006724516049726667,-0.00556214252286958,-0.007778832161148604,-0.0018514654895641256,-0.02221195381673134,0.02257327090236327,0.027732409618132135,0.004309299492640591,-0.021678471454758846,0.01344730718856108,0.004737587785543664,-0.02176284854766157,-0.022355062305209228,-0.014037656595151457,0.004704774770013427,0.03317791225678868,-0.01590817112849306,0.003743086881507505,-0.040534259837837615,0.0062238225392968645,0.004376913990657645,-0.008422999797618947,-0.002282114429544989,-0.01625576517722108],[0.011566324638395839,0.01726750135925195,-0.004607536608212991,-0.022478848399381867,0.006123537235577901,0.03029209993722662,-0.013771941543670282,-0.016474843151009572,-0.03401027422809952,-0.002671505907746231,0.014502530360247227,0.028316079108402965,0.0038740293680561296,-0.0006978516930343987,0.009921247961071465,-0.015354886679910966,0.005191089419158053,0.03137991087926838,-0.022567345064586287,0.00553862914076384,0.005947912702323378,-0.014997300978265075,-0.018158199078956137,-0.019522476984331193,-0.01398214545872018,0.017630417523709252,0.016446602209267146,0.024693050617057562,-0.018053686120762,0.003668549992487681,0.03208223961391425,-0.0012086073917815143],[-0.006229063530414508,0.007873139409326137,0.009163734716166218,0.012342931640656004,0.036304742325270145,0.020000792346328733,0.017433758204472415,0.0002655444659318603,-0.023022559366868173,-0.01522125463259923,-0.005750769058963764,0.0043301133903863795,-0.019600795130561656,-0.015760371639147647,0.016503407262208794,0.0003330888890805007,0.03148304451542601,0.024204017907096483,-0.008639265836668929,0.04963780808806272,0.036478779400755314,-0.00757933988338485,0.015255808031531414,0.01213359009983958,-0.022383737788917665,0.005873058253644706,0.009736013037133647,0.032075016427938086,-0.018202959277631506,-0.0016236865636100424,0.024237697548957333,0.005636655119324447],[0.017029183137647636,0.005244590970385414,0.01611620966671974,0.0147849683404409,0.021017952368877015,0.0004461330487071369,0.022771347303948572,-0.002483020290871962,-0.004705796323893706,0.010363278650882013,-0.012158949496233968,0.011311880373674659,0.0043172781676324235,0.0030935410060786146,0.00484803309506796,-0.005191345367182937,-0.025027332898141165,-0.005170738166972062,-0.009636288670055957,0.025996224736029402,0.006182830484638835,-0.006306543265422783,0.03362022451887221,0.026625168630117803,-0.02206139391707081,-0.0257134890395911,-0.033729674398593784,-0.008303123172739447,-0.010469114287561677,-0.007531166767832092,-0.025309999724383248,-0.0010917853263832295],[0.03749697456540314,0.0048155702599959995,0.012902562969681862,-0.02313794183942527,-0.03336948571303839,-0.021745875366735643,-0.0002221957658058226,-0.01810045632705209,-0.011013996312555714,0.011894118393261603,0.014039197597980875,0.018935901772717135,0.019941720881567676,0.03080758943249787,0.008965723142856832,-0.018631569530469273,-0.019137150316489344,0.0067366521034721225,-0.0077263908206780495,-0.020147604176202392,-0.012114200602534297,-0.005940184191300097,0.013747919226551301,0.029507456326787376,0.017699791030473748,0.007372657747946473,0.0029956560510191045,0.01774021527250049,0.0180898859240614,-0.002558992279230998,-0.047064606234829325,0.009123230302355635],[0.004016397347217585,-0.024503182261512012,0.0041037961061134685,-0.011464619001270762,-0.008872528012877991,0.03233775244891146,0.0022865932437605655,-0.017362469039293723,-0.006234353318669684,0.008783623162223527,-0.007582565167827474,-0.0008878226478730294,-0.007601774544209796,0.01006513000267424,0.0027438375027955065,-0.00244717607219671,-0.011627967715730068,0.01547059305573776,-0.006853179440815523,-0.04331148139958694,0.012897152976164202,-0.021723423188605637,-0.031013491650382294,-0.01408605716513257,0.025161136635691018,0.017134486240791166,0.0053803859592703,0.015681167936061793,0.008771868221991774,0.011887594222967594,-0.010180997179327972,0.0027679765303781243],[-0.02587370488740037,-0.044332610116808016,0.010439890140179403,-0.013964447338567469,-0.027643657136413532,0.012769783082823973,0.0006541420514033164,0.02229426229156851,-0.010191411905727699,0.015788298545305487,0.0059336609920094,0.017900163079003134,0.004954521348360321,0.02170196577000867,-0.018654101447417554,0.009251316744136841,0.00940638131074126,-0.03231247003439766,-0.01672686129687398,0.005974647153418122,0.03525515088849164,0.017455772868287183,0.009484000662057348,-0.017000861405892635,0.0014509623123490252,-0.033831105176207486,-0.031564882877217,-0.01034084205980279,-0.005386814496222062,-0.004503265690001311,0.00349971772107385,-0.011550266985905663],[-0.02610323425519602,-0.04155885919514033,0.009479913360796883,-0.005000483032814717,-0.014477848103035913,0.021885574830781643,-0.014303008420495417,0.019573732353000063,-0.0018230698041867936,0.03600391497798797,-0.003946580361901736,-0.01534583618771556,0.013563772624250302,0.0394870431663637,-0.028662127720831116,-0.009534595233615537,0.024825696626768985,0.0028656287749162634,0.03483813563750457,0.04525992469742851,-0.014546271095191363,0.0108759189255715,0.018545409049061864,0.013303416617864904,0.014962364057686906,-0.020360518337620002,-0.016072369093216618,-0.007962941880620805,-0.000964936508484799,-0.002516558657738595,0.016416818217821504,-0.006618900797339837],[0.00988244520957513,0.002078475922093268,-0.005446129363379832,0.010923565011459468,-0.010850192384509544,0.012996895969372507,-0.010268826767199035,-0.007251772867300841,-0.02289664313726702,0.021647550057795575,-0.02546394692189474,-0.006134003901586213,-0.02019601965718066,0.01007997450818756,-0.0003231647228069095,-0.007901004854585471,0.03026548707296913,0.017557763425535944,0.013630919934896814,-0.0006658721272488179,-0.003739244792121359,-0.030870205114103814,-0.02284352450629962,0.037625444418017115,0.048874354034346056,0.01695147210463749,0.0012718254893989448,0.016446382690727505,0.0008937673153482212,-0.022340451373367213,-0.018900499562596724,0.003909233181520446],[0.019446264786899446,-0.02560786355218706,-0.0029031061207706495,0.017584204630937163,-0.005111660678946354,-0.005302838417078419,0.008153340741614036,0.04543488714872392,-0.021203873559669073,-0.005976249495893794,-0.01581417530207361,0.0005278451790405515,-0.002469533322693088,0.012598045936437357,0.009934198843010318,0.00811311704217784,-0.02079454109011819,-0.008387792078792018,-0.012034890004215976,0.012999882802164941,0.023902759322028712,0.010702040061367204,0.007900385253422378,0.015028357296693148,-0.008013063767521198,-0.005617445953970256,-0.014474344328156568,-0.009573404703593035,-0.009226793288283788,0.003054840522628278,0.008315882403043047,-0.006733360029399595],[0.03306994871249615,-0.01872290494021104,0.005328330226657163,0.013102270599998174,-0.022889840821400276,-0.03943835562371483,-0.005529333451984477,0.032517825224219296,-0.01702627833275091,0.013181134316585442,-0.003245468256466219,0.025441810537375112,0.02328804669397941,0.004916690484942079,0.0009241181574949344,-0.006097660435318571,-0.03262432640179308,-0.0009801495202485337,-0.007594902766869251,-0.01377151178048125,-0.004618898041458825,0.008625939321623135,0.016625758876255274,0.0235829549288259,-0.020214006439324833,0.005030881920541857,0.017627304611146113,-0.023822048225565974,-0.03863236196801624,-0.009555859275726521,-0.0035361495569607247,0.013460204175242034],[0.055502094734732124,-0.010109223093070961,-0.029505998638597528,0.0031533023836327156,0.007832559956175659,-0.0116239725355328,-0.0018985445368336728,-0.008590229196099836,0.011004860937309471,0.040662575756755984,0.008426548817643384,0.011828851786455782,-0.0005943188754837063,0.004298328769186779,0.021241240672477204,0.028834000578436974,-0.01236051260082156,-0.002099174829564098,-0.004731101943035346,0.008279123790168822,0.007922743769957837,-0.0012002187184628082,-0.005070045674158916,-0.0031697736013898995,0.00882808253831716,0.010898626948176282,0.024249305929132027,0.008713955248146707,-0.01571520350022192,-0.013382972471254643,-0.019417970303139152,0.005156032918076236],[0.004173181155138343,-0.03888153510914412,-0.016131406499556182,-0.01148921230810741,0.0064591849547205,0.017920795723122773,0.02573051074763567,0.01087179356171828,-0.010653405612082658,0.0046743320509944975,-0.024092584545338226,-0.008155769287292437,0.00011282862475389677,0.007921623211193192,-0.00781396621478191,-0.003635892459774203,0.042574353566168704,0.01890710106195499,-0.016153407373078417,-0.02471021249612011,0.03290745139112841,0.021085575073351424,-0.011419854629558836,-0.019967387912467088,-0.029299228156801062,-0.03264809682404483,-0.021715494445088423,0.008311927428497026,-0.002214586027107306,-0.016848196709664733,-0.0004965591000960128,0.003701477960053389],[0.006761586288737735,-0.04420490573472811,0.00439002623504923,-0.03420087750144413,-0.04601307986338643,-0.027791172728249852,-0.006979375255029303,-0.008610957654932035,0.008173262215864728,0.03681712016645732,0.019861976608532624,0.00666948573345295,-0.004245480137028819,-0.010566445838205206,-0.01742996493268556,0.012715423467259863,0.05404329839515902,0.014112613130152371,-0.0012196206396966978,0.000758757509684029,0.0034097493437702424,-0.01756674489154882,0.013865286379016815,0.02853748102315918,-0.01213462301906373,0.02089625905697683,0.03688731604703782,-0.00879592676588663,-0.03332249362686395,-0.01605250706601104,0.03229115202550466,0.026489267349137154],[0.05261242937722897,-0.03348847145372251,0.007097925334174305,0.017923585617283605,-0.004259605844983246,-0.01976321436500326,-0.013970961583449952,-0.0014254826001412005,-0.01918206348047998,-0.0019572138795755784,0.011213775977086598,-0.003220947195510515,-0.017821590530167592,-0.013029021653066117,-0.024193797805938964,-0.0336059131402453,-0.0226336413068155,-0.009760214028449732,0.020685162635887325,0.023722028125935043,-0.02053057017192978,-0.02841549152146669,0.015518980139215854,0.0024460211197656298,-0.006734635275701695,0.013183671634752064,0.04119689514191463,-0.007095681313685712,-0.027220724461557603,-0.009778652227984989,0.03138096778809785,0.050624020860431884],[0.03090384088123322,-0.026902521868339576,-0.0074032774566125436,0.02221716451682973,0.019230320285991125,0.018655931274875685,0.01360819381280974,0.01986378323377331,-0.011906408565948304,-0.009927290465346319,-0.0023088621827587075,0.00071211375560095,-0.021771613787833176,0.0019214486625213772,0.017688643733196615,0.02960893522766624,-0.023602196412569297,0.04066908170605735,0.04844406347798985,0.01833857758073503,-0.007540709623737794,0.00914136190153394,-0.009563661922283343,-0.015275280747034266,-0.004662222780430846,-0.025410052664936934,-0.005761707863535655,-0.024299346700705052,0.011034062495326466,-0.015889248873757485,-0.018348136362895125,0.0036289509813135106],[0.03477495022962736,-0.019268763816327465,-0.003118479705017916,0.008135469879941935,-7.61545977047385e-05,0.002538007236371637,0.004508496157154512,0.010949621490338988,0.007405828847544707,-0.032191340205572454,-0.026813607193575666,0.027976326206788665,-0.023874362768875085,0.02542012874473424,0.019880859753723865,0.047652808029404914,-0.01781559763561097,-0.020477545263200662,-0.0013423125826163111,-0.0005707306025557043,0.01211396211996516,0.007583381078401126,-0.022351566112104232,0.011355559742073787,0.008182191164426061,-0.00744119209277628,-0.019749625106059987,-0.014474614713350839,-0.019094016503146845,-0.011763327221011022,0.02648510327606783,0.03704155426661025],[0.020247506792192314,-0.029515914431640856,-0.023048853568660037,-0.028645281132283693,-0.0371507548802382,-0.03215223406543015,0.0017474585758497742,0.004716938679839742,-0.00724345659658002,-0.034699639663433465,-0.0020233144967292753,0.04274218546052352,0.01475723636103906,0.016121470802107435,-0.008930954137784795,0.023141665622257595,-0.003159903328487129,-0.01605046426737197,0.0016339401178912685,0.019168396467082648,0.007514537290008011,-0.005169984878962047,-0.023388415567335084,-0.0013188481255233325,0.00865226937047518,-0.004249756038652647,-0.014210423807307396,-0.008034029212060723,-0.010760013190601698,-0.028016389863400833,0.006479287761560525,0.017356186754600558],[0.03569138277988926,-0.01825839321609013,0.007790212707381561,0.01944984250390901,-0.005297324122018228,-0.026648574013469907,-0.0008090818188128826,0.0021070227968891042,-0.007363635445750702,-0.024900888249256396,0.013140967868544651,0.001858249965671972,-0.018302567302753144,-0.024851096860421768,-0.0230505237041974,-0.0030087712552424,0.015685058221286012,0.006642961748298978,-0.013980859779580818,-0.005904238922437045,-0.019941170249290187,-0.009324548267792662,-0.008376991420574336,-0.02547548153348495,0.0011924698684117414,0.02429740334466518,0.008277467268596244,0.016899941742237315,0.026865226562126854,0.005651730566675629,0.019966535424852043,0.006208387609296086],[0.06809586474520853,0.011418034462554414,0.025211781222793977,0.03132715190761097,0.006754898155120632,-0.0013453166926400222,-0.0006408962109566902,-0.021552733344099302,-0.013290753344554887,0.0026067732896846215,0.018277834863504996,0.015406374840311245,0.02778085097213044,-0.011649669976191164,0.0024015104953135505,-0.021578197269578655,-0.018110759881592373,0.027303369689588235,0.017927766864900357,0.00017959517336407034,-0.0035001878435765533,0.017852848434752856,0.024802445368086384,-0.01828891966174316,-0.021987639264224784,0.014561565333798899,-0.010684800890277936,-0.006592895714730524,0.029911162085187883,0.010497252078427633,0.0025843522504874258,-0.025559746974691874],[0.044952477837140035,-0.010105012096345093,-0.005625503160038073,-0.013654554743534282,-0.04307131960603593,-0.016704279362147197,0.02633345642002352,0.022322128179066203,-0.0036188268037303717,0.00781855623949914,0.008458589074103547,0.010129118612683768,0.007121572983308634,-0.04260565140489487,-0.024270081768734693,-0.024088505544657017,-0.03783230302570201,-0.0037749755146025852,0.004298225381175326,-0.013549533301212715,0.0013350611579318568,0.0016489025013598614,-0.00013389309611414046,-0.019366194421072368,-0.016579988855185145,-0.01661062859665853,-0.030029245716712408,-0.020783385879694697,-0.002259120774646647,0.004951613351931782,0.0033841521348383597,-0.007398495812394469],[0.035757068459448434,-0.01438408573717389,-0.005094305919072402,0.010000652417185464,-0.01690026421075455,-0.03419276707907784,-0.011802157863989568,0.012174858647769612,-0.01063567790791524,0.003831347611977136,-7.368936421192889e-05,0.013044198951653548,-0.007864823770316632,-0.031417667801060575,-0.026335357095953332,-0.011102693661668689,0.01308336099379434,-0.013939917579015557,-0.02421456930255375,-0.027464707338512594,-0.02312228079332078,-0.016991610364730243,-0.021314952338913423,-0.01992813555307641,0.029402465240153025,-0.005268351777283213,-0.0348523874684453,-0.017418362463172125,-0.022837856516688806,-0.01095710211830205,0.01936581246616199,0.023711997607105857],[0.09514494187134506,0.03440283147670594,0.01871617800479635,0.013243354979041602,-0.008858443020446324,-0.03550660913900265,-0.030454707128645342,-0.0057544188333186865,-0.012350619317755267,0.002180577605391818,-0.006715758798029417,0.009227641314485798,-0.0049251877350426935,-0.0013596568421834487,-0.017955148625903777,-0.0313645550736638,-0.001221757532194108,0.005634669084914167,-0.013752670491968318,0.0015330552527480523,-0.004912769905430745,0.008657256380953717,0.0006178305344591951,-0.006293502053633973,0.0008123789663156849,0.011714558421115132,0.008098393195453558,0.0017577926761424795,-0.010824616395192294,0.022094525516415785,0.06401883728119387,0.06326610627056455],[0.12380211881226576,0.04225627391810963,0.03221623319020978,0.004954044058184804,0.0033618224319308765,0.014542754632471011,0.016412993186228145,0.018010102713510834,-0.00021110640958107519,0.014256880248257855,0.026378227609564174,-0.0007614185643340181,-0.008659424565486278,0.01922078274110561,0.011413315872095969,0.006867076004035375,-0.00024706137021336476,0.011566480218837345,0.006434262938234823,0.02745682123074278,0.00410056488472045,-0.011445016203216314,0.001506625798483813,0.01060202344286962,0.006299927682679358,0.004517681976918766,0.004328520920211708,-0.0021018982045292447,0.0005953909641586855,0.050007973509077944,0.052028762498052154,0.0686147813846067]],\"type\":\"heatmap\",\"xaxis\":\"x\",\"yaxis\":\"y\",\"hovertemplate\":\"x: %{x}<br>y: %{y}<br>color: %{z}<extra></extra>\"}],                        {\"template\":{\"data\":{\"histogram2dcontour\":[{\"type\":\"histogram2dcontour\",\"colorbar\":{\"outlinewidth\":0,\"ticks\":\"\"},\"colorscale\":[[0.0,\"#0d0887\"],[0.1111111111111111,\"#46039f\"],[0.2222222222222222,\"#7201a8\"],[0.3333333333333333,\"#9c179e\"],[0.4444444444444444,\"#bd3786\"],[0.5555555555555556,\"#d8576b\"],[0.6666666666666666,\"#ed7953\"],[0.7777777777777778,\"#fb9f3a\"],[0.8888888888888888,\"#fdca26\"],[1.0,\"#f0f921\"]]}],\"choropleth\":[{\"type\":\"choropleth\",\"colorbar\":{\"outlinewidth\":0,\"ticks\":\"\"}}],\"histogram2d\":[{\"type\":\"histogram2d\",\"colorbar\":{\"outlinewidth\":0,\"ticks\":\"\"},\"colorscale\":[[0.0,\"#0d0887\"],[0.1111111111111111,\"#46039f\"],[0.2222222222222222,\"#7201a8\"],[0.3333333333333333,\"#9c179e\"],[0.4444444444444444,\"#bd3786\"],[0.5555555555555556,\"#d8576b\"],[0.6666666666666666,\"#ed7953\"],[0.7777777777777778,\"#fb9f3a\"],[0.8888888888888888,\"#fdca26\"],[1.0,\"#f0f921\"]]}],\"heatmap\":[{\"type\":\"heatmap\",\"colorbar\":{\"outlinewidth\":0,\"ticks\":\"\"},\"colorscale\":[[0.0,\"#0d0887\"],[0.1111111111111111,\"#46039f\"],[0.2222222222222222,\"#7201a8\"],[0.3333333333333333,\"#9c179e\"],[0.4444444444444444,\"#bd3786\"],[0.5555555555555556,\"#d8576b\"],[0.6666666666666666,\"#ed7953\"],[0.7777777777777778,\"#fb9f3a\"],[0.8888888888888888,\"#fdca26\"],[1.0,\"#f0f921\"]]}],\"heatmapgl\":[{\"type\":\"heatmapgl\",\"colorbar\":{\"outlinewidth\":0,\"ticks\":\"\"},\"colorscale\":[[0.0,\"#0d0887\"],[0.1111111111111111,\"#46039f\"],[0.2222222222222222,\"#7201a8\"],[0.3333333333333333,\"#9c179e\"],[0.4444444444444444,\"#bd3786\"],[0.5555555555555556,\"#d8576b\"],[0.6666666666666666,\"#ed7953\"],[0.7777777777777778,\"#fb9f3a\"],[0.8888888888888888,\"#fdca26\"],[1.0,\"#f0f921\"]]}],\"contourcarpet\":[{\"type\":\"contourcarpet\",\"colorbar\":{\"outlinewidth\":0,\"ticks\":\"\"}}],\"contour\":[{\"type\":\"contour\",\"colorbar\":{\"outlinewidth\":0,\"ticks\":\"\"},\"colorscale\":[[0.0,\"#0d0887\"],[0.1111111111111111,\"#46039f\"],[0.2222222222222222,\"#7201a8\"],[0.3333333333333333,\"#9c179e\"],[0.4444444444444444,\"#bd3786\"],[0.5555555555555556,\"#d8576b\"],[0.6666666666666666,\"#ed7953\"],[0.7777777777777778,\"#fb9f3a\"],[0.8888888888888888,\"#fdca26\"],[1.0,\"#f0f921\"]]}],\"surface\":[{\"type\":\"surface\",\"colorbar\":{\"outlinewidth\":0,\"ticks\":\"\"},\"colorscale\":[[0.0,\"#0d0887\"],[0.1111111111111111,\"#46039f\"],[0.2222222222222222,\"#7201a8\"],[0.3333333333333333,\"#9c179e\"],[0.4444444444444444,\"#bd3786\"],[0.5555555555555556,\"#d8576b\"],[0.6666666666666666,\"#ed7953\"],[0.7777777777777778,\"#fb9f3a\"],[0.8888888888888888,\"#fdca26\"],[1.0,\"#f0f921\"]]}],\"mesh3d\":[{\"type\":\"mesh3d\",\"colorbar\":{\"outlinewidth\":0,\"ticks\":\"\"}}],\"scatter\":[{\"fillpattern\":{\"fillmode\":\"overlay\",\"size\":10,\"solidity\":0.2},\"type\":\"scatter\"}],\"parcoords\":[{\"type\":\"parcoords\",\"line\":{\"colorbar\":{\"outlinewidth\":0,\"ticks\":\"\"}}}],\"scatterpolargl\":[{\"type\":\"scatterpolargl\",\"marker\":{\"colorbar\":{\"outlinewidth\":0,\"ticks\":\"\"}}}],\"bar\":[{\"error_x\":{\"color\":\"#2a3f5f\"},\"error_y\":{\"color\":\"#2a3f5f\"},\"marker\":{\"line\":{\"color\":\"#E5ECF6\",\"width\":0.5},\"pattern\":{\"fillmode\":\"overlay\",\"size\":10,\"solidity\":0.2}},\"type\":\"bar\"}],\"scattergeo\":[{\"type\":\"scattergeo\",\"marker\":{\"colorbar\":{\"outlinewidth\":0,\"ticks\":\"\"}}}],\"scatterpolar\":[{\"type\":\"scatterpolar\",\"marker\":{\"colorbar\":{\"outlinewidth\":0,\"ticks\":\"\"}}}],\"histogram\":[{\"marker\":{\"pattern\":{\"fillmode\":\"overlay\",\"size\":10,\"solidity\":0.2}},\"type\":\"histogram\"}],\"scattergl\":[{\"type\":\"scattergl\",\"marker\":{\"colorbar\":{\"outlinewidth\":0,\"ticks\":\"\"}}}],\"scatter3d\":[{\"type\":\"scatter3d\",\"line\":{\"colorbar\":{\"outlinewidth\":0,\"ticks\":\"\"}},\"marker\":{\"colorbar\":{\"outlinewidth\":0,\"ticks\":\"\"}}}],\"scattermapbox\":[{\"type\":\"scattermapbox\",\"marker\":{\"colorbar\":{\"outlinewidth\":0,\"ticks\":\"\"}}}],\"scatterternary\":[{\"type\":\"scatterternary\",\"marker\":{\"colorbar\":{\"outlinewidth\":0,\"ticks\":\"\"}}}],\"scattercarpet\":[{\"type\":\"scattercarpet\",\"marker\":{\"colorbar\":{\"outlinewidth\":0,\"ticks\":\"\"}}}],\"carpet\":[{\"aaxis\":{\"endlinecolor\":\"#2a3f5f\",\"gridcolor\":\"white\",\"linecolor\":\"white\",\"minorgridcolor\":\"white\",\"startlinecolor\":\"#2a3f5f\"},\"baxis\":{\"endlinecolor\":\"#2a3f5f\",\"gridcolor\":\"white\",\"linecolor\":\"white\",\"minorgridcolor\":\"white\",\"startlinecolor\":\"#2a3f5f\"},\"type\":\"carpet\"}],\"table\":[{\"cells\":{\"fill\":{\"color\":\"#EBF0F8\"},\"line\":{\"color\":\"white\"}},\"header\":{\"fill\":{\"color\":\"#C8D4E3\"},\"line\":{\"color\":\"white\"}},\"type\":\"table\"}],\"barpolar\":[{\"marker\":{\"line\":{\"color\":\"#E5ECF6\",\"width\":0.5},\"pattern\":{\"fillmode\":\"overlay\",\"size\":10,\"solidity\":0.2}},\"type\":\"barpolar\"}],\"pie\":[{\"automargin\":true,\"type\":\"pie\"}]},\"layout\":{\"autotypenumbers\":\"strict\",\"colorway\":[\"#636efa\",\"#EF553B\",\"#00cc96\",\"#ab63fa\",\"#FFA15A\",\"#19d3f3\",\"#FF6692\",\"#B6E880\",\"#FF97FF\",\"#FECB52\"],\"font\":{\"color\":\"#2a3f5f\"},\"hovermode\":\"closest\",\"hoverlabel\":{\"align\":\"left\"},\"paper_bgcolor\":\"white\",\"plot_bgcolor\":\"#E5ECF6\",\"polar\":{\"bgcolor\":\"#E5ECF6\",\"angularaxis\":{\"gridcolor\":\"white\",\"linecolor\":\"white\",\"ticks\":\"\"},\"radialaxis\":{\"gridcolor\":\"white\",\"linecolor\":\"white\",\"ticks\":\"\"}},\"ternary\":{\"bgcolor\":\"#E5ECF6\",\"aaxis\":{\"gridcolor\":\"white\",\"linecolor\":\"white\",\"ticks\":\"\"},\"baxis\":{\"gridcolor\":\"white\",\"linecolor\":\"white\",\"ticks\":\"\"},\"caxis\":{\"gridcolor\":\"white\",\"linecolor\":\"white\",\"ticks\":\"\"}},\"coloraxis\":{\"colorbar\":{\"outlinewidth\":0,\"ticks\":\"\"}},\"colorscale\":{\"sequential\":[[0.0,\"#0d0887\"],[0.1111111111111111,\"#46039f\"],[0.2222222222222222,\"#7201a8\"],[0.3333333333333333,\"#9c179e\"],[0.4444444444444444,\"#bd3786\"],[0.5555555555555556,\"#d8576b\"],[0.6666666666666666,\"#ed7953\"],[0.7777777777777778,\"#fb9f3a\"],[0.8888888888888888,\"#fdca26\"],[1.0,\"#f0f921\"]],\"sequentialminus\":[[0.0,\"#0d0887\"],[0.1111111111111111,\"#46039f\"],[0.2222222222222222,\"#7201a8\"],[0.3333333333333333,\"#9c179e\"],[0.4444444444444444,\"#bd3786\"],[0.5555555555555556,\"#d8576b\"],[0.6666666666666666,\"#ed7953\"],[0.7777777777777778,\"#fb9f3a\"],[0.8888888888888888,\"#fdca26\"],[1.0,\"#f0f921\"]],\"diverging\":[[0,\"#8e0152\"],[0.1,\"#c51b7d\"],[0.2,\"#de77ae\"],[0.3,\"#f1b6da\"],[0.4,\"#fde0ef\"],[0.5,\"#f7f7f7\"],[0.6,\"#e6f5d0\"],[0.7,\"#b8e186\"],[0.8,\"#7fbc41\"],[0.9,\"#4d9221\"],[1,\"#276419\"]]},\"xaxis\":{\"gridcolor\":\"white\",\"linecolor\":\"white\",\"ticks\":\"\",\"title\":{\"standoff\":15},\"zerolinecolor\":\"white\",\"automargin\":true,\"zerolinewidth\":2},\"yaxis\":{\"gridcolor\":\"white\",\"linecolor\":\"white\",\"ticks\":\"\",\"title\":{\"standoff\":15},\"zerolinecolor\":\"white\",\"automargin\":true,\"zerolinewidth\":2},\"scene\":{\"xaxis\":{\"backgroundcolor\":\"#E5ECF6\",\"gridcolor\":\"white\",\"linecolor\":\"white\",\"showbackground\":true,\"ticks\":\"\",\"zerolinecolor\":\"white\",\"gridwidth\":2},\"yaxis\":{\"backgroundcolor\":\"#E5ECF6\",\"gridcolor\":\"white\",\"linecolor\":\"white\",\"showbackground\":true,\"ticks\":\"\",\"zerolinecolor\":\"white\",\"gridwidth\":2},\"zaxis\":{\"backgroundcolor\":\"#E5ECF6\",\"gridcolor\":\"white\",\"linecolor\":\"white\",\"showbackground\":true,\"ticks\":\"\",\"zerolinecolor\":\"white\",\"gridwidth\":2}},\"shapedefaults\":{\"line\":{\"color\":\"#2a3f5f\"}},\"annotationdefaults\":{\"arrowcolor\":\"#2a3f5f\",\"arrowhead\":0,\"arrowwidth\":1},\"geo\":{\"bgcolor\":\"white\",\"landcolor\":\"#E5ECF6\",\"subunitcolor\":\"white\",\"showland\":true,\"showlakes\":true,\"lakecolor\":\"white\"},\"title\":{\"x\":0.05},\"mapbox\":{\"style\":\"light\"}}},\"xaxis\":{\"anchor\":\"y\",\"domain\":[0.0,1.0],\"scaleanchor\":\"y\",\"constrain\":\"domain\",\"side\":\"top\"},\"yaxis\":{\"anchor\":\"x\",\"domain\":[0.0,1.0],\"autorange\":\"reversed\",\"constrain\":\"domain\"},\"coloraxis\":{\"colorscale\":[[0.0,\"#0d0887\"],[0.1111111111111111,\"#46039f\"],[0.2222222222222222,\"#7201a8\"],[0.3333333333333333,\"#9c179e\"],[0.4444444444444444,\"#bd3786\"],[0.5555555555555556,\"#d8576b\"],[0.6666666666666666,\"#ed7953\"],[0.7777777777777778,\"#fb9f3a\"],[0.8888888888888888,\"#fdca26\"],[1.0,\"#f0f921\"]]},\"margin\":{\"t\":60}},                        {\"responsive\": true}                    ).then(function(){\n",
       "                            \n",
       "var gd = document.getElementById('24ad86b9-b32d-45ac-9d6f-2c8a85dca11a');\n",
       "var x = new MutationObserver(function (mutations, observer) {{\n",
       "        var display = window.getComputedStyle(gd).display;\n",
       "        if (!display || display === 'none') {{\n",
       "            console.log([gd, 'removed!']);\n",
       "            Plotly.purge(gd);\n",
       "            observer.disconnect();\n",
       "        }}\n",
       "}});\n",
       "\n",
       "// Listen for the removal of the full notebook cells\n",
       "var notebookContainer = gd.closest('#notebook-container');\n",
       "if (notebookContainer) {{\n",
       "    x.observe(notebookContainer, {childList: true});\n",
       "}}\n",
       "\n",
       "// Listen for the clearing of the current output cell\n",
       "var outputEl = gd.closest('.output');\n",
       "if (outputEl) {{\n",
       "    x.observe(outputEl, {childList: true});\n",
       "}}\n",
       "\n",
       "                        })                };                });            </script>        </div>"
      ]
     },
     "metadata": {},
     "output_type": "display_data"
    }
   ],
   "source": [
    "resultsl2 = []\n",
    "resultsl2 = resultsl2_r + resultsl2_g + resultsl2_b\n",
    "\n",
    "fig = px.imshow(resultsl2)\n",
    "fig.update_xaxes(side=\"top\")\n",
    "fig.show()"
   ]
  },
  {
   "cell_type": "code",
   "execution_count": 256,
   "id": "dd5dd916-f477-4e95-932f-6ccd9b6a20ee",
   "metadata": {},
   "outputs": [],
   "source": [
    "resultsl1_r = []\n",
    "resultsl1_g = []\n",
    "resultsl1_b = []\n",
    "\n",
    "\n",
    "for rgb in range(3):\n",
    "        for i in range(32):\n",
    "            for j in range(32):\n",
    "                if rgb == 0:\n",
    "                    resultsl1_r.append(resultsl1[i,j,rgb])\n",
    "                if rgb == 1:\n",
    "                    resultsl1_g.append(resultsl1[i,j,rgb])\n",
    "                if rgb == 2:\n",
    "                    resultsl1_b.append(resultsl1[i,j,rgb])"
   ]
  },
  {
   "cell_type": "code",
   "execution_count": 257,
   "id": "b70d46c3-b93e-4957-a428-bcc225039f55",
   "metadata": {},
   "outputs": [
    {
     "data": {
      "application/vnd.plotly.v1+json": {
       "config": {
        "plotlyServerURL": "https://plot.ly"
       },
       "data": [
        {
         "coloraxis": "coloraxis",
         "hovertemplate": "x: %{x}<br>y: %{y}<br>color: %{z}<extra></extra>",
         "name": "0",
         "type": "heatmap",
         "xaxis": "x",
         "yaxis": "y",
         "z": [
          [
           0.2092348078198635,
           0.0043702789773958665,
           0.0494425345768446,
           0,
           0,
           0,
           0,
           0,
           0,
           0,
           0,
           0,
           0,
           0,
           0,
           0,
           0,
           0,
           0,
           0,
           0,
           0,
           0,
           0.13239370682858687,
           0.014435237320552656,
           0,
           0,
           0,
           0,
           0,
           0,
           0.09707821774680629
          ],
          [
           0.06382492800415385,
           0,
           0,
           0,
           0,
           0,
           0,
           0,
           0,
           0,
           0,
           0,
           0,
           0,
           0.020129773674912074,
           0,
           0,
           0,
           0,
           0,
           0,
           0,
           0,
           0,
           0,
           0,
           0,
           0,
           -0.04154401580881947,
           0,
           0,
           0
          ],
          [
           0.026319617040353648,
           0,
           0,
           0,
           0,
           0,
           0,
           0,
           0,
           0,
           0,
           0,
           0,
           0,
           0.010708689701965167,
           0,
           0,
           0,
           0,
           0,
           0,
           0,
           0,
           0.04919132331290803,
           0,
           0,
           0,
           0,
           0,
           0,
           0,
           0
          ],
          [
           0,
           0,
           0,
           0,
           0,
           0,
           0,
           0,
           0,
           0,
           0,
           0,
           0,
           0,
           0,
           0,
           0,
           0,
           0,
           0,
           0,
           0,
           0,
           0,
           0.002426299785383965,
           0,
           0,
           0,
           0,
           0,
           0,
           0
          ],
          [
           0,
           0,
           0,
           0,
           0,
           0,
           0,
           0,
           0,
           0,
           0,
           0,
           0,
           0,
           0,
           0,
           0,
           0,
           0,
           0,
           0,
           0,
           0,
           0,
           0,
           0,
           0,
           0,
           0,
           -0.011118398737542877,
           0,
           0
          ],
          [
           0,
           0,
           0,
           0,
           0,
           0,
           0,
           -0.035882986587876246,
           -0.07343410246245656,
           0,
           0,
           0,
           0,
           0,
           0,
           0,
           0,
           0,
           0,
           0,
           0,
           0,
           0,
           0,
           0,
           0,
           0,
           0,
           0,
           0,
           0,
           0
          ],
          [
           0.02884754975892763,
           0,
           0,
           0,
           0,
           0,
           0,
           0,
           0,
           0,
           0,
           0,
           0,
           0,
           0,
           0,
           0.01606043769138233,
           0,
           0,
           0,
           0,
           0,
           0,
           0,
           0,
           0,
           0,
           0,
           0,
           0,
           0,
           0
          ],
          [
           0,
           0,
           0,
           0,
           0,
           0,
           0,
           0,
           0.012862493921764848,
           0,
           0.10151591639505321,
           0,
           0,
           0,
           0.004925768149769789,
           0,
           0,
           0,
           0,
           0,
           0,
           0,
           0,
           0,
           0,
           0,
           0,
           0,
           0,
           0,
           -0.021769156093139203,
           0
          ],
          [
           0,
           0,
           0,
           -0.04079749867335308,
           0,
           0,
           0,
           0,
           0,
           0,
           0,
           0,
           0,
           0,
           0.0399867305588604,
           0,
           0,
           0,
           0,
           0,
           0,
           0,
           0,
           0,
           0,
           0,
           -0.03379609572415465,
           0,
           0,
           0,
           0,
           -0.002090888160147099
          ],
          [
           0,
           0,
           0,
           0,
           0,
           0.0032831997704501157,
           0,
           0,
           0,
           0,
           0,
           0.023896685032424876,
           0,
           0,
           0,
           0,
           0,
           0.019718306432301914,
           0,
           0,
           0,
           0,
           0,
           0,
           0,
           0,
           0,
           0,
           0,
           0,
           0,
           0
          ],
          [
           0,
           0,
           0,
           0,
           0.09592778174757785,
           0,
           0.013223030089893957,
           0,
           0,
           0,
           0,
           0,
           0,
           0,
           0.02658324963690916,
           0,
           0.04859146119824056,
           0.010792752126358718,
           0,
           0.019261833569303798,
           0,
           0,
           0,
           0,
           -0.005601007204791938,
           0,
           0,
           0,
           0,
           0,
           0,
           0
          ],
          [
           0,
           0,
           0,
           0,
           0,
           0,
           0.0203491715687307,
           0,
           0,
           0.012625209225737885,
           0,
           0.0259957469910787,
           0,
           0,
           0,
           0,
           0,
           0,
           0,
           0.006435735343979358,
           0,
           0,
           0.03480117890029129,
           0,
           0,
           0,
           0,
           0,
           0,
           0,
           0,
           0
          ],
          [
           0,
           0,
           0,
           0,
           0,
           0,
           0,
           0,
           0,
           0,
           0.008173971733716081,
           0.030333173929053547,
           0,
           0.06154656443501052,
           0.0035708915437201367,
           0,
           0,
           0,
           0,
           0,
           0,
           0,
           0,
           0.049842630506215964,
           0,
           0,
           0,
           0.015119176279480447,
           0,
           0,
           0,
           0
          ],
          [
           0,
           0,
           0,
           0,
           0,
           0.009515759755238126,
           0,
           0,
           0,
           0,
           0,
           0,
           0,
           0,
           0,
           0,
           0,
           0.04867876350658115,
           0,
           0,
           0.0018008089773643278,
           0,
           0,
           0,
           0.017812851181639958,
           0.029294488489678853,
           0,
           0.029912177461508788,
           0,
           0,
           0,
           0
          ],
          [
           -0.004281033292343461,
           -0.08860400199681541,
           0,
           0,
           0,
           0,
           0,
           0,
           0,
           0,
           0,
           0.009265660251897588,
           0,
           0.00204698889612962,
           0,
           0,
           0.017811222465376142,
           0,
           0,
           0,
           0,
           0,
           0,
           0,
           0,
           0,
           0,
           0,
           0,
           0,
           0,
           0
          ],
          [
           -0.009871540757300018,
           -0.05714708407904564,
           0,
           0,
           0,
           0,
           0,
           0,
           0,
           0,
           0,
           0,
           0,
           0.013356226054027821,
           0,
           0,
           0.029887299758889818,
           0,
           0.05943982547586855,
           0.028603749318359233,
           0,
           0,
           0.002793916554509848,
           0,
           0,
           0,
           0,
           0,
           0,
           0,
           0,
           0
          ],
          [
           0,
           0,
           0,
           0,
           -0.013442258516937198,
           0,
           0,
           0,
           0,
           0,
           0,
           0,
           -0.004423127226919486,
           0,
           0,
           0,
           0,
           0,
           0,
           0,
           0,
           0,
           0,
           0.013326382960892846,
           0.04739015700319597,
           0,
           0,
           0,
           0,
           -0.003054760320203453,
           -0.03382116066245214,
           0
          ],
          [
           0,
           -0.055962440854896024,
           0,
           0,
           0,
           0,
           0,
           0.04679033909976245,
           0,
           0,
           0,
           0,
           0,
           0,
           0,
           0,
           0,
           0,
           0,
           0,
           0,
           0,
           0,
           0,
           0,
           0,
           0,
           0,
           0,
           0,
           0,
           -0.0446669546330541
          ],
          [
           0,
           0,
           0,
           0,
           -0.0019590361485695303,
           -0.04410828356126636,
           0,
           0.013364311659554188,
           0,
           0,
           0,
           0.00619729805256724,
           0,
           0,
           0,
           0,
           -0.06060095610150797,
           0,
           0,
           0,
           0,
           0,
           0,
           0,
           0,
           0,
           0,
           0,
           -0.0815076413831385,
           0,
           0,
           0
          ],
          [
           0,
           0,
           -0.02857893509831521,
           0,
           0,
           0,
           0,
           0,
           0,
           0.059491692899186294,
           0,
           0,
           0,
           0,
           0,
           0,
           0,
           0,
           0,
           0,
           0,
           0,
           0,
           0,
           0,
           0,
           0,
           0,
           0,
           0,
           -0.0663346160472524,
           -0.02331637097961945
          ],
          [
           0,
           -0.05559617343732084,
           0,
           0,
           0,
           0,
           0.005663521283774144,
           0,
           0,
           0,
           0,
           0,
           0,
           0,
           0,
           0,
           0,
           0,
           0,
           0,
           0,
           0,
           0,
           0,
           0,
           0,
           0,
           0,
           0,
           -0.009668577559736118,
           0,
           0
          ],
          [
           0,
           -0.07241504910267593,
           0,
           0,
           0,
           0,
           0,
           0,
           0,
           0.05318925055287832,
           0,
           0,
           0,
           0,
           0,
           0,
           0.07483098970618872,
           0,
           0,
           0,
           0,
           0,
           0,
           0.017892488130041885,
           0,
           0.005269172279435777,
           0,
           0,
           -0.06972945643823895,
           0,
           0,
           0
          ],
          [
           0,
           -0.03231599005349524,
           0,
           0,
           0,
           0,
           0,
           0,
           0,
           0,
           0,
           0,
           0,
           0,
           0,
           0,
           0,
           0,
           0,
           0.019948812604281198,
           0,
           0,
           0.02774832224918869,
           0,
           0,
           0,
           0.039984620381779266,
           0,
           -0.013010824936766476,
           0,
           0,
           0
          ],
          [
           0,
           0,
           0,
           0,
           0.02070358004784821,
           0,
           0,
           0.015160451346298582,
           0,
           0,
           0,
           0,
           0,
           0,
           0,
           0.005274160659584832,
           0,
           0.027596131771457505,
           0.07942973837663676,
           0,
           0,
           0,
           0,
           0,
           0,
           0,
           0,
           0,
           0,
           0,
           -0.04385346253092454,
           -0.01961524494630896
          ],
          [
           0,
           0,
           0,
           0,
           0,
           0,
           0,
           0,
           0,
           0,
           0,
           0,
           0,
           0.006174325496778604,
           0,
           0.10822024586468935,
           0,
           0,
           0,
           0,
           0,
           0,
           0,
           0,
           0,
           0,
           0,
           -0.015982099232644792,
           -0.014597862312008306,
           0,
           0,
           0
          ],
          [
           0,
           0,
           -0.013874018513640066,
           0,
           -0.07329453261493798,
           0,
           0,
           0,
           0,
           -0.030924473800404376,
           0,
           0,
           0,
           0,
           0,
           0,
           0,
           0,
           0,
           0,
           0,
           0,
           -0.014108529452043992,
           0,
           0,
           0,
           -0.0020186870826966363,
           0,
           0,
           -0.03819299440563554,
           0,
           0
          ],
          [
           0,
           0,
           0,
           0,
           0,
           0,
           0,
           0,
           0,
           0,
           0,
           0,
           0,
           0,
           0,
           0,
           0,
           0,
           0,
           0,
           0,
           0,
           0,
           -0.02724938311542733,
           0,
           0,
           0,
           0,
           0,
           0,
           0,
           0
          ],
          [
           0.03861752339929951,
           0,
           0,
           0,
           0,
           0,
           0,
           0,
           0,
           0,
           0.013132526571308372,
           0,
           0,
           0,
           0,
           0,
           0,
           0,
           0,
           0,
           0,
           0,
           0,
           0,
           0,
           0,
           0,
           0,
           0,
           0,
           0,
           -0.031386787430198994
          ],
          [
           0,
           0,
           0,
           0,
           -0.03894504587328374,
           0,
           0,
           0,
           0,
           0,
           0.0045244042538513975,
           0.010024742194986759,
           0,
           0,
           0,
           0,
           0,
           0,
           0,
           0,
           0,
           0,
           0,
           0,
           0,
           0,
           0,
           0,
           0,
           0,
           0,
           0
          ],
          [
           0,
           0,
           0,
           0,
           0,
           -0.01562137088330972,
           0,
           0,
           0,
           0,
           0,
           0,
           0,
           0,
           0,
           0,
           0,
           0,
           0,
           -0.06561262124926179,
           0,
           0,
           0,
           0,
           0,
           0,
           0,
           0,
           0,
           0,
           0,
           0
          ],
          [
           0,
           0,
           0,
           0,
           0,
           -0.07139858930036079,
           0,
           0,
           0,
           0,
           0,
           0,
           0,
           0,
           0,
           -0.013633753226313255,
           0,
           0,
           0,
           0,
           0,
           0,
           0,
           0,
           0,
           0,
           0,
           0,
           0,
           0,
           0,
           0
          ],
          [
           0.03997279090760503,
           0,
           0,
           0,
           0,
           0,
           0,
           0,
           0,
           0,
           0.03511397006260563,
           0,
           0,
           0,
           0,
           0,
           0,
           0,
           0,
           0,
           0,
           0,
           0,
           0,
           0,
           0,
           0,
           0,
           0,
           0,
           0,
           0
          ]
         ]
        }
       ],
       "layout": {
        "autosize": true,
        "coloraxis": {
         "colorscale": [
          [
           0,
           "#0d0887"
          ],
          [
           0.1111111111111111,
           "#46039f"
          ],
          [
           0.2222222222222222,
           "#7201a8"
          ],
          [
           0.3333333333333333,
           "#9c179e"
          ],
          [
           0.4444444444444444,
           "#bd3786"
          ],
          [
           0.5555555555555556,
           "#d8576b"
          ],
          [
           0.6666666666666666,
           "#ed7953"
          ],
          [
           0.7777777777777778,
           "#fb9f3a"
          ],
          [
           0.8888888888888888,
           "#fdca26"
          ],
          [
           1,
           "#f0f921"
          ]
         ]
        },
        "margin": {
         "t": 60
        },
        "template": {
         "data": {
          "bar": [
           {
            "error_x": {
             "color": "#2a3f5f"
            },
            "error_y": {
             "color": "#2a3f5f"
            },
            "marker": {
             "line": {
              "color": "#E5ECF6",
              "width": 0.5
             },
             "pattern": {
              "fillmode": "overlay",
              "size": 10,
              "solidity": 0.2
             }
            },
            "type": "bar"
           }
          ],
          "barpolar": [
           {
            "marker": {
             "line": {
              "color": "#E5ECF6",
              "width": 0.5
             },
             "pattern": {
              "fillmode": "overlay",
              "size": 10,
              "solidity": 0.2
             }
            },
            "type": "barpolar"
           }
          ],
          "carpet": [
           {
            "aaxis": {
             "endlinecolor": "#2a3f5f",
             "gridcolor": "white",
             "linecolor": "white",
             "minorgridcolor": "white",
             "startlinecolor": "#2a3f5f"
            },
            "baxis": {
             "endlinecolor": "#2a3f5f",
             "gridcolor": "white",
             "linecolor": "white",
             "minorgridcolor": "white",
             "startlinecolor": "#2a3f5f"
            },
            "type": "carpet"
           }
          ],
          "choropleth": [
           {
            "colorbar": {
             "outlinewidth": 0,
             "ticks": ""
            },
            "type": "choropleth"
           }
          ],
          "contour": [
           {
            "colorbar": {
             "outlinewidth": 0,
             "ticks": ""
            },
            "colorscale": [
             [
              0,
              "#0d0887"
             ],
             [
              0.1111111111111111,
              "#46039f"
             ],
             [
              0.2222222222222222,
              "#7201a8"
             ],
             [
              0.3333333333333333,
              "#9c179e"
             ],
             [
              0.4444444444444444,
              "#bd3786"
             ],
             [
              0.5555555555555556,
              "#d8576b"
             ],
             [
              0.6666666666666666,
              "#ed7953"
             ],
             [
              0.7777777777777778,
              "#fb9f3a"
             ],
             [
              0.8888888888888888,
              "#fdca26"
             ],
             [
              1,
              "#f0f921"
             ]
            ],
            "type": "contour"
           }
          ],
          "contourcarpet": [
           {
            "colorbar": {
             "outlinewidth": 0,
             "ticks": ""
            },
            "type": "contourcarpet"
           }
          ],
          "heatmap": [
           {
            "colorbar": {
             "outlinewidth": 0,
             "ticks": ""
            },
            "colorscale": [
             [
              0,
              "#0d0887"
             ],
             [
              0.1111111111111111,
              "#46039f"
             ],
             [
              0.2222222222222222,
              "#7201a8"
             ],
             [
              0.3333333333333333,
              "#9c179e"
             ],
             [
              0.4444444444444444,
              "#bd3786"
             ],
             [
              0.5555555555555556,
              "#d8576b"
             ],
             [
              0.6666666666666666,
              "#ed7953"
             ],
             [
              0.7777777777777778,
              "#fb9f3a"
             ],
             [
              0.8888888888888888,
              "#fdca26"
             ],
             [
              1,
              "#f0f921"
             ]
            ],
            "type": "heatmap"
           }
          ],
          "heatmapgl": [
           {
            "colorbar": {
             "outlinewidth": 0,
             "ticks": ""
            },
            "colorscale": [
             [
              0,
              "#0d0887"
             ],
             [
              0.1111111111111111,
              "#46039f"
             ],
             [
              0.2222222222222222,
              "#7201a8"
             ],
             [
              0.3333333333333333,
              "#9c179e"
             ],
             [
              0.4444444444444444,
              "#bd3786"
             ],
             [
              0.5555555555555556,
              "#d8576b"
             ],
             [
              0.6666666666666666,
              "#ed7953"
             ],
             [
              0.7777777777777778,
              "#fb9f3a"
             ],
             [
              0.8888888888888888,
              "#fdca26"
             ],
             [
              1,
              "#f0f921"
             ]
            ],
            "type": "heatmapgl"
           }
          ],
          "histogram": [
           {
            "marker": {
             "pattern": {
              "fillmode": "overlay",
              "size": 10,
              "solidity": 0.2
             }
            },
            "type": "histogram"
           }
          ],
          "histogram2d": [
           {
            "colorbar": {
             "outlinewidth": 0,
             "ticks": ""
            },
            "colorscale": [
             [
              0,
              "#0d0887"
             ],
             [
              0.1111111111111111,
              "#46039f"
             ],
             [
              0.2222222222222222,
              "#7201a8"
             ],
             [
              0.3333333333333333,
              "#9c179e"
             ],
             [
              0.4444444444444444,
              "#bd3786"
             ],
             [
              0.5555555555555556,
              "#d8576b"
             ],
             [
              0.6666666666666666,
              "#ed7953"
             ],
             [
              0.7777777777777778,
              "#fb9f3a"
             ],
             [
              0.8888888888888888,
              "#fdca26"
             ],
             [
              1,
              "#f0f921"
             ]
            ],
            "type": "histogram2d"
           }
          ],
          "histogram2dcontour": [
           {
            "colorbar": {
             "outlinewidth": 0,
             "ticks": ""
            },
            "colorscale": [
             [
              0,
              "#0d0887"
             ],
             [
              0.1111111111111111,
              "#46039f"
             ],
             [
              0.2222222222222222,
              "#7201a8"
             ],
             [
              0.3333333333333333,
              "#9c179e"
             ],
             [
              0.4444444444444444,
              "#bd3786"
             ],
             [
              0.5555555555555556,
              "#d8576b"
             ],
             [
              0.6666666666666666,
              "#ed7953"
             ],
             [
              0.7777777777777778,
              "#fb9f3a"
             ],
             [
              0.8888888888888888,
              "#fdca26"
             ],
             [
              1,
              "#f0f921"
             ]
            ],
            "type": "histogram2dcontour"
           }
          ],
          "mesh3d": [
           {
            "colorbar": {
             "outlinewidth": 0,
             "ticks": ""
            },
            "type": "mesh3d"
           }
          ],
          "parcoords": [
           {
            "line": {
             "colorbar": {
              "outlinewidth": 0,
              "ticks": ""
             }
            },
            "type": "parcoords"
           }
          ],
          "pie": [
           {
            "automargin": true,
            "type": "pie"
           }
          ],
          "scatter": [
           {
            "fillpattern": {
             "fillmode": "overlay",
             "size": 10,
             "solidity": 0.2
            },
            "type": "scatter"
           }
          ],
          "scatter3d": [
           {
            "line": {
             "colorbar": {
              "outlinewidth": 0,
              "ticks": ""
             }
            },
            "marker": {
             "colorbar": {
              "outlinewidth": 0,
              "ticks": ""
             }
            },
            "type": "scatter3d"
           }
          ],
          "scattercarpet": [
           {
            "marker": {
             "colorbar": {
              "outlinewidth": 0,
              "ticks": ""
             }
            },
            "type": "scattercarpet"
           }
          ],
          "scattergeo": [
           {
            "marker": {
             "colorbar": {
              "outlinewidth": 0,
              "ticks": ""
             }
            },
            "type": "scattergeo"
           }
          ],
          "scattergl": [
           {
            "marker": {
             "colorbar": {
              "outlinewidth": 0,
              "ticks": ""
             }
            },
            "type": "scattergl"
           }
          ],
          "scattermapbox": [
           {
            "marker": {
             "colorbar": {
              "outlinewidth": 0,
              "ticks": ""
             }
            },
            "type": "scattermapbox"
           }
          ],
          "scatterpolar": [
           {
            "marker": {
             "colorbar": {
              "outlinewidth": 0,
              "ticks": ""
             }
            },
            "type": "scatterpolar"
           }
          ],
          "scatterpolargl": [
           {
            "marker": {
             "colorbar": {
              "outlinewidth": 0,
              "ticks": ""
             }
            },
            "type": "scatterpolargl"
           }
          ],
          "scatterternary": [
           {
            "marker": {
             "colorbar": {
              "outlinewidth": 0,
              "ticks": ""
             }
            },
            "type": "scatterternary"
           }
          ],
          "surface": [
           {
            "colorbar": {
             "outlinewidth": 0,
             "ticks": ""
            },
            "colorscale": [
             [
              0,
              "#0d0887"
             ],
             [
              0.1111111111111111,
              "#46039f"
             ],
             [
              0.2222222222222222,
              "#7201a8"
             ],
             [
              0.3333333333333333,
              "#9c179e"
             ],
             [
              0.4444444444444444,
              "#bd3786"
             ],
             [
              0.5555555555555556,
              "#d8576b"
             ],
             [
              0.6666666666666666,
              "#ed7953"
             ],
             [
              0.7777777777777778,
              "#fb9f3a"
             ],
             [
              0.8888888888888888,
              "#fdca26"
             ],
             [
              1,
              "#f0f921"
             ]
            ],
            "type": "surface"
           }
          ],
          "table": [
           {
            "cells": {
             "fill": {
              "color": "#EBF0F8"
             },
             "line": {
              "color": "white"
             }
            },
            "header": {
             "fill": {
              "color": "#C8D4E3"
             },
             "line": {
              "color": "white"
             }
            },
            "type": "table"
           }
          ]
         },
         "layout": {
          "annotationdefaults": {
           "arrowcolor": "#2a3f5f",
           "arrowhead": 0,
           "arrowwidth": 1
          },
          "autotypenumbers": "strict",
          "coloraxis": {
           "colorbar": {
            "outlinewidth": 0,
            "ticks": ""
           }
          },
          "colorscale": {
           "diverging": [
            [
             0,
             "#8e0152"
            ],
            [
             0.1,
             "#c51b7d"
            ],
            [
             0.2,
             "#de77ae"
            ],
            [
             0.3,
             "#f1b6da"
            ],
            [
             0.4,
             "#fde0ef"
            ],
            [
             0.5,
             "#f7f7f7"
            ],
            [
             0.6,
             "#e6f5d0"
            ],
            [
             0.7,
             "#b8e186"
            ],
            [
             0.8,
             "#7fbc41"
            ],
            [
             0.9,
             "#4d9221"
            ],
            [
             1,
             "#276419"
            ]
           ],
           "sequential": [
            [
             0,
             "#0d0887"
            ],
            [
             0.1111111111111111,
             "#46039f"
            ],
            [
             0.2222222222222222,
             "#7201a8"
            ],
            [
             0.3333333333333333,
             "#9c179e"
            ],
            [
             0.4444444444444444,
             "#bd3786"
            ],
            [
             0.5555555555555556,
             "#d8576b"
            ],
            [
             0.6666666666666666,
             "#ed7953"
            ],
            [
             0.7777777777777778,
             "#fb9f3a"
            ],
            [
             0.8888888888888888,
             "#fdca26"
            ],
            [
             1,
             "#f0f921"
            ]
           ],
           "sequentialminus": [
            [
             0,
             "#0d0887"
            ],
            [
             0.1111111111111111,
             "#46039f"
            ],
            [
             0.2222222222222222,
             "#7201a8"
            ],
            [
             0.3333333333333333,
             "#9c179e"
            ],
            [
             0.4444444444444444,
             "#bd3786"
            ],
            [
             0.5555555555555556,
             "#d8576b"
            ],
            [
             0.6666666666666666,
             "#ed7953"
            ],
            [
             0.7777777777777778,
             "#fb9f3a"
            ],
            [
             0.8888888888888888,
             "#fdca26"
            ],
            [
             1,
             "#f0f921"
            ]
           ]
          },
          "colorway": [
           "#636efa",
           "#EF553B",
           "#00cc96",
           "#ab63fa",
           "#FFA15A",
           "#19d3f3",
           "#FF6692",
           "#B6E880",
           "#FF97FF",
           "#FECB52"
          ],
          "font": {
           "color": "#2a3f5f"
          },
          "geo": {
           "bgcolor": "white",
           "lakecolor": "white",
           "landcolor": "#E5ECF6",
           "showlakes": true,
           "showland": true,
           "subunitcolor": "white"
          },
          "hoverlabel": {
           "align": "left"
          },
          "hovermode": "closest",
          "mapbox": {
           "style": "light"
          },
          "paper_bgcolor": "white",
          "plot_bgcolor": "#E5ECF6",
          "polar": {
           "angularaxis": {
            "gridcolor": "white",
            "linecolor": "white",
            "ticks": ""
           },
           "bgcolor": "#E5ECF6",
           "radialaxis": {
            "gridcolor": "white",
            "linecolor": "white",
            "ticks": ""
           }
          },
          "scene": {
           "xaxis": {
            "backgroundcolor": "#E5ECF6",
            "gridcolor": "white",
            "gridwidth": 2,
            "linecolor": "white",
            "showbackground": true,
            "ticks": "",
            "zerolinecolor": "white"
           },
           "yaxis": {
            "backgroundcolor": "#E5ECF6",
            "gridcolor": "white",
            "gridwidth": 2,
            "linecolor": "white",
            "showbackground": true,
            "ticks": "",
            "zerolinecolor": "white"
           },
           "zaxis": {
            "backgroundcolor": "#E5ECF6",
            "gridcolor": "white",
            "gridwidth": 2,
            "linecolor": "white",
            "showbackground": true,
            "ticks": "",
            "zerolinecolor": "white"
           }
          },
          "shapedefaults": {
           "line": {
            "color": "#2a3f5f"
           }
          },
          "ternary": {
           "aaxis": {
            "gridcolor": "white",
            "linecolor": "white",
            "ticks": ""
           },
           "baxis": {
            "gridcolor": "white",
            "linecolor": "white",
            "ticks": ""
           },
           "bgcolor": "#E5ECF6",
           "caxis": {
            "gridcolor": "white",
            "linecolor": "white",
            "ticks": ""
           }
          },
          "title": {
           "x": 0.05
          },
          "xaxis": {
           "automargin": true,
           "gridcolor": "white",
           "linecolor": "white",
           "ticks": "",
           "title": {
            "standoff": 15
           },
           "zerolinecolor": "white",
           "zerolinewidth": 2
          },
          "yaxis": {
           "automargin": true,
           "gridcolor": "white",
           "linecolor": "white",
           "ticks": "",
           "title": {
            "standoff": 15
           },
           "zerolinecolor": "white",
           "zerolinewidth": 2
          }
         }
        },
        "xaxis": {
         "anchor": "y",
         "autorange": true,
         "constrain": "domain",
         "domain": [
          0.3653610771113831,
          0.6346389228886169
         ],
         "range": [
          -0.5,
          31.5
         ],
         "scaleanchor": "y",
         "side": "top"
        },
        "yaxis": {
         "anchor": "x",
         "autorange": true,
         "constrain": "domain",
         "domain": [
          0,
          1
         ],
         "range": [
          31.5,
          -0.5
         ]
        }
       }
      },
      "image/png": "[encoded data removed]",
      "text/html": [
       "<div>                            <div id=\"7148e158-f658-4670-8e34-fca755f14ddb\" class=\"plotly-graph-div\" style=\"height:525px; width:100%;\"></div>            <script type=\"text/javascript\">                require([\"plotly\"], function(Plotly) {                    window.PLOTLYENV=window.PLOTLYENV || {};                                    if (document.getElementById(\"7148e158-f658-4670-8e34-fca755f14ddb\")) {                    Plotly.newPlot(                        \"7148e158-f658-4670-8e34-fca755f14ddb\",                        [{\"coloraxis\":\"coloraxis\",\"name\":\"0\",\"z\":[[0.2092348078198635,0.0043702789773958665,0.0494425345768446,0.0,0.0,0.0,0.0,0.0,0.0,0.0,0.0,0.0,0.0,0.0,0.0,0.0,0.0,0.0,0.0,0.0,0.0,0.0,0.0,0.13239370682858687,0.014435237320552656,0.0,0.0,0.0,0.0,0.0,0.0,0.09707821774680629],[0.06382492800415385,0.0,0.0,0.0,0.0,0.0,0.0,0.0,0.0,0.0,0.0,0.0,0.0,0.0,0.020129773674912074,0.0,0.0,0.0,0.0,0.0,0.0,0.0,0.0,0.0,0.0,0.0,0.0,0.0,-0.04154401580881947,0.0,0.0,0.0],[0.026319617040353648,0.0,0.0,0.0,0.0,0.0,0.0,0.0,0.0,0.0,0.0,0.0,0.0,0.0,0.010708689701965167,0.0,0.0,0.0,0.0,0.0,0.0,0.0,0.0,0.04919132331290803,0.0,0.0,0.0,0.0,0.0,0.0,0.0,0.0],[0.0,0.0,0.0,0.0,0.0,0.0,0.0,0.0,0.0,0.0,0.0,0.0,0.0,0.0,0.0,0.0,0.0,0.0,0.0,0.0,0.0,0.0,0.0,0.0,0.002426299785383965,0.0,0.0,0.0,0.0,0.0,0.0,0.0],[0.0,0.0,0.0,0.0,0.0,0.0,0.0,0.0,0.0,0.0,0.0,0.0,0.0,0.0,0.0,0.0,0.0,0.0,0.0,0.0,0.0,0.0,0.0,0.0,0.0,0.0,0.0,0.0,0.0,-0.011118398737542877,0.0,0.0],[0.0,0.0,0.0,0.0,0.0,0.0,0.0,-0.035882986587876246,-0.07343410246245656,0.0,0.0,0.0,0.0,0.0,0.0,0.0,0.0,0.0,0.0,0.0,0.0,0.0,0.0,0.0,0.0,0.0,0.0,0.0,0.0,0.0,0.0,0.0],[0.02884754975892763,0.0,0.0,0.0,0.0,0.0,0.0,0.0,0.0,0.0,0.0,0.0,0.0,0.0,0.0,0.0,0.01606043769138233,0.0,0.0,0.0,0.0,0.0,0.0,0.0,0.0,0.0,0.0,0.0,0.0,0.0,0.0,0.0],[0.0,0.0,0.0,0.0,0.0,0.0,0.0,0.0,0.012862493921764848,0.0,0.10151591639505321,0.0,0.0,0.0,0.004925768149769789,0.0,0.0,0.0,0.0,0.0,0.0,0.0,0.0,0.0,0.0,0.0,0.0,0.0,0.0,0.0,-0.021769156093139203,0.0],[0.0,0.0,0.0,-0.04079749867335308,0.0,0.0,0.0,0.0,0.0,0.0,0.0,0.0,0.0,0.0,0.0399867305588604,0.0,0.0,0.0,0.0,0.0,0.0,0.0,0.0,0.0,0.0,0.0,-0.03379609572415465,0.0,0.0,0.0,0.0,-0.002090888160147099],[0.0,0.0,0.0,0.0,0.0,0.0032831997704501157,0.0,0.0,0.0,0.0,0.0,0.023896685032424876,0.0,0.0,0.0,0.0,0.0,0.019718306432301914,0.0,0.0,0.0,0.0,0.0,0.0,0.0,0.0,0.0,0.0,0.0,0.0,0.0,0.0],[0.0,0.0,0.0,0.0,0.09592778174757785,0.0,0.013223030089893957,0.0,0.0,0.0,0.0,0.0,0.0,0.0,0.02658324963690916,0.0,0.04859146119824056,0.010792752126358718,0.0,0.019261833569303798,0.0,0.0,0.0,0.0,-0.005601007204791938,0.0,0.0,0.0,0.0,0.0,0.0,0.0],[0.0,0.0,0.0,0.0,0.0,0.0,0.0203491715687307,0.0,0.0,0.012625209225737885,0.0,0.0259957469910787,0.0,0.0,0.0,0.0,0.0,0.0,0.0,0.006435735343979358,0.0,0.0,0.03480117890029129,0.0,0.0,0.0,0.0,0.0,0.0,0.0,0.0,0.0],[0.0,0.0,0.0,0.0,0.0,0.0,0.0,0.0,0.0,0.0,0.008173971733716081,0.030333173929053547,0.0,0.06154656443501052,0.0035708915437201367,0.0,0.0,0.0,0.0,0.0,0.0,0.0,0.0,0.049842630506215964,0.0,0.0,0.0,0.015119176279480447,0.0,0.0,0.0,0.0],[0.0,0.0,0.0,0.0,0.0,0.009515759755238126,0.0,0.0,0.0,0.0,0.0,0.0,0.0,0.0,0.0,0.0,0.0,0.04867876350658115,0.0,0.0,0.0018008089773643278,0.0,0.0,0.0,0.017812851181639958,0.029294488489678853,0.0,0.029912177461508788,0.0,0.0,0.0,0.0],[-0.004281033292343461,-0.08860400199681541,0.0,0.0,0.0,0.0,0.0,0.0,0.0,0.0,0.0,0.009265660251897588,0.0,0.00204698889612962,0.0,0.0,0.017811222465376142,0.0,0.0,0.0,0.0,0.0,0.0,0.0,0.0,0.0,0.0,0.0,0.0,0.0,0.0,0.0],[-0.009871540757300018,-0.05714708407904564,0.0,0.0,0.0,0.0,0.0,0.0,0.0,0.0,0.0,0.0,0.0,0.013356226054027821,0.0,0.0,0.029887299758889818,0.0,0.05943982547586855,0.028603749318359233,0.0,0.0,0.002793916554509848,0.0,0.0,0.0,0.0,0.0,0.0,0.0,0.0,0.0],[0.0,0.0,0.0,0.0,-0.013442258516937198,0.0,0.0,0.0,0.0,0.0,0.0,0.0,-0.004423127226919486,0.0,0.0,0.0,0.0,0.0,0.0,0.0,0.0,0.0,0.0,0.013326382960892846,0.04739015700319597,0.0,0.0,0.0,0.0,-0.003054760320203453,-0.03382116066245214,0.0],[0.0,-0.055962440854896024,0.0,0.0,0.0,0.0,0.0,0.04679033909976245,0.0,0.0,0.0,0.0,0.0,0.0,0.0,0.0,0.0,0.0,0.0,0.0,0.0,0.0,0.0,0.0,0.0,0.0,0.0,0.0,0.0,0.0,0.0,-0.0446669546330541],[0.0,0.0,0.0,0.0,-0.0019590361485695303,-0.04410828356126636,0.0,0.013364311659554188,0.0,0.0,0.0,0.00619729805256724,0.0,0.0,0.0,0.0,-0.06060095610150797,0.0,0.0,0.0,0.0,0.0,0.0,0.0,0.0,0.0,0.0,0.0,-0.0815076413831385,0.0,0.0,0.0],[0.0,0.0,-0.02857893509831521,0.0,0.0,0.0,0.0,0.0,0.0,0.059491692899186294,0.0,0.0,0.0,0.0,0.0,0.0,0.0,0.0,0.0,0.0,0.0,0.0,0.0,0.0,0.0,0.0,0.0,0.0,0.0,0.0,-0.0663346160472524,-0.02331637097961945],[0.0,-0.05559617343732084,0.0,0.0,0.0,0.0,0.005663521283774144,0.0,0.0,0.0,0.0,0.0,0.0,0.0,0.0,0.0,0.0,0.0,0.0,0.0,0.0,0.0,0.0,0.0,0.0,0.0,0.0,0.0,0.0,-0.009668577559736118,0.0,0.0],[0.0,-0.07241504910267593,0.0,0.0,0.0,0.0,0.0,0.0,0.0,0.05318925055287832,0.0,0.0,0.0,0.0,0.0,0.0,0.07483098970618872,0.0,0.0,0.0,0.0,0.0,0.0,0.017892488130041885,0.0,0.005269172279435777,0.0,0.0,-0.06972945643823895,0.0,0.0,0.0],[0.0,-0.03231599005349524,0.0,0.0,0.0,0.0,0.0,0.0,0.0,0.0,0.0,0.0,0.0,0.0,0.0,0.0,0.0,0.0,0.0,0.019948812604281198,0.0,0.0,0.02774832224918869,0.0,0.0,0.0,0.039984620381779266,0.0,-0.013010824936766476,0.0,0.0,0.0],[0.0,0.0,0.0,0.0,0.02070358004784821,0.0,0.0,0.015160451346298582,0.0,0.0,0.0,0.0,0.0,0.0,0.0,0.005274160659584832,0.0,0.027596131771457505,0.07942973837663676,0.0,0.0,0.0,0.0,0.0,0.0,0.0,0.0,0.0,0.0,0.0,-0.04385346253092454,-0.01961524494630896],[0.0,0.0,0.0,0.0,0.0,0.0,0.0,0.0,0.0,0.0,0.0,0.0,0.0,0.006174325496778604,0.0,0.10822024586468935,0.0,0.0,0.0,0.0,0.0,0.0,0.0,0.0,0.0,0.0,0.0,-0.015982099232644792,-0.014597862312008306,0.0,0.0,0.0],[0.0,0.0,-0.013874018513640066,0.0,-0.07329453261493798,0.0,0.0,0.0,0.0,-0.030924473800404376,0.0,0.0,0.0,0.0,0.0,0.0,0.0,0.0,0.0,0.0,0.0,0.0,-0.014108529452043992,0.0,0.0,0.0,-0.0020186870826966363,0.0,0.0,-0.03819299440563554,0.0,0.0],[0.0,0.0,0.0,0.0,0.0,0.0,0.0,0.0,0.0,0.0,0.0,0.0,0.0,0.0,0.0,0.0,0.0,0.0,0.0,0.0,0.0,0.0,0.0,-0.02724938311542733,0.0,0.0,0.0,0.0,0.0,0.0,0.0,0.0],[0.03861752339929951,0.0,0.0,0.0,0.0,0.0,0.0,0.0,0.0,0.0,0.013132526571308372,0.0,0.0,0.0,0.0,0.0,0.0,0.0,0.0,0.0,0.0,0.0,0.0,0.0,0.0,0.0,0.0,0.0,0.0,0.0,0.0,-0.031386787430198994],[0.0,0.0,0.0,0.0,-0.03894504587328374,0.0,0.0,0.0,0.0,0.0,0.0045244042538513975,0.010024742194986759,0.0,0.0,0.0,0.0,0.0,0.0,0.0,0.0,0.0,0.0,0.0,0.0,0.0,0.0,0.0,0.0,0.0,0.0,0.0,0.0],[0.0,0.0,0.0,0.0,0.0,-0.01562137088330972,0.0,0.0,0.0,0.0,0.0,0.0,0.0,0.0,0.0,0.0,0.0,0.0,0.0,-0.06561262124926179,0.0,0.0,0.0,0.0,0.0,0.0,0.0,0.0,0.0,0.0,0.0,0.0],[0.0,0.0,0.0,0.0,0.0,-0.07139858930036079,0.0,0.0,0.0,0.0,0.0,0.0,0.0,0.0,0.0,-0.013633753226313255,0.0,0.0,0.0,0.0,0.0,0.0,0.0,0.0,0.0,0.0,0.0,0.0,0.0,0.0,0.0,0.0],[0.03997279090760503,0.0,0.0,0.0,0.0,0.0,0.0,0.0,0.0,0.0,0.03511397006260563,0.0,0.0,0.0,0.0,0.0,0.0,0.0,0.0,0.0,0.0,0.0,0.0,0.0,0.0,0.0,0.0,0.0,0.0,0.0,0.0,0.0]],\"type\":\"heatmap\",\"xaxis\":\"x\",\"yaxis\":\"y\",\"hovertemplate\":\"x: %{x}<br>y: %{y}<br>color: %{z}<extra></extra>\"}],                        {\"template\":{\"data\":{\"histogram2dcontour\":[{\"type\":\"histogram2dcontour\",\"colorbar\":{\"outlinewidth\":0,\"ticks\":\"\"},\"colorscale\":[[0.0,\"#0d0887\"],[0.1111111111111111,\"#46039f\"],[0.2222222222222222,\"#7201a8\"],[0.3333333333333333,\"#9c179e\"],[0.4444444444444444,\"#bd3786\"],[0.5555555555555556,\"#d8576b\"],[0.6666666666666666,\"#ed7953\"],[0.7777777777777778,\"#fb9f3a\"],[0.8888888888888888,\"#fdca26\"],[1.0,\"#f0f921\"]]}],\"choropleth\":[{\"type\":\"choropleth\",\"colorbar\":{\"outlinewidth\":0,\"ticks\":\"\"}}],\"histogram2d\":[{\"type\":\"histogram2d\",\"colorbar\":{\"outlinewidth\":0,\"ticks\":\"\"},\"colorscale\":[[0.0,\"#0d0887\"],[0.1111111111111111,\"#46039f\"],[0.2222222222222222,\"#7201a8\"],[0.3333333333333333,\"#9c179e\"],[0.4444444444444444,\"#bd3786\"],[0.5555555555555556,\"#d8576b\"],[0.6666666666666666,\"#ed7953\"],[0.7777777777777778,\"#fb9f3a\"],[0.8888888888888888,\"#fdca26\"],[1.0,\"#f0f921\"]]}],\"heatmap\":[{\"type\":\"heatmap\",\"colorbar\":{\"outlinewidth\":0,\"ticks\":\"\"},\"colorscale\":[[0.0,\"#0d0887\"],[0.1111111111111111,\"#46039f\"],[0.2222222222222222,\"#7201a8\"],[0.3333333333333333,\"#9c179e\"],[0.4444444444444444,\"#bd3786\"],[0.5555555555555556,\"#d8576b\"],[0.6666666666666666,\"#ed7953\"],[0.7777777777777778,\"#fb9f3a\"],[0.8888888888888888,\"#fdca26\"],[1.0,\"#f0f921\"]]}],\"heatmapgl\":[{\"type\":\"heatmapgl\",\"colorbar\":{\"outlinewidth\":0,\"ticks\":\"\"},\"colorscale\":[[0.0,\"#0d0887\"],[0.1111111111111111,\"#46039f\"],[0.2222222222222222,\"#7201a8\"],[0.3333333333333333,\"#9c179e\"],[0.4444444444444444,\"#bd3786\"],[0.5555555555555556,\"#d8576b\"],[0.6666666666666666,\"#ed7953\"],[0.7777777777777778,\"#fb9f3a\"],[0.8888888888888888,\"#fdca26\"],[1.0,\"#f0f921\"]]}],\"contourcarpet\":[{\"type\":\"contourcarpet\",\"colorbar\":{\"outlinewidth\":0,\"ticks\":\"\"}}],\"contour\":[{\"type\":\"contour\",\"colorbar\":{\"outlinewidth\":0,\"ticks\":\"\"},\"colorscale\":[[0.0,\"#0d0887\"],[0.1111111111111111,\"#46039f\"],[0.2222222222222222,\"#7201a8\"],[0.3333333333333333,\"#9c179e\"],[0.4444444444444444,\"#bd3786\"],[0.5555555555555556,\"#d8576b\"],[0.6666666666666666,\"#ed7953\"],[0.7777777777777778,\"#fb9f3a\"],[0.8888888888888888,\"#fdca26\"],[1.0,\"#f0f921\"]]}],\"surface\":[{\"type\":\"surface\",\"colorbar\":{\"outlinewidth\":0,\"ticks\":\"\"},\"colorscale\":[[0.0,\"#0d0887\"],[0.1111111111111111,\"#46039f\"],[0.2222222222222222,\"#7201a8\"],[0.3333333333333333,\"#9c179e\"],[0.4444444444444444,\"#bd3786\"],[0.5555555555555556,\"#d8576b\"],[0.6666666666666666,\"#ed7953\"],[0.7777777777777778,\"#fb9f3a\"],[0.8888888888888888,\"#fdca26\"],[1.0,\"#f0f921\"]]}],\"mesh3d\":[{\"type\":\"mesh3d\",\"colorbar\":{\"outlinewidth\":0,\"ticks\":\"\"}}],\"scatter\":[{\"fillpattern\":{\"fillmode\":\"overlay\",\"size\":10,\"solidity\":0.2},\"type\":\"scatter\"}],\"parcoords\":[{\"type\":\"parcoords\",\"line\":{\"colorbar\":{\"outlinewidth\":0,\"ticks\":\"\"}}}],\"scatterpolargl\":[{\"type\":\"scatterpolargl\",\"marker\":{\"colorbar\":{\"outlinewidth\":0,\"ticks\":\"\"}}}],\"bar\":[{\"error_x\":{\"color\":\"#2a3f5f\"},\"error_y\":{\"color\":\"#2a3f5f\"},\"marker\":{\"line\":{\"color\":\"#E5ECF6\",\"width\":0.5},\"pattern\":{\"fillmode\":\"overlay\",\"size\":10,\"solidity\":0.2}},\"type\":\"bar\"}],\"scattergeo\":[{\"type\":\"scattergeo\",\"marker\":{\"colorbar\":{\"outlinewidth\":0,\"ticks\":\"\"}}}],\"scatterpolar\":[{\"type\":\"scatterpolar\",\"marker\":{\"colorbar\":{\"outlinewidth\":0,\"ticks\":\"\"}}}],\"histogram\":[{\"marker\":{\"pattern\":{\"fillmode\":\"overlay\",\"size\":10,\"solidity\":0.2}},\"type\":\"histogram\"}],\"scattergl\":[{\"type\":\"scattergl\",\"marker\":{\"colorbar\":{\"outlinewidth\":0,\"ticks\":\"\"}}}],\"scatter3d\":[{\"type\":\"scatter3d\",\"line\":{\"colorbar\":{\"outlinewidth\":0,\"ticks\":\"\"}},\"marker\":{\"colorbar\":{\"outlinewidth\":0,\"ticks\":\"\"}}}],\"scattermapbox\":[{\"type\":\"scattermapbox\",\"marker\":{\"colorbar\":{\"outlinewidth\":0,\"ticks\":\"\"}}}],\"scatterternary\":[{\"type\":\"scatterternary\",\"marker\":{\"colorbar\":{\"outlinewidth\":0,\"ticks\":\"\"}}}],\"scattercarpet\":[{\"type\":\"scattercarpet\",\"marker\":{\"colorbar\":{\"outlinewidth\":0,\"ticks\":\"\"}}}],\"carpet\":[{\"aaxis\":{\"endlinecolor\":\"#2a3f5f\",\"gridcolor\":\"white\",\"linecolor\":\"white\",\"minorgridcolor\":\"white\",\"startlinecolor\":\"#2a3f5f\"},\"baxis\":{\"endlinecolor\":\"#2a3f5f\",\"gridcolor\":\"white\",\"linecolor\":\"white\",\"minorgridcolor\":\"white\",\"startlinecolor\":\"#2a3f5f\"},\"type\":\"carpet\"}],\"table\":[{\"cells\":{\"fill\":{\"color\":\"#EBF0F8\"},\"line\":{\"color\":\"white\"}},\"header\":{\"fill\":{\"color\":\"#C8D4E3\"},\"line\":{\"color\":\"white\"}},\"type\":\"table\"}],\"barpolar\":[{\"marker\":{\"line\":{\"color\":\"#E5ECF6\",\"width\":0.5},\"pattern\":{\"fillmode\":\"overlay\",\"size\":10,\"solidity\":0.2}},\"type\":\"barpolar\"}],\"pie\":[{\"automargin\":true,\"type\":\"pie\"}]},\"layout\":{\"autotypenumbers\":\"strict\",\"colorway\":[\"#636efa\",\"#EF553B\",\"#00cc96\",\"#ab63fa\",\"#FFA15A\",\"#19d3f3\",\"#FF6692\",\"#B6E880\",\"#FF97FF\",\"#FECB52\"],\"font\":{\"color\":\"#2a3f5f\"},\"hovermode\":\"closest\",\"hoverlabel\":{\"align\":\"left\"},\"paper_bgcolor\":\"white\",\"plot_bgcolor\":\"#E5ECF6\",\"polar\":{\"bgcolor\":\"#E5ECF6\",\"angularaxis\":{\"gridcolor\":\"white\",\"linecolor\":\"white\",\"ticks\":\"\"},\"radialaxis\":{\"gridcolor\":\"white\",\"linecolor\":\"white\",\"ticks\":\"\"}},\"ternary\":{\"bgcolor\":\"#E5ECF6\",\"aaxis\":{\"gridcolor\":\"white\",\"linecolor\":\"white\",\"ticks\":\"\"},\"baxis\":{\"gridcolor\":\"white\",\"linecolor\":\"white\",\"ticks\":\"\"},\"caxis\":{\"gridcolor\":\"white\",\"linecolor\":\"white\",\"ticks\":\"\"}},\"coloraxis\":{\"colorbar\":{\"outlinewidth\":0,\"ticks\":\"\"}},\"colorscale\":{\"sequential\":[[0.0,\"#0d0887\"],[0.1111111111111111,\"#46039f\"],[0.2222222222222222,\"#7201a8\"],[0.3333333333333333,\"#9c179e\"],[0.4444444444444444,\"#bd3786\"],[0.5555555555555556,\"#d8576b\"],[0.6666666666666666,\"#ed7953\"],[0.7777777777777778,\"#fb9f3a\"],[0.8888888888888888,\"#fdca26\"],[1.0,\"#f0f921\"]],\"sequentialminus\":[[0.0,\"#0d0887\"],[0.1111111111111111,\"#46039f\"],[0.2222222222222222,\"#7201a8\"],[0.3333333333333333,\"#9c179e\"],[0.4444444444444444,\"#bd3786\"],[0.5555555555555556,\"#d8576b\"],[0.6666666666666666,\"#ed7953\"],[0.7777777777777778,\"#fb9f3a\"],[0.8888888888888888,\"#fdca26\"],[1.0,\"#f0f921\"]],\"diverging\":[[0,\"#8e0152\"],[0.1,\"#c51b7d\"],[0.2,\"#de77ae\"],[0.3,\"#f1b6da\"],[0.4,\"#fde0ef\"],[0.5,\"#f7f7f7\"],[0.6,\"#e6f5d0\"],[0.7,\"#b8e186\"],[0.8,\"#7fbc41\"],[0.9,\"#4d9221\"],[1,\"#276419\"]]},\"xaxis\":{\"gridcolor\":\"white\",\"linecolor\":\"white\",\"ticks\":\"\",\"title\":{\"standoff\":15},\"zerolinecolor\":\"white\",\"automargin\":true,\"zerolinewidth\":2},\"yaxis\":{\"gridcolor\":\"white\",\"linecolor\":\"white\",\"ticks\":\"\",\"title\":{\"standoff\":15},\"zerolinecolor\":\"white\",\"automargin\":true,\"zerolinewidth\":2},\"scene\":{\"xaxis\":{\"backgroundcolor\":\"#E5ECF6\",\"gridcolor\":\"white\",\"linecolor\":\"white\",\"showbackground\":true,\"ticks\":\"\",\"zerolinecolor\":\"white\",\"gridwidth\":2},\"yaxis\":{\"backgroundcolor\":\"#E5ECF6\",\"gridcolor\":\"white\",\"linecolor\":\"white\",\"showbackground\":true,\"ticks\":\"\",\"zerolinecolor\":\"white\",\"gridwidth\":2},\"zaxis\":{\"backgroundcolor\":\"#E5ECF6\",\"gridcolor\":\"white\",\"linecolor\":\"white\",\"showbackground\":true,\"ticks\":\"\",\"zerolinecolor\":\"white\",\"gridwidth\":2}},\"shapedefaults\":{\"line\":{\"color\":\"#2a3f5f\"}},\"annotationdefaults\":{\"arrowcolor\":\"#2a3f5f\",\"arrowhead\":0,\"arrowwidth\":1},\"geo\":{\"bgcolor\":\"white\",\"landcolor\":\"#E5ECF6\",\"subunitcolor\":\"white\",\"showland\":true,\"showlakes\":true,\"lakecolor\":\"white\"},\"title\":{\"x\":0.05},\"mapbox\":{\"style\":\"light\"}}},\"xaxis\":{\"anchor\":\"y\",\"domain\":[0.0,1.0],\"scaleanchor\":\"y\",\"constrain\":\"domain\",\"side\":\"top\"},\"yaxis\":{\"anchor\":\"x\",\"domain\":[0.0,1.0],\"autorange\":\"reversed\",\"constrain\":\"domain\"},\"coloraxis\":{\"colorscale\":[[0.0,\"#0d0887\"],[0.1111111111111111,\"#46039f\"],[0.2222222222222222,\"#7201a8\"],[0.3333333333333333,\"#9c179e\"],[0.4444444444444444,\"#bd3786\"],[0.5555555555555556,\"#d8576b\"],[0.6666666666666666,\"#ed7953\"],[0.7777777777777778,\"#fb9f3a\"],[0.8888888888888888,\"#fdca26\"],[1.0,\"#f0f921\"]]},\"margin\":{\"t\":60}},                        {\"responsive\": true}                    ).then(function(){\n",
       "                            \n",
       "var gd = document.getElementById('7148e158-f658-4670-8e34-fca755f14ddb');\n",
       "var x = new MutationObserver(function (mutations, observer) {{\n",
       "        var display = window.getComputedStyle(gd).display;\n",
       "        if (!display || display === 'none') {{\n",
       "            console.log([gd, 'removed!']);\n",
       "            Plotly.purge(gd);\n",
       "            observer.disconnect();\n",
       "        }}\n",
       "}});\n",
       "\n",
       "// Listen for the removal of the full notebook cells\n",
       "var notebookContainer = gd.closest('#notebook-container');\n",
       "if (notebookContainer) {{\n",
       "    x.observe(notebookContainer, {childList: true});\n",
       "}}\n",
       "\n",
       "// Listen for the clearing of the current output cell\n",
       "var outputEl = gd.closest('.output');\n",
       "if (outputEl) {{\n",
       "    x.observe(outputEl, {childList: true});\n",
       "}}\n",
       "\n",
       "                        })                };                });            </script>        </div>"
      ]
     },
     "metadata": {},
     "output_type": "display_data"
    }
   ],
   "source": [
    "resultsl1_r = np.array(resultsl1_r)\n",
    "resultsl1_r = resultsl1_r.reshape([32,32])\n",
    "\n",
    "fig_r = px.imshow(resultsl1_r)\n",
    "fig_r.update_xaxes(side=\"top\")\n",
    "fig_r.show()"
   ]
  },
  {
   "cell_type": "code",
   "execution_count": 258,
   "id": "3f8bf6c6-9fc9-48ea-bc64-9db41accecb6",
   "metadata": {},
   "outputs": [
    {
     "data": {
      "application/vnd.plotly.v1+json": {
       "config": {
        "plotlyServerURL": "https://plot.ly"
       },
       "data": [
        {
         "coloraxis": "coloraxis",
         "hovertemplate": "x: %{x}<br>y: %{y}<br>color: %{z}<extra></extra>",
         "name": "0",
         "type": "heatmap",
         "xaxis": "x",
         "yaxis": "y",
         "z": [
          [
           0,
           0,
           0,
           0,
           0,
           0,
           0,
           0,
           0,
           0,
           -0.019320644719830055,
           -0.02542572848887739,
           0,
           -0.016092102487845816,
           0,
           0,
           0,
           0,
           -0.001425910384371032,
           0,
           0,
           0,
           0,
           0,
           0,
           0,
           0,
           0,
           0,
           0,
           0.10761411840740277,
           0.019327791636446698
          ],
          [
           0,
           0,
           0,
           0,
           0,
           0,
           0,
           0,
           -0.01672964784490713,
           0,
           -0.0004468106810477294,
           -0.0030988525756237674,
           0,
           0,
           0,
           0,
           -0.040531679229060515,
           0,
           0,
           0,
           0,
           0,
           0,
           0,
           0,
           0,
           0,
           0,
           0,
           0,
           0,
           0
          ],
          [
           0,
           0,
           0,
           0,
           0,
           0,
           0,
           0,
           -0.0316892557127091,
           0,
           0,
           0,
           0,
           0,
           0,
           0,
           -0.04363865125419767,
           -0.04408053021640045,
           0,
           0,
           0,
           0,
           0,
           0,
           0,
           0,
           0,
           0,
           0,
           0,
           0,
           0
          ],
          [
           0,
           0,
           0,
           0,
           0,
           -0.067106580185103,
           0,
           0,
           0,
           0,
           0,
           0,
           0,
           0,
           0,
           0,
           0,
           -0.0618321467093349,
           0,
           0,
           0,
           -0.009937841637399568,
           0,
           0,
           0,
           0,
           0,
           0,
           0,
           0,
           0,
           0
          ],
          [
           0,
           0,
           0,
           0,
           0,
           0,
           0,
           0,
           0,
           0,
           0,
           0.012849196177923666,
           0,
           0,
           0.05975707431425104,
           0.011331443015631543,
           0,
           0,
           0,
           0,
           0,
           0,
           0,
           -0.07459841931400107,
           0,
           0,
           0,
           0,
           0,
           0,
           0,
           0
          ],
          [
           0,
           0,
           0,
           0,
           0,
           0,
           0,
           0,
           0,
           0,
           0,
           0.05583278766217103,
           0,
           0,
           0,
           0,
           0,
           0,
           0,
           0.02020992638466721,
           0,
           0,
           0,
           0,
           0,
           0,
           0,
           0,
           0,
           0,
           0,
           0
          ],
          [
           0,
           0,
           0,
           0,
           0,
           0,
           0,
           0,
           0,
           0,
           0,
           0,
           -0.010965294145075228,
           0,
           0,
           0,
           0,
           0,
           0,
           0,
           0,
           0,
           0,
           0,
           0,
           0,
           0,
           0,
           0,
           0,
           0,
           0
          ],
          [
           0,
           0,
           0,
           -0.007970702007503947,
           0,
           0,
           0,
           0,
           0,
           0,
           0,
           0,
           -0.034509221461051974,
           0,
           0,
           0,
           0,
           0,
           0,
           0,
           0,
           0,
           0,
           0,
           0,
           0,
           0,
           0,
           0,
           0,
           0,
           0
          ],
          [
           0,
           0,
           0,
           -0.0040219223884510645,
           -0.0698302461002015,
           0,
           0,
           0,
           0,
           0,
           0,
           0,
           0,
           0,
           0,
           0,
           0,
           0,
           0,
           -0.021107832765705957,
           -0.022296884003451894,
           0,
           0,
           0,
           0,
           0,
           0,
           0,
           0,
           0,
           0,
           0
          ],
          [
           0,
           0,
           0,
           0,
           0,
           0,
           0,
           0,
           -0.04923605955511661,
           0,
           0,
           0,
           0,
           0,
           0,
           0,
           0,
           0,
           -0.023052081795937422,
           0,
           0,
           -0.0025120750328278428,
           -0.007316542334946129,
           0,
           0,
           0,
           0,
           0,
           0,
           0,
           0.015035148951925028,
           0
          ],
          [
           0,
           0,
           0,
           0,
           0,
           0,
           0,
           0,
           -0.024579525458121407,
           -0.003158288830533265,
           0,
           0,
           -0.028804391563733683,
           0,
           0,
           0,
           0,
           0,
           -0.011208855655248779,
           0,
           0,
           0,
           0,
           0,
           0,
           0,
           0,
           0,
           0,
           0,
           0,
           0
          ],
          [
           0,
           0,
           0.0029442764991188908,
           0,
           0,
           0,
           0,
           0,
           0,
           0,
           -0.026014962139788857,
           0,
           0,
           0,
           0,
           0,
           -0.04121447550792102,
           0,
           0,
           0,
           0,
           0,
           0,
           0,
           -0.001727337880275919,
           -0.02138105553230534,
           -0.023501870468898504,
           0,
           0,
           0,
           0,
           0
          ],
          [
           0.021840811182286216,
           0,
           0,
           0,
           -0.03607583334625022,
           0,
           0,
           -0.01654021028434203,
           -0.012718582224420386,
           0,
           0,
           0,
           0,
           0,
           0,
           -0.025941127352923372,
           -0.01343952381597369,
           0,
           -0.012552350123006751,
           0,
           0,
           0,
           0,
           0,
           0,
           0,
           0,
           0,
           0,
           0,
           -0.05081795824305279,
           0
          ],
          [
           0,
           0,
           0,
           0,
           0,
           0,
           0,
           0,
           -0.0006718533130872613,
           0,
           -0.00522167962634017,
           0,
           0,
           0,
           0,
           0,
           -0.01219403028926991,
           0,
           0,
           -0.10254048152704127,
           0,
           -0.008361728280549657,
           -0.03854286337281477,
           0,
           0,
           0,
           0,
           0,
           0,
           0,
           0,
           0
          ],
          [
           0,
           0,
           0,
           0,
           -0.008133441358703671,
           0,
           0,
           0,
           -0.0033634217813926313,
           0,
           0,
           0,
           0,
           0,
           0,
           0,
           0,
           -0.08108556673377826,
           0,
           0,
           0,
           0,
           0,
           0,
           0,
           -0.04208679586740204,
           -0.05511851588594094,
           0,
           0,
           0,
           0,
           0
          ],
          [
           0,
           0,
           0,
           0,
           0,
           0,
           0,
           0,
           0,
           0,
           -0.03022859065990957,
           -0.025112827311844957,
           0,
           0,
           -0.038000994532169104,
           0,
           0,
           0,
           0,
           0,
           -0.03292478786592191,
           0,
           0,
           0,
           0,
           0,
           0,
           0,
           0,
           0,
           0,
           0
          ],
          [
           0,
           0,
           0,
           0,
           0,
           0,
           0,
           0,
           -0.021957849648466976,
           0,
           -0.01063777864031659,
           0,
           0,
           0,
           0,
           0,
           0.025898429279378306,
           0.0012586107781544591,
           0,
           0,
           0,
           0,
           0,
           0,
           0,
           0,
           0,
           0,
           0,
           0,
           0,
           0.03391133112156486
          ],
          [
           0,
           0,
           0,
           0,
           0,
           0,
           0,
           0,
           -0.02329043067473273,
           0,
           0,
           0,
           0,
           0,
           0.0018491568786307081,
           0,
           0,
           0,
           0,
           0,
           0.00803966546747282,
           0,
           0,
           0,
           0,
           0,
           0,
           0,
           0,
           0,
           0.011125448602737354,
           0
          ],
          [
           0,
           0,
           0,
           0,
           0,
           0,
           0,
           0,
           0,
           0,
           0,
           0,
           0.03498151552419529,
           0,
           0,
           0,
           0,
           0,
           0,
           0,
           0,
           0.0034195683098087707,
           0,
           0,
           0,
           0,
           0,
           0,
           0,
           0,
           0,
           0.00426962600502465
          ],
          [
           0.07898147493853333,
           0,
           0,
           0,
           0,
           0,
           0,
           0,
           0,
           0,
           0,
           0,
           0,
           0,
           0.024799860267077173,
           0.056972541575356334,
           0,
           0,
           0,
           0,
           0,
           0,
           0,
           0,
           0,
           0,
           0,
           0,
           0,
           0,
           0,
           0
          ],
          [
           0,
           0,
           0,
           0,
           0,
           0,
           0,
           0,
           0,
           0,
           0,
           0,
           0,
           0,
           0,
           0,
           0.04984630791548503,
           0,
           0,
           0,
           0.043163735095473145,
           0,
           0,
           0,
           -0.028171605928280295,
           -0.02062910081113732,
           0,
           0,
           0,
           0,
           0,
           0
          ],
          [
           0,
           0,
           0,
           0,
           -0.07918406123858465,
           0,
           0,
           0,
           0,
           0,
           0,
           0,
           0,
           0,
           0,
           0,
           0.008573013430743936,
           0,
           0,
           0,
           0,
           0,
           0,
           0,
           0,
           0,
           0,
           0,
           0,
           0,
           0.025420935579452464,
           0.0027779564776637547
          ],
          [
           0.0668373385492516,
           0,
           0,
           0,
           0,
           0,
           0,
           0,
           -0.03373980633185417,
           0,
           0,
           0,
           -0.025392490392582505,
           0,
           0,
           0,
           0,
           0,
           0,
           0,
           0,
           0,
           0,
           0,
           0,
           0,
           0,
           0,
           0,
           0,
           0,
           0.10959505167180081
          ],
          [
           0,
           0,
           0,
           0,
           0,
           0,
           0,
           0,
           0,
           0,
           0,
           0,
           -0.0007954174300516817,
           0,
           0,
           0,
           0,
           0,
           0,
           0,
           0,
           0,
           0,
           0,
           0,
           -0.03540261597761099,
           0,
           -0.024928780835595264,
           0,
           0,
           0,
           0
          ],
          [
           0,
           0,
           0,
           0,
           0,
           0,
           0,
           0,
           0,
           -0.030925637497784673,
           0,
           0,
           0,
           0,
           0,
           0,
           0,
           0,
           0,
           0,
           0,
           0,
           0,
           0,
           0,
           0,
           -0.012104605767477699,
           0,
           0,
           0,
           0,
           0.0775892483995831
          ],
          [
           0,
           0,
           0,
           0,
           0,
           0,
           0,
           0,
           0,
           -0.0025659923039807867,
           0,
           0.048627398103487415,
           0,
           0,
           0,
           0,
           0,
           0,
           0,
           0,
           0,
           0,
           0,
           0,
           0,
           0,
           0,
           0,
           0,
           0,
           0,
           0
          ],
          [
           0,
           0,
           0,
           0,
           0,
           -0.015013045442172709,
           0,
           0,
           0,
           0,
           0,
           0,
           0,
           0,
           -0.022089404355436187,
           0,
           0,
           0,
           0,
           0,
           0,
           0,
           0,
           0,
           0,
           0,
           0,
           0,
           0.01247382455527158,
           0,
           0.0415323263490804,
           0
          ],
          [
           0.09770086689740856,
           0,
           0,
           0.018712057555303994,
           0,
           0,
           0,
           0,
           0,
           0,
           0,
           0,
           0,
           0,
           0,
           -0.00645998717052171,
           0,
           0,
           0,
           0,
           0,
           0,
           0.0037241759003439566,
           0,
           0,
           0,
           0,
           0,
           0.027450316118517462,
           0,
           0,
           0
          ],
          [
           0,
           0,
           0,
           0,
           0,
           0,
           0,
           0,
           0,
           0,
           0,
           0,
           0,
           -0.057280883645922626,
           0,
           -0.03398648940142503,
           -0.050655201209036174,
           0,
           0,
           0,
           0,
           0,
           0,
           0,
           0,
           0,
           -0.02871295746513819,
           0,
           0,
           0,
           0,
           0
          ],
          [
           0,
           0,
           0,
           0,
           0,
           0,
           0,
           0,
           0,
           0,
           0,
           0,
           0,
           0,
           -0.03832979839411999,
           0,
           0,
           0,
           0,
           0,
           0,
           0,
           0,
           0,
           0,
           0,
           -0.012693685679542861,
           0,
           0,
           0,
           0,
           0
          ],
          [
           0.12588586900644844,
           0,
           0,
           0,
           0,
           0,
           0,
           0,
           0,
           0,
           0,
           0,
           0,
           0,
           0,
           0,
           0,
           0,
           0,
           0,
           0,
           0,
           0,
           0,
           0,
           0,
           0,
           0,
           0,
           0,
           0.1735571181638554,
           0.04351990858292355
          ],
          [
           0.27168674289727096,
           0,
           0,
           0,
           0,
           0,
           0.0010292912459343012,
           0,
           0,
           0,
           0,
           0,
           0,
           0,
           0,
           0,
           0,
           0,
           0,
           0,
           0,
           0,
           0,
           0,
           0,
           0,
           0,
           0,
           0,
           0.049224687830191544,
           0,
           0.11056546115353884
          ]
         ]
        }
       ],
       "layout": {
        "autosize": true,
        "coloraxis": {
         "colorscale": [
          [
           0,
           "#0d0887"
          ],
          [
           0.1111111111111111,
           "#46039f"
          ],
          [
           0.2222222222222222,
           "#7201a8"
          ],
          [
           0.3333333333333333,
           "#9c179e"
          ],
          [
           0.4444444444444444,
           "#bd3786"
          ],
          [
           0.5555555555555556,
           "#d8576b"
          ],
          [
           0.6666666666666666,
           "#ed7953"
          ],
          [
           0.7777777777777778,
           "#fb9f3a"
          ],
          [
           0.8888888888888888,
           "#fdca26"
          ],
          [
           1,
           "#f0f921"
          ]
         ]
        },
        "margin": {
         "t": 60
        },
        "template": {
         "data": {
          "bar": [
           {
            "error_x": {
             "color": "#2a3f5f"
            },
            "error_y": {
             "color": "#2a3f5f"
            },
            "marker": {
             "line": {
              "color": "#E5ECF6",
              "width": 0.5
             },
             "pattern": {
              "fillmode": "overlay",
              "size": 10,
              "solidity": 0.2
             }
            },
            "type": "bar"
           }
          ],
          "barpolar": [
           {
            "marker": {
             "line": {
              "color": "#E5ECF6",
              "width": 0.5
             },
             "pattern": {
              "fillmode": "overlay",
              "size": 10,
              "solidity": 0.2
             }
            },
            "type": "barpolar"
           }
          ],
          "carpet": [
           {
            "aaxis": {
             "endlinecolor": "#2a3f5f",
             "gridcolor": "white",
             "linecolor": "white",
             "minorgridcolor": "white",
             "startlinecolor": "#2a3f5f"
            },
            "baxis": {
             "endlinecolor": "#2a3f5f",
             "gridcolor": "white",
             "linecolor": "white",
             "minorgridcolor": "white",
             "startlinecolor": "#2a3f5f"
            },
            "type": "carpet"
           }
          ],
          "choropleth": [
           {
            "colorbar": {
             "outlinewidth": 0,
             "ticks": ""
            },
            "type": "choropleth"
           }
          ],
          "contour": [
           {
            "colorbar": {
             "outlinewidth": 0,
             "ticks": ""
            },
            "colorscale": [
             [
              0,
              "#0d0887"
             ],
             [
              0.1111111111111111,
              "#46039f"
             ],
             [
              0.2222222222222222,
              "#7201a8"
             ],
             [
              0.3333333333333333,
              "#9c179e"
             ],
             [
              0.4444444444444444,
              "#bd3786"
             ],
             [
              0.5555555555555556,
              "#d8576b"
             ],
             [
              0.6666666666666666,
              "#ed7953"
             ],
             [
              0.7777777777777778,
              "#fb9f3a"
             ],
             [
              0.8888888888888888,
              "#fdca26"
             ],
             [
              1,
              "#f0f921"
             ]
            ],
            "type": "contour"
           }
          ],
          "contourcarpet": [
           {
            "colorbar": {
             "outlinewidth": 0,
             "ticks": ""
            },
            "type": "contourcarpet"
           }
          ],
          "heatmap": [
           {
            "colorbar": {
             "outlinewidth": 0,
             "ticks": ""
            },
            "colorscale": [
             [
              0,
              "#0d0887"
             ],
             [
              0.1111111111111111,
              "#46039f"
             ],
             [
              0.2222222222222222,
              "#7201a8"
             ],
             [
              0.3333333333333333,
              "#9c179e"
             ],
             [
              0.4444444444444444,
              "#bd3786"
             ],
             [
              0.5555555555555556,
              "#d8576b"
             ],
             [
              0.6666666666666666,
              "#ed7953"
             ],
             [
              0.7777777777777778,
              "#fb9f3a"
             ],
             [
              0.8888888888888888,
              "#fdca26"
             ],
             [
              1,
              "#f0f921"
             ]
            ],
            "type": "heatmap"
           }
          ],
          "heatmapgl": [
           {
            "colorbar": {
             "outlinewidth": 0,
             "ticks": ""
            },
            "colorscale": [
             [
              0,
              "#0d0887"
             ],
             [
              0.1111111111111111,
              "#46039f"
             ],
             [
              0.2222222222222222,
              "#7201a8"
             ],
             [
              0.3333333333333333,
              "#9c179e"
             ],
             [
              0.4444444444444444,
              "#bd3786"
             ],
             [
              0.5555555555555556,
              "#d8576b"
             ],
             [
              0.6666666666666666,
              "#ed7953"
             ],
             [
              0.7777777777777778,
              "#fb9f3a"
             ],
             [
              0.8888888888888888,
              "#fdca26"
             ],
             [
              1,
              "#f0f921"
             ]
            ],
            "type": "heatmapgl"
           }
          ],
          "histogram": [
           {
            "marker": {
             "pattern": {
              "fillmode": "overlay",
              "size": 10,
              "solidity": 0.2
             }
            },
            "type": "histogram"
           }
          ],
          "histogram2d": [
           {
            "colorbar": {
             "outlinewidth": 0,
             "ticks": ""
            },
            "colorscale": [
             [
              0,
              "#0d0887"
             ],
             [
              0.1111111111111111,
              "#46039f"
             ],
             [
              0.2222222222222222,
              "#7201a8"
             ],
             [
              0.3333333333333333,
              "#9c179e"
             ],
             [
              0.4444444444444444,
              "#bd3786"
             ],
             [
              0.5555555555555556,
              "#d8576b"
             ],
             [
              0.6666666666666666,
              "#ed7953"
             ],
             [
              0.7777777777777778,
              "#fb9f3a"
             ],
             [
              0.8888888888888888,
              "#fdca26"
             ],
             [
              1,
              "#f0f921"
             ]
            ],
            "type": "histogram2d"
           }
          ],
          "histogram2dcontour": [
           {
            "colorbar": {
             "outlinewidth": 0,
             "ticks": ""
            },
            "colorscale": [
             [
              0,
              "#0d0887"
             ],
             [
              0.1111111111111111,
              "#46039f"
             ],
             [
              0.2222222222222222,
              "#7201a8"
             ],
             [
              0.3333333333333333,
              "#9c179e"
             ],
             [
              0.4444444444444444,
              "#bd3786"
             ],
             [
              0.5555555555555556,
              "#d8576b"
             ],
             [
              0.6666666666666666,
              "#ed7953"
             ],
             [
              0.7777777777777778,
              "#fb9f3a"
             ],
             [
              0.8888888888888888,
              "#fdca26"
             ],
             [
              1,
              "#f0f921"
             ]
            ],
            "type": "histogram2dcontour"
           }
          ],
          "mesh3d": [
           {
            "colorbar": {
             "outlinewidth": 0,
             "ticks": ""
            },
            "type": "mesh3d"
           }
          ],
          "parcoords": [
           {
            "line": {
             "colorbar": {
              "outlinewidth": 0,
              "ticks": ""
             }
            },
            "type": "parcoords"
           }
          ],
          "pie": [
           {
            "automargin": true,
            "type": "pie"
           }
          ],
          "scatter": [
           {
            "fillpattern": {
             "fillmode": "overlay",
             "size": 10,
             "solidity": 0.2
            },
            "type": "scatter"
           }
          ],
          "scatter3d": [
           {
            "line": {
             "colorbar": {
              "outlinewidth": 0,
              "ticks": ""
             }
            },
            "marker": {
             "colorbar": {
              "outlinewidth": 0,
              "ticks": ""
             }
            },
            "type": "scatter3d"
           }
          ],
          "scattercarpet": [
           {
            "marker": {
             "colorbar": {
              "outlinewidth": 0,
              "ticks": ""
             }
            },
            "type": "scattercarpet"
           }
          ],
          "scattergeo": [
           {
            "marker": {
             "colorbar": {
              "outlinewidth": 0,
              "ticks": ""
             }
            },
            "type": "scattergeo"
           }
          ],
          "scattergl": [
           {
            "marker": {
             "colorbar": {
              "outlinewidth": 0,
              "ticks": ""
             }
            },
            "type": "scattergl"
           }
          ],
          "scattermapbox": [
           {
            "marker": {
             "colorbar": {
              "outlinewidth": 0,
              "ticks": ""
             }
            },
            "type": "scattermapbox"
           }
          ],
          "scatterpolar": [
           {
            "marker": {
             "colorbar": {
              "outlinewidth": 0,
              "ticks": ""
             }
            },
            "type": "scatterpolar"
           }
          ],
          "scatterpolargl": [
           {
            "marker": {
             "colorbar": {
              "outlinewidth": 0,
              "ticks": ""
             }
            },
            "type": "scatterpolargl"
           }
          ],
          "scatterternary": [
           {
            "marker": {
             "colorbar": {
              "outlinewidth": 0,
              "ticks": ""
             }
            },
            "type": "scatterternary"
           }
          ],
          "surface": [
           {
            "colorbar": {
             "outlinewidth": 0,
             "ticks": ""
            },
            "colorscale": [
             [
              0,
              "#0d0887"
             ],
             [
              0.1111111111111111,
              "#46039f"
             ],
             [
              0.2222222222222222,
              "#7201a8"
             ],
             [
              0.3333333333333333,
              "#9c179e"
             ],
             [
              0.4444444444444444,
              "#bd3786"
             ],
             [
              0.5555555555555556,
              "#d8576b"
             ],
             [
              0.6666666666666666,
              "#ed7953"
             ],
             [
              0.7777777777777778,
              "#fb9f3a"
             ],
             [
              0.8888888888888888,
              "#fdca26"
             ],
             [
              1,
              "#f0f921"
             ]
            ],
            "type": "surface"
           }
          ],
          "table": [
           {
            "cells": {
             "fill": {
              "color": "#EBF0F8"
             },
             "line": {
              "color": "white"
             }
            },
            "header": {
             "fill": {
              "color": "#C8D4E3"
             },
             "line": {
              "color": "white"
             }
            },
            "type": "table"
           }
          ]
         },
         "layout": {
          "annotationdefaults": {
           "arrowcolor": "#2a3f5f",
           "arrowhead": 0,
           "arrowwidth": 1
          },
          "autotypenumbers": "strict",
          "coloraxis": {
           "colorbar": {
            "outlinewidth": 0,
            "ticks": ""
           }
          },
          "colorscale": {
           "diverging": [
            [
             0,
             "#8e0152"
            ],
            [
             0.1,
             "#c51b7d"
            ],
            [
             0.2,
             "#de77ae"
            ],
            [
             0.3,
             "#f1b6da"
            ],
            [
             0.4,
             "#fde0ef"
            ],
            [
             0.5,
             "#f7f7f7"
            ],
            [
             0.6,
             "#e6f5d0"
            ],
            [
             0.7,
             "#b8e186"
            ],
            [
             0.8,
             "#7fbc41"
            ],
            [
             0.9,
             "#4d9221"
            ],
            [
             1,
             "#276419"
            ]
           ],
           "sequential": [
            [
             0,
             "#0d0887"
            ],
            [
             0.1111111111111111,
             "#46039f"
            ],
            [
             0.2222222222222222,
             "#7201a8"
            ],
            [
             0.3333333333333333,
             "#9c179e"
            ],
            [
             0.4444444444444444,
             "#bd3786"
            ],
            [
             0.5555555555555556,
             "#d8576b"
            ],
            [
             0.6666666666666666,
             "#ed7953"
            ],
            [
             0.7777777777777778,
             "#fb9f3a"
            ],
            [
             0.8888888888888888,
             "#fdca26"
            ],
            [
             1,
             "#f0f921"
            ]
           ],
           "sequentialminus": [
            [
             0,
             "#0d0887"
            ],
            [
             0.1111111111111111,
             "#46039f"
            ],
            [
             0.2222222222222222,
             "#7201a8"
            ],
            [
             0.3333333333333333,
             "#9c179e"
            ],
            [
             0.4444444444444444,
             "#bd3786"
            ],
            [
             0.5555555555555556,
             "#d8576b"
            ],
            [
             0.6666666666666666,
             "#ed7953"
            ],
            [
             0.7777777777777778,
             "#fb9f3a"
            ],
            [
             0.8888888888888888,
             "#fdca26"
            ],
            [
             1,
             "#f0f921"
            ]
           ]
          },
          "colorway": [
           "#636efa",
           "#EF553B",
           "#00cc96",
           "#ab63fa",
           "#FFA15A",
           "#19d3f3",
           "#FF6692",
           "#B6E880",
           "#FF97FF",
           "#FECB52"
          ],
          "font": {
           "color": "#2a3f5f"
          },
          "geo": {
           "bgcolor": "white",
           "lakecolor": "white",
           "landcolor": "#E5ECF6",
           "showlakes": true,
           "showland": true,
           "subunitcolor": "white"
          },
          "hoverlabel": {
           "align": "left"
          },
          "hovermode": "closest",
          "mapbox": {
           "style": "light"
          },
          "paper_bgcolor": "white",
          "plot_bgcolor": "#E5ECF6",
          "polar": {
           "angularaxis": {
            "gridcolor": "white",
            "linecolor": "white",
            "ticks": ""
           },
           "bgcolor": "#E5ECF6",
           "radialaxis": {
            "gridcolor": "white",
            "linecolor": "white",
            "ticks": ""
           }
          },
          "scene": {
           "xaxis": {
            "backgroundcolor": "#E5ECF6",
            "gridcolor": "white",
            "gridwidth": 2,
            "linecolor": "white",
            "showbackground": true,
            "ticks": "",
            "zerolinecolor": "white"
           },
           "yaxis": {
            "backgroundcolor": "#E5ECF6",
            "gridcolor": "white",
            "gridwidth": 2,
            "linecolor": "white",
            "showbackground": true,
            "ticks": "",
            "zerolinecolor": "white"
           },
           "zaxis": {
            "backgroundcolor": "#E5ECF6",
            "gridcolor": "white",
            "gridwidth": 2,
            "linecolor": "white",
            "showbackground": true,
            "ticks": "",
            "zerolinecolor": "white"
           }
          },
          "shapedefaults": {
           "line": {
            "color": "#2a3f5f"
           }
          },
          "ternary": {
           "aaxis": {
            "gridcolor": "white",
            "linecolor": "white",
            "ticks": ""
           },
           "baxis": {
            "gridcolor": "white",
            "linecolor": "white",
            "ticks": ""
           },
           "bgcolor": "#E5ECF6",
           "caxis": {
            "gridcolor": "white",
            "linecolor": "white",
            "ticks": ""
           }
          },
          "title": {
           "x": 0.05
          },
          "xaxis": {
           "automargin": true,
           "gridcolor": "white",
           "linecolor": "white",
           "ticks": "",
           "title": {
            "standoff": 15
           },
           "zerolinecolor": "white",
           "zerolinewidth": 2
          },
          "yaxis": {
           "automargin": true,
           "gridcolor": "white",
           "linecolor": "white",
           "ticks": "",
           "title": {
            "standoff": 15
           },
           "zerolinecolor": "white",
           "zerolinewidth": 2
          }
         }
        },
        "xaxis": {
         "anchor": "y",
         "autorange": true,
         "constrain": "domain",
         "domain": [
          0.36650485436893204,
          0.633495145631068
         ],
         "range": [
          -0.5,
          31.5
         ],
         "scaleanchor": "y",
         "side": "top"
        },
        "yaxis": {
         "anchor": "x",
         "autorange": true,
         "constrain": "domain",
         "domain": [
          0,
          1
         ],
         "range": [
          31.5,
          -0.5
         ]
        }
       }
      },
      "image/png": "[encoded data removed]",
      "text/html": [
       "<div>                            <div id=\"d23b7494-b84f-4eb4-85a1-de2ba923070b\" class=\"plotly-graph-div\" style=\"height:525px; width:100%;\"></div>            <script type=\"text/javascript\">                require([\"plotly\"], function(Plotly) {                    window.PLOTLYENV=window.PLOTLYENV || {};                                    if (document.getElementById(\"d23b7494-b84f-4eb4-85a1-de2ba923070b\")) {                    Plotly.newPlot(                        \"d23b7494-b84f-4eb4-85a1-de2ba923070b\",                        [{\"coloraxis\":\"coloraxis\",\"name\":\"0\",\"z\":[[0.0,0.0,0.0,0.0,0.0,0.0,0.0,0.0,0.0,0.0,-0.019320644719830055,-0.02542572848887739,0.0,-0.016092102487845816,0.0,0.0,0.0,0.0,-0.001425910384371032,0.0,0.0,0.0,0.0,0.0,0.0,0.0,0.0,0.0,0.0,0.0,0.10761411840740277,0.019327791636446698],[0.0,0.0,0.0,0.0,0.0,0.0,0.0,0.0,-0.01672964784490713,0.0,-0.0004468106810477294,-0.0030988525756237674,0.0,0.0,0.0,0.0,-0.040531679229060515,0.0,0.0,0.0,0.0,0.0,0.0,0.0,0.0,0.0,0.0,0.0,0.0,0.0,0.0,0.0],[0.0,0.0,0.0,0.0,0.0,0.0,0.0,0.0,-0.0316892557127091,0.0,0.0,0.0,0.0,0.0,0.0,0.0,-0.04363865125419767,-0.04408053021640045,0.0,0.0,0.0,0.0,0.0,0.0,0.0,0.0,0.0,0.0,0.0,0.0,0.0,0.0],[0.0,0.0,0.0,0.0,0.0,-0.067106580185103,0.0,0.0,0.0,0.0,0.0,0.0,0.0,0.0,0.0,0.0,0.0,-0.0618321467093349,0.0,0.0,0.0,-0.009937841637399568,0.0,0.0,0.0,0.0,0.0,0.0,0.0,0.0,0.0,0.0],[0.0,0.0,0.0,0.0,0.0,0.0,0.0,0.0,0.0,0.0,0.0,0.012849196177923666,0.0,0.0,0.05975707431425104,0.011331443015631543,0.0,0.0,0.0,0.0,0.0,0.0,0.0,-0.07459841931400107,0.0,0.0,0.0,0.0,0.0,0.0,0.0,0.0],[0.0,0.0,0.0,0.0,0.0,0.0,0.0,0.0,0.0,0.0,0.0,0.05583278766217103,0.0,0.0,0.0,0.0,0.0,0.0,0.0,0.02020992638466721,0.0,0.0,0.0,0.0,0.0,0.0,0.0,0.0,0.0,0.0,0.0,0.0],[0.0,0.0,0.0,0.0,0.0,0.0,0.0,0.0,0.0,0.0,0.0,0.0,-0.010965294145075228,0.0,0.0,0.0,0.0,0.0,0.0,0.0,0.0,0.0,0.0,0.0,0.0,0.0,0.0,0.0,0.0,0.0,0.0,0.0],[0.0,0.0,0.0,-0.007970702007503947,0.0,0.0,0.0,0.0,0.0,0.0,0.0,0.0,-0.034509221461051974,0.0,0.0,0.0,0.0,0.0,0.0,0.0,0.0,0.0,0.0,0.0,0.0,0.0,0.0,0.0,0.0,0.0,0.0,0.0],[0.0,0.0,0.0,-0.0040219223884510645,-0.0698302461002015,0.0,0.0,0.0,0.0,0.0,0.0,0.0,0.0,0.0,0.0,0.0,0.0,0.0,0.0,-0.021107832765705957,-0.022296884003451894,0.0,0.0,0.0,0.0,0.0,0.0,0.0,0.0,0.0,0.0,0.0],[0.0,0.0,0.0,0.0,0.0,0.0,0.0,0.0,-0.04923605955511661,0.0,0.0,0.0,0.0,0.0,0.0,0.0,0.0,0.0,-0.023052081795937422,0.0,0.0,-0.0025120750328278428,-0.007316542334946129,0.0,0.0,0.0,0.0,0.0,0.0,0.0,0.015035148951925028,0.0],[0.0,0.0,0.0,0.0,0.0,0.0,0.0,0.0,-0.024579525458121407,-0.003158288830533265,0.0,0.0,-0.028804391563733683,0.0,0.0,0.0,0.0,0.0,-0.011208855655248779,0.0,0.0,0.0,0.0,0.0,0.0,0.0,0.0,0.0,0.0,0.0,0.0,0.0],[0.0,0.0,0.0029442764991188908,0.0,0.0,0.0,0.0,0.0,0.0,0.0,-0.026014962139788857,0.0,0.0,0.0,0.0,0.0,-0.04121447550792102,0.0,0.0,0.0,0.0,0.0,0.0,0.0,-0.001727337880275919,-0.02138105553230534,-0.023501870468898504,0.0,0.0,0.0,0.0,0.0],[0.021840811182286216,0.0,0.0,0.0,-0.03607583334625022,0.0,0.0,-0.01654021028434203,-0.012718582224420386,0.0,0.0,0.0,0.0,0.0,0.0,-0.025941127352923372,-0.01343952381597369,0.0,-0.012552350123006751,0.0,0.0,0.0,0.0,0.0,0.0,0.0,0.0,0.0,0.0,0.0,-0.05081795824305279,0.0],[0.0,0.0,0.0,0.0,0.0,0.0,0.0,0.0,-0.0006718533130872613,0.0,-0.00522167962634017,0.0,0.0,0.0,0.0,0.0,-0.01219403028926991,0.0,0.0,-0.10254048152704127,0.0,-0.008361728280549657,-0.03854286337281477,0.0,0.0,0.0,0.0,0.0,0.0,0.0,0.0,0.0],[0.0,0.0,0.0,0.0,-0.008133441358703671,0.0,0.0,0.0,-0.0033634217813926313,0.0,0.0,0.0,0.0,0.0,0.0,0.0,0.0,-0.08108556673377826,0.0,0.0,0.0,0.0,0.0,0.0,0.0,-0.04208679586740204,-0.05511851588594094,0.0,0.0,0.0,0.0,0.0],[0.0,0.0,0.0,0.0,0.0,0.0,0.0,0.0,0.0,0.0,-0.03022859065990957,-0.025112827311844957,0.0,0.0,-0.038000994532169104,0.0,0.0,0.0,0.0,0.0,-0.03292478786592191,0.0,0.0,0.0,0.0,0.0,0.0,0.0,0.0,0.0,0.0,0.0],[0.0,0.0,0.0,0.0,0.0,0.0,0.0,0.0,-0.021957849648466976,0.0,-0.01063777864031659,0.0,0.0,0.0,0.0,0.0,0.025898429279378306,0.0012586107781544591,0.0,0.0,0.0,0.0,0.0,0.0,0.0,0.0,0.0,0.0,0.0,0.0,0.0,0.03391133112156486],[0.0,0.0,0.0,0.0,0.0,0.0,0.0,0.0,-0.02329043067473273,0.0,0.0,0.0,0.0,0.0,0.0018491568786307081,0.0,0.0,0.0,0.0,0.0,0.00803966546747282,0.0,0.0,0.0,0.0,0.0,0.0,0.0,0.0,0.0,0.011125448602737354,0.0],[0.0,0.0,0.0,0.0,0.0,0.0,0.0,0.0,0.0,0.0,0.0,0.0,0.03498151552419529,0.0,0.0,0.0,0.0,0.0,0.0,0.0,0.0,0.0034195683098087707,0.0,0.0,0.0,0.0,0.0,0.0,0.0,0.0,0.0,0.00426962600502465],[0.07898147493853333,0.0,0.0,0.0,0.0,0.0,0.0,0.0,0.0,0.0,0.0,0.0,0.0,0.0,0.024799860267077173,0.056972541575356334,0.0,0.0,0.0,0.0,0.0,0.0,0.0,0.0,0.0,0.0,0.0,0.0,0.0,0.0,0.0,0.0],[0.0,0.0,0.0,0.0,0.0,0.0,0.0,0.0,0.0,0.0,0.0,0.0,0.0,0.0,0.0,0.0,0.04984630791548503,0.0,0.0,0.0,0.043163735095473145,0.0,0.0,0.0,-0.028171605928280295,-0.02062910081113732,0.0,0.0,0.0,0.0,0.0,0.0],[0.0,0.0,0.0,0.0,-0.07918406123858465,0.0,0.0,0.0,0.0,0.0,0.0,0.0,0.0,0.0,0.0,0.0,0.008573013430743936,0.0,0.0,0.0,0.0,0.0,0.0,0.0,0.0,0.0,0.0,0.0,0.0,0.0,0.025420935579452464,0.0027779564776637547],[0.0668373385492516,0.0,0.0,0.0,0.0,0.0,0.0,0.0,-0.03373980633185417,0.0,0.0,0.0,-0.025392490392582505,0.0,0.0,0.0,0.0,0.0,0.0,0.0,0.0,0.0,0.0,0.0,0.0,0.0,0.0,0.0,0.0,0.0,0.0,0.10959505167180081],[0.0,0.0,0.0,0.0,0.0,0.0,0.0,0.0,0.0,0.0,0.0,0.0,-0.0007954174300516817,0.0,0.0,0.0,0.0,0.0,0.0,0.0,0.0,0.0,0.0,0.0,0.0,-0.03540261597761099,0.0,-0.024928780835595264,0.0,0.0,0.0,0.0],[0.0,0.0,0.0,0.0,0.0,0.0,0.0,0.0,0.0,-0.030925637497784673,0.0,0.0,0.0,0.0,0.0,0.0,0.0,0.0,0.0,0.0,0.0,0.0,0.0,0.0,0.0,0.0,-0.012104605767477699,0.0,0.0,0.0,0.0,0.0775892483995831],[0.0,0.0,0.0,0.0,0.0,0.0,0.0,0.0,0.0,-0.0025659923039807867,0.0,0.048627398103487415,0.0,0.0,0.0,0.0,0.0,0.0,0.0,0.0,0.0,0.0,0.0,0.0,0.0,0.0,0.0,0.0,0.0,0.0,0.0,0.0],[0.0,0.0,0.0,0.0,0.0,-0.015013045442172709,0.0,0.0,0.0,0.0,0.0,0.0,0.0,0.0,-0.022089404355436187,0.0,0.0,0.0,0.0,0.0,0.0,0.0,0.0,0.0,0.0,0.0,0.0,0.0,0.01247382455527158,0.0,0.0415323263490804,0.0],[0.09770086689740856,0.0,0.0,0.018712057555303994,0.0,0.0,0.0,0.0,0.0,0.0,0.0,0.0,0.0,0.0,0.0,-0.00645998717052171,0.0,0.0,0.0,0.0,0.0,0.0,0.0037241759003439566,0.0,0.0,0.0,0.0,0.0,0.027450316118517462,0.0,0.0,0.0],[0.0,0.0,0.0,0.0,0.0,0.0,0.0,0.0,0.0,0.0,0.0,0.0,0.0,-0.057280883645922626,0.0,-0.03398648940142503,-0.050655201209036174,0.0,0.0,0.0,0.0,0.0,0.0,0.0,0.0,0.0,-0.02871295746513819,0.0,0.0,0.0,0.0,0.0],[0.0,0.0,0.0,0.0,0.0,0.0,0.0,0.0,0.0,0.0,0.0,0.0,0.0,0.0,-0.03832979839411999,0.0,0.0,0.0,0.0,0.0,0.0,0.0,0.0,0.0,0.0,0.0,-0.012693685679542861,0.0,0.0,0.0,0.0,0.0],[0.12588586900644844,0.0,0.0,0.0,0.0,0.0,0.0,0.0,0.0,0.0,0.0,0.0,0.0,0.0,0.0,0.0,0.0,0.0,0.0,0.0,0.0,0.0,0.0,0.0,0.0,0.0,0.0,0.0,0.0,0.0,0.1735571181638554,0.04351990858292355],[0.27168674289727096,0.0,0.0,0.0,0.0,0.0,0.0010292912459343012,0.0,0.0,0.0,0.0,0.0,0.0,0.0,0.0,0.0,0.0,0.0,0.0,0.0,0.0,0.0,0.0,0.0,0.0,0.0,0.0,0.0,0.0,0.049224687830191544,0.0,0.11056546115353884]],\"type\":\"heatmap\",\"xaxis\":\"x\",\"yaxis\":\"y\",\"hovertemplate\":\"x: %{x}<br>y: %{y}<br>color: %{z}<extra></extra>\"}],                        {\"template\":{\"data\":{\"histogram2dcontour\":[{\"type\":\"histogram2dcontour\",\"colorbar\":{\"outlinewidth\":0,\"ticks\":\"\"},\"colorscale\":[[0.0,\"#0d0887\"],[0.1111111111111111,\"#46039f\"],[0.2222222222222222,\"#7201a8\"],[0.3333333333333333,\"#9c179e\"],[0.4444444444444444,\"#bd3786\"],[0.5555555555555556,\"#d8576b\"],[0.6666666666666666,\"#ed7953\"],[0.7777777777777778,\"#fb9f3a\"],[0.8888888888888888,\"#fdca26\"],[1.0,\"#f0f921\"]]}],\"choropleth\":[{\"type\":\"choropleth\",\"colorbar\":{\"outlinewidth\":0,\"ticks\":\"\"}}],\"histogram2d\":[{\"type\":\"histogram2d\",\"colorbar\":{\"outlinewidth\":0,\"ticks\":\"\"},\"colorscale\":[[0.0,\"#0d0887\"],[0.1111111111111111,\"#46039f\"],[0.2222222222222222,\"#7201a8\"],[0.3333333333333333,\"#9c179e\"],[0.4444444444444444,\"#bd3786\"],[0.5555555555555556,\"#d8576b\"],[0.6666666666666666,\"#ed7953\"],[0.7777777777777778,\"#fb9f3a\"],[0.8888888888888888,\"#fdca26\"],[1.0,\"#f0f921\"]]}],\"heatmap\":[{\"type\":\"heatmap\",\"colorbar\":{\"outlinewidth\":0,\"ticks\":\"\"},\"colorscale\":[[0.0,\"#0d0887\"],[0.1111111111111111,\"#46039f\"],[0.2222222222222222,\"#7201a8\"],[0.3333333333333333,\"#9c179e\"],[0.4444444444444444,\"#bd3786\"],[0.5555555555555556,\"#d8576b\"],[0.6666666666666666,\"#ed7953\"],[0.7777777777777778,\"#fb9f3a\"],[0.8888888888888888,\"#fdca26\"],[1.0,\"#f0f921\"]]}],\"heatmapgl\":[{\"type\":\"heatmapgl\",\"colorbar\":{\"outlinewidth\":0,\"ticks\":\"\"},\"colorscale\":[[0.0,\"#0d0887\"],[0.1111111111111111,\"#46039f\"],[0.2222222222222222,\"#7201a8\"],[0.3333333333333333,\"#9c179e\"],[0.4444444444444444,\"#bd3786\"],[0.5555555555555556,\"#d8576b\"],[0.6666666666666666,\"#ed7953\"],[0.7777777777777778,\"#fb9f3a\"],[0.8888888888888888,\"#fdca26\"],[1.0,\"#f0f921\"]]}],\"contourcarpet\":[{\"type\":\"contourcarpet\",\"colorbar\":{\"outlinewidth\":0,\"ticks\":\"\"}}],\"contour\":[{\"type\":\"contour\",\"colorbar\":{\"outlinewidth\":0,\"ticks\":\"\"},\"colorscale\":[[0.0,\"#0d0887\"],[0.1111111111111111,\"#46039f\"],[0.2222222222222222,\"#7201a8\"],[0.3333333333333333,\"#9c179e\"],[0.4444444444444444,\"#bd3786\"],[0.5555555555555556,\"#d8576b\"],[0.6666666666666666,\"#ed7953\"],[0.7777777777777778,\"#fb9f3a\"],[0.8888888888888888,\"#fdca26\"],[1.0,\"#f0f921\"]]}],\"surface\":[{\"type\":\"surface\",\"colorbar\":{\"outlinewidth\":0,\"ticks\":\"\"},\"colorscale\":[[0.0,\"#0d0887\"],[0.1111111111111111,\"#46039f\"],[0.2222222222222222,\"#7201a8\"],[0.3333333333333333,\"#9c179e\"],[0.4444444444444444,\"#bd3786\"],[0.5555555555555556,\"#d8576b\"],[0.6666666666666666,\"#ed7953\"],[0.7777777777777778,\"#fb9f3a\"],[0.8888888888888888,\"#fdca26\"],[1.0,\"#f0f921\"]]}],\"mesh3d\":[{\"type\":\"mesh3d\",\"colorbar\":{\"outlinewidth\":0,\"ticks\":\"\"}}],\"scatter\":[{\"fillpattern\":{\"fillmode\":\"overlay\",\"size\":10,\"solidity\":0.2},\"type\":\"scatter\"}],\"parcoords\":[{\"type\":\"parcoords\",\"line\":{\"colorbar\":{\"outlinewidth\":0,\"ticks\":\"\"}}}],\"scatterpolargl\":[{\"type\":\"scatterpolargl\",\"marker\":{\"colorbar\":{\"outlinewidth\":0,\"ticks\":\"\"}}}],\"bar\":[{\"error_x\":{\"color\":\"#2a3f5f\"},\"error_y\":{\"color\":\"#2a3f5f\"},\"marker\":{\"line\":{\"color\":\"#E5ECF6\",\"width\":0.5},\"pattern\":{\"fillmode\":\"overlay\",\"size\":10,\"solidity\":0.2}},\"type\":\"bar\"}],\"scattergeo\":[{\"type\":\"scattergeo\",\"marker\":{\"colorbar\":{\"outlinewidth\":0,\"ticks\":\"\"}}}],\"scatterpolar\":[{\"type\":\"scatterpolar\",\"marker\":{\"colorbar\":{\"outlinewidth\":0,\"ticks\":\"\"}}}],\"histogram\":[{\"marker\":{\"pattern\":{\"fillmode\":\"overlay\",\"size\":10,\"solidity\":0.2}},\"type\":\"histogram\"}],\"scattergl\":[{\"type\":\"scattergl\",\"marker\":{\"colorbar\":{\"outlinewidth\":0,\"ticks\":\"\"}}}],\"scatter3d\":[{\"type\":\"scatter3d\",\"line\":{\"colorbar\":{\"outlinewidth\":0,\"ticks\":\"\"}},\"marker\":{\"colorbar\":{\"outlinewidth\":0,\"ticks\":\"\"}}}],\"scattermapbox\":[{\"type\":\"scattermapbox\",\"marker\":{\"colorbar\":{\"outlinewidth\":0,\"ticks\":\"\"}}}],\"scatterternary\":[{\"type\":\"scatterternary\",\"marker\":{\"colorbar\":{\"outlinewidth\":0,\"ticks\":\"\"}}}],\"scattercarpet\":[{\"type\":\"scattercarpet\",\"marker\":{\"colorbar\":{\"outlinewidth\":0,\"ticks\":\"\"}}}],\"carpet\":[{\"aaxis\":{\"endlinecolor\":\"#2a3f5f\",\"gridcolor\":\"white\",\"linecolor\":\"white\",\"minorgridcolor\":\"white\",\"startlinecolor\":\"#2a3f5f\"},\"baxis\":{\"endlinecolor\":\"#2a3f5f\",\"gridcolor\":\"white\",\"linecolor\":\"white\",\"minorgridcolor\":\"white\",\"startlinecolor\":\"#2a3f5f\"},\"type\":\"carpet\"}],\"table\":[{\"cells\":{\"fill\":{\"color\":\"#EBF0F8\"},\"line\":{\"color\":\"white\"}},\"header\":{\"fill\":{\"color\":\"#C8D4E3\"},\"line\":{\"color\":\"white\"}},\"type\":\"table\"}],\"barpolar\":[{\"marker\":{\"line\":{\"color\":\"#E5ECF6\",\"width\":0.5},\"pattern\":{\"fillmode\":\"overlay\",\"size\":10,\"solidity\":0.2}},\"type\":\"barpolar\"}],\"pie\":[{\"automargin\":true,\"type\":\"pie\"}]},\"layout\":{\"autotypenumbers\":\"strict\",\"colorway\":[\"#636efa\",\"#EF553B\",\"#00cc96\",\"#ab63fa\",\"#FFA15A\",\"#19d3f3\",\"#FF6692\",\"#B6E880\",\"#FF97FF\",\"#FECB52\"],\"font\":{\"color\":\"#2a3f5f\"},\"hovermode\":\"closest\",\"hoverlabel\":{\"align\":\"left\"},\"paper_bgcolor\":\"white\",\"plot_bgcolor\":\"#E5ECF6\",\"polar\":{\"bgcolor\":\"#E5ECF6\",\"angularaxis\":{\"gridcolor\":\"white\",\"linecolor\":\"white\",\"ticks\":\"\"},\"radialaxis\":{\"gridcolor\":\"white\",\"linecolor\":\"white\",\"ticks\":\"\"}},\"ternary\":{\"bgcolor\":\"#E5ECF6\",\"aaxis\":{\"gridcolor\":\"white\",\"linecolor\":\"white\",\"ticks\":\"\"},\"baxis\":{\"gridcolor\":\"white\",\"linecolor\":\"white\",\"ticks\":\"\"},\"caxis\":{\"gridcolor\":\"white\",\"linecolor\":\"white\",\"ticks\":\"\"}},\"coloraxis\":{\"colorbar\":{\"outlinewidth\":0,\"ticks\":\"\"}},\"colorscale\":{\"sequential\":[[0.0,\"#0d0887\"],[0.1111111111111111,\"#46039f\"],[0.2222222222222222,\"#7201a8\"],[0.3333333333333333,\"#9c179e\"],[0.4444444444444444,\"#bd3786\"],[0.5555555555555556,\"#d8576b\"],[0.6666666666666666,\"#ed7953\"],[0.7777777777777778,\"#fb9f3a\"],[0.8888888888888888,\"#fdca26\"],[1.0,\"#f0f921\"]],\"sequentialminus\":[[0.0,\"#0d0887\"],[0.1111111111111111,\"#46039f\"],[0.2222222222222222,\"#7201a8\"],[0.3333333333333333,\"#9c179e\"],[0.4444444444444444,\"#bd3786\"],[0.5555555555555556,\"#d8576b\"],[0.6666666666666666,\"#ed7953\"],[0.7777777777777778,\"#fb9f3a\"],[0.8888888888888888,\"#fdca26\"],[1.0,\"#f0f921\"]],\"diverging\":[[0,\"#8e0152\"],[0.1,\"#c51b7d\"],[0.2,\"#de77ae\"],[0.3,\"#f1b6da\"],[0.4,\"#fde0ef\"],[0.5,\"#f7f7f7\"],[0.6,\"#e6f5d0\"],[0.7,\"#b8e186\"],[0.8,\"#7fbc41\"],[0.9,\"#4d9221\"],[1,\"#276419\"]]},\"xaxis\":{\"gridcolor\":\"white\",\"linecolor\":\"white\",\"ticks\":\"\",\"title\":{\"standoff\":15},\"zerolinecolor\":\"white\",\"automargin\":true,\"zerolinewidth\":2},\"yaxis\":{\"gridcolor\":\"white\",\"linecolor\":\"white\",\"ticks\":\"\",\"title\":{\"standoff\":15},\"zerolinecolor\":\"white\",\"automargin\":true,\"zerolinewidth\":2},\"scene\":{\"xaxis\":{\"backgroundcolor\":\"#E5ECF6\",\"gridcolor\":\"white\",\"linecolor\":\"white\",\"showbackground\":true,\"ticks\":\"\",\"zerolinecolor\":\"white\",\"gridwidth\":2},\"yaxis\":{\"backgroundcolor\":\"#E5ECF6\",\"gridcolor\":\"white\",\"linecolor\":\"white\",\"showbackground\":true,\"ticks\":\"\",\"zerolinecolor\":\"white\",\"gridwidth\":2},\"zaxis\":{\"backgroundcolor\":\"#E5ECF6\",\"gridcolor\":\"white\",\"linecolor\":\"white\",\"showbackground\":true,\"ticks\":\"\",\"zerolinecolor\":\"white\",\"gridwidth\":2}},\"shapedefaults\":{\"line\":{\"color\":\"#2a3f5f\"}},\"annotationdefaults\":{\"arrowcolor\":\"#2a3f5f\",\"arrowhead\":0,\"arrowwidth\":1},\"geo\":{\"bgcolor\":\"white\",\"landcolor\":\"#E5ECF6\",\"subunitcolor\":\"white\",\"showland\":true,\"showlakes\":true,\"lakecolor\":\"white\"},\"title\":{\"x\":0.05},\"mapbox\":{\"style\":\"light\"}}},\"xaxis\":{\"anchor\":\"y\",\"domain\":[0.0,1.0],\"scaleanchor\":\"y\",\"constrain\":\"domain\",\"side\":\"top\"},\"yaxis\":{\"anchor\":\"x\",\"domain\":[0.0,1.0],\"autorange\":\"reversed\",\"constrain\":\"domain\"},\"coloraxis\":{\"colorscale\":[[0.0,\"#0d0887\"],[0.1111111111111111,\"#46039f\"],[0.2222222222222222,\"#7201a8\"],[0.3333333333333333,\"#9c179e\"],[0.4444444444444444,\"#bd3786\"],[0.5555555555555556,\"#d8576b\"],[0.6666666666666666,\"#ed7953\"],[0.7777777777777778,\"#fb9f3a\"],[0.8888888888888888,\"#fdca26\"],[1.0,\"#f0f921\"]]},\"margin\":{\"t\":60}},                        {\"responsive\": true}                    ).then(function(){\n",
       "                            \n",
       "var gd = document.getElementById('d23b7494-b84f-4eb4-85a1-de2ba923070b');\n",
       "var x = new MutationObserver(function (mutations, observer) {{\n",
       "        var display = window.getComputedStyle(gd).display;\n",
       "        if (!display || display === 'none') {{\n",
       "            console.log([gd, 'removed!']);\n",
       "            Plotly.purge(gd);\n",
       "            observer.disconnect();\n",
       "        }}\n",
       "}});\n",
       "\n",
       "// Listen for the removal of the full notebook cells\n",
       "var notebookContainer = gd.closest('#notebook-container');\n",
       "if (notebookContainer) {{\n",
       "    x.observe(notebookContainer, {childList: true});\n",
       "}}\n",
       "\n",
       "// Listen for the clearing of the current output cell\n",
       "var outputEl = gd.closest('.output');\n",
       "if (outputEl) {{\n",
       "    x.observe(outputEl, {childList: true});\n",
       "}}\n",
       "\n",
       "                        })                };                });            </script>        </div>"
      ]
     },
     "metadata": {},
     "output_type": "display_data"
    }
   ],
   "source": [
    "resultsl1_g = np.array(resultsl1_g)\n",
    "resultsl1_g = resultsl1_g.reshape([32,32])\n",
    "\n",
    "fig_g = px.imshow(resultsl1_g)\n",
    "fig_g.update_xaxes(side=\"top\")\n",
    "fig_g.show()"
   ]
  },
  {
   "cell_type": "code",
   "execution_count": 259,
   "id": "8131f231-418a-4489-8462-cc8abe9e1287",
   "metadata": {},
   "outputs": [
    {
     "data": {
      "application/vnd.plotly.v1+json": {
       "config": {
        "plotlyServerURL": "https://plot.ly"
       },
       "data": [
        {
         "coloraxis": "coloraxis",
         "hovertemplate": "x: %{x}<br>y: %{y}<br>color: %{z}<extra></extra>",
         "name": "0",
         "type": "heatmap",
         "xaxis": "x",
         "yaxis": "y",
         "z": [
          [
           0,
           0,
           0,
           0,
           0,
           0,
           0,
           0,
           0,
           0,
           0,
           0,
           0,
           0,
           0,
           0,
           0,
           0,
           0,
           0,
           0,
           0,
           0,
           0,
           0,
           0,
           0.012029265433144691,
           0,
           0,
           0,
           0,
           0
          ],
          [
           0,
           0,
           0,
           0,
           0,
           0,
           0,
           0,
           0,
           0,
           0,
           0,
           0,
           0,
           0,
           0,
           0,
           0,
           0,
           0,
           0,
           0,
           0,
           0,
           0,
           0,
           0,
           0,
           0,
           0,
           0,
           0
          ],
          [
           0,
           0,
           0,
           0,
           0,
           0,
           0,
           0,
           0,
           0,
           0,
           0,
           0,
           0,
           0,
           0,
           0,
           0,
           0,
           0,
           0,
           0,
           0,
           0,
           0,
           0,
           0,
           0,
           0,
           0,
           0.030646486786525068,
           0
          ],
          [
           0,
           0,
           0,
           0,
           0,
           0,
           0,
           0,
           0,
           0,
           0,
           0,
           0,
           0,
           0,
           0,
           0,
           0,
           0,
           0,
           0,
           0,
           0,
           0,
           0.049193738290522177,
           0,
           0,
           0.010572179212854171,
           0,
           0,
           0,
           0
          ],
          [
           0,
           0,
           0,
           0,
           0,
           0,
           0,
           0,
           0,
           0,
           0,
           0,
           0,
           0,
           0,
           0,
           0,
           0,
           0,
           0,
           0,
           0,
           0,
           0,
           0,
           0,
           0,
           0,
           0,
           0,
           0,
           0
          ],
          [
           0,
           0,
           0,
           0,
           0,
           0,
           0,
           0,
           0,
           0,
           0,
           0,
           0,
           0,
           0,
           0,
           0,
           0,
           0,
           0,
           0,
           0,
           0,
           0,
           0,
           0,
           0,
           0,
           0,
           0,
           0,
           0
          ],
          [
           0,
           0,
           0,
           0,
           0,
           0,
           0,
           0,
           0,
           0,
           0,
           0,
           0,
           0,
           0,
           0,
           0,
           0,
           -0.01673290961242234,
           0,
           0,
           0,
           -0.03680128721064877,
           0,
           0,
           0,
           0,
           0,
           0,
           0,
           0,
           0
          ],
          [
           0.037422547566192045,
           0,
           0,
           0,
           0,
           0,
           0,
           0,
           0,
           0,
           0,
           0,
           0,
           0,
           0,
           0,
           0,
           0,
           0,
           0,
           0,
           0,
           0,
           0,
           0,
           0,
           0,
           0,
           0,
           0,
           0,
           0
          ],
          [
           0,
           0,
           0,
           0,
           0,
           0,
           0,
           0,
           0,
           0,
           0,
           0,
           0,
           0,
           0,
           0,
           0,
           0,
           0,
           0,
           0,
           0,
           0,
           0,
           0,
           0,
           0,
           0,
           0,
           0,
           0,
           0
          ],
          [
           0,
           0,
           0,
           0,
           0,
           0,
           0,
           0,
           0,
           0,
           0,
           0,
           0,
           0,
           0,
           -0.00940586004324041,
           0,
           0,
           0,
           0,
           0,
           0,
           0,
           0,
           0,
           0,
           0.006255523792006954,
           0.006899292566650285,
           0,
           0,
           0.012855759111853637,
           0
          ],
          [
           0,
           0,
           0,
           0,
           0,
           0,
           0,
           0,
           0,
           0,
           0,
           0,
           0,
           0,
           0,
           0,
           0,
           0,
           0,
           0.07687971919947689,
           0.001697849529596286,
           0,
           0,
           0,
           0,
           0,
           0,
           0.01084063918392493,
           0,
           0,
           0,
           0
          ],
          [
           0,
           0,
           0,
           0,
           0,
           0,
           0,
           0,
           0,
           0,
           0,
           0,
           0,
           0,
           0,
           0,
           0,
           0,
           0,
           0,
           0,
           0,
           0,
           0,
           0,
           0,
           0,
           0,
           0,
           0,
           0,
           0
          ],
          [
           0.034921190757053244,
           0,
           0,
           0,
           0,
           0,
           0,
           0,
           0,
           0,
           0,
           0,
           0,
           0,
           0,
           0,
           0,
           0,
           0,
           0,
           0,
           0,
           0,
           0,
           0,
           0,
           0,
           0,
           0,
           0,
           0,
           0
          ],
          [
           0,
           0,
           0,
           0,
           0,
           0,
           0,
           0,
           0,
           0,
           0,
           0,
           0,
           0,
           0,
           0,
           0,
           0,
           0,
           0,
           0,
           0,
           0,
           0,
           0,
           0,
           0,
           0,
           0,
           0,
           0,
           0
          ],
          [
           0,
           0,
           0,
           0,
           0,
           0,
           0,
           0.008113712982583095,
           0,
           0.00976825374093838,
           0,
           0.01592423489336319,
           0,
           0,
           0,
           0,
           0,
           0,
           0,
           0,
           0.09446720421120565,
           0,
           0,
           0,
           0,
           0,
           0,
           0,
           0,
           0,
           0,
           0
          ],
          [
           0,
           0,
           0,
           0,
           0,
           0.00034141953218580327,
           0,
           0,
           0,
           0.07631707133126715,
           0,
           0,
           0,
           0.05436927875248943,
           0,
           0,
           0,
           0,
           0,
           0.020690133906451018,
           0,
           0,
           0,
           0,
           0,
           0,
           0,
           0,
           0,
           0,
           0,
           0
          ],
          [
           0,
           0.02089546180218961,
           0,
           0,
           0,
           0,
           0,
           0,
           0,
           0,
           0,
           0,
           0,
           0,
           0,
           0,
           0,
           0,
           0,
           0,
           0,
           -0.002330112278178589,
           0,
           0.01570255791253187,
           0.018584172211232153,
           0,
           0,
           0,
           0,
           0,
           0,
           0
          ],
          [
           0.04781087321257716,
           0,
           0,
           0.01252245059394521,
           0,
           0,
           0,
           0,
           0,
           0,
           0,
           0,
           0,
           0,
           0,
           0,
           0,
           0,
           0,
           0,
           0,
           0,
           0,
           0,
           0,
           0,
           0,
           0,
           0,
           0,
           0,
           0
          ],
          [
           0,
           0,
           0,
           0,
           0,
           0,
           0,
           0,
           0,
           0,
           0,
           0,
           0,
           0,
           0,
           0,
           0,
           0,
           0,
           0,
           0,
           0,
           0.011287769199305285,
           0.015893137321419032,
           0,
           0,
           0,
           0,
           0,
           0,
           0,
           0.021765373910398227
          ],
          [
           0,
           0,
           0,
           0,
           0,
           0,
           0,
           0,
           0,
           0,
           0,
           0,
           0,
           0,
           0,
           0,
           -0.005492315740232567,
           0,
           0,
           0,
           0,
           0,
           0,
           0,
           0,
           0,
           0.018187843772145294,
           0,
           0,
           0,
           0,
           0.05158627617855015
          ],
          [
           0,
           0,
           0,
           0,
           0,
           0,
           0,
           0,
           0,
           0,
           -0.0025694226699699,
           0,
           0,
           0,
           0,
           -0.031399277504774795,
           0,
           0,
           0,
           -0.021677422522289477,
           0,
           0,
           0,
           -0.004749432038685652,
           0,
           0,
           0,
           0,
           0,
           0,
           0,
           0
          ],
          [
           0,
           0,
           0,
           0,
           0,
           0,
           0,
           0,
           0,
           0,
           0,
           0,
           0,
           -0.017807399631050824,
           -0.011194639459263028,
           0,
           0,
           0,
           0,
           0,
           0,
           0,
           0,
           0,
           0,
           0,
           0.03210319804718205,
           0,
           0,
           0,
           0.01723043773886926,
           0
          ],
          [
           0.019071701642238627,
           0,
           0,
           0,
           0,
           0,
           0,
           0,
           0,
           0,
           0,
           0,
           0,
           0,
           0,
           -0.046314212671034,
           -0.017823889368738917,
           0,
           0,
           0,
           0,
           -0.056729701689779574,
           0,
           0,
           0,
           0,
           0,
           0,
           0,
           0,
           0,
           0
          ],
          [
           0,
           0,
           0,
           0.008776281634035057,
           0,
           0,
           0,
           0,
           0,
           0,
           0,
           0,
           0,
           0,
           0,
           0,
           -0.027156832027334682,
           0,
           0,
           0,
           0,
           0,
           0,
           0,
           0,
           0,
           0,
           0,
           0,
           0,
           0,
           0
          ],
          [
           0,
           0,
           0,
           0,
           0,
           0,
           0,
           0,
           0,
           0,
           0,
           0,
           0,
           0,
           0,
           0,
           -0.02886511145428467,
           -0.014858842369340574,
           0,
           0,
           0,
           0,
           -0.010074086321716207,
           0,
           0,
           0,
           0,
           0,
           0,
           0,
           0,
           0
          ],
          [
           0,
           0,
           0,
           0,
           0,
           0,
           0,
           0,
           0,
           -0.016767960837267906,
           0,
           0,
           0,
           0,
           0,
           0,
           0,
           0,
           0,
           0,
           0,
           0,
           0,
           0,
           0,
           0,
           0,
           0,
           0,
           0,
           0,
           0
          ],
          [
           0,
           0,
           0,
           0,
           0,
           0,
           0,
           0,
           0,
           0,
           0,
           0,
           0,
           0,
           0,
           0,
           0,
           0,
           0,
           0,
           0,
           0,
           0,
           0,
           0,
           0,
           0,
           0,
           0,
           0,
           0,
           0
          ],
          [
           0,
           0,
           0,
           0,
           0,
           0,
           0,
           0,
           0,
           0,
           0,
           0,
           0,
           0,
           0,
           0,
           0,
           0.008212406452701217,
           0,
           0,
           0,
           0,
           0,
           0,
           0,
           0,
           0,
           0,
           0,
           0,
           0,
           0
          ],
          [
           0,
           0,
           0,
           0,
           0,
           0,
           0,
           0,
           0,
           0,
           0,
           0,
           0,
           0,
           0,
           0,
           0,
           0,
           0,
           0,
           0,
           0,
           0,
           -0.04152124132662553,
           0,
           0,
           -0.006679130559963414,
           0,
           0,
           0,
           0,
           0
          ],
          [
           0,
           -0.011469743645597674,
           0,
           0,
           0,
           0,
           0,
           0,
           0,
           0,
           0,
           0,
           0,
           -0.009066924035053438,
           0,
           0,
           0,
           0,
           0,
           0,
           0,
           0,
           -0.014557827217617978,
           0,
           0,
           0,
           -0.03058923968997168,
           0,
           -0.045049468191449164,
           0,
           0,
           0
          ],
          [
           0,
           0,
           0,
           0,
           0,
           0,
           0,
           0,
           0,
           0,
           0,
           0,
           0,
           0,
           0,
           0,
           0,
           0,
           0,
           0,
           0,
           0,
           0,
           0,
           0,
           0,
           0,
           0,
           0,
           0,
           0,
           0
          ],
          [
           0,
           0,
           0,
           0,
           0,
           0,
           0,
           0,
           0,
           0,
           0,
           0,
           0,
           0,
           0,
           0,
           0,
           0,
           0,
           0.007963227491683147,
           0,
           0,
           0,
           0,
           0,
           0,
           0,
           0,
           0,
           0,
           0,
           0
          ]
         ]
        }
       ],
       "layout": {
        "autosize": true,
        "coloraxis": {
         "colorscale": [
          [
           0,
           "#0d0887"
          ],
          [
           0.1111111111111111,
           "#46039f"
          ],
          [
           0.2222222222222222,
           "#7201a8"
          ],
          [
           0.3333333333333333,
           "#9c179e"
          ],
          [
           0.4444444444444444,
           "#bd3786"
          ],
          [
           0.5555555555555556,
           "#d8576b"
          ],
          [
           0.6666666666666666,
           "#ed7953"
          ],
          [
           0.7777777777777778,
           "#fb9f3a"
          ],
          [
           0.8888888888888888,
           "#fdca26"
          ],
          [
           1,
           "#f0f921"
          ]
         ]
        },
        "margin": {
         "t": 60
        },
        "template": {
         "data": {
          "bar": [
           {
            "error_x": {
             "color": "#2a3f5f"
            },
            "error_y": {
             "color": "#2a3f5f"
            },
            "marker": {
             "line": {
              "color": "#E5ECF6",
              "width": 0.5
             },
             "pattern": {
              "fillmode": "overlay",
              "size": 10,
              "solidity": 0.2
             }
            },
            "type": "bar"
           }
          ],
          "barpolar": [
           {
            "marker": {
             "line": {
              "color": "#E5ECF6",
              "width": 0.5
             },
             "pattern": {
              "fillmode": "overlay",
              "size": 10,
              "solidity": 0.2
             }
            },
            "type": "barpolar"
           }
          ],
          "carpet": [
           {
            "aaxis": {
             "endlinecolor": "#2a3f5f",
             "gridcolor": "white",
             "linecolor": "white",
             "minorgridcolor": "white",
             "startlinecolor": "#2a3f5f"
            },
            "baxis": {
             "endlinecolor": "#2a3f5f",
             "gridcolor": "white",
             "linecolor": "white",
             "minorgridcolor": "white",
             "startlinecolor": "#2a3f5f"
            },
            "type": "carpet"
           }
          ],
          "choropleth": [
           {
            "colorbar": {
             "outlinewidth": 0,
             "ticks": ""
            },
            "type": "choropleth"
           }
          ],
          "contour": [
           {
            "colorbar": {
             "outlinewidth": 0,
             "ticks": ""
            },
            "colorscale": [
             [
              0,
              "#0d0887"
             ],
             [
              0.1111111111111111,
              "#46039f"
             ],
             [
              0.2222222222222222,
              "#7201a8"
             ],
             [
              0.3333333333333333,
              "#9c179e"
             ],
             [
              0.4444444444444444,
              "#bd3786"
             ],
             [
              0.5555555555555556,
              "#d8576b"
             ],
             [
              0.6666666666666666,
              "#ed7953"
             ],
             [
              0.7777777777777778,
              "#fb9f3a"
             ],
             [
              0.8888888888888888,
              "#fdca26"
             ],
             [
              1,
              "#f0f921"
             ]
            ],
            "type": "contour"
           }
          ],
          "contourcarpet": [
           {
            "colorbar": {
             "outlinewidth": 0,
             "ticks": ""
            },
            "type": "contourcarpet"
           }
          ],
          "heatmap": [
           {
            "colorbar": {
             "outlinewidth": 0,
             "ticks": ""
            },
            "colorscale": [
             [
              0,
              "#0d0887"
             ],
             [
              0.1111111111111111,
              "#46039f"
             ],
             [
              0.2222222222222222,
              "#7201a8"
             ],
             [
              0.3333333333333333,
              "#9c179e"
             ],
             [
              0.4444444444444444,
              "#bd3786"
             ],
             [
              0.5555555555555556,
              "#d8576b"
             ],
             [
              0.6666666666666666,
              "#ed7953"
             ],
             [
              0.7777777777777778,
              "#fb9f3a"
             ],
             [
              0.8888888888888888,
              "#fdca26"
             ],
             [
              1,
              "#f0f921"
             ]
            ],
            "type": "heatmap"
           }
          ],
          "heatmapgl": [
           {
            "colorbar": {
             "outlinewidth": 0,
             "ticks": ""
            },
            "colorscale": [
             [
              0,
              "#0d0887"
             ],
             [
              0.1111111111111111,
              "#46039f"
             ],
             [
              0.2222222222222222,
              "#7201a8"
             ],
             [
              0.3333333333333333,
              "#9c179e"
             ],
             [
              0.4444444444444444,
              "#bd3786"
             ],
             [
              0.5555555555555556,
              "#d8576b"
             ],
             [
              0.6666666666666666,
              "#ed7953"
             ],
             [
              0.7777777777777778,
              "#fb9f3a"
             ],
             [
              0.8888888888888888,
              "#fdca26"
             ],
             [
              1,
              "#f0f921"
             ]
            ],
            "type": "heatmapgl"
           }
          ],
          "histogram": [
           {
            "marker": {
             "pattern": {
              "fillmode": "overlay",
              "size": 10,
              "solidity": 0.2
             }
            },
            "type": "histogram"
           }
          ],
          "histogram2d": [
           {
            "colorbar": {
             "outlinewidth": 0,
             "ticks": ""
            },
            "colorscale": [
             [
              0,
              "#0d0887"
             ],
             [
              0.1111111111111111,
              "#46039f"
             ],
             [
              0.2222222222222222,
              "#7201a8"
             ],
             [
              0.3333333333333333,
              "#9c179e"
             ],
             [
              0.4444444444444444,
              "#bd3786"
             ],
             [
              0.5555555555555556,
              "#d8576b"
             ],
             [
              0.6666666666666666,
              "#ed7953"
             ],
             [
              0.7777777777777778,
              "#fb9f3a"
             ],
             [
              0.8888888888888888,
              "#fdca26"
             ],
             [
              1,
              "#f0f921"
             ]
            ],
            "type": "histogram2d"
           }
          ],
          "histogram2dcontour": [
           {
            "colorbar": {
             "outlinewidth": 0,
             "ticks": ""
            },
            "colorscale": [
             [
              0,
              "#0d0887"
             ],
             [
              0.1111111111111111,
              "#46039f"
             ],
             [
              0.2222222222222222,
              "#7201a8"
             ],
             [
              0.3333333333333333,
              "#9c179e"
             ],
             [
              0.4444444444444444,
              "#bd3786"
             ],
             [
              0.5555555555555556,
              "#d8576b"
             ],
             [
              0.6666666666666666,
              "#ed7953"
             ],
             [
              0.7777777777777778,
              "#fb9f3a"
             ],
             [
              0.8888888888888888,
              "#fdca26"
             ],
             [
              1,
              "#f0f921"
             ]
            ],
            "type": "histogram2dcontour"
           }
          ],
          "mesh3d": [
           {
            "colorbar": {
             "outlinewidth": 0,
             "ticks": ""
            },
            "type": "mesh3d"
           }
          ],
          "parcoords": [
           {
            "line": {
             "colorbar": {
              "outlinewidth": 0,
              "ticks": ""
             }
            },
            "type": "parcoords"
           }
          ],
          "pie": [
           {
            "automargin": true,
            "type": "pie"
           }
          ],
          "scatter": [
           {
            "fillpattern": {
             "fillmode": "overlay",
             "size": 10,
             "solidity": 0.2
            },
            "type": "scatter"
           }
          ],
          "scatter3d": [
           {
            "line": {
             "colorbar": {
              "outlinewidth": 0,
              "ticks": ""
             }
            },
            "marker": {
             "colorbar": {
              "outlinewidth": 0,
              "ticks": ""
             }
            },
            "type": "scatter3d"
           }
          ],
          "scattercarpet": [
           {
            "marker": {
             "colorbar": {
              "outlinewidth": 0,
              "ticks": ""
             }
            },
            "type": "scattercarpet"
           }
          ],
          "scattergeo": [
           {
            "marker": {
             "colorbar": {
              "outlinewidth": 0,
              "ticks": ""
             }
            },
            "type": "scattergeo"
           }
          ],
          "scattergl": [
           {
            "marker": {
             "colorbar": {
              "outlinewidth": 0,
              "ticks": ""
             }
            },
            "type": "scattergl"
           }
          ],
          "scattermapbox": [
           {
            "marker": {
             "colorbar": {
              "outlinewidth": 0,
              "ticks": ""
             }
            },
            "type": "scattermapbox"
           }
          ],
          "scatterpolar": [
           {
            "marker": {
             "colorbar": {
              "outlinewidth": 0,
              "ticks": ""
             }
            },
            "type": "scatterpolar"
           }
          ],
          "scatterpolargl": [
           {
            "marker": {
             "colorbar": {
              "outlinewidth": 0,
              "ticks": ""
             }
            },
            "type": "scatterpolargl"
           }
          ],
          "scatterternary": [
           {
            "marker": {
             "colorbar": {
              "outlinewidth": 0,
              "ticks": ""
             }
            },
            "type": "scatterternary"
           }
          ],
          "surface": [
           {
            "colorbar": {
             "outlinewidth": 0,
             "ticks": ""
            },
            "colorscale": [
             [
              0,
              "#0d0887"
             ],
             [
              0.1111111111111111,
              "#46039f"
             ],
             [
              0.2222222222222222,
              "#7201a8"
             ],
             [
              0.3333333333333333,
              "#9c179e"
             ],
             [
              0.4444444444444444,
              "#bd3786"
             ],
             [
              0.5555555555555556,
              "#d8576b"
             ],
             [
              0.6666666666666666,
              "#ed7953"
             ],
             [
              0.7777777777777778,
              "#fb9f3a"
             ],
             [
              0.8888888888888888,
              "#fdca26"
             ],
             [
              1,
              "#f0f921"
             ]
            ],
            "type": "surface"
           }
          ],
          "table": [
           {
            "cells": {
             "fill": {
              "color": "#EBF0F8"
             },
             "line": {
              "color": "white"
             }
            },
            "header": {
             "fill": {
              "color": "#C8D4E3"
             },
             "line": {
              "color": "white"
             }
            },
            "type": "table"
           }
          ]
         },
         "layout": {
          "annotationdefaults": {
           "arrowcolor": "#2a3f5f",
           "arrowhead": 0,
           "arrowwidth": 1
          },
          "autotypenumbers": "strict",
          "coloraxis": {
           "colorbar": {
            "outlinewidth": 0,
            "ticks": ""
           }
          },
          "colorscale": {
           "diverging": [
            [
             0,
             "#8e0152"
            ],
            [
             0.1,
             "#c51b7d"
            ],
            [
             0.2,
             "#de77ae"
            ],
            [
             0.3,
             "#f1b6da"
            ],
            [
             0.4,
             "#fde0ef"
            ],
            [
             0.5,
             "#f7f7f7"
            ],
            [
             0.6,
             "#e6f5d0"
            ],
            [
             0.7,
             "#b8e186"
            ],
            [
             0.8,
             "#7fbc41"
            ],
            [
             0.9,
             "#4d9221"
            ],
            [
             1,
             "#276419"
            ]
           ],
           "sequential": [
            [
             0,
             "#0d0887"
            ],
            [
             0.1111111111111111,
             "#46039f"
            ],
            [
             0.2222222222222222,
             "#7201a8"
            ],
            [
             0.3333333333333333,
             "#9c179e"
            ],
            [
             0.4444444444444444,
             "#bd3786"
            ],
            [
             0.5555555555555556,
             "#d8576b"
            ],
            [
             0.6666666666666666,
             "#ed7953"
            ],
            [
             0.7777777777777778,
             "#fb9f3a"
            ],
            [
             0.8888888888888888,
             "#fdca26"
            ],
            [
             1,
             "#f0f921"
            ]
           ],
           "sequentialminus": [
            [
             0,
             "#0d0887"
            ],
            [
             0.1111111111111111,
             "#46039f"
            ],
            [
             0.2222222222222222,
             "#7201a8"
            ],
            [
             0.3333333333333333,
             "#9c179e"
            ],
            [
             0.4444444444444444,
             "#bd3786"
            ],
            [
             0.5555555555555556,
             "#d8576b"
            ],
            [
             0.6666666666666666,
             "#ed7953"
            ],
            [
             0.7777777777777778,
             "#fb9f3a"
            ],
            [
             0.8888888888888888,
             "#fdca26"
            ],
            [
             1,
             "#f0f921"
            ]
           ]
          },
          "colorway": [
           "#636efa",
           "#EF553B",
           "#00cc96",
           "#ab63fa",
           "#FFA15A",
           "#19d3f3",
           "#FF6692",
           "#B6E880",
           "#FF97FF",
           "#FECB52"
          ],
          "font": {
           "color": "#2a3f5f"
          },
          "geo": {
           "bgcolor": "white",
           "lakecolor": "white",
           "landcolor": "#E5ECF6",
           "showlakes": true,
           "showland": true,
           "subunitcolor": "white"
          },
          "hoverlabel": {
           "align": "left"
          },
          "hovermode": "closest",
          "mapbox": {
           "style": "light"
          },
          "paper_bgcolor": "white",
          "plot_bgcolor": "#E5ECF6",
          "polar": {
           "angularaxis": {
            "gridcolor": "white",
            "linecolor": "white",
            "ticks": ""
           },
           "bgcolor": "#E5ECF6",
           "radialaxis": {
            "gridcolor": "white",
            "linecolor": "white",
            "ticks": ""
           }
          },
          "scene": {
           "xaxis": {
            "backgroundcolor": "#E5ECF6",
            "gridcolor": "white",
            "gridwidth": 2,
            "linecolor": "white",
            "showbackground": true,
            "ticks": "",
            "zerolinecolor": "white"
           },
           "yaxis": {
            "backgroundcolor": "#E5ECF6",
            "gridcolor": "white",
            "gridwidth": 2,
            "linecolor": "white",
            "showbackground": true,
            "ticks": "",
            "zerolinecolor": "white"
           },
           "zaxis": {
            "backgroundcolor": "#E5ECF6",
            "gridcolor": "white",
            "gridwidth": 2,
            "linecolor": "white",
            "showbackground": true,
            "ticks": "",
            "zerolinecolor": "white"
           }
          },
          "shapedefaults": {
           "line": {
            "color": "#2a3f5f"
           }
          },
          "ternary": {
           "aaxis": {
            "gridcolor": "white",
            "linecolor": "white",
            "ticks": ""
           },
           "baxis": {
            "gridcolor": "white",
            "linecolor": "white",
            "ticks": ""
           },
           "bgcolor": "#E5ECF6",
           "caxis": {
            "gridcolor": "white",
            "linecolor": "white",
            "ticks": ""
           }
          },
          "title": {
           "x": 0.05
          },
          "xaxis": {
           "automargin": true,
           "gridcolor": "white",
           "linecolor": "white",
           "ticks": "",
           "title": {
            "standoff": 15
           },
           "zerolinecolor": "white",
           "zerolinewidth": 2
          },
          "yaxis": {
           "automargin": true,
           "gridcolor": "white",
           "linecolor": "white",
           "ticks": "",
           "title": {
            "standoff": 15
           },
           "zerolinecolor": "white",
           "zerolinewidth": 2
          }
         }
        },
        "xaxis": {
         "anchor": "y",
         "autorange": true,
         "constrain": "domain",
         "domain": [
          0.3653610771113831,
          0.6346389228886169
         ],
         "range": [
          -0.5,
          31.5
         ],
         "scaleanchor": "y",
         "side": "top"
        },
        "yaxis": {
         "anchor": "x",
         "autorange": true,
         "constrain": "domain",
         "domain": [
          0,
          1
         ],
         "range": [
          31.5,
          -0.5
         ]
        }
       }
      },
      "image/png": "[encoded data removed]",
      "text/html": [
       "<div>                            <div id=\"d4fb25ff-82db-4ebb-a256-36d6750edec2\" class=\"plotly-graph-div\" style=\"height:525px; width:100%;\"></div>            <script type=\"text/javascript\">                require([\"plotly\"], function(Plotly) {                    window.PLOTLYENV=window.PLOTLYENV || {};                                    if (document.getElementById(\"d4fb25ff-82db-4ebb-a256-36d6750edec2\")) {                    Plotly.newPlot(                        \"d4fb25ff-82db-4ebb-a256-36d6750edec2\",                        [{\"coloraxis\":\"coloraxis\",\"name\":\"0\",\"z\":[[0.0,0.0,0.0,0.0,0.0,0.0,0.0,0.0,0.0,0.0,0.0,0.0,0.0,0.0,0.0,0.0,0.0,0.0,0.0,0.0,0.0,0.0,0.0,0.0,0.0,0.0,0.012029265433144691,0.0,0.0,0.0,0.0,0.0],[0.0,0.0,0.0,0.0,0.0,0.0,0.0,0.0,0.0,0.0,0.0,0.0,0.0,0.0,0.0,0.0,0.0,0.0,0.0,0.0,0.0,0.0,0.0,0.0,0.0,0.0,0.0,0.0,0.0,0.0,0.0,0.0],[0.0,0.0,0.0,0.0,0.0,0.0,0.0,0.0,0.0,0.0,0.0,0.0,0.0,0.0,0.0,0.0,0.0,0.0,0.0,0.0,0.0,0.0,0.0,0.0,0.0,0.0,0.0,0.0,0.0,0.0,0.030646486786525068,0.0],[0.0,0.0,0.0,0.0,0.0,0.0,0.0,0.0,0.0,0.0,0.0,0.0,0.0,0.0,0.0,0.0,0.0,0.0,0.0,0.0,0.0,0.0,0.0,0.0,0.049193738290522177,0.0,0.0,0.010572179212854171,0.0,0.0,0.0,0.0],[0.0,0.0,0.0,0.0,0.0,0.0,0.0,0.0,0.0,0.0,0.0,0.0,0.0,0.0,0.0,0.0,0.0,0.0,0.0,0.0,0.0,0.0,0.0,0.0,0.0,0.0,0.0,0.0,0.0,0.0,0.0,0.0],[0.0,0.0,0.0,0.0,0.0,0.0,0.0,0.0,0.0,0.0,0.0,0.0,0.0,0.0,0.0,0.0,0.0,0.0,0.0,0.0,0.0,0.0,0.0,0.0,0.0,0.0,0.0,0.0,0.0,0.0,0.0,0.0],[0.0,0.0,0.0,0.0,0.0,0.0,0.0,0.0,0.0,0.0,0.0,0.0,0.0,0.0,0.0,0.0,0.0,0.0,-0.01673290961242234,0.0,0.0,0.0,-0.03680128721064877,0.0,0.0,0.0,0.0,0.0,0.0,0.0,0.0,0.0],[0.037422547566192045,0.0,0.0,0.0,0.0,0.0,0.0,0.0,0.0,0.0,0.0,0.0,0.0,0.0,0.0,0.0,0.0,0.0,0.0,0.0,0.0,0.0,0.0,0.0,0.0,0.0,0.0,0.0,0.0,0.0,0.0,0.0],[0.0,0.0,0.0,0.0,0.0,0.0,0.0,0.0,0.0,0.0,0.0,0.0,0.0,0.0,0.0,0.0,0.0,0.0,0.0,0.0,0.0,0.0,0.0,0.0,0.0,0.0,0.0,0.0,0.0,0.0,0.0,0.0],[0.0,0.0,0.0,0.0,0.0,0.0,0.0,0.0,0.0,0.0,0.0,0.0,0.0,0.0,0.0,-0.00940586004324041,0.0,0.0,0.0,0.0,0.0,0.0,0.0,0.0,0.0,0.0,0.006255523792006954,0.006899292566650285,0.0,0.0,0.012855759111853637,0.0],[0.0,0.0,0.0,0.0,0.0,0.0,0.0,0.0,0.0,0.0,0.0,0.0,0.0,0.0,0.0,0.0,0.0,0.0,0.0,0.07687971919947689,0.001697849529596286,0.0,0.0,0.0,0.0,0.0,0.0,0.01084063918392493,0.0,0.0,0.0,0.0],[0.0,0.0,0.0,0.0,0.0,0.0,0.0,0.0,0.0,0.0,0.0,0.0,0.0,0.0,0.0,0.0,0.0,0.0,0.0,0.0,0.0,0.0,0.0,0.0,0.0,0.0,0.0,0.0,0.0,0.0,0.0,0.0],[0.034921190757053244,0.0,0.0,0.0,0.0,0.0,0.0,0.0,0.0,0.0,0.0,0.0,0.0,0.0,0.0,0.0,0.0,0.0,0.0,0.0,0.0,0.0,0.0,0.0,0.0,0.0,0.0,0.0,0.0,0.0,0.0,0.0],[0.0,0.0,0.0,0.0,0.0,0.0,0.0,0.0,0.0,0.0,0.0,0.0,0.0,0.0,0.0,0.0,0.0,0.0,0.0,0.0,0.0,0.0,0.0,0.0,0.0,0.0,0.0,0.0,0.0,0.0,0.0,0.0],[0.0,0.0,0.0,0.0,0.0,0.0,0.0,0.008113712982583095,0.0,0.00976825374093838,0.0,0.01592423489336319,0.0,0.0,0.0,0.0,0.0,0.0,0.0,0.0,0.09446720421120565,0.0,0.0,0.0,0.0,0.0,0.0,0.0,0.0,0.0,0.0,0.0],[0.0,0.0,0.0,0.0,0.0,0.00034141953218580327,0.0,0.0,0.0,0.07631707133126715,0.0,0.0,0.0,0.05436927875248943,0.0,0.0,0.0,0.0,0.0,0.020690133906451018,0.0,0.0,0.0,0.0,0.0,0.0,0.0,0.0,0.0,0.0,0.0,0.0],[0.0,0.02089546180218961,0.0,0.0,0.0,0.0,0.0,0.0,0.0,0.0,0.0,0.0,0.0,0.0,0.0,0.0,0.0,0.0,0.0,0.0,0.0,-0.002330112278178589,0.0,0.01570255791253187,0.018584172211232153,0.0,0.0,0.0,0.0,0.0,0.0,0.0],[0.04781087321257716,0.0,0.0,0.01252245059394521,0.0,0.0,0.0,0.0,0.0,0.0,0.0,0.0,0.0,0.0,0.0,0.0,0.0,0.0,0.0,0.0,0.0,0.0,0.0,0.0,0.0,0.0,0.0,0.0,0.0,0.0,0.0,0.0],[0.0,0.0,0.0,0.0,0.0,0.0,0.0,0.0,0.0,0.0,0.0,0.0,0.0,0.0,0.0,0.0,0.0,0.0,0.0,0.0,0.0,0.0,0.011287769199305285,0.015893137321419032,0.0,0.0,0.0,0.0,0.0,0.0,0.0,0.021765373910398227],[0.0,0.0,0.0,0.0,0.0,0.0,0.0,0.0,0.0,0.0,0.0,0.0,0.0,0.0,0.0,0.0,-0.005492315740232567,0.0,0.0,0.0,0.0,0.0,0.0,0.0,0.0,0.0,0.018187843772145294,0.0,0.0,0.0,0.0,0.05158627617855015],[0.0,0.0,0.0,0.0,0.0,0.0,0.0,0.0,0.0,0.0,-0.0025694226699699,0.0,0.0,0.0,0.0,-0.031399277504774795,0.0,0.0,0.0,-0.021677422522289477,0.0,0.0,0.0,-0.004749432038685652,0.0,0.0,0.0,0.0,0.0,0.0,0.0,0.0],[0.0,0.0,0.0,0.0,0.0,0.0,0.0,0.0,0.0,0.0,0.0,0.0,0.0,-0.017807399631050824,-0.011194639459263028,0.0,0.0,0.0,0.0,0.0,0.0,0.0,0.0,0.0,0.0,0.0,0.03210319804718205,0.0,0.0,0.0,0.01723043773886926,0.0],[0.019071701642238627,0.0,0.0,0.0,0.0,0.0,0.0,0.0,0.0,0.0,0.0,0.0,0.0,0.0,0.0,-0.046314212671034,-0.017823889368738917,0.0,0.0,0.0,0.0,-0.056729701689779574,0.0,0.0,0.0,0.0,0.0,0.0,0.0,0.0,0.0,0.0],[0.0,0.0,0.0,0.008776281634035057,0.0,0.0,0.0,0.0,0.0,0.0,0.0,0.0,0.0,0.0,0.0,0.0,-0.027156832027334682,0.0,0.0,0.0,0.0,0.0,0.0,0.0,0.0,0.0,0.0,0.0,0.0,0.0,0.0,0.0],[0.0,0.0,0.0,0.0,0.0,0.0,0.0,0.0,0.0,0.0,0.0,0.0,0.0,0.0,0.0,0.0,-0.02886511145428467,-0.014858842369340574,0.0,0.0,0.0,0.0,-0.010074086321716207,0.0,0.0,0.0,0.0,0.0,0.0,0.0,0.0,0.0],[0.0,0.0,0.0,0.0,0.0,0.0,0.0,0.0,0.0,-0.016767960837267906,0.0,0.0,0.0,0.0,0.0,0.0,0.0,0.0,0.0,0.0,0.0,0.0,0.0,0.0,0.0,0.0,0.0,0.0,0.0,0.0,0.0,0.0],[0.0,0.0,0.0,0.0,0.0,0.0,0.0,0.0,0.0,0.0,0.0,0.0,0.0,0.0,0.0,0.0,0.0,0.0,0.0,0.0,0.0,0.0,0.0,0.0,0.0,0.0,0.0,0.0,0.0,0.0,0.0,0.0],[0.0,0.0,0.0,0.0,0.0,0.0,0.0,0.0,0.0,0.0,0.0,0.0,0.0,0.0,0.0,0.0,0.0,0.008212406452701217,0.0,0.0,0.0,0.0,0.0,0.0,0.0,0.0,0.0,0.0,0.0,0.0,0.0,0.0],[0.0,0.0,0.0,0.0,0.0,0.0,0.0,0.0,0.0,0.0,0.0,0.0,0.0,0.0,0.0,0.0,0.0,0.0,0.0,0.0,0.0,0.0,0.0,-0.04152124132662553,0.0,0.0,-0.006679130559963414,0.0,0.0,0.0,0.0,0.0],[0.0,-0.011469743645597674,0.0,0.0,0.0,0.0,0.0,0.0,0.0,0.0,0.0,0.0,0.0,-0.009066924035053438,0.0,0.0,0.0,0.0,0.0,0.0,0.0,0.0,-0.014557827217617978,0.0,0.0,0.0,-0.03058923968997168,0.0,-0.045049468191449164,0.0,0.0,0.0],[0.0,0.0,0.0,0.0,0.0,0.0,0.0,0.0,0.0,0.0,0.0,0.0,0.0,0.0,0.0,0.0,0.0,0.0,0.0,0.0,0.0,0.0,0.0,0.0,0.0,0.0,0.0,0.0,0.0,0.0,0.0,0.0],[0.0,0.0,0.0,0.0,0.0,0.0,0.0,0.0,0.0,0.0,0.0,0.0,0.0,0.0,0.0,0.0,0.0,0.0,0.0,0.007963227491683147,0.0,0.0,0.0,0.0,0.0,0.0,0.0,0.0,0.0,0.0,0.0,0.0]],\"type\":\"heatmap\",\"xaxis\":\"x\",\"yaxis\":\"y\",\"hovertemplate\":\"x: %{x}<br>y: %{y}<br>color: %{z}<extra></extra>\"}],                        {\"template\":{\"data\":{\"histogram2dcontour\":[{\"type\":\"histogram2dcontour\",\"colorbar\":{\"outlinewidth\":0,\"ticks\":\"\"},\"colorscale\":[[0.0,\"#0d0887\"],[0.1111111111111111,\"#46039f\"],[0.2222222222222222,\"#7201a8\"],[0.3333333333333333,\"#9c179e\"],[0.4444444444444444,\"#bd3786\"],[0.5555555555555556,\"#d8576b\"],[0.6666666666666666,\"#ed7953\"],[0.7777777777777778,\"#fb9f3a\"],[0.8888888888888888,\"#fdca26\"],[1.0,\"#f0f921\"]]}],\"choropleth\":[{\"type\":\"choropleth\",\"colorbar\":{\"outlinewidth\":0,\"ticks\":\"\"}}],\"histogram2d\":[{\"type\":\"histogram2d\",\"colorbar\":{\"outlinewidth\":0,\"ticks\":\"\"},\"colorscale\":[[0.0,\"#0d0887\"],[0.1111111111111111,\"#46039f\"],[0.2222222222222222,\"#7201a8\"],[0.3333333333333333,\"#9c179e\"],[0.4444444444444444,\"#bd3786\"],[0.5555555555555556,\"#d8576b\"],[0.6666666666666666,\"#ed7953\"],[0.7777777777777778,\"#fb9f3a\"],[0.8888888888888888,\"#fdca26\"],[1.0,\"#f0f921\"]]}],\"heatmap\":[{\"type\":\"heatmap\",\"colorbar\":{\"outlinewidth\":0,\"ticks\":\"\"},\"colorscale\":[[0.0,\"#0d0887\"],[0.1111111111111111,\"#46039f\"],[0.2222222222222222,\"#7201a8\"],[0.3333333333333333,\"#9c179e\"],[0.4444444444444444,\"#bd3786\"],[0.5555555555555556,\"#d8576b\"],[0.6666666666666666,\"#ed7953\"],[0.7777777777777778,\"#fb9f3a\"],[0.8888888888888888,\"#fdca26\"],[1.0,\"#f0f921\"]]}],\"heatmapgl\":[{\"type\":\"heatmapgl\",\"colorbar\":{\"outlinewidth\":0,\"ticks\":\"\"},\"colorscale\":[[0.0,\"#0d0887\"],[0.1111111111111111,\"#46039f\"],[0.2222222222222222,\"#7201a8\"],[0.3333333333333333,\"#9c179e\"],[0.4444444444444444,\"#bd3786\"],[0.5555555555555556,\"#d8576b\"],[0.6666666666666666,\"#ed7953\"],[0.7777777777777778,\"#fb9f3a\"],[0.8888888888888888,\"#fdca26\"],[1.0,\"#f0f921\"]]}],\"contourcarpet\":[{\"type\":\"contourcarpet\",\"colorbar\":{\"outlinewidth\":0,\"ticks\":\"\"}}],\"contour\":[{\"type\":\"contour\",\"colorbar\":{\"outlinewidth\":0,\"ticks\":\"\"},\"colorscale\":[[0.0,\"#0d0887\"],[0.1111111111111111,\"#46039f\"],[0.2222222222222222,\"#7201a8\"],[0.3333333333333333,\"#9c179e\"],[0.4444444444444444,\"#bd3786\"],[0.5555555555555556,\"#d8576b\"],[0.6666666666666666,\"#ed7953\"],[0.7777777777777778,\"#fb9f3a\"],[0.8888888888888888,\"#fdca26\"],[1.0,\"#f0f921\"]]}],\"surface\":[{\"type\":\"surface\",\"colorbar\":{\"outlinewidth\":0,\"ticks\":\"\"},\"colorscale\":[[0.0,\"#0d0887\"],[0.1111111111111111,\"#46039f\"],[0.2222222222222222,\"#7201a8\"],[0.3333333333333333,\"#9c179e\"],[0.4444444444444444,\"#bd3786\"],[0.5555555555555556,\"#d8576b\"],[0.6666666666666666,\"#ed7953\"],[0.7777777777777778,\"#fb9f3a\"],[0.8888888888888888,\"#fdca26\"],[1.0,\"#f0f921\"]]}],\"mesh3d\":[{\"type\":\"mesh3d\",\"colorbar\":{\"outlinewidth\":0,\"ticks\":\"\"}}],\"scatter\":[{\"fillpattern\":{\"fillmode\":\"overlay\",\"size\":10,\"solidity\":0.2},\"type\":\"scatter\"}],\"parcoords\":[{\"type\":\"parcoords\",\"line\":{\"colorbar\":{\"outlinewidth\":0,\"ticks\":\"\"}}}],\"scatterpolargl\":[{\"type\":\"scatterpolargl\",\"marker\":{\"colorbar\":{\"outlinewidth\":0,\"ticks\":\"\"}}}],\"bar\":[{\"error_x\":{\"color\":\"#2a3f5f\"},\"error_y\":{\"color\":\"#2a3f5f\"},\"marker\":{\"line\":{\"color\":\"#E5ECF6\",\"width\":0.5},\"pattern\":{\"fillmode\":\"overlay\",\"size\":10,\"solidity\":0.2}},\"type\":\"bar\"}],\"scattergeo\":[{\"type\":\"scattergeo\",\"marker\":{\"colorbar\":{\"outlinewidth\":0,\"ticks\":\"\"}}}],\"scatterpolar\":[{\"type\":\"scatterpolar\",\"marker\":{\"colorbar\":{\"outlinewidth\":0,\"ticks\":\"\"}}}],\"histogram\":[{\"marker\":{\"pattern\":{\"fillmode\":\"overlay\",\"size\":10,\"solidity\":0.2}},\"type\":\"histogram\"}],\"scattergl\":[{\"type\":\"scattergl\",\"marker\":{\"colorbar\":{\"outlinewidth\":0,\"ticks\":\"\"}}}],\"scatter3d\":[{\"type\":\"scatter3d\",\"line\":{\"colorbar\":{\"outlinewidth\":0,\"ticks\":\"\"}},\"marker\":{\"colorbar\":{\"outlinewidth\":0,\"ticks\":\"\"}}}],\"scattermapbox\":[{\"type\":\"scattermapbox\",\"marker\":{\"colorbar\":{\"outlinewidth\":0,\"ticks\":\"\"}}}],\"scatterternary\":[{\"type\":\"scatterternary\",\"marker\":{\"colorbar\":{\"outlinewidth\":0,\"ticks\":\"\"}}}],\"scattercarpet\":[{\"type\":\"scattercarpet\",\"marker\":{\"colorbar\":{\"outlinewidth\":0,\"ticks\":\"\"}}}],\"carpet\":[{\"aaxis\":{\"endlinecolor\":\"#2a3f5f\",\"gridcolor\":\"white\",\"linecolor\":\"white\",\"minorgridcolor\":\"white\",\"startlinecolor\":\"#2a3f5f\"},\"baxis\":{\"endlinecolor\":\"#2a3f5f\",\"gridcolor\":\"white\",\"linecolor\":\"white\",\"minorgridcolor\":\"white\",\"startlinecolor\":\"#2a3f5f\"},\"type\":\"carpet\"}],\"table\":[{\"cells\":{\"fill\":{\"color\":\"#EBF0F8\"},\"line\":{\"color\":\"white\"}},\"header\":{\"fill\":{\"color\":\"#C8D4E3\"},\"line\":{\"color\":\"white\"}},\"type\":\"table\"}],\"barpolar\":[{\"marker\":{\"line\":{\"color\":\"#E5ECF6\",\"width\":0.5},\"pattern\":{\"fillmode\":\"overlay\",\"size\":10,\"solidity\":0.2}},\"type\":\"barpolar\"}],\"pie\":[{\"automargin\":true,\"type\":\"pie\"}]},\"layout\":{\"autotypenumbers\":\"strict\",\"colorway\":[\"#636efa\",\"#EF553B\",\"#00cc96\",\"#ab63fa\",\"#FFA15A\",\"#19d3f3\",\"#FF6692\",\"#B6E880\",\"#FF97FF\",\"#FECB52\"],\"font\":{\"color\":\"#2a3f5f\"},\"hovermode\":\"closest\",\"hoverlabel\":{\"align\":\"left\"},\"paper_bgcolor\":\"white\",\"plot_bgcolor\":\"#E5ECF6\",\"polar\":{\"bgcolor\":\"#E5ECF6\",\"angularaxis\":{\"gridcolor\":\"white\",\"linecolor\":\"white\",\"ticks\":\"\"},\"radialaxis\":{\"gridcolor\":\"white\",\"linecolor\":\"white\",\"ticks\":\"\"}},\"ternary\":{\"bgcolor\":\"#E5ECF6\",\"aaxis\":{\"gridcolor\":\"white\",\"linecolor\":\"white\",\"ticks\":\"\"},\"baxis\":{\"gridcolor\":\"white\",\"linecolor\":\"white\",\"ticks\":\"\"},\"caxis\":{\"gridcolor\":\"white\",\"linecolor\":\"white\",\"ticks\":\"\"}},\"coloraxis\":{\"colorbar\":{\"outlinewidth\":0,\"ticks\":\"\"}},\"colorscale\":{\"sequential\":[[0.0,\"#0d0887\"],[0.1111111111111111,\"#46039f\"],[0.2222222222222222,\"#7201a8\"],[0.3333333333333333,\"#9c179e\"],[0.4444444444444444,\"#bd3786\"],[0.5555555555555556,\"#d8576b\"],[0.6666666666666666,\"#ed7953\"],[0.7777777777777778,\"#fb9f3a\"],[0.8888888888888888,\"#fdca26\"],[1.0,\"#f0f921\"]],\"sequentialminus\":[[0.0,\"#0d0887\"],[0.1111111111111111,\"#46039f\"],[0.2222222222222222,\"#7201a8\"],[0.3333333333333333,\"#9c179e\"],[0.4444444444444444,\"#bd3786\"],[0.5555555555555556,\"#d8576b\"],[0.6666666666666666,\"#ed7953\"],[0.7777777777777778,\"#fb9f3a\"],[0.8888888888888888,\"#fdca26\"],[1.0,\"#f0f921\"]],\"diverging\":[[0,\"#8e0152\"],[0.1,\"#c51b7d\"],[0.2,\"#de77ae\"],[0.3,\"#f1b6da\"],[0.4,\"#fde0ef\"],[0.5,\"#f7f7f7\"],[0.6,\"#e6f5d0\"],[0.7,\"#b8e186\"],[0.8,\"#7fbc41\"],[0.9,\"#4d9221\"],[1,\"#276419\"]]},\"xaxis\":{\"gridcolor\":\"white\",\"linecolor\":\"white\",\"ticks\":\"\",\"title\":{\"standoff\":15},\"zerolinecolor\":\"white\",\"automargin\":true,\"zerolinewidth\":2},\"yaxis\":{\"gridcolor\":\"white\",\"linecolor\":\"white\",\"ticks\":\"\",\"title\":{\"standoff\":15},\"zerolinecolor\":\"white\",\"automargin\":true,\"zerolinewidth\":2},\"scene\":{\"xaxis\":{\"backgroundcolor\":\"#E5ECF6\",\"gridcolor\":\"white\",\"linecolor\":\"white\",\"showbackground\":true,\"ticks\":\"\",\"zerolinecolor\":\"white\",\"gridwidth\":2},\"yaxis\":{\"backgroundcolor\":\"#E5ECF6\",\"gridcolor\":\"white\",\"linecolor\":\"white\",\"showbackground\":true,\"ticks\":\"\",\"zerolinecolor\":\"white\",\"gridwidth\":2},\"zaxis\":{\"backgroundcolor\":\"#E5ECF6\",\"gridcolor\":\"white\",\"linecolor\":\"white\",\"showbackground\":true,\"ticks\":\"\",\"zerolinecolor\":\"white\",\"gridwidth\":2}},\"shapedefaults\":{\"line\":{\"color\":\"#2a3f5f\"}},\"annotationdefaults\":{\"arrowcolor\":\"#2a3f5f\",\"arrowhead\":0,\"arrowwidth\":1},\"geo\":{\"bgcolor\":\"white\",\"landcolor\":\"#E5ECF6\",\"subunitcolor\":\"white\",\"showland\":true,\"showlakes\":true,\"lakecolor\":\"white\"},\"title\":{\"x\":0.05},\"mapbox\":{\"style\":\"light\"}}},\"xaxis\":{\"anchor\":\"y\",\"domain\":[0.0,1.0],\"scaleanchor\":\"y\",\"constrain\":\"domain\",\"side\":\"top\"},\"yaxis\":{\"anchor\":\"x\",\"domain\":[0.0,1.0],\"autorange\":\"reversed\",\"constrain\":\"domain\"},\"coloraxis\":{\"colorscale\":[[0.0,\"#0d0887\"],[0.1111111111111111,\"#46039f\"],[0.2222222222222222,\"#7201a8\"],[0.3333333333333333,\"#9c179e\"],[0.4444444444444444,\"#bd3786\"],[0.5555555555555556,\"#d8576b\"],[0.6666666666666666,\"#ed7953\"],[0.7777777777777778,\"#fb9f3a\"],[0.8888888888888888,\"#fdca26\"],[1.0,\"#f0f921\"]]},\"margin\":{\"t\":60}},                        {\"responsive\": true}                    ).then(function(){\n",
       "                            \n",
       "var gd = document.getElementById('d4fb25ff-82db-4ebb-a256-36d6750edec2');\n",
       "var x = new MutationObserver(function (mutations, observer) {{\n",
       "        var display = window.getComputedStyle(gd).display;\n",
       "        if (!display || display === 'none') {{\n",
       "            console.log([gd, 'removed!']);\n",
       "            Plotly.purge(gd);\n",
       "            observer.disconnect();\n",
       "        }}\n",
       "}});\n",
       "\n",
       "// Listen for the removal of the full notebook cells\n",
       "var notebookContainer = gd.closest('#notebook-container');\n",
       "if (notebookContainer) {{\n",
       "    x.observe(notebookContainer, {childList: true});\n",
       "}}\n",
       "\n",
       "// Listen for the clearing of the current output cell\n",
       "var outputEl = gd.closest('.output');\n",
       "if (outputEl) {{\n",
       "    x.observe(outputEl, {childList: true});\n",
       "}}\n",
       "\n",
       "                        })                };                });            </script>        </div>"
      ]
     },
     "metadata": {},
     "output_type": "display_data"
    }
   ],
   "source": [
    "resultsl1_b = np.array(resultsl1_b)\n",
    "resultsl1_b = resultsl1_b.reshape([32,32])\n",
    "\n",
    "fig_b = px.imshow(resultsl1_b)\n",
    "fig_b.update_xaxes(side=\"top\")\n",
    "fig_b.show()"
   ]
  },
  {
   "cell_type": "code",
   "execution_count": 260,
   "id": "af321b18-2bd0-4d7e-ae0c-6baaf4fa5d5d",
   "metadata": {},
   "outputs": [
    {
     "data": {
      "application/vnd.plotly.v1+json": {
       "config": {
        "plotlyServerURL": "https://plot.ly"
       },
       "data": [
        {
         "coloraxis": "coloraxis",
         "hovertemplate": "x: %{x}<br>y: %{y}<br>color: %{z}<extra></extra>",
         "name": "0",
         "type": "heatmap",
         "xaxis": "x",
         "yaxis": "y",
         "z": [
          [
           0.2092348078198635,
           0.0043702789773958665,
           0.0494425345768446,
           0,
           0,
           0,
           0,
           0,
           0,
           0,
           -0.019320644719830055,
           -0.02542572848887739,
           0,
           -0.016092102487845816,
           0,
           0,
           0,
           0,
           -0.001425910384371032,
           0,
           0,
           0,
           0,
           0.13239370682858687,
           0.014435237320552656,
           0,
           0.012029265433144691,
           0,
           0,
           0,
           0.10761411840740277,
           0.11640600938325299
          ],
          [
           0.06382492800415385,
           0,
           0,
           0,
           0,
           0,
           0,
           0,
           -0.01672964784490713,
           0,
           -0.0004468106810477294,
           -0.0030988525756237674,
           0,
           0,
           0.020129773674912074,
           0,
           -0.040531679229060515,
           0,
           0,
           0,
           0,
           0,
           0,
           0,
           0,
           0,
           0,
           0,
           -0.04154401580881947,
           0,
           0,
           0
          ],
          [
           0.026319617040353648,
           0,
           0,
           0,
           0,
           0,
           0,
           0,
           -0.0316892557127091,
           0,
           0,
           0,
           0,
           0,
           0.010708689701965167,
           0,
           -0.04363865125419767,
           -0.04408053021640045,
           0,
           0,
           0,
           0,
           0,
           0.04919132331290803,
           0,
           0,
           0,
           0,
           0,
           0,
           0.030646486786525068,
           0
          ],
          [
           0,
           0,
           0,
           0,
           0,
           -0.067106580185103,
           0,
           0,
           0,
           0,
           0,
           0,
           0,
           0,
           0,
           0,
           0,
           -0.0618321467093349,
           0,
           0,
           0,
           -0.009937841637399568,
           0,
           0,
           0.05162003807590614,
           0,
           0,
           0.010572179212854171,
           0,
           0,
           0,
           0
          ],
          [
           0,
           0,
           0,
           0,
           0,
           0,
           0,
           0,
           0,
           0,
           0,
           0.012849196177923666,
           0,
           0,
           0.05975707431425104,
           0.011331443015631543,
           0,
           0,
           0,
           0,
           0,
           0,
           0,
           -0.07459841931400107,
           0,
           0,
           0,
           0,
           0,
           -0.011118398737542877,
           0,
           0
          ],
          [
           0,
           0,
           0,
           0,
           0,
           0,
           0,
           -0.035882986587876246,
           -0.07343410246245656,
           0,
           0,
           0.05583278766217103,
           0,
           0,
           0,
           0,
           0,
           0,
           0,
           0.02020992638466721,
           0,
           0,
           0,
           0,
           0,
           0,
           0,
           0,
           0,
           0,
           0,
           0
          ],
          [
           0.02884754975892763,
           0,
           0,
           0,
           0,
           0,
           0,
           0,
           0,
           0,
           0,
           0,
           -0.010965294145075228,
           0,
           0,
           0,
           0.01606043769138233,
           0,
           -0.01673290961242234,
           0,
           0,
           0,
           -0.03680128721064877,
           0,
           0,
           0,
           0,
           0,
           0,
           0,
           0,
           0
          ],
          [
           0.037422547566192045,
           0,
           0,
           -0.007970702007503947,
           0,
           0,
           0,
           0,
           0.012862493921764848,
           0,
           0.10151591639505321,
           0,
           -0.034509221461051974,
           0,
           0.004925768149769789,
           0,
           0,
           0,
           0,
           0,
           0,
           0,
           0,
           0,
           0,
           0,
           0,
           0,
           0,
           0,
           -0.021769156093139203,
           0
          ],
          [
           0,
           0,
           0,
           -0.04481942106180415,
           -0.0698302461002015,
           0,
           0,
           0,
           0,
           0,
           0,
           0,
           0,
           0,
           0.0399867305588604,
           0,
           0,
           0,
           0,
           -0.021107832765705957,
           -0.022296884003451894,
           0,
           0,
           0,
           0,
           0,
           -0.03379609572415465,
           0,
           0,
           0,
           0,
           -0.002090888160147099
          ],
          [
           0,
           0,
           0,
           0,
           0,
           0.0032831997704501157,
           0,
           0,
           -0.04923605955511661,
           0,
           0,
           0.023896685032424876,
           0,
           0,
           0,
           -0.00940586004324041,
           0,
           0.019718306432301914,
           -0.023052081795937422,
           0,
           0,
           -0.0025120750328278428,
           -0.007316542334946129,
           0,
           0,
           0,
           0.006255523792006954,
           0.006899292566650285,
           0,
           0,
           0.027890908063778665,
           0
          ],
          [
           0,
           0,
           0,
           0,
           0.09592778174757785,
           0,
           0.013223030089893957,
           0,
           -0.024579525458121407,
           -0.003158288830533265,
           0,
           0,
           -0.028804391563733683,
           0,
           0.02658324963690916,
           0,
           0.04859146119824056,
           0.010792752126358718,
           -0.011208855655248779,
           0.0961415527687807,
           0.001697849529596286,
           0,
           0,
           0,
           -0.005601007204791938,
           0,
           0,
           0.01084063918392493,
           0,
           0,
           0,
           0
          ],
          [
           0,
           0,
           0.0029442764991188908,
           0,
           0,
           0,
           0.0203491715687307,
           0,
           0,
           0.012625209225737885,
           -0.026014962139788857,
           0.0259957469910787,
           0,
           0,
           0,
           0,
           -0.04121447550792102,
           0,
           0,
           0.006435735343979358,
           0,
           0,
           0.03480117890029129,
           0,
           -0.001727337880275919,
           -0.02138105553230534,
           -0.023501870468898504,
           0,
           0,
           0,
           0,
           0
          ],
          [
           0.05676200193933946,
           0,
           0,
           0,
           -0.03607583334625022,
           0,
           0,
           -0.01654021028434203,
           -0.012718582224420386,
           0,
           0.008173971733716081,
           0.030333173929053547,
           0,
           0.06154656443501052,
           0.0035708915437201367,
           -0.025941127352923372,
           -0.01343952381597369,
           0,
           -0.012552350123006751,
           0,
           0,
           0,
           0,
           0.049842630506215964,
           0,
           0,
           0,
           0.015119176279480447,
           0,
           0,
           -0.05081795824305279,
           0
          ],
          [
           0,
           0,
           0,
           0,
           0,
           0.009515759755238126,
           0,
           0,
           -0.0006718533130872613,
           0,
           -0.00522167962634017,
           0,
           0,
           0,
           0,
           0,
           -0.01219403028926991,
           0.04867876350658115,
           0,
           -0.10254048152704127,
           0.0018008089773643278,
           -0.008361728280549657,
           -0.03854286337281477,
           0,
           0.017812851181639958,
           0.029294488489678853,
           0,
           0.029912177461508788,
           0,
           0,
           0,
           0
          ],
          [
           -0.004281033292343461,
           -0.08860400199681541,
           0,
           0,
           -0.008133441358703671,
           0,
           0,
           0.008113712982583095,
           -0.0033634217813926313,
           0.00976825374093838,
           0,
           0.02518989514526078,
           0,
           0.00204698889612962,
           0,
           0,
           0.017811222465376142,
           -0.08108556673377826,
           0,
           0,
           0.09446720421120565,
           0,
           0,
           0,
           0,
           -0.04208679586740204,
           -0.05511851588594094,
           0,
           0,
           0,
           0,
           0
          ],
          [
           -0.009871540757300018,
           -0.05714708407904564,
           0,
           0,
           0,
           0.00034141953218580327,
           0,
           0,
           0,
           0.07631707133126715,
           -0.03022859065990957,
           -0.025112827311844957,
           0,
           0.06772550480651725,
           -0.038000994532169104,
           0,
           0.029887299758889818,
           0,
           0.05943982547586855,
           0.04929388322481025,
           -0.03292478786592191,
           0,
           0.002793916554509848,
           0,
           0,
           0,
           0,
           0,
           0,
           0,
           0,
           0
          ],
          [
           0,
           0.02089546180218961,
           0,
           0,
           -0.013442258516937198,
           0,
           0,
           0,
           -0.021957849648466976,
           0,
           -0.01063777864031659,
           0,
           -0.004423127226919486,
           0,
           0,
           0,
           0.025898429279378306,
           0.0012586107781544591,
           0,
           0,
           0,
           -0.002330112278178589,
           0,
           0.029028940873424714,
           0.06597432921442813,
           0,
           0,
           0,
           0,
           -0.003054760320203453,
           -0.03382116066245214,
           0.03391133112156486
          ],
          [
           0.04781087321257716,
           -0.055962440854896024,
           0,
           0.01252245059394521,
           0,
           0,
           0,
           0.04679033909976245,
           -0.02329043067473273,
           0,
           0,
           0,
           0,
           0,
           0.0018491568786307081,
           0,
           0,
           0,
           0,
           0,
           0.00803966546747282,
           0,
           0,
           0,
           0,
           0,
           0,
           0,
           0,
           0,
           0.011125448602737354,
           -0.0446669546330541
          ],
          [
           0,
           0,
           0,
           0,
           -0.0019590361485695303,
           -0.04410828356126636,
           0,
           0.013364311659554188,
           0,
           0,
           0,
           0.00619729805256724,
           0.03498151552419529,
           0,
           0,
           0,
           -0.06060095610150797,
           0,
           0,
           0,
           0,
           0.0034195683098087707,
           0.011287769199305285,
           0.015893137321419032,
           0,
           0,
           0,
           0,
           -0.0815076413831385,
           0,
           0,
           0.026034999915422876
          ],
          [
           0.07898147493853333,
           0,
           -0.02857893509831521,
           0,
           0,
           0,
           0,
           0,
           0,
           0.059491692899186294,
           0,
           0,
           0,
           0,
           0.024799860267077173,
           0.056972541575356334,
           -0.005492315740232567,
           0,
           0,
           0,
           0,
           0,
           0,
           0,
           0,
           0,
           0.018187843772145294,
           0,
           0,
           0,
           -0.0663346160472524,
           0.028269905198930696
          ],
          [
           0,
           -0.05559617343732084,
           0,
           0,
           0,
           0,
           0.005663521283774144,
           0,
           0,
           0,
           -0.0025694226699699,
           0,
           0,
           0,
           0,
           -0.031399277504774795,
           0.04984630791548503,
           0,
           0,
           -0.021677422522289477,
           0.043163735095473145,
           0,
           0,
           -0.004749432038685652,
           -0.028171605928280295,
           -0.02062910081113732,
           0,
           0,
           0,
           -0.009668577559736118,
           0,
           0
          ],
          [
           0,
           -0.07241504910267593,
           0,
           0,
           -0.07918406123858465,
           0,
           0,
           0,
           0,
           0.05318925055287832,
           0,
           0,
           0,
           -0.017807399631050824,
           -0.011194639459263028,
           0,
           0.08340400313693265,
           0,
           0,
           0,
           0,
           0,
           0,
           0.017892488130041885,
           0,
           0.005269172279435777,
           0.03210319804718205,
           0,
           -0.06972945643823895,
           0,
           0.04265137331832172,
           0.0027779564776637547
          ],
          [
           0.08590904019149023,
           -0.03231599005349524,
           0,
           0,
           0,
           0,
           0,
           0,
           -0.03373980633185417,
           0,
           0,
           0,
           -0.025392490392582505,
           0,
           0,
           -0.046314212671034,
           -0.017823889368738917,
           0,
           0,
           0.019948812604281198,
           0,
           -0.056729701689779574,
           0.02774832224918869,
           0,
           0,
           0,
           0.039984620381779266,
           0,
           -0.013010824936766476,
           0,
           0,
           0.10959505167180081
          ],
          [
           0,
           0,
           0,
           0.008776281634035057,
           0.02070358004784821,
           0,
           0,
           0.015160451346298582,
           0,
           0,
           0,
           0,
           -0.0007954174300516817,
           0,
           0,
           0.005274160659584832,
           -0.027156832027334682,
           0.027596131771457505,
           0.07942973837663676,
           0,
           0,
           0,
           0,
           0,
           0,
           -0.03540261597761099,
           0,
           -0.024928780835595264,
           0,
           0,
           -0.04385346253092454,
           -0.01961524494630896
          ],
          [
           0,
           0,
           0,
           0,
           0,
           0,
           0,
           0,
           0,
           -0.030925637497784673,
           0,
           0,
           0,
           0.006174325496778604,
           0,
           0.10822024586468935,
           -0.02886511145428467,
           -0.014858842369340574,
           0,
           0,
           0,
           0,
           -0.010074086321716207,
           0,
           0,
           0,
           -0.012104605767477699,
           -0.015982099232644792,
           -0.014597862312008306,
           0,
           0,
           0.0775892483995831
          ],
          [
           0,
           0,
           -0.013874018513640066,
           0,
           -0.07329453261493798,
           0,
           0,
           0,
           0,
           -0.05025842694165307,
           0,
           0.048627398103487415,
           0,
           0,
           0,
           0,
           0,
           0,
           0,
           0,
           0,
           0,
           -0.014108529452043992,
           0,
           0,
           0,
           -0.0020186870826966363,
           0,
           0,
           -0.03819299440563554,
           0,
           0
          ],
          [
           0,
           0,
           0,
           0,
           0,
           -0.015013045442172709,
           0,
           0,
           0,
           0,
           0,
           0,
           0,
           0,
           -0.022089404355436187,
           0,
           0,
           0,
           0,
           0,
           0,
           0,
           0,
           -0.02724938311542733,
           0,
           0,
           0,
           0,
           0.01247382455527158,
           0,
           0.0415323263490804,
           0
          ],
          [
           0.13631839029670806,
           0,
           0,
           0.018712057555303994,
           0,
           0,
           0,
           0,
           0,
           0,
           0.013132526571308372,
           0,
           0,
           0,
           0,
           -0.00645998717052171,
           0,
           0.008212406452701217,
           0,
           0,
           0,
           0,
           0.0037241759003439566,
           0,
           0,
           0,
           0,
           0,
           0.027450316118517462,
           0,
           0,
           -0.031386787430198994
          ],
          [
           0,
           0,
           0,
           0,
           -0.03894504587328374,
           0,
           0,
           0,
           0,
           0,
           0.0045244042538513975,
           0.010024742194986759,
           0,
           -0.057280883645922626,
           0,
           -0.03398648940142503,
           -0.050655201209036174,
           0,
           0,
           0,
           0,
           0,
           0,
           -0.04152124132662553,
           0,
           0,
           -0.0353920880251016,
           0,
           0,
           0,
           0,
           0
          ],
          [
           0,
           -0.011469743645597674,
           0,
           0,
           0,
           -0.01562137088330972,
           0,
           0,
           0,
           0,
           0,
           0,
           0,
           -0.009066924035053438,
           -0.03832979839411999,
           0,
           0,
           0,
           0,
           -0.06561262124926179,
           0,
           0,
           -0.014557827217617978,
           0,
           0,
           0,
           -0.043282925369514544,
           0,
           -0.045049468191449164,
           0,
           0,
           0
          ],
          [
           0.12588586900644844,
           0,
           0,
           0,
           0,
           -0.07139858930036079,
           0,
           0,
           0,
           0,
           0,
           0,
           0,
           0,
           0,
           -0.013633753226313255,
           0,
           0,
           0,
           0,
           0,
           0,
           0,
           0,
           0,
           0,
           0,
           0,
           0,
           0,
           0.1735571181638554,
           0.04351990858292355
          ],
          [
           0.311659533804876,
           0,
           0,
           0,
           0,
           0,
           0.0010292912459343012,
           0,
           0,
           0,
           0.03511397006260563,
           0,
           0,
           0,
           0,
           0,
           0,
           0,
           0,
           0.007963227491683147,
           0,
           0,
           0,
           0,
           0,
           0,
           0,
           0,
           0,
           0.049224687830191544,
           0,
           0.11056546115353884
          ]
         ]
        }
       ],
       "layout": {
        "autosize": true,
        "coloraxis": {
         "colorscale": [
          [
           0,
           "#0d0887"
          ],
          [
           0.1111111111111111,
           "#46039f"
          ],
          [
           0.2222222222222222,
           "#7201a8"
          ],
          [
           0.3333333333333333,
           "#9c179e"
          ],
          [
           0.4444444444444444,
           "#bd3786"
          ],
          [
           0.5555555555555556,
           "#d8576b"
          ],
          [
           0.6666666666666666,
           "#ed7953"
          ],
          [
           0.7777777777777778,
           "#fb9f3a"
          ],
          [
           0.8888888888888888,
           "#fdca26"
          ],
          [
           1,
           "#f0f921"
          ]
         ]
        },
        "margin": {
         "t": 60
        },
        "template": {
         "data": {
          "bar": [
           {
            "error_x": {
             "color": "#2a3f5f"
            },
            "error_y": {
             "color": "#2a3f5f"
            },
            "marker": {
             "line": {
              "color": "#E5ECF6",
              "width": 0.5
             },
             "pattern": {
              "fillmode": "overlay",
              "size": 10,
              "solidity": 0.2
             }
            },
            "type": "bar"
           }
          ],
          "barpolar": [
           {
            "marker": {
             "line": {
              "color": "#E5ECF6",
              "width": 0.5
             },
             "pattern": {
              "fillmode": "overlay",
              "size": 10,
              "solidity": 0.2
             }
            },
            "type": "barpolar"
           }
          ],
          "carpet": [
           {
            "aaxis": {
             "endlinecolor": "#2a3f5f",
             "gridcolor": "white",
             "linecolor": "white",
             "minorgridcolor": "white",
             "startlinecolor": "#2a3f5f"
            },
            "baxis": {
             "endlinecolor": "#2a3f5f",
             "gridcolor": "white",
             "linecolor": "white",
             "minorgridcolor": "white",
             "startlinecolor": "#2a3f5f"
            },
            "type": "carpet"
           }
          ],
          "choropleth": [
           {
            "colorbar": {
             "outlinewidth": 0,
             "ticks": ""
            },
            "type": "choropleth"
           }
          ],
          "contour": [
           {
            "colorbar": {
             "outlinewidth": 0,
             "ticks": ""
            },
            "colorscale": [
             [
              0,
              "#0d0887"
             ],
             [
              0.1111111111111111,
              "#46039f"
             ],
             [
              0.2222222222222222,
              "#7201a8"
             ],
             [
              0.3333333333333333,
              "#9c179e"
             ],
             [
              0.4444444444444444,
              "#bd3786"
             ],
             [
              0.5555555555555556,
              "#d8576b"
             ],
             [
              0.6666666666666666,
              "#ed7953"
             ],
             [
              0.7777777777777778,
              "#fb9f3a"
             ],
             [
              0.8888888888888888,
              "#fdca26"
             ],
             [
              1,
              "#f0f921"
             ]
            ],
            "type": "contour"
           }
          ],
          "contourcarpet": [
           {
            "colorbar": {
             "outlinewidth": 0,
             "ticks": ""
            },
            "type": "contourcarpet"
           }
          ],
          "heatmap": [
           {
            "colorbar": {
             "outlinewidth": 0,
             "ticks": ""
            },
            "colorscale": [
             [
              0,
              "#0d0887"
             ],
             [
              0.1111111111111111,
              "#46039f"
             ],
             [
              0.2222222222222222,
              "#7201a8"
             ],
             [
              0.3333333333333333,
              "#9c179e"
             ],
             [
              0.4444444444444444,
              "#bd3786"
             ],
             [
              0.5555555555555556,
              "#d8576b"
             ],
             [
              0.6666666666666666,
              "#ed7953"
             ],
             [
              0.7777777777777778,
              "#fb9f3a"
             ],
             [
              0.8888888888888888,
              "#fdca26"
             ],
             [
              1,
              "#f0f921"
             ]
            ],
            "type": "heatmap"
           }
          ],
          "heatmapgl": [
           {
            "colorbar": {
             "outlinewidth": 0,
             "ticks": ""
            },
            "colorscale": [
             [
              0,
              "#0d0887"
             ],
             [
              0.1111111111111111,
              "#46039f"
             ],
             [
              0.2222222222222222,
              "#7201a8"
             ],
             [
              0.3333333333333333,
              "#9c179e"
             ],
             [
              0.4444444444444444,
              "#bd3786"
             ],
             [
              0.5555555555555556,
              "#d8576b"
             ],
             [
              0.6666666666666666,
              "#ed7953"
             ],
             [
              0.7777777777777778,
              "#fb9f3a"
             ],
             [
              0.8888888888888888,
              "#fdca26"
             ],
             [
              1,
              "#f0f921"
             ]
            ],
            "type": "heatmapgl"
           }
          ],
          "histogram": [
           {
            "marker": {
             "pattern": {
              "fillmode": "overlay",
              "size": 10,
              "solidity": 0.2
             }
            },
            "type": "histogram"
           }
          ],
          "histogram2d": [
           {
            "colorbar": {
             "outlinewidth": 0,
             "ticks": ""
            },
            "colorscale": [
             [
              0,
              "#0d0887"
             ],
             [
              0.1111111111111111,
              "#46039f"
             ],
             [
              0.2222222222222222,
              "#7201a8"
             ],
             [
              0.3333333333333333,
              "#9c179e"
             ],
             [
              0.4444444444444444,
              "#bd3786"
             ],
             [
              0.5555555555555556,
              "#d8576b"
             ],
             [
              0.6666666666666666,
              "#ed7953"
             ],
             [
              0.7777777777777778,
              "#fb9f3a"
             ],
             [
              0.8888888888888888,
              "#fdca26"
             ],
             [
              1,
              "#f0f921"
             ]
            ],
            "type": "histogram2d"
           }
          ],
          "histogram2dcontour": [
           {
            "colorbar": {
             "outlinewidth": 0,
             "ticks": ""
            },
            "colorscale": [
             [
              0,
              "#0d0887"
             ],
             [
              0.1111111111111111,
              "#46039f"
             ],
             [
              0.2222222222222222,
              "#7201a8"
             ],
             [
              0.3333333333333333,
              "#9c179e"
             ],
             [
              0.4444444444444444,
              "#bd3786"
             ],
             [
              0.5555555555555556,
              "#d8576b"
             ],
             [
              0.6666666666666666,
              "#ed7953"
             ],
             [
              0.7777777777777778,
              "#fb9f3a"
             ],
             [
              0.8888888888888888,
              "#fdca26"
             ],
             [
              1,
              "#f0f921"
             ]
            ],
            "type": "histogram2dcontour"
           }
          ],
          "mesh3d": [
           {
            "colorbar": {
             "outlinewidth": 0,
             "ticks": ""
            },
            "type": "mesh3d"
           }
          ],
          "parcoords": [
           {
            "line": {
             "colorbar": {
              "outlinewidth": 0,
              "ticks": ""
             }
            },
            "type": "parcoords"
           }
          ],
          "pie": [
           {
            "automargin": true,
            "type": "pie"
           }
          ],
          "scatter": [
           {
            "fillpattern": {
             "fillmode": "overlay",
             "size": 10,
             "solidity": 0.2
            },
            "type": "scatter"
           }
          ],
          "scatter3d": [
           {
            "line": {
             "colorbar": {
              "outlinewidth": 0,
              "ticks": ""
             }
            },
            "marker": {
             "colorbar": {
              "outlinewidth": 0,
              "ticks": ""
             }
            },
            "type": "scatter3d"
           }
          ],
          "scattercarpet": [
           {
            "marker": {
             "colorbar": {
              "outlinewidth": 0,
              "ticks": ""
             }
            },
            "type": "scattercarpet"
           }
          ],
          "scattergeo": [
           {
            "marker": {
             "colorbar": {
              "outlinewidth": 0,
              "ticks": ""
             }
            },
            "type": "scattergeo"
           }
          ],
          "scattergl": [
           {
            "marker": {
             "colorbar": {
              "outlinewidth": 0,
              "ticks": ""
             }
            },
            "type": "scattergl"
           }
          ],
          "scattermapbox": [
           {
            "marker": {
             "colorbar": {
              "outlinewidth": 0,
              "ticks": ""
             }
            },
            "type": "scattermapbox"
           }
          ],
          "scatterpolar": [
           {
            "marker": {
             "colorbar": {
              "outlinewidth": 0,
              "ticks": ""
             }
            },
            "type": "scatterpolar"
           }
          ],
          "scatterpolargl": [
           {
            "marker": {
             "colorbar": {
              "outlinewidth": 0,
              "ticks": ""
             }
            },
            "type": "scatterpolargl"
           }
          ],
          "scatterternary": [
           {
            "marker": {
             "colorbar": {
              "outlinewidth": 0,
              "ticks": ""
             }
            },
            "type": "scatterternary"
           }
          ],
          "surface": [
           {
            "colorbar": {
             "outlinewidth": 0,
             "ticks": ""
            },
            "colorscale": [
             [
              0,
              "#0d0887"
             ],
             [
              0.1111111111111111,
              "#46039f"
             ],
             [
              0.2222222222222222,
              "#7201a8"
             ],
             [
              0.3333333333333333,
              "#9c179e"
             ],
             [
              0.4444444444444444,
              "#bd3786"
             ],
             [
              0.5555555555555556,
              "#d8576b"
             ],
             [
              0.6666666666666666,
              "#ed7953"
             ],
             [
              0.7777777777777778,
              "#fb9f3a"
             ],
             [
              0.8888888888888888,
              "#fdca26"
             ],
             [
              1,
              "#f0f921"
             ]
            ],
            "type": "surface"
           }
          ],
          "table": [
           {
            "cells": {
             "fill": {
              "color": "#EBF0F8"
             },
             "line": {
              "color": "white"
             }
            },
            "header": {
             "fill": {
              "color": "#C8D4E3"
             },
             "line": {
              "color": "white"
             }
            },
            "type": "table"
           }
          ]
         },
         "layout": {
          "annotationdefaults": {
           "arrowcolor": "#2a3f5f",
           "arrowhead": 0,
           "arrowwidth": 1
          },
          "autotypenumbers": "strict",
          "coloraxis": {
           "colorbar": {
            "outlinewidth": 0,
            "ticks": ""
           }
          },
          "colorscale": {
           "diverging": [
            [
             0,
             "#8e0152"
            ],
            [
             0.1,
             "#c51b7d"
            ],
            [
             0.2,
             "#de77ae"
            ],
            [
             0.3,
             "#f1b6da"
            ],
            [
             0.4,
             "#fde0ef"
            ],
            [
             0.5,
             "#f7f7f7"
            ],
            [
             0.6,
             "#e6f5d0"
            ],
            [
             0.7,
             "#b8e186"
            ],
            [
             0.8,
             "#7fbc41"
            ],
            [
             0.9,
             "#4d9221"
            ],
            [
             1,
             "#276419"
            ]
           ],
           "sequential": [
            [
             0,
             "#0d0887"
            ],
            [
             0.1111111111111111,
             "#46039f"
            ],
            [
             0.2222222222222222,
             "#7201a8"
            ],
            [
             0.3333333333333333,
             "#9c179e"
            ],
            [
             0.4444444444444444,
             "#bd3786"
            ],
            [
             0.5555555555555556,
             "#d8576b"
            ],
            [
             0.6666666666666666,
             "#ed7953"
            ],
            [
             0.7777777777777778,
             "#fb9f3a"
            ],
            [
             0.8888888888888888,
             "#fdca26"
            ],
            [
             1,
             "#f0f921"
            ]
           ],
           "sequentialminus": [
            [
             0,
             "#0d0887"
            ],
            [
             0.1111111111111111,
             "#46039f"
            ],
            [
             0.2222222222222222,
             "#7201a8"
            ],
            [
             0.3333333333333333,
             "#9c179e"
            ],
            [
             0.4444444444444444,
             "#bd3786"
            ],
            [
             0.5555555555555556,
             "#d8576b"
            ],
            [
             0.6666666666666666,
             "#ed7953"
            ],
            [
             0.7777777777777778,
             "#fb9f3a"
            ],
            [
             0.8888888888888888,
             "#fdca26"
            ],
            [
             1,
             "#f0f921"
            ]
           ]
          },
          "colorway": [
           "#636efa",
           "#EF553B",
           "#00cc96",
           "#ab63fa",
           "#FFA15A",
           "#19d3f3",
           "#FF6692",
           "#B6E880",
           "#FF97FF",
           "#FECB52"
          ],
          "font": {
           "color": "#2a3f5f"
          },
          "geo": {
           "bgcolor": "white",
           "lakecolor": "white",
           "landcolor": "#E5ECF6",
           "showlakes": true,
           "showland": true,
           "subunitcolor": "white"
          },
          "hoverlabel": {
           "align": "left"
          },
          "hovermode": "closest",
          "mapbox": {
           "style": "light"
          },
          "paper_bgcolor": "white",
          "plot_bgcolor": "#E5ECF6",
          "polar": {
           "angularaxis": {
            "gridcolor": "white",
            "linecolor": "white",
            "ticks": ""
           },
           "bgcolor": "#E5ECF6",
           "radialaxis": {
            "gridcolor": "white",
            "linecolor": "white",
            "ticks": ""
           }
          },
          "scene": {
           "xaxis": {
            "backgroundcolor": "#E5ECF6",
            "gridcolor": "white",
            "gridwidth": 2,
            "linecolor": "white",
            "showbackground": true,
            "ticks": "",
            "zerolinecolor": "white"
           },
           "yaxis": {
            "backgroundcolor": "#E5ECF6",
            "gridcolor": "white",
            "gridwidth": 2,
            "linecolor": "white",
            "showbackground": true,
            "ticks": "",
            "zerolinecolor": "white"
           },
           "zaxis": {
            "backgroundcolor": "#E5ECF6",
            "gridcolor": "white",
            "gridwidth": 2,
            "linecolor": "white",
            "showbackground": true,
            "ticks": "",
            "zerolinecolor": "white"
           }
          },
          "shapedefaults": {
           "line": {
            "color": "#2a3f5f"
           }
          },
          "ternary": {
           "aaxis": {
            "gridcolor": "white",
            "linecolor": "white",
            "ticks": ""
           },
           "baxis": {
            "gridcolor": "white",
            "linecolor": "white",
            "ticks": ""
           },
           "bgcolor": "#E5ECF6",
           "caxis": {
            "gridcolor": "white",
            "linecolor": "white",
            "ticks": ""
           }
          },
          "title": {
           "x": 0.05
          },
          "xaxis": {
           "automargin": true,
           "gridcolor": "white",
           "linecolor": "white",
           "ticks": "",
           "title": {
            "standoff": 15
           },
           "zerolinecolor": "white",
           "zerolinewidth": 2
          },
          "yaxis": {
           "automargin": true,
           "gridcolor": "white",
           "linecolor": "white",
           "ticks": "",
           "title": {
            "standoff": 15
           },
           "zerolinecolor": "white",
           "zerolinewidth": 2
          }
         }
        },
        "xaxis": {
         "anchor": "y",
         "autorange": true,
         "constrain": "domain",
         "domain": [
          0.36650485436893204,
          0.633495145631068
         ],
         "range": [
          -0.5,
          31.5
         ],
         "scaleanchor": "y",
         "side": "top"
        },
        "yaxis": {
         "anchor": "x",
         "autorange": true,
         "constrain": "domain",
         "domain": [
          0,
          1
         ],
         "range": [
          31.5,
          -0.5
         ]
        }
       }
      },
      "image/png": "[encoded data removed]",
      "text/html": [
       "<div>                            <div id=\"26294194-5986-4027-ac6d-881d33fc91f0\" class=\"plotly-graph-div\" style=\"height:525px; width:100%;\"></div>            <script type=\"text/javascript\">                require([\"plotly\"], function(Plotly) {                    window.PLOTLYENV=window.PLOTLYENV || {};                                    if (document.getElementById(\"26294194-5986-4027-ac6d-881d33fc91f0\")) {                    Plotly.newPlot(                        \"26294194-5986-4027-ac6d-881d33fc91f0\",                        [{\"coloraxis\":\"coloraxis\",\"name\":\"0\",\"z\":[[0.2092348078198635,0.0043702789773958665,0.0494425345768446,0.0,0.0,0.0,0.0,0.0,0.0,0.0,-0.019320644719830055,-0.02542572848887739,0.0,-0.016092102487845816,0.0,0.0,0.0,0.0,-0.001425910384371032,0.0,0.0,0.0,0.0,0.13239370682858687,0.014435237320552656,0.0,0.012029265433144691,0.0,0.0,0.0,0.10761411840740277,0.11640600938325299],[0.06382492800415385,0.0,0.0,0.0,0.0,0.0,0.0,0.0,-0.01672964784490713,0.0,-0.0004468106810477294,-0.0030988525756237674,0.0,0.0,0.020129773674912074,0.0,-0.040531679229060515,0.0,0.0,0.0,0.0,0.0,0.0,0.0,0.0,0.0,0.0,0.0,-0.04154401580881947,0.0,0.0,0.0],[0.026319617040353648,0.0,0.0,0.0,0.0,0.0,0.0,0.0,-0.0316892557127091,0.0,0.0,0.0,0.0,0.0,0.010708689701965167,0.0,-0.04363865125419767,-0.04408053021640045,0.0,0.0,0.0,0.0,0.0,0.04919132331290803,0.0,0.0,0.0,0.0,0.0,0.0,0.030646486786525068,0.0],[0.0,0.0,0.0,0.0,0.0,-0.067106580185103,0.0,0.0,0.0,0.0,0.0,0.0,0.0,0.0,0.0,0.0,0.0,-0.0618321467093349,0.0,0.0,0.0,-0.009937841637399568,0.0,0.0,0.05162003807590614,0.0,0.0,0.010572179212854171,0.0,0.0,0.0,0.0],[0.0,0.0,0.0,0.0,0.0,0.0,0.0,0.0,0.0,0.0,0.0,0.012849196177923666,0.0,0.0,0.05975707431425104,0.011331443015631543,0.0,0.0,0.0,0.0,0.0,0.0,0.0,-0.07459841931400107,0.0,0.0,0.0,0.0,0.0,-0.011118398737542877,0.0,0.0],[0.0,0.0,0.0,0.0,0.0,0.0,0.0,-0.035882986587876246,-0.07343410246245656,0.0,0.0,0.05583278766217103,0.0,0.0,0.0,0.0,0.0,0.0,0.0,0.02020992638466721,0.0,0.0,0.0,0.0,0.0,0.0,0.0,0.0,0.0,0.0,0.0,0.0],[0.02884754975892763,0.0,0.0,0.0,0.0,0.0,0.0,0.0,0.0,0.0,0.0,0.0,-0.010965294145075228,0.0,0.0,0.0,0.01606043769138233,0.0,-0.01673290961242234,0.0,0.0,0.0,-0.03680128721064877,0.0,0.0,0.0,0.0,0.0,0.0,0.0,0.0,0.0],[0.037422547566192045,0.0,0.0,-0.007970702007503947,0.0,0.0,0.0,0.0,0.012862493921764848,0.0,0.10151591639505321,0.0,-0.034509221461051974,0.0,0.004925768149769789,0.0,0.0,0.0,0.0,0.0,0.0,0.0,0.0,0.0,0.0,0.0,0.0,0.0,0.0,0.0,-0.021769156093139203,0.0],[0.0,0.0,0.0,-0.04481942106180415,-0.0698302461002015,0.0,0.0,0.0,0.0,0.0,0.0,0.0,0.0,0.0,0.0399867305588604,0.0,0.0,0.0,0.0,-0.021107832765705957,-0.022296884003451894,0.0,0.0,0.0,0.0,0.0,-0.03379609572415465,0.0,0.0,0.0,0.0,-0.002090888160147099],[0.0,0.0,0.0,0.0,0.0,0.0032831997704501157,0.0,0.0,-0.04923605955511661,0.0,0.0,0.023896685032424876,0.0,0.0,0.0,-0.00940586004324041,0.0,0.019718306432301914,-0.023052081795937422,0.0,0.0,-0.0025120750328278428,-0.007316542334946129,0.0,0.0,0.0,0.006255523792006954,0.006899292566650285,0.0,0.0,0.027890908063778665,0.0],[0.0,0.0,0.0,0.0,0.09592778174757785,0.0,0.013223030089893957,0.0,-0.024579525458121407,-0.003158288830533265,0.0,0.0,-0.028804391563733683,0.0,0.02658324963690916,0.0,0.04859146119824056,0.010792752126358718,-0.011208855655248779,0.0961415527687807,0.001697849529596286,0.0,0.0,0.0,-0.005601007204791938,0.0,0.0,0.01084063918392493,0.0,0.0,0.0,0.0],[0.0,0.0,0.0029442764991188908,0.0,0.0,0.0,0.0203491715687307,0.0,0.0,0.012625209225737885,-0.026014962139788857,0.0259957469910787,0.0,0.0,0.0,0.0,-0.04121447550792102,0.0,0.0,0.006435735343979358,0.0,0.0,0.03480117890029129,0.0,-0.001727337880275919,-0.02138105553230534,-0.023501870468898504,0.0,0.0,0.0,0.0,0.0],[0.05676200193933946,0.0,0.0,0.0,-0.03607583334625022,0.0,0.0,-0.01654021028434203,-0.012718582224420386,0.0,0.008173971733716081,0.030333173929053547,0.0,0.06154656443501052,0.0035708915437201367,-0.025941127352923372,-0.01343952381597369,0.0,-0.012552350123006751,0.0,0.0,0.0,0.0,0.049842630506215964,0.0,0.0,0.0,0.015119176279480447,0.0,0.0,-0.05081795824305279,0.0],[0.0,0.0,0.0,0.0,0.0,0.009515759755238126,0.0,0.0,-0.0006718533130872613,0.0,-0.00522167962634017,0.0,0.0,0.0,0.0,0.0,-0.01219403028926991,0.04867876350658115,0.0,-0.10254048152704127,0.0018008089773643278,-0.008361728280549657,-0.03854286337281477,0.0,0.017812851181639958,0.029294488489678853,0.0,0.029912177461508788,0.0,0.0,0.0,0.0],[-0.004281033292343461,-0.08860400199681541,0.0,0.0,-0.008133441358703671,0.0,0.0,0.008113712982583095,-0.0033634217813926313,0.00976825374093838,0.0,0.02518989514526078,0.0,0.00204698889612962,0.0,0.0,0.017811222465376142,-0.08108556673377826,0.0,0.0,0.09446720421120565,0.0,0.0,0.0,0.0,-0.04208679586740204,-0.05511851588594094,0.0,0.0,0.0,0.0,0.0],[-0.009871540757300018,-0.05714708407904564,0.0,0.0,0.0,0.00034141953218580327,0.0,0.0,0.0,0.07631707133126715,-0.03022859065990957,-0.025112827311844957,0.0,0.06772550480651725,-0.038000994532169104,0.0,0.029887299758889818,0.0,0.05943982547586855,0.04929388322481025,-0.03292478786592191,0.0,0.002793916554509848,0.0,0.0,0.0,0.0,0.0,0.0,0.0,0.0,0.0],[0.0,0.02089546180218961,0.0,0.0,-0.013442258516937198,0.0,0.0,0.0,-0.021957849648466976,0.0,-0.01063777864031659,0.0,-0.004423127226919486,0.0,0.0,0.0,0.025898429279378306,0.0012586107781544591,0.0,0.0,0.0,-0.002330112278178589,0.0,0.029028940873424714,0.06597432921442813,0.0,0.0,0.0,0.0,-0.003054760320203453,-0.03382116066245214,0.03391133112156486],[0.04781087321257716,-0.055962440854896024,0.0,0.01252245059394521,0.0,0.0,0.0,0.04679033909976245,-0.02329043067473273,0.0,0.0,0.0,0.0,0.0,0.0018491568786307081,0.0,0.0,0.0,0.0,0.0,0.00803966546747282,0.0,0.0,0.0,0.0,0.0,0.0,0.0,0.0,0.0,0.011125448602737354,-0.0446669546330541],[0.0,0.0,0.0,0.0,-0.0019590361485695303,-0.04410828356126636,0.0,0.013364311659554188,0.0,0.0,0.0,0.00619729805256724,0.03498151552419529,0.0,0.0,0.0,-0.06060095610150797,0.0,0.0,0.0,0.0,0.0034195683098087707,0.011287769199305285,0.015893137321419032,0.0,0.0,0.0,0.0,-0.0815076413831385,0.0,0.0,0.026034999915422876],[0.07898147493853333,0.0,-0.02857893509831521,0.0,0.0,0.0,0.0,0.0,0.0,0.059491692899186294,0.0,0.0,0.0,0.0,0.024799860267077173,0.056972541575356334,-0.005492315740232567,0.0,0.0,0.0,0.0,0.0,0.0,0.0,0.0,0.0,0.018187843772145294,0.0,0.0,0.0,-0.0663346160472524,0.028269905198930696],[0.0,-0.05559617343732084,0.0,0.0,0.0,0.0,0.005663521283774144,0.0,0.0,0.0,-0.0025694226699699,0.0,0.0,0.0,0.0,-0.031399277504774795,0.04984630791548503,0.0,0.0,-0.021677422522289477,0.043163735095473145,0.0,0.0,-0.004749432038685652,-0.028171605928280295,-0.02062910081113732,0.0,0.0,0.0,-0.009668577559736118,0.0,0.0],[0.0,-0.07241504910267593,0.0,0.0,-0.07918406123858465,0.0,0.0,0.0,0.0,0.05318925055287832,0.0,0.0,0.0,-0.017807399631050824,-0.011194639459263028,0.0,0.08340400313693265,0.0,0.0,0.0,0.0,0.0,0.0,0.017892488130041885,0.0,0.005269172279435777,0.03210319804718205,0.0,-0.06972945643823895,0.0,0.04265137331832172,0.0027779564776637547],[0.08590904019149023,-0.03231599005349524,0.0,0.0,0.0,0.0,0.0,0.0,-0.03373980633185417,0.0,0.0,0.0,-0.025392490392582505,0.0,0.0,-0.046314212671034,-0.017823889368738917,0.0,0.0,0.019948812604281198,0.0,-0.056729701689779574,0.02774832224918869,0.0,0.0,0.0,0.039984620381779266,0.0,-0.013010824936766476,0.0,0.0,0.10959505167180081],[0.0,0.0,0.0,0.008776281634035057,0.02070358004784821,0.0,0.0,0.015160451346298582,0.0,0.0,0.0,0.0,-0.0007954174300516817,0.0,0.0,0.005274160659584832,-0.027156832027334682,0.027596131771457505,0.07942973837663676,0.0,0.0,0.0,0.0,0.0,0.0,-0.03540261597761099,0.0,-0.024928780835595264,0.0,0.0,-0.04385346253092454,-0.01961524494630896],[0.0,0.0,0.0,0.0,0.0,0.0,0.0,0.0,0.0,-0.030925637497784673,0.0,0.0,0.0,0.006174325496778604,0.0,0.10822024586468935,-0.02886511145428467,-0.014858842369340574,0.0,0.0,0.0,0.0,-0.010074086321716207,0.0,0.0,0.0,-0.012104605767477699,-0.015982099232644792,-0.014597862312008306,0.0,0.0,0.0775892483995831],[0.0,0.0,-0.013874018513640066,0.0,-0.07329453261493798,0.0,0.0,0.0,0.0,-0.05025842694165307,0.0,0.048627398103487415,0.0,0.0,0.0,0.0,0.0,0.0,0.0,0.0,0.0,0.0,-0.014108529452043992,0.0,0.0,0.0,-0.0020186870826966363,0.0,0.0,-0.03819299440563554,0.0,0.0],[0.0,0.0,0.0,0.0,0.0,-0.015013045442172709,0.0,0.0,0.0,0.0,0.0,0.0,0.0,0.0,-0.022089404355436187,0.0,0.0,0.0,0.0,0.0,0.0,0.0,0.0,-0.02724938311542733,0.0,0.0,0.0,0.0,0.01247382455527158,0.0,0.0415323263490804,0.0],[0.13631839029670806,0.0,0.0,0.018712057555303994,0.0,0.0,0.0,0.0,0.0,0.0,0.013132526571308372,0.0,0.0,0.0,0.0,-0.00645998717052171,0.0,0.008212406452701217,0.0,0.0,0.0,0.0,0.0037241759003439566,0.0,0.0,0.0,0.0,0.0,0.027450316118517462,0.0,0.0,-0.031386787430198994],[0.0,0.0,0.0,0.0,-0.03894504587328374,0.0,0.0,0.0,0.0,0.0,0.0045244042538513975,0.010024742194986759,0.0,-0.057280883645922626,0.0,-0.03398648940142503,-0.050655201209036174,0.0,0.0,0.0,0.0,0.0,0.0,-0.04152124132662553,0.0,0.0,-0.0353920880251016,0.0,0.0,0.0,0.0,0.0],[0.0,-0.011469743645597674,0.0,0.0,0.0,-0.01562137088330972,0.0,0.0,0.0,0.0,0.0,0.0,0.0,-0.009066924035053438,-0.03832979839411999,0.0,0.0,0.0,0.0,-0.06561262124926179,0.0,0.0,-0.014557827217617978,0.0,0.0,0.0,-0.043282925369514544,0.0,-0.045049468191449164,0.0,0.0,0.0],[0.12588586900644844,0.0,0.0,0.0,0.0,-0.07139858930036079,0.0,0.0,0.0,0.0,0.0,0.0,0.0,0.0,0.0,-0.013633753226313255,0.0,0.0,0.0,0.0,0.0,0.0,0.0,0.0,0.0,0.0,0.0,0.0,0.0,0.0,0.1735571181638554,0.04351990858292355],[0.311659533804876,0.0,0.0,0.0,0.0,0.0,0.0010292912459343012,0.0,0.0,0.0,0.03511397006260563,0.0,0.0,0.0,0.0,0.0,0.0,0.0,0.0,0.007963227491683147,0.0,0.0,0.0,0.0,0.0,0.0,0.0,0.0,0.0,0.049224687830191544,0.0,0.11056546115353884]],\"type\":\"heatmap\",\"xaxis\":\"x\",\"yaxis\":\"y\",\"hovertemplate\":\"x: %{x}<br>y: %{y}<br>color: %{z}<extra></extra>\"}],                        {\"template\":{\"data\":{\"histogram2dcontour\":[{\"type\":\"histogram2dcontour\",\"colorbar\":{\"outlinewidth\":0,\"ticks\":\"\"},\"colorscale\":[[0.0,\"#0d0887\"],[0.1111111111111111,\"#46039f\"],[0.2222222222222222,\"#7201a8\"],[0.3333333333333333,\"#9c179e\"],[0.4444444444444444,\"#bd3786\"],[0.5555555555555556,\"#d8576b\"],[0.6666666666666666,\"#ed7953\"],[0.7777777777777778,\"#fb9f3a\"],[0.8888888888888888,\"#fdca26\"],[1.0,\"#f0f921\"]]}],\"choropleth\":[{\"type\":\"choropleth\",\"colorbar\":{\"outlinewidth\":0,\"ticks\":\"\"}}],\"histogram2d\":[{\"type\":\"histogram2d\",\"colorbar\":{\"outlinewidth\":0,\"ticks\":\"\"},\"colorscale\":[[0.0,\"#0d0887\"],[0.1111111111111111,\"#46039f\"],[0.2222222222222222,\"#7201a8\"],[0.3333333333333333,\"#9c179e\"],[0.4444444444444444,\"#bd3786\"],[0.5555555555555556,\"#d8576b\"],[0.6666666666666666,\"#ed7953\"],[0.7777777777777778,\"#fb9f3a\"],[0.8888888888888888,\"#fdca26\"],[1.0,\"#f0f921\"]]}],\"heatmap\":[{\"type\":\"heatmap\",\"colorbar\":{\"outlinewidth\":0,\"ticks\":\"\"},\"colorscale\":[[0.0,\"#0d0887\"],[0.1111111111111111,\"#46039f\"],[0.2222222222222222,\"#7201a8\"],[0.3333333333333333,\"#9c179e\"],[0.4444444444444444,\"#bd3786\"],[0.5555555555555556,\"#d8576b\"],[0.6666666666666666,\"#ed7953\"],[0.7777777777777778,\"#fb9f3a\"],[0.8888888888888888,\"#fdca26\"],[1.0,\"#f0f921\"]]}],\"heatmapgl\":[{\"type\":\"heatmapgl\",\"colorbar\":{\"outlinewidth\":0,\"ticks\":\"\"},\"colorscale\":[[0.0,\"#0d0887\"],[0.1111111111111111,\"#46039f\"],[0.2222222222222222,\"#7201a8\"],[0.3333333333333333,\"#9c179e\"],[0.4444444444444444,\"#bd3786\"],[0.5555555555555556,\"#d8576b\"],[0.6666666666666666,\"#ed7953\"],[0.7777777777777778,\"#fb9f3a\"],[0.8888888888888888,\"#fdca26\"],[1.0,\"#f0f921\"]]}],\"contourcarpet\":[{\"type\":\"contourcarpet\",\"colorbar\":{\"outlinewidth\":0,\"ticks\":\"\"}}],\"contour\":[{\"type\":\"contour\",\"colorbar\":{\"outlinewidth\":0,\"ticks\":\"\"},\"colorscale\":[[0.0,\"#0d0887\"],[0.1111111111111111,\"#46039f\"],[0.2222222222222222,\"#7201a8\"],[0.3333333333333333,\"#9c179e\"],[0.4444444444444444,\"#bd3786\"],[0.5555555555555556,\"#d8576b\"],[0.6666666666666666,\"#ed7953\"],[0.7777777777777778,\"#fb9f3a\"],[0.8888888888888888,\"#fdca26\"],[1.0,\"#f0f921\"]]}],\"surface\":[{\"type\":\"surface\",\"colorbar\":{\"outlinewidth\":0,\"ticks\":\"\"},\"colorscale\":[[0.0,\"#0d0887\"],[0.1111111111111111,\"#46039f\"],[0.2222222222222222,\"#7201a8\"],[0.3333333333333333,\"#9c179e\"],[0.4444444444444444,\"#bd3786\"],[0.5555555555555556,\"#d8576b\"],[0.6666666666666666,\"#ed7953\"],[0.7777777777777778,\"#fb9f3a\"],[0.8888888888888888,\"#fdca26\"],[1.0,\"#f0f921\"]]}],\"mesh3d\":[{\"type\":\"mesh3d\",\"colorbar\":{\"outlinewidth\":0,\"ticks\":\"\"}}],\"scatter\":[{\"fillpattern\":{\"fillmode\":\"overlay\",\"size\":10,\"solidity\":0.2},\"type\":\"scatter\"}],\"parcoords\":[{\"type\":\"parcoords\",\"line\":{\"colorbar\":{\"outlinewidth\":0,\"ticks\":\"\"}}}],\"scatterpolargl\":[{\"type\":\"scatterpolargl\",\"marker\":{\"colorbar\":{\"outlinewidth\":0,\"ticks\":\"\"}}}],\"bar\":[{\"error_x\":{\"color\":\"#2a3f5f\"},\"error_y\":{\"color\":\"#2a3f5f\"},\"marker\":{\"line\":{\"color\":\"#E5ECF6\",\"width\":0.5},\"pattern\":{\"fillmode\":\"overlay\",\"size\":10,\"solidity\":0.2}},\"type\":\"bar\"}],\"scattergeo\":[{\"type\":\"scattergeo\",\"marker\":{\"colorbar\":{\"outlinewidth\":0,\"ticks\":\"\"}}}],\"scatterpolar\":[{\"type\":\"scatterpolar\",\"marker\":{\"colorbar\":{\"outlinewidth\":0,\"ticks\":\"\"}}}],\"histogram\":[{\"marker\":{\"pattern\":{\"fillmode\":\"overlay\",\"size\":10,\"solidity\":0.2}},\"type\":\"histogram\"}],\"scattergl\":[{\"type\":\"scattergl\",\"marker\":{\"colorbar\":{\"outlinewidth\":0,\"ticks\":\"\"}}}],\"scatter3d\":[{\"type\":\"scatter3d\",\"line\":{\"colorbar\":{\"outlinewidth\":0,\"ticks\":\"\"}},\"marker\":{\"colorbar\":{\"outlinewidth\":0,\"ticks\":\"\"}}}],\"scattermapbox\":[{\"type\":\"scattermapbox\",\"marker\":{\"colorbar\":{\"outlinewidth\":0,\"ticks\":\"\"}}}],\"scatterternary\":[{\"type\":\"scatterternary\",\"marker\":{\"colorbar\":{\"outlinewidth\":0,\"ticks\":\"\"}}}],\"scattercarpet\":[{\"type\":\"scattercarpet\",\"marker\":{\"colorbar\":{\"outlinewidth\":0,\"ticks\":\"\"}}}],\"carpet\":[{\"aaxis\":{\"endlinecolor\":\"#2a3f5f\",\"gridcolor\":\"white\",\"linecolor\":\"white\",\"minorgridcolor\":\"white\",\"startlinecolor\":\"#2a3f5f\"},\"baxis\":{\"endlinecolor\":\"#2a3f5f\",\"gridcolor\":\"white\",\"linecolor\":\"white\",\"minorgridcolor\":\"white\",\"startlinecolor\":\"#2a3f5f\"},\"type\":\"carpet\"}],\"table\":[{\"cells\":{\"fill\":{\"color\":\"#EBF0F8\"},\"line\":{\"color\":\"white\"}},\"header\":{\"fill\":{\"color\":\"#C8D4E3\"},\"line\":{\"color\":\"white\"}},\"type\":\"table\"}],\"barpolar\":[{\"marker\":{\"line\":{\"color\":\"#E5ECF6\",\"width\":0.5},\"pattern\":{\"fillmode\":\"overlay\",\"size\":10,\"solidity\":0.2}},\"type\":\"barpolar\"}],\"pie\":[{\"automargin\":true,\"type\":\"pie\"}]},\"layout\":{\"autotypenumbers\":\"strict\",\"colorway\":[\"#636efa\",\"#EF553B\",\"#00cc96\",\"#ab63fa\",\"#FFA15A\",\"#19d3f3\",\"#FF6692\",\"#B6E880\",\"#FF97FF\",\"#FECB52\"],\"font\":{\"color\":\"#2a3f5f\"},\"hovermode\":\"closest\",\"hoverlabel\":{\"align\":\"left\"},\"paper_bgcolor\":\"white\",\"plot_bgcolor\":\"#E5ECF6\",\"polar\":{\"bgcolor\":\"#E5ECF6\",\"angularaxis\":{\"gridcolor\":\"white\",\"linecolor\":\"white\",\"ticks\":\"\"},\"radialaxis\":{\"gridcolor\":\"white\",\"linecolor\":\"white\",\"ticks\":\"\"}},\"ternary\":{\"bgcolor\":\"#E5ECF6\",\"aaxis\":{\"gridcolor\":\"white\",\"linecolor\":\"white\",\"ticks\":\"\"},\"baxis\":{\"gridcolor\":\"white\",\"linecolor\":\"white\",\"ticks\":\"\"},\"caxis\":{\"gridcolor\":\"white\",\"linecolor\":\"white\",\"ticks\":\"\"}},\"coloraxis\":{\"colorbar\":{\"outlinewidth\":0,\"ticks\":\"\"}},\"colorscale\":{\"sequential\":[[0.0,\"#0d0887\"],[0.1111111111111111,\"#46039f\"],[0.2222222222222222,\"#7201a8\"],[0.3333333333333333,\"#9c179e\"],[0.4444444444444444,\"#bd3786\"],[0.5555555555555556,\"#d8576b\"],[0.6666666666666666,\"#ed7953\"],[0.7777777777777778,\"#fb9f3a\"],[0.8888888888888888,\"#fdca26\"],[1.0,\"#f0f921\"]],\"sequentialminus\":[[0.0,\"#0d0887\"],[0.1111111111111111,\"#46039f\"],[0.2222222222222222,\"#7201a8\"],[0.3333333333333333,\"#9c179e\"],[0.4444444444444444,\"#bd3786\"],[0.5555555555555556,\"#d8576b\"],[0.6666666666666666,\"#ed7953\"],[0.7777777777777778,\"#fb9f3a\"],[0.8888888888888888,\"#fdca26\"],[1.0,\"#f0f921\"]],\"diverging\":[[0,\"#8e0152\"],[0.1,\"#c51b7d\"],[0.2,\"#de77ae\"],[0.3,\"#f1b6da\"],[0.4,\"#fde0ef\"],[0.5,\"#f7f7f7\"],[0.6,\"#e6f5d0\"],[0.7,\"#b8e186\"],[0.8,\"#7fbc41\"],[0.9,\"#4d9221\"],[1,\"#276419\"]]},\"xaxis\":{\"gridcolor\":\"white\",\"linecolor\":\"white\",\"ticks\":\"\",\"title\":{\"standoff\":15},\"zerolinecolor\":\"white\",\"automargin\":true,\"zerolinewidth\":2},\"yaxis\":{\"gridcolor\":\"white\",\"linecolor\":\"white\",\"ticks\":\"\",\"title\":{\"standoff\":15},\"zerolinecolor\":\"white\",\"automargin\":true,\"zerolinewidth\":2},\"scene\":{\"xaxis\":{\"backgroundcolor\":\"#E5ECF6\",\"gridcolor\":\"white\",\"linecolor\":\"white\",\"showbackground\":true,\"ticks\":\"\",\"zerolinecolor\":\"white\",\"gridwidth\":2},\"yaxis\":{\"backgroundcolor\":\"#E5ECF6\",\"gridcolor\":\"white\",\"linecolor\":\"white\",\"showbackground\":true,\"ticks\":\"\",\"zerolinecolor\":\"white\",\"gridwidth\":2},\"zaxis\":{\"backgroundcolor\":\"#E5ECF6\",\"gridcolor\":\"white\",\"linecolor\":\"white\",\"showbackground\":true,\"ticks\":\"\",\"zerolinecolor\":\"white\",\"gridwidth\":2}},\"shapedefaults\":{\"line\":{\"color\":\"#2a3f5f\"}},\"annotationdefaults\":{\"arrowcolor\":\"#2a3f5f\",\"arrowhead\":0,\"arrowwidth\":1},\"geo\":{\"bgcolor\":\"white\",\"landcolor\":\"#E5ECF6\",\"subunitcolor\":\"white\",\"showland\":true,\"showlakes\":true,\"lakecolor\":\"white\"},\"title\":{\"x\":0.05},\"mapbox\":{\"style\":\"light\"}}},\"xaxis\":{\"anchor\":\"y\",\"domain\":[0.0,1.0],\"scaleanchor\":\"y\",\"constrain\":\"domain\",\"side\":\"top\"},\"yaxis\":{\"anchor\":\"x\",\"domain\":[0.0,1.0],\"autorange\":\"reversed\",\"constrain\":\"domain\"},\"coloraxis\":{\"colorscale\":[[0.0,\"#0d0887\"],[0.1111111111111111,\"#46039f\"],[0.2222222222222222,\"#7201a8\"],[0.3333333333333333,\"#9c179e\"],[0.4444444444444444,\"#bd3786\"],[0.5555555555555556,\"#d8576b\"],[0.6666666666666666,\"#ed7953\"],[0.7777777777777778,\"#fb9f3a\"],[0.8888888888888888,\"#fdca26\"],[1.0,\"#f0f921\"]]},\"margin\":{\"t\":60}},                        {\"responsive\": true}                    ).then(function(){\n",
       "                            \n",
       "var gd = document.getElementById('26294194-5986-4027-ac6d-881d33fc91f0');\n",
       "var x = new MutationObserver(function (mutations, observer) {{\n",
       "        var display = window.getComputedStyle(gd).display;\n",
       "        if (!display || display === 'none') {{\n",
       "            console.log([gd, 'removed!']);\n",
       "            Plotly.purge(gd);\n",
       "            observer.disconnect();\n",
       "        }}\n",
       "}});\n",
       "\n",
       "// Listen for the removal of the full notebook cells\n",
       "var notebookContainer = gd.closest('#notebook-container');\n",
       "if (notebookContainer) {{\n",
       "    x.observe(notebookContainer, {childList: true});\n",
       "}}\n",
       "\n",
       "// Listen for the clearing of the current output cell\n",
       "var outputEl = gd.closest('.output');\n",
       "if (outputEl) {{\n",
       "    x.observe(outputEl, {childList: true});\n",
       "}}\n",
       "\n",
       "                        })                };                });            </script>        </div>"
      ]
     },
     "metadata": {},
     "output_type": "display_data"
    }
   ],
   "source": [
    "resultsl1 = []\n",
    "resultsl1 = resultsl1_r + resultsl1_g + resultsl1_b\n",
    "\n",
    "fig = px.imshow(resultsl1)\n",
    "fig.update_xaxes(side=\"top\")\n",
    "fig.show()"
   ]
  },
  {
   "cell_type": "code",
   "execution_count": null,
   "id": "f16a893b-8b09-436d-99be-62ebfaba7fa0",
   "metadata": {},
   "outputs": [],
   "source": []
  },
  {
   "cell_type": "code",
   "execution_count": null,
   "id": "cd1970d1-d9ce-4dd8-be7a-ec4c1500128b",
   "metadata": {},
   "outputs": [],
   "source": []
  }
 ],
 "metadata": {
  "kernelspec": {
   "display_name": "Python 3 (ipykernel)",
   "language": "python",
   "name": "python3"
  },
  "language_info": {
   "codemirror_mode": {
    "name": "ipython",
    "version": 3
   },
   "file_extension": ".py",
   "mimetype": "text/x-python",
   "name": "python",
   "nbconvert_exporter": "python",
   "pygments_lexer": "ipython3",
   "version": "3.9.16"
  }
 },
 "nbformat": 4,
 "nbformat_minor": 5
}
