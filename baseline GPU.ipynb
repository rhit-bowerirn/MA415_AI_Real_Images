{
 "cells": [
  {
   "cell_type": "code",
   "execution_count": 1,
   "id": "770d0349-c346-4afe-9caa-eb17000c1ad9",
   "metadata": {},
   "outputs": [
    {
     "name": "stdout",
     "output_type": "stream",
     "text": [
      "Mon May  8 18:13:41 2023       \n",
      "+---------------------------------------------------------------------------------------+\n",
      "| NVIDIA-SMI 530.30.02              Driver Version: 530.30.02    CUDA Version: 12.1     |\n",
      "|-----------------------------------------+----------------------+----------------------+\n",
      "| GPU  Name                  Persistence-M| Bus-Id        Disp.A | Volatile Uncorr. ECC |\n",
      "| Fan  Temp  Perf            Pwr:Usage/Cap|         Memory-Usage | GPU-Util  Compute M. |\n",
      "|                                         |                      |               MIG M. |\n",
      "|=========================================+======================+======================|\n",
      "|   0  Quadro RTX 6000                 On | 00000000:1B:00.0 Off |                  Off |\n",
      "| 33%   26C    P8                9W / 260W|    751MiB / 24576MiB |      0%      Default |\n",
      "|                                         |                      |                  N/A |\n",
      "+-----------------------------------------+----------------------+----------------------+\n",
      "|   1  Quadro RTX 6000                 On | 00000000:1C:00.0 Off |                  Off |\n",
      "| 33%   24C    P8               10W / 260W|    477MiB / 24576MiB |      0%      Default |\n",
      "|                                         |                      |                  N/A |\n",
      "+-----------------------------------------+----------------------+----------------------+\n",
      "|   2  Quadro RTX 6000                 On | 00000000:1D:00.0 Off |                  Off |\n",
      "| 33%   27C    P8               15W / 260W|    477MiB / 24576MiB |      0%      Default |\n",
      "|                                         |                      |                  N/A |\n",
      "+-----------------------------------------+----------------------+----------------------+\n",
      "|   3  Quadro RTX 6000                 On | 00000000:1E:00.0 Off |                  Off |\n",
      "| 33%   26C    P8                6W / 260W|    477MiB / 24576MiB |      0%      Default |\n",
      "|                                         |                      |                  N/A |\n",
      "+-----------------------------------------+----------------------+----------------------+\n",
      "|   4  Quadro RTX 6000                 On | 00000000:3D:00.0 Off |                  Off |\n",
      "| 33%   24C    P8               13W / 260W|    477MiB / 24576MiB |      0%      Default |\n",
      "|                                         |                      |                  N/A |\n",
      "+-----------------------------------------+----------------------+----------------------+\n",
      "|   5  Quadro RTX 6000                 On | 00000000:3F:00.0 Off |                  Off |\n",
      "| 33%   26C    P8                4W / 260W|    477MiB / 24576MiB |      0%      Default |\n",
      "|                                         |                      |                  N/A |\n",
      "+-----------------------------------------+----------------------+----------------------+\n",
      "|   6  Quadro RTX 6000                 On | 00000000:40:00.0 Off |                  Off |\n",
      "| 35%   26C    P8               17W / 260W|    477MiB / 24576MiB |      0%      Default |\n",
      "|                                         |                      |                  N/A |\n",
      "+-----------------------------------------+----------------------+----------------------+\n",
      "|   7  Quadro RTX 6000                 On | 00000000:41:00.0 Off |                  Off |\n",
      "| 34%   26C    P8               16W / 260W|    477MiB / 24576MiB |      0%      Default |\n",
      "|                                         |                      |                  N/A |\n",
      "+-----------------------------------------+----------------------+----------------------+\n",
      "                                                                                         \n",
      "+---------------------------------------------------------------------------------------+\n",
      "| Processes:                                                                            |\n",
      "|  GPU   GI   CI        PID   Type   Process name                            GPU Memory |\n",
      "|        ID   ID                                                             Usage      |\n",
      "|=======================================================================================|\n",
      "|    0   N/A  N/A   3380490      C   /opt/anaconda3/bin/python                   310MiB |\n",
      "|    0   N/A  N/A   3398004      C   /opt/anaconda3/bin/python                   274MiB |\n",
      "|    0   N/A  N/A   3400215      C   /opt/anaconda3/bin/python                   162MiB |\n",
      "|    1   N/A  N/A   3380490      C   /opt/anaconda3/bin/python                   310MiB |\n",
      "|    1   N/A  N/A   3400216      C   /opt/anaconda3/bin/python                   162MiB |\n",
      "|    2   N/A  N/A   3380490      C   /opt/anaconda3/bin/python                   310MiB |\n",
      "|    2   N/A  N/A   3400224      C   /opt/anaconda3/bin/python                   162MiB |\n",
      "|    3   N/A  N/A   3380490      C   /opt/anaconda3/bin/python                   310MiB |\n",
      "|    3   N/A  N/A   3400221      C   /opt/anaconda3/bin/python                   162MiB |\n",
      "|    4   N/A  N/A   3380490      C   /opt/anaconda3/bin/python                   310MiB |\n",
      "|    4   N/A  N/A   3400229      C   /opt/anaconda3/bin/python                   162MiB |\n",
      "|    5   N/A  N/A   3380490      C   /opt/anaconda3/bin/python                   310MiB |\n",
      "|    5   N/A  N/A   3400227      C   /opt/anaconda3/bin/python                   162MiB |\n",
      "|    6   N/A  N/A   3380490      C   /opt/anaconda3/bin/python                   310MiB |\n",
      "|    6   N/A  N/A   3400232      C   /opt/anaconda3/bin/python                   162MiB |\n",
      "|    7   N/A  N/A   3380490      C   /opt/anaconda3/bin/python                   310MiB |\n",
      "|    7   N/A  N/A   3400235      C   /opt/anaconda3/bin/python                   162MiB |\n",
      "+---------------------------------------------------------------------------------------+\n"
     ]
    }
   ],
   "source": [
    "!nvidia-smi"
   ]
  },
  {
   "cell_type": "code",
   "execution_count": 2,
   "id": "c954c645-b447-4c04-9b18-2f150de72b78",
   "metadata": {},
   "outputs": [
    {
     "name": "stderr",
     "output_type": "stream",
     "text": [
      "2023-05-08 18:13:42.565663: I tensorflow/stream_executor/platform/default/dso_loader.cc:49] Successfully opened dynamic library libcudart.so.10.1\n"
     ]
    },
    {
     "ename": "ModuleNotFoundError",
     "evalue": "No module named 'Loader'",
     "output_type": "error",
     "traceback": [
      "\u001b[0;31m---------------------------------------------------------------------------\u001b[0m",
      "\u001b[0;31mModuleNotFoundError\u001b[0m                       Traceback (most recent call last)",
      "\u001b[0;32m/tmp/ipykernel_3440105/2061982235.py\u001b[0m in \u001b[0;36m<cell line: 6>\u001b[0;34m()\u001b[0m\n\u001b[1;32m      4\u001b[0m \u001b[0;32mfrom\u001b[0m \u001b[0mtime\u001b[0m \u001b[0;32mimport\u001b[0m \u001b[0mtime\u001b[0m\u001b[0;34m\u001b[0m\u001b[0;34m\u001b[0m\u001b[0m\n\u001b[1;32m      5\u001b[0m \u001b[0;32mimport\u001b[0m \u001b[0mtensorflow\u001b[0m \u001b[0;32mas\u001b[0m \u001b[0mtf\u001b[0m\u001b[0;34m\u001b[0m\u001b[0;34m\u001b[0m\u001b[0m\n\u001b[0;32m----> 6\u001b[0;31m \u001b[0;32mfrom\u001b[0m \u001b[0mLoader\u001b[0m \u001b[0;32mimport\u001b[0m \u001b[0mtrain_data\u001b[0m\u001b[0;34m,\u001b[0m \u001b[0mtest_data\u001b[0m\u001b[0;34m\u001b[0m\u001b[0;34m\u001b[0m\u001b[0m\n\u001b[0m",
      "\u001b[0;31mModuleNotFoundError\u001b[0m: No module named 'Loader'"
     ]
    }
   ],
   "source": [
    "import pandas as pd\n",
    "import numpy as np\n",
    "from sklearn.linear_model import LogisticRegression, LogisticRegressionCV\n",
    "from time import time\n",
    "import tensorflow as tf \n",
    "from Loader import train_data, test_data"
   ]
  },
  {
   "cell_type": "code",
   "execution_count": null,
   "id": "53216fd4-8c5d-44cd-b329-0e02afc3f34e",
   "metadata": {},
   "outputs": [],
   "source": [
    "config = tf.compat.v1.ConfigProto()\n",
    "config.gpu_options.per_process_gpu_memory_fraction = 0.5\n",
    "config.operation_timeout_in_ms=60000\n",
    "sess = tf.compat.v1.Session(config=config)"
   ]
  },
  {
   "cell_type": "code",
   "execution_count": null,
   "id": "3a6dc553-b16e-4e17-a04a-ea6295c84a6f",
   "metadata": {},
   "outputs": [],
   "source": [
    "####################################################################\n",
    "# Following code releases unused GPU memory for others to use.\n",
    "gpus = tf.config.experimental.list_physical_devices('GPU')\n",
    "for gpu in gpus:\n",
    "  tf.config.experimental.set_memory_growth(gpu, True)\n",
    "####################################################################"
   ]
  },
  {
   "cell_type": "code",
   "execution_count": null,
   "id": "1e4b7a92-d371-44b8-8622-a48bf672be33",
   "metadata": {},
   "outputs": [],
   "source": [
    "tf.debugging.set_log_device_placement(True)\n",
    "gpus = tf.config.list_logical_devices('GPU')\n",
    "strategy = tf.distribute.MirroredStrategy(gpus)\n",
    "with strategy.scope():\n",
    "    "
   ]
  }
 ],
 "metadata": {
  "kernelspec": {
   "display_name": "Python 3 (ipykernel)",
   "language": "python",
   "name": "python3"
  },
  "language_info": {
   "codemirror_mode": {
    "name": "ipython",
    "version": 3
   },
   "file_extension": ".py",
   "mimetype": "text/x-python",
   "name": "python",
   "nbconvert_exporter": "python",
   "pygments_lexer": "ipython3",
   "version": "3.9.15"
  }
 },
 "nbformat": 4,
 "nbformat_minor": 5
}
