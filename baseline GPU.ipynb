{
 "cells": [
  {
   "cell_type": "code",
   "execution_count": 1,
   "id": "770d0349-c346-4afe-9caa-eb17000c1ad9",
   "metadata": {},
   "outputs": [
    {
     "name": "stdout",
     "output_type": "stream",
     "text": [
      "Mon May  8 18:35:17 2023       \n",
      "+---------------------------------------------------------------------------------------+\n",
      "| NVIDIA-SMI 530.30.02              Driver Version: 530.30.02    CUDA Version: 12.1     |\n",
      "|-----------------------------------------+----------------------+----------------------+\n",
      "| GPU  Name                  Persistence-M| Bus-Id        Disp.A | Volatile Uncorr. ECC |\n",
      "| Fan  Temp  Perf            Pwr:Usage/Cap|         Memory-Usage | GPU-Util  Compute M. |\n",
      "|                                         |                      |               MIG M. |\n",
      "|=========================================+======================+======================|\n",
      "|   0  Quadro RTX 6000                 On | 00000000:1B:00.0 Off |                  Off |\n",
      "| 33%   26C    P8               11W / 260W|    751MiB / 24576MiB |      0%      Default |\n",
      "|                                         |                      |                  N/A |\n",
      "+-----------------------------------------+----------------------+----------------------+\n",
      "|   1  Quadro RTX 6000                 On | 00000000:1C:00.0 Off |                  Off |\n",
      "| 33%   24C    P8                9W / 260W|    477MiB / 24576MiB |      0%      Default |\n",
      "|                                         |                      |                  N/A |\n",
      "+-----------------------------------------+----------------------+----------------------+\n",
      "|   2  Quadro RTX 6000                 On | 00000000:1D:00.0 Off |                  Off |\n",
      "| 33%   27C    P8               15W / 260W|    477MiB / 24576MiB |      0%      Default |\n",
      "|                                         |                      |                  N/A |\n",
      "+-----------------------------------------+----------------------+----------------------+\n",
      "|   3  Quadro RTX 6000                 On | 00000000:1E:00.0 Off |                  Off |\n",
      "| 33%   26C    P8                6W / 260W|    477MiB / 24576MiB |      0%      Default |\n",
      "|                                         |                      |                  N/A |\n",
      "+-----------------------------------------+----------------------+----------------------+\n",
      "|   4  Quadro RTX 6000                 On | 00000000:3D:00.0 Off |                  Off |\n",
      "| 33%   24C    P8               11W / 260W|    477MiB / 24576MiB |      0%      Default |\n",
      "|                                         |                      |                  N/A |\n",
      "+-----------------------------------------+----------------------+----------------------+\n",
      "|   5  Quadro RTX 6000                 On | 00000000:3F:00.0 Off |                  Off |\n",
      "| 33%   26C    P8                5W / 260W|    477MiB / 24576MiB |      0%      Default |\n",
      "|                                         |                      |                  N/A |\n",
      "+-----------------------------------------+----------------------+----------------------+\n",
      "|   6  Quadro RTX 6000                 On | 00000000:40:00.0 Off |                  Off |\n",
      "| 35%   26C    P8               16W / 260W|    477MiB / 24576MiB |      0%      Default |\n",
      "|                                         |                      |                  N/A |\n",
      "+-----------------------------------------+----------------------+----------------------+\n",
      "|   7  Quadro RTX 6000                 On | 00000000:41:00.0 Off |                  Off |\n",
      "| 34%   26C    P8               16W / 260W|    477MiB / 24576MiB |      0%      Default |\n",
      "|                                         |                      |                  N/A |\n",
      "+-----------------------------------------+----------------------+----------------------+\n",
      "                                                                                         \n",
      "+---------------------------------------------------------------------------------------+\n",
      "| Processes:                                                                            |\n",
      "|  GPU   GI   CI        PID   Type   Process name                            GPU Memory |\n",
      "|        ID   ID                                                             Usage      |\n",
      "|=======================================================================================|\n",
      "|    0   N/A  N/A   3380490      C   /opt/anaconda3/bin/python                   310MiB |\n",
      "|    0   N/A  N/A   3398004      C   /opt/anaconda3/bin/python                   274MiB |\n",
      "|    0   N/A  N/A   3400215      C   /opt/anaconda3/bin/python                   162MiB |\n",
      "|    1   N/A  N/A   3380490      C   /opt/anaconda3/bin/python                   310MiB |\n",
      "|    1   N/A  N/A   3400216      C   /opt/anaconda3/bin/python                   162MiB |\n",
      "|    2   N/A  N/A   3380490      C   /opt/anaconda3/bin/python                   310MiB |\n",
      "|    2   N/A  N/A   3400224      C   /opt/anaconda3/bin/python                   162MiB |\n",
      "|    3   N/A  N/A   3380490      C   /opt/anaconda3/bin/python                   310MiB |\n",
      "|    3   N/A  N/A   3400221      C   /opt/anaconda3/bin/python                   162MiB |\n",
      "|    4   N/A  N/A   3380490      C   /opt/anaconda3/bin/python                   310MiB |\n",
      "|    4   N/A  N/A   3400229      C   /opt/anaconda3/bin/python                   162MiB |\n",
      "|    5   N/A  N/A   3380490      C   /opt/anaconda3/bin/python                   310MiB |\n",
      "|    5   N/A  N/A   3400227      C   /opt/anaconda3/bin/python                   162MiB |\n",
      "|    6   N/A  N/A   3380490      C   /opt/anaconda3/bin/python                   310MiB |\n",
      "|    6   N/A  N/A   3400232      C   /opt/anaconda3/bin/python                   162MiB |\n",
      "|    7   N/A  N/A   3380490      C   /opt/anaconda3/bin/python                   310MiB |\n",
      "|    7   N/A  N/A   3400235      C   /opt/anaconda3/bin/python                   162MiB |\n",
      "+---------------------------------------------------------------------------------------+\n"
     ]
    }
   ],
   "source": [
    "!nvidia-smi"
   ]
  },
  {
   "cell_type": "code",
   "execution_count": 2,
   "id": "c954c645-b447-4c04-9b18-2f150de72b78",
   "metadata": {},
   "outputs": [
    {
     "name": "stderr",
     "output_type": "stream",
     "text": [
      "2023-05-08 18:35:18.898392: I tensorflow/stream_executor/platform/default/dso_loader.cc:49] Successfully opened dynamic library libcudart.so.10.1\n"
     ]
    }
   ],
   "source": [
    "import pandas as pd\n",
    "import numpy as np\n",
    "from sklearn.linear_model import LogisticRegression, LogisticRegressionCV\n",
    "from time import time\n",
    "import tensorflow as tf \n",
    "from Loader import train_data, test_data"
   ]
  },
  {
   "cell_type": "code",
   "execution_count": 3,
   "id": "53216fd4-8c5d-44cd-b329-0e02afc3f34e",
   "metadata": {},
   "outputs": [
    {
     "name": "stderr",
     "output_type": "stream",
     "text": [
      "2023-05-08 18:35:20.009325: I tensorflow/core/platform/cpu_feature_guard.cc:142] This TensorFlow binary is optimized with oneAPI Deep Neural Network Library (oneDNN) to use the following CPU instructions in performance-critical operations:  SSE4.1 SSE4.2 AVX AVX2 AVX512F FMA\n",
      "To enable them in other operations, rebuild TensorFlow with the appropriate compiler flags.\n",
      "2023-05-08 18:35:20.016777: I tensorflow/compiler/jit/xla_gpu_device.cc:99] Not creating XLA devices, tf_xla_enable_xla_devices not set\n",
      "2023-05-08 18:35:20.017860: I tensorflow/stream_executor/platform/default/dso_loader.cc:49] Successfully opened dynamic library libcuda.so.1\n",
      "2023-05-08 18:35:21.151972: I tensorflow/core/common_runtime/gpu/gpu_device.cc:1720] Found device 0 with properties: \n",
      "pciBusID: 0000:1b:00.0 name: Quadro RTX 6000 computeCapability: 7.5\n",
      "coreClock: 1.77GHz coreCount: 72 deviceMemorySize: 23.64GiB deviceMemoryBandwidth: 625.94GiB/s\n",
      "2023-05-08 18:35:21.152550: I tensorflow/core/common_runtime/gpu/gpu_device.cc:1720] Found device 1 with properties: \n",
      "pciBusID: 0000:1c:00.0 name: Quadro RTX 6000 computeCapability: 7.5\n",
      "coreClock: 1.77GHz coreCount: 72 deviceMemorySize: 23.64GiB deviceMemoryBandwidth: 625.94GiB/s\n",
      "2023-05-08 18:35:21.153057: I tensorflow/core/common_runtime/gpu/gpu_device.cc:1720] Found device 2 with properties: \n",
      "pciBusID: 0000:1d:00.0 name: Quadro RTX 6000 computeCapability: 7.5\n",
      "coreClock: 1.77GHz coreCount: 72 deviceMemorySize: 23.64GiB deviceMemoryBandwidth: 625.94GiB/s\n",
      "2023-05-08 18:35:21.153554: I tensorflow/core/common_runtime/gpu/gpu_device.cc:1720] Found device 3 with properties: \n",
      "pciBusID: 0000:1e:00.0 name: Quadro RTX 6000 computeCapability: 7.5\n",
      "coreClock: 1.77GHz coreCount: 72 deviceMemorySize: 23.64GiB deviceMemoryBandwidth: 625.94GiB/s\n",
      "2023-05-08 18:35:21.154047: I tensorflow/core/common_runtime/gpu/gpu_device.cc:1720] Found device 4 with properties: \n",
      "pciBusID: 0000:3d:00.0 name: Quadro RTX 6000 computeCapability: 7.5\n",
      "coreClock: 1.77GHz coreCount: 72 deviceMemorySize: 23.64GiB deviceMemoryBandwidth: 625.94GiB/s\n",
      "2023-05-08 18:35:21.154528: I tensorflow/core/common_runtime/gpu/gpu_device.cc:1720] Found device 5 with properties: \n",
      "pciBusID: 0000:3f:00.0 name: Quadro RTX 6000 computeCapability: 7.5\n",
      "coreClock: 1.77GHz coreCount: 72 deviceMemorySize: 23.64GiB deviceMemoryBandwidth: 625.94GiB/s\n",
      "2023-05-08 18:35:21.155011: I tensorflow/core/common_runtime/gpu/gpu_device.cc:1720] Found device 6 with properties: \n",
      "pciBusID: 0000:40:00.0 name: Quadro RTX 6000 computeCapability: 7.5\n",
      "coreClock: 1.77GHz coreCount: 72 deviceMemorySize: 23.64GiB deviceMemoryBandwidth: 625.94GiB/s\n",
      "2023-05-08 18:35:21.155475: I tensorflow/core/common_runtime/gpu/gpu_device.cc:1720] Found device 7 with properties: \n",
      "pciBusID: 0000:41:00.0 name: Quadro RTX 6000 computeCapability: 7.5\n",
      "coreClock: 1.77GHz coreCount: 72 deviceMemorySize: 23.64GiB deviceMemoryBandwidth: 625.94GiB/s\n",
      "2023-05-08 18:35:21.155519: I tensorflow/stream_executor/platform/default/dso_loader.cc:49] Successfully opened dynamic library libcudart.so.10.1\n",
      "2023-05-08 18:35:21.157511: I tensorflow/stream_executor/platform/default/dso_loader.cc:49] Successfully opened dynamic library libcublas.so.10\n",
      "2023-05-08 18:35:21.157584: I tensorflow/stream_executor/platform/default/dso_loader.cc:49] Successfully opened dynamic library libcublasLt.so.10\n",
      "2023-05-08 18:35:21.159475: I tensorflow/stream_executor/platform/default/dso_loader.cc:49] Successfully opened dynamic library libcufft.so.10\n",
      "2023-05-08 18:35:21.159847: I tensorflow/stream_executor/platform/default/dso_loader.cc:49] Successfully opened dynamic library libcurand.so.10\n",
      "2023-05-08 18:35:21.161802: I tensorflow/stream_executor/platform/default/dso_loader.cc:49] Successfully opened dynamic library libcusolver.so.10\n",
      "2023-05-08 18:35:21.162874: I tensorflow/stream_executor/platform/default/dso_loader.cc:49] Successfully opened dynamic library libcusparse.so.10\n",
      "2023-05-08 18:35:21.166796: I tensorflow/stream_executor/platform/default/dso_loader.cc:49] Successfully opened dynamic library libcudnn.so.7\n",
      "2023-05-08 18:35:21.174095: I tensorflow/core/common_runtime/gpu/gpu_device.cc:1862] Adding visible gpu devices: 0, 1, 2, 3, 4, 5, 6, 7\n",
      "2023-05-08 18:35:21.174137: I tensorflow/stream_executor/platform/default/dso_loader.cc:49] Successfully opened dynamic library libcudart.so.10.1\n",
      "2023-05-08 18:35:24.840640: I tensorflow/core/common_runtime/gpu/gpu_device.cc:1261] Device interconnect StreamExecutor with strength 1 edge matrix:\n",
      "2023-05-08 18:35:24.840687: I tensorflow/core/common_runtime/gpu/gpu_device.cc:1267]      0 1 2 3 4 5 6 7 \n",
      "2023-05-08 18:35:24.840695: I tensorflow/core/common_runtime/gpu/gpu_device.cc:1280] 0:   N Y Y Y Y Y Y Y \n",
      "2023-05-08 18:35:24.840699: I tensorflow/core/common_runtime/gpu/gpu_device.cc:1280] 1:   Y N Y Y Y Y Y Y \n",
      "2023-05-08 18:35:24.840703: I tensorflow/core/common_runtime/gpu/gpu_device.cc:1280] 2:   Y Y N Y Y Y Y Y \n",
      "2023-05-08 18:35:24.840707: I tensorflow/core/common_runtime/gpu/gpu_device.cc:1280] 3:   Y Y Y N Y Y Y Y \n",
      "2023-05-08 18:35:24.840710: I tensorflow/core/common_runtime/gpu/gpu_device.cc:1280] 4:   Y Y Y Y N Y Y Y \n",
      "2023-05-08 18:35:24.840714: I tensorflow/core/common_runtime/gpu/gpu_device.cc:1280] 5:   Y Y Y Y Y N Y Y \n",
      "2023-05-08 18:35:24.840718: I tensorflow/core/common_runtime/gpu/gpu_device.cc:1280] 6:   Y Y Y Y Y Y N Y \n",
      "2023-05-08 18:35:24.840721: I tensorflow/core/common_runtime/gpu/gpu_device.cc:1280] 7:   Y Y Y Y Y Y Y N \n",
      "2023-05-08 18:35:24.846470: I tensorflow/core/common_runtime/gpu/gpu_device.cc:1406] Created TensorFlow device (/job:localhost/replica:0/task:0/device:GPU:0 with 12106 MB memory) -> physical GPU (device: 0, name: Quadro RTX 6000, pci bus id: 0000:1b:00.0, compute capability: 7.5)\n",
      "2023-05-08 18:35:24.848860: I tensorflow/core/common_runtime/gpu/gpu_device.cc:1406] Created TensorFlow device (/job:localhost/replica:0/task:0/device:GPU:1 with 12106 MB memory) -> physical GPU (device: 1, name: Quadro RTX 6000, pci bus id: 0000:1c:00.0, compute capability: 7.5)\n",
      "2023-05-08 18:35:24.850616: I tensorflow/core/common_runtime/gpu/gpu_device.cc:1406] Created TensorFlow device (/job:localhost/replica:0/task:0/device:GPU:2 with 12106 MB memory) -> physical GPU (device: 2, name: Quadro RTX 6000, pci bus id: 0000:1d:00.0, compute capability: 7.5)\n",
      "2023-05-08 18:35:24.853412: I tensorflow/core/common_runtime/gpu/gpu_device.cc:1406] Created TensorFlow device (/job:localhost/replica:0/task:0/device:GPU:3 with 12106 MB memory) -> physical GPU (device: 3, name: Quadro RTX 6000, pci bus id: 0000:1e:00.0, compute capability: 7.5)\n",
      "2023-05-08 18:35:24.855023: I tensorflow/core/common_runtime/gpu/gpu_device.cc:1406] Created TensorFlow device (/job:localhost/replica:0/task:0/device:GPU:4 with 12106 MB memory) -> physical GPU (device: 4, name: Quadro RTX 6000, pci bus id: 0000:3d:00.0, compute capability: 7.5)\n",
      "2023-05-08 18:35:24.857111: I tensorflow/core/common_runtime/gpu/gpu_device.cc:1406] Created TensorFlow device (/job:localhost/replica:0/task:0/device:GPU:5 with 12106 MB memory) -> physical GPU (device: 5, name: Quadro RTX 6000, pci bus id: 0000:3f:00.0, compute capability: 7.5)\n",
      "2023-05-08 18:35:24.859113: I tensorflow/core/common_runtime/gpu/gpu_device.cc:1406] Created TensorFlow device (/job:localhost/replica:0/task:0/device:GPU:6 with 12106 MB memory) -> physical GPU (device: 6, name: Quadro RTX 6000, pci bus id: 0000:40:00.0, compute capability: 7.5)\n",
      "2023-05-08 18:35:24.860674: I tensorflow/core/common_runtime/gpu/gpu_device.cc:1406] Created TensorFlow device (/job:localhost/replica:0/task:0/device:GPU:7 with 12106 MB memory) -> physical GPU (device: 7, name: Quadro RTX 6000, pci bus id: 0000:41:00.0, compute capability: 7.5)\n"
     ]
    }
   ],
   "source": [
    "config = tf.compat.v1.ConfigProto()\n",
    "config.gpu_options.per_process_gpu_memory_fraction = 0.5\n",
    "config.operation_timeout_in_ms=60000\n",
    "sess = tf.compat.v1.Session(config=config)"
   ]
  },
  {
   "cell_type": "code",
   "execution_count": 4,
   "id": "3a6dc553-b16e-4e17-a04a-ea6295c84a6f",
   "metadata": {},
   "outputs": [
    {
     "name": "stderr",
     "output_type": "stream",
     "text": [
      "2023-05-08 18:35:24.873458: I tensorflow/compiler/jit/xla_cpu_device.cc:41] Not creating XLA devices, tf_xla_enable_xla_devices not set\n",
      "2023-05-08 18:35:24.874147: I tensorflow/core/common_runtime/gpu/gpu_device.cc:1720] Found device 0 with properties: \n",
      "pciBusID: 0000:1b:00.0 name: Quadro RTX 6000 computeCapability: 7.5\n",
      "coreClock: 1.77GHz coreCount: 72 deviceMemorySize: 23.64GiB deviceMemoryBandwidth: 625.94GiB/s\n",
      "2023-05-08 18:35:24.874668: I tensorflow/core/common_runtime/gpu/gpu_device.cc:1720] Found device 1 with properties: \n",
      "pciBusID: 0000:1c:00.0 name: Quadro RTX 6000 computeCapability: 7.5\n",
      "coreClock: 1.77GHz coreCount: 72 deviceMemorySize: 23.64GiB deviceMemoryBandwidth: 625.94GiB/s\n",
      "2023-05-08 18:35:24.875164: I tensorflow/core/common_runtime/gpu/gpu_device.cc:1720] Found device 2 with properties: \n",
      "pciBusID: 0000:1d:00.0 name: Quadro RTX 6000 computeCapability: 7.5\n",
      "coreClock: 1.77GHz coreCount: 72 deviceMemorySize: 23.64GiB deviceMemoryBandwidth: 625.94GiB/s\n",
      "2023-05-08 18:35:24.875651: I tensorflow/core/common_runtime/gpu/gpu_device.cc:1720] Found device 3 with properties: \n",
      "pciBusID: 0000:1e:00.0 name: Quadro RTX 6000 computeCapability: 7.5\n",
      "coreClock: 1.77GHz coreCount: 72 deviceMemorySize: 23.64GiB deviceMemoryBandwidth: 625.94GiB/s\n",
      "2023-05-08 18:35:24.876113: I tensorflow/core/common_runtime/gpu/gpu_device.cc:1720] Found device 4 with properties: \n",
      "pciBusID: 0000:3d:00.0 name: Quadro RTX 6000 computeCapability: 7.5\n",
      "coreClock: 1.77GHz coreCount: 72 deviceMemorySize: 23.64GiB deviceMemoryBandwidth: 625.94GiB/s\n",
      "2023-05-08 18:35:24.876595: I tensorflow/core/common_runtime/gpu/gpu_device.cc:1720] Found device 5 with properties: \n",
      "pciBusID: 0000:3f:00.0 name: Quadro RTX 6000 computeCapability: 7.5\n",
      "coreClock: 1.77GHz coreCount: 72 deviceMemorySize: 23.64GiB deviceMemoryBandwidth: 625.94GiB/s\n",
      "2023-05-08 18:35:24.877086: I tensorflow/core/common_runtime/gpu/gpu_device.cc:1720] Found device 6 with properties: \n",
      "pciBusID: 0000:40:00.0 name: Quadro RTX 6000 computeCapability: 7.5\n",
      "coreClock: 1.77GHz coreCount: 72 deviceMemorySize: 23.64GiB deviceMemoryBandwidth: 625.94GiB/s\n",
      "2023-05-08 18:35:24.877554: I tensorflow/core/common_runtime/gpu/gpu_device.cc:1720] Found device 7 with properties: \n",
      "pciBusID: 0000:41:00.0 name: Quadro RTX 6000 computeCapability: 7.5\n",
      "coreClock: 1.77GHz coreCount: 72 deviceMemorySize: 23.64GiB deviceMemoryBandwidth: 625.94GiB/s\n",
      "2023-05-08 18:35:24.877602: I tensorflow/stream_executor/platform/default/dso_loader.cc:49] Successfully opened dynamic library libcudart.so.10.1\n",
      "2023-05-08 18:35:24.877640: I tensorflow/stream_executor/platform/default/dso_loader.cc:49] Successfully opened dynamic library libcublas.so.10\n",
      "2023-05-08 18:35:24.877653: I tensorflow/stream_executor/platform/default/dso_loader.cc:49] Successfully opened dynamic library libcublasLt.so.10\n",
      "2023-05-08 18:35:24.877665: I tensorflow/stream_executor/platform/default/dso_loader.cc:49] Successfully opened dynamic library libcufft.so.10\n",
      "2023-05-08 18:35:24.877676: I tensorflow/stream_executor/platform/default/dso_loader.cc:49] Successfully opened dynamic library libcurand.so.10\n",
      "2023-05-08 18:35:24.877690: I tensorflow/stream_executor/platform/default/dso_loader.cc:49] Successfully opened dynamic library libcusolver.so.10\n",
      "2023-05-08 18:35:24.877702: I tensorflow/stream_executor/platform/default/dso_loader.cc:49] Successfully opened dynamic library libcusparse.so.10\n",
      "2023-05-08 18:35:24.877714: I tensorflow/stream_executor/platform/default/dso_loader.cc:49] Successfully opened dynamic library libcudnn.so.7\n",
      "2023-05-08 18:35:24.884937: I tensorflow/core/common_runtime/gpu/gpu_device.cc:1862] Adding visible gpu devices: 0, 1, 2, 3, 4, 5, 6, 7\n"
     ]
    }
   ],
   "source": [
    "####################################################################\n",
    "# Following code releases unused GPU memory for others to use.\n",
    "gpus = tf.config.experimental.list_physical_devices('GPU')\n",
    "for gpu in gpus:\n",
    "  tf.config.experimental.set_memory_growth(gpu, True)\n",
    "####################################################################"
   ]
  },
  {
   "cell_type": "code",
   "execution_count": 5,
   "id": "88d3963f-d3e6-4e6e-92e2-4812afc5ac53",
   "metadata": {},
   "outputs": [
    {
     "name": "stdout",
     "output_type": "stream",
     "text": [
      "(100000, 3073)\n"
     ]
    },
    {
     "data": {
      "text/html": [
       "<div>\n",
       "<style scoped>\n",
       "    .dataframe tbody tr th:only-of-type {\n",
       "        vertical-align: middle;\n",
       "    }\n",
       "\n",
       "    .dataframe tbody tr th {\n",
       "        vertical-align: top;\n",
       "    }\n",
       "\n",
       "    .dataframe thead th {\n",
       "        text-align: right;\n",
       "    }\n",
       "</style>\n",
       "<table border=\"1\" class=\"dataframe\">\n",
       "  <thead>\n",
       "    <tr style=\"text-align: right;\">\n",
       "      <th></th>\n",
       "      <th>0</th>\n",
       "      <th>1</th>\n",
       "      <th>2</th>\n",
       "      <th>3</th>\n",
       "      <th>4</th>\n",
       "      <th>5</th>\n",
       "      <th>6</th>\n",
       "      <th>7</th>\n",
       "      <th>8</th>\n",
       "      <th>9</th>\n",
       "      <th>...</th>\n",
       "      <th>3063</th>\n",
       "      <th>3064</th>\n",
       "      <th>3065</th>\n",
       "      <th>3066</th>\n",
       "      <th>3067</th>\n",
       "      <th>3068</th>\n",
       "      <th>3069</th>\n",
       "      <th>3070</th>\n",
       "      <th>3071</th>\n",
       "      <th>label</th>\n",
       "    </tr>\n",
       "  </thead>\n",
       "  <tbody>\n",
       "    <tr>\n",
       "      <th>0</th>\n",
       "      <td>114</td>\n",
       "      <td>112</td>\n",
       "      <td>113</td>\n",
       "      <td>119</td>\n",
       "      <td>117</td>\n",
       "      <td>118</td>\n",
       "      <td>117</td>\n",
       "      <td>117</td>\n",
       "      <td>115</td>\n",
       "      <td>111</td>\n",
       "      <td>...</td>\n",
       "      <td>100</td>\n",
       "      <td>91</td>\n",
       "      <td>86</td>\n",
       "      <td>99</td>\n",
       "      <td>91</td>\n",
       "      <td>88</td>\n",
       "      <td>98</td>\n",
       "      <td>90</td>\n",
       "      <td>87</td>\n",
       "      <td>Fake</td>\n",
       "    </tr>\n",
       "    <tr>\n",
       "      <th>1</th>\n",
       "      <td>206</td>\n",
       "      <td>204</td>\n",
       "      <td>205</td>\n",
       "      <td>215</td>\n",
       "      <td>213</td>\n",
       "      <td>214</td>\n",
       "      <td>224</td>\n",
       "      <td>222</td>\n",
       "      <td>223</td>\n",
       "      <td>228</td>\n",
       "      <td>...</td>\n",
       "      <td>126</td>\n",
       "      <td>125</td>\n",
       "      <td>123</td>\n",
       "      <td>124</td>\n",
       "      <td>123</td>\n",
       "      <td>121</td>\n",
       "      <td>123</td>\n",
       "      <td>122</td>\n",
       "      <td>120</td>\n",
       "      <td>Fake</td>\n",
       "    </tr>\n",
       "    <tr>\n",
       "      <th>2</th>\n",
       "      <td>153</td>\n",
       "      <td>185</td>\n",
       "      <td>208</td>\n",
       "      <td>130</td>\n",
       "      <td>162</td>\n",
       "      <td>185</td>\n",
       "      <td>153</td>\n",
       "      <td>185</td>\n",
       "      <td>208</td>\n",
       "      <td>162</td>\n",
       "      <td>...</td>\n",
       "      <td>167</td>\n",
       "      <td>178</td>\n",
       "      <td>172</td>\n",
       "      <td>166</td>\n",
       "      <td>177</td>\n",
       "      <td>171</td>\n",
       "      <td>165</td>\n",
       "      <td>176</td>\n",
       "      <td>170</td>\n",
       "      <td>Fake</td>\n",
       "    </tr>\n",
       "  </tbody>\n",
       "</table>\n",
       "<p>3 rows × 3073 columns</p>\n",
       "</div>"
      ],
      "text/plain": [
       "     0    1    2    3    4    5    6    7    8    9  ... 3063 3064 3065 3066  \\\n",
       "0  114  112  113  119  117  118  117  117  115  111  ...  100   91   86   99   \n",
       "1  206  204  205  215  213  214  224  222  223  228  ...  126  125  123  124   \n",
       "2  153  185  208  130  162  185  153  185  208  162  ...  167  178  172  166   \n",
       "\n",
       "  3067 3068 3069 3070 3071 label  \n",
       "0   91   88   98   90   87  Fake  \n",
       "1  123  121  123  122  120  Fake  \n",
       "2  177  171  165  176  170  Fake  \n",
       "\n",
       "[3 rows x 3073 columns]"
      ]
     },
     "execution_count": 5,
     "metadata": {},
     "output_type": "execute_result"
    }
   ],
   "source": [
    "df_train = train_data()\n",
    "print(df_train.shape)\n",
    "df_train.head(3)"
   ]
  },
  {
   "cell_type": "code",
   "execution_count": 6,
   "id": "10f9899f-aca5-464b-9108-13a2c9717613",
   "metadata": {},
   "outputs": [],
   "source": [
    "df_sample = df_train.sample(frac=0.1, random_state=0)\n",
    "X = df_sample.drop('label', axis=1)\n",
    "X = (X-X.mean())/X.std()\n",
    "y = df_sample.label"
   ]
  },
  {
   "cell_type": "code",
   "execution_count": 7,
   "id": "1e4b7a92-d371-44b8-8622-a48bf672be33",
   "metadata": {},
   "outputs": [
    {
     "name": "stdout",
     "output_type": "stream",
     "text": [
      "INFO:tensorflow:Using MirroredStrategy with devices ('/job:localhost/replica:0/task:0/device:GPU:0', '/job:localhost/replica:0/task:0/device:GPU:1', '/job:localhost/replica:0/task:0/device:GPU:2', '/job:localhost/replica:0/task:0/device:GPU:3', '/job:localhost/replica:0/task:0/device:GPU:4', '/job:localhost/replica:0/task:0/device:GPU:5', '/job:localhost/replica:0/task:0/device:GPU:6', '/job:localhost/replica:0/task:0/device:GPU:7')\n"
     ]
    },
    {
     "name": "stderr",
     "output_type": "stream",
     "text": [
      "2023-05-08 18:35:56.601519: I tensorflow/compiler/jit/xla_gpu_device.cc:99] Not creating XLA devices, tf_xla_enable_xla_devices not set\n",
      "2023-05-08 18:35:56.602348: I tensorflow/core/common_runtime/gpu/gpu_device.cc:1720] Found device 0 with properties: \n",
      "pciBusID: 0000:1b:00.0 name: Quadro RTX 6000 computeCapability: 7.5\n",
      "coreClock: 1.77GHz coreCount: 72 deviceMemorySize: 23.64GiB deviceMemoryBandwidth: 625.94GiB/s\n",
      "2023-05-08 18:35:56.602906: I tensorflow/core/common_runtime/gpu/gpu_device.cc:1720] Found device 1 with properties: \n",
      "pciBusID: 0000:1c:00.0 name: Quadro RTX 6000 computeCapability: 7.5\n",
      "coreClock: 1.77GHz coreCount: 72 deviceMemorySize: 23.64GiB deviceMemoryBandwidth: 625.94GiB/s\n",
      "2023-05-08 18:35:56.603411: I tensorflow/core/common_runtime/gpu/gpu_device.cc:1720] Found device 2 with properties: \n",
      "pciBusID: 0000:1d:00.0 name: Quadro RTX 6000 computeCapability: 7.5\n",
      "coreClock: 1.77GHz coreCount: 72 deviceMemorySize: 23.64GiB deviceMemoryBandwidth: 625.94GiB/s\n",
      "2023-05-08 18:35:56.603908: I tensorflow/core/common_runtime/gpu/gpu_device.cc:1720] Found device 3 with properties: \n",
      "pciBusID: 0000:1e:00.0 name: Quadro RTX 6000 computeCapability: 7.5\n",
      "coreClock: 1.77GHz coreCount: 72 deviceMemorySize: 23.64GiB deviceMemoryBandwidth: 625.94GiB/s\n",
      "2023-05-08 18:35:56.604416: I tensorflow/core/common_runtime/gpu/gpu_device.cc:1720] Found device 4 with properties: \n",
      "pciBusID: 0000:3d:00.0 name: Quadro RTX 6000 computeCapability: 7.5\n",
      "coreClock: 1.77GHz coreCount: 72 deviceMemorySize: 23.64GiB deviceMemoryBandwidth: 625.94GiB/s\n",
      "2023-05-08 18:35:56.604900: I tensorflow/core/common_runtime/gpu/gpu_device.cc:1720] Found device 5 with properties: \n",
      "pciBusID: 0000:3f:00.0 name: Quadro RTX 6000 computeCapability: 7.5\n",
      "coreClock: 1.77GHz coreCount: 72 deviceMemorySize: 23.64GiB deviceMemoryBandwidth: 625.94GiB/s\n",
      "2023-05-08 18:35:56.605384: I tensorflow/core/common_runtime/gpu/gpu_device.cc:1720] Found device 6 with properties: \n",
      "pciBusID: 0000:40:00.0 name: Quadro RTX 6000 computeCapability: 7.5\n",
      "coreClock: 1.77GHz coreCount: 72 deviceMemorySize: 23.64GiB deviceMemoryBandwidth: 625.94GiB/s\n",
      "2023-05-08 18:35:56.605923: I tensorflow/core/common_runtime/gpu/gpu_device.cc:1720] Found device 7 with properties: \n",
      "pciBusID: 0000:41:00.0 name: Quadro RTX 6000 computeCapability: 7.5\n",
      "coreClock: 1.77GHz coreCount: 72 deviceMemorySize: 23.64GiB deviceMemoryBandwidth: 625.94GiB/s\n",
      "2023-05-08 18:35:56.605964: I tensorflow/stream_executor/platform/default/dso_loader.cc:49] Successfully opened dynamic library libcudart.so.10.1\n",
      "2023-05-08 18:35:56.605990: I tensorflow/stream_executor/platform/default/dso_loader.cc:49] Successfully opened dynamic library libcublas.so.10\n",
      "2023-05-08 18:35:56.606003: I tensorflow/stream_executor/platform/default/dso_loader.cc:49] Successfully opened dynamic library libcublasLt.so.10\n",
      "2023-05-08 18:35:56.606015: I tensorflow/stream_executor/platform/default/dso_loader.cc:49] Successfully opened dynamic library libcufft.so.10\n",
      "2023-05-08 18:35:56.606027: I tensorflow/stream_executor/platform/default/dso_loader.cc:49] Successfully opened dynamic library libcurand.so.10\n",
      "2023-05-08 18:35:56.606039: I tensorflow/stream_executor/platform/default/dso_loader.cc:49] Successfully opened dynamic library libcusolver.so.10\n",
      "2023-05-08 18:35:56.606051: I tensorflow/stream_executor/platform/default/dso_loader.cc:49] Successfully opened dynamic library libcusparse.so.10\n",
      "2023-05-08 18:35:56.606063: I tensorflow/stream_executor/platform/default/dso_loader.cc:49] Successfully opened dynamic library libcudnn.so.7\n",
      "2023-05-08 18:35:56.613816: I tensorflow/core/common_runtime/gpu/gpu_device.cc:1862] Adding visible gpu devices: 0, 1, 2, 3, 4, 5, 6, 7\n",
      "2023-05-08 18:35:56.613946: I tensorflow/core/common_runtime/gpu/gpu_device.cc:1261] Device interconnect StreamExecutor with strength 1 edge matrix:\n",
      "2023-05-08 18:35:56.613953: I tensorflow/core/common_runtime/gpu/gpu_device.cc:1267]      0 1 2 3 4 5 6 7 \n",
      "2023-05-08 18:35:56.613959: I tensorflow/core/common_runtime/gpu/gpu_device.cc:1280] 0:   N Y Y Y Y Y Y Y \n",
      "2023-05-08 18:35:56.613963: I tensorflow/core/common_runtime/gpu/gpu_device.cc:1280] 1:   Y N Y Y Y Y Y Y \n",
      "2023-05-08 18:35:56.613967: I tensorflow/core/common_runtime/gpu/gpu_device.cc:1280] 2:   Y Y N Y Y Y Y Y \n",
      "2023-05-08 18:35:56.613972: I tensorflow/core/common_runtime/gpu/gpu_device.cc:1280] 3:   Y Y Y N Y Y Y Y \n",
      "2023-05-08 18:35:56.613976: I tensorflow/core/common_runtime/gpu/gpu_device.cc:1280] 4:   Y Y Y Y N Y Y Y \n",
      "2023-05-08 18:35:56.613980: I tensorflow/core/common_runtime/gpu/gpu_device.cc:1280] 5:   Y Y Y Y Y N Y Y \n",
      "2023-05-08 18:35:56.613984: I tensorflow/core/common_runtime/gpu/gpu_device.cc:1280] 6:   Y Y Y Y Y Y N Y \n",
      "2023-05-08 18:35:56.613988: I tensorflow/core/common_runtime/gpu/gpu_device.cc:1280] 7:   Y Y Y Y Y Y Y N \n",
      "2023-05-08 18:35:56.618651: I tensorflow/core/common_runtime/gpu/gpu_device.cc:1406] Created TensorFlow device (/job:localhost/replica:0/task:0/device:GPU:0 with 12106 MB memory) -> physical GPU (device: 0, name: Quadro RTX 6000, pci bus id: 0000:1b:00.0, compute capability: 7.5)\n",
      "2023-05-08 18:35:56.619192: I tensorflow/core/common_runtime/gpu/gpu_device.cc:1406] Created TensorFlow device (/job:localhost/replica:0/task:0/device:GPU:1 with 12106 MB memory) -> physical GPU (device: 1, name: Quadro RTX 6000, pci bus id: 0000:1c:00.0, compute capability: 7.5)\n",
      "2023-05-08 18:35:56.619687: I tensorflow/core/common_runtime/gpu/gpu_device.cc:1406] Created TensorFlow device (/job:localhost/replica:0/task:0/device:GPU:2 with 12106 MB memory) -> physical GPU (device: 2, name: Quadro RTX 6000, pci bus id: 0000:1d:00.0, compute capability: 7.5)\n",
      "2023-05-08 18:35:56.620178: I tensorflow/core/common_runtime/gpu/gpu_device.cc:1406] Created TensorFlow device (/job:localhost/replica:0/task:0/device:GPU:3 with 12106 MB memory) -> physical GPU (device: 3, name: Quadro RTX 6000, pci bus id: 0000:1e:00.0, compute capability: 7.5)\n",
      "2023-05-08 18:35:56.620668: I tensorflow/core/common_runtime/gpu/gpu_device.cc:1406] Created TensorFlow device (/job:localhost/replica:0/task:0/device:GPU:4 with 12106 MB memory) -> physical GPU (device: 4, name: Quadro RTX 6000, pci bus id: 0000:3d:00.0, compute capability: 7.5)\n",
      "2023-05-08 18:35:56.621189: I tensorflow/core/common_runtime/gpu/gpu_device.cc:1406] Created TensorFlow device (/job:localhost/replica:0/task:0/device:GPU:5 with 12106 MB memory) -> physical GPU (device: 5, name: Quadro RTX 6000, pci bus id: 0000:3f:00.0, compute capability: 7.5)\n",
      "2023-05-08 18:35:56.621714: I tensorflow/core/common_runtime/gpu/gpu_device.cc:1406] Created TensorFlow device (/job:localhost/replica:0/task:0/device:GPU:6 with 12106 MB memory) -> physical GPU (device: 6, name: Quadro RTX 6000, pci bus id: 0000:40:00.0, compute capability: 7.5)\n",
      "2023-05-08 18:35:56.622243: I tensorflow/core/common_runtime/gpu/gpu_device.cc:1406] Created TensorFlow device (/job:localhost/replica:0/task:0/device:GPU:7 with 12106 MB memory) -> physical GPU (device: 7, name: Quadro RTX 6000, pci bus id: 0000:41:00.0, compute capability: 7.5)\n",
      "/opt/anaconda3/lib/python3.9/site-packages/sklearn/linear_model/_logistic.py:444: ConvergenceWarning: lbfgs failed to converge (status=1):\n",
      "STOP: TOTAL NO. of ITERATIONS REACHED LIMIT.\n",
      "\n",
      "Increase the number of iterations (max_iter) or scale the data as shown in:\n",
      "    https://scikit-learn.org/stable/modules/preprocessing.html\n",
      "Please also refer to the documentation for alternative solver options:\n",
      "    https://scikit-learn.org/stable/modules/linear_model.html#logistic-regression\n",
      "  n_iter_i = _check_optimize_result(\n"
     ]
    },
    {
     "name": "stdout",
     "output_type": "stream",
     "text": [
      "Elapsed Time for Logistic Regression: 9.882444858551025\n",
      "\n",
      "Baseline Training Accuracy: 0.7264\n",
      "CV l2 Time: 2668.494802713394\n",
      "\n",
      "CV l2 Baseline: 0.7008\n",
      "CV l1 Time: 6986.902775287628\n",
      "\n",
      "CV l1 Baseline: 0.6967\n"
     ]
    }
   ],
   "source": [
    "tf.debugging.set_log_device_placement(True)\n",
    "gpus = tf.config.list_logical_devices('GPU')\n",
    "strategy = tf.distribute.MirroredStrategy(gpus)\n",
    "with strategy.scope():\n",
    "\n",
    "    ####################################################################\n",
    "    time_start = time()\n",
    "    lgr = LogisticRegression(n_jobs = -1)\n",
    "    lgr.fit(X,y)\n",
    "\n",
    "    time_stop = time()\n",
    "    print('Elapsed Time for Logistic Regression:', time_stop-time_start)\n",
    "    print()\n",
    "    print('Baseline Training Accuracy:', lgr.score(X,y))\n",
    "    ####################################################################\n",
    "    ts = time()\n",
    "    lgrcv2 = LogisticRegressionCV(cv=5, \n",
    "                                 random_state=0, \n",
    "                                 n_jobs=-1,\n",
    "                                 penalty='l2',\n",
    "                                 solver='sag',\n",
    "                                 max_iter = 5000)\n",
    "\n",
    "    lgrcv2.fit(X,y)\n",
    "    tss= time()\n",
    "    print('CV l2 Time:', tss-ts)\n",
    "    print()\n",
    "    print('CV l2 Baseline:', lgrcv2.score(X,y))\n",
    "    ####################################################################\n",
    "    ts = time()\n",
    "    lgrcv1 = LogisticRegressionCV(cv=5, \n",
    "                                 random_state=0, \n",
    "                                 n_jobs=-1,\n",
    "                                 penalty='l1',\n",
    "                                 solver='saga',\n",
    "                                 max_iter = 10000)\n",
    "\n",
    "    lgrcv1.fit(X,y)\n",
    "    tss= time()\n",
    "    print('CV l1 Time:', tss-ts)\n",
    "    print()\n",
    "    print('CV l1 Baseline:', lgrcv1.score(X,y))\n",
    "    "
   ]
  },
  {
   "cell_type": "code",
   "execution_count": 85,
   "id": "de366b30-6146-4332-9548-2f7bad090754",
   "metadata": {},
   "outputs": [],
   "source": [
    "import matplotlib.pyplot as plt"
   ]
  },
  {
   "cell_type": "code",
   "execution_count": 195,
   "id": "c8a55480-5500-4d9e-b8d4-3d06801e9820",
   "metadata": {},
   "outputs": [],
   "source": [
    "resultsl2 = lgrcv2.coef_\n",
    "resultsl2 = resultsl2.reshape([32,32,3])\n",
    "x = []\n",
    "y = []\n",
    "\n",
    "xred = []\n",
    "yred = []\n",
    "\n",
    "xgreen = []\n",
    "ygreen = []\n",
    "\n",
    "xblue = []\n",
    "yblue = []\n",
    "\n",
    "weight = [0.01,0.05,0.1]\n",
    "\n",
    "for w in range(len(weight)):\n",
    "    for rgb in range(3):\n",
    "        for i in range(32):\n",
    "            for j in range(32):\n",
    "                if abs(resultsl2[i,j,rgb]) > weight[w]:\n",
    "                    if rgb == 0:\n",
    "                        xred.append(i);\n",
    "                        yred.append(j);\n",
    "                    if rgb == 1:\n",
    "                        xgreen.append(i);\n",
    "                        ygreen.append(j);\n",
    "                    if rgb == 2:\n",
    "                        xblue.append(i);\n",
    "                        yblue.append(j);\n",
    "\n",
    "x = xred + xgreen + xblue;\n",
    "y = yred + ygreen + yblue"
   ]
  },
  {
   "cell_type": "code",
   "execution_count": 210,
   "id": "87a7f54d-10fa-469f-8229-2c0b822832b5",
   "metadata": {},
   "outputs": [
    {
     "data": {
      "text/plain": [
       "<matplotlib.collections.PathCollection at 0x7fcf2019f250>"
      ]
     },
     "execution_count": 210,
     "metadata": {},
     "output_type": "execute_result"
    },
    {
     "data": {
      "image/png": "[encoded data removed]",
      "text/plain": [
       "<Figure size 640x480 with 1 Axes>"
      ]
     },
     "metadata": {},
     "output_type": "display_data"
    }
   ],
   "source": [
    "plt.scatter(xred,yred,alpha=0.3,c='r',marker='s')"
   ]
  },
  {
   "cell_type": "code",
   "execution_count": 211,
   "id": "a622f2f5-f878-45d3-b5e8-ccc32ad6a71f",
   "metadata": {},
   "outputs": [
    {
     "data": {
      "text/plain": [
       "<matplotlib.collections.PathCollection at 0x7fce6041a760>"
      ]
     },
     "execution_count": 211,
     "metadata": {},
     "output_type": "execute_result"
    },
    {
     "data": {
      "image/png": "[encoded data removed]",
      "text/plain": [
       "<Figure size 640x480 with 1 Axes>"
      ]
     },
     "metadata": {},
     "output_type": "display_data"
    }
   ],
   "source": [
    "plt.scatter(xgreen,ygreen,alpha=0.3,c='g',marker='s')"
   ]
  },
  {
   "cell_type": "code",
   "execution_count": 212,
   "id": "0a223b2c-cc7d-461a-b51d-78518af64fbd",
   "metadata": {},
   "outputs": [
    {
     "data": {
      "text/plain": [
       "<matplotlib.collections.PathCollection at 0x7fce601ce7f0>"
      ]
     },
     "execution_count": 212,
     "metadata": {},
     "output_type": "execute_result"
    },
    {
     "data": {
      "image/png": "[encoded data removed]",
      "text/plain": [
       "<Figure size 640x480 with 1 Axes>"
      ]
     },
     "metadata": {},
     "output_type": "display_data"
    }
   ],
   "source": [
    "plt.scatter(xblue,yblue,alpha=0.3,c='b',marker='s')"
   ]
  },
  {
   "cell_type": "code",
   "execution_count": 213,
   "id": "9aaccd67-53a2-42a0-92b6-d93740f013e5",
   "metadata": {},
   "outputs": [
    {
     "data": {
      "text/plain": [
       "<matplotlib.collections.PathCollection at 0x7fce601a7850>"
      ]
     },
     "execution_count": 213,
     "metadata": {},
     "output_type": "execute_result"
    },
    {
     "data": {
      "image/png": "[encoded data removed]",
      "text/plain": [
       "<Figure size 640x480 with 1 Axes>"
      ]
     },
     "metadata": {},
     "output_type": "display_data"
    }
   ],
   "source": [
    "plt.scatter(x,y,alpha=0.3,c='black',marker='s')"
   ]
  },
  {
   "cell_type": "code",
   "execution_count": 205,
   "id": "22bd3540-8d35-47dd-8893-df3954eaad02",
   "metadata": {},
   "outputs": [],
   "source": [
    "resultsl1 = lgrcv1.coef_\n",
    "resultsl1 = resultsl1.reshape([32,32,3])\n",
    "x = []\n",
    "y = []\n",
    "\n",
    "xred = []\n",
    "yred = []\n",
    "\n",
    "xgreen = []\n",
    "ygreen = []\n",
    "\n",
    "xblue = []\n",
    "yblue = []\n",
    "\n",
    "weight = [0.005,0.01,0.05,0.1]\n",
    "\n",
    "for w in range(len(weight)):\n",
    "    for rgb in range(3):\n",
    "        for i in range(32):\n",
    "            for j in range(32):\n",
    "                if abs(resultsl1[i,j,rgb]) > weight[w]:\n",
    "                    if rgb == 0:\n",
    "                        xred.append(i);\n",
    "                        yred.append(j);\n",
    "                    if rgb == 1:\n",
    "                        xgreen.append(i);\n",
    "                        ygreen.append(j);\n",
    "                    if rgb == 2:\n",
    "                        xblue.append(i);\n",
    "                        yblue.append(j);\n",
    "\n",
    "x = xred + xgreen + xblue;\n",
    "y = yred + ygreen + yblue"
   ]
  },
  {
   "cell_type": "code",
   "execution_count": 215,
   "id": "aa54387c-80da-48e5-94c7-7d6187831164",
   "metadata": {},
   "outputs": [
    {
     "data": {
      "text/plain": [
       "<matplotlib.collections.PathCollection at 0x7fce600d12e0>"
      ]
     },
     "execution_count": 215,
     "metadata": {},
     "output_type": "execute_result"
    },
    {
     "data": {
      "image/png": "[encoded data removed]",
      "text/plain": [
       "<Figure size 640x480 with 1 Axes>"
      ]
     },
     "metadata": {},
     "output_type": "display_data"
    }
   ],
   "source": [
    "plt.scatter(xred,yred,alpha=0.2,c='r',marker='s')"
   ]
  },
  {
   "cell_type": "code",
   "execution_count": 216,
   "id": "866be704-5bc0-4e2a-9be9-53466fb4b788",
   "metadata": {},
   "outputs": [
    {
     "data": {
      "text/plain": [
       "<matplotlib.collections.PathCollection at 0x7fce6004b5b0>"
      ]
     },
     "execution_count": 216,
     "metadata": {},
     "output_type": "execute_result"
    },
    {
     "data": {
      "image/png": "[encoded data removed]",
      "text/plain": [
       "<Figure size 640x480 with 1 Axes>"
      ]
     },
     "metadata": {},
     "output_type": "display_data"
    }
   ],
   "source": [
    "plt.scatter(xgreen,ygreen,alpha=0.2,c='g',marker='s')"
   ]
  },
  {
   "cell_type": "code",
   "execution_count": 217,
   "id": "f1e1b8b8-b9d4-4cf3-a2c7-40b71bd1aff5",
   "metadata": {},
   "outputs": [
    {
     "data": {
      "text/plain": [
       "<matplotlib.collections.PathCollection at 0x7fce347f8e50>"
      ]
     },
     "execution_count": 217,
     "metadata": {},
     "output_type": "execute_result"
    },
    {
     "data": {
      "image/png": "[encoded data removed]",
      "text/plain": [
       "<Figure size 640x480 with 1 Axes>"
      ]
     },
     "metadata": {},
     "output_type": "display_data"
    }
   ],
   "source": [
    "plt.scatter(xblue,yblue,alpha=0.2,c='b',marker='s')"
   ]
  },
  {
   "cell_type": "code",
   "execution_count": 218,
   "id": "b1d711d6-b207-44d2-bd87-5fc32dfd85a9",
   "metadata": {},
   "outputs": [
    {
     "data": {
      "text/plain": [
       "<matplotlib.collections.PathCollection at 0x7fce6007f760>"
      ]
     },
     "execution_count": 218,
     "metadata": {},
     "output_type": "execute_result"
    },
    {
     "data": {
      "image/png": "[encoded data removed]",
      "text/plain": [
       "<Figure size 640x480 with 1 Axes>"
      ]
     },
     "metadata": {},
     "output_type": "display_data"
    }
   ],
   "source": [
    "plt.scatter(x,y,alpha=0.3,c='black',marker='s')"
   ]
  },
  {
   "cell_type": "code",
   "execution_count": 220,
   "id": "becc770a-05ad-49eb-96cf-1d1e42394ed1",
   "metadata": {},
   "outputs": [],
   "source": [
    "import plotly.express as px"
   ]
  },
  {
   "cell_type": "code",
   "execution_count": 261,
   "id": "b7891325-376a-4f6f-9fef-90bdd38c5f80",
   "metadata": {},
   "outputs": [],
   "source": [
    "resultsl2_r = []\n",
    "resultsl2_g = []\n",
    "resultsl2_b = []\n",
    "\n",
    "\n",
    "for rgb in range(3):\n",
    "        for i in range(32):\n",
    "            for j in range(32):\n",
    "                if rgb == 0:\n",
    "                    resultsl2_r.append(resultsl2[i,j,rgb])\n",
    "                if rgb == 1:\n",
    "                    resultsl2_g.append(resultsl2[i,j,rgb])\n",
    "                if rgb == 2:\n",
    "                    resultsl2_b.append(resultsl2[i,j,rgb])\n",
    "                    "
   ]
  },
  {
   "cell_type": "code",
   "execution_count": 262,
   "id": "562e0dd2-027a-4144-ae8e-7bf3d8354ba6",
   "metadata": {},
   "outputs": [
    {
     "data": {
      "application/vnd.plotly.v1+json": {
       "config": {
        "plotlyServerURL": "https://plot.ly"
       },
       "data": [
        {
         "coloraxis": "coloraxis",
         "hovertemplate": "x: %{x}<br>y: %{y}<br>color: %{z}<extra></extra>",
         "name": "0",
         "type": "heatmap",
         "xaxis": "x",
         "yaxis": "y",
         "z": [
          [
           0.042168106530669845,
           0.03266529560174412,
           0.02610512338711727,
           0.011922830877217544,
           0.0047840837291323055,
           0.010808626911778717,
           -0.001556062339432631,
           -0.0007555010750354598,
           0.0073902300058787,
           0.005126951925230142,
           -0.0019033146558984232,
           -0.0021293512295237943,
           0.008558424381415916,
           0.0014799225538088651,
           0.0035561653305259083,
           0.0073358764419791285,
           0.012478802735449492,
           0.011117450993151057,
           0.004529415953680611,
           0.011200895241540441,
           0.007800738519195542,
           0.013070095520828525,
           0.012853839244819141,
           0.02382202480077193,
           0.019019532091546113,
           0.01296635994286305,
           0.0076712779578149625,
           0.002851307704130406,
           0.004712288243946615,
           0.01366436189972445,
           0.024366287636392887,
           0.029320850456831776
          ],
          [
           0.03377634715623679,
           0.01986993152372691,
           0.01632827955598239,
           0.010185299822334274,
           0.009537377791522757,
           0.008591065953898075,
           -0.002534621976911243,
           -0.0005818465516114445,
           -0.009151106337663108,
           -0.0024532575051584155,
           -0.004756642341077285,
           -0.004135906745812481,
           0.007199206214083964,
           0.0046502833315618455,
           0.01442048718654976,
           0.0061939911068540745,
           0.002157326288313709,
           0.008362465127252567,
           0.010304584874293731,
           0.009682745046940208,
           0.005554720458276493,
           0.010834018321735927,
           0.007594707271204481,
           0.014004487500885118,
           0.008734574717623688,
           0.005502622916771643,
           -0.0026297592206645784,
           -0.014509010680859151,
           -0.014619936691266253,
           -0.002877983372215542,
           0.007464010661068682,
           0.006723303518046034
          ],
          [
           0.025049236906813762,
           0.008595000547739273,
           0.010263116847461628,
           0.008965346152063288,
           0.008614527739909563,
           0.006662810081811589,
           -0.0002693517136489377,
           -0.001799966880844639,
           -0.013116339716908669,
           -0.009956844543301823,
           0.0002489202473252037,
           0.0067417563494462235,
           0.010837637136170013,
           0.006320702212566429,
           0.012049620055321343,
           -0.003606809601339725,
           -0.007333476942617239,
           -0.007268782813106388,
           0.004085271252446645,
           0.008295148355092244,
           0.007353427755509732,
           0.001155341941990005,
           0.004466894572679761,
           0.01644105345463804,
           0.008882230617981466,
           0.004868395212807215,
           -0.007150621990579574,
           -0.009499378608481667,
           -0.006734558024244524,
           -0.004066348166467572,
           0.00445456986039724,
           -0.0014854048780966894
          ],
          [
           0.016027658116277176,
           0.0013936391094956588,
           0.005401122091067664,
           0.009015020713725973,
           -0.004348642765808088,
           -0.010564087467851063,
           -0.007939139556038553,
           -0.006749953359682994,
           -0.0030343100099482247,
           -0.001712243425770491,
           0.004729619677185748,
           0.0015387052263533556,
           -0.00551402092034085,
           -0.0023000660468207416,
           0.006525794121102961,
           -0.0031010607351434575,
           -0.00554774050398271,
           -0.016865828382299317,
           -0.005797053648734673,
           -0.008198392858513318,
           -0.005773726999046012,
           -0.005567034850574295,
           0.0008654733456703592,
           0.007660686419209524,
           0.014798329767042063,
           0.008198418582163162,
           -0.001345525624765057,
           0.0045441062057010205,
           -0.002862422334135165,
           -0.011453973993976449,
           0.0005643311376151863,
           0.001984114444358086
          ],
          [
           0.008361273341730651,
           0.005336034782055775,
           0.008018936256490488,
           0.009681492644297894,
           -0.0042325915066576784,
           -0.003193459331734088,
           -0.00544047299798206,
           -0.010441855419371258,
           -0.005404882516914995,
           -0.0035117630919677986,
           -0.0007300251918925828,
           0.0021321048057611255,
           5.383972335762993e-06,
           -0.002161930026735657,
           0.005248297279906793,
           0.005612251221871844,
           -0.0021398967889207725,
           -0.00570622927909252,
           0.004742046361893248,
           0.0028749195017069716,
           0.001791751308380461,
           -0.006278630984035825,
           -0.00723779566555111,
           -0.012038934040693821,
           0.0015396070820085043,
           0.0004662997658000756,
           -0.0018117323785989054,
           -0.0019329846537453445,
           -0.006940717596738807,
           -0.010757801024631568,
           -0.0028632654945985707,
           0.004153029460580675
          ],
          [
           0.010095409736961889,
           0.009090141252283176,
           0.0058596592726362865,
           0.006698196635748775,
           0.0003167710079443558,
           -0.00028972984045124567,
           -0.007656379908279326,
           -0.013977785806943461,
           -0.017656382392226937,
           -0.01290156509844725,
           0.0004356617590659849,
           0.007486406579296235,
           -0.003308235764731598,
           -0.0042978877386586605,
           0.00235232365543576,
           -9.368694092150554e-05,
           -0.0003274982535404347,
           -0.0025822025728039866,
           0.0042712824492006024,
           0.007833334609054703,
           0.009412580596986,
           -8.077462021016228e-05,
           -0.0018384603808975408,
           0.002915795218979354,
           0.0009011265096043184,
           0.0024637783287240634,
           0.003601747458104407,
           -0.0023029367774351933,
           -0.001987224626230234,
           -0.001981607917734236,
           -0.0027697224005195915,
           -0.001599893552973776
          ],
          [
           0.015519629220857319,
           0.002748292089202818,
           -0.004043876876862616,
           -0.0031066025932858583,
           -0.0008731451337402198,
           -0.0028718399244739403,
           -0.007643285954367304,
           -0.0070056291430050256,
           -0.005220303402878388,
           -0.004245702306740916,
           0.006579132237612699,
           0.001938938243525783,
           -0.01435267531987892,
           -0.0019660948353095024,
           0.006922953585594349,
           0.004994302559150927,
           0.012387331689372246,
           0.003388325837262327,
           -0.00499309476522801,
           -0.0015414300220767856,
           0.005401832558170265,
           0.0028337682155591187,
           -0.0071721218480098065,
           0.000476481107682219,
           0.008640290309047047,
           0.00841274130881545,
           0.004694576696421422,
           -0.004306468004413782,
           -0.002530447760641629,
           -0.0021382269131616097,
           -0.006894271528035695,
           -0.005231433131125582
          ],
          [
           0.01673870160689493,
           0.0056554238311440665,
           -0.0032811945034801706,
           -0.006317695516203709,
           -0.0019829828534469016,
           -0.0034109217450755736,
           -0.00430511317356742,
           0.008035229641678111,
           0.012635315435746065,
           0.010840515707333635,
           0.021970411787910298,
           0.012967589394485233,
           -0.01015574757962609,
           0.0007410925882495785,
           0.010554900492273794,
           0.004175869818275694,
           0.00920901922424676,
           0.0031787599185348833,
           -0.00175701598562779,
           0.001919860428990267,
           0.0033198482654898933,
           0.005541796453832153,
           0.0033816215105116794,
           0.004900650904026818,
           -0.0030569657044584313,
           -0.0009616218565929611,
           0.00022553495394574987,
           -0.0040243578494402405,
           -0.0051920015174836,
           -0.00015140094333288478,
           -0.012465015326817245,
           -0.006264334743367984
          ],
          [
           -0.003599333726835541,
           -0.01023420135841479,
           -0.009500508086739766,
           -0.012148745302677344,
           -0.0135182674939234,
           0.0019810159941068524,
           -0.0053477686995272574,
           0.012806132850331225,
           0.0021649563534072566,
           0.003033193118196065,
           0.0015709293243001009,
           0.002296773676654067,
           -0.004297714918837779,
           0.011187693771158767,
           0.013202182303110295,
           0.006821509643452268,
           -0.001005629744341712,
           0.010080117338443864,
           0.004065865966104717,
           -0.006749537256597794,
           -0.00743378140343434,
           -0.004164972071452884,
           0.0034501147448821453,
           0.01324831354483058,
           -0.006251819015735713,
           0.0002553808941431208,
           -0.016066073642994377,
           -0.0005786407911718563,
           -0.003106825306143435,
           -0.008983403112859008,
           -0.0070699812063581054,
           -0.011128145946112996
          ],
          [
           0.0026446472173429878,
           0.0045644323893449116,
           -0.0014223566087389712,
           -0.006111657519796145,
           0.004679315213567876,
           0.01459510379161034,
           -0.0003434304231932398,
           -0.0007125227551945485,
           -0.005001923888338274,
           0.00579322065073206,
           0.011196071889438115,
           0.015799178648557094,
           0.005421680216080452,
           0.004461727928080875,
           0.008178207044817445,
           0.0002756006573431353,
           0.005419802011940459,
           0.012846310749564193,
           -0.007383553959275477,
           0.0003992980474439092,
           -0.0006182351669354475,
           -0.006586696829851514,
           -0.007485918626510896,
           -0.00886328605375073,
           -0.00808996330911371,
           0.0030976596216970883,
           0.0036414827240602793,
           0.005607729264451843,
           -0.010664106287647815,
           -0.003787649304177117,
           0.006597911778300157,
           -0.0030873778093638386
          ],
          [
           -0.005275438648913112,
           0.00027208635033450896,
           0.0024500015528831818,
           0.005872234364176258,
           0.017534574758909603,
           0.012754546858822212,
           0.012843233756689363,
           0.007165161135821865,
           -0.001214261129320649,
           0.0029207738116511345,
           0.006295022204877233,
           0.010459665700901899,
           0.001277982335890992,
           0.0022924619880977702,
           0.013660288058917329,
           0.010125721138502491,
           0.01620440227730445,
           0.01260170263299034,
           -0.00024016533996841982,
           0.017464284398025193,
           0.01154709510764271,
           -0.0031496829677480354,
           0.005449514035335141,
           0.0025581599056416736,
           -0.011311107638219818,
           -0.0006874656048390676,
           0.002201460668822141,
           0.010710457659230744,
           -0.007366258566045894,
           -0.0034841968483753697,
           0.005645774772297898,
           0.0010339440490028686
          ],
          [
           0.0002089286411918541,
           -0.0026364932600588154,
           0.003415076039884966,
           0.005829984869166896,
           0.010551503240317695,
           0.005101822746576688,
           0.013326743925037101,
           0.005862613951648777,
           0.004919288276742694,
           0.01123511011034897,
           0.005026412711036953,
           0.014068830075555754,
           0.011892884578403718,
           0.010299916631663257,
           0.012443575393044866,
           0.010241417726158868,
           0.0009664396521909142,
           0.006296369832902994,
           0.0033344157959785447,
           0.014005236181874901,
           0.005362282579714997,
           0.0010973510575625726,
           0.014304610620499798,
           0.010753471285888123,
           -0.00741463026549918,
           -0.007552080809885862,
           -0.009075962802009096,
           0.0006229229487184228,
           -0.0012566433461016827,
           -0.0023540894523158286,
           -0.009307162113065082,
           3.66852744229126e-05
          ],
          [
           0.004715568800856358,
           -0.004622159363927063,
           0.0006446611072333019,
           -0.009029378527296288,
           -0.009479174060212293,
           -0.003221959256418258,
           0.00525456315177551,
           -0.0020721309508816227,
           0.0006306759457488721,
           0.00837017107350036,
           0.010737560239008358,
           0.015370193483550862,
           0.015717084541510794,
           0.01987345629158045,
           0.014390729003405465,
           0.005768214823712482,
           0.00609340239231583,
           0.012494605941353387,
           0.005789042190102262,
           -0.0005823992769067217,
           0.0015227425236584123,
           0.0032681512850641905,
           0.010512795816529839,
           0.015744589030937117,
           0.011400420481688123,
           0.007482879016102866,
           0.0073939049259401845,
           0.013259359341014949,
           0.011885764741830377,
           0.0014932386238680154,
           -0.016027044808263623,
           0.003789813939586727
          ],
          [
           -0.007243100336970696,
           -0.016885415109220925,
           -0.004634161204486933,
           -0.006124221746549273,
           -0.002058083054106464,
           0.014435912416811034,
           0.004790545933633361,
           -0.003546970002122574,
           -4.281328534358714e-05,
           0.003648041550160464,
           -0.0005300197791890853,
           0.0027807474025320802,
           0.0023639475731025506,
           0.00953193051324719,
           0.007541375124456609,
           0.007131471298455576,
           0.007531997678238827,
           0.01545186700171195,
           0.006412136850599952,
           -0.008871473721563565,
           0.008735816254337494,
           -0.0021553238557095746,
           -0.004045168291062981,
           0.0018895705140772362,
           0.01527651188135356,
           0.013179774769491198,
           0.00979080164908937,
           0.01422543647117191,
           0.010348870781693026,
           0.00847079249260329,
           -0.0024426476278874417,
           0.0015498360782247472
          ],
          [
           -0.018609644735930072,
           -0.024996246776382562,
           -0.004106086871287481,
           -0.009037805566112715,
           -0.009601858998313877,
           0.0062296229815344386,
           0.0017259994205790202,
           0.007813521308876609,
           -0.004711975524386229,
           0.0041616787715290935,
           0.0028626901228687254,
           0.008844585227706007,
           0.0031361003188825486,
           0.009087147513858406,
           -0.004730186916650621,
           0.0038986544896077815,
           0.013100974931733615,
           -0.0015701015482497789,
           0.002122773410859469,
           0.007648209946588834,
           0.015169297937976191,
           0.00916024328405086,
           0.006700431110584707,
           -0.002465194486292894,
           0.0038799456602795846,
           -0.0071276728391330155,
           -0.0030737263987829764,
           0.004309753181393813,
           0.004770371814663418,
           0.0024416212119200173,
           0.0031931970749150464,
           -0.003139094651393303
          ],
          [
           -0.017118939076609323,
           -0.02346031293180844,
           -0.0036564757575322125,
           -0.005471114950622224,
           -0.004668563978916528,
           0.008554393298686062,
           -0.003163708366204536,
           0.006204724375627802,
           -0.001989738817888685,
           0.012730895458760804,
           0.0009812552473889933,
           -0.00263450018730647,
           0.0069002831418425925,
           0.013593902568323882,
           -0.010743058994860374,
           -0.004911312878099589,
           0.016476197331152805,
           0.009367764936104927,
           0.018372205744665155,
           0.019470889322437682,
           -0.0017455026552067345,
           0.005513609388206894,
           0.007695297950130294,
           0.005412920221782596,
           0.00706629821461884,
           -0.0034327093434599397,
           0.00044656715555572036,
           0.00434918041234416,
           0.005830322430812457,
           0.002916156501013709,
           0.007753168196016925,
           0.0011554976835194699
          ],
          [
           -0.006749516439342443,
           -0.010606270232555608,
           -0.013288551410841376,
           -0.0062827179865599945,
           -0.012502661655119006,
           -0.0012733877678342094,
           -0.004241856169954421,
           0.00027528701031507316,
           -0.0027317141051067815,
           0.011455787384488974,
           -0.008160206750246578,
           -0.0025906602554279803,
           -0.01178686163696136,
           -0.0020505530940295217,
           -0.006887452286670376,
           -0.011144489175649598,
           0.012701571396823659,
           0.006492953944269731,
           0.004791270889792534,
           0.00020826854353852444,
           0.0020331056183404404,
           -0.007127136091627524,
           -0.005799777820186348,
           0.016865849370834667,
           0.022069193913391162,
           0.010331898523042867,
           0.002585404427076219,
           0.004938648482326896,
           -0.003483760791614803,
           -0.015624294242801057,
           -0.01893088701498425,
           -0.013436981031536007
          ],
          [
           -0.0025486595466649126,
           -0.019080530425356863,
           -0.01098844001220517,
           -0.0021679402121606065,
           -0.008201551627065784,
           -0.005467986306859471,
           0.0025295413052062433,
           0.0192899208684373,
           -0.001217986030373264,
           0.0026094516470544097,
           -0.004089746567653705,
           0.00033159343929905236,
           -0.0044755330166626,
           -0.0004309612512084761,
           -0.001844404263113059,
           -0.0041467099435590436,
           -0.008690111386259868,
           -0.005642191335934176,
           -0.0067141163210711835,
           0.0008353999881507134,
           0.006195494189721485,
           0.0026200494697966297,
           0.0012665288242582383,
           0.00461181508542087,
           -0.0026142367054179114,
           -0.0012552827688866238,
           -0.005905362904425951,
           -0.005810906985814991,
           -0.008773987667451718,
           -0.008046409993692345,
           -0.011645864200709887,
           -0.019741159211505592
          ],
          [
           0.00327796240879907,
           -0.014607406530423183,
           -0.004456726245383576,
           -0.0009207208107630656,
           -0.01249069002670078,
           -0.015011978772695164,
           -0.0007978570281218483,
           0.016830793172007426,
           -0.0001183774026594986,
           0.010171482067685521,
           0.002325229059849651,
           0.010141426790511105,
           0.007993001995581412,
           -0.0002476683754629113,
           -0.002658345976451346,
           -0.003994829334150943,
           -0.015205372722647732,
           -0.005765348768021157,
           -0.007014970774186294,
           -0.008759446527973325,
           -0.005446653143610909,
           -0.0015398616079949185,
           0.0016056347606712258,
           0.005160726805178564,
           -0.008509331176770316,
           0.0005946605271275215,
           0.004050222966263784,
           -0.011546275588162612,
           -0.020353023037229842,
           -0.014066116752852376,
           -0.01693357771976272,
           -0.013096753831484578
          ],
          [
           0.012300404279739188,
           -0.009742449485730305,
           -0.015326162874783587,
           -0.0039032749437473992,
           -0.0002626726429108233,
           -0.005218727284125394,
           0.0013377680441257708,
           0.0021540861871232144,
           0.010059172477402152,
           0.01975037184264585,
           0.007036948624869024,
           0.007164877888624975,
           0.0005578205317662703,
           0.0011925831871385701,
           0.006092778965413104,
           0.01076359777853987,
           -0.007173108595338963,
           -0.006380665930785558,
           -0.007420457074694806,
           -0.0007482295653151664,
           -0.0012442617076281592,
           -0.0036730848333395823,
           -0.005203818454523833,
           -0.0038145897609255745,
           0.001634191592313079,
           0.0025042693912999355,
           0.006060704279926583,
           -0.001982073605470459,
           -0.01254086616421795,
           -0.014575363241719682,
           -0.02227277931954862,
           -0.017491657776870694
          ],
          [
           -0.007004277336812604,
           -0.021098776775640326,
           -0.01106390038147587,
           -0.008795667877334755,
           -0.0005508335882811361,
           0.006163505456034697,
           0.010853269346041307,
           0.009043020671052518,
           0.0020304388011943633,
           0.006514818458747049,
           -0.004036669641440513,
           0.0010269445693063856,
           0.002141717250118773,
           0.0034852649147325354,
           -0.0010680623690115893,
           0.001535281417029374,
           0.012115694521467778,
           0.002180725513649083,
           -0.008971164708725724,
           -0.010077651856678294,
           0.011630866451665662,
           0.009211695658928834,
           -0.0017982519306913314,
           -0.0038276339539918703,
           -0.006960324233988633,
           -0.008721585676852585,
           -0.008126181223905774,
           0.00035115712842799534,
           -0.006412572603879805,
           -0.015136427024137948,
           -0.015401756470516514,
           -0.016736795495168245
          ],
          [
           -0.00572548341454704,
           -0.023582127989646408,
           -0.004674104219827999,
           -0.01589662720710968,
           -0.0165472754479724,
           -0.008398041402715044,
           0.000743626731859498,
           0.0016890184732977604,
           0.007295247459678731,
           0.018536583445314458,
           0.012888251899246028,
           0.008056136841166881,
           0.00450389695358336,
           0.001915794042781766,
           -0.0015215581552182136,
           0.008981205765274664,
           0.022308635055103655,
           0.006571360031192206,
           0.0018870681456767643,
           0.004315203277374681,
           0.008130592677524676,
           0.0017355557511587556,
           0.012598516604890243,
           0.019032922897898603,
           0.004768661828485995,
           0.013678709763318817,
           0.01516070513884003,
           -0.004713583650654131,
           -0.01625741722231507,
           -0.013343425216705871,
           -0.0022120601882576413,
           -0.007797533870490539
          ],
          [
           0.01021237464648447,
           -0.019747752974987598,
           -0.00392358748499638,
           0.002398972852388416,
           -0.0012209513475349536,
           -0.004631154002508524,
           -0.0007762677177958302,
           0.004944625332119349,
           -0.00022283478436169405,
           0.004960204233151215,
           0.008464418919234766,
           0.003762948098063945,
           -0.0006452542777755628,
           0.002327260759259652,
           -0.0008384596697400966,
           -0.004596863452424979,
           0.0010227709756524303,
           0.0030418277728185383,
           0.012079321730289411,
           0.013925385242575514,
           0.0007714004411131058,
           -0.0010591156034324802,
           0.015443667282551584,
           0.011687886458021508,
           0.008617160534668225,
           0.012686239577489093,
           0.017820985203818914,
           -0.0025398984114229496,
           -0.012121846998860418,
           -0.009879093878883147,
           -0.00054531620670149,
           0.0021906569638416164
          ],
          [
           0.0024477414772579396,
           -0.017267270909974,
           -0.008951649395982956,
           0.0037577612649585634,
           0.006435923265063567,
           0.007855050966051599,
           0.008794279411643704,
           0.01165018893418684,
           0.0007438001172746771,
           -0.00020323207868189322,
           0.0019524505560745682,
           0.0017168436831646787,
           -0.004404463414462857,
           0.0060139439880857355,
           0.013310320352179973,
           0.017534239172565386,
           0.0033221286223894977,
           0.022267165957337715,
           0.02228436804504062,
           0.012678027966362925,
           0.003645170494333876,
           0.00861731672481018,
           0.004091112244019344,
           0.0015217380183253602,
           0.005917906149641778,
           -0.002369682048884073,
           -3.4137898646273953e-05,
           -0.00916143662260485,
           0.0006471941489118934,
           -0.011166734882822394,
           -0.016651837322497986,
           -0.012309434311367924
          ],
          [
           0.006928104501625889,
           -0.012475995075552908,
           -0.007457989140028593,
           -0.0017263466754202234,
           -0.0032279490792001377,
           0.0004405901398011657,
           0.0032098381314640827,
           0.006288329186154995,
           0.0044861725194346724,
           -0.011533969229256084,
           -0.01022550810450657,
           0.008703304963083022,
           -0.007958477794291558,
           0.012603777368053369,
           0.013704840210812374,
           0.02468207509583029,
           0.0038488920747727228,
           0.000210124782111694,
           0.004725305361390973,
           0.0025909198563477294,
           0.005401960719967666,
           0.0036654928242203025,
           -0.005703307804327956,
           0.0056066247946495555,
           0.004819382818372389,
           -0.0008858519104677403,
           -0.007209838327187813,
           -0.007935418999425185,
           -0.011072906712007695,
           -0.010172225932851064,
           -0.0013758184120007363,
           0.000877366826189853
          ],
          [
           0.0051946589941313515,
           -0.01315327447883062,
           -0.012556607311829414,
           -0.014533776760589685,
           -0.016947084134171463,
           -0.01279401886366058,
           0.0008538467576065222,
           0.003538443180867594,
           -0.001339728296289632,
           -0.013180448732629014,
           -0.002885906331604303,
           0.012170176465751309,
           0.003629043299511447,
           0.006710328311009903,
           0.0015796964141250695,
           0.016181185963048034,
           0.005390560500680891,
           -0.0012126095512482562,
           0.0016861159194940137,
           0.004267608263924789,
           -0.0014783537307902822,
           -0.006355363588783252,
           -0.012486609757844033,
           -0.005375115543030515,
           -0.0014698806332234771,
           -0.0045218628083202855,
           -0.008563270696965651,
           -0.006910022083703884,
           -0.009102464215697225,
           -0.0165394154262217,
           -0.006910304635866817,
           -0.004419793497533088
          ],
          [
           0.013920782749382512,
           -0.006706263554624361,
           -0.0002607695135146882,
           0.0027364269421966507,
           -0.00501000273696878,
           -0.01121550620216158,
           0.00042928251902194496,
           0.0030280245408891024,
           0.00015834716074888283,
           -0.007436475331745771,
           0.003748359516789504,
           -0.0007381796226694864,
           -0.006815613084515792,
           -0.006558989280723184,
           -0.004258813651504386,
           0.00391938671632335,
           0.009030162853809006,
           0.0035364639940278,
           -0.007113766122610577,
           -0.006620680519669685,
           -0.013003735071837498,
           -0.009595941091793327,
           -0.007452428168713659,
           -0.012612604311902729,
           -0.0030513410432412885,
           0.005393047323877562,
           0.0009161946813603888,
           0.0030426837122306226,
           0.004850660186491392,
           -0.004391198982747701,
           -0.00145803846922854,
           -0.006824996468572504
          ],
          [
           0.02364180896517287,
           0.002982682751603212,
           0.005692249433343146,
           0.007151993258713849,
           -0.0009069648442328234,
           -0.0031818794773823575,
           -0.0018121351984116886,
           -0.005540621014796836,
           -0.001447341641801862,
           0.00462895745495538,
           0.007943264743346903,
           0.005485303731595402,
           0.01000473154809993,
           -0.0019946203270179955,
           0.003807768541406525,
           -0.0036083904988018123,
           -0.002336703310376107,
           0.008936456098411871,
           0.0025654500472555293,
           -0.00539758535400219,
           -0.006296842235730651,
           0.003302634210029062,
           0.006840161306072395,
           -0.007034842005546786,
           -0.007020564941438844,
           0.005312400668160525,
           -0.003101621677319774,
           -0.001888115096351965,
           0.008607018258620865,
           -0.0011287018316127003,
           -0.0057972308572727775,
           -0.015774107983540328
          ],
          [
           0.01336032649610194,
           -0.006118634226886193,
           -0.005474119891339497,
           -0.008674026229618471,
           -0.01812929433039071,
           -0.010401896568493824,
           0.005947844819899994,
           0.007767671680954481,
           0.00013924052475197912,
           0.0061813576990508235,
           0.005472061436713008,
           0.00408752777441351,
           0.0031711782240930286,
           -0.013192684335329405,
           -0.006661931385785388,
           -0.005627556166194182,
           -0.010072843761786555,
           -0.002542931900501066,
           -0.0015762650276691934,
           -0.009654574773123028,
           -0.003993230314752212,
           -0.0005064054297824296,
           0.0021764477359014485,
           -0.0028313881830216137,
           -0.0013602152271998467,
           -0.0014722341149846889,
           -0.006469474510757635,
           -0.004020167618498857,
           0.0006145394144086834,
           -0.0008621127116759389,
           -0.003248580805182964,
           -0.008047888358298593
          ],
          [
           0.00829133622679224,
           -0.009614672887059379,
           -0.006966785628690085,
           -0.0023130708830787694,
           -0.012092664020594177,
           -0.01807103042672575,
           -0.01000568397470652,
           0.0012275504512277498,
           -0.004198575813638711,
           0.0031476499834248934,
           0.0017557903858145165,
           0.005501241256362577,
           -0.002496701861834957,
           -0.010441826677200476,
           -0.008625216024864803,
           -0.003915398536199944,
           0.00674632648663121,
           -0.0052557050472002665,
           -0.011368837225888476,
           -0.014252247277501611,
           -0.011223168721992222,
           -0.005951089575924169,
           -0.005078955717306599,
           -0.0028726051254010835,
           0.013017585462539451,
           0.0008180494753302013,
           -0.009572215069257291,
           -0.00479757446199579,
           -0.007435317759635197,
           -0.006184384800374342,
           0.0024852692726478757,
           0.0032534330357092173
          ],
          [
           0.029964158887548612,
           0.008303284183830806,
           0.0021247052479582327,
           -0.0010323955283352679,
           -0.010532517407130636,
           -0.020316921259873964,
           -0.017795752199434817,
           -0.006506141251813973,
           -0.005356038691879532,
           0.0012153802665890907,
           -0.002308107325708095,
           0.0031773203483429387,
           -0.002540829490954476,
           -0.0011817061752143134,
           -0.007385141277902896,
           -0.01134286296614879,
           0.0034706316816561188,
           0.0025840279309327983,
           -0.007206893565811254,
           -0.005186646924847303,
           -0.007307015312547537,
           0.00029707340094124285,
           0.000828424629001882,
           -0.0007884563116421323,
           0.0005833697832488897,
           0.002275986742524401,
           0.0003126816917420108,
           -0.0015578695920778788,
           -0.0060469211753341,
           0.004770070226573259,
           0.01852240346166489,
           0.01920556918604198
          ],
          [
           0.042615814391152244,
           0.01342630533845496,
           0.008285230792151531,
           -0.0028208301934977966,
           -0.0056510334845655385,
           -0.0020922136582509432,
           -0.0001732098957176575,
           0.0032719438031647203,
           -0.0003912452337737735,
           0.0059558558046732095,
           0.010453848717156627,
           0.0005895566097338895,
           -0.003258218474161377,
           0.005708380880130943,
           0.00252728296704968,
           0.0005889270226314832,
           0.005525123824911531,
           0.005653194902937026,
           0.00011437266184785814,
           0.0031824646201498216,
           -0.005014114363449293,
           -0.007202147056517888,
           0.0006667508826460863,
           0.003961609235790979,
           0.0001986930511585105,
           -0.0023091944683135326,
           -0.002907420327785006,
           -0.004456192005498795,
           -0.003573063774711257,
           0.013951573909867305,
           0.015725676204680406,
           0.023606175366160415
          ]
         ]
        }
       ],
       "layout": {
        "autosize": true,
        "coloraxis": {
         "colorscale": [
          [
           0,
           "#0d0887"
          ],
          [
           0.1111111111111111,
           "#46039f"
          ],
          [
           0.2222222222222222,
           "#7201a8"
          ],
          [
           0.3333333333333333,
           "#9c179e"
          ],
          [
           0.4444444444444444,
           "#bd3786"
          ],
          [
           0.5555555555555556,
           "#d8576b"
          ],
          [
           0.6666666666666666,
           "#ed7953"
          ],
          [
           0.7777777777777778,
           "#fb9f3a"
          ],
          [
           0.8888888888888888,
           "#fdca26"
          ],
          [
           1,
           "#f0f921"
          ]
         ]
        },
        "margin": {
         "t": 60
        },
        "template": {
         "data": {
          "bar": [
           {
            "error_x": {
             "color": "#2a3f5f"
            },
            "error_y": {
             "color": "#2a3f5f"
            },
            "marker": {
             "line": {
              "color": "#E5ECF6",
              "width": 0.5
             },
             "pattern": {
              "fillmode": "overlay",
              "size": 10,
              "solidity": 0.2
             }
            },
            "type": "bar"
           }
          ],
          "barpolar": [
           {
            "marker": {
             "line": {
              "color": "#E5ECF6",
              "width": 0.5
             },
             "pattern": {
              "fillmode": "overlay",
              "size": 10,
              "solidity": 0.2
             }
            },
            "type": "barpolar"
           }
          ],
          "carpet": [
           {
            "aaxis": {
             "endlinecolor": "#2a3f5f",
             "gridcolor": "white",
             "linecolor": "white",
             "minorgridcolor": "white",
             "startlinecolor": "#2a3f5f"
            },
            "baxis": {
             "endlinecolor": "#2a3f5f",
             "gridcolor": "white",
             "linecolor": "white",
             "minorgridcolor": "white",
             "startlinecolor": "#2a3f5f"
            },
            "type": "carpet"
           }
          ],
          "choropleth": [
           {
            "colorbar": {
             "outlinewidth": 0,
             "ticks": ""
            },
            "type": "choropleth"
           }
          ],
          "contour": [
           {
            "colorbar": {
             "outlinewidth": 0,
             "ticks": ""
            },
            "colorscale": [
             [
              0,
              "#0d0887"
             ],
             [
              0.1111111111111111,
              "#46039f"
             ],
             [
              0.2222222222222222,
              "#7201a8"
             ],
             [
              0.3333333333333333,
              "#9c179e"
             ],
             [
              0.4444444444444444,
              "#bd3786"
             ],
             [
              0.5555555555555556,
              "#d8576b"
             ],
             [
              0.6666666666666666,
              "#ed7953"
             ],
             [
              0.7777777777777778,
              "#fb9f3a"
             ],
             [
              0.8888888888888888,
              "#fdca26"
             ],
             [
              1,
              "#f0f921"
             ]
            ],
            "type": "contour"
           }
          ],
          "contourcarpet": [
           {
            "colorbar": {
             "outlinewidth": 0,
             "ticks": ""
            },
            "type": "contourcarpet"
           }
          ],
          "heatmap": [
           {
            "colorbar": {
             "outlinewidth": 0,
             "ticks": ""
            },
            "colorscale": [
             [
              0,
              "#0d0887"
             ],
             [
              0.1111111111111111,
              "#46039f"
             ],
             [
              0.2222222222222222,
              "#7201a8"
             ],
             [
              0.3333333333333333,
              "#9c179e"
             ],
             [
              0.4444444444444444,
              "#bd3786"
             ],
             [
              0.5555555555555556,
              "#d8576b"
             ],
             [
              0.6666666666666666,
              "#ed7953"
             ],
             [
              0.7777777777777778,
              "#fb9f3a"
             ],
             [
              0.8888888888888888,
              "#fdca26"
             ],
             [
              1,
              "#f0f921"
             ]
            ],
            "type": "heatmap"
           }
          ],
          "heatmapgl": [
           {
            "colorbar": {
             "outlinewidth": 0,
             "ticks": ""
            },
            "colorscale": [
             [
              0,
              "#0d0887"
             ],
             [
              0.1111111111111111,
              "#46039f"
             ],
             [
              0.2222222222222222,
              "#7201a8"
             ],
             [
              0.3333333333333333,
              "#9c179e"
             ],
             [
              0.4444444444444444,
              "#bd3786"
             ],
             [
              0.5555555555555556,
              "#d8576b"
             ],
             [
              0.6666666666666666,
              "#ed7953"
             ],
             [
              0.7777777777777778,
              "#fb9f3a"
             ],
             [
              0.8888888888888888,
              "#fdca26"
             ],
             [
              1,
              "#f0f921"
             ]
            ],
            "type": "heatmapgl"
           }
          ],
          "histogram": [
           {
            "marker": {
             "pattern": {
              "fillmode": "overlay",
              "size": 10,
              "solidity": 0.2
             }
            },
            "type": "histogram"
           }
          ],
          "histogram2d": [
           {
            "colorbar": {
             "outlinewidth": 0,
             "ticks": ""
            },
            "colorscale": [
             [
              0,
              "#0d0887"
             ],
             [
              0.1111111111111111,
              "#46039f"
             ],
             [
              0.2222222222222222,
              "#7201a8"
             ],
             [
              0.3333333333333333,
              "#9c179e"
             ],
             [
              0.4444444444444444,
              "#bd3786"
             ],
             [
              0.5555555555555556,
              "#d8576b"
             ],
             [
              0.6666666666666666,
              "#ed7953"
             ],
             [
              0.7777777777777778,
              "#fb9f3a"
             ],
             [
              0.8888888888888888,
              "#fdca26"
             ],
             [
              1,
              "#f0f921"
             ]
            ],
            "type": "histogram2d"
           }
          ],
          "histogram2dcontour": [
           {
            "colorbar": {
             "outlinewidth": 0,
             "ticks": ""
            },
            "colorscale": [
             [
              0,
              "#0d0887"
             ],
             [
              0.1111111111111111,
              "#46039f"
             ],
             [
              0.2222222222222222,
              "#7201a8"
             ],
             [
              0.3333333333333333,
              "#9c179e"
             ],
             [
              0.4444444444444444,
              "#bd3786"
             ],
             [
              0.5555555555555556,
              "#d8576b"
             ],
             [
              0.6666666666666666,
              "#ed7953"
             ],
             [
              0.7777777777777778,
              "#fb9f3a"
             ],
             [
              0.8888888888888888,
              "#fdca26"
             ],
             [
              1,
              "#f0f921"
             ]
            ],
            "type": "histogram2dcontour"
           }
          ],
          "mesh3d": [
           {
            "colorbar": {
             "outlinewidth": 0,
             "ticks": ""
            },
            "type": "mesh3d"
           }
          ],
          "parcoords": [
           {
            "line": {
             "colorbar": {
              "outlinewidth": 0,
              "ticks": ""
             }
            },
            "type": "parcoords"
           }
          ],
          "pie": [
           {
            "automargin": true,
            "type": "pie"
           }
          ],
          "scatter": [
           {
            "fillpattern": {
             "fillmode": "overlay",
             "size": 10,
             "solidity": 0.2
            },
            "type": "scatter"
           }
          ],
          "scatter3d": [
           {
            "line": {
             "colorbar": {
              "outlinewidth": 0,
              "ticks": ""
             }
            },
            "marker": {
             "colorbar": {
              "outlinewidth": 0,
              "ticks": ""
             }
            },
            "type": "scatter3d"
           }
          ],
          "scattercarpet": [
           {
            "marker": {
             "colorbar": {
              "outlinewidth": 0,
              "ticks": ""
             }
            },
            "type": "scattercarpet"
           }
          ],
          "scattergeo": [
           {
            "marker": {
             "colorbar": {
              "outlinewidth": 0,
              "ticks": ""
             }
            },
            "type": "scattergeo"
           }
          ],
          "scattergl": [
           {
            "marker": {
             "colorbar": {
              "outlinewidth": 0,
              "ticks": ""
             }
            },
            "type": "scattergl"
           }
          ],
          "scattermapbox": [
           {
            "marker": {
             "colorbar": {
              "outlinewidth": 0,
              "ticks": ""
             }
            },
            "type": "scattermapbox"
           }
          ],
          "scatterpolar": [
           {
            "marker": {
             "colorbar": {
              "outlinewidth": 0,
              "ticks": ""
             }
            },
            "type": "scatterpolar"
           }
          ],
          "scatterpolargl": [
           {
            "marker": {
             "colorbar": {
              "outlinewidth": 0,
              "ticks": ""
             }
            },
            "type": "scatterpolargl"
           }
          ],
          "scatterternary": [
           {
            "marker": {
             "colorbar": {
              "outlinewidth": 0,
              "ticks": ""
             }
            },
            "type": "scatterternary"
           }
          ],
          "surface": [
           {
            "colorbar": {
             "outlinewidth": 0,
             "ticks": ""
            },
            "colorscale": [
             [
              0,
              "#0d0887"
             ],
             [
              0.1111111111111111,
              "#46039f"
             ],
             [
              0.2222222222222222,
              "#7201a8"
             ],
             [
              0.3333333333333333,
              "#9c179e"
             ],
             [
              0.4444444444444444,
              "#bd3786"
             ],
             [
              0.5555555555555556,
              "#d8576b"
             ],
             [
              0.6666666666666666,
              "#ed7953"
             ],
             [
              0.7777777777777778,
              "#fb9f3a"
             ],
             [
              0.8888888888888888,
              "#fdca26"
             ],
             [
              1,
              "#f0f921"
             ]
            ],
            "type": "surface"
           }
          ],
          "table": [
           {
            "cells": {
             "fill": {
              "color": "#EBF0F8"
             },
             "line": {
              "color": "white"
             }
            },
            "header": {
             "fill": {
              "color": "#C8D4E3"
             },
             "line": {
              "color": "white"
             }
            },
            "type": "table"
           }
          ]
         },
         "layout": {
          "annotationdefaults": {
           "arrowcolor": "#2a3f5f",
           "arrowhead": 0,
           "arrowwidth": 1
          },
          "autotypenumbers": "strict",
          "coloraxis": {
           "colorbar": {
            "outlinewidth": 0,
            "ticks": ""
           }
          },
          "colorscale": {
           "diverging": [
            [
             0,
             "#8e0152"
            ],
            [
             0.1,
             "#c51b7d"
            ],
            [
             0.2,
             "#de77ae"
            ],
            [
             0.3,
             "#f1b6da"
            ],
            [
             0.4,
             "#fde0ef"
            ],
            [
             0.5,
             "#f7f7f7"
            ],
            [
             0.6,
             "#e6f5d0"
            ],
            [
             0.7,
             "#b8e186"
            ],
            [
             0.8,
             "#7fbc41"
            ],
            [
             0.9,
             "#4d9221"
            ],
            [
             1,
             "#276419"
            ]
           ],
           "sequential": [
            [
             0,
             "#0d0887"
            ],
            [
             0.1111111111111111,
             "#46039f"
            ],
            [
             0.2222222222222222,
             "#7201a8"
            ],
            [
             0.3333333333333333,
             "#9c179e"
            ],
            [
             0.4444444444444444,
             "#bd3786"
            ],
            [
             0.5555555555555556,
             "#d8576b"
            ],
            [
             0.6666666666666666,
             "#ed7953"
            ],
            [
             0.7777777777777778,
             "#fb9f3a"
            ],
            [
             0.8888888888888888,
             "#fdca26"
            ],
            [
             1,
             "#f0f921"
            ]
           ],
           "sequentialminus": [
            [
             0,
             "#0d0887"
            ],
            [
             0.1111111111111111,
             "#46039f"
            ],
            [
             0.2222222222222222,
             "#7201a8"
            ],
            [
             0.3333333333333333,
             "#9c179e"
            ],
            [
             0.4444444444444444,
             "#bd3786"
            ],
            [
             0.5555555555555556,
             "#d8576b"
            ],
            [
             0.6666666666666666,
             "#ed7953"
            ],
            [
             0.7777777777777778,
             "#fb9f3a"
            ],
            [
             0.8888888888888888,
             "#fdca26"
            ],
            [
             1,
             "#f0f921"
            ]
           ]
          },
          "colorway": [
           "#636efa",
           "#EF553B",
           "#00cc96",
           "#ab63fa",
           "#FFA15A",
           "#19d3f3",
           "#FF6692",
           "#B6E880",
           "#FF97FF",
           "#FECB52"
          ],
          "font": {
           "color": "#2a3f5f"
          },
          "geo": {
           "bgcolor": "white",
           "lakecolor": "white",
           "landcolor": "#E5ECF6",
           "showlakes": true,
           "showland": true,
           "subunitcolor": "white"
          },
          "hoverlabel": {
           "align": "left"
          },
          "hovermode": "closest",
          "mapbox": {
           "style": "light"
          },
          "paper_bgcolor": "white",
          "plot_bgcolor": "#E5ECF6",
          "polar": {
           "angularaxis": {
            "gridcolor": "white",
            "linecolor": "white",
            "ticks": ""
           },
           "bgcolor": "#E5ECF6",
           "radialaxis": {
            "gridcolor": "white",
            "linecolor": "white",
            "ticks": ""
           }
          },
          "scene": {
           "xaxis": {
            "backgroundcolor": "#E5ECF6",
            "gridcolor": "white",
            "gridwidth": 2,
            "linecolor": "white",
            "showbackground": true,
            "ticks": "",
            "zerolinecolor": "white"
           },
           "yaxis": {
            "backgroundcolor": "#E5ECF6",
            "gridcolor": "white",
            "gridwidth": 2,
            "linecolor": "white",
            "showbackground": true,
            "ticks": "",
            "zerolinecolor": "white"
           },
           "zaxis": {
            "backgroundcolor": "#E5ECF6",
            "gridcolor": "white",
            "gridwidth": 2,
            "linecolor": "white",
            "showbackground": true,
            "ticks": "",
            "zerolinecolor": "white"
           }
          },
          "shapedefaults": {
           "line": {
            "color": "#2a3f5f"
           }
          },
          "ternary": {
           "aaxis": {
            "gridcolor": "white",
            "linecolor": "white",
            "ticks": ""
           },
           "baxis": {
            "gridcolor": "white",
            "linecolor": "white",
            "ticks": ""
           },
           "bgcolor": "#E5ECF6",
           "caxis": {
            "gridcolor": "white",
            "linecolor": "white",
            "ticks": ""
           }
          },
          "title": {
           "x": 0.05
          },
          "xaxis": {
           "automargin": true,
           "gridcolor": "white",
           "linecolor": "white",
           "ticks": "",
           "title": {
            "standoff": 15
           },
           "zerolinecolor": "white",
           "zerolinewidth": 2
          },
          "yaxis": {
           "automargin": true,
           "gridcolor": "white",
           "linecolor": "white",
           "ticks": "",
           "title": {
            "standoff": 15
           },
           "zerolinecolor": "white",
           "zerolinewidth": 2
          }
         }
        },
        "xaxis": {
         "anchor": "y",
         "autorange": true,
         "constrain": "domain",
         "domain": [
          0.3653610771113831,
          0.6346389228886169
         ],
         "range": [
          -0.5,
          31.5
         ],
         "scaleanchor": "y",
         "side": "top"
        },
        "yaxis": {
         "anchor": "x",
         "autorange": true,
         "constrain": "domain",
         "domain": [
          0,
          1
         ],
         "range": [
          31.5,
          -0.5
         ]
        }
       }
      },
      "image/png": "[encoded data removed]",
      "text/html": [
       "<div>                            <div id=\"80e312e2-012e-4e11-8649-4079d79bf2cb\" class=\"plotly-graph-div\" style=\"height:525px; width:100%;\"></div>            <script type=\"text/javascript\">                require([\"plotly\"], function(Plotly) {                    window.PLOTLYENV=window.PLOTLYENV || {};                                    if (document.getElementById(\"80e312e2-012e-4e11-8649-4079d79bf2cb\")) {                    Plotly.newPlot(                        \"80e312e2-012e-4e11-8649-4079d79bf2cb\",                        [{\"coloraxis\":\"coloraxis\",\"name\":\"0\",\"z\":[[0.042168106530669845,0.03266529560174412,0.02610512338711727,0.011922830877217544,0.0047840837291323055,0.010808626911778717,-0.001556062339432631,-0.0007555010750354598,0.0073902300058787,0.005126951925230142,-0.0019033146558984232,-0.0021293512295237943,0.008558424381415916,0.0014799225538088651,0.0035561653305259083,0.0073358764419791285,0.012478802735449492,0.011117450993151057,0.004529415953680611,0.011200895241540441,0.007800738519195542,0.013070095520828525,0.012853839244819141,0.02382202480077193,0.019019532091546113,0.01296635994286305,0.0076712779578149625,0.002851307704130406,0.004712288243946615,0.01366436189972445,0.024366287636392887,0.029320850456831776],[0.03377634715623679,0.01986993152372691,0.01632827955598239,0.010185299822334274,0.009537377791522757,0.008591065953898075,-0.002534621976911243,-0.0005818465516114445,-0.009151106337663108,-0.0024532575051584155,-0.004756642341077285,-0.004135906745812481,0.007199206214083964,0.0046502833315618455,0.01442048718654976,0.0061939911068540745,0.002157326288313709,0.008362465127252567,0.010304584874293731,0.009682745046940208,0.005554720458276493,0.010834018321735927,0.007594707271204481,0.014004487500885118,0.008734574717623688,0.005502622916771643,-0.0026297592206645784,-0.014509010680859151,-0.014619936691266253,-0.002877983372215542,0.007464010661068682,0.006723303518046034],[0.025049236906813762,0.008595000547739273,0.010263116847461628,0.008965346152063288,0.008614527739909563,0.006662810081811589,-0.0002693517136489377,-0.001799966880844639,-0.013116339716908669,-0.009956844543301823,0.0002489202473252037,0.0067417563494462235,0.010837637136170013,0.006320702212566429,0.012049620055321343,-0.003606809601339725,-0.007333476942617239,-0.007268782813106388,0.004085271252446645,0.008295148355092244,0.007353427755509732,0.001155341941990005,0.004466894572679761,0.01644105345463804,0.008882230617981466,0.004868395212807215,-0.007150621990579574,-0.009499378608481667,-0.006734558024244524,-0.004066348166467572,0.00445456986039724,-0.0014854048780966894],[0.016027658116277176,0.0013936391094956588,0.005401122091067664,0.009015020713725973,-0.004348642765808088,-0.010564087467851063,-0.007939139556038553,-0.006749953359682994,-0.0030343100099482247,-0.001712243425770491,0.004729619677185748,0.0015387052263533556,-0.00551402092034085,-0.0023000660468207416,0.006525794121102961,-0.0031010607351434575,-0.00554774050398271,-0.016865828382299317,-0.005797053648734673,-0.008198392858513318,-0.005773726999046012,-0.005567034850574295,0.0008654733456703592,0.007660686419209524,0.014798329767042063,0.008198418582163162,-0.001345525624765057,0.0045441062057010205,-0.002862422334135165,-0.011453973993976449,0.0005643311376151863,0.001984114444358086],[0.008361273341730651,0.005336034782055775,0.008018936256490488,0.009681492644297894,-0.0042325915066576784,-0.003193459331734088,-0.00544047299798206,-0.010441855419371258,-0.005404882516914995,-0.0035117630919677986,-0.0007300251918925828,0.0021321048057611255,5.383972335762993e-06,-0.002161930026735657,0.005248297279906793,0.005612251221871844,-0.0021398967889207725,-0.00570622927909252,0.004742046361893248,0.0028749195017069716,0.001791751308380461,-0.006278630984035825,-0.00723779566555111,-0.012038934040693821,0.0015396070820085043,0.0004662997658000756,-0.0018117323785989054,-0.0019329846537453445,-0.006940717596738807,-0.010757801024631568,-0.0028632654945985707,0.004153029460580675],[0.010095409736961889,0.009090141252283176,0.0058596592726362865,0.006698196635748775,0.0003167710079443558,-0.00028972984045124567,-0.007656379908279326,-0.013977785806943461,-0.017656382392226937,-0.01290156509844725,0.0004356617590659849,0.007486406579296235,-0.003308235764731598,-0.0042978877386586605,0.00235232365543576,-9.368694092150554e-05,-0.0003274982535404347,-0.0025822025728039866,0.0042712824492006024,0.007833334609054703,0.009412580596986,-8.077462021016228e-05,-0.0018384603808975408,0.002915795218979354,0.0009011265096043184,0.0024637783287240634,0.003601747458104407,-0.0023029367774351933,-0.001987224626230234,-0.001981607917734236,-0.0027697224005195915,-0.001599893552973776],[0.015519629220857319,0.002748292089202818,-0.004043876876862616,-0.0031066025932858583,-0.0008731451337402198,-0.0028718399244739403,-0.007643285954367304,-0.0070056291430050256,-0.005220303402878388,-0.004245702306740916,0.006579132237612699,0.001938938243525783,-0.01435267531987892,-0.0019660948353095024,0.006922953585594349,0.004994302559150927,0.012387331689372246,0.003388325837262327,-0.00499309476522801,-0.0015414300220767856,0.005401832558170265,0.0028337682155591187,-0.0071721218480098065,0.000476481107682219,0.008640290309047047,0.00841274130881545,0.004694576696421422,-0.004306468004413782,-0.002530447760641629,-0.0021382269131616097,-0.006894271528035695,-0.005231433131125582],[0.01673870160689493,0.0056554238311440665,-0.0032811945034801706,-0.006317695516203709,-0.0019829828534469016,-0.0034109217450755736,-0.00430511317356742,0.008035229641678111,0.012635315435746065,0.010840515707333635,0.021970411787910298,0.012967589394485233,-0.01015574757962609,0.0007410925882495785,0.010554900492273794,0.004175869818275694,0.00920901922424676,0.0031787599185348833,-0.00175701598562779,0.001919860428990267,0.0033198482654898933,0.005541796453832153,0.0033816215105116794,0.004900650904026818,-0.0030569657044584313,-0.0009616218565929611,0.00022553495394574987,-0.0040243578494402405,-0.0051920015174836,-0.00015140094333288478,-0.012465015326817245,-0.006264334743367984],[-0.003599333726835541,-0.01023420135841479,-0.009500508086739766,-0.012148745302677344,-0.0135182674939234,0.0019810159941068524,-0.0053477686995272574,0.012806132850331225,0.0021649563534072566,0.003033193118196065,0.0015709293243001009,0.002296773676654067,-0.004297714918837779,0.011187693771158767,0.013202182303110295,0.006821509643452268,-0.001005629744341712,0.010080117338443864,0.004065865966104717,-0.006749537256597794,-0.00743378140343434,-0.004164972071452884,0.0034501147448821453,0.01324831354483058,-0.006251819015735713,0.0002553808941431208,-0.016066073642994377,-0.0005786407911718563,-0.003106825306143435,-0.008983403112859008,-0.0070699812063581054,-0.011128145946112996],[0.0026446472173429878,0.0045644323893449116,-0.0014223566087389712,-0.006111657519796145,0.004679315213567876,0.01459510379161034,-0.0003434304231932398,-0.0007125227551945485,-0.005001923888338274,0.00579322065073206,0.011196071889438115,0.015799178648557094,0.005421680216080452,0.004461727928080875,0.008178207044817445,0.0002756006573431353,0.005419802011940459,0.012846310749564193,-0.007383553959275477,0.0003992980474439092,-0.0006182351669354475,-0.006586696829851514,-0.007485918626510896,-0.00886328605375073,-0.00808996330911371,0.0030976596216970883,0.0036414827240602793,0.005607729264451843,-0.010664106287647815,-0.003787649304177117,0.006597911778300157,-0.0030873778093638386],[-0.005275438648913112,0.00027208635033450896,0.0024500015528831818,0.005872234364176258,0.017534574758909603,0.012754546858822212,0.012843233756689363,0.007165161135821865,-0.001214261129320649,0.0029207738116511345,0.006295022204877233,0.010459665700901899,0.001277982335890992,0.0022924619880977702,0.013660288058917329,0.010125721138502491,0.01620440227730445,0.01260170263299034,-0.00024016533996841982,0.017464284398025193,0.01154709510764271,-0.0031496829677480354,0.005449514035335141,0.0025581599056416736,-0.011311107638219818,-0.0006874656048390676,0.002201460668822141,0.010710457659230744,-0.007366258566045894,-0.0034841968483753697,0.005645774772297898,0.0010339440490028686],[0.0002089286411918541,-0.0026364932600588154,0.003415076039884966,0.005829984869166896,0.010551503240317695,0.005101822746576688,0.013326743925037101,0.005862613951648777,0.004919288276742694,0.01123511011034897,0.005026412711036953,0.014068830075555754,0.011892884578403718,0.010299916631663257,0.012443575393044866,0.010241417726158868,0.0009664396521909142,0.006296369832902994,0.0033344157959785447,0.014005236181874901,0.005362282579714997,0.0010973510575625726,0.014304610620499798,0.010753471285888123,-0.00741463026549918,-0.007552080809885862,-0.009075962802009096,0.0006229229487184228,-0.0012566433461016827,-0.0023540894523158286,-0.009307162113065082,3.66852744229126e-05],[0.004715568800856358,-0.004622159363927063,0.0006446611072333019,-0.009029378527296288,-0.009479174060212293,-0.003221959256418258,0.00525456315177551,-0.0020721309508816227,0.0006306759457488721,0.00837017107350036,0.010737560239008358,0.015370193483550862,0.015717084541510794,0.01987345629158045,0.014390729003405465,0.005768214823712482,0.00609340239231583,0.012494605941353387,0.005789042190102262,-0.0005823992769067217,0.0015227425236584123,0.0032681512850641905,0.010512795816529839,0.015744589030937117,0.011400420481688123,0.007482879016102866,0.0073939049259401845,0.013259359341014949,0.011885764741830377,0.0014932386238680154,-0.016027044808263623,0.003789813939586727],[-0.007243100336970696,-0.016885415109220925,-0.004634161204486933,-0.006124221746549273,-0.002058083054106464,0.014435912416811034,0.004790545933633361,-0.003546970002122574,-4.281328534358714e-05,0.003648041550160464,-0.0005300197791890853,0.0027807474025320802,0.0023639475731025506,0.00953193051324719,0.007541375124456609,0.007131471298455576,0.007531997678238827,0.01545186700171195,0.006412136850599952,-0.008871473721563565,0.008735816254337494,-0.0021553238557095746,-0.004045168291062981,0.0018895705140772362,0.01527651188135356,0.013179774769491198,0.00979080164908937,0.01422543647117191,0.010348870781693026,0.00847079249260329,-0.0024426476278874417,0.0015498360782247472],[-0.018609644735930072,-0.024996246776382562,-0.004106086871287481,-0.009037805566112715,-0.009601858998313877,0.0062296229815344386,0.0017259994205790202,0.007813521308876609,-0.004711975524386229,0.0041616787715290935,0.0028626901228687254,0.008844585227706007,0.0031361003188825486,0.009087147513858406,-0.004730186916650621,0.0038986544896077815,0.013100974931733615,-0.0015701015482497789,0.002122773410859469,0.007648209946588834,0.015169297937976191,0.00916024328405086,0.006700431110584707,-0.002465194486292894,0.0038799456602795846,-0.0071276728391330155,-0.0030737263987829764,0.004309753181393813,0.004770371814663418,0.0024416212119200173,0.0031931970749150464,-0.003139094651393303],[-0.017118939076609323,-0.02346031293180844,-0.0036564757575322125,-0.005471114950622224,-0.004668563978916528,0.008554393298686062,-0.003163708366204536,0.006204724375627802,-0.001989738817888685,0.012730895458760804,0.0009812552473889933,-0.00263450018730647,0.0069002831418425925,0.013593902568323882,-0.010743058994860374,-0.004911312878099589,0.016476197331152805,0.009367764936104927,0.018372205744665155,0.019470889322437682,-0.0017455026552067345,0.005513609388206894,0.007695297950130294,0.005412920221782596,0.00706629821461884,-0.0034327093434599397,0.00044656715555572036,0.00434918041234416,0.005830322430812457,0.002916156501013709,0.007753168196016925,0.0011554976835194699],[-0.006749516439342443,-0.010606270232555608,-0.013288551410841376,-0.0062827179865599945,-0.012502661655119006,-0.0012733877678342094,-0.004241856169954421,0.00027528701031507316,-0.0027317141051067815,0.011455787384488974,-0.008160206750246578,-0.0025906602554279803,-0.01178686163696136,-0.0020505530940295217,-0.006887452286670376,-0.011144489175649598,0.012701571396823659,0.006492953944269731,0.004791270889792534,0.00020826854353852444,0.0020331056183404404,-0.007127136091627524,-0.005799777820186348,0.016865849370834667,0.022069193913391162,0.010331898523042867,0.002585404427076219,0.004938648482326896,-0.003483760791614803,-0.015624294242801057,-0.01893088701498425,-0.013436981031536007],[-0.0025486595466649126,-0.019080530425356863,-0.01098844001220517,-0.0021679402121606065,-0.008201551627065784,-0.005467986306859471,0.0025295413052062433,0.0192899208684373,-0.001217986030373264,0.0026094516470544097,-0.004089746567653705,0.00033159343929905236,-0.0044755330166626,-0.0004309612512084761,-0.001844404263113059,-0.0041467099435590436,-0.008690111386259868,-0.005642191335934176,-0.0067141163210711835,0.0008353999881507134,0.006195494189721485,0.0026200494697966297,0.0012665288242582383,0.00461181508542087,-0.0026142367054179114,-0.0012552827688866238,-0.005905362904425951,-0.005810906985814991,-0.008773987667451718,-0.008046409993692345,-0.011645864200709887,-0.019741159211505592],[0.00327796240879907,-0.014607406530423183,-0.004456726245383576,-0.0009207208107630656,-0.01249069002670078,-0.015011978772695164,-0.0007978570281218483,0.016830793172007426,-0.0001183774026594986,0.010171482067685521,0.002325229059849651,0.010141426790511105,0.007993001995581412,-0.0002476683754629113,-0.002658345976451346,-0.003994829334150943,-0.015205372722647732,-0.005765348768021157,-0.007014970774186294,-0.008759446527973325,-0.005446653143610909,-0.0015398616079949185,0.0016056347606712258,0.005160726805178564,-0.008509331176770316,0.0005946605271275215,0.004050222966263784,-0.011546275588162612,-0.020353023037229842,-0.014066116752852376,-0.01693357771976272,-0.013096753831484578],[0.012300404279739188,-0.009742449485730305,-0.015326162874783587,-0.0039032749437473992,-0.0002626726429108233,-0.005218727284125394,0.0013377680441257708,0.0021540861871232144,0.010059172477402152,0.01975037184264585,0.007036948624869024,0.007164877888624975,0.0005578205317662703,0.0011925831871385701,0.006092778965413104,0.01076359777853987,-0.007173108595338963,-0.006380665930785558,-0.007420457074694806,-0.0007482295653151664,-0.0012442617076281592,-0.0036730848333395823,-0.005203818454523833,-0.0038145897609255745,0.001634191592313079,0.0025042693912999355,0.006060704279926583,-0.001982073605470459,-0.01254086616421795,-0.014575363241719682,-0.02227277931954862,-0.017491657776870694],[-0.007004277336812604,-0.021098776775640326,-0.01106390038147587,-0.008795667877334755,-0.0005508335882811361,0.006163505456034697,0.010853269346041307,0.009043020671052518,0.0020304388011943633,0.006514818458747049,-0.004036669641440513,0.0010269445693063856,0.002141717250118773,0.0034852649147325354,-0.0010680623690115893,0.001535281417029374,0.012115694521467778,0.002180725513649083,-0.008971164708725724,-0.010077651856678294,0.011630866451665662,0.009211695658928834,-0.0017982519306913314,-0.0038276339539918703,-0.006960324233988633,-0.008721585676852585,-0.008126181223905774,0.00035115712842799534,-0.006412572603879805,-0.015136427024137948,-0.015401756470516514,-0.016736795495168245],[-0.00572548341454704,-0.023582127989646408,-0.004674104219827999,-0.01589662720710968,-0.0165472754479724,-0.008398041402715044,0.000743626731859498,0.0016890184732977604,0.007295247459678731,0.018536583445314458,0.012888251899246028,0.008056136841166881,0.00450389695358336,0.001915794042781766,-0.0015215581552182136,0.008981205765274664,0.022308635055103655,0.006571360031192206,0.0018870681456767643,0.004315203277374681,0.008130592677524676,0.0017355557511587556,0.012598516604890243,0.019032922897898603,0.004768661828485995,0.013678709763318817,0.01516070513884003,-0.004713583650654131,-0.01625741722231507,-0.013343425216705871,-0.0022120601882576413,-0.007797533870490539],[0.01021237464648447,-0.019747752974987598,-0.00392358748499638,0.002398972852388416,-0.0012209513475349536,-0.004631154002508524,-0.0007762677177958302,0.004944625332119349,-0.00022283478436169405,0.004960204233151215,0.008464418919234766,0.003762948098063945,-0.0006452542777755628,0.002327260759259652,-0.0008384596697400966,-0.004596863452424979,0.0010227709756524303,0.0030418277728185383,0.012079321730289411,0.013925385242575514,0.0007714004411131058,-0.0010591156034324802,0.015443667282551584,0.011687886458021508,0.008617160534668225,0.012686239577489093,0.017820985203818914,-0.0025398984114229496,-0.012121846998860418,-0.009879093878883147,-0.00054531620670149,0.0021906569638416164],[0.0024477414772579396,-0.017267270909974,-0.008951649395982956,0.0037577612649585634,0.006435923265063567,0.007855050966051599,0.008794279411643704,0.01165018893418684,0.0007438001172746771,-0.00020323207868189322,0.0019524505560745682,0.0017168436831646787,-0.004404463414462857,0.0060139439880857355,0.013310320352179973,0.017534239172565386,0.0033221286223894977,0.022267165957337715,0.02228436804504062,0.012678027966362925,0.003645170494333876,0.00861731672481018,0.004091112244019344,0.0015217380183253602,0.005917906149641778,-0.002369682048884073,-3.4137898646273953e-05,-0.00916143662260485,0.0006471941489118934,-0.011166734882822394,-0.016651837322497986,-0.012309434311367924],[0.006928104501625889,-0.012475995075552908,-0.007457989140028593,-0.0017263466754202234,-0.0032279490792001377,0.0004405901398011657,0.0032098381314640827,0.006288329186154995,0.0044861725194346724,-0.011533969229256084,-0.01022550810450657,0.008703304963083022,-0.007958477794291558,0.012603777368053369,0.013704840210812374,0.02468207509583029,0.0038488920747727228,0.000210124782111694,0.004725305361390973,0.0025909198563477294,0.005401960719967666,0.0036654928242203025,-0.005703307804327956,0.0056066247946495555,0.004819382818372389,-0.0008858519104677403,-0.007209838327187813,-0.007935418999425185,-0.011072906712007695,-0.010172225932851064,-0.0013758184120007363,0.000877366826189853],[0.0051946589941313515,-0.01315327447883062,-0.012556607311829414,-0.014533776760589685,-0.016947084134171463,-0.01279401886366058,0.0008538467576065222,0.003538443180867594,-0.001339728296289632,-0.013180448732629014,-0.002885906331604303,0.012170176465751309,0.003629043299511447,0.006710328311009903,0.0015796964141250695,0.016181185963048034,0.005390560500680891,-0.0012126095512482562,0.0016861159194940137,0.004267608263924789,-0.0014783537307902822,-0.006355363588783252,-0.012486609757844033,-0.005375115543030515,-0.0014698806332234771,-0.0045218628083202855,-0.008563270696965651,-0.006910022083703884,-0.009102464215697225,-0.0165394154262217,-0.006910304635866817,-0.004419793497533088],[0.013920782749382512,-0.006706263554624361,-0.0002607695135146882,0.0027364269421966507,-0.00501000273696878,-0.01121550620216158,0.00042928251902194496,0.0030280245408891024,0.00015834716074888283,-0.007436475331745771,0.003748359516789504,-0.0007381796226694864,-0.006815613084515792,-0.006558989280723184,-0.004258813651504386,0.00391938671632335,0.009030162853809006,0.0035364639940278,-0.007113766122610577,-0.006620680519669685,-0.013003735071837498,-0.009595941091793327,-0.007452428168713659,-0.012612604311902729,-0.0030513410432412885,0.005393047323877562,0.0009161946813603888,0.0030426837122306226,0.004850660186491392,-0.004391198982747701,-0.00145803846922854,-0.006824996468572504],[0.02364180896517287,0.002982682751603212,0.005692249433343146,0.007151993258713849,-0.0009069648442328234,-0.0031818794773823575,-0.0018121351984116886,-0.005540621014796836,-0.001447341641801862,0.00462895745495538,0.007943264743346903,0.005485303731595402,0.01000473154809993,-0.0019946203270179955,0.003807768541406525,-0.0036083904988018123,-0.002336703310376107,0.008936456098411871,0.0025654500472555293,-0.00539758535400219,-0.006296842235730651,0.003302634210029062,0.006840161306072395,-0.007034842005546786,-0.007020564941438844,0.005312400668160525,-0.003101621677319774,-0.001888115096351965,0.008607018258620865,-0.0011287018316127003,-0.0057972308572727775,-0.015774107983540328],[0.01336032649610194,-0.006118634226886193,-0.005474119891339497,-0.008674026229618471,-0.01812929433039071,-0.010401896568493824,0.005947844819899994,0.007767671680954481,0.00013924052475197912,0.0061813576990508235,0.005472061436713008,0.00408752777441351,0.0031711782240930286,-0.013192684335329405,-0.006661931385785388,-0.005627556166194182,-0.010072843761786555,-0.002542931900501066,-0.0015762650276691934,-0.009654574773123028,-0.003993230314752212,-0.0005064054297824296,0.0021764477359014485,-0.0028313881830216137,-0.0013602152271998467,-0.0014722341149846889,-0.006469474510757635,-0.004020167618498857,0.0006145394144086834,-0.0008621127116759389,-0.003248580805182964,-0.008047888358298593],[0.00829133622679224,-0.009614672887059379,-0.006966785628690085,-0.0023130708830787694,-0.012092664020594177,-0.01807103042672575,-0.01000568397470652,0.0012275504512277498,-0.004198575813638711,0.0031476499834248934,0.0017557903858145165,0.005501241256362577,-0.002496701861834957,-0.010441826677200476,-0.008625216024864803,-0.003915398536199944,0.00674632648663121,-0.0052557050472002665,-0.011368837225888476,-0.014252247277501611,-0.011223168721992222,-0.005951089575924169,-0.005078955717306599,-0.0028726051254010835,0.013017585462539451,0.0008180494753302013,-0.009572215069257291,-0.00479757446199579,-0.007435317759635197,-0.006184384800374342,0.0024852692726478757,0.0032534330357092173],[0.029964158887548612,0.008303284183830806,0.0021247052479582327,-0.0010323955283352679,-0.010532517407130636,-0.020316921259873964,-0.017795752199434817,-0.006506141251813973,-0.005356038691879532,0.0012153802665890907,-0.002308107325708095,0.0031773203483429387,-0.002540829490954476,-0.0011817061752143134,-0.007385141277902896,-0.01134286296614879,0.0034706316816561188,0.0025840279309327983,-0.007206893565811254,-0.005186646924847303,-0.007307015312547537,0.00029707340094124285,0.000828424629001882,-0.0007884563116421323,0.0005833697832488897,0.002275986742524401,0.0003126816917420108,-0.0015578695920778788,-0.0060469211753341,0.004770070226573259,0.01852240346166489,0.01920556918604198],[0.042615814391152244,0.01342630533845496,0.008285230792151531,-0.0028208301934977966,-0.0056510334845655385,-0.0020922136582509432,-0.0001732098957176575,0.0032719438031647203,-0.0003912452337737735,0.0059558558046732095,0.010453848717156627,0.0005895566097338895,-0.003258218474161377,0.005708380880130943,0.00252728296704968,0.0005889270226314832,0.005525123824911531,0.005653194902937026,0.00011437266184785814,0.0031824646201498216,-0.005014114363449293,-0.007202147056517888,0.0006667508826460863,0.003961609235790979,0.0001986930511585105,-0.0023091944683135326,-0.002907420327785006,-0.004456192005498795,-0.003573063774711257,0.013951573909867305,0.015725676204680406,0.023606175366160415]],\"type\":\"heatmap\",\"xaxis\":\"x\",\"yaxis\":\"y\",\"hovertemplate\":\"x: %{x}<br>y: %{y}<br>color: %{z}<extra></extra>\"}],                        {\"template\":{\"data\":{\"histogram2dcontour\":[{\"type\":\"histogram2dcontour\",\"colorbar\":{\"outlinewidth\":0,\"ticks\":\"\"},\"colorscale\":[[0.0,\"#0d0887\"],[0.1111111111111111,\"#46039f\"],[0.2222222222222222,\"#7201a8\"],[0.3333333333333333,\"#9c179e\"],[0.4444444444444444,\"#bd3786\"],[0.5555555555555556,\"#d8576b\"],[0.6666666666666666,\"#ed7953\"],[0.7777777777777778,\"#fb9f3a\"],[0.8888888888888888,\"#fdca26\"],[1.0,\"#f0f921\"]]}],\"choropleth\":[{\"type\":\"choropleth\",\"colorbar\":{\"outlinewidth\":0,\"ticks\":\"\"}}],\"histogram2d\":[{\"type\":\"histogram2d\",\"colorbar\":{\"outlinewidth\":0,\"ticks\":\"\"},\"colorscale\":[[0.0,\"#0d0887\"],[0.1111111111111111,\"#46039f\"],[0.2222222222222222,\"#7201a8\"],[0.3333333333333333,\"#9c179e\"],[0.4444444444444444,\"#bd3786\"],[0.5555555555555556,\"#d8576b\"],[0.6666666666666666,\"#ed7953\"],[0.7777777777777778,\"#fb9f3a\"],[0.8888888888888888,\"#fdca26\"],[1.0,\"#f0f921\"]]}],\"heatmap\":[{\"type\":\"heatmap\",\"colorbar\":{\"outlinewidth\":0,\"ticks\":\"\"},\"colorscale\":[[0.0,\"#0d0887\"],[0.1111111111111111,\"#46039f\"],[0.2222222222222222,\"#7201a8\"],[0.3333333333333333,\"#9c179e\"],[0.4444444444444444,\"#bd3786\"],[0.5555555555555556,\"#d8576b\"],[0.6666666666666666,\"#ed7953\"],[0.7777777777777778,\"#fb9f3a\"],[0.8888888888888888,\"#fdca26\"],[1.0,\"#f0f921\"]]}],\"heatmapgl\":[{\"type\":\"heatmapgl\",\"colorbar\":{\"outlinewidth\":0,\"ticks\":\"\"},\"colorscale\":[[0.0,\"#0d0887\"],[0.1111111111111111,\"#46039f\"],[0.2222222222222222,\"#7201a8\"],[0.3333333333333333,\"#9c179e\"],[0.4444444444444444,\"#bd3786\"],[0.5555555555555556,\"#d8576b\"],[0.6666666666666666,\"#ed7953\"],[0.7777777777777778,\"#fb9f3a\"],[0.8888888888888888,\"#fdca26\"],[1.0,\"#f0f921\"]]}],\"contourcarpet\":[{\"type\":\"contourcarpet\",\"colorbar\":{\"outlinewidth\":0,\"ticks\":\"\"}}],\"contour\":[{\"type\":\"contour\",\"colorbar\":{\"outlinewidth\":0,\"ticks\":\"\"},\"colorscale\":[[0.0,\"#0d0887\"],[0.1111111111111111,\"#46039f\"],[0.2222222222222222,\"#7201a8\"],[0.3333333333333333,\"#9c179e\"],[0.4444444444444444,\"#bd3786\"],[0.5555555555555556,\"#d8576b\"],[0.6666666666666666,\"#ed7953\"],[0.7777777777777778,\"#fb9f3a\"],[0.8888888888888888,\"#fdca26\"],[1.0,\"#f0f921\"]]}],\"surface\":[{\"type\":\"surface\",\"colorbar\":{\"outlinewidth\":0,\"ticks\":\"\"},\"colorscale\":[[0.0,\"#0d0887\"],[0.1111111111111111,\"#46039f\"],[0.2222222222222222,\"#7201a8\"],[0.3333333333333333,\"#9c179e\"],[0.4444444444444444,\"#bd3786\"],[0.5555555555555556,\"#d8576b\"],[0.6666666666666666,\"#ed7953\"],[0.7777777777777778,\"#fb9f3a\"],[0.8888888888888888,\"#fdca26\"],[1.0,\"#f0f921\"]]}],\"mesh3d\":[{\"type\":\"mesh3d\",\"colorbar\":{\"outlinewidth\":0,\"ticks\":\"\"}}],\"scatter\":[{\"fillpattern\":{\"fillmode\":\"overlay\",\"size\":10,\"solidity\":0.2},\"type\":\"scatter\"}],\"parcoords\":[{\"type\":\"parcoords\",\"line\":{\"colorbar\":{\"outlinewidth\":0,\"ticks\":\"\"}}}],\"scatterpolargl\":[{\"type\":\"scatterpolargl\",\"marker\":{\"colorbar\":{\"outlinewidth\":0,\"ticks\":\"\"}}}],\"bar\":[{\"error_x\":{\"color\":\"#2a3f5f\"},\"error_y\":{\"color\":\"#2a3f5f\"},\"marker\":{\"line\":{\"color\":\"#E5ECF6\",\"width\":0.5},\"pattern\":{\"fillmode\":\"overlay\",\"size\":10,\"solidity\":0.2}},\"type\":\"bar\"}],\"scattergeo\":[{\"type\":\"scattergeo\",\"marker\":{\"colorbar\":{\"outlinewidth\":0,\"ticks\":\"\"}}}],\"scatterpolar\":[{\"type\":\"scatterpolar\",\"marker\":{\"colorbar\":{\"outlinewidth\":0,\"ticks\":\"\"}}}],\"histogram\":[{\"marker\":{\"pattern\":{\"fillmode\":\"overlay\",\"size\":10,\"solidity\":0.2}},\"type\":\"histogram\"}],\"scattergl\":[{\"type\":\"scattergl\",\"marker\":{\"colorbar\":{\"outlinewidth\":0,\"ticks\":\"\"}}}],\"scatter3d\":[{\"type\":\"scatter3d\",\"line\":{\"colorbar\":{\"outlinewidth\":0,\"ticks\":\"\"}},\"marker\":{\"colorbar\":{\"outlinewidth\":0,\"ticks\":\"\"}}}],\"scattermapbox\":[{\"type\":\"scattermapbox\",\"marker\":{\"colorbar\":{\"outlinewidth\":0,\"ticks\":\"\"}}}],\"scatterternary\":[{\"type\":\"scatterternary\",\"marker\":{\"colorbar\":{\"outlinewidth\":0,\"ticks\":\"\"}}}],\"scattercarpet\":[{\"type\":\"scattercarpet\",\"marker\":{\"colorbar\":{\"outlinewidth\":0,\"ticks\":\"\"}}}],\"carpet\":[{\"aaxis\":{\"endlinecolor\":\"#2a3f5f\",\"gridcolor\":\"white\",\"linecolor\":\"white\",\"minorgridcolor\":\"white\",\"startlinecolor\":\"#2a3f5f\"},\"baxis\":{\"endlinecolor\":\"#2a3f5f\",\"gridcolor\":\"white\",\"linecolor\":\"white\",\"minorgridcolor\":\"white\",\"startlinecolor\":\"#2a3f5f\"},\"type\":\"carpet\"}],\"table\":[{\"cells\":{\"fill\":{\"color\":\"#EBF0F8\"},\"line\":{\"color\":\"white\"}},\"header\":{\"fill\":{\"color\":\"#C8D4E3\"},\"line\":{\"color\":\"white\"}},\"type\":\"table\"}],\"barpolar\":[{\"marker\":{\"line\":{\"color\":\"#E5ECF6\",\"width\":0.5},\"pattern\":{\"fillmode\":\"overlay\",\"size\":10,\"solidity\":0.2}},\"type\":\"barpolar\"}],\"pie\":[{\"automargin\":true,\"type\":\"pie\"}]},\"layout\":{\"autotypenumbers\":\"strict\",\"colorway\":[\"#636efa\",\"#EF553B\",\"#00cc96\",\"#ab63fa\",\"#FFA15A\",\"#19d3f3\",\"#FF6692\",\"#B6E880\",\"#FF97FF\",\"#FECB52\"],\"font\":{\"color\":\"#2a3f5f\"},\"hovermode\":\"closest\",\"hoverlabel\":{\"align\":\"left\"},\"paper_bgcolor\":\"white\",\"plot_bgcolor\":\"#E5ECF6\",\"polar\":{\"bgcolor\":\"#E5ECF6\",\"angularaxis\":{\"gridcolor\":\"white\",\"linecolor\":\"white\",\"ticks\":\"\"},\"radialaxis\":{\"gridcolor\":\"white\",\"linecolor\":\"white\",\"ticks\":\"\"}},\"ternary\":{\"bgcolor\":\"#E5ECF6\",\"aaxis\":{\"gridcolor\":\"white\",\"linecolor\":\"white\",\"ticks\":\"\"},\"baxis\":{\"gridcolor\":\"white\",\"linecolor\":\"white\",\"ticks\":\"\"},\"caxis\":{\"gridcolor\":\"white\",\"linecolor\":\"white\",\"ticks\":\"\"}},\"coloraxis\":{\"colorbar\":{\"outlinewidth\":0,\"ticks\":\"\"}},\"colorscale\":{\"sequential\":[[0.0,\"#0d0887\"],[0.1111111111111111,\"#46039f\"],[0.2222222222222222,\"#7201a8\"],[0.3333333333333333,\"#9c179e\"],[0.4444444444444444,\"#bd3786\"],[0.5555555555555556,\"#d8576b\"],[0.6666666666666666,\"#ed7953\"],[0.7777777777777778,\"#fb9f3a\"],[0.8888888888888888,\"#fdca26\"],[1.0,\"#f0f921\"]],\"sequentialminus\":[[0.0,\"#0d0887\"],[0.1111111111111111,\"#46039f\"],[0.2222222222222222,\"#7201a8\"],[0.3333333333333333,\"#9c179e\"],[0.4444444444444444,\"#bd3786\"],[0.5555555555555556,\"#d8576b\"],[0.6666666666666666,\"#ed7953\"],[0.7777777777777778,\"#fb9f3a\"],[0.8888888888888888,\"#fdca26\"],[1.0,\"#f0f921\"]],\"diverging\":[[0,\"#8e0152\"],[0.1,\"#c51b7d\"],[0.2,\"#de77ae\"],[0.3,\"#f1b6da\"],[0.4,\"#fde0ef\"],[0.5,\"#f7f7f7\"],[0.6,\"#e6f5d0\"],[0.7,\"#b8e186\"],[0.8,\"#7fbc41\"],[0.9,\"#4d9221\"],[1,\"#276419\"]]},\"xaxis\":{\"gridcolor\":\"white\",\"linecolor\":\"white\",\"ticks\":\"\",\"title\":{\"standoff\":15},\"zerolinecolor\":\"white\",\"automargin\":true,\"zerolinewidth\":2},\"yaxis\":{\"gridcolor\":\"white\",\"linecolor\":\"white\",\"ticks\":\"\",\"title\":{\"standoff\":15},\"zerolinecolor\":\"white\",\"automargin\":true,\"zerolinewidth\":2},\"scene\":{\"xaxis\":{\"backgroundcolor\":\"#E5ECF6\",\"gridcolor\":\"white\",\"linecolor\":\"white\",\"showbackground\":true,\"ticks\":\"\",\"zerolinecolor\":\"white\",\"gridwidth\":2},\"yaxis\":{\"backgroundcolor\":\"#E5ECF6\",\"gridcolor\":\"white\",\"linecolor\":\"white\",\"showbackground\":true,\"ticks\":\"\",\"zerolinecolor\":\"white\",\"gridwidth\":2},\"zaxis\":{\"backgroundcolor\":\"#E5ECF6\",\"gridcolor\":\"white\",\"linecolor\":\"white\",\"showbackground\":true,\"ticks\":\"\",\"zerolinecolor\":\"white\",\"gridwidth\":2}},\"shapedefaults\":{\"line\":{\"color\":\"#2a3f5f\"}},\"annotationdefaults\":{\"arrowcolor\":\"#2a3f5f\",\"arrowhead\":0,\"arrowwidth\":1},\"geo\":{\"bgcolor\":\"white\",\"landcolor\":\"#E5ECF6\",\"subunitcolor\":\"white\",\"showland\":true,\"showlakes\":true,\"lakecolor\":\"white\"},\"title\":{\"x\":0.05},\"mapbox\":{\"style\":\"light\"}}},\"xaxis\":{\"anchor\":\"y\",\"domain\":[0.0,1.0],\"scaleanchor\":\"y\",\"constrain\":\"domain\",\"side\":\"top\"},\"yaxis\":{\"anchor\":\"x\",\"domain\":[0.0,1.0],\"autorange\":\"reversed\",\"constrain\":\"domain\"},\"coloraxis\":{\"colorscale\":[[0.0,\"#0d0887\"],[0.1111111111111111,\"#46039f\"],[0.2222222222222222,\"#7201a8\"],[0.3333333333333333,\"#9c179e\"],[0.4444444444444444,\"#bd3786\"],[0.5555555555555556,\"#d8576b\"],[0.6666666666666666,\"#ed7953\"],[0.7777777777777778,\"#fb9f3a\"],[0.8888888888888888,\"#fdca26\"],[1.0,\"#f0f921\"]]},\"margin\":{\"t\":60}},                        {\"responsive\": true}                    ).then(function(){\n",
       "                            \n",
       "var gd = document.getElementById('80e312e2-012e-4e11-8649-4079d79bf2cb');\n",
       "var x = new MutationObserver(function (mutations, observer) {{\n",
       "        var display = window.getComputedStyle(gd).display;\n",
       "        if (!display || display === 'none') {{\n",
       "            console.log([gd, 'removed!']);\n",
       "            Plotly.purge(gd);\n",
       "            observer.disconnect();\n",
       "        }}\n",
       "}});\n",
       "\n",
       "// Listen for the removal of the full notebook cells\n",
       "var notebookContainer = gd.closest('#notebook-container');\n",
       "if (notebookContainer) {{\n",
       "    x.observe(notebookContainer, {childList: true});\n",
       "}}\n",
       "\n",
       "// Listen for the clearing of the current output cell\n",
       "var outputEl = gd.closest('.output');\n",
       "if (outputEl) {{\n",
       "    x.observe(outputEl, {childList: true});\n",
       "}}\n",
       "\n",
       "                        })                };                });            </script>        </div>"
      ]
     },
     "metadata": {},
     "output_type": "display_data"
    }
   ],
   "source": [
    "resultsl2_r = np.array(resultsl2_r)\n",
    "resultsl2_r = resultsl2_r.reshape([32,32])\n",
    "\n",
    "fig_r = px.imshow(resultsl2_r)\n",
    "fig_r.update_xaxes(side=\"top\")\n",
    "fig_r.show()"
   ]
  },
  {
   "cell_type": "code",
   "execution_count": 263,
   "id": "87ee8419-c2ff-41b6-822c-0980f34b7c46",
   "metadata": {},
   "outputs": [
    {
     "data": {
      "application/vnd.plotly.v1+json": {
       "config": {
        "plotlyServerURL": "https://plot.ly"
       },
       "data": [
        {
         "coloraxis": "coloraxis",
         "hovertemplate": "x: %{x}<br>y: %{y}<br>color: %{z}<extra></extra>",
         "name": "0",
         "type": "heatmap",
         "xaxis": "x",
         "yaxis": "y",
         "z": [
          [
           0.025202056920863948,
           0.01734161944891168,
           0.013629740212131541,
           0.001746438124905789,
           -0.004942659378164506,
           0.0018035980935829342,
           -0.00838185358491743,
           -0.005995769084633695,
           0.0013687688703517323,
           -0.003110320119045865,
           -0.012023699949280368,
           -0.012298989753035153,
           -0.0027909680928234057,
           -0.01251257130025561,
           -0.01141771756163025,
           -0.010889809350812277,
           -0.01165786780243536,
           -0.011924196274321982,
           -0.015450562500557652,
           -0.00655836747278838,
           -0.00733312049771566,
           -0.0006877657471855909,
           0.0005072006693580359,
           0.01077663300644871,
           0.0074941985498630246,
           0.006509511118443151,
           0.008349129067445844,
           0.007003306643220114,
           0.007899259779438284,
           0.015304037634601309,
           0.02380807168321305,
           0.028190424654737225
          ],
          [
           0.01798223126369184,
           0.005958883362824563,
           0.0048937446219039435,
           0.00044534000048775986,
           -0.00039363654117211217,
           0.00041537014666852143,
           -0.008277535934759094,
           -0.005365846356074033,
           -0.01361585780170803,
           -0.008713104637426736,
           -0.012681362788855026,
           -0.013979985921512584,
           -0.004309948197698935,
           -0.008165337943713612,
           -0.0008555159131998419,
           -0.009020379458350956,
           -0.01983919453037172,
           -0.01248108287564122,
           -0.01011224647707438,
           -0.006991558893872907,
           -0.008958375655628237,
           -0.0021648298727725804,
           -0.003702261161679424,
           0.0027156502013079855,
           -0.0015900174160969254,
           0.0004963801882496854,
           -0.0010106548931134477,
           -0.008778518533540825,
           -0.00963335514477435,
           0.0006598696523348369,
           0.009182311213209582,
           0.007850649562280567
          ],
          [
           0.011943868190417053,
           -0.0033622849641101217,
           0.0004715755839432087,
           -0.0006996473244768521,
           0.0006285979767382688,
           -0.00048443020844433617,
           -0.004583834187876015,
           -0.0033962762530376986,
           -0.014378505000535934,
           -0.01202177963398286,
           -0.0036120257407713592,
           0.0020681035128693025,
           0.004393146215867381,
           -0.0008582387666039378,
           0.0048525917097036325,
           -0.009506920185792597,
           -0.01992528362811615,
           -0.0215924178352836,
           -0.010265893004751878,
           -0.0040360828928953305,
           -0.003581028856142482,
           -0.007977804013406186,
           -0.004581564318515038,
           0.0068290794996838525,
           0.001315534651666988,
           0.0013870735979999642,
           -0.005467541816910985,
           -0.004051107436337819,
           -0.0002480533509390489,
           0.001730102978093765,
           0.009225532708029645,
           0.0013798827183144535
          ],
          [
           0.002550573190127172,
           -0.009942443875430085,
           -0.0038441973567298593,
           0.0008302375231775357,
           -0.012659991281531356,
           -0.015378381574704137,
           -0.008919438368739626,
           -0.004476686293338229,
           0.0010411762300046705,
           0.0018428961742711723,
           0.00814955504032851,
           0.004235264305683775,
           -0.002750767282142815,
           -0.00027217449153531844,
           0.008699639857996915,
           0.0007471079065447017,
           -0.007522626200017392,
           -0.020692596819556958,
           -0.009559301673317089,
           -0.012084872249520772,
           -0.008748662543393798,
           -0.00943187014977012,
           -0.004893056669085121,
           0.0003068713171707176,
           0.00821767586990598,
           0.004871722487086825,
           -0.0013899853474682205,
           0.007420172523949042,
           0.0016794828514933924,
           -0.006072683657201615,
           0.005106176307367489,
           0.006048001430258884
          ],
          [
           -0.004487299654684654,
           -0.005710000899521093,
           -0.0015861608713655963,
           0.0023557638712571305,
           -0.009850051443578945,
           -0.004687356345307791,
           -0.0019306440370184064,
           -0.0038161504388578185,
           0.0028423520607501825,
           0.00553042227207539,
           0.007965215533587101,
           0.011065949690001877,
           0.009535597194154324,
           0.007492968108775083,
           0.012943108856878797,
           0.01297370956733237,
           0.005316329087959422,
           -0.0006761296991883687,
           0.00843337328797311,
           0.006044844080938647,
           0.003376543719357386,
           -0.0067461878543618355,
           -0.009526410379462155,
           -0.01622063536213135,
           -0.004098289071705438,
           -0.004842156567927232,
           -0.0054371028723791855,
           -0.002260410265710373,
           -0.004788086232524251,
           -0.007218441517495754,
           0.0011480438255359515,
           0.008238287470740534
          ],
          [
           -6.249397893568486e-05,
           -0.0010424440924928838,
           -0.0012340980401048366,
           0.001284749479539382,
           -0.0012147987635215283,
           0.0027367899931048222,
           -0.00089970195330553,
           -0.005678032795231275,
           -0.010696355296584952,
           -0.006754375290380825,
           0.006349280274449142,
           0.015225043109247941,
           0.004979861924796344,
           0.002588771737420565,
           0.007647054074393235,
           0.003710663926176969,
           0.0029900536065479975,
           0.0009790162843396348,
           0.008114079180631393,
           0.011237601050420619,
           0.011130894031448478,
           0.0004614667409783982,
           -0.003325320414022826,
           0.0004224500890481869,
           -0.005434115600529408,
           -0.005301124324007304,
           -0.0027082441839612254,
           -0.005418876649545216,
           -0.0009713074728240047,
           0.0012792473425043906,
           0.0017949221993162148,
           0.0032348971563908777
          ],
          [
           0.00856533134889457,
           -0.00310309855766093,
           -0.008564491307741569,
           -0.005215678015260593,
           0.00019926946955379932,
           0.0012473830467662878,
           -0.0014837110965839671,
           -0.0014370666901704198,
           -0.0025538595935865565,
           -0.004042004372147533,
           0.006963713982190068,
           0.0021228485176738505,
           -0.013969471940785062,
           -0.0015316621192887731,
           0.004616823588347318,
           0.0008601648578781123,
           0.007512169312245522,
           0.00036891356315340304,
           -0.006425923914465271,
           -0.0027610542079290236,
           0.003384180267609008,
           0.0007295568555177563,
           -0.009230075809662282,
           -0.0024439858645263035,
           0.0027732548635574874,
           0.000435538530040958,
           -0.001937749288225525,
           -0.006133984361971737,
           -2.5442939539252464e-05,
           0.0032993689179270586,
           0.0008941336918494105,
           0.002822203743568901
          ],
          [
           0.014790041424381069,
           0.003891217442088289,
           -0.005151392084326156,
           -0.008254910672642633,
           -0.0016244872912453032,
           -0.000867876745102708,
           -0.002063426036009692,
           0.007593498513600192,
           0.009386457244988107,
           0.005890425115749597,
           0.017359814662042644,
           0.008458086281302412,
           -0.014016616247129217,
           -0.003729442524838206,
           0.004574414912216601,
           -0.0022206976807320057,
           -0.0009401626865324392,
           -0.004825953559329969,
           -0.0060344030424576275,
           -0.0021530524269120052,
           0.0005760217037198501,
           0.0023882853530682304,
           0.001190550076673513,
           0.001863092503024945,
           -0.00761419512629086,
           -0.005716229107699877,
           -0.0030233026333763824,
           -0.003958854481275091,
           -0.0005773165759431019,
           0.008895639255936139,
           -0.0019717078319272338,
           0.004172204540665392
          ],
          [
           -0.0023066808245354137,
           -0.009470018586273814,
           -0.010851307574562598,
           -0.013910017199344434,
           -0.017700767182917746,
           -0.0025397659261195958,
           -0.010606454392406523,
           0.005190335796688493,
           -0.008103881744864294,
           -0.007165040786211764,
           -0.00758951515865871,
           -0.003949054398244025,
           -0.010688079443652913,
           0.005986576684911649,
           0.00823589760698103,
           0.0013259835206180504,
           -0.011147246735081422,
           0.0011242913917706376,
           -0.0016228363670098213,
           -0.010256871777104166,
           -0.009335603099182683,
           -0.004733822163577688,
           0.0020776256854504647,
           0.011624271145211721,
           -0.0064070801045219275,
           5.344131301054137e-06,
           -0.01520434392582542,
           0.0017892056075557692,
           0.003548777621459464,
           0.00013424537784451998,
           0.0024956783173741065,
           -0.0015578057234728797
          ],
          [
           0.004664623816068521,
           0.006027378267703375,
           -0.002652513501964232,
           -0.00957580201699038,
           -0.0009860507540573353,
           0.005666370772247309,
           -0.010973573660310652,
           -0.01294243801053641,
           -0.0197872904820283,
           -0.008517335931761478,
           -0.0019043821337696408,
           0.00490334410820294,
           -0.001706157619025036,
           -0.001931556342689343,
           0.0034098334613114254,
           -0.005287521465593723,
           -0.0025560043408549018,
           0.005663443475027532,
           -0.013300371361991708,
           -0.0018160552913740868,
           7.996365814842581e-05,
           -0.0055508475437723755,
           -0.005722614720305867,
           -0.00624242434955099,
           -0.004651892348341747,
           0.006017083430140249,
           0.005647871888949615,
           0.009198332097440833,
           -0.004116751539369011,
           0.004620410638540237,
           0.014456565192809533,
           0.0029449054742932265
          ],
          [
           -0.00039639840728314336,
           0.00350215435574201,
           0.0026703013196384996,
           0.003045850615671431,
           0.009597671271531468,
           0.001392438636172266,
           -0.0012483292812630387,
           -0.007852662362958668,
           -0.01661760533112077,
           -0.014756453104151215,
           -0.010856859400239014,
           -0.005897115124999585,
           -0.011731640871114835,
           -0.009215688536088265,
           0.002155935173891942,
           -0.0022888482891308785,
           0.004501036956876418,
           0.0007081015625905827,
           -0.011095297567481162,
           0.010420560254074762,
           0.00866273924275513,
           -0.004020593734720216,
           0.005479397124864228,
           0.004440795137379162,
           -0.009132631405239174,
           -0.0003509938521544814,
           0.0020059097295337153,
           0.011033384581916474,
           -0.004912668169247994,
           0.001957771028101943,
           0.010677624266278515,
           0.004835202701728342
          ],
          [
           0.008318398267928974,
           0.0038239384142576683,
           0.007218566736695687,
           0.005440699328760734,
           0.005641797785289338,
           -0.0038509425269398195,
           0.002000293566764276,
           -0.008240602681963314,
           -0.009008998178225454,
           -0.005332334479092824,
           -0.01413096209012098,
           -0.00491814672817931,
           -0.006079877445230407,
           -0.005124251756787164,
           -0.004974667913198832,
           -0.007489315753324618,
           -0.01731457506604232,
           -0.011796912110698521,
           -0.013002657079956246,
           -0.00022723892227977268,
           -0.0055500464464579,
           -0.00724642315826868,
           0.00942876187790578,
           0.006607768185893538,
           -0.013034093421533168,
           -0.014380996428263324,
           -0.016843546433861916,
           -0.005335538765314026,
           -0.0047450966494505115,
           -0.0020739193866701005,
           -0.007449486077046132,
           0.0024520305876269645
          ],
          [
           0.018020038293572505,
           0.00546998862291595,
           0.007336414666410306,
           -0.006128158446201409,
           -0.012173290064687162,
           -0.010914905953350429,
           -0.005613603292570993,
           -0.011700950723161874,
           -0.01188231250428671,
           -0.004518879916273576,
           -0.0044577683416293645,
           -0.0034718120518796368,
           -0.001855534364461148,
           0.003197463729490195,
           -0.004847529286190273,
           -0.014042014693575898,
           -0.017720787273677454,
           -0.009497199495786954,
           -0.014698785560848394,
           -0.017396510129808744,
           -0.01426026595789816,
           -0.010254226888810978,
           -0.001689184012413417,
           0.004278200756370854,
           -0.0011493884410576998,
           -0.005371414261800178,
           -0.006906872593018173,
           -0.0002477935456647914,
           0.002479066898880762,
           -0.00244744466722362,
           -0.016490136779566508,
           0.005386297180415599
          ],
          [
           0.0075175062450741565,
           -0.004220028847284678,
           0.004837921084017341,
           -0.0024081516544675772,
           -0.0038557525515748423,
           0.008357359106332339,
           -0.0033619736559198127,
           -0.010809143731516375,
           -0.009356396166155516,
           -0.0055802593764531505,
           -0.013161783287990678,
           -0.010493167689114371,
           -0.0110214519863952,
           -0.00361768453216642,
           -0.005927371570643156,
           -0.007136798893326876,
           -0.016168144249695687,
           -0.007676222233860954,
           -0.014893155976829147,
           -0.02698103819998798,
           -0.006320900049885468,
           -0.01731543638129924,
           -0.018730107558774432,
           -0.011640320133603527,
           0.00013986592088670373,
           -0.003044823769578142,
           -0.0074777779144763815,
           -0.0018624079640225805,
           -0.0012622731771515158,
           0.0026683406262328147,
           -0.00280456222466329,
           0.0029202508486806836
          ],
          [
           -0.004698122931596873,
           -0.011861489816161147,
           0.006940493877198855,
           -0.0039790760783900685,
           -0.010646987107561269,
           0.0006338881889753309,
           -0.004158060889725339,
           0.0027743307513333664,
           -0.011020796142638282,
           -0.004262381606154555,
           -0.009347060867653256,
           -0.004647943926676023,
           -0.007882858853338776,
           0.00024901570646282075,
           -0.01214432687977854,
           -0.0007492762705480727,
           -0.0061654236685992556,
           -0.022437658578713413,
           -0.01646252613267847,
           -0.009993379111477118,
           6.763269002367784e-05,
           -0.003389586744126657,
           -0.0031240288901122387,
           -0.011117223677844892,
           -0.006309914290263834,
           -0.019152700620016113,
           -0.018661610956788952,
           -0.009478758208619781,
           -0.0052406895667846285,
           -0.002784858480505064,
           0.00211756279088232,
           -0.001973198395430752
          ],
          [
           -0.005637138139294432,
           -0.011484742246869477,
           0.0062619153939467214,
           -0.0008207250429244745,
           -0.00632514111399484,
           0.004609839192209722,
           -0.008766006019618914,
           0.002464427276165494,
           -0.0077782327836912555,
           0.0018290217174492045,
           -0.013801796645215846,
           -0.017620156396241038,
           -0.005297632368873706,
           0.006149325009989849,
           -0.013865240883893912,
           -0.0046711095881388975,
           0.0015657058362131906,
           -0.00804762981091596,
           0.001663812996341051,
           0.003887337069542485,
           -0.014974438659734125,
           -0.004988248978708303,
           0.001423616280793041,
           0.0019223573157829596,
           0.0017738103589531756,
           -0.012243530827408864,
           -0.010580488460021659,
           -0.006916492096171218,
           -0.002425629154224014,
           0.0004272117889545992,
           0.008373288965469253,
           0.0004246157826303807
          ],
          [
           0.004185411740181007,
           0.0008391033351387112,
           -0.00022925706233914225,
           0.006499892736098638,
           -0.00016048367675082842,
           0.006230177725234186,
           -0.0038210801482405233,
           -0.004850864112623774,
           -0.010214295529314493,
           0.0053877837145509845,
           -0.009216294134983604,
           -0.0014204535157566745,
           -0.0053724194808075255,
           0.0075996018341600285,
           0.006046916556255878,
           0.006748563203637685,
           0.01601964154342156,
           0.009660600318746595,
           0.007463482018570657,
           0.0014016539133965436,
           -0.0009697640150182202,
           -0.011225809964195695,
           -0.010884119670400398,
           0.007609099677826039,
           0.010418583302359797,
           -0.0001584399527429343,
           -0.002559182730019233,
           0.005598766795761003,
           0.0025861614326525297,
           -0.0010846811957394994,
           0.0055897464518353925,
           0.01938157338253787
          ],
          [
           0.008446017729149574,
           -0.008111713939638141,
           0.000659417989646066,
           0.008367786140528523,
           0.001020728346146954,
           -0.000641041081297241,
           0.0014657420122698415,
           0.012158041065449182,
           -0.011429099907523596,
           -0.0052147585288452505,
           -0.006489685199071597,
           -0.0009791211418584032,
           -0.0009055075247195176,
           0.006224898404276117,
           0.008629978324341035,
           0.010872807386605031,
           -0.002675216426862388,
           -0.0005832583840452288,
           -0.0002194409532258193,
           0.007086553770777576,
           0.009150057015476592,
           0.0039998172924885856,
           0.0004518931436840395,
           0.0007400708320799725,
           -0.007296618185502715,
           -0.006921100896639505,
           -0.007849201135320193,
           -0.004285786894898806,
           -0.001994159383294038,
           0.005127186357428227,
           0.011226821205900357,
           0.010673384767247105
          ],
          [
           0.016686740226282522,
           -0.003280881900890046,
           0.0048051437596394846,
           0.00759606865493322,
           -0.0051022926095170545,
           -0.012482710516752442,
           -0.004705596426406681,
           0.007443068337242584,
           -0.009854455800396277,
           0.0010259368792427009,
           -0.00256748772299141,
           0.008292205736148346,
           0.00980246648714453,
           0.006538645156311217,
           0.00810299910418794,
           0.00980010616384497,
           -0.005284326877629792,
           0.004520822407395154,
           0.002455717858658513,
           -0.0007534097774318104,
           0.0008879965492047193,
           0.004306481322942261,
           0.00575587934079645,
           0.006556661201721575,
           -0.009327741260836528,
           -0.0012562665482501552,
           0.0035661179658207204,
           -0.008848450846924134,
           -0.012763108723057538,
           -0.00035936161525175746,
           0.004991298454741094,
           0.013160413146647012
          ],
          [
           0.027276513099290862,
           0.002006714055925193,
           -0.0076634274529780244,
           0.0029736977777111264,
           0.004567647759759788,
           -0.0023937762963187445,
           -0.003334803154935731,
           -0.0066244321978406575,
           -0.0014550439008933695,
           0.009974965083958624,
           0.0024295486849701944,
           0.005047497138531941,
           0.004517257095302315,
           0.00879683646581519,
           0.01700582582233343,
           0.022318355628398154,
           0.0033136191963848627,
           0.006538802279634159,
           0.004873336480727336,
           0.008704000067041365,
           0.007143587909126826,
           0.0033739517494878403,
           0.00036072508830518803,
           -0.0007555278985107843,
           0.0015691844983810705,
           0.0008506437430745438,
           0.00517510420262858,
           0.00226871854358279,
           -0.004181797605458524,
           -0.0009362022503629349,
           -0.00041562855707219623,
           0.009194989179039985
          ],
          [
           0.00862948713088963,
           -0.007893869514979848,
           -0.0028616261653361856,
           -0.003959859923741339,
           0.001928377898455081,
           0.006842009055906858,
           0.007849097946104508,
           -0.00031609944261384013,
           -0.008792177831237053,
           -0.003468581511410907,
           -0.009482317484853304,
           -0.001299566103032048,
           0.0033410714114400766,
           0.008021183749096045,
           0.005300768716224183,
           0.009412387165992225,
           0.02066307416924688,
           0.01288615525041687,
           0.0005915165177477355,
           -0.003233184730070775,
           0.01490008445178305,
           0.011483404258359092,
           -0.001431528571008476,
           -0.006946292726386176,
           -0.012462597472623271,
           -0.015701163191064616,
           -0.011066639545521102,
           0.0012013998875284148,
           0.0010991075464991942,
           -0.0009527181613907297,
           0.007461797962607527,
           0.011458652122400156
          ],
          [
           0.008449886926982605,
           -0.01184096872773039,
           0.0021475769942267665,
           -0.012861788380462216,
           -0.01689299767828075,
           -0.010630269135777703,
           -0.004284914369932679,
           -0.006562173846981488,
           -0.0028076259594795806,
           0.00700814392643577,
           0.003666348189897821,
           0.0010903713136001982,
           -0.002508870188935238,
           -0.0026739183580914523,
           -0.0032913320968061964,
           0.009966253221671618,
           0.020026585206274615,
           0.008922514771409946,
           0.003116609190911949,
           0.003560378150849582,
           0.003027274894151816,
           -0.005050672634425248,
           0.003926718721760358,
           0.0063203355303092686,
           -0.012104893271046961,
           -0.002352995638284547,
           0.005577653462393181,
           -0.005045234175287228,
           -0.00954278920528247,
           -0.0005884533380857884,
           0.019791166954999738,
           0.021150181424482835
          ],
          [
           0.024353249303861447,
           -0.0077031011670870885,
           0.003983972678762273,
           0.004895103704152085,
           -0.003180113263041263,
           -0.008923980492832247,
           -0.0072500425947923716,
           -0.004489138384235714,
           -0.01214193883774088,
           -0.0063423520964950636,
           -0.0009342853178906688,
           -0.00492389290232643,
           -0.010158696194120114,
           -0.007451437089387562,
           -0.010799021527156585,
           -0.011866588737935115,
           -0.00934586068986086,
           -0.0036171978227681695,
           0.007981818089381372,
           0.008807027801237325,
           -0.006123979747257621,
           -0.009747818243525696,
           0.0035571724496481104,
           -0.00561718298490594,
           -0.01181135523383112,
           -0.00545042966935001,
           0.007370455915056025,
           -0.004901508407579254,
           -0.008304357080955565,
           0.0012732044350489886,
           0.01917439546316204,
           0.02893194218924901
          ],
          [
           0.01638313229785855,
           -0.004706215760722054,
           0.0005094228799810803,
           0.008974681765072254,
           0.007424452715624317,
           0.005240216187343119,
           0.002769488112043113,
           0.004395042557166292,
           -0.007911531973054952,
           -0.006589799501994836,
           -0.004302444470972084,
           -0.0030812265155797385,
           -0.01130829331428542,
           -0.0038917321972143223,
           0.0021851576382734272,
           0.006054859160117058,
           -0.010130734886664902,
           0.012057377804173658,
           0.0160878169824115,
           0.005915294102397476,
           -0.0022581111787054126,
           0.003255950362580461,
           -0.00437819457560361,
           -0.009758035865219188,
           -0.00895883814760713,
           -0.016421650653502196,
           -0.0063289159085243045,
           -0.009596426600735564,
           0.005217192986807182,
           -0.0003361250709628611,
           0.0017885256641401615,
           0.012578153896637962
          ],
          [
           0.016772289747357522,
           -0.0024649469553318392,
           0.0024223690479244797,
           0.005210612713544381,
           0.001384652317789883,
           0.0008800500882972514,
           0.00040883820146761035,
           0.0019957008146634387,
           0.0012919672818086129,
           -0.01076142838666538,
           -0.008808656061513431,
           0.009574607464658534,
           -0.009212629894425723,
           0.006049622385456776,
           0.0038766664239801136,
           0.013345447966387645,
           -0.008027979624914906,
           -0.00829306584838219,
           -0.0010431266911539276,
           0.0008513106783565212,
           0.006218814982523423,
           0.005573401263749366,
           -0.0046013083171843674,
           0.00580131357648119,
           0.0011367705412261937,
           -0.005274235904934037,
           -0.008088081487451966,
           -0.004376014606197288,
           -0.004859148457237884,
           0.001201413777025543,
           0.018039259870544035,
           0.024786948880838214
          ],
          [
           0.010963928570866243,
           -0.00705323690621551,
           -0.005383497492582903,
           -0.00874140172330587,
           -0.012119243024099969,
           -0.010871968081585342,
           -0.0002601057949505283,
           0.0006477674750737212,
           -0.0027865558741479667,
           -0.010698860875631709,
           0.0016589713422158277,
           0.017045963748165135,
           0.006294422620323277,
           0.004120721626906974,
           -0.006553147762497277,
           0.005625770037485262,
           -0.00317443802449309,
           -0.006168106070285487,
           0.000758974584605886,
           0.009084914881437514,
           0.006878865459627752,
           0.005187693493706726,
           -0.0005168715102097328,
           0.004966779450933598,
           0.004374233920804188,
           -0.0017582580243628058,
           -0.005077780365770244,
           -0.0019512146502105687,
           -0.0010809796801297352,
           -0.004000512000827862,
           0.011428639870378201,
           0.01864911204692844
          ],
          [
           0.014384647716647336,
           -0.004468680754248424,
           0.003728612264749296,
           0.0074298832059609375,
           -0.002063690050923022,
           -0.01042806811071157,
           -0.0022854902595525,
           -0.001939010230895568,
           -0.005233915060337652,
           -0.00992345526613156,
           0.0051386746359164395,
           0.002624729762300569,
           -0.005495966084087013,
           -0.010812374493151746,
           -0.01227085272266625,
           -0.005984022621642024,
           0.0018361537094232798,
           0.00032169861927357354,
           -0.004886864409469804,
           0.0019404584385778014,
           -0.000894459729540032,
           0.0054414169993071875,
           0.005266341069192994,
           -0.0034530046402511828,
           0.0028754528931739572,
           0.008787903392370643,
           0.0024657299642646636,
           0.0063538051844076356,
           0.011930794184963678,
           0.008359322257870021,
           0.016779625542266568,
           0.014712138409343989
          ],
          [
           0.028202588599585528,
           0.008080506160698171,
           0.012196302464043796,
           0.013174242383318989,
           0.004188180135425341,
           -0.00014470327221742217,
           -0.0009299689696044724,
           -0.010655796547022383,
           -0.008423274103402946,
           -0.0009961203462978928,
           0.005567612763363365,
           0.005113376681482083,
           0.0083365538080478,
           -0.007797778655263937,
           -0.005485027820667581,
           -0.01449314406459221,
           -0.010816224434078306,
           0.006943143553930205,
           0.006705000671276904,
           0.00422842088747715,
           0.004149702292366675,
           0.013008913994260284,
           0.015021655218866904,
           -0.001972999841317217,
           -0.006297735809935569,
           0.0044655513333923405,
           -0.004842985478709727,
           -0.001383284676269748,
           0.014496954756359296,
           0.011568312159903412,
           0.01140520279067638,
           0.003438880595238924
          ],
          [
           0.02469690688179782,
           0.004926249603924997,
           0.005604779588812018,
           0.0012698277186168829,
           -0.010684978882496756,
           -0.002290276044846729,
           0.010446484449612659,
           0.007636956641519588,
           -0.0026853948249221347,
           0.0017745056988036228,
           0.002288303314689116,
           0.003711071412837706,
           0.0013640996113590648,
           -0.017738822626525555,
           -0.01395529108044469,
           -0.013698440630565195,
           -0.017789287627651994,
           -0.004041423322503727,
           0.0024663870039048465,
           -0.0014953631951146712,
           0.004036035486387391,
           0.004328786907564643,
           0.0027159780597312186,
           -0.004916353580581585,
           -0.005804791000639067,
           -0.007473736354610866,
           -0.011130395439699717,
           -0.005305356513233052,
           0.004083293546384043,
           0.010669296994445536,
           0.012769791773697603,
           0.01033567364505719
          ],
          [
           0.025440165564880234,
           0.006846581107357016,
           0.008212261777940799,
           0.01272291652907438,
           0.0015269674391269715,
           -0.005023050573367966,
           0.001294100492198098,
           0.007553638577476241,
           -0.0021019865887289867,
           0.0031166972841958247,
           0.0016751884630083604,
           0.005945515008585942,
           -0.0017844304719057973,
           -0.011410351394334358,
           -0.010963853429081268,
           -0.0052933241239301486,
           0.0007428221852347649,
           -0.006843466892066658,
           -0.0072094835560679174,
           -0.006342117406423857,
           -0.004873835313912274,
           -0.0038475391974484296,
           -0.006189883394313003,
           -0.006752013790978679,
           0.009523635886170353,
           -0.0025461411705152404,
           -0.011428596687416678,
           -0.0021276762703878794,
           -0.0012778099725383853,
           0.005591649558325908,
           0.018982802920021323,
           0.0222480080051478
          ],
          [
           0.045894603627421766,
           0.02253939214776136,
           0.015111581402753663,
           0.012760451348136937,
           0.004797712945420115,
           -0.0043011860745875265,
           -0.0038115629339169122,
           0.002593606347560371,
           -0.0008822067545357507,
           0.003896486009798234,
           9.90164012918916e-05,
           0.004837119501589432,
           -0.0008355744435829306,
           0.0003911832071238858,
           -0.005051526022224006,
           -0.009438233572468415,
           -0.005086621194393133,
           -0.0008116776427002494,
           -0.005144854896176261,
           0.0024571999684942594,
           0.0005921531317421389,
           0.00408698291083306,
           0.00043553537001080907,
           -0.0028237462699275684,
           0.00024184433849455797,
           0.004884429036524887,
           0.005944493810173278,
           0.005950027665298469,
           0.004442507459676706,
           0.017520409563519652,
           0.03375410415550636,
           0.03464209736279851
          ],
          [
           0.055053003593728896,
           0.022647172624688263,
           0.01722432407768015,
           0.008827603830258345,
           0.00989840390899703,
           0.013994288766167103,
           0.01369241601005089,
           0.011927688943539861,
           0.004121831776669358,
           0.009385143347446822,
           0.011977275861346082,
           0.0017700996494242878,
           -0.002531412169936565,
           0.007879661361975624,
           0.005740711531675326,
           0.005809206581103295,
           -0.00509181796782436,
           0.0008062701687102464,
           0.001454222383758622,
           0.011831703807133912,
           0.003984582305627157,
           -0.002310522026088921,
           0.0012016925534106893,
           0.004280639989109918,
           0.0035861946922380065,
           0.0037956426942746756,
           0.005607066195119699,
           0.006021591128102379,
           0.009229937384825863,
           0.027869449548161417,
           0.029775519051297467,
           0.03569357744504975
          ]
         ]
        }
       ],
       "layout": {
        "autosize": true,
        "coloraxis": {
         "colorscale": [
          [
           0,
           "#0d0887"
          ],
          [
           0.1111111111111111,
           "#46039f"
          ],
          [
           0.2222222222222222,
           "#7201a8"
          ],
          [
           0.3333333333333333,
           "#9c179e"
          ],
          [
           0.4444444444444444,
           "#bd3786"
          ],
          [
           0.5555555555555556,
           "#d8576b"
          ],
          [
           0.6666666666666666,
           "#ed7953"
          ],
          [
           0.7777777777777778,
           "#fb9f3a"
          ],
          [
           0.8888888888888888,
           "#fdca26"
          ],
          [
           1,
           "#f0f921"
          ]
         ]
        },
        "margin": {
         "t": 60
        },
        "template": {
         "data": {
          "bar": [
           {
            "error_x": {
             "color": "#2a3f5f"
            },
            "error_y": {
             "color": "#2a3f5f"
            },
            "marker": {
             "line": {
              "color": "#E5ECF6",
              "width": 0.5
             },
             "pattern": {
              "fillmode": "overlay",
              "size": 10,
              "solidity": 0.2
             }
            },
            "type": "bar"
           }
          ],
          "barpolar": [
           {
            "marker": {
             "line": {
              "color": "#E5ECF6",
              "width": 0.5
             },
             "pattern": {
              "fillmode": "overlay",
              "size": 10,
              "solidity": 0.2
             }
            },
            "type": "barpolar"
           }
          ],
          "carpet": [
           {
            "aaxis": {
             "endlinecolor": "#2a3f5f",
             "gridcolor": "white",
             "linecolor": "white",
             "minorgridcolor": "white",
             "startlinecolor": "#2a3f5f"
            },
            "baxis": {
             "endlinecolor": "#2a3f5f",
             "gridcolor": "white",
             "linecolor": "white",
             "minorgridcolor": "white",
             "startlinecolor": "#2a3f5f"
            },
            "type": "carpet"
           }
          ],
          "choropleth": [
           {
            "colorbar": {
             "outlinewidth": 0,
             "ticks": ""
            },
            "type": "choropleth"
           }
          ],
          "contour": [
           {
            "colorbar": {
             "outlinewidth": 0,
             "ticks": ""
            },
            "colorscale": [
             [
              0,
              "#0d0887"
             ],
             [
              0.1111111111111111,
              "#46039f"
             ],
             [
              0.2222222222222222,
              "#7201a8"
             ],
             [
              0.3333333333333333,
              "#9c179e"
             ],
             [
              0.4444444444444444,
              "#bd3786"
             ],
             [
              0.5555555555555556,
              "#d8576b"
             ],
             [
              0.6666666666666666,
              "#ed7953"
             ],
             [
              0.7777777777777778,
              "#fb9f3a"
             ],
             [
              0.8888888888888888,
              "#fdca26"
             ],
             [
              1,
              "#f0f921"
             ]
            ],
            "type": "contour"
           }
          ],
          "contourcarpet": [
           {
            "colorbar": {
             "outlinewidth": 0,
             "ticks": ""
            },
            "type": "contourcarpet"
           }
          ],
          "heatmap": [
           {
            "colorbar": {
             "outlinewidth": 0,
             "ticks": ""
            },
            "colorscale": [
             [
              0,
              "#0d0887"
             ],
             [
              0.1111111111111111,
              "#46039f"
             ],
             [
              0.2222222222222222,
              "#7201a8"
             ],
             [
              0.3333333333333333,
              "#9c179e"
             ],
             [
              0.4444444444444444,
              "#bd3786"
             ],
             [
              0.5555555555555556,
              "#d8576b"
             ],
             [
              0.6666666666666666,
              "#ed7953"
             ],
             [
              0.7777777777777778,
              "#fb9f3a"
             ],
             [
              0.8888888888888888,
              "#fdca26"
             ],
             [
              1,
              "#f0f921"
             ]
            ],
            "type": "heatmap"
           }
          ],
          "heatmapgl": [
           {
            "colorbar": {
             "outlinewidth": 0,
             "ticks": ""
            },
            "colorscale": [
             [
              0,
              "#0d0887"
             ],
             [
              0.1111111111111111,
              "#46039f"
             ],
             [
              0.2222222222222222,
              "#7201a8"
             ],
             [
              0.3333333333333333,
              "#9c179e"
             ],
             [
              0.4444444444444444,
              "#bd3786"
             ],
             [
              0.5555555555555556,
              "#d8576b"
             ],
             [
              0.6666666666666666,
              "#ed7953"
             ],
             [
              0.7777777777777778,
              "#fb9f3a"
             ],
             [
              0.8888888888888888,
              "#fdca26"
             ],
             [
              1,
              "#f0f921"
             ]
            ],
            "type": "heatmapgl"
           }
          ],
          "histogram": [
           {
            "marker": {
             "pattern": {
              "fillmode": "overlay",
              "size": 10,
              "solidity": 0.2
             }
            },
            "type": "histogram"
           }
          ],
          "histogram2d": [
           {
            "colorbar": {
             "outlinewidth": 0,
             "ticks": ""
            },
            "colorscale": [
             [
              0,
              "#0d0887"
             ],
             [
              0.1111111111111111,
              "#46039f"
             ],
             [
              0.2222222222222222,
              "#7201a8"
             ],
             [
              0.3333333333333333,
              "#9c179e"
             ],
             [
              0.4444444444444444,
              "#bd3786"
             ],
             [
              0.5555555555555556,
              "#d8576b"
             ],
             [
              0.6666666666666666,
              "#ed7953"
             ],
             [
              0.7777777777777778,
              "#fb9f3a"
             ],
             [
              0.8888888888888888,
              "#fdca26"
             ],
             [
              1,
              "#f0f921"
             ]
            ],
            "type": "histogram2d"
           }
          ],
          "histogram2dcontour": [
           {
            "colorbar": {
             "outlinewidth": 0,
             "ticks": ""
            },
            "colorscale": [
             [
              0,
              "#0d0887"
             ],
             [
              0.1111111111111111,
              "#46039f"
             ],
             [
              0.2222222222222222,
              "#7201a8"
             ],
             [
              0.3333333333333333,
              "#9c179e"
             ],
             [
              0.4444444444444444,
              "#bd3786"
             ],
             [
              0.5555555555555556,
              "#d8576b"
             ],
             [
              0.6666666666666666,
              "#ed7953"
             ],
             [
              0.7777777777777778,
              "#fb9f3a"
             ],
             [
              0.8888888888888888,
              "#fdca26"
             ],
             [
              1,
              "#f0f921"
             ]
            ],
            "type": "histogram2dcontour"
           }
          ],
          "mesh3d": [
           {
            "colorbar": {
             "outlinewidth": 0,
             "ticks": ""
            },
            "type": "mesh3d"
           }
          ],
          "parcoords": [
           {
            "line": {
             "colorbar": {
              "outlinewidth": 0,
              "ticks": ""
             }
            },
            "type": "parcoords"
           }
          ],
          "pie": [
           {
            "automargin": true,
            "type": "pie"
           }
          ],
          "scatter": [
           {
            "fillpattern": {
             "fillmode": "overlay",
             "size": 10,
             "solidity": 0.2
            },
            "type": "scatter"
           }
          ],
          "scatter3d": [
           {
            "line": {
             "colorbar": {
              "outlinewidth": 0,
              "ticks": ""
             }
            },
            "marker": {
             "colorbar": {
              "outlinewidth": 0,
              "ticks": ""
             }
            },
            "type": "scatter3d"
           }
          ],
          "scattercarpet": [
           {
            "marker": {
             "colorbar": {
              "outlinewidth": 0,
              "ticks": ""
             }
            },
            "type": "scattercarpet"
           }
          ],
          "scattergeo": [
           {
            "marker": {
             "colorbar": {
              "outlinewidth": 0,
              "ticks": ""
             }
            },
            "type": "scattergeo"
           }
          ],
          "scattergl": [
           {
            "marker": {
             "colorbar": {
              "outlinewidth": 0,
              "ticks": ""
             }
            },
            "type": "scattergl"
           }
          ],
          "scattermapbox": [
           {
            "marker": {
             "colorbar": {
              "outlinewidth": 0,
              "ticks": ""
             }
            },
            "type": "scattermapbox"
           }
          ],
          "scatterpolar": [
           {
            "marker": {
             "colorbar": {
              "outlinewidth": 0,
              "ticks": ""
             }
            },
            "type": "scatterpolar"
           }
          ],
          "scatterpolargl": [
           {
            "marker": {
             "colorbar": {
              "outlinewidth": 0,
              "ticks": ""
             }
            },
            "type": "scatterpolargl"
           }
          ],
          "scatterternary": [
           {
            "marker": {
             "colorbar": {
              "outlinewidth": 0,
              "ticks": ""
             }
            },
            "type": "scatterternary"
           }
          ],
          "surface": [
           {
            "colorbar": {
             "outlinewidth": 0,
             "ticks": ""
            },
            "colorscale": [
             [
              0,
              "#0d0887"
             ],
             [
              0.1111111111111111,
              "#46039f"
             ],
             [
              0.2222222222222222,
              "#7201a8"
             ],
             [
              0.3333333333333333,
              "#9c179e"
             ],
             [
              0.4444444444444444,
              "#bd3786"
             ],
             [
              0.5555555555555556,
              "#d8576b"
             ],
             [
              0.6666666666666666,
              "#ed7953"
             ],
             [
              0.7777777777777778,
              "#fb9f3a"
             ],
             [
              0.8888888888888888,
              "#fdca26"
             ],
             [
              1,
              "#f0f921"
             ]
            ],
            "type": "surface"
           }
          ],
          "table": [
           {
            "cells": {
             "fill": {
              "color": "#EBF0F8"
             },
             "line": {
              "color": "white"
             }
            },
            "header": {
             "fill": {
              "color": "#C8D4E3"
             },
             "line": {
              "color": "white"
             }
            },
            "type": "table"
           }
          ]
         },
         "layout": {
          "annotationdefaults": {
           "arrowcolor": "#2a3f5f",
           "arrowhead": 0,
           "arrowwidth": 1
          },
          "autotypenumbers": "strict",
          "coloraxis": {
           "colorbar": {
            "outlinewidth": 0,
            "ticks": ""
           }
          },
          "colorscale": {
           "diverging": [
            [
             0,
             "#8e0152"
            ],
            [
             0.1,
             "#c51b7d"
            ],
            [
             0.2,
             "#de77ae"
            ],
            [
             0.3,
             "#f1b6da"
            ],
            [
             0.4,
             "#fde0ef"
            ],
            [
             0.5,
             "#f7f7f7"
            ],
            [
             0.6,
             "#e6f5d0"
            ],
            [
             0.7,
             "#b8e186"
            ],
            [
             0.8,
             "#7fbc41"
            ],
            [
             0.9,
             "#4d9221"
            ],
            [
             1,
             "#276419"
            ]
           ],
           "sequential": [
            [
             0,
             "#0d0887"
            ],
            [
             0.1111111111111111,
             "#46039f"
            ],
            [
             0.2222222222222222,
             "#7201a8"
            ],
            [
             0.3333333333333333,
             "#9c179e"
            ],
            [
             0.4444444444444444,
             "#bd3786"
            ],
            [
             0.5555555555555556,
             "#d8576b"
            ],
            [
             0.6666666666666666,
             "#ed7953"
            ],
            [
             0.7777777777777778,
             "#fb9f3a"
            ],
            [
             0.8888888888888888,
             "#fdca26"
            ],
            [
             1,
             "#f0f921"
            ]
           ],
           "sequentialminus": [
            [
             0,
             "#0d0887"
            ],
            [
             0.1111111111111111,
             "#46039f"
            ],
            [
             0.2222222222222222,
             "#7201a8"
            ],
            [
             0.3333333333333333,
             "#9c179e"
            ],
            [
             0.4444444444444444,
             "#bd3786"
            ],
            [
             0.5555555555555556,
             "#d8576b"
            ],
            [
             0.6666666666666666,
             "#ed7953"
            ],
            [
             0.7777777777777778,
             "#fb9f3a"
            ],
            [
             0.8888888888888888,
             "#fdca26"
            ],
            [
             1,
             "#f0f921"
            ]
           ]
          },
          "colorway": [
           "#636efa",
           "#EF553B",
           "#00cc96",
           "#ab63fa",
           "#FFA15A",
           "#19d3f3",
           "#FF6692",
           "#B6E880",
           "#FF97FF",
           "#FECB52"
          ],
          "font": {
           "color": "#2a3f5f"
          },
          "geo": {
           "bgcolor": "white",
           "lakecolor": "white",
           "landcolor": "#E5ECF6",
           "showlakes": true,
           "showland": true,
           "subunitcolor": "white"
          },
          "hoverlabel": {
           "align": "left"
          },
          "hovermode": "closest",
          "mapbox": {
           "style": "light"
          },
          "paper_bgcolor": "white",
          "plot_bgcolor": "#E5ECF6",
          "polar": {
           "angularaxis": {
            "gridcolor": "white",
            "linecolor": "white",
            "ticks": ""
           },
           "bgcolor": "#E5ECF6",
           "radialaxis": {
            "gridcolor": "white",
            "linecolor": "white",
            "ticks": ""
           }
          },
          "scene": {
           "xaxis": {
            "backgroundcolor": "#E5ECF6",
            "gridcolor": "white",
            "gridwidth": 2,
            "linecolor": "white",
            "showbackground": true,
            "ticks": "",
            "zerolinecolor": "white"
           },
           "yaxis": {
            "backgroundcolor": "#E5ECF6",
            "gridcolor": "white",
            "gridwidth": 2,
            "linecolor": "white",
            "showbackground": true,
            "ticks": "",
            "zerolinecolor": "white"
           },
           "zaxis": {
            "backgroundcolor": "#E5ECF6",
            "gridcolor": "white",
            "gridwidth": 2,
            "linecolor": "white",
            "showbackground": true,
            "ticks": "",
            "zerolinecolor": "white"
           }
          },
          "shapedefaults": {
           "line": {
            "color": "#2a3f5f"
           }
          },
          "ternary": {
           "aaxis": {
            "gridcolor": "white",
            "linecolor": "white",
            "ticks": ""
           },
           "baxis": {
            "gridcolor": "white",
            "linecolor": "white",
            "ticks": ""
           },
           "bgcolor": "#E5ECF6",
           "caxis": {
            "gridcolor": "white",
            "linecolor": "white",
            "ticks": ""
           }
          },
          "title": {
           "x": 0.05
          },
          "xaxis": {
           "automargin": true,
           "gridcolor": "white",
           "linecolor": "white",
           "ticks": "",
           "title": {
            "standoff": 15
           },
           "zerolinecolor": "white",
           "zerolinewidth": 2
          },
          "yaxis": {
           "automargin": true,
           "gridcolor": "white",
           "linecolor": "white",
           "ticks": "",
           "title": {
            "standoff": 15
           },
           "zerolinecolor": "white",
           "zerolinewidth": 2
          }
         }
        },
        "xaxis": {
         "anchor": "y",
         "autorange": true,
         "constrain": "domain",
         "domain": [
          0.3653610771113831,
          0.6346389228886169
         ],
         "range": [
          -0.5,
          31.5
         ],
         "scaleanchor": "y",
         "side": "top"
        },
        "yaxis": {
         "anchor": "x",
         "autorange": true,
         "constrain": "domain",
         "domain": [
          0,
          1
         ],
         "range": [
          31.5,
          -0.5
         ]
        }
       }
      },
      "image/png": "[encoded data removed]",
      "text/html": [
       "<div>                            <div id=\"a7e128b3-e528-44d5-9fe6-45d09f96937e\" class=\"plotly-graph-div\" style=\"height:525px; width:100%;\"></div>            <script type=\"text/javascript\">                require([\"plotly\"], function(Plotly) {                    window.PLOTLYENV=window.PLOTLYENV || {};                                    if (document.getElementById(\"a7e128b3-e528-44d5-9fe6-45d09f96937e\")) {                    Plotly.newPlot(                        \"a7e128b3-e528-44d5-9fe6-45d09f96937e\",                        [{\"coloraxis\":\"coloraxis\",\"name\":\"0\",\"z\":[[0.025202056920863948,0.01734161944891168,0.013629740212131541,0.001746438124905789,-0.004942659378164506,0.0018035980935829342,-0.00838185358491743,-0.005995769084633695,0.0013687688703517323,-0.003110320119045865,-0.012023699949280368,-0.012298989753035153,-0.0027909680928234057,-0.01251257130025561,-0.01141771756163025,-0.010889809350812277,-0.01165786780243536,-0.011924196274321982,-0.015450562500557652,-0.00655836747278838,-0.00733312049771566,-0.0006877657471855909,0.0005072006693580359,0.01077663300644871,0.0074941985498630246,0.006509511118443151,0.008349129067445844,0.007003306643220114,0.007899259779438284,0.015304037634601309,0.02380807168321305,0.028190424654737225],[0.01798223126369184,0.005958883362824563,0.0048937446219039435,0.00044534000048775986,-0.00039363654117211217,0.00041537014666852143,-0.008277535934759094,-0.005365846356074033,-0.01361585780170803,-0.008713104637426736,-0.012681362788855026,-0.013979985921512584,-0.004309948197698935,-0.008165337943713612,-0.0008555159131998419,-0.009020379458350956,-0.01983919453037172,-0.01248108287564122,-0.01011224647707438,-0.006991558893872907,-0.008958375655628237,-0.0021648298727725804,-0.003702261161679424,0.0027156502013079855,-0.0015900174160969254,0.0004963801882496854,-0.0010106548931134477,-0.008778518533540825,-0.00963335514477435,0.0006598696523348369,0.009182311213209582,0.007850649562280567],[0.011943868190417053,-0.0033622849641101217,0.0004715755839432087,-0.0006996473244768521,0.0006285979767382688,-0.00048443020844433617,-0.004583834187876015,-0.0033962762530376986,-0.014378505000535934,-0.01202177963398286,-0.0036120257407713592,0.0020681035128693025,0.004393146215867381,-0.0008582387666039378,0.0048525917097036325,-0.009506920185792597,-0.01992528362811615,-0.0215924178352836,-0.010265893004751878,-0.0040360828928953305,-0.003581028856142482,-0.007977804013406186,-0.004581564318515038,0.0068290794996838525,0.001315534651666988,0.0013870735979999642,-0.005467541816910985,-0.004051107436337819,-0.0002480533509390489,0.001730102978093765,0.009225532708029645,0.0013798827183144535],[0.002550573190127172,-0.009942443875430085,-0.0038441973567298593,0.0008302375231775357,-0.012659991281531356,-0.015378381574704137,-0.008919438368739626,-0.004476686293338229,0.0010411762300046705,0.0018428961742711723,0.00814955504032851,0.004235264305683775,-0.002750767282142815,-0.00027217449153531844,0.008699639857996915,0.0007471079065447017,-0.007522626200017392,-0.020692596819556958,-0.009559301673317089,-0.012084872249520772,-0.008748662543393798,-0.00943187014977012,-0.004893056669085121,0.0003068713171707176,0.00821767586990598,0.004871722487086825,-0.0013899853474682205,0.007420172523949042,0.0016794828514933924,-0.006072683657201615,0.005106176307367489,0.006048001430258884],[-0.004487299654684654,-0.005710000899521093,-0.0015861608713655963,0.0023557638712571305,-0.009850051443578945,-0.004687356345307791,-0.0019306440370184064,-0.0038161504388578185,0.0028423520607501825,0.00553042227207539,0.007965215533587101,0.011065949690001877,0.009535597194154324,0.007492968108775083,0.012943108856878797,0.01297370956733237,0.005316329087959422,-0.0006761296991883687,0.00843337328797311,0.006044844080938647,0.003376543719357386,-0.0067461878543618355,-0.009526410379462155,-0.01622063536213135,-0.004098289071705438,-0.004842156567927232,-0.0054371028723791855,-0.002260410265710373,-0.004788086232524251,-0.007218441517495754,0.0011480438255359515,0.008238287470740534],[-6.249397893568486e-05,-0.0010424440924928838,-0.0012340980401048366,0.001284749479539382,-0.0012147987635215283,0.0027367899931048222,-0.00089970195330553,-0.005678032795231275,-0.010696355296584952,-0.006754375290380825,0.006349280274449142,0.015225043109247941,0.004979861924796344,0.002588771737420565,0.007647054074393235,0.003710663926176969,0.0029900536065479975,0.0009790162843396348,0.008114079180631393,0.011237601050420619,0.011130894031448478,0.0004614667409783982,-0.003325320414022826,0.0004224500890481869,-0.005434115600529408,-0.005301124324007304,-0.0027082441839612254,-0.005418876649545216,-0.0009713074728240047,0.0012792473425043906,0.0017949221993162148,0.0032348971563908777],[0.00856533134889457,-0.00310309855766093,-0.008564491307741569,-0.005215678015260593,0.00019926946955379932,0.0012473830467662878,-0.0014837110965839671,-0.0014370666901704198,-0.0025538595935865565,-0.004042004372147533,0.006963713982190068,0.0021228485176738505,-0.013969471940785062,-0.0015316621192887731,0.004616823588347318,0.0008601648578781123,0.007512169312245522,0.00036891356315340304,-0.006425923914465271,-0.0027610542079290236,0.003384180267609008,0.0007295568555177563,-0.009230075809662282,-0.0024439858645263035,0.0027732548635574874,0.000435538530040958,-0.001937749288225525,-0.006133984361971737,-2.5442939539252464e-05,0.0032993689179270586,0.0008941336918494105,0.002822203743568901],[0.014790041424381069,0.003891217442088289,-0.005151392084326156,-0.008254910672642633,-0.0016244872912453032,-0.000867876745102708,-0.002063426036009692,0.007593498513600192,0.009386457244988107,0.005890425115749597,0.017359814662042644,0.008458086281302412,-0.014016616247129217,-0.003729442524838206,0.004574414912216601,-0.0022206976807320057,-0.0009401626865324392,-0.004825953559329969,-0.0060344030424576275,-0.0021530524269120052,0.0005760217037198501,0.0023882853530682304,0.001190550076673513,0.001863092503024945,-0.00761419512629086,-0.005716229107699877,-0.0030233026333763824,-0.003958854481275091,-0.0005773165759431019,0.008895639255936139,-0.0019717078319272338,0.004172204540665392],[-0.0023066808245354137,-0.009470018586273814,-0.010851307574562598,-0.013910017199344434,-0.017700767182917746,-0.0025397659261195958,-0.010606454392406523,0.005190335796688493,-0.008103881744864294,-0.007165040786211764,-0.00758951515865871,-0.003949054398244025,-0.010688079443652913,0.005986576684911649,0.00823589760698103,0.0013259835206180504,-0.011147246735081422,0.0011242913917706376,-0.0016228363670098213,-0.010256871777104166,-0.009335603099182683,-0.004733822163577688,0.0020776256854504647,0.011624271145211721,-0.0064070801045219275,5.344131301054137e-06,-0.01520434392582542,0.0017892056075557692,0.003548777621459464,0.00013424537784451998,0.0024956783173741065,-0.0015578057234728797],[0.004664623816068521,0.006027378267703375,-0.002652513501964232,-0.00957580201699038,-0.0009860507540573353,0.005666370772247309,-0.010973573660310652,-0.01294243801053641,-0.0197872904820283,-0.008517335931761478,-0.0019043821337696408,0.00490334410820294,-0.001706157619025036,-0.001931556342689343,0.0034098334613114254,-0.005287521465593723,-0.0025560043408549018,0.005663443475027532,-0.013300371361991708,-0.0018160552913740868,7.996365814842581e-05,-0.0055508475437723755,-0.005722614720305867,-0.00624242434955099,-0.004651892348341747,0.006017083430140249,0.005647871888949615,0.009198332097440833,-0.004116751539369011,0.004620410638540237,0.014456565192809533,0.0029449054742932265],[-0.00039639840728314336,0.00350215435574201,0.0026703013196384996,0.003045850615671431,0.009597671271531468,0.001392438636172266,-0.0012483292812630387,-0.007852662362958668,-0.01661760533112077,-0.014756453104151215,-0.010856859400239014,-0.005897115124999585,-0.011731640871114835,-0.009215688536088265,0.002155935173891942,-0.0022888482891308785,0.004501036956876418,0.0007081015625905827,-0.011095297567481162,0.010420560254074762,0.00866273924275513,-0.004020593734720216,0.005479397124864228,0.004440795137379162,-0.009132631405239174,-0.0003509938521544814,0.0020059097295337153,0.011033384581916474,-0.004912668169247994,0.001957771028101943,0.010677624266278515,0.004835202701728342],[0.008318398267928974,0.0038239384142576683,0.007218566736695687,0.005440699328760734,0.005641797785289338,-0.0038509425269398195,0.002000293566764276,-0.008240602681963314,-0.009008998178225454,-0.005332334479092824,-0.01413096209012098,-0.00491814672817931,-0.006079877445230407,-0.005124251756787164,-0.004974667913198832,-0.007489315753324618,-0.01731457506604232,-0.011796912110698521,-0.013002657079956246,-0.00022723892227977268,-0.0055500464464579,-0.00724642315826868,0.00942876187790578,0.006607768185893538,-0.013034093421533168,-0.014380996428263324,-0.016843546433861916,-0.005335538765314026,-0.0047450966494505115,-0.0020739193866701005,-0.007449486077046132,0.0024520305876269645],[0.018020038293572505,0.00546998862291595,0.007336414666410306,-0.006128158446201409,-0.012173290064687162,-0.010914905953350429,-0.005613603292570993,-0.011700950723161874,-0.01188231250428671,-0.004518879916273576,-0.0044577683416293645,-0.0034718120518796368,-0.001855534364461148,0.003197463729490195,-0.004847529286190273,-0.014042014693575898,-0.017720787273677454,-0.009497199495786954,-0.014698785560848394,-0.017396510129808744,-0.01426026595789816,-0.010254226888810978,-0.001689184012413417,0.004278200756370854,-0.0011493884410576998,-0.005371414261800178,-0.006906872593018173,-0.0002477935456647914,0.002479066898880762,-0.00244744466722362,-0.016490136779566508,0.005386297180415599],[0.0075175062450741565,-0.004220028847284678,0.004837921084017341,-0.0024081516544675772,-0.0038557525515748423,0.008357359106332339,-0.0033619736559198127,-0.010809143731516375,-0.009356396166155516,-0.0055802593764531505,-0.013161783287990678,-0.010493167689114371,-0.0110214519863952,-0.00361768453216642,-0.005927371570643156,-0.007136798893326876,-0.016168144249695687,-0.007676222233860954,-0.014893155976829147,-0.02698103819998798,-0.006320900049885468,-0.01731543638129924,-0.018730107558774432,-0.011640320133603527,0.00013986592088670373,-0.003044823769578142,-0.0074777779144763815,-0.0018624079640225805,-0.0012622731771515158,0.0026683406262328147,-0.00280456222466329,0.0029202508486806836],[-0.004698122931596873,-0.011861489816161147,0.006940493877198855,-0.0039790760783900685,-0.010646987107561269,0.0006338881889753309,-0.004158060889725339,0.0027743307513333664,-0.011020796142638282,-0.004262381606154555,-0.009347060867653256,-0.004647943926676023,-0.007882858853338776,0.00024901570646282075,-0.01214432687977854,-0.0007492762705480727,-0.0061654236685992556,-0.022437658578713413,-0.01646252613267847,-0.009993379111477118,6.763269002367784e-05,-0.003389586744126657,-0.0031240288901122387,-0.011117223677844892,-0.006309914290263834,-0.019152700620016113,-0.018661610956788952,-0.009478758208619781,-0.0052406895667846285,-0.002784858480505064,0.00211756279088232,-0.001973198395430752],[-0.005637138139294432,-0.011484742246869477,0.0062619153939467214,-0.0008207250429244745,-0.00632514111399484,0.004609839192209722,-0.008766006019618914,0.002464427276165494,-0.0077782327836912555,0.0018290217174492045,-0.013801796645215846,-0.017620156396241038,-0.005297632368873706,0.006149325009989849,-0.013865240883893912,-0.0046711095881388975,0.0015657058362131906,-0.00804762981091596,0.001663812996341051,0.003887337069542485,-0.014974438659734125,-0.004988248978708303,0.001423616280793041,0.0019223573157829596,0.0017738103589531756,-0.012243530827408864,-0.010580488460021659,-0.006916492096171218,-0.002425629154224014,0.0004272117889545992,0.008373288965469253,0.0004246157826303807],[0.004185411740181007,0.0008391033351387112,-0.00022925706233914225,0.006499892736098638,-0.00016048367675082842,0.006230177725234186,-0.0038210801482405233,-0.004850864112623774,-0.010214295529314493,0.0053877837145509845,-0.009216294134983604,-0.0014204535157566745,-0.0053724194808075255,0.0075996018341600285,0.006046916556255878,0.006748563203637685,0.01601964154342156,0.009660600318746595,0.007463482018570657,0.0014016539133965436,-0.0009697640150182202,-0.011225809964195695,-0.010884119670400398,0.007609099677826039,0.010418583302359797,-0.0001584399527429343,-0.002559182730019233,0.005598766795761003,0.0025861614326525297,-0.0010846811957394994,0.0055897464518353925,0.01938157338253787],[0.008446017729149574,-0.008111713939638141,0.000659417989646066,0.008367786140528523,0.001020728346146954,-0.000641041081297241,0.0014657420122698415,0.012158041065449182,-0.011429099907523596,-0.0052147585288452505,-0.006489685199071597,-0.0009791211418584032,-0.0009055075247195176,0.006224898404276117,0.008629978324341035,0.010872807386605031,-0.002675216426862388,-0.0005832583840452288,-0.0002194409532258193,0.007086553770777576,0.009150057015476592,0.0039998172924885856,0.0004518931436840395,0.0007400708320799725,-0.007296618185502715,-0.006921100896639505,-0.007849201135320193,-0.004285786894898806,-0.001994159383294038,0.005127186357428227,0.011226821205900357,0.010673384767247105],[0.016686740226282522,-0.003280881900890046,0.0048051437596394846,0.00759606865493322,-0.0051022926095170545,-0.012482710516752442,-0.004705596426406681,0.007443068337242584,-0.009854455800396277,0.0010259368792427009,-0.00256748772299141,0.008292205736148346,0.00980246648714453,0.006538645156311217,0.00810299910418794,0.00980010616384497,-0.005284326877629792,0.004520822407395154,0.002455717858658513,-0.0007534097774318104,0.0008879965492047193,0.004306481322942261,0.00575587934079645,0.006556661201721575,-0.009327741260836528,-0.0012562665482501552,0.0035661179658207204,-0.008848450846924134,-0.012763108723057538,-0.00035936161525175746,0.004991298454741094,0.013160413146647012],[0.027276513099290862,0.002006714055925193,-0.0076634274529780244,0.0029736977777111264,0.004567647759759788,-0.0023937762963187445,-0.003334803154935731,-0.0066244321978406575,-0.0014550439008933695,0.009974965083958624,0.0024295486849701944,0.005047497138531941,0.004517257095302315,0.00879683646581519,0.01700582582233343,0.022318355628398154,0.0033136191963848627,0.006538802279634159,0.004873336480727336,0.008704000067041365,0.007143587909126826,0.0033739517494878403,0.00036072508830518803,-0.0007555278985107843,0.0015691844983810705,0.0008506437430745438,0.00517510420262858,0.00226871854358279,-0.004181797605458524,-0.0009362022503629349,-0.00041562855707219623,0.009194989179039985],[0.00862948713088963,-0.007893869514979848,-0.0028616261653361856,-0.003959859923741339,0.001928377898455081,0.006842009055906858,0.007849097946104508,-0.00031609944261384013,-0.008792177831237053,-0.003468581511410907,-0.009482317484853304,-0.001299566103032048,0.0033410714114400766,0.008021183749096045,0.005300768716224183,0.009412387165992225,0.02066307416924688,0.01288615525041687,0.0005915165177477355,-0.003233184730070775,0.01490008445178305,0.011483404258359092,-0.001431528571008476,-0.006946292726386176,-0.012462597472623271,-0.015701163191064616,-0.011066639545521102,0.0012013998875284148,0.0010991075464991942,-0.0009527181613907297,0.007461797962607527,0.011458652122400156],[0.008449886926982605,-0.01184096872773039,0.0021475769942267665,-0.012861788380462216,-0.01689299767828075,-0.010630269135777703,-0.004284914369932679,-0.006562173846981488,-0.0028076259594795806,0.00700814392643577,0.003666348189897821,0.0010903713136001982,-0.002508870188935238,-0.0026739183580914523,-0.0032913320968061964,0.009966253221671618,0.020026585206274615,0.008922514771409946,0.003116609190911949,0.003560378150849582,0.003027274894151816,-0.005050672634425248,0.003926718721760358,0.0063203355303092686,-0.012104893271046961,-0.002352995638284547,0.005577653462393181,-0.005045234175287228,-0.00954278920528247,-0.0005884533380857884,0.019791166954999738,0.021150181424482835],[0.024353249303861447,-0.0077031011670870885,0.003983972678762273,0.004895103704152085,-0.003180113263041263,-0.008923980492832247,-0.0072500425947923716,-0.004489138384235714,-0.01214193883774088,-0.0063423520964950636,-0.0009342853178906688,-0.00492389290232643,-0.010158696194120114,-0.007451437089387562,-0.010799021527156585,-0.011866588737935115,-0.00934586068986086,-0.0036171978227681695,0.007981818089381372,0.008807027801237325,-0.006123979747257621,-0.009747818243525696,0.0035571724496481104,-0.00561718298490594,-0.01181135523383112,-0.00545042966935001,0.007370455915056025,-0.004901508407579254,-0.008304357080955565,0.0012732044350489886,0.01917439546316204,0.02893194218924901],[0.01638313229785855,-0.004706215760722054,0.0005094228799810803,0.008974681765072254,0.007424452715624317,0.005240216187343119,0.002769488112043113,0.004395042557166292,-0.007911531973054952,-0.006589799501994836,-0.004302444470972084,-0.0030812265155797385,-0.01130829331428542,-0.0038917321972143223,0.0021851576382734272,0.006054859160117058,-0.010130734886664902,0.012057377804173658,0.0160878169824115,0.005915294102397476,-0.0022581111787054126,0.003255950362580461,-0.00437819457560361,-0.009758035865219188,-0.00895883814760713,-0.016421650653502196,-0.0063289159085243045,-0.009596426600735564,0.005217192986807182,-0.0003361250709628611,0.0017885256641401615,0.012578153896637962],[0.016772289747357522,-0.0024649469553318392,0.0024223690479244797,0.005210612713544381,0.001384652317789883,0.0008800500882972514,0.00040883820146761035,0.0019957008146634387,0.0012919672818086129,-0.01076142838666538,-0.008808656061513431,0.009574607464658534,-0.009212629894425723,0.006049622385456776,0.0038766664239801136,0.013345447966387645,-0.008027979624914906,-0.00829306584838219,-0.0010431266911539276,0.0008513106783565212,0.006218814982523423,0.005573401263749366,-0.0046013083171843674,0.00580131357648119,0.0011367705412261937,-0.005274235904934037,-0.008088081487451966,-0.004376014606197288,-0.004859148457237884,0.001201413777025543,0.018039259870544035,0.024786948880838214],[0.010963928570866243,-0.00705323690621551,-0.005383497492582903,-0.00874140172330587,-0.012119243024099969,-0.010871968081585342,-0.0002601057949505283,0.0006477674750737212,-0.0027865558741479667,-0.010698860875631709,0.0016589713422158277,0.017045963748165135,0.006294422620323277,0.004120721626906974,-0.006553147762497277,0.005625770037485262,-0.00317443802449309,-0.006168106070285487,0.000758974584605886,0.009084914881437514,0.006878865459627752,0.005187693493706726,-0.0005168715102097328,0.004966779450933598,0.004374233920804188,-0.0017582580243628058,-0.005077780365770244,-0.0019512146502105687,-0.0010809796801297352,-0.004000512000827862,0.011428639870378201,0.01864911204692844],[0.014384647716647336,-0.004468680754248424,0.003728612264749296,0.0074298832059609375,-0.002063690050923022,-0.01042806811071157,-0.0022854902595525,-0.001939010230895568,-0.005233915060337652,-0.00992345526613156,0.0051386746359164395,0.002624729762300569,-0.005495966084087013,-0.010812374493151746,-0.01227085272266625,-0.005984022621642024,0.0018361537094232798,0.00032169861927357354,-0.004886864409469804,0.0019404584385778014,-0.000894459729540032,0.0054414169993071875,0.005266341069192994,-0.0034530046402511828,0.0028754528931739572,0.008787903392370643,0.0024657299642646636,0.0063538051844076356,0.011930794184963678,0.008359322257870021,0.016779625542266568,0.014712138409343989],[0.028202588599585528,0.008080506160698171,0.012196302464043796,0.013174242383318989,0.004188180135425341,-0.00014470327221742217,-0.0009299689696044724,-0.010655796547022383,-0.008423274103402946,-0.0009961203462978928,0.005567612763363365,0.005113376681482083,0.0083365538080478,-0.007797778655263937,-0.005485027820667581,-0.01449314406459221,-0.010816224434078306,0.006943143553930205,0.006705000671276904,0.00422842088747715,0.004149702292366675,0.013008913994260284,0.015021655218866904,-0.001972999841317217,-0.006297735809935569,0.0044655513333923405,-0.004842985478709727,-0.001383284676269748,0.014496954756359296,0.011568312159903412,0.01140520279067638,0.003438880595238924],[0.02469690688179782,0.004926249603924997,0.005604779588812018,0.0012698277186168829,-0.010684978882496756,-0.002290276044846729,0.010446484449612659,0.007636956641519588,-0.0026853948249221347,0.0017745056988036228,0.002288303314689116,0.003711071412837706,0.0013640996113590648,-0.017738822626525555,-0.01395529108044469,-0.013698440630565195,-0.017789287627651994,-0.004041423322503727,0.0024663870039048465,-0.0014953631951146712,0.004036035486387391,0.004328786907564643,0.0027159780597312186,-0.004916353580581585,-0.005804791000639067,-0.007473736354610866,-0.011130395439699717,-0.005305356513233052,0.004083293546384043,0.010669296994445536,0.012769791773697603,0.01033567364505719],[0.025440165564880234,0.006846581107357016,0.008212261777940799,0.01272291652907438,0.0015269674391269715,-0.005023050573367966,0.001294100492198098,0.007553638577476241,-0.0021019865887289867,0.0031166972841958247,0.0016751884630083604,0.005945515008585942,-0.0017844304719057973,-0.011410351394334358,-0.010963853429081268,-0.0052933241239301486,0.0007428221852347649,-0.006843466892066658,-0.0072094835560679174,-0.006342117406423857,-0.004873835313912274,-0.0038475391974484296,-0.006189883394313003,-0.006752013790978679,0.009523635886170353,-0.0025461411705152404,-0.011428596687416678,-0.0021276762703878794,-0.0012778099725383853,0.005591649558325908,0.018982802920021323,0.0222480080051478],[0.045894603627421766,0.02253939214776136,0.015111581402753663,0.012760451348136937,0.004797712945420115,-0.0043011860745875265,-0.0038115629339169122,0.002593606347560371,-0.0008822067545357507,0.003896486009798234,9.90164012918916e-05,0.004837119501589432,-0.0008355744435829306,0.0003911832071238858,-0.005051526022224006,-0.009438233572468415,-0.005086621194393133,-0.0008116776427002494,-0.005144854896176261,0.0024571999684942594,0.0005921531317421389,0.00408698291083306,0.00043553537001080907,-0.0028237462699275684,0.00024184433849455797,0.004884429036524887,0.005944493810173278,0.005950027665298469,0.004442507459676706,0.017520409563519652,0.03375410415550636,0.03464209736279851],[0.055053003593728896,0.022647172624688263,0.01722432407768015,0.008827603830258345,0.00989840390899703,0.013994288766167103,0.01369241601005089,0.011927688943539861,0.004121831776669358,0.009385143347446822,0.011977275861346082,0.0017700996494242878,-0.002531412169936565,0.007879661361975624,0.005740711531675326,0.005809206581103295,-0.00509181796782436,0.0008062701687102464,0.001454222383758622,0.011831703807133912,0.003984582305627157,-0.002310522026088921,0.0012016925534106893,0.004280639989109918,0.0035861946922380065,0.0037956426942746756,0.005607066195119699,0.006021591128102379,0.009229937384825863,0.027869449548161417,0.029775519051297467,0.03569357744504975]],\"type\":\"heatmap\",\"xaxis\":\"x\",\"yaxis\":\"y\",\"hovertemplate\":\"x: %{x}<br>y: %{y}<br>color: %{z}<extra></extra>\"}],                        {\"template\":{\"data\":{\"histogram2dcontour\":[{\"type\":\"histogram2dcontour\",\"colorbar\":{\"outlinewidth\":0,\"ticks\":\"\"},\"colorscale\":[[0.0,\"#0d0887\"],[0.1111111111111111,\"#46039f\"],[0.2222222222222222,\"#7201a8\"],[0.3333333333333333,\"#9c179e\"],[0.4444444444444444,\"#bd3786\"],[0.5555555555555556,\"#d8576b\"],[0.6666666666666666,\"#ed7953\"],[0.7777777777777778,\"#fb9f3a\"],[0.8888888888888888,\"#fdca26\"],[1.0,\"#f0f921\"]]}],\"choropleth\":[{\"type\":\"choropleth\",\"colorbar\":{\"outlinewidth\":0,\"ticks\":\"\"}}],\"histogram2d\":[{\"type\":\"histogram2d\",\"colorbar\":{\"outlinewidth\":0,\"ticks\":\"\"},\"colorscale\":[[0.0,\"#0d0887\"],[0.1111111111111111,\"#46039f\"],[0.2222222222222222,\"#7201a8\"],[0.3333333333333333,\"#9c179e\"],[0.4444444444444444,\"#bd3786\"],[0.5555555555555556,\"#d8576b\"],[0.6666666666666666,\"#ed7953\"],[0.7777777777777778,\"#fb9f3a\"],[0.8888888888888888,\"#fdca26\"],[1.0,\"#f0f921\"]]}],\"heatmap\":[{\"type\":\"heatmap\",\"colorbar\":{\"outlinewidth\":0,\"ticks\":\"\"},\"colorscale\":[[0.0,\"#0d0887\"],[0.1111111111111111,\"#46039f\"],[0.2222222222222222,\"#7201a8\"],[0.3333333333333333,\"#9c179e\"],[0.4444444444444444,\"#bd3786\"],[0.5555555555555556,\"#d8576b\"],[0.6666666666666666,\"#ed7953\"],[0.7777777777777778,\"#fb9f3a\"],[0.8888888888888888,\"#fdca26\"],[1.0,\"#f0f921\"]]}],\"heatmapgl\":[{\"type\":\"heatmapgl\",\"colorbar\":{\"outlinewidth\":0,\"ticks\":\"\"},\"colorscale\":[[0.0,\"#0d0887\"],[0.1111111111111111,\"#46039f\"],[0.2222222222222222,\"#7201a8\"],[0.3333333333333333,\"#9c179e\"],[0.4444444444444444,\"#bd3786\"],[0.5555555555555556,\"#d8576b\"],[0.6666666666666666,\"#ed7953\"],[0.7777777777777778,\"#fb9f3a\"],[0.8888888888888888,\"#fdca26\"],[1.0,\"#f0f921\"]]}],\"contourcarpet\":[{\"type\":\"contourcarpet\",\"colorbar\":{\"outlinewidth\":0,\"ticks\":\"\"}}],\"contour\":[{\"type\":\"contour\",\"colorbar\":{\"outlinewidth\":0,\"ticks\":\"\"},\"colorscale\":[[0.0,\"#0d0887\"],[0.1111111111111111,\"#46039f\"],[0.2222222222222222,\"#7201a8\"],[0.3333333333333333,\"#9c179e\"],[0.4444444444444444,\"#bd3786\"],[0.5555555555555556,\"#d8576b\"],[0.6666666666666666,\"#ed7953\"],[0.7777777777777778,\"#fb9f3a\"],[0.8888888888888888,\"#fdca26\"],[1.0,\"#f0f921\"]]}],\"surface\":[{\"type\":\"surface\",\"colorbar\":{\"outlinewidth\":0,\"ticks\":\"\"},\"colorscale\":[[0.0,\"#0d0887\"],[0.1111111111111111,\"#46039f\"],[0.2222222222222222,\"#7201a8\"],[0.3333333333333333,\"#9c179e\"],[0.4444444444444444,\"#bd3786\"],[0.5555555555555556,\"#d8576b\"],[0.6666666666666666,\"#ed7953\"],[0.7777777777777778,\"#fb9f3a\"],[0.8888888888888888,\"#fdca26\"],[1.0,\"#f0f921\"]]}],\"mesh3d\":[{\"type\":\"mesh3d\",\"colorbar\":{\"outlinewidth\":0,\"ticks\":\"\"}}],\"scatter\":[{\"fillpattern\":{\"fillmode\":\"overlay\",\"size\":10,\"solidity\":0.2},\"type\":\"scatter\"}],\"parcoords\":[{\"type\":\"parcoords\",\"line\":{\"colorbar\":{\"outlinewidth\":0,\"ticks\":\"\"}}}],\"scatterpolargl\":[{\"type\":\"scatterpolargl\",\"marker\":{\"colorbar\":{\"outlinewidth\":0,\"ticks\":\"\"}}}],\"bar\":[{\"error_x\":{\"color\":\"#2a3f5f\"},\"error_y\":{\"color\":\"#2a3f5f\"},\"marker\":{\"line\":{\"color\":\"#E5ECF6\",\"width\":0.5},\"pattern\":{\"fillmode\":\"overlay\",\"size\":10,\"solidity\":0.2}},\"type\":\"bar\"}],\"scattergeo\":[{\"type\":\"scattergeo\",\"marker\":{\"colorbar\":{\"outlinewidth\":0,\"ticks\":\"\"}}}],\"scatterpolar\":[{\"type\":\"scatterpolar\",\"marker\":{\"colorbar\":{\"outlinewidth\":0,\"ticks\":\"\"}}}],\"histogram\":[{\"marker\":{\"pattern\":{\"fillmode\":\"overlay\",\"size\":10,\"solidity\":0.2}},\"type\":\"histogram\"}],\"scattergl\":[{\"type\":\"scattergl\",\"marker\":{\"colorbar\":{\"outlinewidth\":0,\"ticks\":\"\"}}}],\"scatter3d\":[{\"type\":\"scatter3d\",\"line\":{\"colorbar\":{\"outlinewidth\":0,\"ticks\":\"\"}},\"marker\":{\"colorbar\":{\"outlinewidth\":0,\"ticks\":\"\"}}}],\"scattermapbox\":[{\"type\":\"scattermapbox\",\"marker\":{\"colorbar\":{\"outlinewidth\":0,\"ticks\":\"\"}}}],\"scatterternary\":[{\"type\":\"scatterternary\",\"marker\":{\"colorbar\":{\"outlinewidth\":0,\"ticks\":\"\"}}}],\"scattercarpet\":[{\"type\":\"scattercarpet\",\"marker\":{\"colorbar\":{\"outlinewidth\":0,\"ticks\":\"\"}}}],\"carpet\":[{\"aaxis\":{\"endlinecolor\":\"#2a3f5f\",\"gridcolor\":\"white\",\"linecolor\":\"white\",\"minorgridcolor\":\"white\",\"startlinecolor\":\"#2a3f5f\"},\"baxis\":{\"endlinecolor\":\"#2a3f5f\",\"gridcolor\":\"white\",\"linecolor\":\"white\",\"minorgridcolor\":\"white\",\"startlinecolor\":\"#2a3f5f\"},\"type\":\"carpet\"}],\"table\":[{\"cells\":{\"fill\":{\"color\":\"#EBF0F8\"},\"line\":{\"color\":\"white\"}},\"header\":{\"fill\":{\"color\":\"#C8D4E3\"},\"line\":{\"color\":\"white\"}},\"type\":\"table\"}],\"barpolar\":[{\"marker\":{\"line\":{\"color\":\"#E5ECF6\",\"width\":0.5},\"pattern\":{\"fillmode\":\"overlay\",\"size\":10,\"solidity\":0.2}},\"type\":\"barpolar\"}],\"pie\":[{\"automargin\":true,\"type\":\"pie\"}]},\"layout\":{\"autotypenumbers\":\"strict\",\"colorway\":[\"#636efa\",\"#EF553B\",\"#00cc96\",\"#ab63fa\",\"#FFA15A\",\"#19d3f3\",\"#FF6692\",\"#B6E880\",\"#FF97FF\",\"#FECB52\"],\"font\":{\"color\":\"#2a3f5f\"},\"hovermode\":\"closest\",\"hoverlabel\":{\"align\":\"left\"},\"paper_bgcolor\":\"white\",\"plot_bgcolor\":\"#E5ECF6\",\"polar\":{\"bgcolor\":\"#E5ECF6\",\"angularaxis\":{\"gridcolor\":\"white\",\"linecolor\":\"white\",\"ticks\":\"\"},\"radialaxis\":{\"gridcolor\":\"white\",\"linecolor\":\"white\",\"ticks\":\"\"}},\"ternary\":{\"bgcolor\":\"#E5ECF6\",\"aaxis\":{\"gridcolor\":\"white\",\"linecolor\":\"white\",\"ticks\":\"\"},\"baxis\":{\"gridcolor\":\"white\",\"linecolor\":\"white\",\"ticks\":\"\"},\"caxis\":{\"gridcolor\":\"white\",\"linecolor\":\"white\",\"ticks\":\"\"}},\"coloraxis\":{\"colorbar\":{\"outlinewidth\":0,\"ticks\":\"\"}},\"colorscale\":{\"sequential\":[[0.0,\"#0d0887\"],[0.1111111111111111,\"#46039f\"],[0.2222222222222222,\"#7201a8\"],[0.3333333333333333,\"#9c179e\"],[0.4444444444444444,\"#bd3786\"],[0.5555555555555556,\"#d8576b\"],[0.6666666666666666,\"#ed7953\"],[0.7777777777777778,\"#fb9f3a\"],[0.8888888888888888,\"#fdca26\"],[1.0,\"#f0f921\"]],\"sequentialminus\":[[0.0,\"#0d0887\"],[0.1111111111111111,\"#46039f\"],[0.2222222222222222,\"#7201a8\"],[0.3333333333333333,\"#9c179e\"],[0.4444444444444444,\"#bd3786\"],[0.5555555555555556,\"#d8576b\"],[0.6666666666666666,\"#ed7953\"],[0.7777777777777778,\"#fb9f3a\"],[0.8888888888888888,\"#fdca26\"],[1.0,\"#f0f921\"]],\"diverging\":[[0,\"#8e0152\"],[0.1,\"#c51b7d\"],[0.2,\"#de77ae\"],[0.3,\"#f1b6da\"],[0.4,\"#fde0ef\"],[0.5,\"#f7f7f7\"],[0.6,\"#e6f5d0\"],[0.7,\"#b8e186\"],[0.8,\"#7fbc41\"],[0.9,\"#4d9221\"],[1,\"#276419\"]]},\"xaxis\":{\"gridcolor\":\"white\",\"linecolor\":\"white\",\"ticks\":\"\",\"title\":{\"standoff\":15},\"zerolinecolor\":\"white\",\"automargin\":true,\"zerolinewidth\":2},\"yaxis\":{\"gridcolor\":\"white\",\"linecolor\":\"white\",\"ticks\":\"\",\"title\":{\"standoff\":15},\"zerolinecolor\":\"white\",\"automargin\":true,\"zerolinewidth\":2},\"scene\":{\"xaxis\":{\"backgroundcolor\":\"#E5ECF6\",\"gridcolor\":\"white\",\"linecolor\":\"white\",\"showbackground\":true,\"ticks\":\"\",\"zerolinecolor\":\"white\",\"gridwidth\":2},\"yaxis\":{\"backgroundcolor\":\"#E5ECF6\",\"gridcolor\":\"white\",\"linecolor\":\"white\",\"showbackground\":true,\"ticks\":\"\",\"zerolinecolor\":\"white\",\"gridwidth\":2},\"zaxis\":{\"backgroundcolor\":\"#E5ECF6\",\"gridcolor\":\"white\",\"linecolor\":\"white\",\"showbackground\":true,\"ticks\":\"\",\"zerolinecolor\":\"white\",\"gridwidth\":2}},\"shapedefaults\":{\"line\":{\"color\":\"#2a3f5f\"}},\"annotationdefaults\":{\"arrowcolor\":\"#2a3f5f\",\"arrowhead\":0,\"arrowwidth\":1},\"geo\":{\"bgcolor\":\"white\",\"landcolor\":\"#E5ECF6\",\"subunitcolor\":\"white\",\"showland\":true,\"showlakes\":true,\"lakecolor\":\"white\"},\"title\":{\"x\":0.05},\"mapbox\":{\"style\":\"light\"}}},\"xaxis\":{\"anchor\":\"y\",\"domain\":[0.0,1.0],\"scaleanchor\":\"y\",\"constrain\":\"domain\",\"side\":\"top\"},\"yaxis\":{\"anchor\":\"x\",\"domain\":[0.0,1.0],\"autorange\":\"reversed\",\"constrain\":\"domain\"},\"coloraxis\":{\"colorscale\":[[0.0,\"#0d0887\"],[0.1111111111111111,\"#46039f\"],[0.2222222222222222,\"#7201a8\"],[0.3333333333333333,\"#9c179e\"],[0.4444444444444444,\"#bd3786\"],[0.5555555555555556,\"#d8576b\"],[0.6666666666666666,\"#ed7953\"],[0.7777777777777778,\"#fb9f3a\"],[0.8888888888888888,\"#fdca26\"],[1.0,\"#f0f921\"]]},\"margin\":{\"t\":60}},                        {\"responsive\": true}                    ).then(function(){\n",
       "                            \n",
       "var gd = document.getElementById('a7e128b3-e528-44d5-9fe6-45d09f96937e');\n",
       "var x = new MutationObserver(function (mutations, observer) {{\n",
       "        var display = window.getComputedStyle(gd).display;\n",
       "        if (!display || display === 'none') {{\n",
       "            console.log([gd, 'removed!']);\n",
       "            Plotly.purge(gd);\n",
       "            observer.disconnect();\n",
       "        }}\n",
       "}});\n",
       "\n",
       "// Listen for the removal of the full notebook cells\n",
       "var notebookContainer = gd.closest('#notebook-container');\n",
       "if (notebookContainer) {{\n",
       "    x.observe(notebookContainer, {childList: true});\n",
       "}}\n",
       "\n",
       "// Listen for the clearing of the current output cell\n",
       "var outputEl = gd.closest('.output');\n",
       "if (outputEl) {{\n",
       "    x.observe(outputEl, {childList: true});\n",
       "}}\n",
       "\n",
       "                        })                };                });            </script>        </div>"
      ]
     },
     "metadata": {},
     "output_type": "display_data"
    }
   ],
   "source": [
    "resultsl2_g = np.array(resultsl2_g)\n",
    "resultsl2_g = resultsl2_g.reshape([32,32])\n",
    "\n",
    "fig_g = px.imshow(resultsl2_g)\n",
    "fig_g.update_xaxes(side=\"top\")\n",
    "fig_g.show()"
   ]
  },
  {
   "cell_type": "code",
   "execution_count": 264,
   "id": "28341aa6-dea0-492c-bbf5-7fe7f60a4858",
   "metadata": {},
   "outputs": [
    {
     "data": {
      "application/vnd.plotly.v1+json": {
       "config": {
        "plotlyServerURL": "https://plot.ly"
       },
       "data": [
        {
         "coloraxis": "coloraxis",
         "hovertemplate": "x: %{x}<br>y: %{y}<br>color: %{z}<extra></extra>",
         "name": "0",
         "type": "heatmap",
         "xaxis": "x",
         "yaxis": "y",
         "z": [
          [
           0.005330362738584114,
           -0.00046951999833525014,
           -0.0007960061717765666,
           -0.005888638002282562,
           -0.004656807549183286,
           0.007606311311274236,
           0.003488190599497558,
           0.005643543045106346,
           0.012726631420210263,
           0.007083923244324161,
           -0.0018354151847140118,
           -0.003716459106466443,
           0.003120653245035073,
           -0.005877605069680798,
           -0.006304874962626769,
           -0.005343407418408101,
           0.002516815417681715,
           0.005217089967655704,
           0.001522976132170091,
           0.004663533775557179,
           -0.0016546808734950354,
           0.00039263597629773196,
           -0.0003107695268408375,
           0.00974095983563102,
           0.008511999582231927,
           0.0071386728380871175,
           0.006893754788833827,
           0.0037655804696567433,
           0.001706817307627276,
           0.006524828024673172,
           0.013345644781564145,
           0.01619527368182659
          ],
          [
           0.0026534526708017502,
           -0.007585874206493089,
           -0.0077256278520171605,
           -0.0070446741730545055,
           -0.00032928470246612477,
           0.007029453998897488,
           0.004845487260741701,
           0.0077059316981961425,
           0.0002571946443992724,
           0.002673529061035032,
           -0.003460160200583551,
           -0.005591371127155446,
           0.0016693456287951527,
           -0.002281799590515562,
           0.002260466595172905,
           -0.005306468744459615,
           -0.0032811074477135382,
           0.005440791782597155,
           0.007131802003682347,
           0.005682047586275113,
           -0.000478454646674422,
           0.0007811211596496008,
           -0.0012940057168578112,
           0.003722733119539938,
           0.0026873543340574122,
           0.004358734210401157,
           0.003806140661615362,
           -0.005769995200541669,
           -0.006629547546183419,
           -8.292550473207015e-05,
           0.006159064619482942,
           0.003659396842551457
          ],
          [
           7.450130567685143e-06,
           -0.01323064254983212,
           -0.010915683896064206,
           -0.007357674257015345,
           0.000696919878540987,
           0.004274766060260057,
           0.004932987873588631,
           0.007543366246482348,
           -0.002636748032901307,
           -0.003621118969616989,
           0.0006923236842461431,
           0.004007125417192549,
           0.005087620638024116,
           -0.0006835199207941886,
           0.0031330759406973567,
           -0.010934195649340905,
           -0.007889546850555562,
           -0.00589480027860717,
           0.004747317411577158,
           0.007121947376370088,
           0.003051090679965776,
           -0.003608812749969258,
           -0.0008963276472953089,
           0.009238517778742412,
           0.00509056347654302,
           0.005198977668912111,
           0.0003013066601618776,
           0.0016004536217446195,
           0.005291893522724627,
           0.004658901294647302,
           0.009104233328283967,
           0.0008213305706225402
          ],
          [
           -0.002588974507612947,
           -0.01279768123500591,
           -0.008551669053572908,
           -0.0027812674520356403,
           -0.008551315811837388,
           -0.008269104826884466,
           -0.0010377054329840586,
           0.0022588823900717256,
           0.005812682565561417,
           0.0031942501794316657,
           0.005910563497819049,
           0.001576542373036327,
           -0.0045057937463432,
           -0.0031562183159467255,
           0.0037617770498376275,
           -0.006118804790379534,
           -0.0025434586932447083,
           -0.010609774871904794,
           -0.0009400214301788077,
           -0.004086880087478774,
           -0.0045627385602931315,
           -0.005639206472156732,
           -0.0014288157433261697,
           0.003187897886902855,
           0.010247429156458416,
           0.007771811591842386,
           0.0029789604213680816,
           0.011287980134562434,
           0.006284544949127103,
           -0.0017361986870375915,
           0.005382043329276574,
           0.003909254713332743
          ],
          [
           -0.0026096192218087416,
           -0.0026615693683230014,
           0.00017008636583035268,
           0.0032892594995815273,
           -0.004632299253399946,
           -0.00044072160741417265,
           0.0022229825315538345,
           -0.0012101634826965008,
           0.0019031201689412413,
           0.0023847133818391732,
           0.0036514937744751307,
           0.005268424786352233,
           0.003896421272530779,
           0.0021030050861531647,
           0.006258601284558931,
           0.003796543023491272,
           0.0009068821309414508,
           -0.0023019026413528968,
           0.005711143349332604,
           0.00521433178475744,
           0.0032777469522202933,
           -0.006543462191690674,
           -0.00881896430351431,
           -0.013171288279500122,
           -0.002093388903301918,
           -0.0011369613828521416,
           -0.0005722563733020087,
           0.0028008887287536326,
           0.00027128863646269,
           -0.0033096358053467155,
           0.0014262271401760819,
           0.004219591373796975
          ],
          [
           0.006602498495684546,
           0.0059866233028357165,
           0.002792308364100678,
           0.0048087449332123115,
           0.0016618730156478065,
           0.0028458554251046897,
           -3.2662698233512356e-05,
           -0.004503847937134774,
           -0.01032509880939362,
           -0.008769846495964163,
           0.001062365463870465,
           0.007429588862814541,
           0.0010727365484849243,
           -0.0006289950196111505,
           0.005231016865311862,
           -0.0013376275794397443,
           -0.004897300683018479,
           -0.005776721481085391,
           0.0006478388398671417,
           0.003494028756316713,
           0.003936788598727496,
           -0.005960940388446449,
           -0.007325685520188238,
           -0.0031025495452538863,
           -0.002231383876058271,
           -0.0015326227954093534,
           0.0008869352241191771,
           -0.000913077145303909,
           0.0016888093371113045,
           0.0024589924379406487,
           0.0029198741724317033,
           0.0010911848387030417
          ],
          [
           0.014110193452507629,
           0.0036050076136455358,
           -0.0045457007813281885,
           -0.002804582258562106,
           0.0004924560285674985,
           -0.0003484927311942398,
           -0.0009341417455921726,
           -0.0005827855957996161,
           -0.0021244616153765186,
           -0.004679284678422032,
           0.004770337982914303,
           0.00036368094224551584,
           -0.011513166551245863,
           -0.0009243360994092926,
           0.004858137567440236,
           -0.0006841361705926163,
           -0.002866705936320428,
           -0.006982017232966425,
           -0.012134683595789267,
           -0.008728282813267374,
           -0.0038160066984071345,
           -0.005797703343849959,
           -0.013607766391543994,
           -0.004434071566021941,
           0.00367453158006476,
           0.0037281843139828665,
           0.0010166491149575195,
           -0.0033486714679317013,
           0.0019333758724583597,
           0.005121576017726878,
           0.0028057882019981075,
           0.0014564428063269415
          ],
          [
           0.016381946521447352,
           0.007666174924554888,
           -0.0024944924508373788,
           -0.006811842342554551,
           -0.001173333694232184,
           -0.001873743283128594,
           -0.0019141029381544283,
           0.006776400221405474,
           0.008576456485280447,
           0.005804519005573021,
           0.016224258331306796,
           0.009047534117509255,
           -0.009915147153088534,
           -0.0011240507174114232,
           0.00439437635612161,
           -0.004576300291360843,
           -0.0061717253602875015,
           -0.005645812968989164,
           -0.007366744616589605,
           -0.003784280941921093,
           -0.002064186599628959,
           -0.0026913420680303164,
           -0.004285555699711292,
           -0.0005273386465940665,
           -0.004586522759037666,
           -0.0018870932160326504,
           -0.0014108829331483947,
           1.9596937668088157e-05,
           0.0012729536476111488,
           0.00970723148804136,
           0.000924178375116478,
           0.003215624871855664
          ],
          [
           0.00019034979448781013,
           -0.006121389706937804,
           -0.007205061502036057,
           -0.011382249159732639,
           -0.012502170338178823,
           -0.0005474433284755216,
           -0.005921339550352879,
           0.009182572608956203,
           -0.0007855906582696301,
           -0.0014302948548538803,
           -0.001760246326789995,
           -0.00019918476797416772,
           -0.007226159454240647,
           0.0053990004462928535,
           0.006294329708040809,
           -0.0038381936714297284,
           -0.009525594975335712,
           0.0022428984583465783,
           0.002294558186448768,
           -0.004756439513959608,
           -0.005585677802592207,
           -0.005138862360120884,
           -0.0008229656603191823,
           0.00830532756674638,
           -0.00324927200823542,
           0.0034823618560633303,
           -0.009263842269017815,
           0.005013257722912951,
           0.003934961675341616,
           0.0004261579373955417,
           0.00229218845943901,
           -0.0035698135076352036
          ],
          [
           0.004257053604984331,
           0.00667569070220366,
           -0.0005326664975097878,
           -0.006791388862595341,
           0.0024302727760673604,
           0.010030625373368969,
           -0.002454937460166391,
           -0.002819882385278615,
           -0.009221059857732947,
           5.260937328318687e-05,
           0.005210840604578752,
           0.007613556351642931,
           0.00015850677100071365,
           -0.0032280232784259303,
           -0.001666792545057406,
           -0.010342965871660378,
           0.0023272917480724963,
           0.012870156654676652,
           -0.001883419743319102,
           0.006955386384694017,
           0.0064861842111104,
           -0.0028597566046411863,
           -0.004949665732139372,
           -0.004416766581029474,
           -0.0012402898012647211,
           0.008515674471871916,
           0.007157247596257253,
           0.009886989255164886,
           -0.0032728282937451755,
           0.0028357886581245606,
           0.011027762642804565,
           -0.0010661350567109022
          ],
          [
           -0.0005572264742182531,
           0.0040988987032496175,
           0.004043431843644536,
           0.0034248466608083144,
           0.009172496294829075,
           0.005853806851334258,
           0.005838853729046091,
           0.0009530456930686637,
           -0.0051906929064267525,
           -0.003385575340099151,
           -0.0011889318636019834,
           -0.00023243718551593462,
           -0.009147136595337816,
           -0.00883714509115715,
           0.0006871840293995241,
           -0.007503783960291112,
           0.010777605281245137,
           0.010894213711515562,
           0.002696197070780653,
           0.021752963435962766,
           0.016268945050357475,
           -0.0004090631809165976,
           0.004326896871332045,
           0.005134635056818744,
           -0.0019399987454586734,
           0.0069115177106382555,
           0.0055286426387777905,
           0.01033117418679087,
           -0.0059240325423376185,
           -9.726074333661585e-05,
           0.007914298510380923,
           -0.0002324916314067645
          ],
          [
           0.008501856228526809,
           0.004057145816186561,
           0.005482566890139089,
           0.0035142841425132697,
           0.004824651343269981,
           -0.0008047471709297319,
           0.007444309812147195,
           -0.00010503156055742566,
           -0.0006160864224109454,
           0.004460503019625866,
           -0.0030544001171499396,
           0.002161197026298216,
           -0.001495728965540888,
           -0.002082123868797479,
           -0.0026208743847780736,
           -0.007943447340017187,
           -0.008679197484289759,
           0.0003298041108234641,
           3.195261392174313e-05,
           0.012218227476434274,
           0.006370594351381738,
           -0.00015747116471667545,
           0.009886852020466637,
           0.009263929158336138,
           -0.0016126702300384593,
           -0.003780411801441914,
           -0.007810165162722777,
           -0.0035905073561438437,
           -0.004467374292009482,
           -0.0031031579288461632,
           -0.008553351534272035,
           -0.0035805011884331066
          ],
          [
           0.014761367470974283,
           0.003967741001007112,
           0.004921487196038255,
           -0.007980404865927574,
           -0.011717021588138936,
           -0.007609010156966955,
           0.00013684437498966002,
           -0.0043273746530085935,
           0.00023764024598212465,
           0.008042827236034819,
           0.007759405700601881,
           0.0070375203410459105,
           0.006080170704518032,
           0.007736669411427228,
           -0.0005774765743583602,
           -0.01035776966060586,
           -0.007509765435127719,
           0.003739245657905691,
           0.0011833525500680835,
           -0.0021686947694869296,
           0.0006233228317054509,
           0.001045891412446691,
           0.00492430742243488,
           0.009484666539479407,
           0.007448758989843324,
           0.005261192993643785,
           0.0025086237180970933,
           0.004728649477150335,
           0.003725054283350262,
           -0.0016047862358753934,
           -0.014547424646999192,
           -5.288081764669082e-05
          ],
          [
           0.0037419914391141245,
           -0.00339773830500641,
           0.0039000362265830604,
           -0.0029322456002539104,
           -0.0029586924071966854,
           0.00954448092576809,
           0.0008580209660470174,
           -0.0030063553056547732,
           0.0031648561328294187,
           0.010715840988516214,
           0.0061092378993522906,
           0.006824597638709261,
           0.0010557298690828546,
           0.004150884021593469,
           0.0011298339489820529,
           -0.00244184847732541,
           -0.0029918211442732105,
           0.007694948287886765,
           0.0016278396854136718,
           -0.00745896947803539,
           0.010482236771712176,
           -0.0022526629515968242,
           -0.00823821580054488,
           -0.004335307545606279,
           0.009744758833450756,
           0.006999535240878111,
           0.0030673622246573102,
           0.0033181394289124627,
           -0.000314729382549736,
           0.0007484611041314902,
           -0.004933787326777239,
           -0.0017021103965273064
          ],
          [
           -0.0025659372198734267,
           -0.007474873524264304,
           0.007605483134268028,
           -0.0009475656940646848,
           -0.007394811030538385,
           0.0059062719123142045,
           0.0030862035205496356,
           0.011706410231358537,
           0.005541359761296812,
           0.01588900137993095,
           0.012418031736793931,
           0.01370352177797315,
           0.00970127988281655,
           0.012365802549687447,
           -0.0017795876509883958,
           0.006101938525077133,
           0.0024708300476069,
           -0.008304709907434465,
           -0.0023871085750549787,
           0.008319816318306406,
           0.020018220260491774,
           0.01168511632836298,
           0.005907598441584879,
           -0.0034184432417548477,
           0.0038809309423332742,
           -0.007550731717058358,
           -0.009829545521645075,
           -0.005171837032576823,
           -0.0049164967441008515,
           -0.004160028421416264,
           -0.0018110421447235158,
           -0.006437973939081608
          ],
          [
           -0.0033471570392922677,
           -0.006613804016462418,
           0.006874473724382374,
           0.0012913569607319814,
           -0.0034841430101245434,
           0.008721342339885859,
           -0.002373294034671966,
           0.010904580701206765,
           0.007944901797393147,
           0.021443997801777966,
           0.008873961035925117,
           0.004908820395831948,
           0.011961121851281417,
           0.019743815588049968,
           -0.0040538278420768304,
           4.782723262294956e-05,
           0.006783793459402991,
           0.0015454936497272963,
           0.014802116896498359,
           0.02190169830544834,
           0.0021736702197494968,
           0.01035055851607291,
           0.00942649481813853,
           0.005968139080299347,
           0.00612225548411489,
           -0.0046842781667512014,
           -0.005938447788750678,
           -0.0053956301967937464,
           -0.0043696297850732415,
           -0.005859926947706903,
           0.0002903610563353236,
           -0.008199014263489688
          ],
          [
           0.012446549908736566,
           0.011845642819510165,
           0.008071679109800686,
           0.010706390261920825,
           0.0018129529473602899,
           0.00804010601197253,
           -0.002205890449004092,
           -0.00267619576499214,
           -0.009950633502845746,
           0.004803978958755619,
           -0.008087446036664555,
           -0.0021228901304015586,
           -0.0030367385394117754,
           0.004530925768057054,
           0.0005173710076075892,
           -0.0035050788825735585,
           0.0015442741327239132,
           0.0014042091625196189,
           0.0013761670265336242,
           -0.002275794584183886,
           -0.004802586395443579,
           -0.012517259058280597,
           -0.006159627015712873,
           0.013150495369356405,
           0.016386576818595094,
           0.006778013534337555,
           0.001245603792341959,
           0.0059089674126396085,
           0.0017913666743104946,
           -0.0056314759348266566,
           -0.005559358999447865,
           -0.002035359169481416
          ],
          [
           0.013548906604414785,
           0.001584380812807943,
           0.007425915901788455,
           0.011384358702569248,
           0.0020691626019724765,
           0.0008061889710782924,
           0.00415805742413795,
           0.013986925214837444,
           -0.008556787621772213,
           -0.0033709426141029534,
           -0.0052347435353483065,
           0.0011753728815999023,
           0.0029115072186890302,
           0.006804108783369716,
           0.0031486247817823425,
           0.0013870195991318526,
           -0.009429213276995934,
           -0.002162342358812614,
           -0.0051013327299189734,
           0.005077929043236652,
           0.008557208116830636,
           0.004082173299081989,
           0.0061819632854801,
           0.009676471379192307,
           0.0018977911233994272,
           0.002558937711555874,
           -0.0007197802884104231,
           0.0005232891771207615,
           0.0015413537624619671,
           0.005974064158892395,
           0.008734925397852577,
           0.0023344144148588915
          ],
          [
           0.013105246077414557,
           -0.000834616508897808,
           0.004979912712401254,
           0.00642692275582802,
           -0.0052968581851824395,
           -0.011943666334267222,
           -2.587999745594676e-05,
           0.008243963714969287,
           -0.007053445129695135,
           0.001983715369657221,
           -0.00300320959332446,
           0.007008178010715661,
           0.005492578211253464,
           -0.0013742862959062261,
           -0.004520534970241658,
           -0.011902937265012598,
           -0.012134626801515561,
           0.0002643768403774694,
           -0.0030356498513414696,
           -0.004258655475076115,
           -6.0241447052635634e-05,
           0.005859319606675793,
           0.009264244774787598,
           0.01186556692192576,
           -0.0023769340017179897,
           0.005692487941664491,
           0.010010963679061608,
           -0.0034273217904792277,
           -0.005516230207728855,
           0.004869619092377614,
           0.008406129708060902,
           0.013396544860079601
          ],
          [
           0.015925177355702078,
           -0.002373487663265848,
           -0.006516408310835916,
           0.0040828795496689885,
           0.0035275848393266935,
           -0.004011468955088662,
           9.849057397628725e-05,
           -0.004119883185382394,
           0.002400732360800689,
           0.010937238830151512,
           -0.0010399484921958337,
           -0.00038352324070113484,
           -0.005669396502552292,
           -0.0056910908837669825,
           -0.0018573641152693297,
           -0.004247952828501048,
           -0.00850102320186746,
           -0.0022573111784126997,
           -0.002183981349067876,
           0.0003233532884426219,
           0.0020234175684591695,
           -0.0009010856346110662,
           -0.0002269523079402704,
           0.0014003440580464598,
           0.005624706447623011,
           0.007543713813801803,
           0.013013497446576863,
           0.008427310310034375,
           0.0010074602694545543,
           0.0021285930208279733,
           0.0032704375734816616,
           0.013452701515906945
          ],
          [
           0.002547971361061316,
           -0.009888888818523943,
           -0.002205879952744127,
           0.0012663154929686833,
           0.005081640644546555,
           0.004915281211181219,
           0.007028143455489855,
           0.0021448723332796026,
           -0.003891666582039968,
           0.0016280951036583555,
           -0.010573597419044407,
           -0.007883147753566775,
           -0.005369960036804953,
           -0.0035848254526353895,
           -0.012046672561994504,
           -0.014583561042795802,
           0.009795584875454042,
           0.0038402202978890377,
           -0.007773759182100429,
           -0.01139937590937104,
           0.0063765004876797015,
           0.0003904751560634953,
           -0.00819007412785903,
           -0.009193461232089042,
           -0.009876306450189156,
           -0.008225347956127624,
           -0.002522673675661547,
           0.006759370412540615,
           0.0030988790302733044,
           -0.0007590515241360529,
           0.007443399407812973,
           0.008979621332821479
          ],
          [
           0.0040371827763021695,
           -0.008781809017351311,
           0.006916553460650462,
           -0.00544246191387223,
           -0.012572806737133279,
           -0.008762862189757104,
           -0.003438087616956122,
           -0.0037378022812483086,
           0.003685640715665578,
           0.011272392794707096,
           0.0033073765193887745,
           -0.002477022421314129,
           -0.006240506901676941,
           -0.009808321522895519,
           -0.01261707468066115,
           -0.00623203551968642,
           0.011708078133780749,
           -0.001381261672449781,
           -0.006223297976285411,
           -0.007116823918540234,
           -0.00774811822790625,
           -0.014251628008282327,
           -0.002659948947633787,
           0.003184222594951309,
           -0.004798391576502763,
           0.00957054493194256,
           0.01614895744580461,
           0.0009628910600547307,
           -0.007522287199266414,
           -0.0021206285112193818,
           0.014712045258762557,
           0.01313661979514486
          ],
          [
           0.018046805426883056,
           -0.006037617311647828,
           0.0070375401404084124,
           0.010629509060743106,
           0.00014145876559296992,
           -0.006208079869662489,
           -0.00594465127086175,
           -0.0018809695480248355,
           -0.006817289858377409,
           -0.0005750660162317297,
           0.003683642375742501,
           -0.00206000239124803,
           -0.007017640058271916,
           -0.007904845322938206,
           -0.012556316609042285,
           -0.017142460949885207,
           -0.014310551592607069,
           -0.0091848439785001,
           0.0006240228162165441,
           0.000989615082122205,
           -0.015177990865785264,
           -0.017608557674508512,
           -0.0034818595929838416,
           -0.003624682353349938,
           -0.0035404405765388004,
           0.00594786172661298,
           0.016005454023039694,
           0.0003457255053164919,
           -0.006794520381741618,
           -0.0011727627841508295,
           0.012751888531637296,
           0.019501421707341253
          ],
          [
           0.012072967106116732,
           -0.004929035197643521,
           0.0010389490593893317,
           0.00948472148679891,
           0.00536994430530324,
           0.005560664121480966,
           0.0020444262891229246,
           0.003818551742420178,
           -0.004738676710168029,
           -0.0031342588846695906,
           4.1131732138808445e-05,
           0.0020764965880160097,
           -0.006058857059084899,
           -0.00020076312835003586,
           0.0021931657427432154,
           0.006019836894983795,
           -0.01679359014829389,
           0.0063445379445459735,
           0.010071878450537732,
           -0.0002547444880253705,
           -0.008927768939366258,
           -0.0027319051858567013,
           -0.009276579590699077,
           -0.007038982900140438,
           -0.0016212907824654941,
           -0.0066187199625506645,
           0.0006013459436349235,
           -0.005541483477364636,
           0.005169675359607391,
           -0.00438638891997223,
           -0.003484824704537301,
           0.0033602313960434727
          ],
          [
           0.011074555980643951,
           -0.0043278217854427195,
           0.0019171403870861976,
           0.004651203841817777,
           0.0017671421637055161,
           0.00121736700827322,
           0.0008898198242228195,
           0.002665591489520554,
           0.001627689046301422,
           -0.009895942589650989,
           -0.007779443027555664,
           0.009698413779047108,
           -0.006703255080157801,
           0.0067667289912240955,
           0.0022993531189313787,
           0.009625284967186983,
           -0.013636510085468788,
           -0.012394604196930168,
           -0.005024491252853356,
           -0.004012961137259955,
           0.0004931864174740699,
           -0.0016555130095685408,
           -0.012046949990591907,
           -5.2378629056957944e-05,
           0.00222603780482748,
           -0.0012811042773745026,
           -0.004451705291420206,
           -0.0021631811077283667,
           -0.0031619613339012678,
           -0.0027925150651855017,
           0.009821661817524535,
           0.011377238559582184
          ],
          [
           0.004088919227194721,
           -0.009309403046594725,
           -0.00510874876424772,
           -0.0053701026483881364,
           -0.00808442772196677,
           -0.008486247120184226,
           0.0011537176131937803,
           0.0005307280238984266,
           -0.003117172426142421,
           -0.010820330055172741,
           -0.0007963795073408,
           0.013526045246607074,
           0.004833770441204335,
           0.005290420864190558,
           -0.003957502789412587,
           0.0013347096217242976,
           -0.0053760258046749295,
           -0.008669748645838225,
           -0.0008111503862086309,
           0.005815873321720343,
           0.0021140255611705404,
           -0.004002314783885521,
           -0.010384934299281317,
           -0.0009105120334264151,
           0.0057479160828944695,
           0.0020303647940304436,
           -0.0005693727445715021,
           0.0008272075218537304,
           -0.0005765692947747379,
           -0.007476462436351272,
           0.0019609525270491406,
           0.0031268682052052062
          ],
          [
           0.007385952313859415,
           -0.007083448907217344,
           0.004322369956146954,
           0.009283532355751422,
           0.0017763686658735733,
           -0.005004999700596759,
           0.0010471259217176723,
           0.0010180084868955698,
           -0.002288067546161933,
           -0.0075409576513790644,
           0.004253933715838707,
           -2.8300173959110653e-05,
           -0.005990988134150339,
           -0.007479733086546839,
           -0.006520857330026764,
           -0.0009441353499237263,
           0.004818741658053727,
           0.002784799134997605,
           -0.0019802292475004373,
           -0.0012240168413451614,
           -0.006042975447912654,
           -0.005170024175306523,
           -0.00619090432105367,
           -0.009409872581331035,
           0.0013683580184790727,
           0.010116452628416978,
           0.004895542622971192,
           0.0075034528455990585,
           0.010083772190671785,
           0.001683607291553309,
           0.004644948351814016,
           -0.0016787543314753994
          ],
          [
           0.01625146718045013,
           0.00035484555025303054,
           0.007323229325407035,
           0.011000916265578132,
           0.0034736828639281153,
           0.0019812660569597574,
           0.002101207957059471,
           -0.0053563157822800805,
           -0.00342013759935008,
           -0.0010260638189728657,
           0.004766957356794726,
           0.004807694427233761,
           0.009439565615982713,
           -0.0018572709939092323,
           0.004078769774574606,
           -0.003476662706184634,
           -0.004957832137137959,
           0.011423770037246157,
           0.008657316146367923,
           0.0013487596398891106,
           -0.0013530479002125775,
           0.0015413002304635103,
           0.0029406288431470832,
           -0.00928107781487916,
           -0.008669338512850374,
           0.0047836133322460336,
           -0.0027401937342484356,
           -0.0033214959421088122,
           0.006807189070207721,
           5.7641750136920597e-05,
           -0.0030236196829161767,
           -0.01322451958639047
          ],
          [
           0.006895244459240275,
           -0.008912627473383897,
           -0.005756162857510593,
           -0.006250356232532693,
           -0.01425704639314846,
           -0.004012106748806641,
           0.009939127150510868,
           0.006917499856592136,
           -0.001072672503560216,
           -0.00013730715835530682,
           0.0006982243227014228,
           0.0023305194254325525,
           0.00258629514785654,
           -0.011674144443039908,
           -0.0036528593025046143,
           -0.0047625087478976365,
           -0.009970171636263457,
           0.0028093797084022083,
           0.0034081034049396725,
           -0.002399595332975017,
           0.0012922559862966778,
           -0.0021734789764223513,
           -0.005026318891746808,
           -0.011618452657469167,
           -0.009414982627346231,
           -0.007664658127062974,
           -0.012429375766255057,
           -0.011457861747962789,
           -0.0069569537354393736,
           -0.004855570930837816,
           -0.006137058833676279,
           -0.009686281099153066
          ],
          [
           0.0020255666677759594,
           -0.011615993957471525,
           -0.006339782068323116,
           -0.0004091932288101478,
           -0.006334567629287347,
           -0.011098686078984126,
           -0.003090574381481145,
           0.0033936696190656227,
           -0.004335115505547542,
           -0.002432999655643582,
           -0.003504668213034806,
           0.0015974426867050285,
           -0.0035836914365758765,
           -0.009565489729525745,
           -0.0067462876420072634,
           -0.0018939710015385975,
           0.005594212321928367,
           -0.0018407456397486336,
           -0.005636248520597358,
           -0.0068703426545871265,
           -0.007025276757416283,
           -0.007192981591357644,
           -0.01004611322729382,
           -0.01030351663669665,
           0.006861243891443221,
           -0.0035402600820981737,
           -0.013851575711771334,
           -0.010493111730788457,
           -0.014124728784515225,
           -0.010364366876253616,
           -0.0021022597265072072,
           -0.0017894434337511597
          ],
          [
           0.019286179356374687,
           0.003560155145113772,
           0.0014798913540844552,
           0.0015152991592399339,
           -0.003123638558735802,
           -0.010888501804541163,
           -0.008847391995293611,
           -0.0018418839290650843,
           -0.0061123738713399845,
           -0.002931288670995507,
           -0.0045066678736132145,
           0.0012132014645534269,
           -0.001548783800505287,
           -0.0005691338740930213,
           -0.005518481325776875,
           -0.010583458535046596,
           0.00039423198054290635,
           0.0038623187966816182,
           -0.0014009220299808025,
           0.004262502209101096,
           0.0018020922753746538,
           0.0042732000691794135,
           -0.0006461294645534959,
           -0.002681299472064273,
           -1.2835155427762759e-05,
           0.004554142642065844,
           0.0018412176935382707,
           -0.002634365397078111,
           -0.009220202679534899,
           -0.00019595427367712578,
           0.011742329664022626,
           0.009418439721724061
          ],
          [
           0.02613330082738462,
           0.006182795954966401,
           0.006706678320378097,
           -0.001052729578575744,
           -0.0008855479925006156,
           0.0026406795245548505,
           0.0028937870718949107,
           0.0028104699668062543,
           -0.003941692952476659,
           -0.0010841189038621765,
           0.003947103031061468,
           -0.0031210748234921956,
           -0.002869793921388336,
           0.005632740498999043,
           0.003145321373370962,
           0.00046894240030059727,
           -0.0006803672273005361,
           0.005107015147190071,
           0.0048656678926283425,
           0.012442652803459043,
           0.005130096942542586,
           -0.0019323471206095049,
           -0.0003618176375729628,
           0.002359774217968723,
           0.0025150399392828413,
           0.0030312337509576233,
           0.001628875052877015,
           -0.0036672973271328286,
           -0.005061482645955921,
           0.008186950051049215,
           0.006527567242074281,
           0.009315028573396522
          ]
         ]
        }
       ],
       "layout": {
        "autosize": true,
        "coloraxis": {
         "colorscale": [
          [
           0,
           "#0d0887"
          ],
          [
           0.1111111111111111,
           "#46039f"
          ],
          [
           0.2222222222222222,
           "#7201a8"
          ],
          [
           0.3333333333333333,
           "#9c179e"
          ],
          [
           0.4444444444444444,
           "#bd3786"
          ],
          [
           0.5555555555555556,
           "#d8576b"
          ],
          [
           0.6666666666666666,
           "#ed7953"
          ],
          [
           0.7777777777777778,
           "#fb9f3a"
          ],
          [
           0.8888888888888888,
           "#fdca26"
          ],
          [
           1,
           "#f0f921"
          ]
         ]
        },
        "margin": {
         "t": 60
        },
        "template": {
         "data": {
          "bar": [
           {
            "error_x": {
             "color": "#2a3f5f"
            },
            "error_y": {
             "color": "#2a3f5f"
            },
            "marker": {
             "line": {
              "color": "#E5ECF6",
              "width": 0.5
             },
             "pattern": {
              "fillmode": "overlay",
              "size": 10,
              "solidity": 0.2
             }
            },
            "type": "bar"
           }
          ],
          "barpolar": [
           {
            "marker": {
             "line": {
              "color": "#E5ECF6",
              "width": 0.5
             },
             "pattern": {
              "fillmode": "overlay",
              "size": 10,
              "solidity": 0.2
             }
            },
            "type": "barpolar"
           }
          ],
          "carpet": [
           {
            "aaxis": {
             "endlinecolor": "#2a3f5f",
             "gridcolor": "white",
             "linecolor": "white",
             "minorgridcolor": "white",
             "startlinecolor": "#2a3f5f"
            },
            "baxis": {
             "endlinecolor": "#2a3f5f",
             "gridcolor": "white",
             "linecolor": "white",
             "minorgridcolor": "white",
             "startlinecolor": "#2a3f5f"
            },
            "type": "carpet"
           }
          ],
          "choropleth": [
           {
            "colorbar": {
             "outlinewidth": 0,
             "ticks": ""
            },
            "type": "choropleth"
           }
          ],
          "contour": [
           {
            "colorbar": {
             "outlinewidth": 0,
             "ticks": ""
            },
            "colorscale": [
             [
              0,
              "#0d0887"
             ],
             [
              0.1111111111111111,
              "#46039f"
             ],
             [
              0.2222222222222222,
              "#7201a8"
             ],
             [
              0.3333333333333333,
              "#9c179e"
             ],
             [
              0.4444444444444444,
              "#bd3786"
             ],
             [
              0.5555555555555556,
              "#d8576b"
             ],
             [
              0.6666666666666666,
              "#ed7953"
             ],
             [
              0.7777777777777778,
              "#fb9f3a"
             ],
             [
              0.8888888888888888,
              "#fdca26"
             ],
             [
              1,
              "#f0f921"
             ]
            ],
            "type": "contour"
           }
          ],
          "contourcarpet": [
           {
            "colorbar": {
             "outlinewidth": 0,
             "ticks": ""
            },
            "type": "contourcarpet"
           }
          ],
          "heatmap": [
           {
            "colorbar": {
             "outlinewidth": 0,
             "ticks": ""
            },
            "colorscale": [
             [
              0,
              "#0d0887"
             ],
             [
              0.1111111111111111,
              "#46039f"
             ],
             [
              0.2222222222222222,
              "#7201a8"
             ],
             [
              0.3333333333333333,
              "#9c179e"
             ],
             [
              0.4444444444444444,
              "#bd3786"
             ],
             [
              0.5555555555555556,
              "#d8576b"
             ],
             [
              0.6666666666666666,
              "#ed7953"
             ],
             [
              0.7777777777777778,
              "#fb9f3a"
             ],
             [
              0.8888888888888888,
              "#fdca26"
             ],
             [
              1,
              "#f0f921"
             ]
            ],
            "type": "heatmap"
           }
          ],
          "heatmapgl": [
           {
            "colorbar": {
             "outlinewidth": 0,
             "ticks": ""
            },
            "colorscale": [
             [
              0,
              "#0d0887"
             ],
             [
              0.1111111111111111,
              "#46039f"
             ],
             [
              0.2222222222222222,
              "#7201a8"
             ],
             [
              0.3333333333333333,
              "#9c179e"
             ],
             [
              0.4444444444444444,
              "#bd3786"
             ],
             [
              0.5555555555555556,
              "#d8576b"
             ],
             [
              0.6666666666666666,
              "#ed7953"
             ],
             [
              0.7777777777777778,
              "#fb9f3a"
             ],
             [
              0.8888888888888888,
              "#fdca26"
             ],
             [
              1,
              "#f0f921"
             ]
            ],
            "type": "heatmapgl"
           }
          ],
          "histogram": [
           {
            "marker": {
             "pattern": {
              "fillmode": "overlay",
              "size": 10,
              "solidity": 0.2
             }
            },
            "type": "histogram"
           }
          ],
          "histogram2d": [
           {
            "colorbar": {
             "outlinewidth": 0,
             "ticks": ""
            },
            "colorscale": [
             [
              0,
              "#0d0887"
             ],
             [
              0.1111111111111111,
              "#46039f"
             ],
             [
              0.2222222222222222,
              "#7201a8"
             ],
             [
              0.3333333333333333,
              "#9c179e"
             ],
             [
              0.4444444444444444,
              "#bd3786"
             ],
             [
              0.5555555555555556,
              "#d8576b"
             ],
             [
              0.6666666666666666,
              "#ed7953"
             ],
             [
              0.7777777777777778,
              "#fb9f3a"
             ],
             [
              0.8888888888888888,
              "#fdca26"
             ],
             [
              1,
              "#f0f921"
             ]
            ],
            "type": "histogram2d"
           }
          ],
          "histogram2dcontour": [
           {
            "colorbar": {
             "outlinewidth": 0,
             "ticks": ""
            },
            "colorscale": [
             [
              0,
              "#0d0887"
             ],
             [
              0.1111111111111111,
              "#46039f"
             ],
             [
              0.2222222222222222,
              "#7201a8"
             ],
             [
              0.3333333333333333,
              "#9c179e"
             ],
             [
              0.4444444444444444,
              "#bd3786"
             ],
             [
              0.5555555555555556,
              "#d8576b"
             ],
             [
              0.6666666666666666,
              "#ed7953"
             ],
             [
              0.7777777777777778,
              "#fb9f3a"
             ],
             [
              0.8888888888888888,
              "#fdca26"
             ],
             [
              1,
              "#f0f921"
             ]
            ],
            "type": "histogram2dcontour"
           }
          ],
          "mesh3d": [
           {
            "colorbar": {
             "outlinewidth": 0,
             "ticks": ""
            },
            "type": "mesh3d"
           }
          ],
          "parcoords": [
           {
            "line": {
             "colorbar": {
              "outlinewidth": 0,
              "ticks": ""
             }
            },
            "type": "parcoords"
           }
          ],
          "pie": [
           {
            "automargin": true,
            "type": "pie"
           }
          ],
          "scatter": [
           {
            "fillpattern": {
             "fillmode": "overlay",
             "size": 10,
             "solidity": 0.2
            },
            "type": "scatter"
           }
          ],
          "scatter3d": [
           {
            "line": {
             "colorbar": {
              "outlinewidth": 0,
              "ticks": ""
             }
            },
            "marker": {
             "colorbar": {
              "outlinewidth": 0,
              "ticks": ""
             }
            },
            "type": "scatter3d"
           }
          ],
          "scattercarpet": [
           {
            "marker": {
             "colorbar": {
              "outlinewidth": 0,
              "ticks": ""
             }
            },
            "type": "scattercarpet"
           }
          ],
          "scattergeo": [
           {
            "marker": {
             "colorbar": {
              "outlinewidth": 0,
              "ticks": ""
             }
            },
            "type": "scattergeo"
           }
          ],
          "scattergl": [
           {
            "marker": {
             "colorbar": {
              "outlinewidth": 0,
              "ticks": ""
             }
            },
            "type": "scattergl"
           }
          ],
          "scattermapbox": [
           {
            "marker": {
             "colorbar": {
              "outlinewidth": 0,
              "ticks": ""
             }
            },
            "type": "scattermapbox"
           }
          ],
          "scatterpolar": [
           {
            "marker": {
             "colorbar": {
              "outlinewidth": 0,
              "ticks": ""
             }
            },
            "type": "scatterpolar"
           }
          ],
          "scatterpolargl": [
           {
            "marker": {
             "colorbar": {
              "outlinewidth": 0,
              "ticks": ""
             }
            },
            "type": "scatterpolargl"
           }
          ],
          "scatterternary": [
           {
            "marker": {
             "colorbar": {
              "outlinewidth": 0,
              "ticks": ""
             }
            },
            "type": "scatterternary"
           }
          ],
          "surface": [
           {
            "colorbar": {
             "outlinewidth": 0,
             "ticks": ""
            },
            "colorscale": [
             [
              0,
              "#0d0887"
             ],
             [
              0.1111111111111111,
              "#46039f"
             ],
             [
              0.2222222222222222,
              "#7201a8"
             ],
             [
              0.3333333333333333,
              "#9c179e"
             ],
             [
              0.4444444444444444,
              "#bd3786"
             ],
             [
              0.5555555555555556,
              "#d8576b"
             ],
             [
              0.6666666666666666,
              "#ed7953"
             ],
             [
              0.7777777777777778,
              "#fb9f3a"
             ],
             [
              0.8888888888888888,
              "#fdca26"
             ],
             [
              1,
              "#f0f921"
             ]
            ],
            "type": "surface"
           }
          ],
          "table": [
           {
            "cells": {
             "fill": {
              "color": "#EBF0F8"
             },
             "line": {
              "color": "white"
             }
            },
            "header": {
             "fill": {
              "color": "#C8D4E3"
             },
             "line": {
              "color": "white"
             }
            },
            "type": "table"
           }
          ]
         },
         "layout": {
          "annotationdefaults": {
           "arrowcolor": "#2a3f5f",
           "arrowhead": 0,
           "arrowwidth": 1
          },
          "autotypenumbers": "strict",
          "coloraxis": {
           "colorbar": {
            "outlinewidth": 0,
            "ticks": ""
           }
          },
          "colorscale": {
           "diverging": [
            [
             0,
             "#8e0152"
            ],
            [
             0.1,
             "#c51b7d"
            ],
            [
             0.2,
             "#de77ae"
            ],
            [
             0.3,
             "#f1b6da"
            ],
            [
             0.4,
             "#fde0ef"
            ],
            [
             0.5,
             "#f7f7f7"
            ],
            [
             0.6,
             "#e6f5d0"
            ],
            [
             0.7,
             "#b8e186"
            ],
            [
             0.8,
             "#7fbc41"
            ],
            [
             0.9,
             "#4d9221"
            ],
            [
             1,
             "#276419"
            ]
           ],
           "sequential": [
            [
             0,
             "#0d0887"
            ],
            [
             0.1111111111111111,
             "#46039f"
            ],
            [
             0.2222222222222222,
             "#7201a8"
            ],
            [
             0.3333333333333333,
             "#9c179e"
            ],
            [
             0.4444444444444444,
             "#bd3786"
            ],
            [
             0.5555555555555556,
             "#d8576b"
            ],
            [
             0.6666666666666666,
             "#ed7953"
            ],
            [
             0.7777777777777778,
             "#fb9f3a"
            ],
            [
             0.8888888888888888,
             "#fdca26"
            ],
            [
             1,
             "#f0f921"
            ]
           ],
           "sequentialminus": [
            [
             0,
             "#0d0887"
            ],
            [
             0.1111111111111111,
             "#46039f"
            ],
            [
             0.2222222222222222,
             "#7201a8"
            ],
            [
             0.3333333333333333,
             "#9c179e"
            ],
            [
             0.4444444444444444,
             "#bd3786"
            ],
            [
             0.5555555555555556,
             "#d8576b"
            ],
            [
             0.6666666666666666,
             "#ed7953"
            ],
            [
             0.7777777777777778,
             "#fb9f3a"
            ],
            [
             0.8888888888888888,
             "#fdca26"
            ],
            [
             1,
             "#f0f921"
            ]
           ]
          },
          "colorway": [
           "#636efa",
           "#EF553B",
           "#00cc96",
           "#ab63fa",
           "#FFA15A",
           "#19d3f3",
           "#FF6692",
           "#B6E880",
           "#FF97FF",
           "#FECB52"
          ],
          "font": {
           "color": "#2a3f5f"
          },
          "geo": {
           "bgcolor": "white",
           "lakecolor": "white",
           "landcolor": "#E5ECF6",
           "showlakes": true,
           "showland": true,
           "subunitcolor": "white"
          },
          "hoverlabel": {
           "align": "left"
          },
          "hovermode": "closest",
          "mapbox": {
           "style": "light"
          },
          "paper_bgcolor": "white",
          "plot_bgcolor": "#E5ECF6",
          "polar": {
           "angularaxis": {
            "gridcolor": "white",
            "linecolor": "white",
            "ticks": ""
           },
           "bgcolor": "#E5ECF6",
           "radialaxis": {
            "gridcolor": "white",
            "linecolor": "white",
            "ticks": ""
           }
          },
          "scene": {
           "xaxis": {
            "backgroundcolor": "#E5ECF6",
            "gridcolor": "white",
            "gridwidth": 2,
            "linecolor": "white",
            "showbackground": true,
            "ticks": "",
            "zerolinecolor": "white"
           },
           "yaxis": {
            "backgroundcolor": "#E5ECF6",
            "gridcolor": "white",
            "gridwidth": 2,
            "linecolor": "white",
            "showbackground": true,
            "ticks": "",
            "zerolinecolor": "white"
           },
           "zaxis": {
            "backgroundcolor": "#E5ECF6",
            "gridcolor": "white",
            "gridwidth": 2,
            "linecolor": "white",
            "showbackground": true,
            "ticks": "",
            "zerolinecolor": "white"
           }
          },
          "shapedefaults": {
           "line": {
            "color": "#2a3f5f"
           }
          },
          "ternary": {
           "aaxis": {
            "gridcolor": "white",
            "linecolor": "white",
            "ticks": ""
           },
           "baxis": {
            "gridcolor": "white",
            "linecolor": "white",
            "ticks": ""
           },
           "bgcolor": "#E5ECF6",
           "caxis": {
            "gridcolor": "white",
            "linecolor": "white",
            "ticks": ""
           }
          },
          "title": {
           "x": 0.05
          },
          "xaxis": {
           "automargin": true,
           "gridcolor": "white",
           "linecolor": "white",
           "ticks": "",
           "title": {
            "standoff": 15
           },
           "zerolinecolor": "white",
           "zerolinewidth": 2
          },
          "yaxis": {
           "automargin": true,
           "gridcolor": "white",
           "linecolor": "white",
           "ticks": "",
           "title": {
            "standoff": 15
           },
           "zerolinecolor": "white",
           "zerolinewidth": 2
          }
         }
        },
        "xaxis": {
         "anchor": "y",
         "autorange": true,
         "constrain": "domain",
         "domain": [
          0.3653610771113831,
          0.6346389228886169
         ],
         "range": [
          -0.5,
          31.5
         ],
         "scaleanchor": "y",
         "side": "top"
        },
        "yaxis": {
         "anchor": "x",
         "autorange": true,
         "constrain": "domain",
         "domain": [
          0,
          1
         ],
         "range": [
          31.5,
          -0.5
         ]
        }
       }
      },
      "image/png": "[encoded data removed]",
      "text/html": [
       "<div>                            <div id=\"4e6133e0-aaf9-457e-89ef-b6e2a8505941\" class=\"plotly-graph-div\" style=\"height:525px; width:100%;\"></div>            <script type=\"text/javascript\">                require([\"plotly\"], function(Plotly) {                    window.PLOTLYENV=window.PLOTLYENV || {};                                    if (document.getElementById(\"4e6133e0-aaf9-457e-89ef-b6e2a8505941\")) {                    Plotly.newPlot(                        \"4e6133e0-aaf9-457e-89ef-b6e2a8505941\",                        [{\"coloraxis\":\"coloraxis\",\"name\":\"0\",\"z\":[[0.005330362738584114,-0.00046951999833525014,-0.0007960061717765666,-0.005888638002282562,-0.004656807549183286,0.007606311311274236,0.003488190599497558,0.005643543045106346,0.012726631420210263,0.007083923244324161,-0.0018354151847140118,-0.003716459106466443,0.003120653245035073,-0.005877605069680798,-0.006304874962626769,-0.005343407418408101,0.002516815417681715,0.005217089967655704,0.001522976132170091,0.004663533775557179,-0.0016546808734950354,0.00039263597629773196,-0.0003107695268408375,0.00974095983563102,0.008511999582231927,0.0071386728380871175,0.006893754788833827,0.0037655804696567433,0.001706817307627276,0.006524828024673172,0.013345644781564145,0.01619527368182659],[0.0026534526708017502,-0.007585874206493089,-0.0077256278520171605,-0.0070446741730545055,-0.00032928470246612477,0.007029453998897488,0.004845487260741701,0.0077059316981961425,0.0002571946443992724,0.002673529061035032,-0.003460160200583551,-0.005591371127155446,0.0016693456287951527,-0.002281799590515562,0.002260466595172905,-0.005306468744459615,-0.0032811074477135382,0.005440791782597155,0.007131802003682347,0.005682047586275113,-0.000478454646674422,0.0007811211596496008,-0.0012940057168578112,0.003722733119539938,0.0026873543340574122,0.004358734210401157,0.003806140661615362,-0.005769995200541669,-0.006629547546183419,-8.292550473207015e-05,0.006159064619482942,0.003659396842551457],[7.450130567685143e-06,-0.01323064254983212,-0.010915683896064206,-0.007357674257015345,0.000696919878540987,0.004274766060260057,0.004932987873588631,0.007543366246482348,-0.002636748032901307,-0.003621118969616989,0.0006923236842461431,0.004007125417192549,0.005087620638024116,-0.0006835199207941886,0.0031330759406973567,-0.010934195649340905,-0.007889546850555562,-0.00589480027860717,0.004747317411577158,0.007121947376370088,0.003051090679965776,-0.003608812749969258,-0.0008963276472953089,0.009238517778742412,0.00509056347654302,0.005198977668912111,0.0003013066601618776,0.0016004536217446195,0.005291893522724627,0.004658901294647302,0.009104233328283967,0.0008213305706225402],[-0.002588974507612947,-0.01279768123500591,-0.008551669053572908,-0.0027812674520356403,-0.008551315811837388,-0.008269104826884466,-0.0010377054329840586,0.0022588823900717256,0.005812682565561417,0.0031942501794316657,0.005910563497819049,0.001576542373036327,-0.0045057937463432,-0.0031562183159467255,0.0037617770498376275,-0.006118804790379534,-0.0025434586932447083,-0.010609774871904794,-0.0009400214301788077,-0.004086880087478774,-0.0045627385602931315,-0.005639206472156732,-0.0014288157433261697,0.003187897886902855,0.010247429156458416,0.007771811591842386,0.0029789604213680816,0.011287980134562434,0.006284544949127103,-0.0017361986870375915,0.005382043329276574,0.003909254713332743],[-0.0026096192218087416,-0.0026615693683230014,0.00017008636583035268,0.0032892594995815273,-0.004632299253399946,-0.00044072160741417265,0.0022229825315538345,-0.0012101634826965008,0.0019031201689412413,0.0023847133818391732,0.0036514937744751307,0.005268424786352233,0.003896421272530779,0.0021030050861531647,0.006258601284558931,0.003796543023491272,0.0009068821309414508,-0.0023019026413528968,0.005711143349332604,0.00521433178475744,0.0032777469522202933,-0.006543462191690674,-0.00881896430351431,-0.013171288279500122,-0.002093388903301918,-0.0011369613828521416,-0.0005722563733020087,0.0028008887287536326,0.00027128863646269,-0.0033096358053467155,0.0014262271401760819,0.004219591373796975],[0.006602498495684546,0.0059866233028357165,0.002792308364100678,0.0048087449332123115,0.0016618730156478065,0.0028458554251046897,-3.2662698233512356e-05,-0.004503847937134774,-0.01032509880939362,-0.008769846495964163,0.001062365463870465,0.007429588862814541,0.0010727365484849243,-0.0006289950196111505,0.005231016865311862,-0.0013376275794397443,-0.004897300683018479,-0.005776721481085391,0.0006478388398671417,0.003494028756316713,0.003936788598727496,-0.005960940388446449,-0.007325685520188238,-0.0031025495452538863,-0.002231383876058271,-0.0015326227954093534,0.0008869352241191771,-0.000913077145303909,0.0016888093371113045,0.0024589924379406487,0.0029198741724317033,0.0010911848387030417],[0.014110193452507629,0.0036050076136455358,-0.0045457007813281885,-0.002804582258562106,0.0004924560285674985,-0.0003484927311942398,-0.0009341417455921726,-0.0005827855957996161,-0.0021244616153765186,-0.004679284678422032,0.004770337982914303,0.00036368094224551584,-0.011513166551245863,-0.0009243360994092926,0.004858137567440236,-0.0006841361705926163,-0.002866705936320428,-0.006982017232966425,-0.012134683595789267,-0.008728282813267374,-0.0038160066984071345,-0.005797703343849959,-0.013607766391543994,-0.004434071566021941,0.00367453158006476,0.0037281843139828665,0.0010166491149575195,-0.0033486714679317013,0.0019333758724583597,0.005121576017726878,0.0028057882019981075,0.0014564428063269415],[0.016381946521447352,0.007666174924554888,-0.0024944924508373788,-0.006811842342554551,-0.001173333694232184,-0.001873743283128594,-0.0019141029381544283,0.006776400221405474,0.008576456485280447,0.005804519005573021,0.016224258331306796,0.009047534117509255,-0.009915147153088534,-0.0011240507174114232,0.00439437635612161,-0.004576300291360843,-0.0061717253602875015,-0.005645812968989164,-0.007366744616589605,-0.003784280941921093,-0.002064186599628959,-0.0026913420680303164,-0.004285555699711292,-0.0005273386465940665,-0.004586522759037666,-0.0018870932160326504,-0.0014108829331483947,1.9596937668088157e-05,0.0012729536476111488,0.00970723148804136,0.000924178375116478,0.003215624871855664],[0.00019034979448781013,-0.006121389706937804,-0.007205061502036057,-0.011382249159732639,-0.012502170338178823,-0.0005474433284755216,-0.005921339550352879,0.009182572608956203,-0.0007855906582696301,-0.0014302948548538803,-0.001760246326789995,-0.00019918476797416772,-0.007226159454240647,0.0053990004462928535,0.006294329708040809,-0.0038381936714297284,-0.009525594975335712,0.0022428984583465783,0.002294558186448768,-0.004756439513959608,-0.005585677802592207,-0.005138862360120884,-0.0008229656603191823,0.00830532756674638,-0.00324927200823542,0.0034823618560633303,-0.009263842269017815,0.005013257722912951,0.003934961675341616,0.0004261579373955417,0.00229218845943901,-0.0035698135076352036],[0.004257053604984331,0.00667569070220366,-0.0005326664975097878,-0.006791388862595341,0.0024302727760673604,0.010030625373368969,-0.002454937460166391,-0.002819882385278615,-0.009221059857732947,5.260937328318687e-05,0.005210840604578752,0.007613556351642931,0.00015850677100071365,-0.0032280232784259303,-0.001666792545057406,-0.010342965871660378,0.0023272917480724963,0.012870156654676652,-0.001883419743319102,0.006955386384694017,0.0064861842111104,-0.0028597566046411863,-0.004949665732139372,-0.004416766581029474,-0.0012402898012647211,0.008515674471871916,0.007157247596257253,0.009886989255164886,-0.0032728282937451755,0.0028357886581245606,0.011027762642804565,-0.0010661350567109022],[-0.0005572264742182531,0.0040988987032496175,0.004043431843644536,0.0034248466608083144,0.009172496294829075,0.005853806851334258,0.005838853729046091,0.0009530456930686637,-0.0051906929064267525,-0.003385575340099151,-0.0011889318636019834,-0.00023243718551593462,-0.009147136595337816,-0.00883714509115715,0.0006871840293995241,-0.007503783960291112,0.010777605281245137,0.010894213711515562,0.002696197070780653,0.021752963435962766,0.016268945050357475,-0.0004090631809165976,0.004326896871332045,0.005134635056818744,-0.0019399987454586734,0.0069115177106382555,0.0055286426387777905,0.01033117418679087,-0.0059240325423376185,-9.726074333661585e-05,0.007914298510380923,-0.0002324916314067645],[0.008501856228526809,0.004057145816186561,0.005482566890139089,0.0035142841425132697,0.004824651343269981,-0.0008047471709297319,0.007444309812147195,-0.00010503156055742566,-0.0006160864224109454,0.004460503019625866,-0.0030544001171499396,0.002161197026298216,-0.001495728965540888,-0.002082123868797479,-0.0026208743847780736,-0.007943447340017187,-0.008679197484289759,0.0003298041108234641,3.195261392174313e-05,0.012218227476434274,0.006370594351381738,-0.00015747116471667545,0.009886852020466637,0.009263929158336138,-0.0016126702300384593,-0.003780411801441914,-0.007810165162722777,-0.0035905073561438437,-0.004467374292009482,-0.0031031579288461632,-0.008553351534272035,-0.0035805011884331066],[0.014761367470974283,0.003967741001007112,0.004921487196038255,-0.007980404865927574,-0.011717021588138936,-0.007609010156966955,0.00013684437498966002,-0.0043273746530085935,0.00023764024598212465,0.008042827236034819,0.007759405700601881,0.0070375203410459105,0.006080170704518032,0.007736669411427228,-0.0005774765743583602,-0.01035776966060586,-0.007509765435127719,0.003739245657905691,0.0011833525500680835,-0.0021686947694869296,0.0006233228317054509,0.001045891412446691,0.00492430742243488,0.009484666539479407,0.007448758989843324,0.005261192993643785,0.0025086237180970933,0.004728649477150335,0.003725054283350262,-0.0016047862358753934,-0.014547424646999192,-5.288081764669082e-05],[0.0037419914391141245,-0.00339773830500641,0.0039000362265830604,-0.0029322456002539104,-0.0029586924071966854,0.00954448092576809,0.0008580209660470174,-0.0030063553056547732,0.0031648561328294187,0.010715840988516214,0.0061092378993522906,0.006824597638709261,0.0010557298690828546,0.004150884021593469,0.0011298339489820529,-0.00244184847732541,-0.0029918211442732105,0.007694948287886765,0.0016278396854136718,-0.00745896947803539,0.010482236771712176,-0.0022526629515968242,-0.00823821580054488,-0.004335307545606279,0.009744758833450756,0.006999535240878111,0.0030673622246573102,0.0033181394289124627,-0.000314729382549736,0.0007484611041314902,-0.004933787326777239,-0.0017021103965273064],[-0.0025659372198734267,-0.007474873524264304,0.007605483134268028,-0.0009475656940646848,-0.007394811030538385,0.0059062719123142045,0.0030862035205496356,0.011706410231358537,0.005541359761296812,0.01588900137993095,0.012418031736793931,0.01370352177797315,0.00970127988281655,0.012365802549687447,-0.0017795876509883958,0.006101938525077133,0.0024708300476069,-0.008304709907434465,-0.0023871085750549787,0.008319816318306406,0.020018220260491774,0.01168511632836298,0.005907598441584879,-0.0034184432417548477,0.0038809309423332742,-0.007550731717058358,-0.009829545521645075,-0.005171837032576823,-0.0049164967441008515,-0.004160028421416264,-0.0018110421447235158,-0.006437973939081608],[-0.0033471570392922677,-0.006613804016462418,0.006874473724382374,0.0012913569607319814,-0.0034841430101245434,0.008721342339885859,-0.002373294034671966,0.010904580701206765,0.007944901797393147,0.021443997801777966,0.008873961035925117,0.004908820395831948,0.011961121851281417,0.019743815588049968,-0.0040538278420768304,4.782723262294956e-05,0.006783793459402991,0.0015454936497272963,0.014802116896498359,0.02190169830544834,0.0021736702197494968,0.01035055851607291,0.00942649481813853,0.005968139080299347,0.00612225548411489,-0.0046842781667512014,-0.005938447788750678,-0.0053956301967937464,-0.0043696297850732415,-0.005859926947706903,0.0002903610563353236,-0.008199014263489688],[0.012446549908736566,0.011845642819510165,0.008071679109800686,0.010706390261920825,0.0018129529473602899,0.00804010601197253,-0.002205890449004092,-0.00267619576499214,-0.009950633502845746,0.004803978958755619,-0.008087446036664555,-0.0021228901304015586,-0.0030367385394117754,0.004530925768057054,0.0005173710076075892,-0.0035050788825735585,0.0015442741327239132,0.0014042091625196189,0.0013761670265336242,-0.002275794584183886,-0.004802586395443579,-0.012517259058280597,-0.006159627015712873,0.013150495369356405,0.016386576818595094,0.006778013534337555,0.001245603792341959,0.0059089674126396085,0.0017913666743104946,-0.0056314759348266566,-0.005559358999447865,-0.002035359169481416],[0.013548906604414785,0.001584380812807943,0.007425915901788455,0.011384358702569248,0.0020691626019724765,0.0008061889710782924,0.00415805742413795,0.013986925214837444,-0.008556787621772213,-0.0033709426141029534,-0.0052347435353483065,0.0011753728815999023,0.0029115072186890302,0.006804108783369716,0.0031486247817823425,0.0013870195991318526,-0.009429213276995934,-0.002162342358812614,-0.0051013327299189734,0.005077929043236652,0.008557208116830636,0.004082173299081989,0.0061819632854801,0.009676471379192307,0.0018977911233994272,0.002558937711555874,-0.0007197802884104231,0.0005232891771207615,0.0015413537624619671,0.005974064158892395,0.008734925397852577,0.0023344144148588915],[0.013105246077414557,-0.000834616508897808,0.004979912712401254,0.00642692275582802,-0.0052968581851824395,-0.011943666334267222,-2.587999745594676e-05,0.008243963714969287,-0.007053445129695135,0.001983715369657221,-0.00300320959332446,0.007008178010715661,0.005492578211253464,-0.0013742862959062261,-0.004520534970241658,-0.011902937265012598,-0.012134626801515561,0.0002643768403774694,-0.0030356498513414696,-0.004258655475076115,-6.0241447052635634e-05,0.005859319606675793,0.009264244774787598,0.01186556692192576,-0.0023769340017179897,0.005692487941664491,0.010010963679061608,-0.0034273217904792277,-0.005516230207728855,0.004869619092377614,0.008406129708060902,0.013396544860079601],[0.015925177355702078,-0.002373487663265848,-0.006516408310835916,0.0040828795496689885,0.0035275848393266935,-0.004011468955088662,9.849057397628725e-05,-0.004119883185382394,0.002400732360800689,0.010937238830151512,-0.0010399484921958337,-0.00038352324070113484,-0.005669396502552292,-0.0056910908837669825,-0.0018573641152693297,-0.004247952828501048,-0.00850102320186746,-0.0022573111784126997,-0.002183981349067876,0.0003233532884426219,0.0020234175684591695,-0.0009010856346110662,-0.0002269523079402704,0.0014003440580464598,0.005624706447623011,0.007543713813801803,0.013013497446576863,0.008427310310034375,0.0010074602694545543,0.0021285930208279733,0.0032704375734816616,0.013452701515906945],[0.002547971361061316,-0.009888888818523943,-0.002205879952744127,0.0012663154929686833,0.005081640644546555,0.004915281211181219,0.007028143455489855,0.0021448723332796026,-0.003891666582039968,0.0016280951036583555,-0.010573597419044407,-0.007883147753566775,-0.005369960036804953,-0.0035848254526353895,-0.012046672561994504,-0.014583561042795802,0.009795584875454042,0.0038402202978890377,-0.007773759182100429,-0.01139937590937104,0.0063765004876797015,0.0003904751560634953,-0.00819007412785903,-0.009193461232089042,-0.009876306450189156,-0.008225347956127624,-0.002522673675661547,0.006759370412540615,0.0030988790302733044,-0.0007590515241360529,0.007443399407812973,0.008979621332821479],[0.0040371827763021695,-0.008781809017351311,0.006916553460650462,-0.00544246191387223,-0.012572806737133279,-0.008762862189757104,-0.003438087616956122,-0.0037378022812483086,0.003685640715665578,0.011272392794707096,0.0033073765193887745,-0.002477022421314129,-0.006240506901676941,-0.009808321522895519,-0.01261707468066115,-0.00623203551968642,0.011708078133780749,-0.001381261672449781,-0.006223297976285411,-0.007116823918540234,-0.00774811822790625,-0.014251628008282327,-0.002659948947633787,0.003184222594951309,-0.004798391576502763,0.00957054493194256,0.01614895744580461,0.0009628910600547307,-0.007522287199266414,-0.0021206285112193818,0.014712045258762557,0.01313661979514486],[0.018046805426883056,-0.006037617311647828,0.0070375401404084124,0.010629509060743106,0.00014145876559296992,-0.006208079869662489,-0.00594465127086175,-0.0018809695480248355,-0.006817289858377409,-0.0005750660162317297,0.003683642375742501,-0.00206000239124803,-0.007017640058271916,-0.007904845322938206,-0.012556316609042285,-0.017142460949885207,-0.014310551592607069,-0.0091848439785001,0.0006240228162165441,0.000989615082122205,-0.015177990865785264,-0.017608557674508512,-0.0034818595929838416,-0.003624682353349938,-0.0035404405765388004,0.00594786172661298,0.016005454023039694,0.0003457255053164919,-0.006794520381741618,-0.0011727627841508295,0.012751888531637296,0.019501421707341253],[0.012072967106116732,-0.004929035197643521,0.0010389490593893317,0.00948472148679891,0.00536994430530324,0.005560664121480966,0.0020444262891229246,0.003818551742420178,-0.004738676710168029,-0.0031342588846695906,4.1131732138808445e-05,0.0020764965880160097,-0.006058857059084899,-0.00020076312835003586,0.0021931657427432154,0.006019836894983795,-0.01679359014829389,0.0063445379445459735,0.010071878450537732,-0.0002547444880253705,-0.008927768939366258,-0.0027319051858567013,-0.009276579590699077,-0.007038982900140438,-0.0016212907824654941,-0.0066187199625506645,0.0006013459436349235,-0.005541483477364636,0.005169675359607391,-0.00438638891997223,-0.003484824704537301,0.0033602313960434727],[0.011074555980643951,-0.0043278217854427195,0.0019171403870861976,0.004651203841817777,0.0017671421637055161,0.00121736700827322,0.0008898198242228195,0.002665591489520554,0.001627689046301422,-0.009895942589650989,-0.007779443027555664,0.009698413779047108,-0.006703255080157801,0.0067667289912240955,0.0022993531189313787,0.009625284967186983,-0.013636510085468788,-0.012394604196930168,-0.005024491252853356,-0.004012961137259955,0.0004931864174740699,-0.0016555130095685408,-0.012046949990591907,-5.2378629056957944e-05,0.00222603780482748,-0.0012811042773745026,-0.004451705291420206,-0.0021631811077283667,-0.0031619613339012678,-0.0027925150651855017,0.009821661817524535,0.011377238559582184],[0.004088919227194721,-0.009309403046594725,-0.00510874876424772,-0.0053701026483881364,-0.00808442772196677,-0.008486247120184226,0.0011537176131937803,0.0005307280238984266,-0.003117172426142421,-0.010820330055172741,-0.0007963795073408,0.013526045246607074,0.004833770441204335,0.005290420864190558,-0.003957502789412587,0.0013347096217242976,-0.0053760258046749295,-0.008669748645838225,-0.0008111503862086309,0.005815873321720343,0.0021140255611705404,-0.004002314783885521,-0.010384934299281317,-0.0009105120334264151,0.0057479160828944695,0.0020303647940304436,-0.0005693727445715021,0.0008272075218537304,-0.0005765692947747379,-0.007476462436351272,0.0019609525270491406,0.0031268682052052062],[0.007385952313859415,-0.007083448907217344,0.004322369956146954,0.009283532355751422,0.0017763686658735733,-0.005004999700596759,0.0010471259217176723,0.0010180084868955698,-0.002288067546161933,-0.0075409576513790644,0.004253933715838707,-2.8300173959110653e-05,-0.005990988134150339,-0.007479733086546839,-0.006520857330026764,-0.0009441353499237263,0.004818741658053727,0.002784799134997605,-0.0019802292475004373,-0.0012240168413451614,-0.006042975447912654,-0.005170024175306523,-0.00619090432105367,-0.009409872581331035,0.0013683580184790727,0.010116452628416978,0.004895542622971192,0.0075034528455990585,0.010083772190671785,0.001683607291553309,0.004644948351814016,-0.0016787543314753994],[0.01625146718045013,0.00035484555025303054,0.007323229325407035,0.011000916265578132,0.0034736828639281153,0.0019812660569597574,0.002101207957059471,-0.0053563157822800805,-0.00342013759935008,-0.0010260638189728657,0.004766957356794726,0.004807694427233761,0.009439565615982713,-0.0018572709939092323,0.004078769774574606,-0.003476662706184634,-0.004957832137137959,0.011423770037246157,0.008657316146367923,0.0013487596398891106,-0.0013530479002125775,0.0015413002304635103,0.0029406288431470832,-0.00928107781487916,-0.008669338512850374,0.0047836133322460336,-0.0027401937342484356,-0.0033214959421088122,0.006807189070207721,5.7641750136920597e-05,-0.0030236196829161767,-0.01322451958639047],[0.006895244459240275,-0.008912627473383897,-0.005756162857510593,-0.006250356232532693,-0.01425704639314846,-0.004012106748806641,0.009939127150510868,0.006917499856592136,-0.001072672503560216,-0.00013730715835530682,0.0006982243227014228,0.0023305194254325525,0.00258629514785654,-0.011674144443039908,-0.0036528593025046143,-0.0047625087478976365,-0.009970171636263457,0.0028093797084022083,0.0034081034049396725,-0.002399595332975017,0.0012922559862966778,-0.0021734789764223513,-0.005026318891746808,-0.011618452657469167,-0.009414982627346231,-0.007664658127062974,-0.012429375766255057,-0.011457861747962789,-0.0069569537354393736,-0.004855570930837816,-0.006137058833676279,-0.009686281099153066],[0.0020255666677759594,-0.011615993957471525,-0.006339782068323116,-0.0004091932288101478,-0.006334567629287347,-0.011098686078984126,-0.003090574381481145,0.0033936696190656227,-0.004335115505547542,-0.002432999655643582,-0.003504668213034806,0.0015974426867050285,-0.0035836914365758765,-0.009565489729525745,-0.0067462876420072634,-0.0018939710015385975,0.005594212321928367,-0.0018407456397486336,-0.005636248520597358,-0.0068703426545871265,-0.007025276757416283,-0.007192981591357644,-0.01004611322729382,-0.01030351663669665,0.006861243891443221,-0.0035402600820981737,-0.013851575711771334,-0.010493111730788457,-0.014124728784515225,-0.010364366876253616,-0.0021022597265072072,-0.0017894434337511597],[0.019286179356374687,0.003560155145113772,0.0014798913540844552,0.0015152991592399339,-0.003123638558735802,-0.010888501804541163,-0.008847391995293611,-0.0018418839290650843,-0.0061123738713399845,-0.002931288670995507,-0.0045066678736132145,0.0012132014645534269,-0.001548783800505287,-0.0005691338740930213,-0.005518481325776875,-0.010583458535046596,0.00039423198054290635,0.0038623187966816182,-0.0014009220299808025,0.004262502209101096,0.0018020922753746538,0.0042732000691794135,-0.0006461294645534959,-0.002681299472064273,-1.2835155427762759e-05,0.004554142642065844,0.0018412176935382707,-0.002634365397078111,-0.009220202679534899,-0.00019595427367712578,0.011742329664022626,0.009418439721724061],[0.02613330082738462,0.006182795954966401,0.006706678320378097,-0.001052729578575744,-0.0008855479925006156,0.0026406795245548505,0.0028937870718949107,0.0028104699668062543,-0.003941692952476659,-0.0010841189038621765,0.003947103031061468,-0.0031210748234921956,-0.002869793921388336,0.005632740498999043,0.003145321373370962,0.00046894240030059727,-0.0006803672273005361,0.005107015147190071,0.0048656678926283425,0.012442652803459043,0.005130096942542586,-0.0019323471206095049,-0.0003618176375729628,0.002359774217968723,0.0025150399392828413,0.0030312337509576233,0.001628875052877015,-0.0036672973271328286,-0.005061482645955921,0.008186950051049215,0.006527567242074281,0.009315028573396522]],\"type\":\"heatmap\",\"xaxis\":\"x\",\"yaxis\":\"y\",\"hovertemplate\":\"x: %{x}<br>y: %{y}<br>color: %{z}<extra></extra>\"}],                        {\"template\":{\"data\":{\"histogram2dcontour\":[{\"type\":\"histogram2dcontour\",\"colorbar\":{\"outlinewidth\":0,\"ticks\":\"\"},\"colorscale\":[[0.0,\"#0d0887\"],[0.1111111111111111,\"#46039f\"],[0.2222222222222222,\"#7201a8\"],[0.3333333333333333,\"#9c179e\"],[0.4444444444444444,\"#bd3786\"],[0.5555555555555556,\"#d8576b\"],[0.6666666666666666,\"#ed7953\"],[0.7777777777777778,\"#fb9f3a\"],[0.8888888888888888,\"#fdca26\"],[1.0,\"#f0f921\"]]}],\"choropleth\":[{\"type\":\"choropleth\",\"colorbar\":{\"outlinewidth\":0,\"ticks\":\"\"}}],\"histogram2d\":[{\"type\":\"histogram2d\",\"colorbar\":{\"outlinewidth\":0,\"ticks\":\"\"},\"colorscale\":[[0.0,\"#0d0887\"],[0.1111111111111111,\"#46039f\"],[0.2222222222222222,\"#7201a8\"],[0.3333333333333333,\"#9c179e\"],[0.4444444444444444,\"#bd3786\"],[0.5555555555555556,\"#d8576b\"],[0.6666666666666666,\"#ed7953\"],[0.7777777777777778,\"#fb9f3a\"],[0.8888888888888888,\"#fdca26\"],[1.0,\"#f0f921\"]]}],\"heatmap\":[{\"type\":\"heatmap\",\"colorbar\":{\"outlinewidth\":0,\"ticks\":\"\"},\"colorscale\":[[0.0,\"#0d0887\"],[0.1111111111111111,\"#46039f\"],[0.2222222222222222,\"#7201a8\"],[0.3333333333333333,\"#9c179e\"],[0.4444444444444444,\"#bd3786\"],[0.5555555555555556,\"#d8576b\"],[0.6666666666666666,\"#ed7953\"],[0.7777777777777778,\"#fb9f3a\"],[0.8888888888888888,\"#fdca26\"],[1.0,\"#f0f921\"]]}],\"heatmapgl\":[{\"type\":\"heatmapgl\",\"colorbar\":{\"outlinewidth\":0,\"ticks\":\"\"},\"colorscale\":[[0.0,\"#0d0887\"],[0.1111111111111111,\"#46039f\"],[0.2222222222222222,\"#7201a8\"],[0.3333333333333333,\"#9c179e\"],[0.4444444444444444,\"#bd3786\"],[0.5555555555555556,\"#d8576b\"],[0.6666666666666666,\"#ed7953\"],[0.7777777777777778,\"#fb9f3a\"],[0.8888888888888888,\"#fdca26\"],[1.0,\"#f0f921\"]]}],\"contourcarpet\":[{\"type\":\"contourcarpet\",\"colorbar\":{\"outlinewidth\":0,\"ticks\":\"\"}}],\"contour\":[{\"type\":\"contour\",\"colorbar\":{\"outlinewidth\":0,\"ticks\":\"\"},\"colorscale\":[[0.0,\"#0d0887\"],[0.1111111111111111,\"#46039f\"],[0.2222222222222222,\"#7201a8\"],[0.3333333333333333,\"#9c179e\"],[0.4444444444444444,\"#bd3786\"],[0.5555555555555556,\"#d8576b\"],[0.6666666666666666,\"#ed7953\"],[0.7777777777777778,\"#fb9f3a\"],[0.8888888888888888,\"#fdca26\"],[1.0,\"#f0f921\"]]}],\"surface\":[{\"type\":\"surface\",\"colorbar\":{\"outlinewidth\":0,\"ticks\":\"\"},\"colorscale\":[[0.0,\"#0d0887\"],[0.1111111111111111,\"#46039f\"],[0.2222222222222222,\"#7201a8\"],[0.3333333333333333,\"#9c179e\"],[0.4444444444444444,\"#bd3786\"],[0.5555555555555556,\"#d8576b\"],[0.6666666666666666,\"#ed7953\"],[0.7777777777777778,\"#fb9f3a\"],[0.8888888888888888,\"#fdca26\"],[1.0,\"#f0f921\"]]}],\"mesh3d\":[{\"type\":\"mesh3d\",\"colorbar\":{\"outlinewidth\":0,\"ticks\":\"\"}}],\"scatter\":[{\"fillpattern\":{\"fillmode\":\"overlay\",\"size\":10,\"solidity\":0.2},\"type\":\"scatter\"}],\"parcoords\":[{\"type\":\"parcoords\",\"line\":{\"colorbar\":{\"outlinewidth\":0,\"ticks\":\"\"}}}],\"scatterpolargl\":[{\"type\":\"scatterpolargl\",\"marker\":{\"colorbar\":{\"outlinewidth\":0,\"ticks\":\"\"}}}],\"bar\":[{\"error_x\":{\"color\":\"#2a3f5f\"},\"error_y\":{\"color\":\"#2a3f5f\"},\"marker\":{\"line\":{\"color\":\"#E5ECF6\",\"width\":0.5},\"pattern\":{\"fillmode\":\"overlay\",\"size\":10,\"solidity\":0.2}},\"type\":\"bar\"}],\"scattergeo\":[{\"type\":\"scattergeo\",\"marker\":{\"colorbar\":{\"outlinewidth\":0,\"ticks\":\"\"}}}],\"scatterpolar\":[{\"type\":\"scatterpolar\",\"marker\":{\"colorbar\":{\"outlinewidth\":0,\"ticks\":\"\"}}}],\"histogram\":[{\"marker\":{\"pattern\":{\"fillmode\":\"overlay\",\"size\":10,\"solidity\":0.2}},\"type\":\"histogram\"}],\"scattergl\":[{\"type\":\"scattergl\",\"marker\":{\"colorbar\":{\"outlinewidth\":0,\"ticks\":\"\"}}}],\"scatter3d\":[{\"type\":\"scatter3d\",\"line\":{\"colorbar\":{\"outlinewidth\":0,\"ticks\":\"\"}},\"marker\":{\"colorbar\":{\"outlinewidth\":0,\"ticks\":\"\"}}}],\"scattermapbox\":[{\"type\":\"scattermapbox\",\"marker\":{\"colorbar\":{\"outlinewidth\":0,\"ticks\":\"\"}}}],\"scatterternary\":[{\"type\":\"scatterternary\",\"marker\":{\"colorbar\":{\"outlinewidth\":0,\"ticks\":\"\"}}}],\"scattercarpet\":[{\"type\":\"scattercarpet\",\"marker\":{\"colorbar\":{\"outlinewidth\":0,\"ticks\":\"\"}}}],\"carpet\":[{\"aaxis\":{\"endlinecolor\":\"#2a3f5f\",\"gridcolor\":\"white\",\"linecolor\":\"white\",\"minorgridcolor\":\"white\",\"startlinecolor\":\"#2a3f5f\"},\"baxis\":{\"endlinecolor\":\"#2a3f5f\",\"gridcolor\":\"white\",\"linecolor\":\"white\",\"minorgridcolor\":\"white\",\"startlinecolor\":\"#2a3f5f\"},\"type\":\"carpet\"}],\"table\":[{\"cells\":{\"fill\":{\"color\":\"#EBF0F8\"},\"line\":{\"color\":\"white\"}},\"header\":{\"fill\":{\"color\":\"#C8D4E3\"},\"line\":{\"color\":\"white\"}},\"type\":\"table\"}],\"barpolar\":[{\"marker\":{\"line\":{\"color\":\"#E5ECF6\",\"width\":0.5},\"pattern\":{\"fillmode\":\"overlay\",\"size\":10,\"solidity\":0.2}},\"type\":\"barpolar\"}],\"pie\":[{\"automargin\":true,\"type\":\"pie\"}]},\"layout\":{\"autotypenumbers\":\"strict\",\"colorway\":[\"#636efa\",\"#EF553B\",\"#00cc96\",\"#ab63fa\",\"#FFA15A\",\"#19d3f3\",\"#FF6692\",\"#B6E880\",\"#FF97FF\",\"#FECB52\"],\"font\":{\"color\":\"#2a3f5f\"},\"hovermode\":\"closest\",\"hoverlabel\":{\"align\":\"left\"},\"paper_bgcolor\":\"white\",\"plot_bgcolor\":\"#E5ECF6\",\"polar\":{\"bgcolor\":\"#E5ECF6\",\"angularaxis\":{\"gridcolor\":\"white\",\"linecolor\":\"white\",\"ticks\":\"\"},\"radialaxis\":{\"gridcolor\":\"white\",\"linecolor\":\"white\",\"ticks\":\"\"}},\"ternary\":{\"bgcolor\":\"#E5ECF6\",\"aaxis\":{\"gridcolor\":\"white\",\"linecolor\":\"white\",\"ticks\":\"\"},\"baxis\":{\"gridcolor\":\"white\",\"linecolor\":\"white\",\"ticks\":\"\"},\"caxis\":{\"gridcolor\":\"white\",\"linecolor\":\"white\",\"ticks\":\"\"}},\"coloraxis\":{\"colorbar\":{\"outlinewidth\":0,\"ticks\":\"\"}},\"colorscale\":{\"sequential\":[[0.0,\"#0d0887\"],[0.1111111111111111,\"#46039f\"],[0.2222222222222222,\"#7201a8\"],[0.3333333333333333,\"#9c179e\"],[0.4444444444444444,\"#bd3786\"],[0.5555555555555556,\"#d8576b\"],[0.6666666666666666,\"#ed7953\"],[0.7777777777777778,\"#fb9f3a\"],[0.8888888888888888,\"#fdca26\"],[1.0,\"#f0f921\"]],\"sequentialminus\":[[0.0,\"#0d0887\"],[0.1111111111111111,\"#46039f\"],[0.2222222222222222,\"#7201a8\"],[0.3333333333333333,\"#9c179e\"],[0.4444444444444444,\"#bd3786\"],[0.5555555555555556,\"#d8576b\"],[0.6666666666666666,\"#ed7953\"],[0.7777777777777778,\"#fb9f3a\"],[0.8888888888888888,\"#fdca26\"],[1.0,\"#f0f921\"]],\"diverging\":[[0,\"#8e0152\"],[0.1,\"#c51b7d\"],[0.2,\"#de77ae\"],[0.3,\"#f1b6da\"],[0.4,\"#fde0ef\"],[0.5,\"#f7f7f7\"],[0.6,\"#e6f5d0\"],[0.7,\"#b8e186\"],[0.8,\"#7fbc41\"],[0.9,\"#4d9221\"],[1,\"#276419\"]]},\"xaxis\":{\"gridcolor\":\"white\",\"linecolor\":\"white\",\"ticks\":\"\",\"title\":{\"standoff\":15},\"zerolinecolor\":\"white\",\"automargin\":true,\"zerolinewidth\":2},\"yaxis\":{\"gridcolor\":\"white\",\"linecolor\":\"white\",\"ticks\":\"\",\"title\":{\"standoff\":15},\"zerolinecolor\":\"white\",\"automargin\":true,\"zerolinewidth\":2},\"scene\":{\"xaxis\":{\"backgroundcolor\":\"#E5ECF6\",\"gridcolor\":\"white\",\"linecolor\":\"white\",\"showbackground\":true,\"ticks\":\"\",\"zerolinecolor\":\"white\",\"gridwidth\":2},\"yaxis\":{\"backgroundcolor\":\"#E5ECF6\",\"gridcolor\":\"white\",\"linecolor\":\"white\",\"showbackground\":true,\"ticks\":\"\",\"zerolinecolor\":\"white\",\"gridwidth\":2},\"zaxis\":{\"backgroundcolor\":\"#E5ECF6\",\"gridcolor\":\"white\",\"linecolor\":\"white\",\"showbackground\":true,\"ticks\":\"\",\"zerolinecolor\":\"white\",\"gridwidth\":2}},\"shapedefaults\":{\"line\":{\"color\":\"#2a3f5f\"}},\"annotationdefaults\":{\"arrowcolor\":\"#2a3f5f\",\"arrowhead\":0,\"arrowwidth\":1},\"geo\":{\"bgcolor\":\"white\",\"landcolor\":\"#E5ECF6\",\"subunitcolor\":\"white\",\"showland\":true,\"showlakes\":true,\"lakecolor\":\"white\"},\"title\":{\"x\":0.05},\"mapbox\":{\"style\":\"light\"}}},\"xaxis\":{\"anchor\":\"y\",\"domain\":[0.0,1.0],\"scaleanchor\":\"y\",\"constrain\":\"domain\",\"side\":\"top\"},\"yaxis\":{\"anchor\":\"x\",\"domain\":[0.0,1.0],\"autorange\":\"reversed\",\"constrain\":\"domain\"},\"coloraxis\":{\"colorscale\":[[0.0,\"#0d0887\"],[0.1111111111111111,\"#46039f\"],[0.2222222222222222,\"#7201a8\"],[0.3333333333333333,\"#9c179e\"],[0.4444444444444444,\"#bd3786\"],[0.5555555555555556,\"#d8576b\"],[0.6666666666666666,\"#ed7953\"],[0.7777777777777778,\"#fb9f3a\"],[0.8888888888888888,\"#fdca26\"],[1.0,\"#f0f921\"]]},\"margin\":{\"t\":60}},                        {\"responsive\": true}                    ).then(function(){\n",
       "                            \n",
       "var gd = document.getElementById('4e6133e0-aaf9-457e-89ef-b6e2a8505941');\n",
       "var x = new MutationObserver(function (mutations, observer) {{\n",
       "        var display = window.getComputedStyle(gd).display;\n",
       "        if (!display || display === 'none') {{\n",
       "            console.log([gd, 'removed!']);\n",
       "            Plotly.purge(gd);\n",
       "            observer.disconnect();\n",
       "        }}\n",
       "}});\n",
       "\n",
       "// Listen for the removal of the full notebook cells\n",
       "var notebookContainer = gd.closest('#notebook-container');\n",
       "if (notebookContainer) {{\n",
       "    x.observe(notebookContainer, {childList: true});\n",
       "}}\n",
       "\n",
       "// Listen for the clearing of the current output cell\n",
       "var outputEl = gd.closest('.output');\n",
       "if (outputEl) {{\n",
       "    x.observe(outputEl, {childList: true});\n",
       "}}\n",
       "\n",
       "                        })                };                });            </script>        </div>"
      ]
     },
     "metadata": {},
     "output_type": "display_data"
    }
   ],
   "source": [
    "resultsl2_b = np.array(resultsl2_b)\n",
    "resultsl2_b = resultsl2_b.reshape([32,32])\n",
    "\n",
    "fig_b = px.imshow(resultsl2_b)\n",
    "fig_b.update_xaxes(side=\"top\")\n",
    "fig_b.show()"
   ]
  },
  {
   "cell_type": "code",
   "execution_count": 265,
   "id": "cf219f98-e52a-4d5e-afd7-d618e79f7fce",
   "metadata": {},
   "outputs": [
    {
     "data": {
      "application/vnd.plotly.v1+json": {
       "config": {
        "plotlyServerURL": "https://plot.ly"
       },
       "data": [
        {
         "coloraxis": "coloraxis",
         "hovertemplate": "x: %{x}<br>y: %{y}<br>color: %{z}<extra></extra>",
         "name": "0",
         "type": "heatmap",
         "xaxis": "x",
         "yaxis": "y",
         "z": [
          [
           0.07270052619011791,
           0.04953739505232055,
           0.038938857427472245,
           0.00778063099984077,
           -0.004815383198215487,
           0.020218536316635886,
           -0.006449725324852504,
           -0.001107727114562809,
           0.021485630296440697,
           0.009100555050508437,
           -0.015762429789892805,
           -0.01814480008902539,
           0.008888109533627585,
           -0.016910253816127544,
           -0.01416642719373111,
           -0.00889734032724125,
           0.003337750350695847,
           0.00441034468648478,
           -0.009398170414706948,
           0.009306061544309241,
           -0.0011870628520151529,
           0.012774965749940666,
           0.01305027038733634,
           0.04433961764285166,
           0.03502573022364106,
           0.02661454389939332,
           0.022914161814094634,
           0.013620194817007264,
           0.014318365331012174,
           0.035493227558998926,
           0.06152000410117008,
           0.0737065487933956
          ],
          [
           0.05441203109073038,
           0.018242940680058384,
           0.013496396325869173,
           0.003585965649767528,
           0.00881445654788452,
           0.016035890099464083,
           -0.005966670650928635,
           0.0017582387905106652,
           -0.022509769494971868,
           -0.008492833081550119,
           -0.02089816533051586,
           -0.023707263794480512,
           0.0045586036451801815,
           -0.005796854202667329,
           0.01582543786852282,
           -0.008132857095956497,
           -0.020962975689771547,
           0.001322174034208502,
           0.007324140400901699,
           0.008373233739342414,
           -0.0038821098440261657,
           0.009450309608612947,
           0.0025984403926672455,
           0.02044287082173304,
           0.009831911635584174,
           0.010357737315422486,
           0.00016572654783733598,
           -0.029057524414941648,
           -0.03088283938222402,
           -0.0023010392246127754,
           0.022805386493761206,
           0.018233349922878058
          ],
          [
           0.03700055522779851,
           -0.007997926966202969,
           -0.00018099146465937015,
           0.0009080245705710907,
           0.009940045595188818,
           0.010453145933627308,
           7.980197206367782e-05,
           0.0023471231126000105,
           -0.03013159275034591,
           -0.025599743146901673,
           -0.0026707818092000122,
           0.012816985279508076,
           0.02031840399006151,
           0.004778943525168303,
           0.02003528770572233,
           -0.024047925436473227,
           -0.03514830742128895,
           -0.034756000926997155,
           -0.001433304340728075,
           0.011381012838567002,
           0.006823489579333026,
           -0.01043127482138544,
           -0.0010109973931305856,
           0.032508650733064304,
           0.015288328746191474,
           0.011454446479719289,
           -0.012316857147328681,
           -0.011950032423074866,
           -0.0016907178524589459,
           0.0023226561062734945,
           0.022784335896710854,
           0.0007158084108403043
          ],
          [
           0.0159892567987914,
           -0.021346486000940336,
           -0.0069947443192351026,
           0.007063990784867868,
           -0.025559949859176832,
           -0.03421157386943967,
           -0.017896283357762235,
           -0.008967757262949499,
           0.0038195487856178623,
           0.003324902927932347,
           0.018789738215333307,
           0.007350511905073458,
           -0.012770581948826866,
           -0.005728458854302785,
           0.018987211028937502,
           -0.00847275761897829,
           -0.01561382539724481,
           -0.04816820007376107,
           -0.01629637675223057,
           -0.024370145195512866,
           -0.01908512810273294,
           -0.020638111472501146,
           -0.005456399066740932,
           0.011155455623283097,
           0.03326343479340646,
           0.020841952661092372,
           0.00024344944913480418,
           0.023252258864212498,
           0.00510160546648533,
           -0.019262856338215655,
           0.011052550774259248,
           0.011941370587949713
          ],
          [
           0.001264354465237256,
           -0.003035535485788319,
           0.006602861750955244,
           0.015326516015136554,
           -0.01871494220363657,
           -0.008321537284456053,
           -0.005148134503446632,
           -0.015468169340925578,
           -0.0006594102872235711,
           0.004403372561946764,
           0.01088668411616965,
           0.018466479282115235,
           0.013437402439020866,
           0.00743404316819259,
           0.02445000742134452,
           0.022382503812695485,
           0.0040833144299801,
           -0.008684261619633786,
           0.018886562999198962,
           0.014134095367403059,
           0.00844604197995814,
           -0.019568281030088334,
           -0.025583170348527574,
           -0.041430857682325295,
           -0.004652070892998851,
           -0.005512818184979298,
           -0.0078210916242801,
           -0.0013925061907020852,
           -0.011457515192800367,
           -0.021285878347474037,
           -0.0002889945288865373,
           0.016610908305118185
          ],
          [
           0.01663541425371075,
           0.01403432046262601,
           0.007417869596632128,
           0.012791691048500468,
           0.0007638452600706341,
           0.005292915577758266,
           -0.008588744559818368,
           -0.02415966653930951,
           -0.03867783649820551,
           -0.02842578688479224,
           0.007847307497385592,
           0.030141038551358718,
           0.0027443627085496705,
           -0.0023381110208492463,
           0.015230394595140856,
           0.0022793494058157195,
           -0.002234745330010916,
           -0.007379907769549743,
           0.013033200469699139,
           0.022564964415792036,
           0.024480263227161972,
           -0.005580248267678213,
           -0.012489466315108605,
           0.0002356957627736543,
           -0.006764372966983361,
           -0.004369968790692595,
           0.0017804384982623587,
           -0.008634890572284318,
           -0.0012697227619429341,
           0.0017566318627108032,
           0.0019450739712283266,
           0.0027261884421201435
          ],
          [
           0.038195154022259516,
           0.003250201145187424,
           -0.017154068965932374,
           -0.011126862867108556,
           -0.00018141963561892202,
           -0.0019729496089018923,
           -0.010061138796543443,
           -0.009025481428975062,
           -0.009898624611841463,
           -0.01296699135731048,
           0.01831318420271707,
           0.004425467703445149,
           -0.03983531381190984,
           -0.004422093054007569,
           0.016397914741381903,
           0.005170331246436423,
           0.01703279506529734,
           -0.003224777832550695,
           -0.02355370227548255,
           -0.013030767043273182,
           0.004970006127372138,
           -0.0022343782727730845,
           -0.030009964049216083,
           -0.006401576322866025,
           0.015088076752669294,
           0.012576464152839275,
           0.003773476523153417,
           -0.01378912383431722,
           -0.0006225148277225218,
           0.006282718022492327,
           -0.0031943496341881768,
           -0.0009527865812297399
          ],
          [
           0.047910689552723346,
           0.017212816197787244,
           -0.010927079038643706,
           -0.021384448531400896,
           -0.004780803838924389,
           -0.006152541773306876,
           -0.00828264214773154,
           0.022405128376683778,
           0.03059822916601462,
           0.022535459828656255,
           0.05555448478125974,
           0.0304732097932969,
           -0.03408751097984384,
           -0.004112400654000051,
           0.019523691760612003,
           -0.0026211281538171542,
           0.0020971311774268192,
           -0.0072930066097842495,
           -0.015158163644675022,
           -0.004017472939842831,
           0.0018316833695807846,
           0.005238739738870067,
           0.0002866158874739004,
           0.006236404760457696,
           -0.015257683589786956,
           -0.008564944180325489,
           -0.004208650612579027,
           -0.007963615393047244,
           -0.004496364445815553,
           0.01845146980064461,
           -0.013512544783628,
           0.001123494669153072
          ],
          [
           -0.005715664756883145,
           -0.02582560965162641,
           -0.02755687716333842,
           -0.03744101166175442,
           -0.04372120501501997,
           -0.001106193260488265,
           -0.02187556264228666,
           0.027179041255975922,
           -0.006724516049726667,
           -0.00556214252286958,
           -0.007778832161148604,
           -0.0018514654895641256,
           -0.02221195381673134,
           0.02257327090236327,
           0.027732409618132135,
           0.004309299492640591,
           -0.021678471454758846,
           0.01344730718856108,
           0.004737587785543664,
           -0.02176284854766157,
           -0.022355062305209228,
           -0.014037656595151457,
           0.004704774770013427,
           0.03317791225678868,
           -0.01590817112849306,
           0.003743086881507505,
           -0.040534259837837615,
           0.0062238225392968645,
           0.004376913990657645,
           -0.008422999797618947,
           -0.002282114429544989,
           -0.01625576517722108
          ],
          [
           0.011566324638395839,
           0.01726750135925195,
           -0.004607536608212991,
           -0.022478848399381867,
           0.006123537235577901,
           0.03029209993722662,
           -0.013771941543670282,
           -0.016474843151009572,
           -0.03401027422809952,
           -0.002671505907746231,
           0.014502530360247227,
           0.028316079108402965,
           0.0038740293680561296,
           -0.0006978516930343987,
           0.009921247961071465,
           -0.015354886679910966,
           0.005191089419158053,
           0.03137991087926838,
           -0.022567345064586287,
           0.00553862914076384,
           0.005947912702323378,
           -0.014997300978265075,
           -0.018158199078956137,
           -0.019522476984331193,
           -0.01398214545872018,
           0.017630417523709252,
           0.016446602209267146,
           0.024693050617057562,
           -0.018053686120762,
           0.003668549992487681,
           0.03208223961391425,
           -0.0012086073917815143
          ],
          [
           -0.006229063530414508,
           0.007873139409326137,
           0.009163734716166218,
           0.012342931640656004,
           0.036304742325270145,
           0.020000792346328733,
           0.017433758204472415,
           0.0002655444659318603,
           -0.023022559366868173,
           -0.01522125463259923,
           -0.005750769058963764,
           0.0043301133903863795,
           -0.019600795130561656,
           -0.015760371639147647,
           0.016503407262208794,
           0.0003330888890805007,
           0.03148304451542601,
           0.024204017907096483,
           -0.008639265836668929,
           0.04963780808806272,
           0.036478779400755314,
           -0.00757933988338485,
           0.015255808031531414,
           0.01213359009983958,
           -0.022383737788917665,
           0.005873058253644706,
           0.009736013037133647,
           0.032075016427938086,
           -0.018202959277631506,
           -0.0016236865636100424,
           0.024237697548957333,
           0.005636655119324447
          ],
          [
           0.017029183137647636,
           0.005244590970385414,
           0.01611620966671974,
           0.0147849683404409,
           0.021017952368877015,
           0.0004461330487071369,
           0.022771347303948572,
           -0.002483020290871962,
           -0.004705796323893706,
           0.010363278650882013,
           -0.012158949496233968,
           0.011311880373674659,
           0.0043172781676324235,
           0.0030935410060786146,
           0.00484803309506796,
           -0.005191345367182937,
           -0.025027332898141165,
           -0.005170738166972062,
           -0.009636288670055957,
           0.025996224736029402,
           0.006182830484638835,
           -0.006306543265422783,
           0.03362022451887221,
           0.026625168630117803,
           -0.02206139391707081,
           -0.0257134890395911,
           -0.033729674398593784,
           -0.008303123172739447,
           -0.010469114287561677,
           -0.007531166767832092,
           -0.025309999724383248,
           -0.0010917853263832295
          ],
          [
           0.03749697456540314,
           0.0048155702599959995,
           0.012902562969681862,
           -0.02313794183942527,
           -0.03336948571303839,
           -0.021745875366735643,
           -0.0002221957658058226,
           -0.01810045632705209,
           -0.011013996312555714,
           0.011894118393261603,
           0.014039197597980875,
           0.018935901772717135,
           0.019941720881567676,
           0.03080758943249787,
           0.008965723142856832,
           -0.018631569530469273,
           -0.019137150316489344,
           0.0067366521034721225,
           -0.0077263908206780495,
           -0.020147604176202392,
           -0.012114200602534297,
           -0.005940184191300097,
           0.013747919226551301,
           0.029507456326787376,
           0.017699791030473748,
           0.007372657747946473,
           0.0029956560510191045,
           0.01774021527250049,
           0.0180898859240614,
           -0.002558992279230998,
           -0.047064606234829325,
           0.009123230302355635
          ],
          [
           0.004016397347217585,
           -0.024503182261512012,
           0.0041037961061134685,
           -0.011464619001270762,
           -0.008872528012877991,
           0.03233775244891146,
           0.0022865932437605655,
           -0.017362469039293723,
           -0.006234353318669684,
           0.008783623162223527,
           -0.007582565167827474,
           -0.0008878226478730294,
           -0.007601774544209796,
           0.01006513000267424,
           0.0027438375027955065,
           -0.00244717607219671,
           -0.011627967715730068,
           0.01547059305573776,
           -0.006853179440815523,
           -0.04331148139958694,
           0.012897152976164202,
           -0.021723423188605637,
           -0.031013491650382294,
           -0.01408605716513257,
           0.025161136635691018,
           0.017134486240791166,
           0.0053803859592703,
           0.015681167936061793,
           0.008771868221991774,
           0.011887594222967594,
           -0.010180997179327972,
           0.0027679765303781243
          ],
          [
           -0.02587370488740037,
           -0.044332610116808016,
           0.010439890140179403,
           -0.013964447338567469,
           -0.027643657136413532,
           0.012769783082823973,
           0.0006541420514033164,
           0.02229426229156851,
           -0.010191411905727699,
           0.015788298545305487,
           0.0059336609920094,
           0.017900163079003134,
           0.004954521348360321,
           0.02170196577000867,
           -0.018654101447417554,
           0.009251316744136841,
           0.00940638131074126,
           -0.03231247003439766,
           -0.01672686129687398,
           0.005974647153418122,
           0.03525515088849164,
           0.017455772868287183,
           0.009484000662057348,
           -0.017000861405892635,
           0.0014509623123490252,
           -0.033831105176207486,
           -0.031564882877217,
           -0.01034084205980279,
           -0.005386814496222062,
           -0.004503265690001311,
           0.00349971772107385,
           -0.011550266985905663
          ],
          [
           -0.02610323425519602,
           -0.04155885919514033,
           0.009479913360796883,
           -0.005000483032814717,
           -0.014477848103035913,
           0.021885574830781643,
           -0.014303008420495417,
           0.019573732353000063,
           -0.0018230698041867936,
           0.03600391497798797,
           -0.003946580361901736,
           -0.01534583618771556,
           0.013563772624250302,
           0.0394870431663637,
           -0.028662127720831116,
           -0.009534595233615537,
           0.024825696626768985,
           0.0028656287749162634,
           0.03483813563750457,
           0.04525992469742851,
           -0.014546271095191363,
           0.0108759189255715,
           0.018545409049061864,
           0.013303416617864904,
           0.014962364057686906,
           -0.020360518337620002,
           -0.016072369093216618,
           -0.007962941880620805,
           -0.000964936508484799,
           -0.002516558657738595,
           0.016416818217821504,
           -0.006618900797339837
          ],
          [
           0.00988244520957513,
           0.002078475922093268,
           -0.005446129363379832,
           0.010923565011459468,
           -0.010850192384509544,
           0.012996895969372507,
           -0.010268826767199035,
           -0.007251772867300841,
           -0.02289664313726702,
           0.021647550057795575,
           -0.02546394692189474,
           -0.006134003901586213,
           -0.02019601965718066,
           0.01007997450818756,
           -0.0003231647228069095,
           -0.007901004854585471,
           0.03026548707296913,
           0.017557763425535944,
           0.013630919934896814,
           -0.0006658721272488179,
           -0.003739244792121359,
           -0.030870205114103814,
           -0.02284352450629962,
           0.037625444418017115,
           0.048874354034346056,
           0.01695147210463749,
           0.0012718254893989448,
           0.016446382690727505,
           0.0008937673153482212,
           -0.022340451373367213,
           -0.018900499562596724,
           0.003909233181520446
          ],
          [
           0.019446264786899446,
           -0.02560786355218706,
           -0.0029031061207706495,
           0.017584204630937163,
           -0.005111660678946354,
           -0.005302838417078419,
           0.008153340741614036,
           0.04543488714872392,
           -0.021203873559669073,
           -0.005976249495893794,
           -0.01581417530207361,
           0.0005278451790405515,
           -0.002469533322693088,
           0.012598045936437357,
           0.009934198843010318,
           0.00811311704217784,
           -0.02079454109011819,
           -0.008387792078792018,
           -0.012034890004215976,
           0.012999882802164941,
           0.023902759322028712,
           0.010702040061367204,
           0.007900385253422378,
           0.015028357296693148,
           -0.008013063767521198,
           -0.005617445953970256,
           -0.014474344328156568,
           -0.009573404703593035,
           -0.009226793288283788,
           0.003054840522628278,
           0.008315882403043047,
           -0.006733360029399595
          ],
          [
           0.03306994871249615,
           -0.01872290494021104,
           0.005328330226657163,
           0.013102270599998174,
           -0.022889840821400276,
           -0.03943835562371483,
           -0.005529333451984477,
           0.032517825224219296,
           -0.01702627833275091,
           0.013181134316585442,
           -0.003245468256466219,
           0.025441810537375112,
           0.02328804669397941,
           0.004916690484942079,
           0.0009241181574949344,
           -0.006097660435318571,
           -0.03262432640179308,
           -0.0009801495202485337,
           -0.007594902766869251,
           -0.01377151178048125,
           -0.004618898041458825,
           0.008625939321623135,
           0.016625758876255274,
           0.0235829549288259,
           -0.020214006439324833,
           0.005030881920541857,
           0.017627304611146113,
           -0.023822048225565974,
           -0.03863236196801624,
           -0.009555859275726521,
           -0.0035361495569607247,
           0.013460204175242034
          ],
          [
           0.055502094734732124,
           -0.010109223093070961,
           -0.029505998638597528,
           0.0031533023836327156,
           0.007832559956175659,
           -0.0116239725355328,
           -0.0018985445368336728,
           -0.008590229196099836,
           0.011004860937309471,
           0.040662575756755984,
           0.008426548817643384,
           0.011828851786455782,
           -0.0005943188754837063,
           0.004298328769186779,
           0.021241240672477204,
           0.028834000578436974,
           -0.01236051260082156,
           -0.002099174829564098,
           -0.004731101943035346,
           0.008279123790168822,
           0.007922743769957837,
           -0.0012002187184628082,
           -0.005070045674158916,
           -0.0031697736013898995,
           0.00882808253831716,
           0.010898626948176282,
           0.024249305929132027,
           0.008713955248146707,
           -0.01571520350022192,
           -0.013382972471254643,
           -0.019417970303139152,
           0.005156032918076236
          ],
          [
           0.004173181155138343,
           -0.03888153510914412,
           -0.016131406499556182,
           -0.01148921230810741,
           0.0064591849547205,
           0.017920795723122773,
           0.02573051074763567,
           0.01087179356171828,
           -0.010653405612082658,
           0.0046743320509944975,
           -0.024092584545338226,
           -0.008155769287292437,
           0.00011282862475389677,
           0.007921623211193192,
           -0.00781396621478191,
           -0.003635892459774203,
           0.042574353566168704,
           0.01890710106195499,
           -0.016153407373078417,
           -0.02471021249612011,
           0.03290745139112841,
           0.021085575073351424,
           -0.011419854629558836,
           -0.019967387912467088,
           -0.029299228156801062,
           -0.03264809682404483,
           -0.021715494445088423,
           0.008311927428497026,
           -0.002214586027107306,
           -0.016848196709664733,
           -0.0004965591000960128,
           0.003701477960053389
          ],
          [
           0.006761586288737735,
           -0.04420490573472811,
           0.00439002623504923,
           -0.03420087750144413,
           -0.04601307986338643,
           -0.027791172728249852,
           -0.006979375255029303,
           -0.008610957654932035,
           0.008173262215864728,
           0.03681712016645732,
           0.019861976608532624,
           0.00666948573345295,
           -0.004245480137028819,
           -0.010566445838205206,
           -0.01742996493268556,
           0.012715423467259863,
           0.05404329839515902,
           0.014112613130152371,
           -0.0012196206396966978,
           0.000758757509684029,
           0.0034097493437702424,
           -0.01756674489154882,
           0.013865286379016815,
           0.02853748102315918,
           -0.01213462301906373,
           0.02089625905697683,
           0.03688731604703782,
           -0.00879592676588663,
           -0.03332249362686395,
           -0.01605250706601104,
           0.03229115202550466,
           0.026489267349137154
          ],
          [
           0.05261242937722897,
           -0.03348847145372251,
           0.007097925334174305,
           0.017923585617283605,
           -0.004259605844983246,
           -0.01976321436500326,
           -0.013970961583449952,
           -0.0014254826001412005,
           -0.01918206348047998,
           -0.0019572138795755784,
           0.011213775977086598,
           -0.003220947195510515,
           -0.017821590530167592,
           -0.013029021653066117,
           -0.024193797805938964,
           -0.0336059131402453,
           -0.0226336413068155,
           -0.009760214028449732,
           0.020685162635887325,
           0.023722028125935043,
           -0.02053057017192978,
           -0.02841549152146669,
           0.015518980139215854,
           0.0024460211197656298,
           -0.006734635275701695,
           0.013183671634752064,
           0.04119689514191463,
           -0.007095681313685712,
           -0.027220724461557603,
           -0.009778652227984989,
           0.03138096778809785,
           0.050624020860431884
          ],
          [
           0.03090384088123322,
           -0.026902521868339576,
           -0.0074032774566125436,
           0.02221716451682973,
           0.019230320285991125,
           0.018655931274875685,
           0.01360819381280974,
           0.01986378323377331,
           -0.011906408565948304,
           -0.009927290465346319,
           -0.0023088621827587075,
           0.00071211375560095,
           -0.021771613787833176,
           0.0019214486625213772,
           0.017688643733196615,
           0.02960893522766624,
           -0.023602196412569297,
           0.04066908170605735,
           0.04844406347798985,
           0.01833857758073503,
           -0.007540709623737794,
           0.00914136190153394,
           -0.009563661922283343,
           -0.015275280747034266,
           -0.004662222780430846,
           -0.025410052664936934,
           -0.005761707863535655,
           -0.024299346700705052,
           0.011034062495326466,
           -0.015889248873757485,
           -0.018348136362895125,
           0.0036289509813135106
          ],
          [
           0.03477495022962736,
           -0.019268763816327465,
           -0.003118479705017916,
           0.008135469879941935,
           -7.61545977047385e-05,
           0.002538007236371637,
           0.004508496157154512,
           0.010949621490338988,
           0.007405828847544707,
           -0.032191340205572454,
           -0.026813607193575666,
           0.027976326206788665,
           -0.023874362768875085,
           0.02542012874473424,
           0.019880859753723865,
           0.047652808029404914,
           -0.01781559763561097,
           -0.020477545263200662,
           -0.0013423125826163111,
           -0.0005707306025557043,
           0.01211396211996516,
           0.007583381078401126,
           -0.022351566112104232,
           0.011355559742073787,
           0.008182191164426061,
           -0.00744119209277628,
           -0.019749625106059987,
           -0.014474614713350839,
           -0.019094016503146845,
           -0.011763327221011022,
           0.02648510327606783,
           0.03704155426661025
          ],
          [
           0.020247506792192314,
           -0.029515914431640856,
           -0.023048853568660037,
           -0.028645281132283693,
           -0.0371507548802382,
           -0.03215223406543015,
           0.0017474585758497742,
           0.004716938679839742,
           -0.00724345659658002,
           -0.034699639663433465,
           -0.0020233144967292753,
           0.04274218546052352,
           0.01475723636103906,
           0.016121470802107435,
           -0.008930954137784795,
           0.023141665622257595,
           -0.003159903328487129,
           -0.01605046426737197,
           0.0016339401178912685,
           0.019168396467082648,
           0.007514537290008011,
           -0.005169984878962047,
           -0.023388415567335084,
           -0.0013188481255233325,
           0.00865226937047518,
           -0.004249756038652647,
           -0.014210423807307396,
           -0.008034029212060723,
           -0.010760013190601698,
           -0.028016389863400833,
           0.006479287761560525,
           0.017356186754600558
          ],
          [
           0.03569138277988926,
           -0.01825839321609013,
           0.007790212707381561,
           0.01944984250390901,
           -0.005297324122018228,
           -0.026648574013469907,
           -0.0008090818188128826,
           0.0021070227968891042,
           -0.007363635445750702,
           -0.024900888249256396,
           0.013140967868544651,
           0.001858249965671972,
           -0.018302567302753144,
           -0.024851096860421768,
           -0.0230505237041974,
           -0.0030087712552424,
           0.015685058221286012,
           0.006642961748298978,
           -0.013980859779580818,
           -0.005904238922437045,
           -0.019941170249290187,
           -0.009324548267792662,
           -0.008376991420574336,
           -0.02547548153348495,
           0.0011924698684117414,
           0.02429740334466518,
           0.008277467268596244,
           0.016899941742237315,
           0.026865226562126854,
           0.005651730566675629,
           0.019966535424852043,
           0.006208387609296086
          ],
          [
           0.06809586474520853,
           0.011418034462554414,
           0.025211781222793977,
           0.03132715190761097,
           0.006754898155120632,
           -0.0013453166926400222,
           -0.0006408962109566902,
           -0.021552733344099302,
           -0.013290753344554887,
           0.0026067732896846215,
           0.018277834863504996,
           0.015406374840311245,
           0.02778085097213044,
           -0.011649669976191164,
           0.0024015104953135505,
           -0.021578197269578655,
           -0.018110759881592373,
           0.027303369689588235,
           0.017927766864900357,
           0.00017959517336407034,
           -0.0035001878435765533,
           0.017852848434752856,
           0.024802445368086384,
           -0.01828891966174316,
           -0.021987639264224784,
           0.014561565333798899,
           -0.010684800890277936,
           -0.006592895714730524,
           0.029911162085187883,
           0.010497252078427633,
           0.0025843522504874258,
           -0.025559746974691874
          ],
          [
           0.044952477837140035,
           -0.010105012096345093,
           -0.005625503160038073,
           -0.013654554743534282,
           -0.04307131960603593,
           -0.016704279362147197,
           0.02633345642002352,
           0.022322128179066203,
           -0.0036188268037303717,
           0.00781855623949914,
           0.008458589074103547,
           0.010129118612683768,
           0.007121572983308634,
           -0.04260565140489487,
           -0.024270081768734693,
           -0.024088505544657017,
           -0.03783230302570201,
           -0.0037749755146025852,
           0.004298225381175326,
           -0.013549533301212715,
           0.0013350611579318568,
           0.0016489025013598614,
           -0.00013389309611414046,
           -0.019366194421072368,
           -0.016579988855185145,
           -0.01661062859665853,
           -0.030029245716712408,
           -0.020783385879694697,
           -0.002259120774646647,
           0.004951613351931782,
           0.0033841521348383597,
           -0.007398495812394469
          ],
          [
           0.035757068459448434,
           -0.01438408573717389,
           -0.005094305919072402,
           0.010000652417185464,
           -0.01690026421075455,
           -0.03419276707907784,
           -0.011802157863989568,
           0.012174858647769612,
           -0.01063567790791524,
           0.003831347611977136,
           -7.368936421192889e-05,
           0.013044198951653548,
           -0.007864823770316632,
           -0.031417667801060575,
           -0.026335357095953332,
           -0.011102693661668689,
           0.01308336099379434,
           -0.013939917579015557,
           -0.02421456930255375,
           -0.027464707338512594,
           -0.02312228079332078,
           -0.016991610364730243,
           -0.021314952338913423,
           -0.01992813555307641,
           0.029402465240153025,
           -0.005268351777283213,
           -0.0348523874684453,
           -0.017418362463172125,
           -0.022837856516688806,
           -0.01095710211830205,
           0.01936581246616199,
           0.023711997607105857
          ],
          [
           0.09514494187134506,
           0.03440283147670594,
           0.01871617800479635,
           0.013243354979041602,
           -0.008858443020446324,
           -0.03550660913900265,
           -0.030454707128645342,
           -0.0057544188333186865,
           -0.012350619317755267,
           0.002180577605391818,
           -0.006715758798029417,
           0.009227641314485798,
           -0.0049251877350426935,
           -0.0013596568421834487,
           -0.017955148625903777,
           -0.0313645550736638,
           -0.001221757532194108,
           0.005634669084914167,
           -0.013752670491968318,
           0.0015330552527480523,
           -0.004912769905430745,
           0.008657256380953717,
           0.0006178305344591951,
           -0.006293502053633973,
           0.0008123789663156849,
           0.011714558421115132,
           0.008098393195453558,
           0.0017577926761424795,
           -0.010824616395192294,
           0.022094525516415785,
           0.06401883728119387,
           0.06326610627056455
          ],
          [
           0.12380211881226576,
           0.04225627391810963,
           0.03221623319020978,
           0.004954044058184804,
           0.0033618224319308765,
           0.014542754632471011,
           0.016412993186228145,
           0.018010102713510834,
           -0.00021110640958107519,
           0.014256880248257855,
           0.026378227609564174,
           -0.0007614185643340181,
           -0.008659424565486278,
           0.01922078274110561,
           0.011413315872095969,
           0.006867076004035375,
           -0.00024706137021336476,
           0.011566480218837345,
           0.006434262938234823,
           0.02745682123074278,
           0.00410056488472045,
           -0.011445016203216314,
           0.001506625798483813,
           0.01060202344286962,
           0.006299927682679358,
           0.004517681976918766,
           0.004328520920211708,
           -0.0021018982045292447,
           0.0005953909641586855,
           0.050007973509077944,
           0.052028762498052154,
           0.0686147813846067
          ]
         ]
        }
       ],
       "layout": {
        "autosize": true,
        "coloraxis": {
         "colorscale": [
          [
           0,
           "#0d0887"
          ],
          [
           0.1111111111111111,
           "#46039f"
          ],
          [
           0.2222222222222222,
           "#7201a8"
          ],
          [
           0.3333333333333333,
           "#9c179e"
          ],
          [
           0.4444444444444444,
           "#bd3786"
          ],
          [
           0.5555555555555556,
           "#d8576b"
          ],
          [
           0.6666666666666666,
           "#ed7953"
          ],
          [
           0.7777777777777778,
           "#fb9f3a"
          ],
          [
           0.8888888888888888,
           "#fdca26"
          ],
          [
           1,
           "#f0f921"
          ]
         ]
        },
        "margin": {
         "t": 60
        },
        "template": {
         "data": {
          "bar": [
           {
            "error_x": {
             "color": "#2a3f5f"
            },
            "error_y": {
             "color": "#2a3f5f"
            },
            "marker": {
             "line": {
              "color": "#E5ECF6",
              "width": 0.5
             },
             "pattern": {
              "fillmode": "overlay",
              "size": 10,
              "solidity": 0.2
             }
            },
            "type": "bar"
           }
          ],
          "barpolar": [
           {
            "marker": {
             "line": {
              "color": "#E5ECF6",
              "width": 0.5
             },
             "pattern": {
              "fillmode": "overlay",
              "size": 10,
              "solidity": 0.2
             }
            },
            "type": "barpolar"
           }
          ],
          "carpet": [
           {
            "aaxis": {
             "endlinecolor": "#2a3f5f",
             "gridcolor": "white",
             "linecolor": "white",
             "minorgridcolor": "white",
             "startlinecolor": "#2a3f5f"
            },
            "baxis": {
             "endlinecolor": "#2a3f5f",
             "gridcolor": "white",
             "linecolor": "white",
             "minorgridcolor": "white",
             "startlinecolor": "#2a3f5f"
            },
            "type": "carpet"
           }
          ],
          "choropleth": [
           {
            "colorbar": {
             "outlinewidth": 0,
             "ticks": ""
            },
            "type": "choropleth"
           }
          ],
          "contour": [
           {
            "colorbar": {
             "outlinewidth": 0,
             "ticks": ""
            },
            "colorscale": [
             [
              0,
              "#0d0887"
             ],
             [
              0.1111111111111111,
              "#46039f"
             ],
             [
              0.2222222222222222,
              "#7201a8"
             ],
             [
              0.3333333333333333,
              "#9c179e"
             ],
             [
              0.4444444444444444,
              "#bd3786"
             ],
             [
              0.5555555555555556,
              "#d8576b"
             ],
             [
              0.6666666666666666,
              "#ed7953"
             ],
             [
              0.7777777777777778,
              "#fb9f3a"
             ],
             [
              0.8888888888888888,
              "#fdca26"
             ],
             [
              1,
              "#f0f921"
             ]
            ],
            "type": "contour"
           }
          ],
          "contourcarpet": [
           {
            "colorbar": {
             "outlinewidth": 0,
             "ticks": ""
            },
            "type": "contourcarpet"
           }
          ],
          "heatmap": [
           {
            "colorbar": {
             "outlinewidth": 0,
             "ticks": ""
            },
            "colorscale": [
             [
              0,
              "#0d0887"
             ],
             [
              0.1111111111111111,
              "#46039f"
             ],
             [
              0.2222222222222222,
              "#7201a8"
             ],
             [
              0.3333333333333333,
              "#9c179e"
             ],
             [
              0.4444444444444444,
              "#bd3786"
             ],
             [
              0.5555555555555556,
              "#d8576b"
             ],
             [
              0.6666666666666666,
              "#ed7953"
             ],
             [
              0.7777777777777778,
              "#fb9f3a"
             ],
             [
              0.8888888888888888,
              "#fdca26"
             ],
             [
              1,
              "#f0f921"
             ]
            ],
            "type": "heatmap"
           }
          ],
          "heatmapgl": [
           {
            "colorbar": {
             "outlinewidth": 0,
             "ticks": ""
            },
            "colorscale": [
             [
              0,
              "#0d0887"
             ],
             [
              0.1111111111111111,
              "#46039f"
             ],
             [
              0.2222222222222222,
              "#7201a8"
             ],
             [
              0.3333333333333333,
              "#9c179e"
             ],
             [
              0.4444444444444444,
              "#bd3786"
             ],
             [
              0.5555555555555556,
              "#d8576b"
             ],
             [
              0.6666666666666666,
              "#ed7953"
             ],
             [
              0.7777777777777778,
              "#fb9f3a"
             ],
             [
              0.8888888888888888,
              "#fdca26"
             ],
             [
              1,
              "#f0f921"
             ]
            ],
            "type": "heatmapgl"
           }
          ],
          "histogram": [
           {
            "marker": {
             "pattern": {
              "fillmode": "overlay",
              "size": 10,
              "solidity": 0.2
             }
            },
            "type": "histogram"
           }
          ],
          "histogram2d": [
           {
            "colorbar": {
             "outlinewidth": 0,
             "ticks": ""
            },
            "colorscale": [
             [
              0,
              "#0d0887"
             ],
             [
              0.1111111111111111,
              "#46039f"
             ],
             [
              0.2222222222222222,
              "#7201a8"
             ],
             [
              0.3333333333333333,
              "#9c179e"
             ],
             [
              0.4444444444444444,
              "#bd3786"
             ],
             [
              0.5555555555555556,
              "#d8576b"
             ],
             [
              0.6666666666666666,
              "#ed7953"
             ],
             [
              0.7777777777777778,
              "#fb9f3a"
             ],
             [
              0.8888888888888888,
              "#fdca26"
             ],
             [
              1,
              "#f0f921"
             ]
            ],
            "type": "histogram2d"
           }
          ],
          "histogram2dcontour": [
           {
            "colorbar": {
             "outlinewidth": 0,
             "ticks": ""
            },
            "colorscale": [
             [
              0,
              "#0d0887"
             ],
             [
              0.1111111111111111,
              "#46039f"
             ],
             [
              0.2222222222222222,
              "#7201a8"
             ],
             [
              0.3333333333333333,
              "#9c179e"
             ],
             [
              0.4444444444444444,
              "#bd3786"
             ],
             [
              0.5555555555555556,
              "#d8576b"
             ],
             [
              0.6666666666666666,
              "#ed7953"
             ],
             [
              0.7777777777777778,
              "#fb9f3a"
             ],
             [
              0.8888888888888888,
              "#fdca26"
             ],
             [
              1,
              "#f0f921"
             ]
            ],
            "type": "histogram2dcontour"
           }
          ],
          "mesh3d": [
           {
            "colorbar": {
             "outlinewidth": 0,
             "ticks": ""
            },
            "type": "mesh3d"
           }
          ],
          "parcoords": [
           {
            "line": {
             "colorbar": {
              "outlinewidth": 0,
              "ticks": ""
             }
            },
            "type": "parcoords"
           }
          ],
          "pie": [
           {
            "automargin": true,
            "type": "pie"
           }
          ],
          "scatter": [
           {
            "fillpattern": {
             "fillmode": "overlay",
             "size": 10,
             "solidity": 0.2
            },
            "type": "scatter"
           }
          ],
          "scatter3d": [
           {
            "line": {
             "colorbar": {
              "outlinewidth": 0,
              "ticks": ""
             }
            },
            "marker": {
             "colorbar": {
              "outlinewidth": 0,
              "ticks": ""
             }
            },
            "type": "scatter3d"
           }
          ],
          "scattercarpet": [
           {
            "marker": {
             "colorbar": {
              "outlinewidth": 0,
              "ticks": ""
             }
            },
            "type": "scattercarpet"
           }
          ],
          "scattergeo": [
           {
            "marker": {
             "colorbar": {
              "outlinewidth": 0,
              "ticks": ""
             }
            },
            "type": "scattergeo"
           }
          ],
          "scattergl": [
           {
            "marker": {
             "colorbar": {
              "outlinewidth": 0,
              "ticks": ""
             }
            },
            "type": "scattergl"
           }
          ],
          "scattermapbox": [
           {
            "marker": {
             "colorbar": {
              "outlinewidth": 0,
              "ticks": ""
             }
            },
            "type": "scattermapbox"
           }
          ],
          "scatterpolar": [
           {
            "marker": {
             "colorbar": {
              "outlinewidth": 0,
              "ticks": ""
             }
            },
            "type": "scatterpolar"
           }
          ],
          "scatterpolargl": [
           {
            "marker": {
             "colorbar": {
              "outlinewidth": 0,
              "ticks": ""
             }
            },
            "type": "scatterpolargl"
           }
          ],
          "scatterternary": [
           {
            "marker": {
             "colorbar": {
              "outlinewidth": 0,
              "ticks": ""
             }
            },
            "type": "scatterternary"
           }
          ],
          "surface": [
           {
            "colorbar": {
             "outlinewidth": 0,
             "ticks": ""
            },
            "colorscale": [
             [
              0,
              "#0d0887"
             ],
             [
              0.1111111111111111,
              "#46039f"
             ],
             [
              0.2222222222222222,
              "#7201a8"
             ],
             [
              0.3333333333333333,
              "#9c179e"
             ],
             [
              0.4444444444444444,
              "#bd3786"
             ],
             [
              0.5555555555555556,
              "#d8576b"
             ],
             [
              0.6666666666666666,
              "#ed7953"
             ],
             [
              0.7777777777777778,
              "#fb9f3a"
             ],
             [
              0.8888888888888888,
              "#fdca26"
             ],
             [
              1,
              "#f0f921"
             ]
            ],
            "type": "surface"
           }
          ],
          "table": [
           {
            "cells": {
             "fill": {
              "color": "#EBF0F8"
             },
             "line": {
              "color": "white"
             }
            },
            "header": {
             "fill": {
              "color": "#C8D4E3"
             },
             "line": {
              "color": "white"
             }
            },
            "type": "table"
           }
          ]
         },
         "layout": {
          "annotationdefaults": {
           "arrowcolor": "#2a3f5f",
           "arrowhead": 0,
           "arrowwidth": 1
          },
          "autotypenumbers": "strict",
          "coloraxis": {
           "colorbar": {
            "outlinewidth": 0,
            "ticks": ""
           }
          },
          "colorscale": {
           "diverging": [
            [
             0,
             "#8e0152"
            ],
            [
             0.1,
             "#c51b7d"
            ],
            [
             0.2,
             "#de77ae"
            ],
            [
             0.3,
             "#f1b6da"
            ],
            [
             0.4,
             "#fde0ef"
            ],
            [
             0.5,
             "#f7f7f7"
            ],
            [
             0.6,
             "#e6f5d0"
            ],
            [
             0.7,
             "#b8e186"
            ],
            [
             0.8,
             "#7fbc41"
            ],
            [
             0.9,
             "#4d9221"
            ],
            [
             1,
             "#276419"
            ]
           ],
           "sequential": [
            [
             0,
             "#0d0887"
            ],
            [
             0.1111111111111111,
             "#46039f"
            ],
            [
             0.2222222222222222,
             "#7201a8"
            ],
            [
             0.3333333333333333,
             "#9c179e"
            ],
            [
             0.4444444444444444,
             "#bd3786"
            ],
            [
             0.5555555555555556,
             "#d8576b"
            ],
            [
             0.6666666666666666,
             "#ed7953"
            ],
            [
             0.7777777777777778,
             "#fb9f3a"
            ],
            [
             0.8888888888888888,
             "#fdca26"
            ],
            [
             1,
             "#f0f921"
            ]
           ],
           "sequentialminus": [
            [
             0,
             "#0d0887"
            ],
            [
             0.1111111111111111,
             "#46039f"
            ],
            [
             0.2222222222222222,
             "#7201a8"
            ],
            [
             0.3333333333333333,
             "#9c179e"
            ],
            [
             0.4444444444444444,
             "#bd3786"
            ],
            [
             0.5555555555555556,
             "#d8576b"
            ],
            [
             0.6666666666666666,
             "#ed7953"
            ],
            [
             0.7777777777777778,
             "#fb9f3a"
            ],
            [
             0.8888888888888888,
             "#fdca26"
            ],
            [
             1,
             "#f0f921"
            ]
           ]
          },
          "colorway": [
           "#636efa",
           "#EF553B",
           "#00cc96",
           "#ab63fa",
           "#FFA15A",
           "#19d3f3",
           "#FF6692",
           "#B6E880",
           "#FF97FF",
           "#FECB52"
          ],
          "font": {
           "color": "#2a3f5f"
          },
          "geo": {
           "bgcolor": "white",
           "lakecolor": "white",
           "landcolor": "#E5ECF6",
           "showlakes": true,
           "showland": true,
           "subunitcolor": "white"
          },
          "hoverlabel": {
           "align": "left"
          },
          "hovermode": "closest",
          "mapbox": {
           "style": "light"
          },
          "paper_bgcolor": "white",
          "plot_bgcolor": "#E5ECF6",
          "polar": {
           "angularaxis": {
            "gridcolor": "white",
            "linecolor": "white",
            "ticks": ""
           },
           "bgcolor": "#E5ECF6",
           "radialaxis": {
            "gridcolor": "white",
            "linecolor": "white",
            "ticks": ""
           }
          },
          "scene": {
           "xaxis": {
            "backgroundcolor": "#E5ECF6",
            "gridcolor": "white",
            "gridwidth": 2,
            "linecolor": "white",
            "showbackground": true,
            "ticks": "",
            "zerolinecolor": "white"
           },
           "yaxis": {
            "backgroundcolor": "#E5ECF6",
            "gridcolor": "white",
            "gridwidth": 2,
            "linecolor": "white",
            "showbackground": true,
            "ticks": "",
            "zerolinecolor": "white"
           },
           "zaxis": {
            "backgroundcolor": "#E5ECF6",
            "gridcolor": "white",
            "gridwidth": 2,
            "linecolor": "white",
            "showbackground": true,
            "ticks": "",
            "zerolinecolor": "white"
           }
          },
          "shapedefaults": {
           "line": {
            "color": "#2a3f5f"
           }
          },
          "ternary": {
           "aaxis": {
            "gridcolor": "white",
            "linecolor": "white",
            "ticks": ""
           },
           "baxis": {
            "gridcolor": "white",
            "linecolor": "white",
            "ticks": ""
           },
           "bgcolor": "#E5ECF6",
           "caxis": {
            "gridcolor": "white",
            "linecolor": "white",
            "ticks": ""
           }
          },
          "title": {
           "x": 0.05
          },
          "xaxis": {
           "automargin": true,
           "gridcolor": "white",
           "linecolor": "white",
           "ticks": "",
           "title": {
            "standoff": 15
           },
           "zerolinecolor": "white",
           "zerolinewidth": 2
          },
          "yaxis": {
           "automargin": true,
           "gridcolor": "white",
           "linecolor": "white",
           "ticks": "",
           "title": {
            "standoff": 15
           },
           "zerolinecolor": "white",
           "zerolinewidth": 2
          }
         }
        },
        "xaxis": {
         "anchor": "y",
         "autorange": true,
         "constrain": "domain",
         "domain": [
          0.3668280871670702,
          0.6331719128329298
         ],
         "range": [
          -0.5,
          31.5
         ],
         "scaleanchor": "y",
         "side": "top"
        },
        "yaxis": {
         "anchor": "x",
         "autorange": true,
         "constrain": "domain",
         "domain": [
          0,
          1
         ],
         "range": [
          31.5,
          -0.5
         ]
        }
       }
      },
      "image/png": "[encoded data removed]",
      "text/html": [
       "<div>                            <div id=\"24ad86b9-b32d-45ac-9d6f-2c8a85dca11a\" class=\"plotly-graph-div\" style=\"height:525px; width:100%;\"></div>            <script type=\"text/javascript\">                require([\"plotly\"], function(Plotly) {                    window.PLOTLYENV=window.PLOTLYENV || {};                                    if (document.getElementById(\"24ad86b9-b32d-45ac-9d6f-2c8a85dca11a\")) {                    Plotly.newPlot(                        \"24ad86b9-b32d-45ac-9d6f-2c8a85dca11a\",                        [{\"coloraxis\":\"coloraxis\",\"name\":\"0\",\"z\":[[0.07270052619011791,0.04953739505232055,0.038938857427472245,0.00778063099984077,-0.004815383198215487,0.020218536316635886,-0.006449725324852504,-0.001107727114562809,0.021485630296440697,0.009100555050508437,-0.015762429789892805,-0.01814480008902539,0.008888109533627585,-0.016910253816127544,-0.01416642719373111,-0.00889734032724125,0.003337750350695847,0.00441034468648478,-0.009398170414706948,0.009306061544309241,-0.0011870628520151529,0.012774965749940666,0.01305027038733634,0.04433961764285166,0.03502573022364106,0.02661454389939332,0.022914161814094634,0.013620194817007264,0.014318365331012174,0.035493227558998926,0.06152000410117008,0.0737065487933956],[0.05441203109073038,0.018242940680058384,0.013496396325869173,0.003585965649767528,0.00881445654788452,0.016035890099464083,-0.005966670650928635,0.0017582387905106652,-0.022509769494971868,-0.008492833081550119,-0.02089816533051586,-0.023707263794480512,0.0045586036451801815,-0.005796854202667329,0.01582543786852282,-0.008132857095956497,-0.020962975689771547,0.001322174034208502,0.007324140400901699,0.008373233739342414,-0.0038821098440261657,0.009450309608612947,0.0025984403926672455,0.02044287082173304,0.009831911635584174,0.010357737315422486,0.00016572654783733598,-0.029057524414941648,-0.03088283938222402,-0.0023010392246127754,0.022805386493761206,0.018233349922878058],[0.03700055522779851,-0.007997926966202969,-0.00018099146465937015,0.0009080245705710907,0.009940045595188818,0.010453145933627308,7.980197206367782e-05,0.0023471231126000105,-0.03013159275034591,-0.025599743146901673,-0.0026707818092000122,0.012816985279508076,0.02031840399006151,0.004778943525168303,0.02003528770572233,-0.024047925436473227,-0.03514830742128895,-0.034756000926997155,-0.001433304340728075,0.011381012838567002,0.006823489579333026,-0.01043127482138544,-0.0010109973931305856,0.032508650733064304,0.015288328746191474,0.011454446479719289,-0.012316857147328681,-0.011950032423074866,-0.0016907178524589459,0.0023226561062734945,0.022784335896710854,0.0007158084108403043],[0.0159892567987914,-0.021346486000940336,-0.0069947443192351026,0.007063990784867868,-0.025559949859176832,-0.03421157386943967,-0.017896283357762235,-0.008967757262949499,0.0038195487856178623,0.003324902927932347,0.018789738215333307,0.007350511905073458,-0.012770581948826866,-0.005728458854302785,0.018987211028937502,-0.00847275761897829,-0.01561382539724481,-0.04816820007376107,-0.01629637675223057,-0.024370145195512866,-0.01908512810273294,-0.020638111472501146,-0.005456399066740932,0.011155455623283097,0.03326343479340646,0.020841952661092372,0.00024344944913480418,0.023252258864212498,0.00510160546648533,-0.019262856338215655,0.011052550774259248,0.011941370587949713],[0.001264354465237256,-0.003035535485788319,0.006602861750955244,0.015326516015136554,-0.01871494220363657,-0.008321537284456053,-0.005148134503446632,-0.015468169340925578,-0.0006594102872235711,0.004403372561946764,0.01088668411616965,0.018466479282115235,0.013437402439020866,0.00743404316819259,0.02445000742134452,0.022382503812695485,0.0040833144299801,-0.008684261619633786,0.018886562999198962,0.014134095367403059,0.00844604197995814,-0.019568281030088334,-0.025583170348527574,-0.041430857682325295,-0.004652070892998851,-0.005512818184979298,-0.0078210916242801,-0.0013925061907020852,-0.011457515192800367,-0.021285878347474037,-0.0002889945288865373,0.016610908305118185],[0.01663541425371075,0.01403432046262601,0.007417869596632128,0.012791691048500468,0.0007638452600706341,0.005292915577758266,-0.008588744559818368,-0.02415966653930951,-0.03867783649820551,-0.02842578688479224,0.007847307497385592,0.030141038551358718,0.0027443627085496705,-0.0023381110208492463,0.015230394595140856,0.0022793494058157195,-0.002234745330010916,-0.007379907769549743,0.013033200469699139,0.022564964415792036,0.024480263227161972,-0.005580248267678213,-0.012489466315108605,0.0002356957627736543,-0.006764372966983361,-0.004369968790692595,0.0017804384982623587,-0.008634890572284318,-0.0012697227619429341,0.0017566318627108032,0.0019450739712283266,0.0027261884421201435],[0.038195154022259516,0.003250201145187424,-0.017154068965932374,-0.011126862867108556,-0.00018141963561892202,-0.0019729496089018923,-0.010061138796543443,-0.009025481428975062,-0.009898624611841463,-0.01296699135731048,0.01831318420271707,0.004425467703445149,-0.03983531381190984,-0.004422093054007569,0.016397914741381903,0.005170331246436423,0.01703279506529734,-0.003224777832550695,-0.02355370227548255,-0.013030767043273182,0.004970006127372138,-0.0022343782727730845,-0.030009964049216083,-0.006401576322866025,0.015088076752669294,0.012576464152839275,0.003773476523153417,-0.01378912383431722,-0.0006225148277225218,0.006282718022492327,-0.0031943496341881768,-0.0009527865812297399],[0.047910689552723346,0.017212816197787244,-0.010927079038643706,-0.021384448531400896,-0.004780803838924389,-0.006152541773306876,-0.00828264214773154,0.022405128376683778,0.03059822916601462,0.022535459828656255,0.05555448478125974,0.0304732097932969,-0.03408751097984384,-0.004112400654000051,0.019523691760612003,-0.0026211281538171542,0.0020971311774268192,-0.0072930066097842495,-0.015158163644675022,-0.004017472939842831,0.0018316833695807846,0.005238739738870067,0.0002866158874739004,0.006236404760457696,-0.015257683589786956,-0.008564944180325489,-0.004208650612579027,-0.007963615393047244,-0.004496364445815553,0.01845146980064461,-0.013512544783628,0.001123494669153072],[-0.005715664756883145,-0.02582560965162641,-0.02755687716333842,-0.03744101166175442,-0.04372120501501997,-0.001106193260488265,-0.02187556264228666,0.027179041255975922,-0.006724516049726667,-0.00556214252286958,-0.007778832161148604,-0.0018514654895641256,-0.02221195381673134,0.02257327090236327,0.027732409618132135,0.004309299492640591,-0.021678471454758846,0.01344730718856108,0.004737587785543664,-0.02176284854766157,-0.022355062305209228,-0.014037656595151457,0.004704774770013427,0.03317791225678868,-0.01590817112849306,0.003743086881507505,-0.040534259837837615,0.0062238225392968645,0.004376913990657645,-0.008422999797618947,-0.002282114429544989,-0.01625576517722108],[0.011566324638395839,0.01726750135925195,-0.004607536608212991,-0.022478848399381867,0.006123537235577901,0.03029209993722662,-0.013771941543670282,-0.016474843151009572,-0.03401027422809952,-0.002671505907746231,0.014502530360247227,0.028316079108402965,0.0038740293680561296,-0.0006978516930343987,0.009921247961071465,-0.015354886679910966,0.005191089419158053,0.03137991087926838,-0.022567345064586287,0.00553862914076384,0.005947912702323378,-0.014997300978265075,-0.018158199078956137,-0.019522476984331193,-0.01398214545872018,0.017630417523709252,0.016446602209267146,0.024693050617057562,-0.018053686120762,0.003668549992487681,0.03208223961391425,-0.0012086073917815143],[-0.006229063530414508,0.007873139409326137,0.009163734716166218,0.012342931640656004,0.036304742325270145,0.020000792346328733,0.017433758204472415,0.0002655444659318603,-0.023022559366868173,-0.01522125463259923,-0.005750769058963764,0.0043301133903863795,-0.019600795130561656,-0.015760371639147647,0.016503407262208794,0.0003330888890805007,0.03148304451542601,0.024204017907096483,-0.008639265836668929,0.04963780808806272,0.036478779400755314,-0.00757933988338485,0.015255808031531414,0.01213359009983958,-0.022383737788917665,0.005873058253644706,0.009736013037133647,0.032075016427938086,-0.018202959277631506,-0.0016236865636100424,0.024237697548957333,0.005636655119324447],[0.017029183137647636,0.005244590970385414,0.01611620966671974,0.0147849683404409,0.021017952368877015,0.0004461330487071369,0.022771347303948572,-0.002483020290871962,-0.004705796323893706,0.010363278650882013,-0.012158949496233968,0.011311880373674659,0.0043172781676324235,0.0030935410060786146,0.00484803309506796,-0.005191345367182937,-0.025027332898141165,-0.005170738166972062,-0.009636288670055957,0.025996224736029402,0.006182830484638835,-0.006306543265422783,0.03362022451887221,0.026625168630117803,-0.02206139391707081,-0.0257134890395911,-0.033729674398593784,-0.008303123172739447,-0.010469114287561677,-0.007531166767832092,-0.025309999724383248,-0.0010917853263832295],[0.03749697456540314,0.0048155702599959995,0.012902562969681862,-0.02313794183942527,-0.03336948571303839,-0.021745875366735643,-0.0002221957658058226,-0.01810045632705209,-0.011013996312555714,0.011894118393261603,0.014039197597980875,0.018935901772717135,0.019941720881567676,0.03080758943249787,0.008965723142856832,-0.018631569530469273,-0.019137150316489344,0.0067366521034721225,-0.0077263908206780495,-0.020147604176202392,-0.012114200602534297,-0.005940184191300097,0.013747919226551301,0.029507456326787376,0.017699791030473748,0.007372657747946473,0.0029956560510191045,0.01774021527250049,0.0180898859240614,-0.002558992279230998,-0.047064606234829325,0.009123230302355635],[0.004016397347217585,-0.024503182261512012,0.0041037961061134685,-0.011464619001270762,-0.008872528012877991,0.03233775244891146,0.0022865932437605655,-0.017362469039293723,-0.006234353318669684,0.008783623162223527,-0.007582565167827474,-0.0008878226478730294,-0.007601774544209796,0.01006513000267424,0.0027438375027955065,-0.00244717607219671,-0.011627967715730068,0.01547059305573776,-0.006853179440815523,-0.04331148139958694,0.012897152976164202,-0.021723423188605637,-0.031013491650382294,-0.01408605716513257,0.025161136635691018,0.017134486240791166,0.0053803859592703,0.015681167936061793,0.008771868221991774,0.011887594222967594,-0.010180997179327972,0.0027679765303781243],[-0.02587370488740037,-0.044332610116808016,0.010439890140179403,-0.013964447338567469,-0.027643657136413532,0.012769783082823973,0.0006541420514033164,0.02229426229156851,-0.010191411905727699,0.015788298545305487,0.0059336609920094,0.017900163079003134,0.004954521348360321,0.02170196577000867,-0.018654101447417554,0.009251316744136841,0.00940638131074126,-0.03231247003439766,-0.01672686129687398,0.005974647153418122,0.03525515088849164,0.017455772868287183,0.009484000662057348,-0.017000861405892635,0.0014509623123490252,-0.033831105176207486,-0.031564882877217,-0.01034084205980279,-0.005386814496222062,-0.004503265690001311,0.00349971772107385,-0.011550266985905663],[-0.02610323425519602,-0.04155885919514033,0.009479913360796883,-0.005000483032814717,-0.014477848103035913,0.021885574830781643,-0.014303008420495417,0.019573732353000063,-0.0018230698041867936,0.03600391497798797,-0.003946580361901736,-0.01534583618771556,0.013563772624250302,0.0394870431663637,-0.028662127720831116,-0.009534595233615537,0.024825696626768985,0.0028656287749162634,0.03483813563750457,0.04525992469742851,-0.014546271095191363,0.0108759189255715,0.018545409049061864,0.013303416617864904,0.014962364057686906,-0.020360518337620002,-0.016072369093216618,-0.007962941880620805,-0.000964936508484799,-0.002516558657738595,0.016416818217821504,-0.006618900797339837],[0.00988244520957513,0.002078475922093268,-0.005446129363379832,0.010923565011459468,-0.010850192384509544,0.012996895969372507,-0.010268826767199035,-0.007251772867300841,-0.02289664313726702,0.021647550057795575,-0.02546394692189474,-0.006134003901586213,-0.02019601965718066,0.01007997450818756,-0.0003231647228069095,-0.007901004854585471,0.03026548707296913,0.017557763425535944,0.013630919934896814,-0.0006658721272488179,-0.003739244792121359,-0.030870205114103814,-0.02284352450629962,0.037625444418017115,0.048874354034346056,0.01695147210463749,0.0012718254893989448,0.016446382690727505,0.0008937673153482212,-0.022340451373367213,-0.018900499562596724,0.003909233181520446],[0.019446264786899446,-0.02560786355218706,-0.0029031061207706495,0.017584204630937163,-0.005111660678946354,-0.005302838417078419,0.008153340741614036,0.04543488714872392,-0.021203873559669073,-0.005976249495893794,-0.01581417530207361,0.0005278451790405515,-0.002469533322693088,0.012598045936437357,0.009934198843010318,0.00811311704217784,-0.02079454109011819,-0.008387792078792018,-0.012034890004215976,0.012999882802164941,0.023902759322028712,0.010702040061367204,0.007900385253422378,0.015028357296693148,-0.008013063767521198,-0.005617445953970256,-0.014474344328156568,-0.009573404703593035,-0.009226793288283788,0.003054840522628278,0.008315882403043047,-0.006733360029399595],[0.03306994871249615,-0.01872290494021104,0.005328330226657163,0.013102270599998174,-0.022889840821400276,-0.03943835562371483,-0.005529333451984477,0.032517825224219296,-0.01702627833275091,0.013181134316585442,-0.003245468256466219,0.025441810537375112,0.02328804669397941,0.004916690484942079,0.0009241181574949344,-0.006097660435318571,-0.03262432640179308,-0.0009801495202485337,-0.007594902766869251,-0.01377151178048125,-0.004618898041458825,0.008625939321623135,0.016625758876255274,0.0235829549288259,-0.020214006439324833,0.005030881920541857,0.017627304611146113,-0.023822048225565974,-0.03863236196801624,-0.009555859275726521,-0.0035361495569607247,0.013460204175242034],[0.055502094734732124,-0.010109223093070961,-0.029505998638597528,0.0031533023836327156,0.007832559956175659,-0.0116239725355328,-0.0018985445368336728,-0.008590229196099836,0.011004860937309471,0.040662575756755984,0.008426548817643384,0.011828851786455782,-0.0005943188754837063,0.004298328769186779,0.021241240672477204,0.028834000578436974,-0.01236051260082156,-0.002099174829564098,-0.004731101943035346,0.008279123790168822,0.007922743769957837,-0.0012002187184628082,-0.005070045674158916,-0.0031697736013898995,0.00882808253831716,0.010898626948176282,0.024249305929132027,0.008713955248146707,-0.01571520350022192,-0.013382972471254643,-0.019417970303139152,0.005156032918076236],[0.004173181155138343,-0.03888153510914412,-0.016131406499556182,-0.01148921230810741,0.0064591849547205,0.017920795723122773,0.02573051074763567,0.01087179356171828,-0.010653405612082658,0.0046743320509944975,-0.024092584545338226,-0.008155769287292437,0.00011282862475389677,0.007921623211193192,-0.00781396621478191,-0.003635892459774203,0.042574353566168704,0.01890710106195499,-0.016153407373078417,-0.02471021249612011,0.03290745139112841,0.021085575073351424,-0.011419854629558836,-0.019967387912467088,-0.029299228156801062,-0.03264809682404483,-0.021715494445088423,0.008311927428497026,-0.002214586027107306,-0.016848196709664733,-0.0004965591000960128,0.003701477960053389],[0.006761586288737735,-0.04420490573472811,0.00439002623504923,-0.03420087750144413,-0.04601307986338643,-0.027791172728249852,-0.006979375255029303,-0.008610957654932035,0.008173262215864728,0.03681712016645732,0.019861976608532624,0.00666948573345295,-0.004245480137028819,-0.010566445838205206,-0.01742996493268556,0.012715423467259863,0.05404329839515902,0.014112613130152371,-0.0012196206396966978,0.000758757509684029,0.0034097493437702424,-0.01756674489154882,0.013865286379016815,0.02853748102315918,-0.01213462301906373,0.02089625905697683,0.03688731604703782,-0.00879592676588663,-0.03332249362686395,-0.01605250706601104,0.03229115202550466,0.026489267349137154],[0.05261242937722897,-0.03348847145372251,0.007097925334174305,0.017923585617283605,-0.004259605844983246,-0.01976321436500326,-0.013970961583449952,-0.0014254826001412005,-0.01918206348047998,-0.0019572138795755784,0.011213775977086598,-0.003220947195510515,-0.017821590530167592,-0.013029021653066117,-0.024193797805938964,-0.0336059131402453,-0.0226336413068155,-0.009760214028449732,0.020685162635887325,0.023722028125935043,-0.02053057017192978,-0.02841549152146669,0.015518980139215854,0.0024460211197656298,-0.006734635275701695,0.013183671634752064,0.04119689514191463,-0.007095681313685712,-0.027220724461557603,-0.009778652227984989,0.03138096778809785,0.050624020860431884],[0.03090384088123322,-0.026902521868339576,-0.0074032774566125436,0.02221716451682973,0.019230320285991125,0.018655931274875685,0.01360819381280974,0.01986378323377331,-0.011906408565948304,-0.009927290465346319,-0.0023088621827587075,0.00071211375560095,-0.021771613787833176,0.0019214486625213772,0.017688643733196615,0.02960893522766624,-0.023602196412569297,0.04066908170605735,0.04844406347798985,0.01833857758073503,-0.007540709623737794,0.00914136190153394,-0.009563661922283343,-0.015275280747034266,-0.004662222780430846,-0.025410052664936934,-0.005761707863535655,-0.024299346700705052,0.011034062495326466,-0.015889248873757485,-0.018348136362895125,0.0036289509813135106],[0.03477495022962736,-0.019268763816327465,-0.003118479705017916,0.008135469879941935,-7.61545977047385e-05,0.002538007236371637,0.004508496157154512,0.010949621490338988,0.007405828847544707,-0.032191340205572454,-0.026813607193575666,0.027976326206788665,-0.023874362768875085,0.02542012874473424,0.019880859753723865,0.047652808029404914,-0.01781559763561097,-0.020477545263200662,-0.0013423125826163111,-0.0005707306025557043,0.01211396211996516,0.007583381078401126,-0.022351566112104232,0.011355559742073787,0.008182191164426061,-0.00744119209277628,-0.019749625106059987,-0.014474614713350839,-0.019094016503146845,-0.011763327221011022,0.02648510327606783,0.03704155426661025],[0.020247506792192314,-0.029515914431640856,-0.023048853568660037,-0.028645281132283693,-0.0371507548802382,-0.03215223406543015,0.0017474585758497742,0.004716938679839742,-0.00724345659658002,-0.034699639663433465,-0.0020233144967292753,0.04274218546052352,0.01475723636103906,0.016121470802107435,-0.008930954137784795,0.023141665622257595,-0.003159903328487129,-0.01605046426737197,0.0016339401178912685,0.019168396467082648,0.007514537290008011,-0.005169984878962047,-0.023388415567335084,-0.0013188481255233325,0.00865226937047518,-0.004249756038652647,-0.014210423807307396,-0.008034029212060723,-0.010760013190601698,-0.028016389863400833,0.006479287761560525,0.017356186754600558],[0.03569138277988926,-0.01825839321609013,0.007790212707381561,0.01944984250390901,-0.005297324122018228,-0.026648574013469907,-0.0008090818188128826,0.0021070227968891042,-0.007363635445750702,-0.024900888249256396,0.013140967868544651,0.001858249965671972,-0.018302567302753144,-0.024851096860421768,-0.0230505237041974,-0.0030087712552424,0.015685058221286012,0.006642961748298978,-0.013980859779580818,-0.005904238922437045,-0.019941170249290187,-0.009324548267792662,-0.008376991420574336,-0.02547548153348495,0.0011924698684117414,0.02429740334466518,0.008277467268596244,0.016899941742237315,0.026865226562126854,0.005651730566675629,0.019966535424852043,0.006208387609296086],[0.06809586474520853,0.011418034462554414,0.025211781222793977,0.03132715190761097,0.006754898155120632,-0.0013453166926400222,-0.0006408962109566902,-0.021552733344099302,-0.013290753344554887,0.0026067732896846215,0.018277834863504996,0.015406374840311245,0.02778085097213044,-0.011649669976191164,0.0024015104953135505,-0.021578197269578655,-0.018110759881592373,0.027303369689588235,0.017927766864900357,0.00017959517336407034,-0.0035001878435765533,0.017852848434752856,0.024802445368086384,-0.01828891966174316,-0.021987639264224784,0.014561565333798899,-0.010684800890277936,-0.006592895714730524,0.029911162085187883,0.010497252078427633,0.0025843522504874258,-0.025559746974691874],[0.044952477837140035,-0.010105012096345093,-0.005625503160038073,-0.013654554743534282,-0.04307131960603593,-0.016704279362147197,0.02633345642002352,0.022322128179066203,-0.0036188268037303717,0.00781855623949914,0.008458589074103547,0.010129118612683768,0.007121572983308634,-0.04260565140489487,-0.024270081768734693,-0.024088505544657017,-0.03783230302570201,-0.0037749755146025852,0.004298225381175326,-0.013549533301212715,0.0013350611579318568,0.0016489025013598614,-0.00013389309611414046,-0.019366194421072368,-0.016579988855185145,-0.01661062859665853,-0.030029245716712408,-0.020783385879694697,-0.002259120774646647,0.004951613351931782,0.0033841521348383597,-0.007398495812394469],[0.035757068459448434,-0.01438408573717389,-0.005094305919072402,0.010000652417185464,-0.01690026421075455,-0.03419276707907784,-0.011802157863989568,0.012174858647769612,-0.01063567790791524,0.003831347611977136,-7.368936421192889e-05,0.013044198951653548,-0.007864823770316632,-0.031417667801060575,-0.026335357095953332,-0.011102693661668689,0.01308336099379434,-0.013939917579015557,-0.02421456930255375,-0.027464707338512594,-0.02312228079332078,-0.016991610364730243,-0.021314952338913423,-0.01992813555307641,0.029402465240153025,-0.005268351777283213,-0.0348523874684453,-0.017418362463172125,-0.022837856516688806,-0.01095710211830205,0.01936581246616199,0.023711997607105857],[0.09514494187134506,0.03440283147670594,0.01871617800479635,0.013243354979041602,-0.008858443020446324,-0.03550660913900265,-0.030454707128645342,-0.0057544188333186865,-0.012350619317755267,0.002180577605391818,-0.006715758798029417,0.009227641314485798,-0.0049251877350426935,-0.0013596568421834487,-0.017955148625903777,-0.0313645550736638,-0.001221757532194108,0.005634669084914167,-0.013752670491968318,0.0015330552527480523,-0.004912769905430745,0.008657256380953717,0.0006178305344591951,-0.006293502053633973,0.0008123789663156849,0.011714558421115132,0.008098393195453558,0.0017577926761424795,-0.010824616395192294,0.022094525516415785,0.06401883728119387,0.06326610627056455],[0.12380211881226576,0.04225627391810963,0.03221623319020978,0.004954044058184804,0.0033618224319308765,0.014542754632471011,0.016412993186228145,0.018010102713510834,-0.00021110640958107519,0.014256880248257855,0.026378227609564174,-0.0007614185643340181,-0.008659424565486278,0.01922078274110561,0.011413315872095969,0.006867076004035375,-0.00024706137021336476,0.011566480218837345,0.006434262938234823,0.02745682123074278,0.00410056488472045,-0.011445016203216314,0.001506625798483813,0.01060202344286962,0.006299927682679358,0.004517681976918766,0.004328520920211708,-0.0021018982045292447,0.0005953909641586855,0.050007973509077944,0.052028762498052154,0.0686147813846067]],\"type\":\"heatmap\",\"xaxis\":\"x\",\"yaxis\":\"y\",\"hovertemplate\":\"x: %{x}<br>y: %{y}<br>color: %{z}<extra></extra>\"}],                        {\"template\":{\"data\":{\"histogram2dcontour\":[{\"type\":\"histogram2dcontour\",\"colorbar\":{\"outlinewidth\":0,\"ticks\":\"\"},\"colorscale\":[[0.0,\"#0d0887\"],[0.1111111111111111,\"#46039f\"],[0.2222222222222222,\"#7201a8\"],[0.3333333333333333,\"#9c179e\"],[0.4444444444444444,\"#bd3786\"],[0.5555555555555556,\"#d8576b\"],[0.6666666666666666,\"#ed7953\"],[0.7777777777777778,\"#fb9f3a\"],[0.8888888888888888,\"#fdca26\"],[1.0,\"#f0f921\"]]}],\"choropleth\":[{\"type\":\"choropleth\",\"colorbar\":{\"outlinewidth\":0,\"ticks\":\"\"}}],\"histogram2d\":[{\"type\":\"histogram2d\",\"colorbar\":{\"outlinewidth\":0,\"ticks\":\"\"},\"colorscale\":[[0.0,\"#0d0887\"],[0.1111111111111111,\"#46039f\"],[0.2222222222222222,\"#7201a8\"],[0.3333333333333333,\"#9c179e\"],[0.4444444444444444,\"#bd3786\"],[0.5555555555555556,\"#d8576b\"],[0.6666666666666666,\"#ed7953\"],[0.7777777777777778,\"#fb9f3a\"],[0.8888888888888888,\"#fdca26\"],[1.0,\"#f0f921\"]]}],\"heatmap\":[{\"type\":\"heatmap\",\"colorbar\":{\"outlinewidth\":0,\"ticks\":\"\"},\"colorscale\":[[0.0,\"#0d0887\"],[0.1111111111111111,\"#46039f\"],[0.2222222222222222,\"#7201a8\"],[0.3333333333333333,\"#9c179e\"],[0.4444444444444444,\"#bd3786\"],[0.5555555555555556,\"#d8576b\"],[0.6666666666666666,\"#ed7953\"],[0.7777777777777778,\"#fb9f3a\"],[0.8888888888888888,\"#fdca26\"],[1.0,\"#f0f921\"]]}],\"heatmapgl\":[{\"type\":\"heatmapgl\",\"colorbar\":{\"outlinewidth\":0,\"ticks\":\"\"},\"colorscale\":[[0.0,\"#0d0887\"],[0.1111111111111111,\"#46039f\"],[0.2222222222222222,\"#7201a8\"],[0.3333333333333333,\"#9c179e\"],[0.4444444444444444,\"#bd3786\"],[0.5555555555555556,\"#d8576b\"],[0.6666666666666666,\"#ed7953\"],[0.7777777777777778,\"#fb9f3a\"],[0.8888888888888888,\"#fdca26\"],[1.0,\"#f0f921\"]]}],\"contourcarpet\":[{\"type\":\"contourcarpet\",\"colorbar\":{\"outlinewidth\":0,\"ticks\":\"\"}}],\"contour\":[{\"type\":\"contour\",\"colorbar\":{\"outlinewidth\":0,\"ticks\":\"\"},\"colorscale\":[[0.0,\"#0d0887\"],[0.1111111111111111,\"#46039f\"],[0.2222222222222222,\"#7201a8\"],[0.3333333333333333,\"#9c179e\"],[0.4444444444444444,\"#bd3786\"],[0.5555555555555556,\"#d8576b\"],[0.6666666666666666,\"#ed7953\"],[0.7777777777777778,\"#fb9f3a\"],[0.8888888888888888,\"#fdca26\"],[1.0,\"#f0f921\"]]}],\"surface\":[{\"type\":\"surface\",\"colorbar\":{\"outlinewidth\":0,\"ticks\":\"\"},\"colorscale\":[[0.0,\"#0d0887\"],[0.1111111111111111,\"#46039f\"],[0.2222222222222222,\"#7201a8\"],[0.3333333333333333,\"#9c179e\"],[0.4444444444444444,\"#bd3786\"],[0.5555555555555556,\"#d8576b\"],[0.6666666666666666,\"#ed7953\"],[0.7777777777777778,\"#fb9f3a\"],[0.8888888888888888,\"#fdca26\"],[1.0,\"#f0f921\"]]}],\"mesh3d\":[{\"type\":\"mesh3d\",\"colorbar\":{\"outlinewidth\":0,\"ticks\":\"\"}}],\"scatter\":[{\"fillpattern\":{\"fillmode\":\"overlay\",\"size\":10,\"solidity\":0.2},\"type\":\"scatter\"}],\"parcoords\":[{\"type\":\"parcoords\",\"line\":{\"colorbar\":{\"outlinewidth\":0,\"ticks\":\"\"}}}],\"scatterpolargl\":[{\"type\":\"scatterpolargl\",\"marker\":{\"colorbar\":{\"outlinewidth\":0,\"ticks\":\"\"}}}],\"bar\":[{\"error_x\":{\"color\":\"#2a3f5f\"},\"error_y\":{\"color\":\"#2a3f5f\"},\"marker\":{\"line\":{\"color\":\"#E5ECF6\",\"width\":0.5},\"pattern\":{\"fillmode\":\"overlay\",\"size\":10,\"solidity\":0.2}},\"type\":\"bar\"}],\"scattergeo\":[{\"type\":\"scattergeo\",\"marker\":{\"colorbar\":{\"outlinewidth\":0,\"ticks\":\"\"}}}],\"scatterpolar\":[{\"type\":\"scatterpolar\",\"marker\":{\"colorbar\":{\"outlinewidth\":0,\"ticks\":\"\"}}}],\"histogram\":[{\"marker\":{\"pattern\":{\"fillmode\":\"overlay\",\"size\":10,\"solidity\":0.2}},\"type\":\"histogram\"}],\"scattergl\":[{\"type\":\"scattergl\",\"marker\":{\"colorbar\":{\"outlinewidth\":0,\"ticks\":\"\"}}}],\"scatter3d\":[{\"type\":\"scatter3d\",\"line\":{\"colorbar\":{\"outlinewidth\":0,\"ticks\":\"\"}},\"marker\":{\"colorbar\":{\"outlinewidth\":0,\"ticks\":\"\"}}}],\"scattermapbox\":[{\"type\":\"scattermapbox\",\"marker\":{\"colorbar\":{\"outlinewidth\":0,\"ticks\":\"\"}}}],\"scatterternary\":[{\"type\":\"scatterternary\",\"marker\":{\"colorbar\":{\"outlinewidth\":0,\"ticks\":\"\"}}}],\"scattercarpet\":[{\"type\":\"scattercarpet\",\"marker\":{\"colorbar\":{\"outlinewidth\":0,\"ticks\":\"\"}}}],\"carpet\":[{\"aaxis\":{\"endlinecolor\":\"#2a3f5f\",\"gridcolor\":\"white\",\"linecolor\":\"white\",\"minorgridcolor\":\"white\",\"startlinecolor\":\"#2a3f5f\"},\"baxis\":{\"endlinecolor\":\"#2a3f5f\",\"gridcolor\":\"white\",\"linecolor\":\"white\",\"minorgridcolor\":\"white\",\"startlinecolor\":\"#2a3f5f\"},\"type\":\"carpet\"}],\"table\":[{\"cells\":{\"fill\":{\"color\":\"#EBF0F8\"},\"line\":{\"color\":\"white\"}},\"header\":{\"fill\":{\"color\":\"#C8D4E3\"},\"line\":{\"color\":\"white\"}},\"type\":\"table\"}],\"barpolar\":[{\"marker\":{\"line\":{\"color\":\"#E5ECF6\",\"width\":0.5},\"pattern\":{\"fillmode\":\"overlay\",\"size\":10,\"solidity\":0.2}},\"type\":\"barpolar\"}],\"pie\":[{\"automargin\":true,\"type\":\"pie\"}]},\"layout\":{\"autotypenumbers\":\"strict\",\"colorway\":[\"#636efa\",\"#EF553B\",\"#00cc96\",\"#ab63fa\",\"#FFA15A\",\"#19d3f3\",\"#FF6692\",\"#B6E880\",\"#FF97FF\",\"#FECB52\"],\"font\":{\"color\":\"#2a3f5f\"},\"hovermode\":\"closest\",\"hoverlabel\":{\"align\":\"left\"},\"paper_bgcolor\":\"white\",\"plot_bgcolor\":\"#E5ECF6\",\"polar\":{\"bgcolor\":\"#E5ECF6\",\"angularaxis\":{\"gridcolor\":\"white\",\"linecolor\":\"white\",\"ticks\":\"\"},\"radialaxis\":{\"gridcolor\":\"white\",\"linecolor\":\"white\",\"ticks\":\"\"}},\"ternary\":{\"bgcolor\":\"#E5ECF6\",\"aaxis\":{\"gridcolor\":\"white\",\"linecolor\":\"white\",\"ticks\":\"\"},\"baxis\":{\"gridcolor\":\"white\",\"linecolor\":\"white\",\"ticks\":\"\"},\"caxis\":{\"gridcolor\":\"white\",\"linecolor\":\"white\",\"ticks\":\"\"}},\"coloraxis\":{\"colorbar\":{\"outlinewidth\":0,\"ticks\":\"\"}},\"colorscale\":{\"sequential\":[[0.0,\"#0d0887\"],[0.1111111111111111,\"#46039f\"],[0.2222222222222222,\"#7201a8\"],[0.3333333333333333,\"#9c179e\"],[0.4444444444444444,\"#bd3786\"],[0.5555555555555556,\"#d8576b\"],[0.6666666666666666,\"#ed7953\"],[0.7777777777777778,\"#fb9f3a\"],[0.8888888888888888,\"#fdca26\"],[1.0,\"#f0f921\"]],\"sequentialminus\":[[0.0,\"#0d0887\"],[0.1111111111111111,\"#46039f\"],[0.2222222222222222,\"#7201a8\"],[0.3333333333333333,\"#9c179e\"],[0.4444444444444444,\"#bd3786\"],[0.5555555555555556,\"#d8576b\"],[0.6666666666666666,\"#ed7953\"],[0.7777777777777778,\"#fb9f3a\"],[0.8888888888888888,\"#fdca26\"],[1.0,\"#f0f921\"]],\"diverging\":[[0,\"#8e0152\"],[0.1,\"#c51b7d\"],[0.2,\"#de77ae\"],[0.3,\"#f1b6da\"],[0.4,\"#fde0ef\"],[0.5,\"#f7f7f7\"],[0.6,\"#e6f5d0\"],[0.7,\"#b8e186\"],[0.8,\"#7fbc41\"],[0.9,\"#4d9221\"],[1,\"#276419\"]]},\"xaxis\":{\"gridcolor\":\"white\",\"linecolor\":\"white\",\"ticks\":\"\",\"title\":{\"standoff\":15},\"zerolinecolor\":\"white\",\"automargin\":true,\"zerolinewidth\":2},\"yaxis\":{\"gridcolor\":\"white\",\"linecolor\":\"white\",\"ticks\":\"\",\"title\":{\"standoff\":15},\"zerolinecolor\":\"white\",\"automargin\":true,\"zerolinewidth\":2},\"scene\":{\"xaxis\":{\"backgroundcolor\":\"#E5ECF6\",\"gridcolor\":\"white\",\"linecolor\":\"white\",\"showbackground\":true,\"ticks\":\"\",\"zerolinecolor\":\"white\",\"gridwidth\":2},\"yaxis\":{\"backgroundcolor\":\"#E5ECF6\",\"gridcolor\":\"white\",\"linecolor\":\"white\",\"showbackground\":true,\"ticks\":\"\",\"zerolinecolor\":\"white\",\"gridwidth\":2},\"zaxis\":{\"backgroundcolor\":\"#E5ECF6\",\"gridcolor\":\"white\",\"linecolor\":\"white\",\"showbackground\":true,\"ticks\":\"\",\"zerolinecolor\":\"white\",\"gridwidth\":2}},\"shapedefaults\":{\"line\":{\"color\":\"#2a3f5f\"}},\"annotationdefaults\":{\"arrowcolor\":\"#2a3f5f\",\"arrowhead\":0,\"arrowwidth\":1},\"geo\":{\"bgcolor\":\"white\",\"landcolor\":\"#E5ECF6\",\"subunitcolor\":\"white\",\"showland\":true,\"showlakes\":true,\"lakecolor\":\"white\"},\"title\":{\"x\":0.05},\"mapbox\":{\"style\":\"light\"}}},\"xaxis\":{\"anchor\":\"y\",\"domain\":[0.0,1.0],\"scaleanchor\":\"y\",\"constrain\":\"domain\",\"side\":\"top\"},\"yaxis\":{\"anchor\":\"x\",\"domain\":[0.0,1.0],\"autorange\":\"reversed\",\"constrain\":\"domain\"},\"coloraxis\":{\"colorscale\":[[0.0,\"#0d0887\"],[0.1111111111111111,\"#46039f\"],[0.2222222222222222,\"#7201a8\"],[0.3333333333333333,\"#9c179e\"],[0.4444444444444444,\"#bd3786\"],[0.5555555555555556,\"#d8576b\"],[0.6666666666666666,\"#ed7953\"],[0.7777777777777778,\"#fb9f3a\"],[0.8888888888888888,\"#fdca26\"],[1.0,\"#f0f921\"]]},\"margin\":{\"t\":60}},                        {\"responsive\": true}                    ).then(function(){\n",
       "                            \n",
       "var gd = document.getElementById('24ad86b9-b32d-45ac-9d6f-2c8a85dca11a');\n",
       "var x = new MutationObserver(function (mutations, observer) {{\n",
       "        var display = window.getComputedStyle(gd).display;\n",
       "        if (!display || display === 'none') {{\n",
       "            console.log([gd, 'removed!']);\n",
       "            Plotly.purge(gd);\n",
       "            observer.disconnect();\n",
       "        }}\n",
       "}});\n",
       "\n",
       "// Listen for the removal of the full notebook cells\n",
       "var notebookContainer = gd.closest('#notebook-container');\n",
       "if (notebookContainer) {{\n",
       "    x.observe(notebookContainer, {childList: true});\n",
       "}}\n",
       "\n",
       "// Listen for the clearing of the current output cell\n",
       "var outputEl = gd.closest('.output');\n",
       "if (outputEl) {{\n",
       "    x.observe(outputEl, {childList: true});\n",
       "}}\n",
       "\n",
       "                        })                };                });            </script>        </div>"
      ]
     },
     "metadata": {},
     "output_type": "display_data"
    }
   ],
   "source": [
    "resultsl2 = []\n",
    "resultsl2 = resultsl2_r + resultsl2_g + resultsl2_b\n",
    "\n",
    "fig = px.imshow(resultsl2)\n",
    "fig.update_xaxes(side=\"top\")\n",
    "fig.show()"
   ]
  },
  {
   "cell_type": "code",
   "execution_count": 256,
   "id": "dd5dd916-f477-4e95-932f-6ccd9b6a20ee",
   "metadata": {},
   "outputs": [],
   "source": [
    "resultsl1_r = []\n",
    "resultsl1_g = []\n",
    "resultsl1_b = []\n",
    "\n",
    "\n",
    "for rgb in range(3):\n",
    "        for i in range(32):\n",
    "            for j in range(32):\n",
    "                if rgb == 0:\n",
    "                    resultsl1_r.append(resultsl1[i,j,rgb])\n",
    "                if rgb == 1:\n",
    "                    resultsl1_g.append(resultsl1[i,j,rgb])\n",
    "                if rgb == 2:\n",
    "                    resultsl1_b.append(resultsl1[i,j,rgb])"
   ]
  },
  {
   "cell_type": "code",
   "execution_count": 257,
   "id": "b70d46c3-b93e-4957-a428-bcc225039f55",
   "metadata": {},
   "outputs": [
    {
     "data": {
      "application/vnd.plotly.v1+json": {
       "config": {
        "plotlyServerURL": "https://plot.ly"
       },
       "data": [
        {
         "coloraxis": "coloraxis",
         "hovertemplate": "x: %{x}<br>y: %{y}<br>color: %{z}<extra></extra>",
         "name": "0",
         "type": "heatmap",
         "xaxis": "x",
         "yaxis": "y",
         "z": [
          [
           0.2092348078198635,
           0.0043702789773958665,
           0.0494425345768446,
           0,
           0,
           0,
           0,
           0,
           0,
           0,
           0,
           0,
           0,
           0,
           0,
           0,
           0,
           0,
           0,
           0,
           0,
           0,
           0,
           0.13239370682858687,
           0.014435237320552656,
           0,
           0,
           0,
           0,
           0,
           0,
           0.09707821774680629
          ],
          [
           0.06382492800415385,
           0,
           0,
           0,
           0,
           0,
           0,
           0,
           0,
           0,
           0,
           0,
           0,
           0,
           0.020129773674912074,
           0,
           0,
           0,
           0,
           0,
           0,
           0,
           0,
           0,
           0,
           0,
           0,
           0,
           -0.04154401580881947,
           0,
           0,
           0
          ],
          [
           0.026319617040353648,
           0,
           0,
           0,
           0,
           0,
           0,
           0,
           0,
           0,
           0,
           0,
           0,
           0,
           0.010708689701965167,
           0,
           0,
           0,
           0,
           0,
           0,
           0,
           0,
           0.04919132331290803,
           0,
           0,
           0,
           0,
           0,
           0,
           0,
           0
          ],
          [
           0,
           0,
           0,
           0,
           0,
           0,
           0,
           0,
           0,
           0,
           0,
           0,
           0,
           0,
           0,
           0,
           0,
           0,
           0,
           0,
           0,
           0,
           0,
           0,
           0.002426299785383965,
           0,
           0,
           0,
           0,
           0,
           0,
           0
          ],
          [
           0,
           0,
           0,
           0,
           0,
           0,
           0,
           0,
           0,
           0,
           0,
           0,
           0,
           0,
           0,
           0,
           0,
           0,
           0,
           0,
           0,
           0,
           0,
           0,
           0,
           0,
           0,
           0,
           0,
           -0.011118398737542877,
           0,
           0
          ],
          [
           0,
           0,
           0,
           0,
           0,
           0,
           0,
           -0.035882986587876246,
           -0.07343410246245656,
           0,
           0,
           0,
           0,
           0,
           0,
           0,
           0,
           0,
           0,
           0,
           0,
           0,
           0,
           0,
           0,
           0,
           0,
           0,
           0,
           0,
           0,
           0
          ],
          [
           0.02884754975892763,
           0,
           0,
           0,
           0,
           0,
           0,
           0,
           0,
           0,
           0,
           0,
           0,
           0,
           0,
           0,
           0.01606043769138233,
           0,
           0,
           0,
           0,
           0,
           0,
           0,
           0,
           0,
           0,
           0,
           0,
           0,
           0,
           0
          ],
          [
           0,
           0,
           0,
           0,
           0,
           0,
           0,
           0,
           0.012862493921764848,
           0,
           0.10151591639505321,
           0,
           0,
           0,
           0.004925768149769789,
           0,
           0,
           0,
           0,
           0,
           0,
           0,
           0,
           0,
           0,
           0,
           0,
           0,
           0,
           0,
           -0.021769156093139203,
           0
          ],
          [
           0,
           0,
           0,
           -0.04079749867335308,
           0,
           0,
           0,
           0,
           0,
           0,
           0,
           0,
           0,
           0,
           0.0399867305588604,
           0,
           0,
           0,
           0,
           0,
           0,
           0,
           0,
           0,
           0,
           0,
           -0.03379609572415465,
           0,
           0,
           0,
           0,
           -0.002090888160147099
          ],
          [
           0,
           0,
           0,
           0,
           0,
           0.0032831997704501157,
           0,
           0,
           0,
           0,
           0,
           0.023896685032424876,
           0,
           0,
           0,
           0,
           0,
           0.019718306432301914,
           0,
           0,
           0,
           0,
           0,
           0,
           0,
           0,
           0,
           0,
           0,
           0,
           0,
           0
          ],
          [
           0,
           0,
           0,
           0,
           0.09592778174757785,
           0,
           0.013223030089893957,
           0,
           0,
           0,
           0,
           0,
           0,
           0,
           0.02658324963690916,
           0,
           0.04859146119824056,
           0.010792752126358718,
           0,
           0.019261833569303798,
           0,
           0,
           0,
           0,
           -0.005601007204791938,
           0,
           0,
           0,
           0,
           0,
           0,
           0
          ],
          [
           0,
           0,
           0,
           0,
           0,
           0,
           0.0203491715687307,
           0,
           0,
           0.012625209225737885,
           0,
           0.0259957469910787,
           0,
           0,
           0,
           0,
           0,
           0,
           0,
           0.006435735343979358,
           0,
           0,
           0.03480117890029129,
           0,
           0,
           0,
           0,
           0,
           0,
           0,
           0,
           0
          ],
          [
           0,
           0,
           0,
           0,
           0,
           0,
           0,
           0,
           0,
           0,
           0.008173971733716081,
           0.030333173929053547,
           0,
           0.06154656443501052,
           0.0035708915437201367,
           0,
           0,
           0,
           0,
           0,
           0,
           0,
           0,
           0.049842630506215964,
           0,
           0,
           0,
           0.015119176279480447,
           0,
           0,
           0,
           0
          ],
          [
           0,
           0,
           0,
           0,
           0,
           0.009515759755238126,
           0,
           0,
           0,
           0,
           0,
           0,
           0,
           0,
           0,
           0,
           0,
           0.04867876350658115,
           0,
           0,
           0.0018008089773643278,
           0,
           0,
           0,
           0.017812851181639958,
           0.029294488489678853,
           0,
           0.029912177461508788,
           0,
           0,
           0,
           0
          ],
          [
           -0.004281033292343461,
           -0.08860400199681541,
           0,
           0,
           0,
           0,
           0,
           0,
           0,
           0,
           0,
           0.009265660251897588,
           0,
           0.00204698889612962,
           0,
           0,
           0.017811222465376142,
           0,
           0,
           0,
           0,
           0,
           0,
           0,
           0,
           0,
           0,
           0,
           0,
           0,
           0,
           0
          ],
          [
           -0.009871540757300018,
           -0.05714708407904564,
           0,
           0,
           0,
           0,
           0,
           0,
           0,
           0,
           0,
           0,
           0,
           0.013356226054027821,
           0,
           0,
           0.029887299758889818,
           0,
           0.05943982547586855,
           0.028603749318359233,
           0,
           0,
           0.002793916554509848,
           0,
           0,
           0,
           0,
           0,
           0,
           0,
           0,
           0
          ],
          [
           0,
           0,
           0,
           0,
           -0.013442258516937198,
           0,
           0,
           0,
           0,
           0,
           0,
           0,
           -0.004423127226919486,
           0,
           0,
           0,
           0,
           0,
           0,
           0,
           0,
           0,
           0,
           0.013326382960892846,
           0.04739015700319597,
           0,
           0,
           0,
           0,
           -0.003054760320203453,
           -0.03382116066245214,
           0
          ],
          [
           0,
           -0.055962440854896024,
           0,
           0,
           0,
           0,
           0,
           0.04679033909976245,
           0,
           0,
           0,
           0,
           0,
           0,
           0,
           0,
           0,
           0,
           0,
           0,
           0,
           0,
           0,
           0,
           0,
           0,
           0,
           0,
           0,
           0,
           0,
           -0.0446669546330541
          ],
          [
           0,
           0,
           0,
           0,
           -0.0019590361485695303,
           -0.04410828356126636,
           0,
           0.013364311659554188,
           0,
           0,
           0,
           0.00619729805256724,
           0,
           0,
           0,
           0,
           -0.06060095610150797,
           0,
           0,
           0,
           0,
           0,
           0,
           0,
           0,
           0,
           0,
           0,
           -0.0815076413831385,
           0,
           0,
           0
          ],
          [
           0,
           0,
           -0.02857893509831521,
           0,
           0,
           0,
           0,
           0,
           0,
           0.059491692899186294,
           0,
           0,
           0,
           0,
           0,
           0,
           0,
           0,
           0,
           0,
           0,
           0,
           0,
           0,
           0,
           0,
           0,
           0,
           0,
           0,
           -0.0663346160472524,
           -0.02331637097961945
          ],
          [
           0,
           -0.05559617343732084,
           0,
           0,
           0,
           0,
           0.005663521283774144,
           0,
           0,
           0,
           0,
           0,
           0,
           0,
           0,
           0,
           0,
           0,
           0,
           0,
           0,
           0,
           0,
           0,
           0,
           0,
           0,
           0,
           0,
           -0.009668577559736118,
           0,
           0
          ],
          [
           0,
           -0.07241504910267593,
           0,
           0,
           0,
           0,
           0,
           0,
           0,
           0.05318925055287832,
           0,
           0,
           0,
           0,
           0,
           0,
           0.07483098970618872,
           0,
           0,
           0,
           0,
           0,
           0,
           0.017892488130041885,
           0,
           0.005269172279435777,
           0,
           0,
           -0.06972945643823895,
           0,
           0,
           0
          ],
          [
           0,
           -0.03231599005349524,
           0,
           0,
           0,
           0,
           0,
           0,
           0,
           0,
           0,
           0,
           0,
           0,
           0,
           0,
           0,
           0,
           0,
           0.019948812604281198,
           0,
           0,
           0.02774832224918869,
           0,
           0,
           0,
           0.039984620381779266,
           0,
           -0.013010824936766476,
           0,
           0,
           0
          ],
          [
           0,
           0,
           0,
           0,
           0.02070358004784821,
           0,
           0,
           0.015160451346298582,
           0,
           0,
           0,
           0,
           0,
           0,
           0,
           0.005274160659584832,
           0,
           0.027596131771457505,
           0.07942973837663676,
           0,
           0,
           0,
           0,
           0,
           0,
           0,
           0,
           0,
           0,
           0,
           -0.04385346253092454,
           -0.01961524494630896
          ],
          [
           0,
           0,
           0,
           0,
           0,
           0,
           0,
           0,
           0,
           0,
           0,
           0,
           0,
           0.006174325496778604,
           0,
           0.10822024586468935,
           0,
           0,
           0,
           0,
           0,
           0,
           0,
           0,
           0,
           0,
           0,
           -0.015982099232644792,
           -0.014597862312008306,
           0,
           0,
           0
          ],
          [
           0,
           0,
           -0.013874018513640066,
           0,
           -0.07329453261493798,
           0,
           0,
           0,
           0,
           -0.030924473800404376,
           0,
           0,
           0,
           0,
           0,
           0,
           0,
           0,
           0,
           0,
           0,
           0,
           -0.014108529452043992,
           0,
           0,
           0,
           -0.0020186870826966363,
           0,
           0,
           -0.03819299440563554,
           0,
           0
          ],
          [
           0,
           0,
           0,
           0,
           0,
           0,
           0,
           0,
           0,
           0,
           0,
           0,
           0,
           0,
           0,
           0,
           0,
           0,
           0,
           0,
           0,
           0,
           0,
           -0.02724938311542733,
           0,
           0,
           0,
           0,
           0,
           0,
           0,
           0
          ],
          [
           0.03861752339929951,
           0,
           0,
           0,
           0,
           0,
           0,
           0,
           0,
           0,
           0.013132526571308372,
           0,
           0,
           0,
           0,
           0,
           0,
           0,
           0,
           0,
           0,
           0,
           0,
           0,
           0,
           0,
           0,
           0,
           0,
           0,
           0,
           -0.031386787430198994
          ],
          [
           0,
           0,
           0,
           0,
           -0.03894504587328374,
           0,
           0,
           0,
           0,
           0,
           0.0045244042538513975,
           0.010024742194986759,
           0,
           0,
           0,
           0,
           0,
           0,
           0,
           0,
           0,
           0,
           0,
           0,
           0,
           0,
           0,
           0,
           0,
           0,
           0,
           0
          ],
          [
           0,
           0,
           0,
           0,
           0,
           -0.01562137088330972,
           0,
           0,
           0,
           0,
           0,
           0,
           0,
           0,
           0,
           0,
           0,
           0,
           0,
           -0.06561262124926179,
           0,
           0,
           0,
           0,
           0,
           0,
           0,
           0,
           0,
           0,
           0,
           0
          ],
          [
           0,
           0,
           0,
           0,
           0,
           -0.07139858930036079,
           0,
           0,
           0,
           0,
           0,
           0,
           0,
           0,
           0,
           -0.013633753226313255,
           0,
           0,
           0,
           0,
           0,
           0,
           0,
           0,
           0,
           0,
           0,
           0,
           0,
           0,
           0,
           0
          ],
          [
           0.03997279090760503,
           0,
           0,
           0,
           0,
           0,
           0,
           0,
           0,
           0,
           0.03511397006260563,
           0,
           0,
           0,
           0,
           0,
           0,
           0,
           0,
           0,
           0,
           0,
           0,
           0,
           0,
           0,
           0,
           0,
           0,
           0,
           0,
           0
          ]
         ]
        }
       ],
       "layout": {
        "autosize": true,
        "coloraxis": {
         "colorscale": [
          [
           0,
           "#0d0887"
          ],
          [
           0.1111111111111111,
           "#46039f"
          ],
          [
           0.2222222222222222,
           "#7201a8"
          ],
          [
           0.3333333333333333,
           "#9c179e"
          ],
          [
           0.4444444444444444,
           "#bd3786"
          ],
          [
           0.5555555555555556,
           "#d8576b"
          ],
          [
           0.6666666666666666,
           "#ed7953"
          ],
          [
           0.7777777777777778,
           "#fb9f3a"
          ],
          [
           0.8888888888888888,
           "#fdca26"
          ],
          [
           1,
           "#f0f921"
          ]
         ]
        },
        "margin": {
         "t": 60
        },
        "template": {
         "data": {
          "bar": [
           {
            "error_x": {
             "color": "#2a3f5f"
            },
            "error_y": {
             "color": "#2a3f5f"
            },
            "marker": {
             "line": {
              "color": "#E5ECF6",
              "width": 0.5
             },
             "pattern": {
              "fillmode": "overlay",
              "size": 10,
              "solidity": 0.2
             }
            },
            "type": "bar"
           }
          ],
          "barpolar": [
           {
            "marker": {
             "line": {
              "color": "#E5ECF6",
              "width": 0.5
             },
             "pattern": {
              "fillmode": "overlay",
              "size": 10,
              "solidity": 0.2
             }
            },
            "type": "barpolar"
           }
          ],
          "carpet": [
           {
            "aaxis": {
             "endlinecolor": "#2a3f5f",
             "gridcolor": "white",
             "linecolor": "white",
             "minorgridcolor": "white",
             "startlinecolor": "#2a3f5f"
            },
            "baxis": {
             "endlinecolor": "#2a3f5f",
             "gridcolor": "white",
             "linecolor": "white",
             "minorgridcolor": "white",
             "startlinecolor": "#2a3f5f"
            },
            "type": "carpet"
           }
          ],
          "choropleth": [
           {
            "colorbar": {
             "outlinewidth": 0,
             "ticks": ""
            },
            "type": "choropleth"
           }
          ],
          "contour": [
           {
            "colorbar": {
             "outlinewidth": 0,
             "ticks": ""
            },
            "colorscale": [
             [
              0,
              "#0d0887"
             ],
             [
              0.1111111111111111,
              "#46039f"
             ],
             [
              0.2222222222222222,
              "#7201a8"
             ],
             [
              0.3333333333333333,
              "#9c179e"
             ],
             [
              0.4444444444444444,
              "#bd3786"
             ],
             [
              0.5555555555555556,
              "#d8576b"
             ],
             [
              0.6666666666666666,
              "#ed7953"
             ],
             [
              0.7777777777777778,
              "#fb9f3a"
             ],
             [
              0.8888888888888888,
              "#fdca26"
             ],
             [
              1,
              "#f0f921"
             ]
            ],
            "type": "contour"
           }
          ],
          "contourcarpet": [
           {
            "colorbar": {
             "outlinewidth": 0,
             "ticks": ""
            },
            "type": "contourcarpet"
           }
          ],
          "heatmap": [
           {
            "colorbar": {
             "outlinewidth": 0,
             "ticks": ""
            },
            "colorscale": [
             [
              0,
              "#0d0887"
             ],
             [
              0.1111111111111111,
              "#46039f"
             ],
             [
              0.2222222222222222,
              "#7201a8"
             ],
             [
              0.3333333333333333,
              "#9c179e"
             ],
             [
              0.4444444444444444,
              "#bd3786"
             ],
             [
              0.5555555555555556,
              "#d8576b"
             ],
             [
              0.6666666666666666,
              "#ed7953"
             ],
             [
              0.7777777777777778,
              "#fb9f3a"
             ],
             [
              0.8888888888888888,
              "#fdca26"
             ],
             [
              1,
              "#f0f921"
             ]
            ],
            "type": "heatmap"
           }
          ],
          "heatmapgl": [
           {
            "colorbar": {
             "outlinewidth": 0,
             "ticks": ""
            },
            "colorscale": [
             [
              0,
              "#0d0887"
             ],
             [
              0.1111111111111111,
              "#46039f"
             ],
             [
              0.2222222222222222,
              "#7201a8"
             ],
             [
              0.3333333333333333,
              "#9c179e"
             ],
             [
              0.4444444444444444,
              "#bd3786"
             ],
             [
              0.5555555555555556,
              "#d8576b"
             ],
             [
              0.6666666666666666,
              "#ed7953"
             ],
             [
              0.7777777777777778,
              "#fb9f3a"
             ],
             [
              0.8888888888888888,
              "#fdca26"
             ],
             [
              1,
              "#f0f921"
             ]
            ],
            "type": "heatmapgl"
           }
          ],
          "histogram": [
           {
            "marker": {
             "pattern": {
              "fillmode": "overlay",
              "size": 10,
              "solidity": 0.2
             }
            },
            "type": "histogram"
           }
          ],
          "histogram2d": [
           {
            "colorbar": {
             "outlinewidth": 0,
             "ticks": ""
            },
            "colorscale": [
             [
              0,
              "#0d0887"
             ],
             [
              0.1111111111111111,
              "#46039f"
             ],
             [
              0.2222222222222222,
              "#7201a8"
             ],
             [
              0.3333333333333333,
              "#9c179e"
             ],
             [
              0.4444444444444444,
              "#bd3786"
             ],
             [
              0.5555555555555556,
              "#d8576b"
             ],
             [
              0.6666666666666666,
              "#ed7953"
             ],
             [
              0.7777777777777778,
              "#fb9f3a"
             ],
             [
              0.8888888888888888,
              "#fdca26"
             ],
             [
              1,
              "#f0f921"
             ]
            ],
            "type": "histogram2d"
           }
          ],
          "histogram2dcontour": [
           {
            "colorbar": {
             "outlinewidth": 0,
             "ticks": ""
            },
            "colorscale": [
             [
              0,
              "#0d0887"
             ],
             [
              0.1111111111111111,
              "#46039f"
             ],
             [
              0.2222222222222222,
              "#7201a8"
             ],
             [
              0.3333333333333333,
              "#9c179e"
             ],
             [
              0.4444444444444444,
              "#bd3786"
             ],
             [
              0.5555555555555556,
              "#d8576b"
             ],
             [
              0.6666666666666666,
              "#ed7953"
             ],
             [
              0.7777777777777778,
              "#fb9f3a"
             ],
             [
              0.8888888888888888,
              "#fdca26"
             ],
             [
              1,
              "#f0f921"
             ]
            ],
            "type": "histogram2dcontour"
           }
          ],
          "mesh3d": [
           {
            "colorbar": {
             "outlinewidth": 0,
             "ticks": ""
            },
            "type": "mesh3d"
           }
          ],
          "parcoords": [
           {
            "line": {
             "colorbar": {
              "outlinewidth": 0,
              "ticks": ""
             }
            },
            "type": "parcoords"
           }
          ],
          "pie": [
           {
            "automargin": true,
            "type": "pie"
           }
          ],
          "scatter": [
           {
            "fillpattern": {
             "fillmode": "overlay",
             "size": 10,
             "solidity": 0.2
            },
            "type": "scatter"
           }
          ],
          "scatter3d": [
           {
            "line": {
             "colorbar": {
              "outlinewidth": 0,
              "ticks": ""
             }
            },
            "marker": {
             "colorbar": {
              "outlinewidth": 0,
              "ticks": ""
             }
            },
            "type": "scatter3d"
           }
          ],
          "scattercarpet": [
           {
            "marker": {
             "colorbar": {
              "outlinewidth": 0,
              "ticks": ""
             }
            },
            "type": "scattercarpet"
           }
          ],
          "scattergeo": [
           {
            "marker": {
             "colorbar": {
              "outlinewidth": 0,
              "ticks": ""
             }
            },
            "type": "scattergeo"
           }
          ],
          "scattergl": [
           {
            "marker": {
             "colorbar": {
              "outlinewidth": 0,
              "ticks": ""
             }
            },
            "type": "scattergl"
           }
          ],
          "scattermapbox": [
           {
            "marker": {
             "colorbar": {
              "outlinewidth": 0,
              "ticks": ""
             }
            },
            "type": "scattermapbox"
           }
          ],
          "scatterpolar": [
           {
            "marker": {
             "colorbar": {
              "outlinewidth": 0,
              "ticks": ""
             }
            },
            "type": "scatterpolar"
           }
          ],
          "scatterpolargl": [
           {
            "marker": {
             "colorbar": {
              "outlinewidth": 0,
              "ticks": ""
             }
            },
            "type": "scatterpolargl"
           }
          ],
          "scatterternary": [
           {
            "marker": {
             "colorbar": {
              "outlinewidth": 0,
              "ticks": ""
             }
            },
            "type": "scatterternary"
           }
          ],
          "surface": [
           {
            "colorbar": {
             "outlinewidth": 0,
             "ticks": ""
            },
            "colorscale": [
             [
              0,
              "#0d0887"
             ],
             [
              0.1111111111111111,
              "#46039f"
             ],
             [
              0.2222222222222222,
              "#7201a8"
             ],
             [
              0.3333333333333333,
              "#9c179e"
             ],
             [
              0.4444444444444444,
              "#bd3786"
             ],
             [
              0.5555555555555556,
              "#d8576b"
             ],
             [
              0.6666666666666666,
              "#ed7953"
             ],
             [
              0.7777777777777778,
              "#fb9f3a"
             ],
             [
              0.8888888888888888,
              "#fdca26"
             ],
             [
              1,
              "#f0f921"
             ]
            ],
            "type": "surface"
           }
          ],
          "table": [
           {
            "cells": {
             "fill": {
              "color": "#EBF0F8"
             },
             "line": {
              "color": "white"
             }
            },
            "header": {
             "fill": {
              "color": "#C8D4E3"
             },
             "line": {
              "color": "white"
             }
            },
            "type": "table"
           }
          ]
         },
         "layout": {
          "annotationdefaults": {
           "arrowcolor": "#2a3f5f",
           "arrowhead": 0,
           "arrowwidth": 1
          },
          "autotypenumbers": "strict",
          "coloraxis": {
           "colorbar": {
            "outlinewidth": 0,
            "ticks": ""
           }
          },
          "colorscale": {
           "diverging": [
            [
             0,
             "#8e0152"
            ],
            [
             0.1,
             "#c51b7d"
            ],
            [
             0.2,
             "#de77ae"
            ],
            [
             0.3,
             "#f1b6da"
            ],
            [
             0.4,
             "#fde0ef"
            ],
            [
             0.5,
             "#f7f7f7"
            ],
            [
             0.6,
             "#e6f5d0"
            ],
            [
             0.7,
             "#b8e186"
            ],
            [
             0.8,
             "#7fbc41"
            ],
            [
             0.9,
             "#4d9221"
            ],
            [
             1,
             "#276419"
            ]
           ],
           "sequential": [
            [
             0,
             "#0d0887"
            ],
            [
             0.1111111111111111,
             "#46039f"
            ],
            [
             0.2222222222222222,
             "#7201a8"
            ],
            [
             0.3333333333333333,
             "#9c179e"
            ],
            [
             0.4444444444444444,
             "#bd3786"
            ],
            [
             0.5555555555555556,
             "#d8576b"
            ],
            [
             0.6666666666666666,
             "#ed7953"
            ],
            [
             0.7777777777777778,
             "#fb9f3a"
            ],
            [
             0.8888888888888888,
             "#fdca26"
            ],
            [
             1,
             "#f0f921"
            ]
           ],
           "sequentialminus": [
            [
             0,
             "#0d0887"
            ],
            [
             0.1111111111111111,
             "#46039f"
            ],
            [
             0.2222222222222222,
             "#7201a8"
            ],
            [
             0.3333333333333333,
             "#9c179e"
            ],
            [
             0.4444444444444444,
             "#bd3786"
            ],
            [
             0.5555555555555556,
             "#d8576b"
            ],
            [
             0.6666666666666666,
             "#ed7953"
            ],
            [
             0.7777777777777778,
             "#fb9f3a"
            ],
            [
             0.8888888888888888,
             "#fdca26"
            ],
            [
             1,
             "#f0f921"
            ]
           ]
          },
          "colorway": [
           "#636efa",
           "#EF553B",
           "#00cc96",
           "#ab63fa",
           "#FFA15A",
           "#19d3f3",
           "#FF6692",
           "#B6E880",
           "#FF97FF",
           "#FECB52"
          ],
          "font": {
           "color": "#2a3f5f"
          },
          "geo": {
           "bgcolor": "white",
           "lakecolor": "white",
           "landcolor": "#E5ECF6",
           "showlakes": true,
           "showland": true,
           "subunitcolor": "white"
          },
          "hoverlabel": {
           "align": "left"
          },
          "hovermode": "closest",
          "mapbox": {
           "style": "light"
          },
          "paper_bgcolor": "white",
          "plot_bgcolor": "#E5ECF6",
          "polar": {
           "angularaxis": {
            "gridcolor": "white",
            "linecolor": "white",
            "ticks": ""
           },
           "bgcolor": "#E5ECF6",
           "radialaxis": {
            "gridcolor": "white",
            "linecolor": "white",
            "ticks": ""
           }
          },
          "scene": {
           "xaxis": {
            "backgroundcolor": "#E5ECF6",
            "gridcolor": "white",
            "gridwidth": 2,
            "linecolor": "white",
            "showbackground": true,
            "ticks": "",
            "zerolinecolor": "white"
           },
           "yaxis": {
            "backgroundcolor": "#E5ECF6",
            "gridcolor": "white",
            "gridwidth": 2,
            "linecolor": "white",
            "showbackground": true,
            "ticks": "",
            "zerolinecolor": "white"
           },
           "zaxis": {
            "backgroundcolor": "#E5ECF6",
            "gridcolor": "white",
            "gridwidth": 2,
            "linecolor": "white",
            "showbackground": true,
            "ticks": "",
            "zerolinecolor": "white"
           }
          },
          "shapedefaults": {
           "line": {
            "color": "#2a3f5f"
           }
          },
          "ternary": {
           "aaxis": {
            "gridcolor": "white",
            "linecolor": "white",
            "ticks": ""
           },
           "baxis": {
            "gridcolor": "white",
            "linecolor": "white",
            "ticks": ""
           },
           "bgcolor": "#E5ECF6",
           "caxis": {
            "gridcolor": "white",
            "linecolor": "white",
            "ticks": ""
           }
          },
          "title": {
           "x": 0.05
          },
          "xaxis": {
           "automargin": true,
           "gridcolor": "white",
           "linecolor": "white",
           "ticks": "",
           "title": {
            "standoff": 15
           },
           "zerolinecolor": "white",
           "zerolinewidth": 2
          },
          "yaxis": {
           "automargin": true,
           "gridcolor": "white",
           "linecolor": "white",
           "ticks": "",
           "title": {
            "standoff": 15
           },
           "zerolinecolor": "white",
           "zerolinewidth": 2
          }
         }
        },
        "xaxis": {
         "anchor": "y",
         "autorange": true,
         "constrain": "domain",
         "domain": [
          0.3653610771113831,
          0.6346389228886169
         ],
         "range": [
          -0.5,
          31.5
         ],
         "scaleanchor": "y",
         "side": "top"
        },
        "yaxis": {
         "anchor": "x",
         "autorange": true,
         "constrain": "domain",
         "domain": [
          0,
          1
         ],
         "range": [
          31.5,
          -0.5
         ]
        }
       }
      },
      "image/png": "[encoded data removed]",
      "text/html": [
       "<div>                            <div id=\"7148e158-f658-4670-8e34-fca755f14ddb\" class=\"plotly-graph-div\" style=\"height:525px; width:100%;\"></div>            <script type=\"text/javascript\">                require([\"plotly\"], function(Plotly) {                    window.PLOTLYENV=window.PLOTLYENV || {};                                    if (document.getElementById(\"7148e158-f658-4670-8e34-fca755f14ddb\")) {                    Plotly.newPlot(                        \"7148e158-f658-4670-8e34-fca755f14ddb\",                        [{\"coloraxis\":\"coloraxis\",\"name\":\"0\",\"z\":[[0.2092348078198635,0.0043702789773958665,0.0494425345768446,0.0,0.0,0.0,0.0,0.0,0.0,0.0,0.0,0.0,0.0,0.0,0.0,0.0,0.0,0.0,0.0,0.0,0.0,0.0,0.0,0.13239370682858687,0.014435237320552656,0.0,0.0,0.0,0.0,0.0,0.0,0.09707821774680629],[0.06382492800415385,0.0,0.0,0.0,0.0,0.0,0.0,0.0,0.0,0.0,0.0,0.0,0.0,0.0,0.020129773674912074,0.0,0.0,0.0,0.0,0.0,0.0,0.0,0.0,0.0,0.0,0.0,0.0,0.0,-0.04154401580881947,0.0,0.0,0.0],[0.026319617040353648,0.0,0.0,0.0,0.0,0.0,0.0,0.0,0.0,0.0,0.0,0.0,0.0,0.0,0.010708689701965167,0.0,0.0,0.0,0.0,0.0,0.0,0.0,0.0,0.04919132331290803,0.0,0.0,0.0,0.0,0.0,0.0,0.0,0.0],[0.0,0.0,0.0,0.0,0.0,0.0,0.0,0.0,0.0,0.0,0.0,0.0,0.0,0.0,0.0,0.0,0.0,0.0,0.0,0.0,0.0,0.0,0.0,0.0,0.002426299785383965,0.0,0.0,0.0,0.0,0.0,0.0,0.0],[0.0,0.0,0.0,0.0,0.0,0.0,0.0,0.0,0.0,0.0,0.0,0.0,0.0,0.0,0.0,0.0,0.0,0.0,0.0,0.0,0.0,0.0,0.0,0.0,0.0,0.0,0.0,0.0,0.0,-0.011118398737542877,0.0,0.0],[0.0,0.0,0.0,0.0,0.0,0.0,0.0,-0.035882986587876246,-0.07343410246245656,0.0,0.0,0.0,0.0,0.0,0.0,0.0,0.0,0.0,0.0,0.0,0.0,0.0,0.0,0.0,0.0,0.0,0.0,0.0,0.0,0.0,0.0,0.0],[0.02884754975892763,0.0,0.0,0.0,0.0,0.0,0.0,0.0,0.0,0.0,0.0,0.0,0.0,0.0,0.0,0.0,0.01606043769138233,0.0,0.0,0.0,0.0,0.0,0.0,0.0,0.0,0.0,0.0,0.0,0.0,0.0,0.0,0.0],[0.0,0.0,0.0,0.0,0.0,0.0,0.0,0.0,0.012862493921764848,0.0,0.10151591639505321,0.0,0.0,0.0,0.004925768149769789,0.0,0.0,0.0,0.0,0.0,0.0,0.0,0.0,0.0,0.0,0.0,0.0,0.0,0.0,0.0,-0.021769156093139203,0.0],[0.0,0.0,0.0,-0.04079749867335308,0.0,0.0,0.0,0.0,0.0,0.0,0.0,0.0,0.0,0.0,0.0399867305588604,0.0,0.0,0.0,0.0,0.0,0.0,0.0,0.0,0.0,0.0,0.0,-0.03379609572415465,0.0,0.0,0.0,0.0,-0.002090888160147099],[0.0,0.0,0.0,0.0,0.0,0.0032831997704501157,0.0,0.0,0.0,0.0,0.0,0.023896685032424876,0.0,0.0,0.0,0.0,0.0,0.019718306432301914,0.0,0.0,0.0,0.0,0.0,0.0,0.0,0.0,0.0,0.0,0.0,0.0,0.0,0.0],[0.0,0.0,0.0,0.0,0.09592778174757785,0.0,0.013223030089893957,0.0,0.0,0.0,0.0,0.0,0.0,0.0,0.02658324963690916,0.0,0.04859146119824056,0.010792752126358718,0.0,0.019261833569303798,0.0,0.0,0.0,0.0,-0.005601007204791938,0.0,0.0,0.0,0.0,0.0,0.0,0.0],[0.0,0.0,0.0,0.0,0.0,0.0,0.0203491715687307,0.0,0.0,0.012625209225737885,0.0,0.0259957469910787,0.0,0.0,0.0,0.0,0.0,0.0,0.0,0.006435735343979358,0.0,0.0,0.03480117890029129,0.0,0.0,0.0,0.0,0.0,0.0,0.0,0.0,0.0],[0.0,0.0,0.0,0.0,0.0,0.0,0.0,0.0,0.0,0.0,0.008173971733716081,0.030333173929053547,0.0,0.06154656443501052,0.0035708915437201367,0.0,0.0,0.0,0.0,0.0,0.0,0.0,0.0,0.049842630506215964,0.0,0.0,0.0,0.015119176279480447,0.0,0.0,0.0,0.0],[0.0,0.0,0.0,0.0,0.0,0.009515759755238126,0.0,0.0,0.0,0.0,0.0,0.0,0.0,0.0,0.0,0.0,0.0,0.04867876350658115,0.0,0.0,0.0018008089773643278,0.0,0.0,0.0,0.017812851181639958,0.029294488489678853,0.0,0.029912177461508788,0.0,0.0,0.0,0.0],[-0.004281033292343461,-0.08860400199681541,0.0,0.0,0.0,0.0,0.0,0.0,0.0,0.0,0.0,0.009265660251897588,0.0,0.00204698889612962,0.0,0.0,0.017811222465376142,0.0,0.0,0.0,0.0,0.0,0.0,0.0,0.0,0.0,0.0,0.0,0.0,0.0,0.0,0.0],[-0.009871540757300018,-0.05714708407904564,0.0,0.0,0.0,0.0,0.0,0.0,0.0,0.0,0.0,0.0,0.0,0.013356226054027821,0.0,0.0,0.029887299758889818,0.0,0.05943982547586855,0.028603749318359233,0.0,0.0,0.002793916554509848,0.0,0.0,0.0,0.0,0.0,0.0,0.0,0.0,0.0],[0.0,0.0,0.0,0.0,-0.013442258516937198,0.0,0.0,0.0,0.0,0.0,0.0,0.0,-0.004423127226919486,0.0,0.0,0.0,0.0,0.0,0.0,0.0,0.0,0.0,0.0,0.013326382960892846,0.04739015700319597,0.0,0.0,0.0,0.0,-0.003054760320203453,-0.03382116066245214,0.0],[0.0,-0.055962440854896024,0.0,0.0,0.0,0.0,0.0,0.04679033909976245,0.0,0.0,0.0,0.0,0.0,0.0,0.0,0.0,0.0,0.0,0.0,0.0,0.0,0.0,0.0,0.0,0.0,0.0,0.0,0.0,0.0,0.0,0.0,-0.0446669546330541],[0.0,0.0,0.0,0.0,-0.0019590361485695303,-0.04410828356126636,0.0,0.013364311659554188,0.0,0.0,0.0,0.00619729805256724,0.0,0.0,0.0,0.0,-0.06060095610150797,0.0,0.0,0.0,0.0,0.0,0.0,0.0,0.0,0.0,0.0,0.0,-0.0815076413831385,0.0,0.0,0.0],[0.0,0.0,-0.02857893509831521,0.0,0.0,0.0,0.0,0.0,0.0,0.059491692899186294,0.0,0.0,0.0,0.0,0.0,0.0,0.0,0.0,0.0,0.0,0.0,0.0,0.0,0.0,0.0,0.0,0.0,0.0,0.0,0.0,-0.0663346160472524,-0.02331637097961945],[0.0,-0.05559617343732084,0.0,0.0,0.0,0.0,0.005663521283774144,0.0,0.0,0.0,0.0,0.0,0.0,0.0,0.0,0.0,0.0,0.0,0.0,0.0,0.0,0.0,0.0,0.0,0.0,0.0,0.0,0.0,0.0,-0.009668577559736118,0.0,0.0],[0.0,-0.07241504910267593,0.0,0.0,0.0,0.0,0.0,0.0,0.0,0.05318925055287832,0.0,0.0,0.0,0.0,0.0,0.0,0.07483098970618872,0.0,0.0,0.0,0.0,0.0,0.0,0.017892488130041885,0.0,0.005269172279435777,0.0,0.0,-0.06972945643823895,0.0,0.0,0.0],[0.0,-0.03231599005349524,0.0,0.0,0.0,0.0,0.0,0.0,0.0,0.0,0.0,0.0,0.0,0.0,0.0,0.0,0.0,0.0,0.0,0.019948812604281198,0.0,0.0,0.02774832224918869,0.0,0.0,0.0,0.039984620381779266,0.0,-0.013010824936766476,0.0,0.0,0.0],[0.0,0.0,0.0,0.0,0.02070358004784821,0.0,0.0,0.015160451346298582,0.0,0.0,0.0,0.0,0.0,0.0,0.0,0.005274160659584832,0.0,0.027596131771457505,0.07942973837663676,0.0,0.0,0.0,0.0,0.0,0.0,0.0,0.0,0.0,0.0,0.0,-0.04385346253092454,-0.01961524494630896],[0.0,0.0,0.0,0.0,0.0,0.0,0.0,0.0,0.0,0.0,0.0,0.0,0.0,0.006174325496778604,0.0,0.10822024586468935,0.0,0.0,0.0,0.0,0.0,0.0,0.0,0.0,0.0,0.0,0.0,-0.015982099232644792,-0.014597862312008306,0.0,0.0,0.0],[0.0,0.0,-0.013874018513640066,0.0,-0.07329453261493798,0.0,0.0,0.0,0.0,-0.030924473800404376,0.0,0.0,0.0,0.0,0.0,0.0,0.0,0.0,0.0,0.0,0.0,0.0,-0.014108529452043992,0.0,0.0,0.0,-0.0020186870826966363,0.0,0.0,-0.03819299440563554,0.0,0.0],[0.0,0.0,0.0,0.0,0.0,0.0,0.0,0.0,0.0,0.0,0.0,0.0,0.0,0.0,0.0,0.0,0.0,0.0,0.0,0.0,0.0,0.0,0.0,-0.02724938311542733,0.0,0.0,0.0,0.0,0.0,0.0,0.0,0.0],[0.03861752339929951,0.0,0.0,0.0,0.0,0.0,0.0,0.0,0.0,0.0,0.013132526571308372,0.0,0.0,0.0,0.0,0.0,0.0,0.0,0.0,0.0,0.0,0.0,0.0,0.0,0.0,0.0,0.0,0.0,0.0,0.0,0.0,-0.031386787430198994],[0.0,0.0,0.0,0.0,-0.03894504587328374,0.0,0.0,0.0,0.0,0.0,0.0045244042538513975,0.010024742194986759,0.0,0.0,0.0,0.0,0.0,0.0,0.0,0.0,0.0,0.0,0.0,0.0,0.0,0.0,0.0,0.0,0.0,0.0,0.0,0.0],[0.0,0.0,0.0,0.0,0.0,-0.01562137088330972,0.0,0.0,0.0,0.0,0.0,0.0,0.0,0.0,0.0,0.0,0.0,0.0,0.0,-0.06561262124926179,0.0,0.0,0.0,0.0,0.0,0.0,0.0,0.0,0.0,0.0,0.0,0.0],[0.0,0.0,0.0,0.0,0.0,-0.07139858930036079,0.0,0.0,0.0,0.0,0.0,0.0,0.0,0.0,0.0,-0.013633753226313255,0.0,0.0,0.0,0.0,0.0,0.0,0.0,0.0,0.0,0.0,0.0,0.0,0.0,0.0,0.0,0.0],[0.03997279090760503,0.0,0.0,0.0,0.0,0.0,0.0,0.0,0.0,0.0,0.03511397006260563,0.0,0.0,0.0,0.0,0.0,0.0,0.0,0.0,0.0,0.0,0.0,0.0,0.0,0.0,0.0,0.0,0.0,0.0,0.0,0.0,0.0]],\"type\":\"heatmap\",\"xaxis\":\"x\",\"yaxis\":\"y\",\"hovertemplate\":\"x: %{x}<br>y: %{y}<br>color: %{z}<extra></extra>\"}],                        {\"template\":{\"data\":{\"histogram2dcontour\":[{\"type\":\"histogram2dcontour\",\"colorbar\":{\"outlinewidth\":0,\"ticks\":\"\"},\"colorscale\":[[0.0,\"#0d0887\"],[0.1111111111111111,\"#46039f\"],[0.2222222222222222,\"#7201a8\"],[0.3333333333333333,\"#9c179e\"],[0.4444444444444444,\"#bd3786\"],[0.5555555555555556,\"#d8576b\"],[0.6666666666666666,\"#ed7953\"],[0.7777777777777778,\"#fb9f3a\"],[0.8888888888888888,\"#fdca26\"],[1.0,\"#f0f921\"]]}],\"choropleth\":[{\"type\":\"choropleth\",\"colorbar\":{\"outlinewidth\":0,\"ticks\":\"\"}}],\"histogram2d\":[{\"type\":\"histogram2d\",\"colorbar\":{\"outlinewidth\":0,\"ticks\":\"\"},\"colorscale\":[[0.0,\"#0d0887\"],[0.1111111111111111,\"#46039f\"],[0.2222222222222222,\"#7201a8\"],[0.3333333333333333,\"#9c179e\"],[0.4444444444444444,\"#bd3786\"],[0.5555555555555556,\"#d8576b\"],[0.6666666666666666,\"#ed7953\"],[0.7777777777777778,\"#fb9f3a\"],[0.8888888888888888,\"#fdca26\"],[1.0,\"#f0f921\"]]}],\"heatmap\":[{\"type\":\"heatmap\",\"colorbar\":{\"outlinewidth\":0,\"ticks\":\"\"},\"colorscale\":[[0.0,\"#0d0887\"],[0.1111111111111111,\"#46039f\"],[0.2222222222222222,\"#7201a8\"],[0.3333333333333333,\"#9c179e\"],[0.4444444444444444,\"#bd3786\"],[0.5555555555555556,\"#d8576b\"],[0.6666666666666666,\"#ed7953\"],[0.7777777777777778,\"#fb9f3a\"],[0.8888888888888888,\"#fdca26\"],[1.0,\"#f0f921\"]]}],\"heatmapgl\":[{\"type\":\"heatmapgl\",\"colorbar\":{\"outlinewidth\":0,\"ticks\":\"\"},\"colorscale\":[[0.0,\"#0d0887\"],[0.1111111111111111,\"#46039f\"],[0.2222222222222222,\"#7201a8\"],[0.3333333333333333,\"#9c179e\"],[0.4444444444444444,\"#bd3786\"],[0.5555555555555556,\"#d8576b\"],[0.6666666666666666,\"#ed7953\"],[0.7777777777777778,\"#fb9f3a\"],[0.8888888888888888,\"#fdca26\"],[1.0,\"#f0f921\"]]}],\"contourcarpet\":[{\"type\":\"contourcarpet\",\"colorbar\":{\"outlinewidth\":0,\"ticks\":\"\"}}],\"contour\":[{\"type\":\"contour\",\"colorbar\":{\"outlinewidth\":0,\"ticks\":\"\"},\"colorscale\":[[0.0,\"#0d0887\"],[0.1111111111111111,\"#46039f\"],[0.2222222222222222,\"#7201a8\"],[0.3333333333333333,\"#9c179e\"],[0.4444444444444444,\"#bd3786\"],[0.5555555555555556,\"#d8576b\"],[0.6666666666666666,\"#ed7953\"],[0.7777777777777778,\"#fb9f3a\"],[0.8888888888888888,\"#fdca26\"],[1.0,\"#f0f921\"]]}],\"surface\":[{\"type\":\"surface\",\"colorbar\":{\"outlinewidth\":0,\"ticks\":\"\"},\"colorscale\":[[0.0,\"#0d0887\"],[0.1111111111111111,\"#46039f\"],[0.2222222222222222,\"#7201a8\"],[0.3333333333333333,\"#9c179e\"],[0.4444444444444444,\"#bd3786\"],[0.5555555555555556,\"#d8576b\"],[0.6666666666666666,\"#ed7953\"],[0.7777777777777778,\"#fb9f3a\"],[0.8888888888888888,\"#fdca26\"],[1.0,\"#f0f921\"]]}],\"mesh3d\":[{\"type\":\"mesh3d\",\"colorbar\":{\"outlinewidth\":0,\"ticks\":\"\"}}],\"scatter\":[{\"fillpattern\":{\"fillmode\":\"overlay\",\"size\":10,\"solidity\":0.2},\"type\":\"scatter\"}],\"parcoords\":[{\"type\":\"parcoords\",\"line\":{\"colorbar\":{\"outlinewidth\":0,\"ticks\":\"\"}}}],\"scatterpolargl\":[{\"type\":\"scatterpolargl\",\"marker\":{\"colorbar\":{\"outlinewidth\":0,\"ticks\":\"\"}}}],\"bar\":[{\"error_x\":{\"color\":\"#2a3f5f\"},\"error_y\":{\"color\":\"#2a3f5f\"},\"marker\":{\"line\":{\"color\":\"#E5ECF6\",\"width\":0.5},\"pattern\":{\"fillmode\":\"overlay\",\"size\":10,\"solidity\":0.2}},\"type\":\"bar\"}],\"scattergeo\":[{\"type\":\"scattergeo\",\"marker\":{\"colorbar\":{\"outlinewidth\":0,\"ticks\":\"\"}}}],\"scatterpolar\":[{\"type\":\"scatterpolar\",\"marker\":{\"colorbar\":{\"outlinewidth\":0,\"ticks\":\"\"}}}],\"histogram\":[{\"marker\":{\"pattern\":{\"fillmode\":\"overlay\",\"size\":10,\"solidity\":0.2}},\"type\":\"histogram\"}],\"scattergl\":[{\"type\":\"scattergl\",\"marker\":{\"colorbar\":{\"outlinewidth\":0,\"ticks\":\"\"}}}],\"scatter3d\":[{\"type\":\"scatter3d\",\"line\":{\"colorbar\":{\"outlinewidth\":0,\"ticks\":\"\"}},\"marker\":{\"colorbar\":{\"outlinewidth\":0,\"ticks\":\"\"}}}],\"scattermapbox\":[{\"type\":\"scattermapbox\",\"marker\":{\"colorbar\":{\"outlinewidth\":0,\"ticks\":\"\"}}}],\"scatterternary\":[{\"type\":\"scatterternary\",\"marker\":{\"colorbar\":{\"outlinewidth\":0,\"ticks\":\"\"}}}],\"scattercarpet\":[{\"type\":\"scattercarpet\",\"marker\":{\"colorbar\":{\"outlinewidth\":0,\"ticks\":\"\"}}}],\"carpet\":[{\"aaxis\":{\"endlinecolor\":\"#2a3f5f\",\"gridcolor\":\"white\",\"linecolor\":\"white\",\"minorgridcolor\":\"white\",\"startlinecolor\":\"#2a3f5f\"},\"baxis\":{\"endlinecolor\":\"#2a3f5f\",\"gridcolor\":\"white\",\"linecolor\":\"white\",\"minorgridcolor\":\"white\",\"startlinecolor\":\"#2a3f5f\"},\"type\":\"carpet\"}],\"table\":[{\"cells\":{\"fill\":{\"color\":\"#EBF0F8\"},\"line\":{\"color\":\"white\"}},\"header\":{\"fill\":{\"color\":\"#C8D4E3\"},\"line\":{\"color\":\"white\"}},\"type\":\"table\"}],\"barpolar\":[{\"marker\":{\"line\":{\"color\":\"#E5ECF6\",\"width\":0.5},\"pattern\":{\"fillmode\":\"overlay\",\"size\":10,\"solidity\":0.2}},\"type\":\"barpolar\"}],\"pie\":[{\"automargin\":true,\"type\":\"pie\"}]},\"layout\":{\"autotypenumbers\":\"strict\",\"colorway\":[\"#636efa\",\"#EF553B\",\"#00cc96\",\"#ab63fa\",\"#FFA15A\",\"#19d3f3\",\"#FF6692\",\"#B6E880\",\"#FF97FF\",\"#FECB52\"],\"font\":{\"color\":\"#2a3f5f\"},\"hovermode\":\"closest\",\"hoverlabel\":{\"align\":\"left\"},\"paper_bgcolor\":\"white\",\"plot_bgcolor\":\"#E5ECF6\",\"polar\":{\"bgcolor\":\"#E5ECF6\",\"angularaxis\":{\"gridcolor\":\"white\",\"linecolor\":\"white\",\"ticks\":\"\"},\"radialaxis\":{\"gridcolor\":\"white\",\"linecolor\":\"white\",\"ticks\":\"\"}},\"ternary\":{\"bgcolor\":\"#E5ECF6\",\"aaxis\":{\"gridcolor\":\"white\",\"linecolor\":\"white\",\"ticks\":\"\"},\"baxis\":{\"gridcolor\":\"white\",\"linecolor\":\"white\",\"ticks\":\"\"},\"caxis\":{\"gridcolor\":\"white\",\"linecolor\":\"white\",\"ticks\":\"\"}},\"coloraxis\":{\"colorbar\":{\"outlinewidth\":0,\"ticks\":\"\"}},\"colorscale\":{\"sequential\":[[0.0,\"#0d0887\"],[0.1111111111111111,\"#46039f\"],[0.2222222222222222,\"#7201a8\"],[0.3333333333333333,\"#9c179e\"],[0.4444444444444444,\"#bd3786\"],[0.5555555555555556,\"#d8576b\"],[0.6666666666666666,\"#ed7953\"],[0.7777777777777778,\"#fb9f3a\"],[0.8888888888888888,\"#fdca26\"],[1.0,\"#f0f921\"]],\"sequentialminus\":[[0.0,\"#0d0887\"],[0.1111111111111111,\"#46039f\"],[0.2222222222222222,\"#7201a8\"],[0.3333333333333333,\"#9c179e\"],[0.4444444444444444,\"#bd3786\"],[0.5555555555555556,\"#d8576b\"],[0.6666666666666666,\"#ed7953\"],[0.7777777777777778,\"#fb9f3a\"],[0.8888888888888888,\"#fdca26\"],[1.0,\"#f0f921\"]],\"diverging\":[[0,\"#8e0152\"],[0.1,\"#c51b7d\"],[0.2,\"#de77ae\"],[0.3,\"#f1b6da\"],[0.4,\"#fde0ef\"],[0.5,\"#f7f7f7\"],[0.6,\"#e6f5d0\"],[0.7,\"#b8e186\"],[0.8,\"#7fbc41\"],[0.9,\"#4d9221\"],[1,\"#276419\"]]},\"xaxis\":{\"gridcolor\":\"white\",\"linecolor\":\"white\",\"ticks\":\"\",\"title\":{\"standoff\":15},\"zerolinecolor\":\"white\",\"automargin\":true,\"zerolinewidth\":2},\"yaxis\":{\"gridcolor\":\"white\",\"linecolor\":\"white\",\"ticks\":\"\",\"title\":{\"standoff\":15},\"zerolinecolor\":\"white\",\"automargin\":true,\"zerolinewidth\":2},\"scene\":{\"xaxis\":{\"backgroundcolor\":\"#E5ECF6\",\"gridcolor\":\"white\",\"linecolor\":\"white\",\"showbackground\":true,\"ticks\":\"\",\"zerolinecolor\":\"white\",\"gridwidth\":2},\"yaxis\":{\"backgroundcolor\":\"#E5ECF6\",\"gridcolor\":\"white\",\"linecolor\":\"white\",\"showbackground\":true,\"ticks\":\"\",\"zerolinecolor\":\"white\",\"gridwidth\":2},\"zaxis\":{\"backgroundcolor\":\"#E5ECF6\",\"gridcolor\":\"white\",\"linecolor\":\"white\",\"showbackground\":true,\"ticks\":\"\",\"zerolinecolor\":\"white\",\"gridwidth\":2}},\"shapedefaults\":{\"line\":{\"color\":\"#2a3f5f\"}},\"annotationdefaults\":{\"arrowcolor\":\"#2a3f5f\",\"arrowhead\":0,\"arrowwidth\":1},\"geo\":{\"bgcolor\":\"white\",\"landcolor\":\"#E5ECF6\",\"subunitcolor\":\"white\",\"showland\":true,\"showlakes\":true,\"lakecolor\":\"white\"},\"title\":{\"x\":0.05},\"mapbox\":{\"style\":\"light\"}}},\"xaxis\":{\"anchor\":\"y\",\"domain\":[0.0,1.0],\"scaleanchor\":\"y\",\"constrain\":\"domain\",\"side\":\"top\"},\"yaxis\":{\"anchor\":\"x\",\"domain\":[0.0,1.0],\"autorange\":\"reversed\",\"constrain\":\"domain\"},\"coloraxis\":{\"colorscale\":[[0.0,\"#0d0887\"],[0.1111111111111111,\"#46039f\"],[0.2222222222222222,\"#7201a8\"],[0.3333333333333333,\"#9c179e\"],[0.4444444444444444,\"#bd3786\"],[0.5555555555555556,\"#d8576b\"],[0.6666666666666666,\"#ed7953\"],[0.7777777777777778,\"#fb9f3a\"],[0.8888888888888888,\"#fdca26\"],[1.0,\"#f0f921\"]]},\"margin\":{\"t\":60}},                        {\"responsive\": true}                    ).then(function(){\n",
       "                            \n",
       "var gd = document.getElementById('7148e158-f658-4670-8e34-fca755f14ddb');\n",
       "var x = new MutationObserver(function (mutations, observer) {{\n",
       "        var display = window.getComputedStyle(gd).display;\n",
       "        if (!display || display === 'none') {{\n",
       "            console.log([gd, 'removed!']);\n",
       "            Plotly.purge(gd);\n",
       "            observer.disconnect();\n",
       "        }}\n",
       "}});\n",
       "\n",
       "// Listen for the removal of the full notebook cells\n",
       "var notebookContainer = gd.closest('#notebook-container');\n",
       "if (notebookContainer) {{\n",
       "    x.observe(notebookContainer, {childList: true});\n",
       "}}\n",
       "\n",
       "// Listen for the clearing of the current output cell\n",
       "var outputEl = gd.closest('.output');\n",
       "if (outputEl) {{\n",
       "    x.observe(outputEl, {childList: true});\n",
       "}}\n",
       "\n",
       "                        })                };                });            </script>        </div>"
      ]
     },
     "metadata": {},
     "output_type": "display_data"
    }
   ],
   "source": [
    "resultsl1_r = np.array(resultsl1_r)\n",
    "resultsl1_r = resultsl1_r.reshape([32,32])\n",
    "\n",
    "fig_r = px.imshow(resultsl1_r)\n",
    "fig_r.update_xaxes(side=\"top\")\n",
    "fig_r.show()"
   ]
  },
  {
   "cell_type": "code",
   "execution_count": 258,
   "id": "3f8bf6c6-9fc9-48ea-bc64-9db41accecb6",
   "metadata": {},
   "outputs": [
    {
     "data": {
      "application/vnd.plotly.v1+json": {
       "config": {
        "plotlyServerURL": "https://plot.ly"
       },
       "data": [
        {
         "coloraxis": "coloraxis",
         "hovertemplate": "x: %{x}<br>y: %{y}<br>color: %{z}<extra></extra>",
         "name": "0",
         "type": "heatmap",
         "xaxis": "x",
         "yaxis": "y",
         "z": [
          [
           0,
           0,
           0,
           0,
           0,
           0,
           0,
           0,
           0,
           0,
           -0.019320644719830055,
           -0.02542572848887739,
           0,
           -0.016092102487845816,
           0,
           0,
           0,
           0,
           -0.001425910384371032,
           0,
           0,
           0,
           0,
           0,
           0,
           0,
           0,
           0,
           0,
           0,
           0.10761411840740277,
           0.019327791636446698
          ],
          [
           0,
           0,
           0,
           0,
           0,
           0,
           0,
           0,
           -0.01672964784490713,
           0,
           -0.0004468106810477294,
           -0.0030988525756237674,
           0,
           0,
           0,
           0,
           -0.040531679229060515,
           0,
           0,
           0,
           0,
           0,
           0,
           0,
           0,
           0,
           0,
           0,
           0,
           0,
           0,
           0
          ],
          [
           0,
           0,
           0,
           0,
           0,
           0,
           0,
           0,
           -0.0316892557127091,
           0,
           0,
           0,
           0,
           0,
           0,
           0,
           -0.04363865125419767,
           -0.04408053021640045,
           0,
           0,
           0,
           0,
           0,
           0,
           0,
           0,
           0,
           0,
           0,
           0,
           0,
           0
          ],
          [
           0,
           0,
           0,
           0,
           0,
           -0.067106580185103,
           0,
           0,
           0,
           0,
           0,
           0,
           0,
           0,
           0,
           0,
           0,
           -0.0618321467093349,
           0,
           0,
           0,
           -0.009937841637399568,
           0,
           0,
           0,
           0,
           0,
           0,
           0,
           0,
           0,
           0
          ],
          [
           0,
           0,
           0,
           0,
           0,
           0,
           0,
           0,
           0,
           0,
           0,
           0.012849196177923666,
           0,
           0,
           0.05975707431425104,
           0.011331443015631543,
           0,
           0,
           0,
           0,
           0,
           0,
           0,
           -0.07459841931400107,
           0,
           0,
           0,
           0,
           0,
           0,
           0,
           0
          ],
          [
           0,
           0,
           0,
           0,
           0,
           0,
           0,
           0,
           0,
           0,
           0,
           0.05583278766217103,
           0,
           0,
           0,
           0,
           0,
           0,
           0,
           0.02020992638466721,
           0,
           0,
           0,
           0,
           0,
           0,
           0,
           0,
           0,
           0,
           0,
           0
          ],
          [
           0,
           0,
           0,
           0,
           0,
           0,
           0,
           0,
           0,
           0,
           0,
           0,
           -0.010965294145075228,
           0,
           0,
           0,
           0,
           0,
           0,
           0,
           0,
           0,
           0,
           0,
           0,
           0,
           0,
           0,
           0,
           0,
           0,
           0
          ],
          [
           0,
           0,
           0,
           -0.007970702007503947,
           0,
           0,
           0,
           0,
           0,
           0,
           0,
           0,
           -0.034509221461051974,
           0,
           0,
           0,
           0,
           0,
           0,
           0,
           0,
           0,
           0,
           0,
           0,
           0,
           0,
           0,
           0,
           0,
           0,
           0
          ],
          [
           0,
           0,
           0,
           -0.0040219223884510645,
           -0.0698302461002015,
           0,
           0,
           0,
           0,
           0,
           0,
           0,
           0,
           0,
           0,
           0,
           0,
           0,
           0,
           -0.021107832765705957,
           -0.022296884003451894,
           0,
           0,
           0,
           0,
           0,
           0,
           0,
           0,
           0,
           0,
           0
          ],
          [
           0,
           0,
           0,
           0,
           0,
           0,
           0,
           0,
           -0.04923605955511661,
           0,
           0,
           0,
           0,
           0,
           0,
           0,
           0,
           0,
           -0.023052081795937422,
           0,
           0,
           -0.0025120750328278428,
           -0.007316542334946129,
           0,
           0,
           0,
           0,
           0,
           0,
           0,
           0.015035148951925028,
           0
          ],
          [
           0,
           0,
           0,
           0,
           0,
           0,
           0,
           0,
           -0.024579525458121407,
           -0.003158288830533265,
           0,
           0,
           -0.028804391563733683,
           0,
           0,
           0,
           0,
           0,
           -0.011208855655248779,
           0,
           0,
           0,
           0,
           0,
           0,
           0,
           0,
           0,
           0,
           0,
           0,
           0
          ],
          [
           0,
           0,
           0.0029442764991188908,
           0,
           0,
           0,
           0,
           0,
           0,
           0,
           -0.026014962139788857,
           0,
           0,
           0,
           0,
           0,
           -0.04121447550792102,
           0,
           0,
           0,
           0,
           0,
           0,
           0,
           -0.001727337880275919,
           -0.02138105553230534,
           -0.023501870468898504,
           0,
           0,
           0,
           0,
           0
          ],
          [
           0.021840811182286216,
           0,
           0,
           0,
           -0.03607583334625022,
           0,
           0,
           -0.01654021028434203,
           -0.012718582224420386,
           0,
           0,
           0,
           0,
           0,
           0,
           -0.025941127352923372,
           -0.01343952381597369,
           0,
           -0.012552350123006751,
           0,
           0,
           0,
           0,
           0,
           0,
           0,
           0,
           0,
           0,
           0,
           -0.05081795824305279,
           0
          ],
          [
           0,
           0,
           0,
           0,
           0,
           0,
           0,
           0,
           -0.0006718533130872613,
           0,
           -0.00522167962634017,
           0,
           0,
           0,
           0,
           0,
           -0.01219403028926991,
           0,
           0,
           -0.10254048152704127,
           0,
           -0.008361728280549657,
           -0.03854286337281477,
           0,
           0,
           0,
           0,
           0,
           0,
           0,
           0,
           0
          ],
          [
           0,
           0,
           0,
           0,
           -0.008133441358703671,
           0,
           0,
           0,
           -0.0033634217813926313,
           0,
           0,
           0,
           0,
           0,
           0,
           0,
           0,
           -0.08108556673377826,
           0,
           0,
           0,
           0,
           0,
           0,
           0,
           -0.04208679586740204,
           -0.05511851588594094,
           0,
           0,
           0,
           0,
           0
          ],
          [
           0,
           0,
           0,
           0,
           0,
           0,
           0,
           0,
           0,
           0,
           -0.03022859065990957,
           -0.025112827311844957,
           0,
           0,
           -0.038000994532169104,
           0,
           0,
           0,
           0,
           0,
           -0.03292478786592191,
           0,
           0,
           0,
           0,
           0,
           0,
           0,
           0,
           0,
           0,
           0
          ],
          [
           0,
           0,
           0,
           0,
           0,
           0,
           0,
           0,
           -0.021957849648466976,
           0,
           -0.01063777864031659,
           0,
           0,
           0,
           0,
           0,
           0.025898429279378306,
           0.0012586107781544591,
           0,
           0,
           0,
           0,
           0,
           0,
           0,
           0,
           0,
           0,
           0,
           0,
           0,
           0.03391133112156486
          ],
          [
           0,
           0,
           0,
           0,
           0,
           0,
           0,
           0,
           -0.02329043067473273,
           0,
           0,
           0,
           0,
           0,
           0.0018491568786307081,
           0,
           0,
           0,
           0,
           0,
           0.00803966546747282,
           0,
           0,
           0,
           0,
           0,
           0,
           0,
           0,
           0,
           0.011125448602737354,
           0
          ],
          [
           0,
           0,
           0,
           0,
           0,
           0,
           0,
           0,
           0,
           0,
           0,
           0,
           0.03498151552419529,
           0,
           0,
           0,
           0,
           0,
           0,
           0,
           0,
           0.0034195683098087707,
           0,
           0,
           0,
           0,
           0,
           0,
           0,
           0,
           0,
           0.00426962600502465
          ],
          [
           0.07898147493853333,
           0,
           0,
           0,
           0,
           0,
           0,
           0,
           0,
           0,
           0,
           0,
           0,
           0,
           0.024799860267077173,
           0.056972541575356334,
           0,
           0,
           0,
           0,
           0,
           0,
           0,
           0,
           0,
           0,
           0,
           0,
           0,
           0,
           0,
           0
          ],
          [
           0,
           0,
           0,
           0,
           0,
           0,
           0,
           0,
           0,
           0,
           0,
           0,
           0,
           0,
           0,
           0,
           0.04984630791548503,
           0,
           0,
           0,
           0.043163735095473145,
           0,
           0,
           0,
           -0.028171605928280295,
           -0.02062910081113732,
           0,
           0,
           0,
           0,
           0,
           0
          ],
          [
           0,
           0,
           0,
           0,
           -0.07918406123858465,
           0,
           0,
           0,
           0,
           0,
           0,
           0,
           0,
           0,
           0,
           0,
           0.008573013430743936,
           0,
           0,
           0,
           0,
           0,
           0,
           0,
           0,
           0,
           0,
           0,
           0,
           0,
           0.025420935579452464,
           0.0027779564776637547
          ],
          [
           0.0668373385492516,
           0,
           0,
           0,
           0,
           0,
           0,
           0,
           -0.03373980633185417,
           0,
           0,
           0,
           -0.025392490392582505,
           0,
           0,
           0,
           0,
           0,
           0,
           0,
           0,
           0,
           0,
           0,
           0,
           0,
           0,
           0,
           0,
           0,
           0,
           0.10959505167180081
          ],
          [
           0,
           0,
           0,
           0,
           0,
           0,
           0,
           0,
           0,
           0,
           0,
           0,
           -0.0007954174300516817,
           0,
           0,
           0,
           0,
           0,
           0,
           0,
           0,
           0,
           0,
           0,
           0,
           -0.03540261597761099,
           0,
           -0.024928780835595264,
           0,
           0,
           0,
           0
          ],
          [
           0,
           0,
           0,
           0,
           0,
           0,
           0,
           0,
           0,
           -0.030925637497784673,
           0,
           0,
           0,
           0,
           0,
           0,
           0,
           0,
           0,
           0,
           0,
           0,
           0,
           0,
           0,
           0,
           -0.012104605767477699,
           0,
           0,
           0,
           0,
           0.0775892483995831
          ],
          [
           0,
           0,
           0,
           0,
           0,
           0,
           0,
           0,
           0,
           -0.0025659923039807867,
           0,
           0.048627398103487415,
           0,
           0,
           0,
           0,
           0,
           0,
           0,
           0,
           0,
           0,
           0,
           0,
           0,
           0,
           0,
           0,
           0,
           0,
           0,
           0
          ],
          [
           0,
           0,
           0,
           0,
           0,
           -0.015013045442172709,
           0,
           0,
           0,
           0,
           0,
           0,
           0,
           0,
           -0.022089404355436187,
           0,
           0,
           0,
           0,
           0,
           0,
           0,
           0,
           0,
           0,
           0,
           0,
           0,
           0.01247382455527158,
           0,
           0.0415323263490804,
           0
          ],
          [
           0.09770086689740856,
           0,
           0,
           0.018712057555303994,
           0,
           0,
           0,
           0,
           0,
           0,
           0,
           0,
           0,
           0,
           0,
           -0.00645998717052171,
           0,
           0,
           0,
           0,
           0,
           0,
           0.0037241759003439566,
           0,
           0,
           0,
           0,
           0,
           0.027450316118517462,
           0,
           0,
           0
          ],
          [
           0,
           0,
           0,
           0,
           0,
           0,
           0,
           0,
           0,
           0,
           0,
           0,
           0,
           -0.057280883645922626,
           0,
           -0.03398648940142503,
           -0.050655201209036174,
           0,
           0,
           0,
           0,
           0,
           0,
           0,
           0,
           0,
           -0.02871295746513819,
           0,
           0,
           0,
           0,
           0
          ],
          [
           0,
           0,
           0,
           0,
           0,
           0,
           0,
           0,
           0,
           0,
           0,
           0,
           0,
           0,
           -0.03832979839411999,
           0,
           0,
           0,
           0,
           0,
           0,
           0,
           0,
           0,
           0,
           0,
           -0.012693685679542861,
           0,
           0,
           0,
           0,
           0
          ],
          [
           0.12588586900644844,
           0,
           0,
           0,
           0,
           0,
           0,
           0,
           0,
           0,
           0,
           0,
           0,
           0,
           0,
           0,
           0,
           0,
           0,
           0,
           0,
           0,
           0,
           0,
           0,
           0,
           0,
           0,
           0,
           0,
           0.1735571181638554,
           0.04351990858292355
          ],
          [
           0.27168674289727096,
           0,
           0,
           0,
           0,
           0,
           0.0010292912459343012,
           0,
           0,
           0,
           0,
           0,
           0,
           0,
           0,
           0,
           0,
           0,
           0,
           0,
           0,
           0,
           0,
           0,
           0,
           0,
           0,
           0,
           0,
           0.049224687830191544,
           0,
           0.11056546115353884
          ]
         ]
        }
       ],
       "layout": {
        "autosize": true,
        "coloraxis": {
         "colorscale": [
          [
           0,
           "#0d0887"
          ],
          [
           0.1111111111111111,
           "#46039f"
          ],
          [
           0.2222222222222222,
           "#7201a8"
          ],
          [
           0.3333333333333333,
           "#9c179e"
          ],
          [
           0.4444444444444444,
           "#bd3786"
          ],
          [
           0.5555555555555556,
           "#d8576b"
          ],
          [
           0.6666666666666666,
           "#ed7953"
          ],
          [
           0.7777777777777778,
           "#fb9f3a"
          ],
          [
           0.8888888888888888,
           "#fdca26"
          ],
          [
           1,
           "#f0f921"
          ]
         ]
        },
        "margin": {
         "t": 60
        },
        "template": {
         "data": {
          "bar": [
           {
            "error_x": {
             "color": "#2a3f5f"
            },
            "error_y": {
             "color": "#2a3f5f"
            },
            "marker": {
             "line": {
              "color": "#E5ECF6",
              "width": 0.5
             },
             "pattern": {
              "fillmode": "overlay",
              "size": 10,
              "solidity": 0.2
             }
            },
            "type": "bar"
           }
          ],
          "barpolar": [
           {
            "marker": {
             "line": {
              "color": "#E5ECF6",
              "width": 0.5
             },
             "pattern": {
              "fillmode": "overlay",
              "size": 10,
              "solidity": 0.2
             }
            },
            "type": "barpolar"
           }
          ],
          "carpet": [
           {
            "aaxis": {
             "endlinecolor": "#2a3f5f",
             "gridcolor": "white",
             "linecolor": "white",
             "minorgridcolor": "white",
             "startlinecolor": "#2a3f5f"
            },
            "baxis": {
             "endlinecolor": "#2a3f5f",
             "gridcolor": "white",
             "linecolor": "white",
             "minorgridcolor": "white",
             "startlinecolor": "#2a3f5f"
            },
            "type": "carpet"
           }
          ],
          "choropleth": [
           {
            "colorbar": {
             "outlinewidth": 0,
             "ticks": ""
            },
            "type": "choropleth"
           }
          ],
          "contour": [
           {
            "colorbar": {
             "outlinewidth": 0,
             "ticks": ""
            },
            "colorscale": [
             [
              0,
              "#0d0887"
             ],
             [
              0.1111111111111111,
              "#46039f"
             ],
             [
              0.2222222222222222,
              "#7201a8"
             ],
             [
              0.3333333333333333,
              "#9c179e"
             ],
             [
              0.4444444444444444,
              "#bd3786"
             ],
             [
              0.5555555555555556,
              "#d8576b"
             ],
             [
              0.6666666666666666,
              "#ed7953"
             ],
             [
              0.7777777777777778,
              "#fb9f3a"
             ],
             [
              0.8888888888888888,
              "#fdca26"
             ],
             [
              1,
              "#f0f921"
             ]
            ],
            "type": "contour"
           }
          ],
          "contourcarpet": [
           {
            "colorbar": {
             "outlinewidth": 0,
             "ticks": ""
            },
            "type": "contourcarpet"
           }
          ],
          "heatmap": [
           {
            "colorbar": {
             "outlinewidth": 0,
             "ticks": ""
            },
            "colorscale": [
             [
              0,
              "#0d0887"
             ],
             [
              0.1111111111111111,
              "#46039f"
             ],
             [
              0.2222222222222222,
              "#7201a8"
             ],
             [
              0.3333333333333333,
              "#9c179e"
             ],
             [
              0.4444444444444444,
              "#bd3786"
             ],
             [
              0.5555555555555556,
              "#d8576b"
             ],
             [
              0.6666666666666666,
              "#ed7953"
             ],
             [
              0.7777777777777778,
              "#fb9f3a"
             ],
             [
              0.8888888888888888,
              "#fdca26"
             ],
             [
              1,
              "#f0f921"
             ]
            ],
            "type": "heatmap"
           }
          ],
          "heatmapgl": [
           {
            "colorbar": {
             "outlinewidth": 0,
             "ticks": ""
            },
            "colorscale": [
             [
              0,
              "#0d0887"
             ],
             [
              0.1111111111111111,
              "#46039f"
             ],
             [
              0.2222222222222222,
              "#7201a8"
             ],
             [
              0.3333333333333333,
              "#9c179e"
             ],
             [
              0.4444444444444444,
              "#bd3786"
             ],
             [
              0.5555555555555556,
              "#d8576b"
             ],
             [
              0.6666666666666666,
              "#ed7953"
             ],
             [
              0.7777777777777778,
              "#fb9f3a"
             ],
             [
              0.8888888888888888,
              "#fdca26"
             ],
             [
              1,
              "#f0f921"
             ]
            ],
            "type": "heatmapgl"
           }
          ],
          "histogram": [
           {
            "marker": {
             "pattern": {
              "fillmode": "overlay",
              "size": 10,
              "solidity": 0.2
             }
            },
            "type": "histogram"
           }
          ],
          "histogram2d": [
           {
            "colorbar": {
             "outlinewidth": 0,
             "ticks": ""
            },
            "colorscale": [
             [
              0,
              "#0d0887"
             ],
             [
              0.1111111111111111,
              "#46039f"
             ],
             [
              0.2222222222222222,
              "#7201a8"
             ],
             [
              0.3333333333333333,
              "#9c179e"
             ],
             [
              0.4444444444444444,
              "#bd3786"
             ],
             [
              0.5555555555555556,
              "#d8576b"
             ],
             [
              0.6666666666666666,
              "#ed7953"
             ],
             [
              0.7777777777777778,
              "#fb9f3a"
             ],
             [
              0.8888888888888888,
              "#fdca26"
             ],
             [
              1,
              "#f0f921"
             ]
            ],
            "type": "histogram2d"
           }
          ],
          "histogram2dcontour": [
           {
            "colorbar": {
             "outlinewidth": 0,
             "ticks": ""
            },
            "colorscale": [
             [
              0,
              "#0d0887"
             ],
             [
              0.1111111111111111,
              "#46039f"
             ],
             [
              0.2222222222222222,
              "#7201a8"
             ],
             [
              0.3333333333333333,
              "#9c179e"
             ],
             [
              0.4444444444444444,
              "#bd3786"
             ],
             [
              0.5555555555555556,
              "#d8576b"
             ],
             [
              0.6666666666666666,
              "#ed7953"
             ],
             [
              0.7777777777777778,
              "#fb9f3a"
             ],
             [
              0.8888888888888888,
              "#fdca26"
             ],
             [
              1,
              "#f0f921"
             ]
            ],
            "type": "histogram2dcontour"
           }
          ],
          "mesh3d": [
           {
            "colorbar": {
             "outlinewidth": 0,
             "ticks": ""
            },
            "type": "mesh3d"
           }
          ],
          "parcoords": [
           {
            "line": {
             "colorbar": {
              "outlinewidth": 0,
              "ticks": ""
             }
            },
            "type": "parcoords"
           }
          ],
          "pie": [
           {
            "automargin": true,
            "type": "pie"
           }
          ],
          "scatter": [
           {
            "fillpattern": {
             "fillmode": "overlay",
             "size": 10,
             "solidity": 0.2
            },
            "type": "scatter"
           }
          ],
          "scatter3d": [
           {
            "line": {
             "colorbar": {
              "outlinewidth": 0,
              "ticks": ""
             }
            },
            "marker": {
             "colorbar": {
              "outlinewidth": 0,
              "ticks": ""
             }
            },
            "type": "scatter3d"
           }
          ],
          "scattercarpet": [
           {
            "marker": {
             "colorbar": {
              "outlinewidth": 0,
              "ticks": ""
             }
            },
            "type": "scattercarpet"
           }
          ],
          "scattergeo": [
           {
            "marker": {
             "colorbar": {
              "outlinewidth": 0,
              "ticks": ""
             }
            },
            "type": "scattergeo"
           }
          ],
          "scattergl": [
           {
            "marker": {
             "colorbar": {
              "outlinewidth": 0,
              "ticks": ""
             }
            },
            "type": "scattergl"
           }
          ],
          "scattermapbox": [
           {
            "marker": {
             "colorbar": {
              "outlinewidth": 0,
              "ticks": ""
             }
            },
            "type": "scattermapbox"
           }
          ],
          "scatterpolar": [
           {
            "marker": {
             "colorbar": {
              "outlinewidth": 0,
              "ticks": ""
             }
            },
            "type": "scatterpolar"
           }
          ],
          "scatterpolargl": [
           {
            "marker": {
             "colorbar": {
              "outlinewidth": 0,
              "ticks": ""
             }
            },
            "type": "scatterpolargl"
           }
          ],
          "scatterternary": [
           {
            "marker": {
             "colorbar": {
              "outlinewidth": 0,
              "ticks": ""
             }
            },
            "type": "scatterternary"
           }
          ],
          "surface": [
           {
            "colorbar": {
             "outlinewidth": 0,
             "ticks": ""
            },
            "colorscale": [
             [
              0,
              "#0d0887"
             ],
             [
              0.1111111111111111,
              "#46039f"
             ],
             [
              0.2222222222222222,
              "#7201a8"
             ],
             [
              0.3333333333333333,
              "#9c179e"
             ],
             [
              0.4444444444444444,
              "#bd3786"
             ],
             [
              0.5555555555555556,
              "#d8576b"
             ],
             [
              0.6666666666666666,
              "#ed7953"
             ],
             [
              0.7777777777777778,
              "#fb9f3a"
             ],
             [
              0.8888888888888888,
              "#fdca26"
             ],
             [
              1,
              "#f0f921"
             ]
            ],
            "type": "surface"
           }
          ],
          "table": [
           {
            "cells": {
             "fill": {
              "color": "#EBF0F8"
             },
             "line": {
              "color": "white"
             }
            },
            "header": {
             "fill": {
              "color": "#C8D4E3"
             },
             "line": {
              "color": "white"
             }
            },
            "type": "table"
           }
          ]
         },
         "layout": {
          "annotationdefaults": {
           "arrowcolor": "#2a3f5f",
           "arrowhead": 0,
           "arrowwidth": 1
          },
          "autotypenumbers": "strict",
          "coloraxis": {
           "colorbar": {
            "outlinewidth": 0,
            "ticks": ""
           }
          },
          "colorscale": {
           "diverging": [
            [
             0,
             "#8e0152"
            ],
            [
             0.1,
             "#c51b7d"
            ],
            [
             0.2,
             "#de77ae"
            ],
            [
             0.3,
             "#f1b6da"
            ],
            [
             0.4,
             "#fde0ef"
            ],
            [
             0.5,
             "#f7f7f7"
            ],
            [
             0.6,
             "#e6f5d0"
            ],
            [
             0.7,
             "#b8e186"
            ],
            [
             0.8,
             "#7fbc41"
            ],
            [
             0.9,
             "#4d9221"
            ],
            [
             1,
             "#276419"
            ]
           ],
           "sequential": [
            [
             0,
             "#0d0887"
            ],
            [
             0.1111111111111111,
             "#46039f"
            ],
            [
             0.2222222222222222,
             "#7201a8"
            ],
            [
             0.3333333333333333,
             "#9c179e"
            ],
            [
             0.4444444444444444,
             "#bd3786"
            ],
            [
             0.5555555555555556,
             "#d8576b"
            ],
            [
             0.6666666666666666,
             "#ed7953"
            ],
            [
             0.7777777777777778,
             "#fb9f3a"
            ],
            [
             0.8888888888888888,
             "#fdca26"
            ],
            [
             1,
             "#f0f921"
            ]
           ],
           "sequentialminus": [
            [
             0,
             "#0d0887"
            ],
            [
             0.1111111111111111,
             "#46039f"
            ],
            [
             0.2222222222222222,
             "#7201a8"
            ],
            [
             0.3333333333333333,
             "#9c179e"
            ],
            [
             0.4444444444444444,
             "#bd3786"
            ],
            [
             0.5555555555555556,
             "#d8576b"
            ],
            [
             0.6666666666666666,
             "#ed7953"
            ],
            [
             0.7777777777777778,
             "#fb9f3a"
            ],
            [
             0.8888888888888888,
             "#fdca26"
            ],
            [
             1,
             "#f0f921"
            ]
           ]
          },
          "colorway": [
           "#636efa",
           "#EF553B",
           "#00cc96",
           "#ab63fa",
           "#FFA15A",
           "#19d3f3",
           "#FF6692",
           "#B6E880",
           "#FF97FF",
           "#FECB52"
          ],
          "font": {
           "color": "#2a3f5f"
          },
          "geo": {
           "bgcolor": "white",
           "lakecolor": "white",
           "landcolor": "#E5ECF6",
           "showlakes": true,
           "showland": true,
           "subunitcolor": "white"
          },
          "hoverlabel": {
           "align": "left"
          },
          "hovermode": "closest",
          "mapbox": {
           "style": "light"
          },
          "paper_bgcolor": "white",
          "plot_bgcolor": "#E5ECF6",
          "polar": {
           "angularaxis": {
            "gridcolor": "white",
            "linecolor": "white",
            "ticks": ""
           },
           "bgcolor": "#E5ECF6",
           "radialaxis": {
            "gridcolor": "white",
            "linecolor": "white",
            "ticks": ""
           }
          },
          "scene": {
           "xaxis": {
            "backgroundcolor": "#E5ECF6",
            "gridcolor": "white",
            "gridwidth": 2,
            "linecolor": "white",
            "showbackground": true,
            "ticks": "",
            "zerolinecolor": "white"
           },
           "yaxis": {
            "backgroundcolor": "#E5ECF6",
            "gridcolor": "white",
            "gridwidth": 2,
            "linecolor": "white",
            "showbackground": true,
            "ticks": "",
            "zerolinecolor": "white"
           },
           "zaxis": {
            "backgroundcolor": "#E5ECF6",
            "gridcolor": "white",
            "gridwidth": 2,
            "linecolor": "white",
            "showbackground": true,
            "ticks": "",
            "zerolinecolor": "white"
           }
          },
          "shapedefaults": {
           "line": {
            "color": "#2a3f5f"
           }
          },
          "ternary": {
           "aaxis": {
            "gridcolor": "white",
            "linecolor": "white",
            "ticks": ""
           },
           "baxis": {
            "gridcolor": "white",
            "linecolor": "white",
            "ticks": ""
           },
           "bgcolor": "#E5ECF6",
           "caxis": {
            "gridcolor": "white",
            "linecolor": "white",
            "ticks": ""
           }
          },
          "title": {
           "x": 0.05
          },
          "xaxis": {
           "automargin": true,
           "gridcolor": "white",
           "linecolor": "white",
           "ticks": "",
           "title": {
            "standoff": 15
           },
           "zerolinecolor": "white",
           "zerolinewidth": 2
          },
          "yaxis": {
           "automargin": true,
           "gridcolor": "white",
           "linecolor": "white",
           "ticks": "",
           "title": {
            "standoff": 15
           },
           "zerolinecolor": "white",
           "zerolinewidth": 2
          }
         }
        },
        "xaxis": {
         "anchor": "y",
         "autorange": true,
         "constrain": "domain",
         "domain": [
          0.36650485436893204,
          0.633495145631068
         ],
         "range": [
          -0.5,
          31.5
         ],
         "scaleanchor": "y",
         "side": "top"
        },
        "yaxis": {
         "anchor": "x",
         "autorange": true,
         "constrain": "domain",
         "domain": [
          0,
          1
         ],
         "range": [
          31.5,
          -0.5
         ]
        }
       }
      },
      "image/png": "[encoded data removed]",
      "text/html": [
       "<div>                            <div id=\"d23b7494-b84f-4eb4-85a1-de2ba923070b\" class=\"plotly-graph-div\" style=\"height:525px; width:100%;\"></div>            <script type=\"text/javascript\">                require([\"plotly\"], function(Plotly) {                    window.PLOTLYENV=window.PLOTLYENV || {};                                    if (document.getElementById(\"d23b7494-b84f-4eb4-85a1-de2ba923070b\")) {                    Plotly.newPlot(                        \"d23b7494-b84f-4eb4-85a1-de2ba923070b\",                        [{\"coloraxis\":\"coloraxis\",\"name\":\"0\",\"z\":[[0.0,0.0,0.0,0.0,0.0,0.0,0.0,0.0,0.0,0.0,-0.019320644719830055,-0.02542572848887739,0.0,-0.016092102487845816,0.0,0.0,0.0,0.0,-0.001425910384371032,0.0,0.0,0.0,0.0,0.0,0.0,0.0,0.0,0.0,0.0,0.0,0.10761411840740277,0.019327791636446698],[0.0,0.0,0.0,0.0,0.0,0.0,0.0,0.0,-0.01672964784490713,0.0,-0.0004468106810477294,-0.0030988525756237674,0.0,0.0,0.0,0.0,-0.040531679229060515,0.0,0.0,0.0,0.0,0.0,0.0,0.0,0.0,0.0,0.0,0.0,0.0,0.0,0.0,0.0],[0.0,0.0,0.0,0.0,0.0,0.0,0.0,0.0,-0.0316892557127091,0.0,0.0,0.0,0.0,0.0,0.0,0.0,-0.04363865125419767,-0.04408053021640045,0.0,0.0,0.0,0.0,0.0,0.0,0.0,0.0,0.0,0.0,0.0,0.0,0.0,0.0],[0.0,0.0,0.0,0.0,0.0,-0.067106580185103,0.0,0.0,0.0,0.0,0.0,0.0,0.0,0.0,0.0,0.0,0.0,-0.0618321467093349,0.0,0.0,0.0,-0.009937841637399568,0.0,0.0,0.0,0.0,0.0,0.0,0.0,0.0,0.0,0.0],[0.0,0.0,0.0,0.0,0.0,0.0,0.0,0.0,0.0,0.0,0.0,0.012849196177923666,0.0,0.0,0.05975707431425104,0.011331443015631543,0.0,0.0,0.0,0.0,0.0,0.0,0.0,-0.07459841931400107,0.0,0.0,0.0,0.0,0.0,0.0,0.0,0.0],[0.0,0.0,0.0,0.0,0.0,0.0,0.0,0.0,0.0,0.0,0.0,0.05583278766217103,0.0,0.0,0.0,0.0,0.0,0.0,0.0,0.02020992638466721,0.0,0.0,0.0,0.0,0.0,0.0,0.0,0.0,0.0,0.0,0.0,0.0],[0.0,0.0,0.0,0.0,0.0,0.0,0.0,0.0,0.0,0.0,0.0,0.0,-0.010965294145075228,0.0,0.0,0.0,0.0,0.0,0.0,0.0,0.0,0.0,0.0,0.0,0.0,0.0,0.0,0.0,0.0,0.0,0.0,0.0],[0.0,0.0,0.0,-0.007970702007503947,0.0,0.0,0.0,0.0,0.0,0.0,0.0,0.0,-0.034509221461051974,0.0,0.0,0.0,0.0,0.0,0.0,0.0,0.0,0.0,0.0,0.0,0.0,0.0,0.0,0.0,0.0,0.0,0.0,0.0],[0.0,0.0,0.0,-0.0040219223884510645,-0.0698302461002015,0.0,0.0,0.0,0.0,0.0,0.0,0.0,0.0,0.0,0.0,0.0,0.0,0.0,0.0,-0.021107832765705957,-0.022296884003451894,0.0,0.0,0.0,0.0,0.0,0.0,0.0,0.0,0.0,0.0,0.0],[0.0,0.0,0.0,0.0,0.0,0.0,0.0,0.0,-0.04923605955511661,0.0,0.0,0.0,0.0,0.0,0.0,0.0,0.0,0.0,-0.023052081795937422,0.0,0.0,-0.0025120750328278428,-0.007316542334946129,0.0,0.0,0.0,0.0,0.0,0.0,0.0,0.015035148951925028,0.0],[0.0,0.0,0.0,0.0,0.0,0.0,0.0,0.0,-0.024579525458121407,-0.003158288830533265,0.0,0.0,-0.028804391563733683,0.0,0.0,0.0,0.0,0.0,-0.011208855655248779,0.0,0.0,0.0,0.0,0.0,0.0,0.0,0.0,0.0,0.0,0.0,0.0,0.0],[0.0,0.0,0.0029442764991188908,0.0,0.0,0.0,0.0,0.0,0.0,0.0,-0.026014962139788857,0.0,0.0,0.0,0.0,0.0,-0.04121447550792102,0.0,0.0,0.0,0.0,0.0,0.0,0.0,-0.001727337880275919,-0.02138105553230534,-0.023501870468898504,0.0,0.0,0.0,0.0,0.0],[0.021840811182286216,0.0,0.0,0.0,-0.03607583334625022,0.0,0.0,-0.01654021028434203,-0.012718582224420386,0.0,0.0,0.0,0.0,0.0,0.0,-0.025941127352923372,-0.01343952381597369,0.0,-0.012552350123006751,0.0,0.0,0.0,0.0,0.0,0.0,0.0,0.0,0.0,0.0,0.0,-0.05081795824305279,0.0],[0.0,0.0,0.0,0.0,0.0,0.0,0.0,0.0,-0.0006718533130872613,0.0,-0.00522167962634017,0.0,0.0,0.0,0.0,0.0,-0.01219403028926991,0.0,0.0,-0.10254048152704127,0.0,-0.008361728280549657,-0.03854286337281477,0.0,0.0,0.0,0.0,0.0,0.0,0.0,0.0,0.0],[0.0,0.0,0.0,0.0,-0.008133441358703671,0.0,0.0,0.0,-0.0033634217813926313,0.0,0.0,0.0,0.0,0.0,0.0,0.0,0.0,-0.08108556673377826,0.0,0.0,0.0,0.0,0.0,0.0,0.0,-0.04208679586740204,-0.05511851588594094,0.0,0.0,0.0,0.0,0.0],[0.0,0.0,0.0,0.0,0.0,0.0,0.0,0.0,0.0,0.0,-0.03022859065990957,-0.025112827311844957,0.0,0.0,-0.038000994532169104,0.0,0.0,0.0,0.0,0.0,-0.03292478786592191,0.0,0.0,0.0,0.0,0.0,0.0,0.0,0.0,0.0,0.0,0.0],[0.0,0.0,0.0,0.0,0.0,0.0,0.0,0.0,-0.021957849648466976,0.0,-0.01063777864031659,0.0,0.0,0.0,0.0,0.0,0.025898429279378306,0.0012586107781544591,0.0,0.0,0.0,0.0,0.0,0.0,0.0,0.0,0.0,0.0,0.0,0.0,0.0,0.03391133112156486],[0.0,0.0,0.0,0.0,0.0,0.0,0.0,0.0,-0.02329043067473273,0.0,0.0,0.0,0.0,0.0,0.0018491568786307081,0.0,0.0,0.0,0.0,0.0,0.00803966546747282,0.0,0.0,0.0,0.0,0.0,0.0,0.0,0.0,0.0,0.011125448602737354,0.0],[0.0,0.0,0.0,0.0,0.0,0.0,0.0,0.0,0.0,0.0,0.0,0.0,0.03498151552419529,0.0,0.0,0.0,0.0,0.0,0.0,0.0,0.0,0.0034195683098087707,0.0,0.0,0.0,0.0,0.0,0.0,0.0,0.0,0.0,0.00426962600502465],[0.07898147493853333,0.0,0.0,0.0,0.0,0.0,0.0,0.0,0.0,0.0,0.0,0.0,0.0,0.0,0.024799860267077173,0.056972541575356334,0.0,0.0,0.0,0.0,0.0,0.0,0.0,0.0,0.0,0.0,0.0,0.0,0.0,0.0,0.0,0.0],[0.0,0.0,0.0,0.0,0.0,0.0,0.0,0.0,0.0,0.0,0.0,0.0,0.0,0.0,0.0,0.0,0.04984630791548503,0.0,0.0,0.0,0.043163735095473145,0.0,0.0,0.0,-0.028171605928280295,-0.02062910081113732,0.0,0.0,0.0,0.0,0.0,0.0],[0.0,0.0,0.0,0.0,-0.07918406123858465,0.0,0.0,0.0,0.0,0.0,0.0,0.0,0.0,0.0,0.0,0.0,0.008573013430743936,0.0,0.0,0.0,0.0,0.0,0.0,0.0,0.0,0.0,0.0,0.0,0.0,0.0,0.025420935579452464,0.0027779564776637547],[0.0668373385492516,0.0,0.0,0.0,0.0,0.0,0.0,0.0,-0.03373980633185417,0.0,0.0,0.0,-0.025392490392582505,0.0,0.0,0.0,0.0,0.0,0.0,0.0,0.0,0.0,0.0,0.0,0.0,0.0,0.0,0.0,0.0,0.0,0.0,0.10959505167180081],[0.0,0.0,0.0,0.0,0.0,0.0,0.0,0.0,0.0,0.0,0.0,0.0,-0.0007954174300516817,0.0,0.0,0.0,0.0,0.0,0.0,0.0,0.0,0.0,0.0,0.0,0.0,-0.03540261597761099,0.0,-0.024928780835595264,0.0,0.0,0.0,0.0],[0.0,0.0,0.0,0.0,0.0,0.0,0.0,0.0,0.0,-0.030925637497784673,0.0,0.0,0.0,0.0,0.0,0.0,0.0,0.0,0.0,0.0,0.0,0.0,0.0,0.0,0.0,0.0,-0.012104605767477699,0.0,0.0,0.0,0.0,0.0775892483995831],[0.0,0.0,0.0,0.0,0.0,0.0,0.0,0.0,0.0,-0.0025659923039807867,0.0,0.048627398103487415,0.0,0.0,0.0,0.0,0.0,0.0,0.0,0.0,0.0,0.0,0.0,0.0,0.0,0.0,0.0,0.0,0.0,0.0,0.0,0.0],[0.0,0.0,0.0,0.0,0.0,-0.015013045442172709,0.0,0.0,0.0,0.0,0.0,0.0,0.0,0.0,-0.022089404355436187,0.0,0.0,0.0,0.0,0.0,0.0,0.0,0.0,0.0,0.0,0.0,0.0,0.0,0.01247382455527158,0.0,0.0415323263490804,0.0],[0.09770086689740856,0.0,0.0,0.018712057555303994,0.0,0.0,0.0,0.0,0.0,0.0,0.0,0.0,0.0,0.0,0.0,-0.00645998717052171,0.0,0.0,0.0,0.0,0.0,0.0,0.0037241759003439566,0.0,0.0,0.0,0.0,0.0,0.027450316118517462,0.0,0.0,0.0],[0.0,0.0,0.0,0.0,0.0,0.0,0.0,0.0,0.0,0.0,0.0,0.0,0.0,-0.057280883645922626,0.0,-0.03398648940142503,-0.050655201209036174,0.0,0.0,0.0,0.0,0.0,0.0,0.0,0.0,0.0,-0.02871295746513819,0.0,0.0,0.0,0.0,0.0],[0.0,0.0,0.0,0.0,0.0,0.0,0.0,0.0,0.0,0.0,0.0,0.0,0.0,0.0,-0.03832979839411999,0.0,0.0,0.0,0.0,0.0,0.0,0.0,0.0,0.0,0.0,0.0,-0.012693685679542861,0.0,0.0,0.0,0.0,0.0],[0.12588586900644844,0.0,0.0,0.0,0.0,0.0,0.0,0.0,0.0,0.0,0.0,0.0,0.0,0.0,0.0,0.0,0.0,0.0,0.0,0.0,0.0,0.0,0.0,0.0,0.0,0.0,0.0,0.0,0.0,0.0,0.1735571181638554,0.04351990858292355],[0.27168674289727096,0.0,0.0,0.0,0.0,0.0,0.0010292912459343012,0.0,0.0,0.0,0.0,0.0,0.0,0.0,0.0,0.0,0.0,0.0,0.0,0.0,0.0,0.0,0.0,0.0,0.0,0.0,0.0,0.0,0.0,0.049224687830191544,0.0,0.11056546115353884]],\"type\":\"heatmap\",\"xaxis\":\"x\",\"yaxis\":\"y\",\"hovertemplate\":\"x: %{x}<br>y: %{y}<br>color: %{z}<extra></extra>\"}],                        {\"template\":{\"data\":{\"histogram2dcontour\":[{\"type\":\"histogram2dcontour\",\"colorbar\":{\"outlinewidth\":0,\"ticks\":\"\"},\"colorscale\":[[0.0,\"#0d0887\"],[0.1111111111111111,\"#46039f\"],[0.2222222222222222,\"#7201a8\"],[0.3333333333333333,\"#9c179e\"],[0.4444444444444444,\"#bd3786\"],[0.5555555555555556,\"#d8576b\"],[0.6666666666666666,\"#ed7953\"],[0.7777777777777778,\"#fb9f3a\"],[0.8888888888888888,\"#fdca26\"],[1.0,\"#f0f921\"]]}],\"choropleth\":[{\"type\":\"choropleth\",\"colorbar\":{\"outlinewidth\":0,\"ticks\":\"\"}}],\"histogram2d\":[{\"type\":\"histogram2d\",\"colorbar\":{\"outlinewidth\":0,\"ticks\":\"\"},\"colorscale\":[[0.0,\"#0d0887\"],[0.1111111111111111,\"#46039f\"],[0.2222222222222222,\"#7201a8\"],[0.3333333333333333,\"#9c179e\"],[0.4444444444444444,\"#bd3786\"],[0.5555555555555556,\"#d8576b\"],[0.6666666666666666,\"#ed7953\"],[0.7777777777777778,\"#fb9f3a\"],[0.8888888888888888,\"#fdca26\"],[1.0,\"#f0f921\"]]}],\"heatmap\":[{\"type\":\"heatmap\",\"colorbar\":{\"outlinewidth\":0,\"ticks\":\"\"},\"colorscale\":[[0.0,\"#0d0887\"],[0.1111111111111111,\"#46039f\"],[0.2222222222222222,\"#7201a8\"],[0.3333333333333333,\"#9c179e\"],[0.4444444444444444,\"#bd3786\"],[0.5555555555555556,\"#d8576b\"],[0.6666666666666666,\"#ed7953\"],[0.7777777777777778,\"#fb9f3a\"],[0.8888888888888888,\"#fdca26\"],[1.0,\"#f0f921\"]]}],\"heatmapgl\":[{\"type\":\"heatmapgl\",\"colorbar\":{\"outlinewidth\":0,\"ticks\":\"\"},\"colorscale\":[[0.0,\"#0d0887\"],[0.1111111111111111,\"#46039f\"],[0.2222222222222222,\"#7201a8\"],[0.3333333333333333,\"#9c179e\"],[0.4444444444444444,\"#bd3786\"],[0.5555555555555556,\"#d8576b\"],[0.6666666666666666,\"#ed7953\"],[0.7777777777777778,\"#fb9f3a\"],[0.8888888888888888,\"#fdca26\"],[1.0,\"#f0f921\"]]}],\"contourcarpet\":[{\"type\":\"contourcarpet\",\"colorbar\":{\"outlinewidth\":0,\"ticks\":\"\"}}],\"contour\":[{\"type\":\"contour\",\"colorbar\":{\"outlinewidth\":0,\"ticks\":\"\"},\"colorscale\":[[0.0,\"#0d0887\"],[0.1111111111111111,\"#46039f\"],[0.2222222222222222,\"#7201a8\"],[0.3333333333333333,\"#9c179e\"],[0.4444444444444444,\"#bd3786\"],[0.5555555555555556,\"#d8576b\"],[0.6666666666666666,\"#ed7953\"],[0.7777777777777778,\"#fb9f3a\"],[0.8888888888888888,\"#fdca26\"],[1.0,\"#f0f921\"]]}],\"surface\":[{\"type\":\"surface\",\"colorbar\":{\"outlinewidth\":0,\"ticks\":\"\"},\"colorscale\":[[0.0,\"#0d0887\"],[0.1111111111111111,\"#46039f\"],[0.2222222222222222,\"#7201a8\"],[0.3333333333333333,\"#9c179e\"],[0.4444444444444444,\"#bd3786\"],[0.5555555555555556,\"#d8576b\"],[0.6666666666666666,\"#ed7953\"],[0.7777777777777778,\"#fb9f3a\"],[0.8888888888888888,\"#fdca26\"],[1.0,\"#f0f921\"]]}],\"mesh3d\":[{\"type\":\"mesh3d\",\"colorbar\":{\"outlinewidth\":0,\"ticks\":\"\"}}],\"scatter\":[{\"fillpattern\":{\"fillmode\":\"overlay\",\"size\":10,\"solidity\":0.2},\"type\":\"scatter\"}],\"parcoords\":[{\"type\":\"parcoords\",\"line\":{\"colorbar\":{\"outlinewidth\":0,\"ticks\":\"\"}}}],\"scatterpolargl\":[{\"type\":\"scatterpolargl\",\"marker\":{\"colorbar\":{\"outlinewidth\":0,\"ticks\":\"\"}}}],\"bar\":[{\"error_x\":{\"color\":\"#2a3f5f\"},\"error_y\":{\"color\":\"#2a3f5f\"},\"marker\":{\"line\":{\"color\":\"#E5ECF6\",\"width\":0.5},\"pattern\":{\"fillmode\":\"overlay\",\"size\":10,\"solidity\":0.2}},\"type\":\"bar\"}],\"scattergeo\":[{\"type\":\"scattergeo\",\"marker\":{\"colorbar\":{\"outlinewidth\":0,\"ticks\":\"\"}}}],\"scatterpolar\":[{\"type\":\"scatterpolar\",\"marker\":{\"colorbar\":{\"outlinewidth\":0,\"ticks\":\"\"}}}],\"histogram\":[{\"marker\":{\"pattern\":{\"fillmode\":\"overlay\",\"size\":10,\"solidity\":0.2}},\"type\":\"histogram\"}],\"scattergl\":[{\"type\":\"scattergl\",\"marker\":{\"colorbar\":{\"outlinewidth\":0,\"ticks\":\"\"}}}],\"scatter3d\":[{\"type\":\"scatter3d\",\"line\":{\"colorbar\":{\"outlinewidth\":0,\"ticks\":\"\"}},\"marker\":{\"colorbar\":{\"outlinewidth\":0,\"ticks\":\"\"}}}],\"scattermapbox\":[{\"type\":\"scattermapbox\",\"marker\":{\"colorbar\":{\"outlinewidth\":0,\"ticks\":\"\"}}}],\"scatterternary\":[{\"type\":\"scatterternary\",\"marker\":{\"colorbar\":{\"outlinewidth\":0,\"ticks\":\"\"}}}],\"scattercarpet\":[{\"type\":\"scattercarpet\",\"marker\":{\"colorbar\":{\"outlinewidth\":0,\"ticks\":\"\"}}}],\"carpet\":[{\"aaxis\":{\"endlinecolor\":\"#2a3f5f\",\"gridcolor\":\"white\",\"linecolor\":\"white\",\"minorgridcolor\":\"white\",\"startlinecolor\":\"#2a3f5f\"},\"baxis\":{\"endlinecolor\":\"#2a3f5f\",\"gridcolor\":\"white\",\"linecolor\":\"white\",\"minorgridcolor\":\"white\",\"startlinecolor\":\"#2a3f5f\"},\"type\":\"carpet\"}],\"table\":[{\"cells\":{\"fill\":{\"color\":\"#EBF0F8\"},\"line\":{\"color\":\"white\"}},\"header\":{\"fill\":{\"color\":\"#C8D4E3\"},\"line\":{\"color\":\"white\"}},\"type\":\"table\"}],\"barpolar\":[{\"marker\":{\"line\":{\"color\":\"#E5ECF6\",\"width\":0.5},\"pattern\":{\"fillmode\":\"overlay\",\"size\":10,\"solidity\":0.2}},\"type\":\"barpolar\"}],\"pie\":[{\"automargin\":true,\"type\":\"pie\"}]},\"layout\":{\"autotypenumbers\":\"strict\",\"colorway\":[\"#636efa\",\"#EF553B\",\"#00cc96\",\"#ab63fa\",\"#FFA15A\",\"#19d3f3\",\"#FF6692\",\"#B6E880\",\"#FF97FF\",\"#FECB52\"],\"font\":{\"color\":\"#2a3f5f\"},\"hovermode\":\"closest\",\"hoverlabel\":{\"align\":\"left\"},\"paper_bgcolor\":\"white\",\"plot_bgcolor\":\"#E5ECF6\",\"polar\":{\"bgcolor\":\"#E5ECF6\",\"angularaxis\":{\"gridcolor\":\"white\",\"linecolor\":\"white\",\"ticks\":\"\"},\"radialaxis\":{\"gridcolor\":\"white\",\"linecolor\":\"white\",\"ticks\":\"\"}},\"ternary\":{\"bgcolor\":\"#E5ECF6\",\"aaxis\":{\"gridcolor\":\"white\",\"linecolor\":\"white\",\"ticks\":\"\"},\"baxis\":{\"gridcolor\":\"white\",\"linecolor\":\"white\",\"ticks\":\"\"},\"caxis\":{\"gridcolor\":\"white\",\"linecolor\":\"white\",\"ticks\":\"\"}},\"coloraxis\":{\"colorbar\":{\"outlinewidth\":0,\"ticks\":\"\"}},\"colorscale\":{\"sequential\":[[0.0,\"#0d0887\"],[0.1111111111111111,\"#46039f\"],[0.2222222222222222,\"#7201a8\"],[0.3333333333333333,\"#9c179e\"],[0.4444444444444444,\"#bd3786\"],[0.5555555555555556,\"#d8576b\"],[0.6666666666666666,\"#ed7953\"],[0.7777777777777778,\"#fb9f3a\"],[0.8888888888888888,\"#fdca26\"],[1.0,\"#f0f921\"]],\"sequentialminus\":[[0.0,\"#0d0887\"],[0.1111111111111111,\"#46039f\"],[0.2222222222222222,\"#7201a8\"],[0.3333333333333333,\"#9c179e\"],[0.4444444444444444,\"#bd3786\"],[0.5555555555555556,\"#d8576b\"],[0.6666666666666666,\"#ed7953\"],[0.7777777777777778,\"#fb9f3a\"],[0.8888888888888888,\"#fdca26\"],[1.0,\"#f0f921\"]],\"diverging\":[[0,\"#8e0152\"],[0.1,\"#c51b7d\"],[0.2,\"#de77ae\"],[0.3,\"#f1b6da\"],[0.4,\"#fde0ef\"],[0.5,\"#f7f7f7\"],[0.6,\"#e6f5d0\"],[0.7,\"#b8e186\"],[0.8,\"#7fbc41\"],[0.9,\"#4d9221\"],[1,\"#276419\"]]},\"xaxis\":{\"gridcolor\":\"white\",\"linecolor\":\"white\",\"ticks\":\"\",\"title\":{\"standoff\":15},\"zerolinecolor\":\"white\",\"automargin\":true,\"zerolinewidth\":2},\"yaxis\":{\"gridcolor\":\"white\",\"linecolor\":\"white\",\"ticks\":\"\",\"title\":{\"standoff\":15},\"zerolinecolor\":\"white\",\"automargin\":true,\"zerolinewidth\":2},\"scene\":{\"xaxis\":{\"backgroundcolor\":\"#E5ECF6\",\"gridcolor\":\"white\",\"linecolor\":\"white\",\"showbackground\":true,\"ticks\":\"\",\"zerolinecolor\":\"white\",\"gridwidth\":2},\"yaxis\":{\"backgroundcolor\":\"#E5ECF6\",\"gridcolor\":\"white\",\"linecolor\":\"white\",\"showbackground\":true,\"ticks\":\"\",\"zerolinecolor\":\"white\",\"gridwidth\":2},\"zaxis\":{\"backgroundcolor\":\"#E5ECF6\",\"gridcolor\":\"white\",\"linecolor\":\"white\",\"showbackground\":true,\"ticks\":\"\",\"zerolinecolor\":\"white\",\"gridwidth\":2}},\"shapedefaults\":{\"line\":{\"color\":\"#2a3f5f\"}},\"annotationdefaults\":{\"arrowcolor\":\"#2a3f5f\",\"arrowhead\":0,\"arrowwidth\":1},\"geo\":{\"bgcolor\":\"white\",\"landcolor\":\"#E5ECF6\",\"subunitcolor\":\"white\",\"showland\":true,\"showlakes\":true,\"lakecolor\":\"white\"},\"title\":{\"x\":0.05},\"mapbox\":{\"style\":\"light\"}}},\"xaxis\":{\"anchor\":\"y\",\"domain\":[0.0,1.0],\"scaleanchor\":\"y\",\"constrain\":\"domain\",\"side\":\"top\"},\"yaxis\":{\"anchor\":\"x\",\"domain\":[0.0,1.0],\"autorange\":\"reversed\",\"constrain\":\"domain\"},\"coloraxis\":{\"colorscale\":[[0.0,\"#0d0887\"],[0.1111111111111111,\"#46039f\"],[0.2222222222222222,\"#7201a8\"],[0.3333333333333333,\"#9c179e\"],[0.4444444444444444,\"#bd3786\"],[0.5555555555555556,\"#d8576b\"],[0.6666666666666666,\"#ed7953\"],[0.7777777777777778,\"#fb9f3a\"],[0.8888888888888888,\"#fdca26\"],[1.0,\"#f0f921\"]]},\"margin\":{\"t\":60}},                        {\"responsive\": true}                    ).then(function(){\n",
       "                            \n",
       "var gd = document.getElementById('d23b7494-b84f-4eb4-85a1-de2ba923070b');\n",
       "var x = new MutationObserver(function (mutations, observer) {{\n",
       "        var display = window.getComputedStyle(gd).display;\n",
       "        if (!display || display === 'none') {{\n",
       "            console.log([gd, 'removed!']);\n",
       "            Plotly.purge(gd);\n",
       "            observer.disconnect();\n",
       "        }}\n",
       "}});\n",
       "\n",
       "// Listen for the removal of the full notebook cells\n",
       "var notebookContainer = gd.closest('#notebook-container');\n",
       "if (notebookContainer) {{\n",
       "    x.observe(notebookContainer, {childList: true});\n",
       "}}\n",
       "\n",
       "// Listen for the clearing of the current output cell\n",
       "var outputEl = gd.closest('.output');\n",
       "if (outputEl) {{\n",
       "    x.observe(outputEl, {childList: true});\n",
       "}}\n",
       "\n",
       "                        })                };                });            </script>        </div>"
      ]
     },
     "metadata": {},
     "output_type": "display_data"
    }
   ],
   "source": [
    "resultsl1_g = np.array(resultsl1_g)\n",
    "resultsl1_g = resultsl1_g.reshape([32,32])\n",
    "\n",
    "fig_g = px.imshow(resultsl1_g)\n",
    "fig_g.update_xaxes(side=\"top\")\n",
    "fig_g.show()"
   ]
  },
  {
   "cell_type": "code",
   "execution_count": 259,
   "id": "8131f231-418a-4489-8462-cc8abe9e1287",
   "metadata": {},
   "outputs": [
    {
     "data": {
      "application/vnd.plotly.v1+json": {
       "config": {
        "plotlyServerURL": "https://plot.ly"
       },
       "data": [
        {
         "coloraxis": "coloraxis",
         "hovertemplate": "x: %{x}<br>y: %{y}<br>color: %{z}<extra></extra>",
         "name": "0",
         "type": "heatmap",
         "xaxis": "x",
         "yaxis": "y",
         "z": [
          [
           0,
           0,
           0,
           0,
           0,
           0,
           0,
           0,
           0,
           0,
           0,
           0,
           0,
           0,
           0,
           0,
           0,
           0,
           0,
           0,
           0,
           0,
           0,
           0,
           0,
           0,
           0.012029265433144691,
           0,
           0,
           0,
           0,
           0
          ],
          [
           0,
           0,
           0,
           0,
           0,
           0,
           0,
           0,
           0,
           0,
           0,
           0,
           0,
           0,
           0,
           0,
           0,
           0,
           0,
           0,
           0,
           0,
           0,
           0,
           0,
           0,
           0,
           0,
           0,
           0,
           0,
           0
          ],
          [
           0,
           0,
           0,
           0,
           0,
           0,
           0,
           0,
           0,
           0,
           0,
           0,
           0,
           0,
           0,
           0,
           0,
           0,
           0,
           0,
           0,
           0,
           0,
           0,
           0,
           0,
           0,
           0,
           0,
           0,
           0.030646486786525068,
           0
          ],
          [
           0,
           0,
           0,
           0,
           0,
           0,
           0,
           0,
           0,
           0,
           0,
           0,
           0,
           0,
           0,
           0,
           0,
           0,
           0,
           0,
           0,
           0,
           0,
           0,
           0.049193738290522177,
           0,
           0,
           0.010572179212854171,
           0,
           0,
           0,
           0
          ],
          [
           0,
           0,
           0,
           0,
           0,
           0,
           0,
           0,
           0,
           0,
           0,
           0,
           0,
           0,
           0,
           0,
           0,
           0,
           0,
           0,
           0,
           0,
           0,
           0,
           0,
           0,
           0,
           0,
           0,
           0,
           0,
           0
          ],
          [
           0,
           0,
           0,
           0,
           0,
           0,
           0,
           0,
           0,
           0,
           0,
           0,
           0,
           0,
           0,
           0,
           0,
           0,
           0,
           0,
           0,
           0,
           0,
           0,
           0,
           0,
           0,
           0,
           0,
           0,
           0,
           0
          ],
          [
           0,
           0,
           0,
           0,
           0,
           0,
           0,
           0,
           0,
           0,
           0,
           0,
           0,
           0,
           0,
           0,
           0,
           0,
           -0.01673290961242234,
           0,
           0,
           0,
           -0.03680128721064877,
           0,
           0,
           0,
           0,
           0,
           0,
           0,
           0,
           0
          ],
          [
           0.037422547566192045,
           0,
           0,
           0,
           0,
           0,
           0,
           0,
           0,
           0,
           0,
           0,
           0,
           0,
           0,
           0,
           0,
           0,
           0,
           0,
           0,
           0,
           0,
           0,
           0,
           0,
           0,
           0,
           0,
           0,
           0,
           0
          ],
          [
           0,
           0,
           0,
           0,
           0,
           0,
           0,
           0,
           0,
           0,
           0,
           0,
           0,
           0,
           0,
           0,
           0,
           0,
           0,
           0,
           0,
           0,
           0,
           0,
           0,
           0,
           0,
           0,
           0,
           0,
           0,
           0
          ],
          [
           0,
           0,
           0,
           0,
           0,
           0,
           0,
           0,
           0,
           0,
           0,
           0,
           0,
           0,
           0,
           -0.00940586004324041,
           0,
           0,
           0,
           0,
           0,
           0,
           0,
           0,
           0,
           0,
           0.006255523792006954,
           0.006899292566650285,
           0,
           0,
           0.012855759111853637,
           0
          ],
          [
           0,
           0,
           0,
           0,
           0,
           0,
           0,
           0,
           0,
           0,
           0,
           0,
           0,
           0,
           0,
           0,
           0,
           0,
           0,
           0.07687971919947689,
           0.001697849529596286,
           0,
           0,
           0,
           0,
           0,
           0,
           0.01084063918392493,
           0,
           0,
           0,
           0
          ],
          [
           0,
           0,
           0,
           0,
           0,
           0,
           0,
           0,
           0,
           0,
           0,
           0,
           0,
           0,
           0,
           0,
           0,
           0,
           0,
           0,
           0,
           0,
           0,
           0,
           0,
           0,
           0,
           0,
           0,
           0,
           0,
           0
          ],
          [
           0.034921190757053244,
           0,
           0,
           0,
           0,
           0,
           0,
           0,
           0,
           0,
           0,
           0,
           0,
           0,
           0,
           0,
           0,
           0,
           0,
           0,
           0,
           0,
           0,
           0,
           0,
           0,
           0,
           0,
           0,
           0,
           0,
           0
          ],
          [
           0,
           0,
           0,
           0,
           0,
           0,
           0,
           0,
           0,
           0,
           0,
           0,
           0,
           0,
           0,
           0,
           0,
           0,
           0,
           0,
           0,
           0,
           0,
           0,
           0,
           0,
           0,
           0,
           0,
           0,
           0,
           0
          ],
          [
           0,
           0,
           0,
           0,
           0,
           0,
           0,
           0.008113712982583095,
           0,
           0.00976825374093838,
           0,
           0.01592423489336319,
           0,
           0,
           0,
           0,
           0,
           0,
           0,
           0,
           0.09446720421120565,
           0,
           0,
           0,
           0,
           0,
           0,
           0,
           0,
           0,
           0,
           0
          ],
          [
           0,
           0,
           0,
           0,
           0,
           0.00034141953218580327,
           0,
           0,
           0,
           0.07631707133126715,
           0,
           0,
           0,
           0.05436927875248943,
           0,
           0,
           0,
           0,
           0,
           0.020690133906451018,
           0,
           0,
           0,
           0,
           0,
           0,
           0,
           0,
           0,
           0,
           0,
           0
          ],
          [
           0,
           0.02089546180218961,
           0,
           0,
           0,
           0,
           0,
           0,
           0,
           0,
           0,
           0,
           0,
           0,
           0,
           0,
           0,
           0,
           0,
           0,
           0,
           -0.002330112278178589,
           0,
           0.01570255791253187,
           0.018584172211232153,
           0,
           0,
           0,
           0,
           0,
           0,
           0
          ],
          [
           0.04781087321257716,
           0,
           0,
           0.01252245059394521,
           0,
           0,
           0,
           0,
           0,
           0,
           0,
           0,
           0,
           0,
           0,
           0,
           0,
           0,
           0,
           0,
           0,
           0,
           0,
           0,
           0,
           0,
           0,
           0,
           0,
           0,
           0,
           0
          ],
          [
           0,
           0,
           0,
           0,
           0,
           0,
           0,
           0,
           0,
           0,
           0,
           0,
           0,
           0,
           0,
           0,
           0,
           0,
           0,
           0,
           0,
           0,
           0.011287769199305285,
           0.015893137321419032,
           0,
           0,
           0,
           0,
           0,
           0,
           0,
           0.021765373910398227
          ],
          [
           0,
           0,
           0,
           0,
           0,
           0,
           0,
           0,
           0,
           0,
           0,
           0,
           0,
           0,
           0,
           0,
           -0.005492315740232567,
           0,
           0,
           0,
           0,
           0,
           0,
           0,
           0,
           0,
           0.018187843772145294,
           0,
           0,
           0,
           0,
           0.05158627617855015
          ],
          [
           0,
           0,
           0,
           0,
           0,
           0,
           0,
           0,
           0,
           0,
           -0.0025694226699699,
           0,
           0,
           0,
           0,
           -0.031399277504774795,
           0,
           0,
           0,
           -0.021677422522289477,
           0,
           0,
           0,
           -0.004749432038685652,
           0,
           0,
           0,
           0,
           0,
           0,
           0,
           0
          ],
          [
           0,
           0,
           0,
           0,
           0,
           0,
           0,
           0,
           0,
           0,
           0,
           0,
           0,
           -0.017807399631050824,
           -0.011194639459263028,
           0,
           0,
           0,
           0,
           0,
           0,
           0,
           0,
           0,
           0,
           0,
           0.03210319804718205,
           0,
           0,
           0,
           0.01723043773886926,
           0
          ],
          [
           0.019071701642238627,
           0,
           0,
           0,
           0,
           0,
           0,
           0,
           0,
           0,
           0,
           0,
           0,
           0,
           0,
           -0.046314212671034,
           -0.017823889368738917,
           0,
           0,
           0,
           0,
           -0.056729701689779574,
           0,
           0,
           0,
           0,
           0,
           0,
           0,
           0,
           0,
           0
          ],
          [
           0,
           0,
           0,
           0.008776281634035057,
           0,
           0,
           0,
           0,
           0,
           0,
           0,
           0,
           0,
           0,
           0,
           0,
           -0.027156832027334682,
           0,
           0,
           0,
           0,
           0,
           0,
           0,
           0,
           0,
           0,
           0,
           0,
           0,
           0,
           0
          ],
          [
           0,
           0,
           0,
           0,
           0,
           0,
           0,
           0,
           0,
           0,
           0,
           0,
           0,
           0,
           0,
           0,
           -0.02886511145428467,
           -0.014858842369340574,
           0,
           0,
           0,
           0,
           -0.010074086321716207,
           0,
           0,
           0,
           0,
           0,
           0,
           0,
           0,
           0
          ],
          [
           0,
           0,
           0,
           0,
           0,
           0,
           0,
           0,
           0,
           -0.016767960837267906,
           0,
           0,
           0,
           0,
           0,
           0,
           0,
           0,
           0,
           0,
           0,
           0,
           0,
           0,
           0,
           0,
           0,
           0,
           0,
           0,
           0,
           0
          ],
          [
           0,
           0,
           0,
           0,
           0,
           0,
           0,
           0,
           0,
           0,
           0,
           0,
           0,
           0,
           0,
           0,
           0,
           0,
           0,
           0,
           0,
           0,
           0,
           0,
           0,
           0,
           0,
           0,
           0,
           0,
           0,
           0
          ],
          [
           0,
           0,
           0,
           0,
           0,
           0,
           0,
           0,
           0,
           0,
           0,
           0,
           0,
           0,
           0,
           0,
           0,
           0.008212406452701217,
           0,
           0,
           0,
           0,
           0,
           0,
           0,
           0,
           0,
           0,
           0,
           0,
           0,
           0
          ],
          [
           0,
           0,
           0,
           0,
           0,
           0,
           0,
           0,
           0,
           0,
           0,
           0,
           0,
           0,
           0,
           0,
           0,
           0,
           0,
           0,
           0,
           0,
           0,
           -0.04152124132662553,
           0,
           0,
           -0.006679130559963414,
           0,
           0,
           0,
           0,
           0
          ],
          [
           0,
           -0.011469743645597674,
           0,
           0,
           0,
           0,
           0,
           0,
           0,
           0,
           0,
           0,
           0,
           -0.009066924035053438,
           0,
           0,
           0,
           0,
           0,
           0,
           0,
           0,
           -0.014557827217617978,
           0,
           0,
           0,
           -0.03058923968997168,
           0,
           -0.045049468191449164,
           0,
           0,
           0
          ],
          [
           0,
           0,
           0,
           0,
           0,
           0,
           0,
           0,
           0,
           0,
           0,
           0,
           0,
           0,
           0,
           0,
           0,
           0,
           0,
           0,
           0,
           0,
           0,
           0,
           0,
           0,
           0,
           0,
           0,
           0,
           0,
           0
          ],
          [
           0,
           0,
           0,
           0,
           0,
           0,
           0,
           0,
           0,
           0,
           0,
           0,
           0,
           0,
           0,
           0,
           0,
           0,
           0,
           0.007963227491683147,
           0,
           0,
           0,
           0,
           0,
           0,
           0,
           0,
           0,
           0,
           0,
           0
          ]
         ]
        }
       ],
       "layout": {
        "autosize": true,
        "coloraxis": {
         "colorscale": [
          [
           0,
           "#0d0887"
          ],
          [
           0.1111111111111111,
           "#46039f"
          ],
          [
           0.2222222222222222,
           "#7201a8"
          ],
          [
           0.3333333333333333,
           "#9c179e"
          ],
          [
           0.4444444444444444,
           "#bd3786"
          ],
          [
           0.5555555555555556,
           "#d8576b"
          ],
          [
           0.6666666666666666,
           "#ed7953"
          ],
          [
           0.7777777777777778,
           "#fb9f3a"
          ],
          [
           0.8888888888888888,
           "#fdca26"
          ],
          [
           1,
           "#f0f921"
          ]
         ]
        },
        "margin": {
         "t": 60
        },
        "template": {
         "data": {
          "bar": [
           {
            "error_x": {
             "color": "#2a3f5f"
            },
            "error_y": {
             "color": "#2a3f5f"
            },
            "marker": {
             "line": {
              "color": "#E5ECF6",
              "width": 0.5
             },
             "pattern": {
              "fillmode": "overlay",
              "size": 10,
              "solidity": 0.2
             }
            },
            "type": "bar"
           }
          ],
          "barpolar": [
           {
            "marker": {
             "line": {
              "color": "#E5ECF6",
              "width": 0.5
             },
             "pattern": {
              "fillmode": "overlay",
              "size": 10,
              "solidity": 0.2
             }
            },
            "type": "barpolar"
           }
          ],
          "carpet": [
           {
            "aaxis": {
             "endlinecolor": "#2a3f5f",
             "gridcolor": "white",
             "linecolor": "white",
             "minorgridcolor": "white",
             "startlinecolor": "#2a3f5f"
            },
            "baxis": {
             "endlinecolor": "#2a3f5f",
             "gridcolor": "white",
             "linecolor": "white",
             "minorgridcolor": "white",
             "startlinecolor": "#2a3f5f"
            },
            "type": "carpet"
           }
          ],
          "choropleth": [
           {
            "colorbar": {
             "outlinewidth": 0,
             "ticks": ""
            },
            "type": "choropleth"
           }
          ],
          "contour": [
           {
            "colorbar": {
             "outlinewidth": 0,
             "ticks": ""
            },
            "colorscale": [
             [
              0,
              "#0d0887"
             ],
             [
              0.1111111111111111,
              "#46039f"
             ],
             [
              0.2222222222222222,
              "#7201a8"
             ],
             [
              0.3333333333333333,
              "#9c179e"
             ],
             [
              0.4444444444444444,
              "#bd3786"
             ],
             [
              0.5555555555555556,
              "#d8576b"
             ],
             [
              0.6666666666666666,
              "#ed7953"
             ],
             [
              0.7777777777777778,
              "#fb9f3a"
             ],
             [
              0.8888888888888888,
              "#fdca26"
             ],
             [
              1,
              "#f0f921"
             ]
            ],
            "type": "contour"
           }
          ],
          "contourcarpet": [
           {
            "colorbar": {
             "outlinewidth": 0,
             "ticks": ""
            },
            "type": "contourcarpet"
           }
          ],
          "heatmap": [
           {
            "colorbar": {
             "outlinewidth": 0,
             "ticks": ""
            },
            "colorscale": [
             [
              0,
              "#0d0887"
             ],
             [
              0.1111111111111111,
              "#46039f"
             ],
             [
              0.2222222222222222,
              "#7201a8"
             ],
             [
              0.3333333333333333,
              "#9c179e"
             ],
             [
              0.4444444444444444,
              "#bd3786"
             ],
             [
              0.5555555555555556,
              "#d8576b"
             ],
             [
              0.6666666666666666,
              "#ed7953"
             ],
             [
              0.7777777777777778,
              "#fb9f3a"
             ],
             [
              0.8888888888888888,
              "#fdca26"
             ],
             [
              1,
              "#f0f921"
             ]
            ],
            "type": "heatmap"
           }
          ],
          "heatmapgl": [
           {
            "colorbar": {
             "outlinewidth": 0,
             "ticks": ""
            },
            "colorscale": [
             [
              0,
              "#0d0887"
             ],
             [
              0.1111111111111111,
              "#46039f"
             ],
             [
              0.2222222222222222,
              "#7201a8"
             ],
             [
              0.3333333333333333,
              "#9c179e"
             ],
             [
              0.4444444444444444,
              "#bd3786"
             ],
             [
              0.5555555555555556,
              "#d8576b"
             ],
             [
              0.6666666666666666,
              "#ed7953"
             ],
             [
              0.7777777777777778,
              "#fb9f3a"
             ],
             [
              0.8888888888888888,
              "#fdca26"
             ],
             [
              1,
              "#f0f921"
             ]
            ],
            "type": "heatmapgl"
           }
          ],
          "histogram": [
           {
            "marker": {
             "pattern": {
              "fillmode": "overlay",
              "size": 10,
              "solidity": 0.2
             }
            },
            "type": "histogram"
           }
          ],
          "histogram2d": [
           {
            "colorbar": {
             "outlinewidth": 0,
             "ticks": ""
            },
            "colorscale": [
             [
              0,
              "#0d0887"
             ],
             [
              0.1111111111111111,
              "#46039f"
             ],
             [
              0.2222222222222222,
              "#7201a8"
             ],
             [
              0.3333333333333333,
              "#9c179e"
             ],
             [
              0.4444444444444444,
              "#bd3786"
             ],
             [
              0.5555555555555556,
              "#d8576b"
             ],
             [
              0.6666666666666666,
              "#ed7953"
             ],
             [
              0.7777777777777778,
              "#fb9f3a"
             ],
             [
              0.8888888888888888,
              "#fdca26"
             ],
             [
              1,
              "#f0f921"
             ]
            ],
            "type": "histogram2d"
           }
          ],
          "histogram2dcontour": [
           {
            "colorbar": {
             "outlinewidth": 0,
             "ticks": ""
            },
            "colorscale": [
             [
              0,
              "#0d0887"
             ],
             [
              0.1111111111111111,
              "#46039f"
             ],
             [
              0.2222222222222222,
              "#7201a8"
             ],
             [
              0.3333333333333333,
              "#9c179e"
             ],
             [
              0.4444444444444444,
              "#bd3786"
             ],
             [
              0.5555555555555556,
              "#d8576b"
             ],
             [
              0.6666666666666666,
              "#ed7953"
             ],
             [
              0.7777777777777778,
              "#fb9f3a"
             ],
             [
              0.8888888888888888,
              "#fdca26"
             ],
             [
              1,
              "#f0f921"
             ]
            ],
            "type": "histogram2dcontour"
           }
          ],
          "mesh3d": [
           {
            "colorbar": {
             "outlinewidth": 0,
             "ticks": ""
            },
            "type": "mesh3d"
           }
          ],
          "parcoords": [
           {
            "line": {
             "colorbar": {
              "outlinewidth": 0,
              "ticks": ""
             }
            },
            "type": "parcoords"
           }
          ],
          "pie": [
           {
            "automargin": true,
            "type": "pie"
           }
          ],
          "scatter": [
           {
            "fillpattern": {
             "fillmode": "overlay",
             "size": 10,
             "solidity": 0.2
            },
            "type": "scatter"
           }
          ],
          "scatter3d": [
           {
            "line": {
             "colorbar": {
              "outlinewidth": 0,
              "ticks": ""
             }
            },
            "marker": {
             "colorbar": {
              "outlinewidth": 0,
              "ticks": ""
             }
            },
            "type": "scatter3d"
           }
          ],
          "scattercarpet": [
           {
            "marker": {
             "colorbar": {
              "outlinewidth": 0,
              "ticks": ""
             }
            },
            "type": "scattercarpet"
           }
          ],
          "scattergeo": [
           {
            "marker": {
             "colorbar": {
              "outlinewidth": 0,
              "ticks": ""
             }
            },
            "type": "scattergeo"
           }
          ],
          "scattergl": [
           {
            "marker": {
             "colorbar": {
              "outlinewidth": 0,
              "ticks": ""
             }
            },
            "type": "scattergl"
           }
          ],
          "scattermapbox": [
           {
            "marker": {
             "colorbar": {
              "outlinewidth": 0,
              "ticks": ""
             }
            },
            "type": "scattermapbox"
           }
          ],
          "scatterpolar": [
           {
            "marker": {
             "colorbar": {
              "outlinewidth": 0,
              "ticks": ""
             }
            },
            "type": "scatterpolar"
           }
          ],
          "scatterpolargl": [
           {
            "marker": {
             "colorbar": {
              "outlinewidth": 0,
              "ticks": ""
             }
            },
            "type": "scatterpolargl"
           }
          ],
          "scatterternary": [
           {
            "marker": {
             "colorbar": {
              "outlinewidth": 0,
              "ticks": ""
             }
            },
            "type": "scatterternary"
           }
          ],
          "surface": [
           {
            "colorbar": {
             "outlinewidth": 0,
             "ticks": ""
            },
            "colorscale": [
             [
              0,
              "#0d0887"
             ],
             [
              0.1111111111111111,
              "#46039f"
             ],
             [
              0.2222222222222222,
              "#7201a8"
             ],
             [
              0.3333333333333333,
              "#9c179e"
             ],
             [
              0.4444444444444444,
              "#bd3786"
             ],
             [
              0.5555555555555556,
              "#d8576b"
             ],
             [
              0.6666666666666666,
              "#ed7953"
             ],
             [
              0.7777777777777778,
              "#fb9f3a"
             ],
             [
              0.8888888888888888,
              "#fdca26"
             ],
             [
              1,
              "#f0f921"
             ]
            ],
            "type": "surface"
           }
          ],
          "table": [
           {
            "cells": {
             "fill": {
              "color": "#EBF0F8"
             },
             "line": {
              "color": "white"
             }
            },
            "header": {
             "fill": {
              "color": "#C8D4E3"
             },
             "line": {
              "color": "white"
             }
            },
            "type": "table"
           }
          ]
         },
         "layout": {
          "annotationdefaults": {
           "arrowcolor": "#2a3f5f",
           "arrowhead": 0,
           "arrowwidth": 1
          },
          "autotypenumbers": "strict",
          "coloraxis": {
           "colorbar": {
            "outlinewidth": 0,
            "ticks": ""
           }
          },
          "colorscale": {
           "diverging": [
            [
             0,
             "#8e0152"
            ],
            [
             0.1,
             "#c51b7d"
            ],
            [
             0.2,
             "#de77ae"
            ],
            [
             0.3,
             "#f1b6da"
            ],
            [
             0.4,
             "#fde0ef"
            ],
            [
             0.5,
             "#f7f7f7"
            ],
            [
             0.6,
             "#e6f5d0"
            ],
            [
             0.7,
             "#b8e186"
            ],
            [
             0.8,
             "#7fbc41"
            ],
            [
             0.9,
             "#4d9221"
            ],
            [
             1,
             "#276419"
            ]
           ],
           "sequential": [
            [
             0,
             "#0d0887"
            ],
            [
             0.1111111111111111,
             "#46039f"
            ],
            [
             0.2222222222222222,
             "#7201a8"
            ],
            [
             0.3333333333333333,
             "#9c179e"
            ],
            [
             0.4444444444444444,
             "#bd3786"
            ],
            [
             0.5555555555555556,
             "#d8576b"
            ],
            [
             0.6666666666666666,
             "#ed7953"
            ],
            [
             0.7777777777777778,
             "#fb9f3a"
            ],
            [
             0.8888888888888888,
             "#fdca26"
            ],
            [
             1,
             "#f0f921"
            ]
           ],
           "sequentialminus": [
            [
             0,
             "#0d0887"
            ],
            [
             0.1111111111111111,
             "#46039f"
            ],
            [
             0.2222222222222222,
             "#7201a8"
            ],
            [
             0.3333333333333333,
             "#9c179e"
            ],
            [
             0.4444444444444444,
             "#bd3786"
            ],
            [
             0.5555555555555556,
             "#d8576b"
            ],
            [
             0.6666666666666666,
             "#ed7953"
            ],
            [
             0.7777777777777778,
             "#fb9f3a"
            ],
            [
             0.8888888888888888,
             "#fdca26"
            ],
            [
             1,
             "#f0f921"
            ]
           ]
          },
          "colorway": [
           "#636efa",
           "#EF553B",
           "#00cc96",
           "#ab63fa",
           "#FFA15A",
           "#19d3f3",
           "#FF6692",
           "#B6E880",
           "#FF97FF",
           "#FECB52"
          ],
          "font": {
           "color": "#2a3f5f"
          },
          "geo": {
           "bgcolor": "white",
           "lakecolor": "white",
           "landcolor": "#E5ECF6",
           "showlakes": true,
           "showland": true,
           "subunitcolor": "white"
          },
          "hoverlabel": {
           "align": "left"
          },
          "hovermode": "closest",
          "mapbox": {
           "style": "light"
          },
          "paper_bgcolor": "white",
          "plot_bgcolor": "#E5ECF6",
          "polar": {
           "angularaxis": {
            "gridcolor": "white",
            "linecolor": "white",
            "ticks": ""
           },
           "bgcolor": "#E5ECF6",
           "radialaxis": {
            "gridcolor": "white",
            "linecolor": "white",
            "ticks": ""
           }
          },
          "scene": {
           "xaxis": {
            "backgroundcolor": "#E5ECF6",
            "gridcolor": "white",
            "gridwidth": 2,
            "linecolor": "white",
            "showbackground": true,
            "ticks": "",
            "zerolinecolor": "white"
           },
           "yaxis": {
            "backgroundcolor": "#E5ECF6",
            "gridcolor": "white",
            "gridwidth": 2,
            "linecolor": "white",
            "showbackground": true,
            "ticks": "",
            "zerolinecolor": "white"
           },
           "zaxis": {
            "backgroundcolor": "#E5ECF6",
            "gridcolor": "white",
            "gridwidth": 2,
            "linecolor": "white",
            "showbackground": true,
            "ticks": "",
            "zerolinecolor": "white"
           }
          },
          "shapedefaults": {
           "line": {
            "color": "#2a3f5f"
           }
          },
          "ternary": {
           "aaxis": {
            "gridcolor": "white",
            "linecolor": "white",
            "ticks": ""
           },
           "baxis": {
            "gridcolor": "white",
            "linecolor": "white",
            "ticks": ""
           },
           "bgcolor": "#E5ECF6",
           "caxis": {
            "gridcolor": "white",
            "linecolor": "white",
            "ticks": ""
           }
          },
          "title": {
           "x": 0.05
          },
          "xaxis": {
           "automargin": true,
           "gridcolor": "white",
           "linecolor": "white",
           "ticks": "",
           "title": {
            "standoff": 15
           },
           "zerolinecolor": "white",
           "zerolinewidth": 2
          },
          "yaxis": {
           "automargin": true,
           "gridcolor": "white",
           "linecolor": "white",
           "ticks": "",
           "title": {
            "standoff": 15
           },
           "zerolinecolor": "white",
           "zerolinewidth": 2
          }
         }
        },
        "xaxis": {
         "anchor": "y",
         "autorange": true,
         "constrain": "domain",
         "domain": [
          0.3653610771113831,
          0.6346389228886169
         ],
         "range": [
          -0.5,
          31.5
         ],
         "scaleanchor": "y",
         "side": "top"
        },
        "yaxis": {
         "anchor": "x",
         "autorange": true,
         "constrain": "domain",
         "domain": [
          0,
          1
         ],
         "range": [
          31.5,
          -0.5
         ]
        }
       }
      },
      "image/png": "[encoded data removed]",
      "text/html": [
       "<div>                            <div id=\"d4fb25ff-82db-4ebb-a256-36d6750edec2\" class=\"plotly-graph-div\" style=\"height:525px; width:100%;\"></div>            <script type=\"text/javascript\">                require([\"plotly\"], function(Plotly) {                    window.PLOTLYENV=window.PLOTLYENV || {};                                    if (document.getElementById(\"d4fb25ff-82db-4ebb-a256-36d6750edec2\")) {                    Plotly.newPlot(                        \"d4fb25ff-82db-4ebb-a256-36d6750edec2\",                        [{\"coloraxis\":\"coloraxis\",\"name\":\"0\",\"z\":[[0.0,0.0,0.0,0.0,0.0,0.0,0.0,0.0,0.0,0.0,0.0,0.0,0.0,0.0,0.0,0.0,0.0,0.0,0.0,0.0,0.0,0.0,0.0,0.0,0.0,0.0,0.012029265433144691,0.0,0.0,0.0,0.0,0.0],[0.0,0.0,0.0,0.0,0.0,0.0,0.0,0.0,0.0,0.0,0.0,0.0,0.0,0.0,0.0,0.0,0.0,0.0,0.0,0.0,0.0,0.0,0.0,0.0,0.0,0.0,0.0,0.0,0.0,0.0,0.0,0.0],[0.0,0.0,0.0,0.0,0.0,0.0,0.0,0.0,0.0,0.0,0.0,0.0,0.0,0.0,0.0,0.0,0.0,0.0,0.0,0.0,0.0,0.0,0.0,0.0,0.0,0.0,0.0,0.0,0.0,0.0,0.030646486786525068,0.0],[0.0,0.0,0.0,0.0,0.0,0.0,0.0,0.0,0.0,0.0,0.0,0.0,0.0,0.0,0.0,0.0,0.0,0.0,0.0,0.0,0.0,0.0,0.0,0.0,0.049193738290522177,0.0,0.0,0.010572179212854171,0.0,0.0,0.0,0.0],[0.0,0.0,0.0,0.0,0.0,0.0,0.0,0.0,0.0,0.0,0.0,0.0,0.0,0.0,0.0,0.0,0.0,0.0,0.0,0.0,0.0,0.0,0.0,0.0,0.0,0.0,0.0,0.0,0.0,0.0,0.0,0.0],[0.0,0.0,0.0,0.0,0.0,0.0,0.0,0.0,0.0,0.0,0.0,0.0,0.0,0.0,0.0,0.0,0.0,0.0,0.0,0.0,0.0,0.0,0.0,0.0,0.0,0.0,0.0,0.0,0.0,0.0,0.0,0.0],[0.0,0.0,0.0,0.0,0.0,0.0,0.0,0.0,0.0,0.0,0.0,0.0,0.0,0.0,0.0,0.0,0.0,0.0,-0.01673290961242234,0.0,0.0,0.0,-0.03680128721064877,0.0,0.0,0.0,0.0,0.0,0.0,0.0,0.0,0.0],[0.037422547566192045,0.0,0.0,0.0,0.0,0.0,0.0,0.0,0.0,0.0,0.0,0.0,0.0,0.0,0.0,0.0,0.0,0.0,0.0,0.0,0.0,0.0,0.0,0.0,0.0,0.0,0.0,0.0,0.0,0.0,0.0,0.0],[0.0,0.0,0.0,0.0,0.0,0.0,0.0,0.0,0.0,0.0,0.0,0.0,0.0,0.0,0.0,0.0,0.0,0.0,0.0,0.0,0.0,0.0,0.0,0.0,0.0,0.0,0.0,0.0,0.0,0.0,0.0,0.0],[0.0,0.0,0.0,0.0,0.0,0.0,0.0,0.0,0.0,0.0,0.0,0.0,0.0,0.0,0.0,-0.00940586004324041,0.0,0.0,0.0,0.0,0.0,0.0,0.0,0.0,0.0,0.0,0.006255523792006954,0.006899292566650285,0.0,0.0,0.012855759111853637,0.0],[0.0,0.0,0.0,0.0,0.0,0.0,0.0,0.0,0.0,0.0,0.0,0.0,0.0,0.0,0.0,0.0,0.0,0.0,0.0,0.07687971919947689,0.001697849529596286,0.0,0.0,0.0,0.0,0.0,0.0,0.01084063918392493,0.0,0.0,0.0,0.0],[0.0,0.0,0.0,0.0,0.0,0.0,0.0,0.0,0.0,0.0,0.0,0.0,0.0,0.0,0.0,0.0,0.0,0.0,0.0,0.0,0.0,0.0,0.0,0.0,0.0,0.0,0.0,0.0,0.0,0.0,0.0,0.0],[0.034921190757053244,0.0,0.0,0.0,0.0,0.0,0.0,0.0,0.0,0.0,0.0,0.0,0.0,0.0,0.0,0.0,0.0,0.0,0.0,0.0,0.0,0.0,0.0,0.0,0.0,0.0,0.0,0.0,0.0,0.0,0.0,0.0],[0.0,0.0,0.0,0.0,0.0,0.0,0.0,0.0,0.0,0.0,0.0,0.0,0.0,0.0,0.0,0.0,0.0,0.0,0.0,0.0,0.0,0.0,0.0,0.0,0.0,0.0,0.0,0.0,0.0,0.0,0.0,0.0],[0.0,0.0,0.0,0.0,0.0,0.0,0.0,0.008113712982583095,0.0,0.00976825374093838,0.0,0.01592423489336319,0.0,0.0,0.0,0.0,0.0,0.0,0.0,0.0,0.09446720421120565,0.0,0.0,0.0,0.0,0.0,0.0,0.0,0.0,0.0,0.0,0.0],[0.0,0.0,0.0,0.0,0.0,0.00034141953218580327,0.0,0.0,0.0,0.07631707133126715,0.0,0.0,0.0,0.05436927875248943,0.0,0.0,0.0,0.0,0.0,0.020690133906451018,0.0,0.0,0.0,0.0,0.0,0.0,0.0,0.0,0.0,0.0,0.0,0.0],[0.0,0.02089546180218961,0.0,0.0,0.0,0.0,0.0,0.0,0.0,0.0,0.0,0.0,0.0,0.0,0.0,0.0,0.0,0.0,0.0,0.0,0.0,-0.002330112278178589,0.0,0.01570255791253187,0.018584172211232153,0.0,0.0,0.0,0.0,0.0,0.0,0.0],[0.04781087321257716,0.0,0.0,0.01252245059394521,0.0,0.0,0.0,0.0,0.0,0.0,0.0,0.0,0.0,0.0,0.0,0.0,0.0,0.0,0.0,0.0,0.0,0.0,0.0,0.0,0.0,0.0,0.0,0.0,0.0,0.0,0.0,0.0],[0.0,0.0,0.0,0.0,0.0,0.0,0.0,0.0,0.0,0.0,0.0,0.0,0.0,0.0,0.0,0.0,0.0,0.0,0.0,0.0,0.0,0.0,0.011287769199305285,0.015893137321419032,0.0,0.0,0.0,0.0,0.0,0.0,0.0,0.021765373910398227],[0.0,0.0,0.0,0.0,0.0,0.0,0.0,0.0,0.0,0.0,0.0,0.0,0.0,0.0,0.0,0.0,-0.005492315740232567,0.0,0.0,0.0,0.0,0.0,0.0,0.0,0.0,0.0,0.018187843772145294,0.0,0.0,0.0,0.0,0.05158627617855015],[0.0,0.0,0.0,0.0,0.0,0.0,0.0,0.0,0.0,0.0,-0.0025694226699699,0.0,0.0,0.0,0.0,-0.031399277504774795,0.0,0.0,0.0,-0.021677422522289477,0.0,0.0,0.0,-0.004749432038685652,0.0,0.0,0.0,0.0,0.0,0.0,0.0,0.0],[0.0,0.0,0.0,0.0,0.0,0.0,0.0,0.0,0.0,0.0,0.0,0.0,0.0,-0.017807399631050824,-0.011194639459263028,0.0,0.0,0.0,0.0,0.0,0.0,0.0,0.0,0.0,0.0,0.0,0.03210319804718205,0.0,0.0,0.0,0.01723043773886926,0.0],[0.019071701642238627,0.0,0.0,0.0,0.0,0.0,0.0,0.0,0.0,0.0,0.0,0.0,0.0,0.0,0.0,-0.046314212671034,-0.017823889368738917,0.0,0.0,0.0,0.0,-0.056729701689779574,0.0,0.0,0.0,0.0,0.0,0.0,0.0,0.0,0.0,0.0],[0.0,0.0,0.0,0.008776281634035057,0.0,0.0,0.0,0.0,0.0,0.0,0.0,0.0,0.0,0.0,0.0,0.0,-0.027156832027334682,0.0,0.0,0.0,0.0,0.0,0.0,0.0,0.0,0.0,0.0,0.0,0.0,0.0,0.0,0.0],[0.0,0.0,0.0,0.0,0.0,0.0,0.0,0.0,0.0,0.0,0.0,0.0,0.0,0.0,0.0,0.0,-0.02886511145428467,-0.014858842369340574,0.0,0.0,0.0,0.0,-0.010074086321716207,0.0,0.0,0.0,0.0,0.0,0.0,0.0,0.0,0.0],[0.0,0.0,0.0,0.0,0.0,0.0,0.0,0.0,0.0,-0.016767960837267906,0.0,0.0,0.0,0.0,0.0,0.0,0.0,0.0,0.0,0.0,0.0,0.0,0.0,0.0,0.0,0.0,0.0,0.0,0.0,0.0,0.0,0.0],[0.0,0.0,0.0,0.0,0.0,0.0,0.0,0.0,0.0,0.0,0.0,0.0,0.0,0.0,0.0,0.0,0.0,0.0,0.0,0.0,0.0,0.0,0.0,0.0,0.0,0.0,0.0,0.0,0.0,0.0,0.0,0.0],[0.0,0.0,0.0,0.0,0.0,0.0,0.0,0.0,0.0,0.0,0.0,0.0,0.0,0.0,0.0,0.0,0.0,0.008212406452701217,0.0,0.0,0.0,0.0,0.0,0.0,0.0,0.0,0.0,0.0,0.0,0.0,0.0,0.0],[0.0,0.0,0.0,0.0,0.0,0.0,0.0,0.0,0.0,0.0,0.0,0.0,0.0,0.0,0.0,0.0,0.0,0.0,0.0,0.0,0.0,0.0,0.0,-0.04152124132662553,0.0,0.0,-0.006679130559963414,0.0,0.0,0.0,0.0,0.0],[0.0,-0.011469743645597674,0.0,0.0,0.0,0.0,0.0,0.0,0.0,0.0,0.0,0.0,0.0,-0.009066924035053438,0.0,0.0,0.0,0.0,0.0,0.0,0.0,0.0,-0.014557827217617978,0.0,0.0,0.0,-0.03058923968997168,0.0,-0.045049468191449164,0.0,0.0,0.0],[0.0,0.0,0.0,0.0,0.0,0.0,0.0,0.0,0.0,0.0,0.0,0.0,0.0,0.0,0.0,0.0,0.0,0.0,0.0,0.0,0.0,0.0,0.0,0.0,0.0,0.0,0.0,0.0,0.0,0.0,0.0,0.0],[0.0,0.0,0.0,0.0,0.0,0.0,0.0,0.0,0.0,0.0,0.0,0.0,0.0,0.0,0.0,0.0,0.0,0.0,0.0,0.007963227491683147,0.0,0.0,0.0,0.0,0.0,0.0,0.0,0.0,0.0,0.0,0.0,0.0]],\"type\":\"heatmap\",\"xaxis\":\"x\",\"yaxis\":\"y\",\"hovertemplate\":\"x: %{x}<br>y: %{y}<br>color: %{z}<extra></extra>\"}],                        {\"template\":{\"data\":{\"histogram2dcontour\":[{\"type\":\"histogram2dcontour\",\"colorbar\":{\"outlinewidth\":0,\"ticks\":\"\"},\"colorscale\":[[0.0,\"#0d0887\"],[0.1111111111111111,\"#46039f\"],[0.2222222222222222,\"#7201a8\"],[0.3333333333333333,\"#9c179e\"],[0.4444444444444444,\"#bd3786\"],[0.5555555555555556,\"#d8576b\"],[0.6666666666666666,\"#ed7953\"],[0.7777777777777778,\"#fb9f3a\"],[0.8888888888888888,\"#fdca26\"],[1.0,\"#f0f921\"]]}],\"choropleth\":[{\"type\":\"choropleth\",\"colorbar\":{\"outlinewidth\":0,\"ticks\":\"\"}}],\"histogram2d\":[{\"type\":\"histogram2d\",\"colorbar\":{\"outlinewidth\":0,\"ticks\":\"\"},\"colorscale\":[[0.0,\"#0d0887\"],[0.1111111111111111,\"#46039f\"],[0.2222222222222222,\"#7201a8\"],[0.3333333333333333,\"#9c179e\"],[0.4444444444444444,\"#bd3786\"],[0.5555555555555556,\"#d8576b\"],[0.6666666666666666,\"#ed7953\"],[0.7777777777777778,\"#fb9f3a\"],[0.8888888888888888,\"#fdca26\"],[1.0,\"#f0f921\"]]}],\"heatmap\":[{\"type\":\"heatmap\",\"colorbar\":{\"outlinewidth\":0,\"ticks\":\"\"},\"colorscale\":[[0.0,\"#0d0887\"],[0.1111111111111111,\"#46039f\"],[0.2222222222222222,\"#7201a8\"],[0.3333333333333333,\"#9c179e\"],[0.4444444444444444,\"#bd3786\"],[0.5555555555555556,\"#d8576b\"],[0.6666666666666666,\"#ed7953\"],[0.7777777777777778,\"#fb9f3a\"],[0.8888888888888888,\"#fdca26\"],[1.0,\"#f0f921\"]]}],\"heatmapgl\":[{\"type\":\"heatmapgl\",\"colorbar\":{\"outlinewidth\":0,\"ticks\":\"\"},\"colorscale\":[[0.0,\"#0d0887\"],[0.1111111111111111,\"#46039f\"],[0.2222222222222222,\"#7201a8\"],[0.3333333333333333,\"#9c179e\"],[0.4444444444444444,\"#bd3786\"],[0.5555555555555556,\"#d8576b\"],[0.6666666666666666,\"#ed7953\"],[0.7777777777777778,\"#fb9f3a\"],[0.8888888888888888,\"#fdca26\"],[1.0,\"#f0f921\"]]}],\"contourcarpet\":[{\"type\":\"contourcarpet\",\"colorbar\":{\"outlinewidth\":0,\"ticks\":\"\"}}],\"contour\":[{\"type\":\"contour\",\"colorbar\":{\"outlinewidth\":0,\"ticks\":\"\"},\"colorscale\":[[0.0,\"#0d0887\"],[0.1111111111111111,\"#46039f\"],[0.2222222222222222,\"#7201a8\"],[0.3333333333333333,\"#9c179e\"],[0.4444444444444444,\"#bd3786\"],[0.5555555555555556,\"#d8576b\"],[0.6666666666666666,\"#ed7953\"],[0.7777777777777778,\"#fb9f3a\"],[0.8888888888888888,\"#fdca26\"],[1.0,\"#f0f921\"]]}],\"surface\":[{\"type\":\"surface\",\"colorbar\":{\"outlinewidth\":0,\"ticks\":\"\"},\"colorscale\":[[0.0,\"#0d0887\"],[0.1111111111111111,\"#46039f\"],[0.2222222222222222,\"#7201a8\"],[0.3333333333333333,\"#9c179e\"],[0.4444444444444444,\"#bd3786\"],[0.5555555555555556,\"#d8576b\"],[0.6666666666666666,\"#ed7953\"],[0.7777777777777778,\"#fb9f3a\"],[0.8888888888888888,\"#fdca26\"],[1.0,\"#f0f921\"]]}],\"mesh3d\":[{\"type\":\"mesh3d\",\"colorbar\":{\"outlinewidth\":0,\"ticks\":\"\"}}],\"scatter\":[{\"fillpattern\":{\"fillmode\":\"overlay\",\"size\":10,\"solidity\":0.2},\"type\":\"scatter\"}],\"parcoords\":[{\"type\":\"parcoords\",\"line\":{\"colorbar\":{\"outlinewidth\":0,\"ticks\":\"\"}}}],\"scatterpolargl\":[{\"type\":\"scatterpolargl\",\"marker\":{\"colorbar\":{\"outlinewidth\":0,\"ticks\":\"\"}}}],\"bar\":[{\"error_x\":{\"color\":\"#2a3f5f\"},\"error_y\":{\"color\":\"#2a3f5f\"},\"marker\":{\"line\":{\"color\":\"#E5ECF6\",\"width\":0.5},\"pattern\":{\"fillmode\":\"overlay\",\"size\":10,\"solidity\":0.2}},\"type\":\"bar\"}],\"scattergeo\":[{\"type\":\"scattergeo\",\"marker\":{\"colorbar\":{\"outlinewidth\":0,\"ticks\":\"\"}}}],\"scatterpolar\":[{\"type\":\"scatterpolar\",\"marker\":{\"colorbar\":{\"outlinewidth\":0,\"ticks\":\"\"}}}],\"histogram\":[{\"marker\":{\"pattern\":{\"fillmode\":\"overlay\",\"size\":10,\"solidity\":0.2}},\"type\":\"histogram\"}],\"scattergl\":[{\"type\":\"scattergl\",\"marker\":{\"colorbar\":{\"outlinewidth\":0,\"ticks\":\"\"}}}],\"scatter3d\":[{\"type\":\"scatter3d\",\"line\":{\"colorbar\":{\"outlinewidth\":0,\"ticks\":\"\"}},\"marker\":{\"colorbar\":{\"outlinewidth\":0,\"ticks\":\"\"}}}],\"scattermapbox\":[{\"type\":\"scattermapbox\",\"marker\":{\"colorbar\":{\"outlinewidth\":0,\"ticks\":\"\"}}}],\"scatterternary\":[{\"type\":\"scatterternary\",\"marker\":{\"colorbar\":{\"outlinewidth\":0,\"ticks\":\"\"}}}],\"scattercarpet\":[{\"type\":\"scattercarpet\",\"marker\":{\"colorbar\":{\"outlinewidth\":0,\"ticks\":\"\"}}}],\"carpet\":[{\"aaxis\":{\"endlinecolor\":\"#2a3f5f\",\"gridcolor\":\"white\",\"linecolor\":\"white\",\"minorgridcolor\":\"white\",\"startlinecolor\":\"#2a3f5f\"},\"baxis\":{\"endlinecolor\":\"#2a3f5f\",\"gridcolor\":\"white\",\"linecolor\":\"white\",\"minorgridcolor\":\"white\",\"startlinecolor\":\"#2a3f5f\"},\"type\":\"carpet\"}],\"table\":[{\"cells\":{\"fill\":{\"color\":\"#EBF0F8\"},\"line\":{\"color\":\"white\"}},\"header\":{\"fill\":{\"color\":\"#C8D4E3\"},\"line\":{\"color\":\"white\"}},\"type\":\"table\"}],\"barpolar\":[{\"marker\":{\"line\":{\"color\":\"#E5ECF6\",\"width\":0.5},\"pattern\":{\"fillmode\":\"overlay\",\"size\":10,\"solidity\":0.2}},\"type\":\"barpolar\"}],\"pie\":[{\"automargin\":true,\"type\":\"pie\"}]},\"layout\":{\"autotypenumbers\":\"strict\",\"colorway\":[\"#636efa\",\"#EF553B\",\"#00cc96\",\"#ab63fa\",\"#FFA15A\",\"#19d3f3\",\"#FF6692\",\"#B6E880\",\"#FF97FF\",\"#FECB52\"],\"font\":{\"color\":\"#2a3f5f\"},\"hovermode\":\"closest\",\"hoverlabel\":{\"align\":\"left\"},\"paper_bgcolor\":\"white\",\"plot_bgcolor\":\"#E5ECF6\",\"polar\":{\"bgcolor\":\"#E5ECF6\",\"angularaxis\":{\"gridcolor\":\"white\",\"linecolor\":\"white\",\"ticks\":\"\"},\"radialaxis\":{\"gridcolor\":\"white\",\"linecolor\":\"white\",\"ticks\":\"\"}},\"ternary\":{\"bgcolor\":\"#E5ECF6\",\"aaxis\":{\"gridcolor\":\"white\",\"linecolor\":\"white\",\"ticks\":\"\"},\"baxis\":{\"gridcolor\":\"white\",\"linecolor\":\"white\",\"ticks\":\"\"},\"caxis\":{\"gridcolor\":\"white\",\"linecolor\":\"white\",\"ticks\":\"\"}},\"coloraxis\":{\"colorbar\":{\"outlinewidth\":0,\"ticks\":\"\"}},\"colorscale\":{\"sequential\":[[0.0,\"#0d0887\"],[0.1111111111111111,\"#46039f\"],[0.2222222222222222,\"#7201a8\"],[0.3333333333333333,\"#9c179e\"],[0.4444444444444444,\"#bd3786\"],[0.5555555555555556,\"#d8576b\"],[0.6666666666666666,\"#ed7953\"],[0.7777777777777778,\"#fb9f3a\"],[0.8888888888888888,\"#fdca26\"],[1.0,\"#f0f921\"]],\"sequentialminus\":[[0.0,\"#0d0887\"],[0.1111111111111111,\"#46039f\"],[0.2222222222222222,\"#7201a8\"],[0.3333333333333333,\"#9c179e\"],[0.4444444444444444,\"#bd3786\"],[0.5555555555555556,\"#d8576b\"],[0.6666666666666666,\"#ed7953\"],[0.7777777777777778,\"#fb9f3a\"],[0.8888888888888888,\"#fdca26\"],[1.0,\"#f0f921\"]],\"diverging\":[[0,\"#8e0152\"],[0.1,\"#c51b7d\"],[0.2,\"#de77ae\"],[0.3,\"#f1b6da\"],[0.4,\"#fde0ef\"],[0.5,\"#f7f7f7\"],[0.6,\"#e6f5d0\"],[0.7,\"#b8e186\"],[0.8,\"#7fbc41\"],[0.9,\"#4d9221\"],[1,\"#276419\"]]},\"xaxis\":{\"gridcolor\":\"white\",\"linecolor\":\"white\",\"ticks\":\"\",\"title\":{\"standoff\":15},\"zerolinecolor\":\"white\",\"automargin\":true,\"zerolinewidth\":2},\"yaxis\":{\"gridcolor\":\"white\",\"linecolor\":\"white\",\"ticks\":\"\",\"title\":{\"standoff\":15},\"zerolinecolor\":\"white\",\"automargin\":true,\"zerolinewidth\":2},\"scene\":{\"xaxis\":{\"backgroundcolor\":\"#E5ECF6\",\"gridcolor\":\"white\",\"linecolor\":\"white\",\"showbackground\":true,\"ticks\":\"\",\"zerolinecolor\":\"white\",\"gridwidth\":2},\"yaxis\":{\"backgroundcolor\":\"#E5ECF6\",\"gridcolor\":\"white\",\"linecolor\":\"white\",\"showbackground\":true,\"ticks\":\"\",\"zerolinecolor\":\"white\",\"gridwidth\":2},\"zaxis\":{\"backgroundcolor\":\"#E5ECF6\",\"gridcolor\":\"white\",\"linecolor\":\"white\",\"showbackground\":true,\"ticks\":\"\",\"zerolinecolor\":\"white\",\"gridwidth\":2}},\"shapedefaults\":{\"line\":{\"color\":\"#2a3f5f\"}},\"annotationdefaults\":{\"arrowcolor\":\"#2a3f5f\",\"arrowhead\":0,\"arrowwidth\":1},\"geo\":{\"bgcolor\":\"white\",\"landcolor\":\"#E5ECF6\",\"subunitcolor\":\"white\",\"showland\":true,\"showlakes\":true,\"lakecolor\":\"white\"},\"title\":{\"x\":0.05},\"mapbox\":{\"style\":\"light\"}}},\"xaxis\":{\"anchor\":\"y\",\"domain\":[0.0,1.0],\"scaleanchor\":\"y\",\"constrain\":\"domain\",\"side\":\"top\"},\"yaxis\":{\"anchor\":\"x\",\"domain\":[0.0,1.0],\"autorange\":\"reversed\",\"constrain\":\"domain\"},\"coloraxis\":{\"colorscale\":[[0.0,\"#0d0887\"],[0.1111111111111111,\"#46039f\"],[0.2222222222222222,\"#7201a8\"],[0.3333333333333333,\"#9c179e\"],[0.4444444444444444,\"#bd3786\"],[0.5555555555555556,\"#d8576b\"],[0.6666666666666666,\"#ed7953\"],[0.7777777777777778,\"#fb9f3a\"],[0.8888888888888888,\"#fdca26\"],[1.0,\"#f0f921\"]]},\"margin\":{\"t\":60}},                        {\"responsive\": true}                    ).then(function(){\n",
       "                            \n",
       "var gd = document.getElementById('d4fb25ff-82db-4ebb-a256-36d6750edec2');\n",
       "var x = new MutationObserver(function (mutations, observer) {{\n",
       "        var display = window.getComputedStyle(gd).display;\n",
       "        if (!display || display === 'none') {{\n",
       "            console.log([gd, 'removed!']);\n",
       "            Plotly.purge(gd);\n",
       "            observer.disconnect();\n",
       "        }}\n",
       "}});\n",
       "\n",
       "// Listen for the removal of the full notebook cells\n",
       "var notebookContainer = gd.closest('#notebook-container');\n",
       "if (notebookContainer) {{\n",
       "    x.observe(notebookContainer, {childList: true});\n",
       "}}\n",
       "\n",
       "// Listen for the clearing of the current output cell\n",
       "var outputEl = gd.closest('.output');\n",
       "if (outputEl) {{\n",
       "    x.observe(outputEl, {childList: true});\n",
       "}}\n",
       "\n",
       "                        })                };                });            </script>        </div>"
      ]
     },
     "metadata": {},
     "output_type": "display_data"
    }
   ],
   "source": [
    "resultsl1_b = np.array(resultsl1_b)\n",
    "resultsl1_b = resultsl1_b.reshape([32,32])\n",
    "\n",
    "fig_b = px.imshow(resultsl1_b)\n",
    "fig_b.update_xaxes(side=\"top\")\n",
    "fig_b.show()"
   ]
  },
  {
   "cell_type": "code",
   "execution_count": 260,
   "id": "af321b18-2bd0-4d7e-ae0c-6baaf4fa5d5d",
   "metadata": {},
   "outputs": [
    {
     "data": {
      "application/vnd.plotly.v1+json": {
       "config": {
        "plotlyServerURL": "https://plot.ly"
       },
       "data": [
        {
         "coloraxis": "coloraxis",
         "hovertemplate": "x: %{x}<br>y: %{y}<br>color: %{z}<extra></extra>",
         "name": "0",
         "type": "heatmap",
         "xaxis": "x",
         "yaxis": "y",
         "z": [
          [
           0.2092348078198635,
           0.0043702789773958665,
           0.0494425345768446,
           0,
           0,
           0,
           0,
           0,
           0,
           0,
           -0.019320644719830055,
           -0.02542572848887739,
           0,
           -0.016092102487845816,
           0,
           0,
           0,
           0,
           -0.001425910384371032,
           0,
           0,
           0,
           0,
           0.13239370682858687,
           0.014435237320552656,
           0,
           0.012029265433144691,
           0,
           0,
           0,
           0.10761411840740277,
           0.11640600938325299
          ],
          [
           0.06382492800415385,
           0,
           0,
           0,
           0,
           0,
           0,
           0,
           -0.01672964784490713,
           0,
           -0.0004468106810477294,
           -0.0030988525756237674,
           0,
           0,
           0.020129773674912074,
           0,
           -0.040531679229060515,
           0,
           0,
           0,
           0,
           0,
           0,
           0,
           0,
           0,
           0,
           0,
           -0.04154401580881947,
           0,
           0,
           0
          ],
          [
           0.026319617040353648,
           0,
           0,
           0,
           0,
           0,
           0,
           0,
           -0.0316892557127091,
           0,
           0,
           0,
           0,
           0,
           0.010708689701965167,
           0,
           -0.04363865125419767,
           -0.04408053021640045,
           0,
           0,
           0,
           0,
           0,
           0.04919132331290803,
           0,
           0,
           0,
           0,
           0,
           0,
           0.030646486786525068,
           0
          ],
          [
           0,
           0,
           0,
           0,
           0,
           -0.067106580185103,
           0,
           0,
           0,
           0,
           0,
           0,
           0,
           0,
           0,
           0,
           0,
           -0.0618321467093349,
           0,
           0,
           0,
           -0.009937841637399568,
           0,
           0,
           0.05162003807590614,
           0,
           0,
           0.010572179212854171,
           0,
           0,
           0,
           0
          ],
          [
           0,
           0,
           0,
           0,
           0,
           0,
           0,
           0,
           0,
           0,
           0,
           0.012849196177923666,
           0,
           0,
           0.05975707431425104,
           0.011331443015631543,
           0,
           0,
           0,
           0,
           0,
           0,
           0,
           -0.07459841931400107,
           0,
           0,
           0,
           0,
           0,
           -0.011118398737542877,
           0,
           0
          ],
          [
           0,
           0,
           0,
           0,
           0,
           0,
           0,
           -0.035882986587876246,
           -0.07343410246245656,
           0,
           0,
           0.05583278766217103,
           0,
           0,
           0,
           0,
           0,
           0,
           0,
           0.02020992638466721,
           0,
           0,
           0,
           0,
           0,
           0,
           0,
           0,
           0,
           0,
           0,
           0
          ],
          [
           0.02884754975892763,
           0,
           0,
           0,
           0,
           0,
           0,
           0,
           0,
           0,
           0,
           0,
           -0.010965294145075228,
           0,
           0,
           0,
           0.01606043769138233,
           0,
           -0.01673290961242234,
           0,
           0,
           0,
           -0.03680128721064877,
           0,
           0,
           0,
           0,
           0,
           0,
           0,
           0,
           0
          ],
          [
           0.037422547566192045,
           0,
           0,
           -0.007970702007503947,
           0,
           0,
           0,
           0,
           0.012862493921764848,
           0,
           0.10151591639505321,
           0,
           -0.034509221461051974,
           0,
           0.004925768149769789,
           0,
           0,
           0,
           0,
           0,
           0,
           0,
           0,
           0,
           0,
           0,
           0,
           0,
           0,
           0,
           -0.021769156093139203,
           0
          ],
          [
           0,
           0,
           0,
           -0.04481942106180415,
           -0.0698302461002015,
           0,
           0,
           0,
           0,
           0,
           0,
           0,
           0,
           0,
           0.0399867305588604,
           0,
           0,
           0,
           0,
           -0.021107832765705957,
           -0.022296884003451894,
           0,
           0,
           0,
           0,
           0,
           -0.03379609572415465,
           0,
           0,
           0,
           0,
           -0.002090888160147099
          ],
          [
           0,
           0,
           0,
           0,
           0,
           0.0032831997704501157,
           0,
           0,
           -0.04923605955511661,
           0,
           0,
           0.023896685032424876,
           0,
           0,
           0,
           -0.00940586004324041,
           0,
           0.019718306432301914,
           -0.023052081795937422,
           0,
           0,
           -0.0025120750328278428,
           -0.007316542334946129,
           0,
           0,
           0,
           0.006255523792006954,
           0.006899292566650285,
           0,
           0,
           0.027890908063778665,
           0
          ],
          [
           0,
           0,
           0,
           0,
           0.09592778174757785,
           0,
           0.013223030089893957,
           0,
           -0.024579525458121407,
           -0.003158288830533265,
           0,
           0,
           -0.028804391563733683,
           0,
           0.02658324963690916,
           0,
           0.04859146119824056,
           0.010792752126358718,
           -0.011208855655248779,
           0.0961415527687807,
           0.001697849529596286,
           0,
           0,
           0,
           -0.005601007204791938,
           0,
           0,
           0.01084063918392493,
           0,
           0,
           0,
           0
          ],
          [
           0,
           0,
           0.0029442764991188908,
           0,
           0,
           0,
           0.0203491715687307,
           0,
           0,
           0.012625209225737885,
           -0.026014962139788857,
           0.0259957469910787,
           0,
           0,
           0,
           0,
           -0.04121447550792102,
           0,
           0,
           0.006435735343979358,
           0,
           0,
           0.03480117890029129,
           0,
           -0.001727337880275919,
           -0.02138105553230534,
           -0.023501870468898504,
           0,
           0,
           0,
           0,
           0
          ],
          [
           0.05676200193933946,
           0,
           0,
           0,
           -0.03607583334625022,
           0,
           0,
           -0.01654021028434203,
           -0.012718582224420386,
           0,
           0.008173971733716081,
           0.030333173929053547,
           0,
           0.06154656443501052,
           0.0035708915437201367,
           -0.025941127352923372,
           -0.01343952381597369,
           0,
           -0.012552350123006751,
           0,
           0,
           0,
           0,
           0.049842630506215964,
           0,
           0,
           0,
           0.015119176279480447,
           0,
           0,
           -0.05081795824305279,
           0
          ],
          [
           0,
           0,
           0,
           0,
           0,
           0.009515759755238126,
           0,
           0,
           -0.0006718533130872613,
           0,
           -0.00522167962634017,
           0,
           0,
           0,
           0,
           0,
           -0.01219403028926991,
           0.04867876350658115,
           0,
           -0.10254048152704127,
           0.0018008089773643278,
           -0.008361728280549657,
           -0.03854286337281477,
           0,
           0.017812851181639958,
           0.029294488489678853,
           0,
           0.029912177461508788,
           0,
           0,
           0,
           0
          ],
          [
           -0.004281033292343461,
           -0.08860400199681541,
           0,
           0,
           -0.008133441358703671,
           0,
           0,
           0.008113712982583095,
           -0.0033634217813926313,
           0.00976825374093838,
           0,
           0.02518989514526078,
           0,
           0.00204698889612962,
           0,
           0,
           0.017811222465376142,
           -0.08108556673377826,
           0,
           0,
           0.09446720421120565,
           0,
           0,
           0,
           0,
           -0.04208679586740204,
           -0.05511851588594094,
           0,
           0,
           0,
           0,
           0
          ],
          [
           -0.009871540757300018,
           -0.05714708407904564,
           0,
           0,
           0,
           0.00034141953218580327,
           0,
           0,
           0,
           0.07631707133126715,
           -0.03022859065990957,
           -0.025112827311844957,
           0,
           0.06772550480651725,
           -0.038000994532169104,
           0,
           0.029887299758889818,
           0,
           0.05943982547586855,
           0.04929388322481025,
           -0.03292478786592191,
           0,
           0.002793916554509848,
           0,
           0,
           0,
           0,
           0,
           0,
           0,
           0,
           0
          ],
          [
           0,
           0.02089546180218961,
           0,
           0,
           -0.013442258516937198,
           0,
           0,
           0,
           -0.021957849648466976,
           0,
           -0.01063777864031659,
           0,
           -0.004423127226919486,
           0,
           0,
           0,
           0.025898429279378306,
           0.0012586107781544591,
           0,
           0,
           0,
           -0.002330112278178589,
           0,
           0.029028940873424714,
           0.06597432921442813,
           0,
           0,
           0,
           0,
           -0.003054760320203453,
           -0.03382116066245214,
           0.03391133112156486
          ],
          [
           0.04781087321257716,
           -0.055962440854896024,
           0,
           0.01252245059394521,
           0,
           0,
           0,
           0.04679033909976245,
           -0.02329043067473273,
           0,
           0,
           0,
           0,
           0,
           0.0018491568786307081,
           0,
           0,
           0,
           0,
           0,
           0.00803966546747282,
           0,
           0,
           0,
           0,
           0,
           0,
           0,
           0,
           0,
           0.011125448602737354,
           -0.0446669546330541
          ],
          [
           0,
           0,
           0,
           0,
           -0.0019590361485695303,
           -0.04410828356126636,
           0,
           0.013364311659554188,
           0,
           0,
           0,
           0.00619729805256724,
           0.03498151552419529,
           0,
           0,
           0,
           -0.06060095610150797,
           0,
           0,
           0,
           0,
           0.0034195683098087707,
           0.011287769199305285,
           0.015893137321419032,
           0,
           0,
           0,
           0,
           -0.0815076413831385,
           0,
           0,
           0.026034999915422876
          ],
          [
           0.07898147493853333,
           0,
           -0.02857893509831521,
           0,
           0,
           0,
           0,
           0,
           0,
           0.059491692899186294,
           0,
           0,
           0,
           0,
           0.024799860267077173,
           0.056972541575356334,
           -0.005492315740232567,
           0,
           0,
           0,
           0,
           0,
           0,
           0,
           0,
           0,
           0.018187843772145294,
           0,
           0,
           0,
           -0.0663346160472524,
           0.028269905198930696
          ],
          [
           0,
           -0.05559617343732084,
           0,
           0,
           0,
           0,
           0.005663521283774144,
           0,
           0,
           0,
           -0.0025694226699699,
           0,
           0,
           0,
           0,
           -0.031399277504774795,
           0.04984630791548503,
           0,
           0,
           -0.021677422522289477,
           0.043163735095473145,
           0,
           0,
           -0.004749432038685652,
           -0.028171605928280295,
           -0.02062910081113732,
           0,
           0,
           0,
           -0.009668577559736118,
           0,
           0
          ],
          [
           0,
           -0.07241504910267593,
           0,
           0,
           -0.07918406123858465,
           0,
           0,
           0,
           0,
           0.05318925055287832,
           0,
           0,
           0,
           -0.017807399631050824,
           -0.011194639459263028,
           0,
           0.08340400313693265,
           0,
           0,
           0,
           0,
           0,
           0,
           0.017892488130041885,
           0,
           0.005269172279435777,
           0.03210319804718205,
           0,
           -0.06972945643823895,
           0,
           0.04265137331832172,
           0.0027779564776637547
          ],
          [
           0.08590904019149023,
           -0.03231599005349524,
           0,
           0,
           0,
           0,
           0,
           0,
           -0.03373980633185417,
           0,
           0,
           0,
           -0.025392490392582505,
           0,
           0,
           -0.046314212671034,
           -0.017823889368738917,
           0,
           0,
           0.019948812604281198,
           0,
           -0.056729701689779574,
           0.02774832224918869,
           0,
           0,
           0,
           0.039984620381779266,
           0,
           -0.013010824936766476,
           0,
           0,
           0.10959505167180081
          ],
          [
           0,
           0,
           0,
           0.008776281634035057,
           0.02070358004784821,
           0,
           0,
           0.015160451346298582,
           0,
           0,
           0,
           0,
           -0.0007954174300516817,
           0,
           0,
           0.005274160659584832,
           -0.027156832027334682,
           0.027596131771457505,
           0.07942973837663676,
           0,
           0,
           0,
           0,
           0,
           0,
           -0.03540261597761099,
           0,
           -0.024928780835595264,
           0,
           0,
           -0.04385346253092454,
           -0.01961524494630896
          ],
          [
           0,
           0,
           0,
           0,
           0,
           0,
           0,
           0,
           0,
           -0.030925637497784673,
           0,
           0,
           0,
           0.006174325496778604,
           0,
           0.10822024586468935,
           -0.02886511145428467,
           -0.014858842369340574,
           0,
           0,
           0,
           0,
           -0.010074086321716207,
           0,
           0,
           0,
           -0.012104605767477699,
           -0.015982099232644792,
           -0.014597862312008306,
           0,
           0,
           0.0775892483995831
          ],
          [
           0,
           0,
           -0.013874018513640066,
           0,
           -0.07329453261493798,
           0,
           0,
           0,
           0,
           -0.05025842694165307,
           0,
           0.048627398103487415,
           0,
           0,
           0,
           0,
           0,
           0,
           0,
           0,
           0,
           0,
           -0.014108529452043992,
           0,
           0,
           0,
           -0.0020186870826966363,
           0,
           0,
           -0.03819299440563554,
           0,
           0
          ],
          [
           0,
           0,
           0,
           0,
           0,
           -0.015013045442172709,
           0,
           0,
           0,
           0,
           0,
           0,
           0,
           0,
           -0.022089404355436187,
           0,
           0,
           0,
           0,
           0,
           0,
           0,
           0,
           -0.02724938311542733,
           0,
           0,
           0,
           0,
           0.01247382455527158,
           0,
           0.0415323263490804,
           0
          ],
          [
           0.13631839029670806,
           0,
           0,
           0.018712057555303994,
           0,
           0,
           0,
           0,
           0,
           0,
           0.013132526571308372,
           0,
           0,
           0,
           0,
           -0.00645998717052171,
           0,
           0.008212406452701217,
           0,
           0,
           0,
           0,
           0.0037241759003439566,
           0,
           0,
           0,
           0,
           0,
           0.027450316118517462,
           0,
           0,
           -0.031386787430198994
          ],
          [
           0,
           0,
           0,
           0,
           -0.03894504587328374,
           0,
           0,
           0,
           0,
           0,
           0.0045244042538513975,
           0.010024742194986759,
           0,
           -0.057280883645922626,
           0,
           -0.03398648940142503,
           -0.050655201209036174,
           0,
           0,
           0,
           0,
           0,
           0,
           -0.04152124132662553,
           0,
           0,
           -0.0353920880251016,
           0,
           0,
           0,
           0,
           0
          ],
          [
           0,
           -0.011469743645597674,
           0,
           0,
           0,
           -0.01562137088330972,
           0,
           0,
           0,
           0,
           0,
           0,
           0,
           -0.009066924035053438,
           -0.03832979839411999,
           0,
           0,
           0,
           0,
           -0.06561262124926179,
           0,
           0,
           -0.014557827217617978,
           0,
           0,
           0,
           -0.043282925369514544,
           0,
           -0.045049468191449164,
           0,
           0,
           0
          ],
          [
           0.12588586900644844,
           0,
           0,
           0,
           0,
           -0.07139858930036079,
           0,
           0,
           0,
           0,
           0,
           0,
           0,
           0,
           0,
           -0.013633753226313255,
           0,
           0,
           0,
           0,
           0,
           0,
           0,
           0,
           0,
           0,
           0,
           0,
           0,
           0,
           0.1735571181638554,
           0.04351990858292355
          ],
          [
           0.311659533804876,
           0,
           0,
           0,
           0,
           0,
           0.0010292912459343012,
           0,
           0,
           0,
           0.03511397006260563,
           0,
           0,
           0,
           0,
           0,
           0,
           0,
           0,
           0.007963227491683147,
           0,
           0,
           0,
           0,
           0,
           0,
           0,
           0,
           0,
           0.049224687830191544,
           0,
           0.11056546115353884
          ]
         ]
        }
       ],
       "layout": {
        "autosize": true,
        "coloraxis": {
         "colorscale": [
          [
           0,
           "#0d0887"
          ],
          [
           0.1111111111111111,
           "#46039f"
          ],
          [
           0.2222222222222222,
           "#7201a8"
          ],
          [
           0.3333333333333333,
           "#9c179e"
          ],
          [
           0.4444444444444444,
           "#bd3786"
          ],
          [
           0.5555555555555556,
           "#d8576b"
          ],
          [
           0.6666666666666666,
           "#ed7953"
          ],
          [
           0.7777777777777778,
           "#fb9f3a"
          ],
          [
           0.8888888888888888,
           "#fdca26"
          ],
          [
           1,
           "#f0f921"
          ]
         ]
        },
        "margin": {
         "t": 60
        },
        "template": {
         "data": {
          "bar": [
           {
            "error_x": {
             "color": "#2a3f5f"
            },
            "error_y": {
             "color": "#2a3f5f"
            },
            "marker": {
             "line": {
              "color": "#E5ECF6",
              "width": 0.5
             },
             "pattern": {
              "fillmode": "overlay",
              "size": 10,
              "solidity": 0.2
             }
            },
            "type": "bar"
           }
          ],
          "barpolar": [
           {
            "marker": {
             "line": {
              "color": "#E5ECF6",
              "width": 0.5
             },
             "pattern": {
              "fillmode": "overlay",
              "size": 10,
              "solidity": 0.2
             }
            },
            "type": "barpolar"
           }
          ],
          "carpet": [
           {
            "aaxis": {
             "endlinecolor": "#2a3f5f",
             "gridcolor": "white",
             "linecolor": "white",
             "minorgridcolor": "white",
             "startlinecolor": "#2a3f5f"
            },
            "baxis": {
             "endlinecolor": "#2a3f5f",
             "gridcolor": "white",
             "linecolor": "white",
             "minorgridcolor": "white",
             "startlinecolor": "#2a3f5f"
            },
            "type": "carpet"
           }
          ],
          "choropleth": [
           {
            "colorbar": {
             "outlinewidth": 0,
             "ticks": ""
            },
            "type": "choropleth"
           }
          ],
          "contour": [
           {
            "colorbar": {
             "outlinewidth": 0,
             "ticks": ""
            },
            "colorscale": [
             [
              0,
              "#0d0887"
             ],
             [
              0.1111111111111111,
              "#46039f"
             ],
             [
              0.2222222222222222,
              "#7201a8"
             ],
             [
              0.3333333333333333,
              "#9c179e"
             ],
             [
              0.4444444444444444,
              "#bd3786"
             ],
             [
              0.5555555555555556,
              "#d8576b"
             ],
             [
              0.6666666666666666,
              "#ed7953"
             ],
             [
              0.7777777777777778,
              "#fb9f3a"
             ],
             [
              0.8888888888888888,
              "#fdca26"
             ],
             [
              1,
              "#f0f921"
             ]
            ],
            "type": "contour"
           }
          ],
          "contourcarpet": [
           {
            "colorbar": {
             "outlinewidth": 0,
             "ticks": ""
            },
            "type": "contourcarpet"
           }
          ],
          "heatmap": [
           {
            "colorbar": {
             "outlinewidth": 0,
             "ticks": ""
            },
            "colorscale": [
             [
              0,
              "#0d0887"
             ],
             [
              0.1111111111111111,
              "#46039f"
             ],
             [
              0.2222222222222222,
              "#7201a8"
             ],
             [
              0.3333333333333333,
              "#9c179e"
             ],
             [
              0.4444444444444444,
              "#bd3786"
             ],
             [
              0.5555555555555556,
              "#d8576b"
             ],
             [
              0.6666666666666666,
              "#ed7953"
             ],
             [
              0.7777777777777778,
              "#fb9f3a"
             ],
             [
              0.8888888888888888,
              "#fdca26"
             ],
             [
              1,
              "#f0f921"
             ]
            ],
            "type": "heatmap"
           }
          ],
          "heatmapgl": [
           {
            "colorbar": {
             "outlinewidth": 0,
             "ticks": ""
            },
            "colorscale": [
             [
              0,
              "#0d0887"
             ],
             [
              0.1111111111111111,
              "#46039f"
             ],
             [
              0.2222222222222222,
              "#7201a8"
             ],
             [
              0.3333333333333333,
              "#9c179e"
             ],
             [
              0.4444444444444444,
              "#bd3786"
             ],
             [
              0.5555555555555556,
              "#d8576b"
             ],
             [
              0.6666666666666666,
              "#ed7953"
             ],
             [
              0.7777777777777778,
              "#fb9f3a"
             ],
             [
              0.8888888888888888,
              "#fdca26"
             ],
             [
              1,
              "#f0f921"
             ]
            ],
            "type": "heatmapgl"
           }
          ],
          "histogram": [
           {
            "marker": {
             "pattern": {
              "fillmode": "overlay",
              "size": 10,
              "solidity": 0.2
             }
            },
            "type": "histogram"
           }
          ],
          "histogram2d": [
           {
            "colorbar": {
             "outlinewidth": 0,
             "ticks": ""
            },
            "colorscale": [
             [
              0,
              "#0d0887"
             ],
             [
              0.1111111111111111,
              "#46039f"
             ],
             [
              0.2222222222222222,
              "#7201a8"
             ],
             [
              0.3333333333333333,
              "#9c179e"
             ],
             [
              0.4444444444444444,
              "#bd3786"
             ],
             [
              0.5555555555555556,
              "#d8576b"
             ],
             [
              0.6666666666666666,
              "#ed7953"
             ],
             [
              0.7777777777777778,
              "#fb9f3a"
             ],
             [
              0.8888888888888888,
              "#fdca26"
             ],
             [
              1,
              "#f0f921"
             ]
            ],
            "type": "histogram2d"
           }
          ],
          "histogram2dcontour": [
           {
            "colorbar": {
             "outlinewidth": 0,
             "ticks": ""
            },
            "colorscale": [
             [
              0,
              "#0d0887"
             ],
             [
              0.1111111111111111,
              "#46039f"
             ],
             [
              0.2222222222222222,
              "#7201a8"
             ],
             [
              0.3333333333333333,
              "#9c179e"
             ],
             [
              0.4444444444444444,
              "#bd3786"
             ],
             [
              0.5555555555555556,
              "#d8576b"
             ],
             [
              0.6666666666666666,
              "#ed7953"
             ],
             [
              0.7777777777777778,
              "#fb9f3a"
             ],
             [
              0.8888888888888888,
              "#fdca26"
             ],
             [
              1,
              "#f0f921"
             ]
            ],
            "type": "histogram2dcontour"
           }
          ],
          "mesh3d": [
           {
            "colorbar": {
             "outlinewidth": 0,
             "ticks": ""
            },
            "type": "mesh3d"
           }
          ],
          "parcoords": [
           {
            "line": {
             "colorbar": {
              "outlinewidth": 0,
              "ticks": ""
             }
            },
            "type": "parcoords"
           }
          ],
          "pie": [
           {
            "automargin": true,
            "type": "pie"
           }
          ],
          "scatter": [
           {
            "fillpattern": {
             "fillmode": "overlay",
             "size": 10,
             "solidity": 0.2
            },
            "type": "scatter"
           }
          ],
          "scatter3d": [
           {
            "line": {
             "colorbar": {
              "outlinewidth": 0,
              "ticks": ""
             }
            },
            "marker": {
             "colorbar": {
              "outlinewidth": 0,
              "ticks": ""
             }
            },
            "type": "scatter3d"
           }
          ],
          "scattercarpet": [
           {
            "marker": {
             "colorbar": {
              "outlinewidth": 0,
              "ticks": ""
             }
            },
            "type": "scattercarpet"
           }
          ],
          "scattergeo": [
           {
            "marker": {
             "colorbar": {
              "outlinewidth": 0,
              "ticks": ""
             }
            },
            "type": "scattergeo"
           }
          ],
          "scattergl": [
           {
            "marker": {
             "colorbar": {
              "outlinewidth": 0,
              "ticks": ""
             }
            },
            "type": "scattergl"
           }
          ],
          "scattermapbox": [
           {
            "marker": {
             "colorbar": {
              "outlinewidth": 0,
              "ticks": ""
             }
            },
            "type": "scattermapbox"
           }
          ],
          "scatterpolar": [
           {
            "marker": {
             "colorbar": {
              "outlinewidth": 0,
              "ticks": ""
             }
            },
            "type": "scatterpolar"
           }
          ],
          "scatterpolargl": [
           {
            "marker": {
             "colorbar": {
              "outlinewidth": 0,
              "ticks": ""
             }
            },
            "type": "scatterpolargl"
           }
          ],
          "scatterternary": [
           {
            "marker": {
             "colorbar": {
              "outlinewidth": 0,
              "ticks": ""
             }
            },
            "type": "scatterternary"
           }
          ],
          "surface": [
           {
            "colorbar": {
             "outlinewidth": 0,
             "ticks": ""
            },
            "colorscale": [
             [
              0,
              "#0d0887"
             ],
             [
              0.1111111111111111,
              "#46039f"
             ],
             [
              0.2222222222222222,
              "#7201a8"
             ],
             [
              0.3333333333333333,
              "#9c179e"
             ],
             [
              0.4444444444444444,
              "#bd3786"
             ],
             [
              0.5555555555555556,
              "#d8576b"
             ],
             [
              0.6666666666666666,
              "#ed7953"
             ],
             [
              0.7777777777777778,
              "#fb9f3a"
             ],
             [
              0.8888888888888888,
              "#fdca26"
             ],
             [
              1,
              "#f0f921"
             ]
            ],
            "type": "surface"
           }
          ],
          "table": [
           {
            "cells": {
             "fill": {
              "color": "#EBF0F8"
             },
             "line": {
              "color": "white"
             }
            },
            "header": {
             "fill": {
              "color": "#C8D4E3"
             },
             "line": {
              "color": "white"
             }
            },
            "type": "table"
           }
          ]
         },
         "layout": {
          "annotationdefaults": {
           "arrowcolor": "#2a3f5f",
           "arrowhead": 0,
           "arrowwidth": 1
          },
          "autotypenumbers": "strict",
          "coloraxis": {
           "colorbar": {
            "outlinewidth": 0,
            "ticks": ""
           }
          },
          "colorscale": {
           "diverging": [
            [
             0,
             "#8e0152"
            ],
            [
             0.1,
             "#c51b7d"
            ],
            [
             0.2,
             "#de77ae"
            ],
            [
             0.3,
             "#f1b6da"
            ],
            [
             0.4,
             "#fde0ef"
            ],
            [
             0.5,
             "#f7f7f7"
            ],
            [
             0.6,
             "#e6f5d0"
            ],
            [
             0.7,
             "#b8e186"
            ],
            [
             0.8,
             "#7fbc41"
            ],
            [
             0.9,
             "#4d9221"
            ],
            [
             1,
             "#276419"
            ]
           ],
           "sequential": [
            [
             0,
             "#0d0887"
            ],
            [
             0.1111111111111111,
             "#46039f"
            ],
            [
             0.2222222222222222,
             "#7201a8"
            ],
            [
             0.3333333333333333,
             "#9c179e"
            ],
            [
             0.4444444444444444,
             "#bd3786"
            ],
            [
             0.5555555555555556,
             "#d8576b"
            ],
            [
             0.6666666666666666,
             "#ed7953"
            ],
            [
             0.7777777777777778,
             "#fb9f3a"
            ],
            [
             0.8888888888888888,
             "#fdca26"
            ],
            [
             1,
             "#f0f921"
            ]
           ],
           "sequentialminus": [
            [
             0,
             "#0d0887"
            ],
            [
             0.1111111111111111,
             "#46039f"
            ],
            [
             0.2222222222222222,
             "#7201a8"
            ],
            [
             0.3333333333333333,
             "#9c179e"
            ],
            [
             0.4444444444444444,
             "#bd3786"
            ],
            [
             0.5555555555555556,
             "#d8576b"
            ],
            [
             0.6666666666666666,
             "#ed7953"
            ],
            [
             0.7777777777777778,
             "#fb9f3a"
            ],
            [
             0.8888888888888888,
             "#fdca26"
            ],
            [
             1,
             "#f0f921"
            ]
           ]
          },
          "colorway": [
           "#636efa",
           "#EF553B",
           "#00cc96",
           "#ab63fa",
           "#FFA15A",
           "#19d3f3",
           "#FF6692",
           "#B6E880",
           "#FF97FF",
           "#FECB52"
          ],
          "font": {
           "color": "#2a3f5f"
          },
          "geo": {
           "bgcolor": "white",
           "lakecolor": "white",
           "landcolor": "#E5ECF6",
           "showlakes": true,
           "showland": true,
           "subunitcolor": "white"
          },
          "hoverlabel": {
           "align": "left"
          },
          "hovermode": "closest",
          "mapbox": {
           "style": "light"
          },
          "paper_bgcolor": "white",
          "plot_bgcolor": "#E5ECF6",
          "polar": {
           "angularaxis": {
            "gridcolor": "white",
            "linecolor": "white",
            "ticks": ""
           },
           "bgcolor": "#E5ECF6",
           "radialaxis": {
            "gridcolor": "white",
            "linecolor": "white",
            "ticks": ""
           }
          },
          "scene": {
           "xaxis": {
            "backgroundcolor": "#E5ECF6",
            "gridcolor": "white",
            "gridwidth": 2,
            "linecolor": "white",
            "showbackground": true,
            "ticks": "",
            "zerolinecolor": "white"
           },
           "yaxis": {
            "backgroundcolor": "#E5ECF6",
            "gridcolor": "white",
            "gridwidth": 2,
            "linecolor": "white",
            "showbackground": true,
            "ticks": "",
            "zerolinecolor": "white"
           },
           "zaxis": {
            "backgroundcolor": "#E5ECF6",
            "gridcolor": "white",
            "gridwidth": 2,
            "linecolor": "white",
            "showbackground": true,
            "ticks": "",
            "zerolinecolor": "white"
           }
          },
          "shapedefaults": {
           "line": {
            "color": "#2a3f5f"
           }
          },
          "ternary": {
           "aaxis": {
            "gridcolor": "white",
            "linecolor": "white",
            "ticks": ""
           },
           "baxis": {
            "gridcolor": "white",
            "linecolor": "white",
            "ticks": ""
           },
           "bgcolor": "#E5ECF6",
           "caxis": {
            "gridcolor": "white",
            "linecolor": "white",
            "ticks": ""
           }
          },
          "title": {
           "x": 0.05
          },
          "xaxis": {
           "automargin": true,
           "gridcolor": "white",
           "linecolor": "white",
           "ticks": "",
           "title": {
            "standoff": 15
           },
           "zerolinecolor": "white",
           "zerolinewidth": 2
          },
          "yaxis": {
           "automargin": true,
           "gridcolor": "white",
           "linecolor": "white",
           "ticks": "",
           "title": {
            "standoff": 15
           },
           "zerolinecolor": "white",
           "zerolinewidth": 2
          }
         }
        },
        "xaxis": {
         "anchor": "y",
         "autorange": true,
         "constrain": "domain",
         "domain": [
          0.36650485436893204,
          0.633495145631068
         ],
         "range": [
          -0.5,
          31.5
         ],
         "scaleanchor": "y",
         "side": "top"
        },
        "yaxis": {
         "anchor": "x",
         "autorange": true,
         "constrain": "domain",
         "domain": [
          0,
          1
         ],
         "range": [
          31.5,
          -0.5
         ]
        }
       }
      },
      "image/png": "[encoded data removed]",
      "text/html": [
       "<div>                            <div id=\"26294194-5986-4027-ac6d-881d33fc91f0\" class=\"plotly-graph-div\" style=\"height:525px; width:100%;\"></div>            <script type=\"text/javascript\">                require([\"plotly\"], function(Plotly) {                    window.PLOTLYENV=window.PLOTLYENV || {};                                    if (document.getElementById(\"26294194-5986-4027-ac6d-881d33fc91f0\")) {                    Plotly.newPlot(                        \"26294194-5986-4027-ac6d-881d33fc91f0\",                        [{\"coloraxis\":\"coloraxis\",\"name\":\"0\",\"z\":[[0.2092348078198635,0.0043702789773958665,0.0494425345768446,0.0,0.0,0.0,0.0,0.0,0.0,0.0,-0.019320644719830055,-0.02542572848887739,0.0,-0.016092102487845816,0.0,0.0,0.0,0.0,-0.001425910384371032,0.0,0.0,0.0,0.0,0.13239370682858687,0.014435237320552656,0.0,0.012029265433144691,0.0,0.0,0.0,0.10761411840740277,0.11640600938325299],[0.06382492800415385,0.0,0.0,0.0,0.0,0.0,0.0,0.0,-0.01672964784490713,0.0,-0.0004468106810477294,-0.0030988525756237674,0.0,0.0,0.020129773674912074,0.0,-0.040531679229060515,0.0,0.0,0.0,0.0,0.0,0.0,0.0,0.0,0.0,0.0,0.0,-0.04154401580881947,0.0,0.0,0.0],[0.026319617040353648,0.0,0.0,0.0,0.0,0.0,0.0,0.0,-0.0316892557127091,0.0,0.0,0.0,0.0,0.0,0.010708689701965167,0.0,-0.04363865125419767,-0.04408053021640045,0.0,0.0,0.0,0.0,0.0,0.04919132331290803,0.0,0.0,0.0,0.0,0.0,0.0,0.030646486786525068,0.0],[0.0,0.0,0.0,0.0,0.0,-0.067106580185103,0.0,0.0,0.0,0.0,0.0,0.0,0.0,0.0,0.0,0.0,0.0,-0.0618321467093349,0.0,0.0,0.0,-0.009937841637399568,0.0,0.0,0.05162003807590614,0.0,0.0,0.010572179212854171,0.0,0.0,0.0,0.0],[0.0,0.0,0.0,0.0,0.0,0.0,0.0,0.0,0.0,0.0,0.0,0.012849196177923666,0.0,0.0,0.05975707431425104,0.011331443015631543,0.0,0.0,0.0,0.0,0.0,0.0,0.0,-0.07459841931400107,0.0,0.0,0.0,0.0,0.0,-0.011118398737542877,0.0,0.0],[0.0,0.0,0.0,0.0,0.0,0.0,0.0,-0.035882986587876246,-0.07343410246245656,0.0,0.0,0.05583278766217103,0.0,0.0,0.0,0.0,0.0,0.0,0.0,0.02020992638466721,0.0,0.0,0.0,0.0,0.0,0.0,0.0,0.0,0.0,0.0,0.0,0.0],[0.02884754975892763,0.0,0.0,0.0,0.0,0.0,0.0,0.0,0.0,0.0,0.0,0.0,-0.010965294145075228,0.0,0.0,0.0,0.01606043769138233,0.0,-0.01673290961242234,0.0,0.0,0.0,-0.03680128721064877,0.0,0.0,0.0,0.0,0.0,0.0,0.0,0.0,0.0],[0.037422547566192045,0.0,0.0,-0.007970702007503947,0.0,0.0,0.0,0.0,0.012862493921764848,0.0,0.10151591639505321,0.0,-0.034509221461051974,0.0,0.004925768149769789,0.0,0.0,0.0,0.0,0.0,0.0,0.0,0.0,0.0,0.0,0.0,0.0,0.0,0.0,0.0,-0.021769156093139203,0.0],[0.0,0.0,0.0,-0.04481942106180415,-0.0698302461002015,0.0,0.0,0.0,0.0,0.0,0.0,0.0,0.0,0.0,0.0399867305588604,0.0,0.0,0.0,0.0,-0.021107832765705957,-0.022296884003451894,0.0,0.0,0.0,0.0,0.0,-0.03379609572415465,0.0,0.0,0.0,0.0,-0.002090888160147099],[0.0,0.0,0.0,0.0,0.0,0.0032831997704501157,0.0,0.0,-0.04923605955511661,0.0,0.0,0.023896685032424876,0.0,0.0,0.0,-0.00940586004324041,0.0,0.019718306432301914,-0.023052081795937422,0.0,0.0,-0.0025120750328278428,-0.007316542334946129,0.0,0.0,0.0,0.006255523792006954,0.006899292566650285,0.0,0.0,0.027890908063778665,0.0],[0.0,0.0,0.0,0.0,0.09592778174757785,0.0,0.013223030089893957,0.0,-0.024579525458121407,-0.003158288830533265,0.0,0.0,-0.028804391563733683,0.0,0.02658324963690916,0.0,0.04859146119824056,0.010792752126358718,-0.011208855655248779,0.0961415527687807,0.001697849529596286,0.0,0.0,0.0,-0.005601007204791938,0.0,0.0,0.01084063918392493,0.0,0.0,0.0,0.0],[0.0,0.0,0.0029442764991188908,0.0,0.0,0.0,0.0203491715687307,0.0,0.0,0.012625209225737885,-0.026014962139788857,0.0259957469910787,0.0,0.0,0.0,0.0,-0.04121447550792102,0.0,0.0,0.006435735343979358,0.0,0.0,0.03480117890029129,0.0,-0.001727337880275919,-0.02138105553230534,-0.023501870468898504,0.0,0.0,0.0,0.0,0.0],[0.05676200193933946,0.0,0.0,0.0,-0.03607583334625022,0.0,0.0,-0.01654021028434203,-0.012718582224420386,0.0,0.008173971733716081,0.030333173929053547,0.0,0.06154656443501052,0.0035708915437201367,-0.025941127352923372,-0.01343952381597369,0.0,-0.012552350123006751,0.0,0.0,0.0,0.0,0.049842630506215964,0.0,0.0,0.0,0.015119176279480447,0.0,0.0,-0.05081795824305279,0.0],[0.0,0.0,0.0,0.0,0.0,0.009515759755238126,0.0,0.0,-0.0006718533130872613,0.0,-0.00522167962634017,0.0,0.0,0.0,0.0,0.0,-0.01219403028926991,0.04867876350658115,0.0,-0.10254048152704127,0.0018008089773643278,-0.008361728280549657,-0.03854286337281477,0.0,0.017812851181639958,0.029294488489678853,0.0,0.029912177461508788,0.0,0.0,0.0,0.0],[-0.004281033292343461,-0.08860400199681541,0.0,0.0,-0.008133441358703671,0.0,0.0,0.008113712982583095,-0.0033634217813926313,0.00976825374093838,0.0,0.02518989514526078,0.0,0.00204698889612962,0.0,0.0,0.017811222465376142,-0.08108556673377826,0.0,0.0,0.09446720421120565,0.0,0.0,0.0,0.0,-0.04208679586740204,-0.05511851588594094,0.0,0.0,0.0,0.0,0.0],[-0.009871540757300018,-0.05714708407904564,0.0,0.0,0.0,0.00034141953218580327,0.0,0.0,0.0,0.07631707133126715,-0.03022859065990957,-0.025112827311844957,0.0,0.06772550480651725,-0.038000994532169104,0.0,0.029887299758889818,0.0,0.05943982547586855,0.04929388322481025,-0.03292478786592191,0.0,0.002793916554509848,0.0,0.0,0.0,0.0,0.0,0.0,0.0,0.0,0.0],[0.0,0.02089546180218961,0.0,0.0,-0.013442258516937198,0.0,0.0,0.0,-0.021957849648466976,0.0,-0.01063777864031659,0.0,-0.004423127226919486,0.0,0.0,0.0,0.025898429279378306,0.0012586107781544591,0.0,0.0,0.0,-0.002330112278178589,0.0,0.029028940873424714,0.06597432921442813,0.0,0.0,0.0,0.0,-0.003054760320203453,-0.03382116066245214,0.03391133112156486],[0.04781087321257716,-0.055962440854896024,0.0,0.01252245059394521,0.0,0.0,0.0,0.04679033909976245,-0.02329043067473273,0.0,0.0,0.0,0.0,0.0,0.0018491568786307081,0.0,0.0,0.0,0.0,0.0,0.00803966546747282,0.0,0.0,0.0,0.0,0.0,0.0,0.0,0.0,0.0,0.011125448602737354,-0.0446669546330541],[0.0,0.0,0.0,0.0,-0.0019590361485695303,-0.04410828356126636,0.0,0.013364311659554188,0.0,0.0,0.0,0.00619729805256724,0.03498151552419529,0.0,0.0,0.0,-0.06060095610150797,0.0,0.0,0.0,0.0,0.0034195683098087707,0.011287769199305285,0.015893137321419032,0.0,0.0,0.0,0.0,-0.0815076413831385,0.0,0.0,0.026034999915422876],[0.07898147493853333,0.0,-0.02857893509831521,0.0,0.0,0.0,0.0,0.0,0.0,0.059491692899186294,0.0,0.0,0.0,0.0,0.024799860267077173,0.056972541575356334,-0.005492315740232567,0.0,0.0,0.0,0.0,0.0,0.0,0.0,0.0,0.0,0.018187843772145294,0.0,0.0,0.0,-0.0663346160472524,0.028269905198930696],[0.0,-0.05559617343732084,0.0,0.0,0.0,0.0,0.005663521283774144,0.0,0.0,0.0,-0.0025694226699699,0.0,0.0,0.0,0.0,-0.031399277504774795,0.04984630791548503,0.0,0.0,-0.021677422522289477,0.043163735095473145,0.0,0.0,-0.004749432038685652,-0.028171605928280295,-0.02062910081113732,0.0,0.0,0.0,-0.009668577559736118,0.0,0.0],[0.0,-0.07241504910267593,0.0,0.0,-0.07918406123858465,0.0,0.0,0.0,0.0,0.05318925055287832,0.0,0.0,0.0,-0.017807399631050824,-0.011194639459263028,0.0,0.08340400313693265,0.0,0.0,0.0,0.0,0.0,0.0,0.017892488130041885,0.0,0.005269172279435777,0.03210319804718205,0.0,-0.06972945643823895,0.0,0.04265137331832172,0.0027779564776637547],[0.08590904019149023,-0.03231599005349524,0.0,0.0,0.0,0.0,0.0,0.0,-0.03373980633185417,0.0,0.0,0.0,-0.025392490392582505,0.0,0.0,-0.046314212671034,-0.017823889368738917,0.0,0.0,0.019948812604281198,0.0,-0.056729701689779574,0.02774832224918869,0.0,0.0,0.0,0.039984620381779266,0.0,-0.013010824936766476,0.0,0.0,0.10959505167180081],[0.0,0.0,0.0,0.008776281634035057,0.02070358004784821,0.0,0.0,0.015160451346298582,0.0,0.0,0.0,0.0,-0.0007954174300516817,0.0,0.0,0.005274160659584832,-0.027156832027334682,0.027596131771457505,0.07942973837663676,0.0,0.0,0.0,0.0,0.0,0.0,-0.03540261597761099,0.0,-0.024928780835595264,0.0,0.0,-0.04385346253092454,-0.01961524494630896],[0.0,0.0,0.0,0.0,0.0,0.0,0.0,0.0,0.0,-0.030925637497784673,0.0,0.0,0.0,0.006174325496778604,0.0,0.10822024586468935,-0.02886511145428467,-0.014858842369340574,0.0,0.0,0.0,0.0,-0.010074086321716207,0.0,0.0,0.0,-0.012104605767477699,-0.015982099232644792,-0.014597862312008306,0.0,0.0,0.0775892483995831],[0.0,0.0,-0.013874018513640066,0.0,-0.07329453261493798,0.0,0.0,0.0,0.0,-0.05025842694165307,0.0,0.048627398103487415,0.0,0.0,0.0,0.0,0.0,0.0,0.0,0.0,0.0,0.0,-0.014108529452043992,0.0,0.0,0.0,-0.0020186870826966363,0.0,0.0,-0.03819299440563554,0.0,0.0],[0.0,0.0,0.0,0.0,0.0,-0.015013045442172709,0.0,0.0,0.0,0.0,0.0,0.0,0.0,0.0,-0.022089404355436187,0.0,0.0,0.0,0.0,0.0,0.0,0.0,0.0,-0.02724938311542733,0.0,0.0,0.0,0.0,0.01247382455527158,0.0,0.0415323263490804,0.0],[0.13631839029670806,0.0,0.0,0.018712057555303994,0.0,0.0,0.0,0.0,0.0,0.0,0.013132526571308372,0.0,0.0,0.0,0.0,-0.00645998717052171,0.0,0.008212406452701217,0.0,0.0,0.0,0.0,0.0037241759003439566,0.0,0.0,0.0,0.0,0.0,0.027450316118517462,0.0,0.0,-0.031386787430198994],[0.0,0.0,0.0,0.0,-0.03894504587328374,0.0,0.0,0.0,0.0,0.0,0.0045244042538513975,0.010024742194986759,0.0,-0.057280883645922626,0.0,-0.03398648940142503,-0.050655201209036174,0.0,0.0,0.0,0.0,0.0,0.0,-0.04152124132662553,0.0,0.0,-0.0353920880251016,0.0,0.0,0.0,0.0,0.0],[0.0,-0.011469743645597674,0.0,0.0,0.0,-0.01562137088330972,0.0,0.0,0.0,0.0,0.0,0.0,0.0,-0.009066924035053438,-0.03832979839411999,0.0,0.0,0.0,0.0,-0.06561262124926179,0.0,0.0,-0.014557827217617978,0.0,0.0,0.0,-0.043282925369514544,0.0,-0.045049468191449164,0.0,0.0,0.0],[0.12588586900644844,0.0,0.0,0.0,0.0,-0.07139858930036079,0.0,0.0,0.0,0.0,0.0,0.0,0.0,0.0,0.0,-0.013633753226313255,0.0,0.0,0.0,0.0,0.0,0.0,0.0,0.0,0.0,0.0,0.0,0.0,0.0,0.0,0.1735571181638554,0.04351990858292355],[0.311659533804876,0.0,0.0,0.0,0.0,0.0,0.0010292912459343012,0.0,0.0,0.0,0.03511397006260563,0.0,0.0,0.0,0.0,0.0,0.0,0.0,0.0,0.007963227491683147,0.0,0.0,0.0,0.0,0.0,0.0,0.0,0.0,0.0,0.049224687830191544,0.0,0.11056546115353884]],\"type\":\"heatmap\",\"xaxis\":\"x\",\"yaxis\":\"y\",\"hovertemplate\":\"x: %{x}<br>y: %{y}<br>color: %{z}<extra></extra>\"}],                        {\"template\":{\"data\":{\"histogram2dcontour\":[{\"type\":\"histogram2dcontour\",\"colorbar\":{\"outlinewidth\":0,\"ticks\":\"\"},\"colorscale\":[[0.0,\"#0d0887\"],[0.1111111111111111,\"#46039f\"],[0.2222222222222222,\"#7201a8\"],[0.3333333333333333,\"#9c179e\"],[0.4444444444444444,\"#bd3786\"],[0.5555555555555556,\"#d8576b\"],[0.6666666666666666,\"#ed7953\"],[0.7777777777777778,\"#fb9f3a\"],[0.8888888888888888,\"#fdca26\"],[1.0,\"#f0f921\"]]}],\"choropleth\":[{\"type\":\"choropleth\",\"colorbar\":{\"outlinewidth\":0,\"ticks\":\"\"}}],\"histogram2d\":[{\"type\":\"histogram2d\",\"colorbar\":{\"outlinewidth\":0,\"ticks\":\"\"},\"colorscale\":[[0.0,\"#0d0887\"],[0.1111111111111111,\"#46039f\"],[0.2222222222222222,\"#7201a8\"],[0.3333333333333333,\"#9c179e\"],[0.4444444444444444,\"#bd3786\"],[0.5555555555555556,\"#d8576b\"],[0.6666666666666666,\"#ed7953\"],[0.7777777777777778,\"#fb9f3a\"],[0.8888888888888888,\"#fdca26\"],[1.0,\"#f0f921\"]]}],\"heatmap\":[{\"type\":\"heatmap\",\"colorbar\":{\"outlinewidth\":0,\"ticks\":\"\"},\"colorscale\":[[0.0,\"#0d0887\"],[0.1111111111111111,\"#46039f\"],[0.2222222222222222,\"#7201a8\"],[0.3333333333333333,\"#9c179e\"],[0.4444444444444444,\"#bd3786\"],[0.5555555555555556,\"#d8576b\"],[0.6666666666666666,\"#ed7953\"],[0.7777777777777778,\"#fb9f3a\"],[0.8888888888888888,\"#fdca26\"],[1.0,\"#f0f921\"]]}],\"heatmapgl\":[{\"type\":\"heatmapgl\",\"colorbar\":{\"outlinewidth\":0,\"ticks\":\"\"},\"colorscale\":[[0.0,\"#0d0887\"],[0.1111111111111111,\"#46039f\"],[0.2222222222222222,\"#7201a8\"],[0.3333333333333333,\"#9c179e\"],[0.4444444444444444,\"#bd3786\"],[0.5555555555555556,\"#d8576b\"],[0.6666666666666666,\"#ed7953\"],[0.7777777777777778,\"#fb9f3a\"],[0.8888888888888888,\"#fdca26\"],[1.0,\"#f0f921\"]]}],\"contourcarpet\":[{\"type\":\"contourcarpet\",\"colorbar\":{\"outlinewidth\":0,\"ticks\":\"\"}}],\"contour\":[{\"type\":\"contour\",\"colorbar\":{\"outlinewidth\":0,\"ticks\":\"\"},\"colorscale\":[[0.0,\"#0d0887\"],[0.1111111111111111,\"#46039f\"],[0.2222222222222222,\"#7201a8\"],[0.3333333333333333,\"#9c179e\"],[0.4444444444444444,\"#bd3786\"],[0.5555555555555556,\"#d8576b\"],[0.6666666666666666,\"#ed7953\"],[0.7777777777777778,\"#fb9f3a\"],[0.8888888888888888,\"#fdca26\"],[1.0,\"#f0f921\"]]}],\"surface\":[{\"type\":\"surface\",\"colorbar\":{\"outlinewidth\":0,\"ticks\":\"\"},\"colorscale\":[[0.0,\"#0d0887\"],[0.1111111111111111,\"#46039f\"],[0.2222222222222222,\"#7201a8\"],[0.3333333333333333,\"#9c179e\"],[0.4444444444444444,\"#bd3786\"],[0.5555555555555556,\"#d8576b\"],[0.6666666666666666,\"#ed7953\"],[0.7777777777777778,\"#fb9f3a\"],[0.8888888888888888,\"#fdca26\"],[1.0,\"#f0f921\"]]}],\"mesh3d\":[{\"type\":\"mesh3d\",\"colorbar\":{\"outlinewidth\":0,\"ticks\":\"\"}}],\"scatter\":[{\"fillpattern\":{\"fillmode\":\"overlay\",\"size\":10,\"solidity\":0.2},\"type\":\"scatter\"}],\"parcoords\":[{\"type\":\"parcoords\",\"line\":{\"colorbar\":{\"outlinewidth\":0,\"ticks\":\"\"}}}],\"scatterpolargl\":[{\"type\":\"scatterpolargl\",\"marker\":{\"colorbar\":{\"outlinewidth\":0,\"ticks\":\"\"}}}],\"bar\":[{\"error_x\":{\"color\":\"#2a3f5f\"},\"error_y\":{\"color\":\"#2a3f5f\"},\"marker\":{\"line\":{\"color\":\"#E5ECF6\",\"width\":0.5},\"pattern\":{\"fillmode\":\"overlay\",\"size\":10,\"solidity\":0.2}},\"type\":\"bar\"}],\"scattergeo\":[{\"type\":\"scattergeo\",\"marker\":{\"colorbar\":{\"outlinewidth\":0,\"ticks\":\"\"}}}],\"scatterpolar\":[{\"type\":\"scatterpolar\",\"marker\":{\"colorbar\":{\"outlinewidth\":0,\"ticks\":\"\"}}}],\"histogram\":[{\"marker\":{\"pattern\":{\"fillmode\":\"overlay\",\"size\":10,\"solidity\":0.2}},\"type\":\"histogram\"}],\"scattergl\":[{\"type\":\"scattergl\",\"marker\":{\"colorbar\":{\"outlinewidth\":0,\"ticks\":\"\"}}}],\"scatter3d\":[{\"type\":\"scatter3d\",\"line\":{\"colorbar\":{\"outlinewidth\":0,\"ticks\":\"\"}},\"marker\":{\"colorbar\":{\"outlinewidth\":0,\"ticks\":\"\"}}}],\"scattermapbox\":[{\"type\":\"scattermapbox\",\"marker\":{\"colorbar\":{\"outlinewidth\":0,\"ticks\":\"\"}}}],\"scatterternary\":[{\"type\":\"scatterternary\",\"marker\":{\"colorbar\":{\"outlinewidth\":0,\"ticks\":\"\"}}}],\"scattercarpet\":[{\"type\":\"scattercarpet\",\"marker\":{\"colorbar\":{\"outlinewidth\":0,\"ticks\":\"\"}}}],\"carpet\":[{\"aaxis\":{\"endlinecolor\":\"#2a3f5f\",\"gridcolor\":\"white\",\"linecolor\":\"white\",\"minorgridcolor\":\"white\",\"startlinecolor\":\"#2a3f5f\"},\"baxis\":{\"endlinecolor\":\"#2a3f5f\",\"gridcolor\":\"white\",\"linecolor\":\"white\",\"minorgridcolor\":\"white\",\"startlinecolor\":\"#2a3f5f\"},\"type\":\"carpet\"}],\"table\":[{\"cells\":{\"fill\":{\"color\":\"#EBF0F8\"},\"line\":{\"color\":\"white\"}},\"header\":{\"fill\":{\"color\":\"#C8D4E3\"},\"line\":{\"color\":\"white\"}},\"type\":\"table\"}],\"barpolar\":[{\"marker\":{\"line\":{\"color\":\"#E5ECF6\",\"width\":0.5},\"pattern\":{\"fillmode\":\"overlay\",\"size\":10,\"solidity\":0.2}},\"type\":\"barpolar\"}],\"pie\":[{\"automargin\":true,\"type\":\"pie\"}]},\"layout\":{\"autotypenumbers\":\"strict\",\"colorway\":[\"#636efa\",\"#EF553B\",\"#00cc96\",\"#ab63fa\",\"#FFA15A\",\"#19d3f3\",\"#FF6692\",\"#B6E880\",\"#FF97FF\",\"#FECB52\"],\"font\":{\"color\":\"#2a3f5f\"},\"hovermode\":\"closest\",\"hoverlabel\":{\"align\":\"left\"},\"paper_bgcolor\":\"white\",\"plot_bgcolor\":\"#E5ECF6\",\"polar\":{\"bgcolor\":\"#E5ECF6\",\"angularaxis\":{\"gridcolor\":\"white\",\"linecolor\":\"white\",\"ticks\":\"\"},\"radialaxis\":{\"gridcolor\":\"white\",\"linecolor\":\"white\",\"ticks\":\"\"}},\"ternary\":{\"bgcolor\":\"#E5ECF6\",\"aaxis\":{\"gridcolor\":\"white\",\"linecolor\":\"white\",\"ticks\":\"\"},\"baxis\":{\"gridcolor\":\"white\",\"linecolor\":\"white\",\"ticks\":\"\"},\"caxis\":{\"gridcolor\":\"white\",\"linecolor\":\"white\",\"ticks\":\"\"}},\"coloraxis\":{\"colorbar\":{\"outlinewidth\":0,\"ticks\":\"\"}},\"colorscale\":{\"sequential\":[[0.0,\"#0d0887\"],[0.1111111111111111,\"#46039f\"],[0.2222222222222222,\"#7201a8\"],[0.3333333333333333,\"#9c179e\"],[0.4444444444444444,\"#bd3786\"],[0.5555555555555556,\"#d8576b\"],[0.6666666666666666,\"#ed7953\"],[0.7777777777777778,\"#fb9f3a\"],[0.8888888888888888,\"#fdca26\"],[1.0,\"#f0f921\"]],\"sequentialminus\":[[0.0,\"#0d0887\"],[0.1111111111111111,\"#46039f\"],[0.2222222222222222,\"#7201a8\"],[0.3333333333333333,\"#9c179e\"],[0.4444444444444444,\"#bd3786\"],[0.5555555555555556,\"#d8576b\"],[0.6666666666666666,\"#ed7953\"],[0.7777777777777778,\"#fb9f3a\"],[0.8888888888888888,\"#fdca26\"],[1.0,\"#f0f921\"]],\"diverging\":[[0,\"#8e0152\"],[0.1,\"#c51b7d\"],[0.2,\"#de77ae\"],[0.3,\"#f1b6da\"],[0.4,\"#fde0ef\"],[0.5,\"#f7f7f7\"],[0.6,\"#e6f5d0\"],[0.7,\"#b8e186\"],[0.8,\"#7fbc41\"],[0.9,\"#4d9221\"],[1,\"#276419\"]]},\"xaxis\":{\"gridcolor\":\"white\",\"linecolor\":\"white\",\"ticks\":\"\",\"title\":{\"standoff\":15},\"zerolinecolor\":\"white\",\"automargin\":true,\"zerolinewidth\":2},\"yaxis\":{\"gridcolor\":\"white\",\"linecolor\":\"white\",\"ticks\":\"\",\"title\":{\"standoff\":15},\"zerolinecolor\":\"white\",\"automargin\":true,\"zerolinewidth\":2},\"scene\":{\"xaxis\":{\"backgroundcolor\":\"#E5ECF6\",\"gridcolor\":\"white\",\"linecolor\":\"white\",\"showbackground\":true,\"ticks\":\"\",\"zerolinecolor\":\"white\",\"gridwidth\":2},\"yaxis\":{\"backgroundcolor\":\"#E5ECF6\",\"gridcolor\":\"white\",\"linecolor\":\"white\",\"showbackground\":true,\"ticks\":\"\",\"zerolinecolor\":\"white\",\"gridwidth\":2},\"zaxis\":{\"backgroundcolor\":\"#E5ECF6\",\"gridcolor\":\"white\",\"linecolor\":\"white\",\"showbackground\":true,\"ticks\":\"\",\"zerolinecolor\":\"white\",\"gridwidth\":2}},\"shapedefaults\":{\"line\":{\"color\":\"#2a3f5f\"}},\"annotationdefaults\":{\"arrowcolor\":\"#2a3f5f\",\"arrowhead\":0,\"arrowwidth\":1},\"geo\":{\"bgcolor\":\"white\",\"landcolor\":\"#E5ECF6\",\"subunitcolor\":\"white\",\"showland\":true,\"showlakes\":true,\"lakecolor\":\"white\"},\"title\":{\"x\":0.05},\"mapbox\":{\"style\":\"light\"}}},\"xaxis\":{\"anchor\":\"y\",\"domain\":[0.0,1.0],\"scaleanchor\":\"y\",\"constrain\":\"domain\",\"side\":\"top\"},\"yaxis\":{\"anchor\":\"x\",\"domain\":[0.0,1.0],\"autorange\":\"reversed\",\"constrain\":\"domain\"},\"coloraxis\":{\"colorscale\":[[0.0,\"#0d0887\"],[0.1111111111111111,\"#46039f\"],[0.2222222222222222,\"#7201a8\"],[0.3333333333333333,\"#9c179e\"],[0.4444444444444444,\"#bd3786\"],[0.5555555555555556,\"#d8576b\"],[0.6666666666666666,\"#ed7953\"],[0.7777777777777778,\"#fb9f3a\"],[0.8888888888888888,\"#fdca26\"],[1.0,\"#f0f921\"]]},\"margin\":{\"t\":60}},                        {\"responsive\": true}                    ).then(function(){\n",
       "                            \n",
       "var gd = document.getElementById('26294194-5986-4027-ac6d-881d33fc91f0');\n",
       "var x = new MutationObserver(function (mutations, observer) {{\n",
       "        var display = window.getComputedStyle(gd).display;\n",
       "        if (!display || display === 'none') {{\n",
       "            console.log([gd, 'removed!']);\n",
       "            Plotly.purge(gd);\n",
       "            observer.disconnect();\n",
       "        }}\n",
       "}});\n",
       "\n",
       "// Listen for the removal of the full notebook cells\n",
       "var notebookContainer = gd.closest('#notebook-container');\n",
       "if (notebookContainer) {{\n",
       "    x.observe(notebookContainer, {childList: true});\n",
       "}}\n",
       "\n",
       "// Listen for the clearing of the current output cell\n",
       "var outputEl = gd.closest('.output');\n",
       "if (outputEl) {{\n",
       "    x.observe(outputEl, {childList: true});\n",
       "}}\n",
       "\n",
       "                        })                };                });            </script>        </div>"
      ]
     },
     "metadata": {},
     "output_type": "display_data"
    }
   ],
   "source": [
    "resultsl1 = []\n",
    "resultsl1 = resultsl1_r + resultsl1_g + resultsl1_b\n",
    "\n",
    "fig = px.imshow(resultsl1)\n",
    "fig.update_xaxes(side=\"top\")\n",
    "fig.show()"
   ]
  },
  {
   "cell_type": "code",
   "execution_count": null,
   "id": "f16a893b-8b09-436d-99be-62ebfaba7fa0",
   "metadata": {},
   "outputs": [],
   "source": []
  },
  {
   "cell_type": "code",
   "execution_count": null,
   "id": "cd1970d1-d9ce-4dd8-be7a-ec4c1500128b",
   "metadata": {},
   "outputs": [],
   "source": []
  }
 ],
 "metadata": {
  "kernelspec": {
   "display_name": "Python 3 (ipykernel)",
   "language": "python",
   "name": "python3"
  },
  "language_info": {
   "codemirror_mode": {
    "name": "ipython",
    "version": 3
   },
   "file_extension": ".py",
   "mimetype": "text/x-python",
   "name": "python",
   "nbconvert_exporter": "python",
   "pygments_lexer": "ipython3",
   "version": "3.9.15"
  }
 },
 "nbformat": 4,
 "nbformat_minor": 5
}
