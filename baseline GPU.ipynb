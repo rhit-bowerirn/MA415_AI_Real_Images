{
 "cells": [
  {
   "cell_type": "code",
   "execution_count": 1,
   "id": "770d0349-c346-4afe-9caa-eb17000c1ad9",
   "metadata": {},
   "outputs": [
    {
     "name": "stdout",
     "output_type": "stream",
     "text": [
      "Mon May  8 18:35:17 2023       \n",
      "+---------------------------------------------------------------------------------------+\n",
      "| NVIDIA-SMI 530.30.02              Driver Version: 530.30.02    CUDA Version: 12.1     |\n",
      "|-----------------------------------------+----------------------+----------------------+\n",
      "| GPU  Name                  Persistence-M| Bus-Id        Disp.A | Volatile Uncorr. ECC |\n",
      "| Fan  Temp  Perf            Pwr:Usage/Cap|         Memory-Usage | GPU-Util  Compute M. |\n",
      "|                                         |                      |               MIG M. |\n",
      "|=========================================+======================+======================|\n",
      "|   0  Quadro RTX 6000                 On | 00000000:1B:00.0 Off |                  Off |\n",
      "| 33%   26C    P8               11W / 260W|    751MiB / 24576MiB |      0%      Default |\n",
      "|                                         |                      |                  N/A |\n",
      "+-----------------------------------------+----------------------+----------------------+\n",
      "|   1  Quadro RTX 6000                 On | 00000000:1C:00.0 Off |                  Off |\n",
      "| 33%   24C    P8                9W / 260W|    477MiB / 24576MiB |      0%      Default |\n",
      "|                                         |                      |                  N/A |\n",
      "+-----------------------------------------+----------------------+----------------------+\n",
      "|   2  Quadro RTX 6000                 On | 00000000:1D:00.0 Off |                  Off |\n",
      "| 33%   27C    P8               15W / 260W|    477MiB / 24576MiB |      0%      Default |\n",
      "|                                         |                      |                  N/A |\n",
      "+-----------------------------------------+----------------------+----------------------+\n",
      "|   3  Quadro RTX 6000                 On | 00000000:1E:00.0 Off |                  Off |\n",
      "| 33%   26C    P8                6W / 260W|    477MiB / 24576MiB |      0%      Default |\n",
      "|                                         |                      |                  N/A |\n",
      "+-----------------------------------------+----------------------+----------------------+\n",
      "|   4  Quadro RTX 6000                 On | 00000000:3D:00.0 Off |                  Off |\n",
      "| 33%   24C    P8               11W / 260W|    477MiB / 24576MiB |      0%      Default |\n",
      "|                                         |                      |                  N/A |\n",
      "+-----------------------------------------+----------------------+----------------------+\n",
      "|   5  Quadro RTX 6000                 On | 00000000:3F:00.0 Off |                  Off |\n",
      "| 33%   26C    P8                5W / 260W|    477MiB / 24576MiB |      0%      Default |\n",
      "|                                         |                      |                  N/A |\n",
      "+-----------------------------------------+----------------------+----------------------+\n",
      "|   6  Quadro RTX 6000                 On | 00000000:40:00.0 Off |                  Off |\n",
      "| 35%   26C    P8               16W / 260W|    477MiB / 24576MiB |      0%      Default |\n",
      "|                                         |                      |                  N/A |\n",
      "+-----------------------------------------+----------------------+----------------------+\n",
      "|   7  Quadro RTX 6000                 On | 00000000:41:00.0 Off |                  Off |\n",
      "| 34%   26C    P8               16W / 260W|    477MiB / 24576MiB |      0%      Default |\n",
      "|                                         |                      |                  N/A |\n",
      "+-----------------------------------------+----------------------+----------------------+\n",
      "                                                                                         \n",
      "+---------------------------------------------------------------------------------------+\n",
      "| Processes:                                                                            |\n",
      "|  GPU   GI   CI        PID   Type   Process name                            GPU Memory |\n",
      "|        ID   ID                                                             Usage      |\n",
      "|=======================================================================================|\n",
      "|    0   N/A  N/A   3380490      C   /opt/anaconda3/bin/python                   310MiB |\n",
      "|    0   N/A  N/A   3398004      C   /opt/anaconda3/bin/python                   274MiB |\n",
      "|    0   N/A  N/A   3400215      C   /opt/anaconda3/bin/python                   162MiB |\n",
      "|    1   N/A  N/A   3380490      C   /opt/anaconda3/bin/python                   310MiB |\n",
      "|    1   N/A  N/A   3400216      C   /opt/anaconda3/bin/python                   162MiB |\n",
      "|    2   N/A  N/A   3380490      C   /opt/anaconda3/bin/python                   310MiB |\n",
      "|    2   N/A  N/A   3400224      C   /opt/anaconda3/bin/python                   162MiB |\n",
      "|    3   N/A  N/A   3380490      C   /opt/anaconda3/bin/python                   310MiB |\n",
      "|    3   N/A  N/A   3400221      C   /opt/anaconda3/bin/python                   162MiB |\n",
      "|    4   N/A  N/A   3380490      C   /opt/anaconda3/bin/python                   310MiB |\n",
      "|    4   N/A  N/A   3400229      C   /opt/anaconda3/bin/python                   162MiB |\n",
      "|    5   N/A  N/A   3380490      C   /opt/anaconda3/bin/python                   310MiB |\n",
      "|    5   N/A  N/A   3400227      C   /opt/anaconda3/bin/python                   162MiB |\n",
      "|    6   N/A  N/A   3380490      C   /opt/anaconda3/bin/python                   310MiB |\n",
      "|    6   N/A  N/A   3400232      C   /opt/anaconda3/bin/python                   162MiB |\n",
      "|    7   N/A  N/A   3380490      C   /opt/anaconda3/bin/python                   310MiB |\n",
      "|    7   N/A  N/A   3400235      C   /opt/anaconda3/bin/python                   162MiB |\n",
      "+---------------------------------------------------------------------------------------+\n"
     ]
    }
   ],
   "source": [
    "!nvidia-smi"
   ]
  },
  {
   "cell_type": "code",
   "execution_count": 2,
   "id": "c954c645-b447-4c04-9b18-2f150de72b78",
   "metadata": {},
   "outputs": [
    {
     "name": "stderr",
     "output_type": "stream",
     "text": [
      "2023-05-08 18:35:18.898392: I tensorflow/stream_executor/platform/default/dso_loader.cc:49] Successfully opened dynamic library libcudart.so.10.1\n"
     ]
    }
   ],
   "source": [
    "import pandas as pd\n",
    "import numpy as np\n",
    "from sklearn.linear_model import LogisticRegression, LogisticRegressionCV\n",
    "from time import time\n",
    "import tensorflow as tf \n",
    "from Loader import train_data, test_data"
   ]
  },
  {
   "cell_type": "code",
   "execution_count": 3,
   "id": "53216fd4-8c5d-44cd-b329-0e02afc3f34e",
   "metadata": {},
   "outputs": [
    {
     "name": "stderr",
     "output_type": "stream",
     "text": [
      "2023-05-08 18:35:20.009325: I tensorflow/core/platform/cpu_feature_guard.cc:142] This TensorFlow binary is optimized with oneAPI Deep Neural Network Library (oneDNN) to use the following CPU instructions in performance-critical operations:  SSE4.1 SSE4.2 AVX AVX2 AVX512F FMA\n",
      "To enable them in other operations, rebuild TensorFlow with the appropriate compiler flags.\n",
      "2023-05-08 18:35:20.016777: I tensorflow/compiler/jit/xla_gpu_device.cc:99] Not creating XLA devices, tf_xla_enable_xla_devices not set\n",
      "2023-05-08 18:35:20.017860: I tensorflow/stream_executor/platform/default/dso_loader.cc:49] Successfully opened dynamic library libcuda.so.1\n",
      "2023-05-08 18:35:21.151972: I tensorflow/core/common_runtime/gpu/gpu_device.cc:1720] Found device 0 with properties: \n",
      "pciBusID: 0000:1b:00.0 name: Quadro RTX 6000 computeCapability: 7.5\n",
      "coreClock: 1.77GHz coreCount: 72 deviceMemorySize: 23.64GiB deviceMemoryBandwidth: 625.94GiB/s\n",
      "2023-05-08 18:35:21.152550: I tensorflow/core/common_runtime/gpu/gpu_device.cc:1720] Found device 1 with properties: \n",
      "pciBusID: 0000:1c:00.0 name: Quadro RTX 6000 computeCapability: 7.5\n",
      "coreClock: 1.77GHz coreCount: 72 deviceMemorySize: 23.64GiB deviceMemoryBandwidth: 625.94GiB/s\n",
      "2023-05-08 18:35:21.153057: I tensorflow/core/common_runtime/gpu/gpu_device.cc:1720] Found device 2 with properties: \n",
      "pciBusID: 0000:1d:00.0 name: Quadro RTX 6000 computeCapability: 7.5\n",
      "coreClock: 1.77GHz coreCount: 72 deviceMemorySize: 23.64GiB deviceMemoryBandwidth: 625.94GiB/s\n",
      "2023-05-08 18:35:21.153554: I tensorflow/core/common_runtime/gpu/gpu_device.cc:1720] Found device 3 with properties: \n",
      "pciBusID: 0000:1e:00.0 name: Quadro RTX 6000 computeCapability: 7.5\n",
      "coreClock: 1.77GHz coreCount: 72 deviceMemorySize: 23.64GiB deviceMemoryBandwidth: 625.94GiB/s\n",
      "2023-05-08 18:35:21.154047: I tensorflow/core/common_runtime/gpu/gpu_device.cc:1720] Found device 4 with properties: \n",
      "pciBusID: 0000:3d:00.0 name: Quadro RTX 6000 computeCapability: 7.5\n",
      "coreClock: 1.77GHz coreCount: 72 deviceMemorySize: 23.64GiB deviceMemoryBandwidth: 625.94GiB/s\n",
      "2023-05-08 18:35:21.154528: I tensorflow/core/common_runtime/gpu/gpu_device.cc:1720] Found device 5 with properties: \n",
      "pciBusID: 0000:3f:00.0 name: Quadro RTX 6000 computeCapability: 7.5\n",
      "coreClock: 1.77GHz coreCount: 72 deviceMemorySize: 23.64GiB deviceMemoryBandwidth: 625.94GiB/s\n",
      "2023-05-08 18:35:21.155011: I tensorflow/core/common_runtime/gpu/gpu_device.cc:1720] Found device 6 with properties: \n",
      "pciBusID: 0000:40:00.0 name: Quadro RTX 6000 computeCapability: 7.5\n",
      "coreClock: 1.77GHz coreCount: 72 deviceMemorySize: 23.64GiB deviceMemoryBandwidth: 625.94GiB/s\n",
      "2023-05-08 18:35:21.155475: I tensorflow/core/common_runtime/gpu/gpu_device.cc:1720] Found device 7 with properties: \n",
      "pciBusID: 0000:41:00.0 name: Quadro RTX 6000 computeCapability: 7.5\n",
      "coreClock: 1.77GHz coreCount: 72 deviceMemorySize: 23.64GiB deviceMemoryBandwidth: 625.94GiB/s\n",
      "2023-05-08 18:35:21.155519: I tensorflow/stream_executor/platform/default/dso_loader.cc:49] Successfully opened dynamic library libcudart.so.10.1\n",
      "2023-05-08 18:35:21.157511: I tensorflow/stream_executor/platform/default/dso_loader.cc:49] Successfully opened dynamic library libcublas.so.10\n",
      "2023-05-08 18:35:21.157584: I tensorflow/stream_executor/platform/default/dso_loader.cc:49] Successfully opened dynamic library libcublasLt.so.10\n",
      "2023-05-08 18:35:21.159475: I tensorflow/stream_executor/platform/default/dso_loader.cc:49] Successfully opened dynamic library libcufft.so.10\n",
      "2023-05-08 18:35:21.159847: I tensorflow/stream_executor/platform/default/dso_loader.cc:49] Successfully opened dynamic library libcurand.so.10\n",
      "2023-05-08 18:35:21.161802: I tensorflow/stream_executor/platform/default/dso_loader.cc:49] Successfully opened dynamic library libcusolver.so.10\n",
      "2023-05-08 18:35:21.162874: I tensorflow/stream_executor/platform/default/dso_loader.cc:49] Successfully opened dynamic library libcusparse.so.10\n",
      "2023-05-08 18:35:21.166796: I tensorflow/stream_executor/platform/default/dso_loader.cc:49] Successfully opened dynamic library libcudnn.so.7\n",
      "2023-05-08 18:35:21.174095: I tensorflow/core/common_runtime/gpu/gpu_device.cc:1862] Adding visible gpu devices: 0, 1, 2, 3, 4, 5, 6, 7\n",
      "2023-05-08 18:35:21.174137: I tensorflow/stream_executor/platform/default/dso_loader.cc:49] Successfully opened dynamic library libcudart.so.10.1\n",
      "2023-05-08 18:35:24.840640: I tensorflow/core/common_runtime/gpu/gpu_device.cc:1261] Device interconnect StreamExecutor with strength 1 edge matrix:\n",
      "2023-05-08 18:35:24.840687: I tensorflow/core/common_runtime/gpu/gpu_device.cc:1267]      0 1 2 3 4 5 6 7 \n",
      "2023-05-08 18:35:24.840695: I tensorflow/core/common_runtime/gpu/gpu_device.cc:1280] 0:   N Y Y Y Y Y Y Y \n",
      "2023-05-08 18:35:24.840699: I tensorflow/core/common_runtime/gpu/gpu_device.cc:1280] 1:   Y N Y Y Y Y Y Y \n",
      "2023-05-08 18:35:24.840703: I tensorflow/core/common_runtime/gpu/gpu_device.cc:1280] 2:   Y Y N Y Y Y Y Y \n",
      "2023-05-08 18:35:24.840707: I tensorflow/core/common_runtime/gpu/gpu_device.cc:1280] 3:   Y Y Y N Y Y Y Y \n",
      "2023-05-08 18:35:24.840710: I tensorflow/core/common_runtime/gpu/gpu_device.cc:1280] 4:   Y Y Y Y N Y Y Y \n",
      "2023-05-08 18:35:24.840714: I tensorflow/core/common_runtime/gpu/gpu_device.cc:1280] 5:   Y Y Y Y Y N Y Y \n",
      "2023-05-08 18:35:24.840718: I tensorflow/core/common_runtime/gpu/gpu_device.cc:1280] 6:   Y Y Y Y Y Y N Y \n",
      "2023-05-08 18:35:24.840721: I tensorflow/core/common_runtime/gpu/gpu_device.cc:1280] 7:   Y Y Y Y Y Y Y N \n",
      "2023-05-08 18:35:24.846470: I tensorflow/core/common_runtime/gpu/gpu_device.cc:1406] Created TensorFlow device (/job:localhost/replica:0/task:0/device:GPU:0 with 12106 MB memory) -> physical GPU (device: 0, name: Quadro RTX 6000, pci bus id: 0000:1b:00.0, compute capability: 7.5)\n",
      "2023-05-08 18:35:24.848860: I tensorflow/core/common_runtime/gpu/gpu_device.cc:1406] Created TensorFlow device (/job:localhost/replica:0/task:0/device:GPU:1 with 12106 MB memory) -> physical GPU (device: 1, name: Quadro RTX 6000, pci bus id: 0000:1c:00.0, compute capability: 7.5)\n",
      "2023-05-08 18:35:24.850616: I tensorflow/core/common_runtime/gpu/gpu_device.cc:1406] Created TensorFlow device (/job:localhost/replica:0/task:0/device:GPU:2 with 12106 MB memory) -> physical GPU (device: 2, name: Quadro RTX 6000, pci bus id: 0000:1d:00.0, compute capability: 7.5)\n",
      "2023-05-08 18:35:24.853412: I tensorflow/core/common_runtime/gpu/gpu_device.cc:1406] Created TensorFlow device (/job:localhost/replica:0/task:0/device:GPU:3 with 12106 MB memory) -> physical GPU (device: 3, name: Quadro RTX 6000, pci bus id: 0000:1e:00.0, compute capability: 7.5)\n",
      "2023-05-08 18:35:24.855023: I tensorflow/core/common_runtime/gpu/gpu_device.cc:1406] Created TensorFlow device (/job:localhost/replica:0/task:0/device:GPU:4 with 12106 MB memory) -> physical GPU (device: 4, name: Quadro RTX 6000, pci bus id: 0000:3d:00.0, compute capability: 7.5)\n",
      "2023-05-08 18:35:24.857111: I tensorflow/core/common_runtime/gpu/gpu_device.cc:1406] Created TensorFlow device (/job:localhost/replica:0/task:0/device:GPU:5 with 12106 MB memory) -> physical GPU (device: 5, name: Quadro RTX 6000, pci bus id: 0000:3f:00.0, compute capability: 7.5)\n",
      "2023-05-08 18:35:24.859113: I tensorflow/core/common_runtime/gpu/gpu_device.cc:1406] Created TensorFlow device (/job:localhost/replica:0/task:0/device:GPU:6 with 12106 MB memory) -> physical GPU (device: 6, name: Quadro RTX 6000, pci bus id: 0000:40:00.0, compute capability: 7.5)\n",
      "2023-05-08 18:35:24.860674: I tensorflow/core/common_runtime/gpu/gpu_device.cc:1406] Created TensorFlow device (/job:localhost/replica:0/task:0/device:GPU:7 with 12106 MB memory) -> physical GPU (device: 7, name: Quadro RTX 6000, pci bus id: 0000:41:00.0, compute capability: 7.5)\n"
     ]
    }
   ],
   "source": [
    "config = tf.compat.v1.ConfigProto()\n",
    "config.gpu_options.per_process_gpu_memory_fraction = 0.5\n",
    "config.operation_timeout_in_ms=60000\n",
    "sess = tf.compat.v1.Session(config=config)"
   ]
  },
  {
   "cell_type": "code",
   "execution_count": 4,
   "id": "3a6dc553-b16e-4e17-a04a-ea6295c84a6f",
   "metadata": {},
   "outputs": [
    {
     "name": "stderr",
     "output_type": "stream",
     "text": [
      "2023-05-08 18:35:24.873458: I tensorflow/compiler/jit/xla_cpu_device.cc:41] Not creating XLA devices, tf_xla_enable_xla_devices not set\n",
      "2023-05-08 18:35:24.874147: I tensorflow/core/common_runtime/gpu/gpu_device.cc:1720] Found device 0 with properties: \n",
      "pciBusID: 0000:1b:00.0 name: Quadro RTX 6000 computeCapability: 7.5\n",
      "coreClock: 1.77GHz coreCount: 72 deviceMemorySize: 23.64GiB deviceMemoryBandwidth: 625.94GiB/s\n",
      "2023-05-08 18:35:24.874668: I tensorflow/core/common_runtime/gpu/gpu_device.cc:1720] Found device 1 with properties: \n",
      "pciBusID: 0000:1c:00.0 name: Quadro RTX 6000 computeCapability: 7.5\n",
      "coreClock: 1.77GHz coreCount: 72 deviceMemorySize: 23.64GiB deviceMemoryBandwidth: 625.94GiB/s\n",
      "2023-05-08 18:35:24.875164: I tensorflow/core/common_runtime/gpu/gpu_device.cc:1720] Found device 2 with properties: \n",
      "pciBusID: 0000:1d:00.0 name: Quadro RTX 6000 computeCapability: 7.5\n",
      "coreClock: 1.77GHz coreCount: 72 deviceMemorySize: 23.64GiB deviceMemoryBandwidth: 625.94GiB/s\n",
      "2023-05-08 18:35:24.875651: I tensorflow/core/common_runtime/gpu/gpu_device.cc:1720] Found device 3 with properties: \n",
      "pciBusID: 0000:1e:00.0 name: Quadro RTX 6000 computeCapability: 7.5\n",
      "coreClock: 1.77GHz coreCount: 72 deviceMemorySize: 23.64GiB deviceMemoryBandwidth: 625.94GiB/s\n",
      "2023-05-08 18:35:24.876113: I tensorflow/core/common_runtime/gpu/gpu_device.cc:1720] Found device 4 with properties: \n",
      "pciBusID: 0000:3d:00.0 name: Quadro RTX 6000 computeCapability: 7.5\n",
      "coreClock: 1.77GHz coreCount: 72 deviceMemorySize: 23.64GiB deviceMemoryBandwidth: 625.94GiB/s\n",
      "2023-05-08 18:35:24.876595: I tensorflow/core/common_runtime/gpu/gpu_device.cc:1720] Found device 5 with properties: \n",
      "pciBusID: 0000:3f:00.0 name: Quadro RTX 6000 computeCapability: 7.5\n",
      "coreClock: 1.77GHz coreCount: 72 deviceMemorySize: 23.64GiB deviceMemoryBandwidth: 625.94GiB/s\n",
      "2023-05-08 18:35:24.877086: I tensorflow/core/common_runtime/gpu/gpu_device.cc:1720] Found device 6 with properties: \n",
      "pciBusID: 0000:40:00.0 name: Quadro RTX 6000 computeCapability: 7.5\n",
      "coreClock: 1.77GHz coreCount: 72 deviceMemorySize: 23.64GiB deviceMemoryBandwidth: 625.94GiB/s\n",
      "2023-05-08 18:35:24.877554: I tensorflow/core/common_runtime/gpu/gpu_device.cc:1720] Found device 7 with properties: \n",
      "pciBusID: 0000:41:00.0 name: Quadro RTX 6000 computeCapability: 7.5\n",
      "coreClock: 1.77GHz coreCount: 72 deviceMemorySize: 23.64GiB deviceMemoryBandwidth: 625.94GiB/s\n",
      "2023-05-08 18:35:24.877602: I tensorflow/stream_executor/platform/default/dso_loader.cc:49] Successfully opened dynamic library libcudart.so.10.1\n",
      "2023-05-08 18:35:24.877640: I tensorflow/stream_executor/platform/default/dso_loader.cc:49] Successfully opened dynamic library libcublas.so.10\n",
      "2023-05-08 18:35:24.877653: I tensorflow/stream_executor/platform/default/dso_loader.cc:49] Successfully opened dynamic library libcublasLt.so.10\n",
      "2023-05-08 18:35:24.877665: I tensorflow/stream_executor/platform/default/dso_loader.cc:49] Successfully opened dynamic library libcufft.so.10\n",
      "2023-05-08 18:35:24.877676: I tensorflow/stream_executor/platform/default/dso_loader.cc:49] Successfully opened dynamic library libcurand.so.10\n",
      "2023-05-08 18:35:24.877690: I tensorflow/stream_executor/platform/default/dso_loader.cc:49] Successfully opened dynamic library libcusolver.so.10\n",
      "2023-05-08 18:35:24.877702: I tensorflow/stream_executor/platform/default/dso_loader.cc:49] Successfully opened dynamic library libcusparse.so.10\n",
      "2023-05-08 18:35:24.877714: I tensorflow/stream_executor/platform/default/dso_loader.cc:49] Successfully opened dynamic library libcudnn.so.7\n",
      "2023-05-08 18:35:24.884937: I tensorflow/core/common_runtime/gpu/gpu_device.cc:1862] Adding visible gpu devices: 0, 1, 2, 3, 4, 5, 6, 7\n"
     ]
    }
   ],
   "source": [
    "####################################################################\n",
    "# Following code releases unused GPU memory for others to use.\n",
    "gpus = tf.config.experimental.list_physical_devices('GPU')\n",
    "for gpu in gpus:\n",
    "  tf.config.experimental.set_memory_growth(gpu, True)\n",
    "####################################################################"
   ]
  },
  {
   "cell_type": "code",
   "execution_count": 5,
   "id": "88d3963f-d3e6-4e6e-92e2-4812afc5ac53",
   "metadata": {},
   "outputs": [
    {
     "name": "stdout",
     "output_type": "stream",
     "text": [
      "(100000, 3073)\n"
     ]
    },
    {
     "data": {
      "text/html": [
       "<div>\n",
       "<style scoped>\n",
       "    .dataframe tbody tr th:only-of-type {\n",
       "        vertical-align: middle;\n",
       "    }\n",
       "\n",
       "    .dataframe tbody tr th {\n",
       "        vertical-align: top;\n",
       "    }\n",
       "\n",
       "    .dataframe thead th {\n",
       "        text-align: right;\n",
       "    }\n",
       "</style>\n",
       "<table border=\"1\" class=\"dataframe\">\n",
       "  <thead>\n",
       "    <tr style=\"text-align: right;\">\n",
       "      <th></th>\n",
       "      <th>0</th>\n",
       "      <th>1</th>\n",
       "      <th>2</th>\n",
       "      <th>3</th>\n",
       "      <th>4</th>\n",
       "      <th>5</th>\n",
       "      <th>6</th>\n",
       "      <th>7</th>\n",
       "      <th>8</th>\n",
       "      <th>9</th>\n",
       "      <th>...</th>\n",
       "      <th>3063</th>\n",
       "      <th>3064</th>\n",
       "      <th>3065</th>\n",
       "      <th>3066</th>\n",
       "      <th>3067</th>\n",
       "      <th>3068</th>\n",
       "      <th>3069</th>\n",
       "      <th>3070</th>\n",
       "      <th>3071</th>\n",
       "      <th>label</th>\n",
       "    </tr>\n",
       "  </thead>\n",
       "  <tbody>\n",
       "    <tr>\n",
       "      <th>0</th>\n",
       "      <td>114</td>\n",
       "      <td>112</td>\n",
       "      <td>113</td>\n",
       "      <td>119</td>\n",
       "      <td>117</td>\n",
       "      <td>118</td>\n",
       "      <td>117</td>\n",
       "      <td>117</td>\n",
       "      <td>115</td>\n",
       "      <td>111</td>\n",
       "      <td>...</td>\n",
       "      <td>100</td>\n",
       "      <td>91</td>\n",
       "      <td>86</td>\n",
       "      <td>99</td>\n",
       "      <td>91</td>\n",
       "      <td>88</td>\n",
       "      <td>98</td>\n",
       "      <td>90</td>\n",
       "      <td>87</td>\n",
       "      <td>Fake</td>\n",
       "    </tr>\n",
       "    <tr>\n",
       "      <th>1</th>\n",
       "      <td>206</td>\n",
       "      <td>204</td>\n",
       "      <td>205</td>\n",
       "      <td>215</td>\n",
       "      <td>213</td>\n",
       "      <td>214</td>\n",
       "      <td>224</td>\n",
       "      <td>222</td>\n",
       "      <td>223</td>\n",
       "      <td>228</td>\n",
       "      <td>...</td>\n",
       "      <td>126</td>\n",
       "      <td>125</td>\n",
       "      <td>123</td>\n",
       "      <td>124</td>\n",
       "      <td>123</td>\n",
       "      <td>121</td>\n",
       "      <td>123</td>\n",
       "      <td>122</td>\n",
       "      <td>120</td>\n",
       "      <td>Fake</td>\n",
       "    </tr>\n",
       "    <tr>\n",
       "      <th>2</th>\n",
       "      <td>153</td>\n",
       "      <td>185</td>\n",
       "      <td>208</td>\n",
       "      <td>130</td>\n",
       "      <td>162</td>\n",
       "      <td>185</td>\n",
       "      <td>153</td>\n",
       "      <td>185</td>\n",
       "      <td>208</td>\n",
       "      <td>162</td>\n",
       "      <td>...</td>\n",
       "      <td>167</td>\n",
       "      <td>178</td>\n",
       "      <td>172</td>\n",
       "      <td>166</td>\n",
       "      <td>177</td>\n",
       "      <td>171</td>\n",
       "      <td>165</td>\n",
       "      <td>176</td>\n",
       "      <td>170</td>\n",
       "      <td>Fake</td>\n",
       "    </tr>\n",
       "  </tbody>\n",
       "</table>\n",
       "<p>3 rows × 3073 columns</p>\n",
       "</div>"
      ],
      "text/plain": [
       "     0    1    2    3    4    5    6    7    8    9  ... 3063 3064 3065 3066  \\\n",
       "0  114  112  113  119  117  118  117  117  115  111  ...  100   91   86   99   \n",
       "1  206  204  205  215  213  214  224  222  223  228  ...  126  125  123  124   \n",
       "2  153  185  208  130  162  185  153  185  208  162  ...  167  178  172  166   \n",
       "\n",
       "  3067 3068 3069 3070 3071 label  \n",
       "0   91   88   98   90   87  Fake  \n",
       "1  123  121  123  122  120  Fake  \n",
       "2  177  171  165  176  170  Fake  \n",
       "\n",
       "[3 rows x 3073 columns]"
      ]
     },
     "execution_count": 5,
     "metadata": {},
     "output_type": "execute_result"
    }
   ],
   "source": [
    "df_train = train_data()\n",
    "print(df_train.shape)\n",
    "df_train.head(3)"
   ]
  },
  {
   "cell_type": "code",
   "execution_count": 6,
   "id": "10f9899f-aca5-464b-9108-13a2c9717613",
   "metadata": {},
   "outputs": [],
   "source": [
    "df_sample = df_train.sample(frac=0.1, random_state=0)\n",
    "X = df_sample.drop('label', axis=1)\n",
    "X = (X-X.mean())/X.std()\n",
    "y = df_sample.label"
   ]
  },
  {
   "cell_type": "code",
   "execution_count": 7,
   "id": "1e4b7a92-d371-44b8-8622-a48bf672be33",
   "metadata": {},
   "outputs": [
    {
     "name": "stdout",
     "output_type": "stream",
     "text": [
      "INFO:tensorflow:Using MirroredStrategy with devices ('/job:localhost/replica:0/task:0/device:GPU:0', '/job:localhost/replica:0/task:0/device:GPU:1', '/job:localhost/replica:0/task:0/device:GPU:2', '/job:localhost/replica:0/task:0/device:GPU:3', '/job:localhost/replica:0/task:0/device:GPU:4', '/job:localhost/replica:0/task:0/device:GPU:5', '/job:localhost/replica:0/task:0/device:GPU:6', '/job:localhost/replica:0/task:0/device:GPU:7')\n"
     ]
    },
    {
     "name": "stderr",
     "output_type": "stream",
     "text": [
      "2023-05-08 18:35:56.601519: I tensorflow/compiler/jit/xla_gpu_device.cc:99] Not creating XLA devices, tf_xla_enable_xla_devices not set\n",
      "2023-05-08 18:35:56.602348: I tensorflow/core/common_runtime/gpu/gpu_device.cc:1720] Found device 0 with properties: \n",
      "pciBusID: 0000:1b:00.0 name: Quadro RTX 6000 computeCapability: 7.5\n",
      "coreClock: 1.77GHz coreCount: 72 deviceMemorySize: 23.64GiB deviceMemoryBandwidth: 625.94GiB/s\n",
      "2023-05-08 18:35:56.602906: I tensorflow/core/common_runtime/gpu/gpu_device.cc:1720] Found device 1 with properties: \n",
      "pciBusID: 0000:1c:00.0 name: Quadro RTX 6000 computeCapability: 7.5\n",
      "coreClock: 1.77GHz coreCount: 72 deviceMemorySize: 23.64GiB deviceMemoryBandwidth: 625.94GiB/s\n",
      "2023-05-08 18:35:56.603411: I tensorflow/core/common_runtime/gpu/gpu_device.cc:1720] Found device 2 with properties: \n",
      "pciBusID: 0000:1d:00.0 name: Quadro RTX 6000 computeCapability: 7.5\n",
      "coreClock: 1.77GHz coreCount: 72 deviceMemorySize: 23.64GiB deviceMemoryBandwidth: 625.94GiB/s\n",
      "2023-05-08 18:35:56.603908: I tensorflow/core/common_runtime/gpu/gpu_device.cc:1720] Found device 3 with properties: \n",
      "pciBusID: 0000:1e:00.0 name: Quadro RTX 6000 computeCapability: 7.5\n",
      "coreClock: 1.77GHz coreCount: 72 deviceMemorySize: 23.64GiB deviceMemoryBandwidth: 625.94GiB/s\n",
      "2023-05-08 18:35:56.604416: I tensorflow/core/common_runtime/gpu/gpu_device.cc:1720] Found device 4 with properties: \n",
      "pciBusID: 0000:3d:00.0 name: Quadro RTX 6000 computeCapability: 7.5\n",
      "coreClock: 1.77GHz coreCount: 72 deviceMemorySize: 23.64GiB deviceMemoryBandwidth: 625.94GiB/s\n",
      "2023-05-08 18:35:56.604900: I tensorflow/core/common_runtime/gpu/gpu_device.cc:1720] Found device 5 with properties: \n",
      "pciBusID: 0000:3f:00.0 name: Quadro RTX 6000 computeCapability: 7.5\n",
      "coreClock: 1.77GHz coreCount: 72 deviceMemorySize: 23.64GiB deviceMemoryBandwidth: 625.94GiB/s\n",
      "2023-05-08 18:35:56.605384: I tensorflow/core/common_runtime/gpu/gpu_device.cc:1720] Found device 6 with properties: \n",
      "pciBusID: 0000:40:00.0 name: Quadro RTX 6000 computeCapability: 7.5\n",
      "coreClock: 1.77GHz coreCount: 72 deviceMemorySize: 23.64GiB deviceMemoryBandwidth: 625.94GiB/s\n",
      "2023-05-08 18:35:56.605923: I tensorflow/core/common_runtime/gpu/gpu_device.cc:1720] Found device 7 with properties: \n",
      "pciBusID: 0000:41:00.0 name: Quadro RTX 6000 computeCapability: 7.5\n",
      "coreClock: 1.77GHz coreCount: 72 deviceMemorySize: 23.64GiB deviceMemoryBandwidth: 625.94GiB/s\n",
      "2023-05-08 18:35:56.605964: I tensorflow/stream_executor/platform/default/dso_loader.cc:49] Successfully opened dynamic library libcudart.so.10.1\n",
      "2023-05-08 18:35:56.605990: I tensorflow/stream_executor/platform/default/dso_loader.cc:49] Successfully opened dynamic library libcublas.so.10\n",
      "2023-05-08 18:35:56.606003: I tensorflow/stream_executor/platform/default/dso_loader.cc:49] Successfully opened dynamic library libcublasLt.so.10\n",
      "2023-05-08 18:35:56.606015: I tensorflow/stream_executor/platform/default/dso_loader.cc:49] Successfully opened dynamic library libcufft.so.10\n",
      "2023-05-08 18:35:56.606027: I tensorflow/stream_executor/platform/default/dso_loader.cc:49] Successfully opened dynamic library libcurand.so.10\n",
      "2023-05-08 18:35:56.606039: I tensorflow/stream_executor/platform/default/dso_loader.cc:49] Successfully opened dynamic library libcusolver.so.10\n",
      "2023-05-08 18:35:56.606051: I tensorflow/stream_executor/platform/default/dso_loader.cc:49] Successfully opened dynamic library libcusparse.so.10\n",
      "2023-05-08 18:35:56.606063: I tensorflow/stream_executor/platform/default/dso_loader.cc:49] Successfully opened dynamic library libcudnn.so.7\n",
      "2023-05-08 18:35:56.613816: I tensorflow/core/common_runtime/gpu/gpu_device.cc:1862] Adding visible gpu devices: 0, 1, 2, 3, 4, 5, 6, 7\n",
      "2023-05-08 18:35:56.613946: I tensorflow/core/common_runtime/gpu/gpu_device.cc:1261] Device interconnect StreamExecutor with strength 1 edge matrix:\n",
      "2023-05-08 18:35:56.613953: I tensorflow/core/common_runtime/gpu/gpu_device.cc:1267]      0 1 2 3 4 5 6 7 \n",
      "2023-05-08 18:35:56.613959: I tensorflow/core/common_runtime/gpu/gpu_device.cc:1280] 0:   N Y Y Y Y Y Y Y \n",
      "2023-05-08 18:35:56.613963: I tensorflow/core/common_runtime/gpu/gpu_device.cc:1280] 1:   Y N Y Y Y Y Y Y \n",
      "2023-05-08 18:35:56.613967: I tensorflow/core/common_runtime/gpu/gpu_device.cc:1280] 2:   Y Y N Y Y Y Y Y \n",
      "2023-05-08 18:35:56.613972: I tensorflow/core/common_runtime/gpu/gpu_device.cc:1280] 3:   Y Y Y N Y Y Y Y \n",
      "2023-05-08 18:35:56.613976: I tensorflow/core/common_runtime/gpu/gpu_device.cc:1280] 4:   Y Y Y Y N Y Y Y \n",
      "2023-05-08 18:35:56.613980: I tensorflow/core/common_runtime/gpu/gpu_device.cc:1280] 5:   Y Y Y Y Y N Y Y \n",
      "2023-05-08 18:35:56.613984: I tensorflow/core/common_runtime/gpu/gpu_device.cc:1280] 6:   Y Y Y Y Y Y N Y \n",
      "2023-05-08 18:35:56.613988: I tensorflow/core/common_runtime/gpu/gpu_device.cc:1280] 7:   Y Y Y Y Y Y Y N \n",
      "2023-05-08 18:35:56.618651: I tensorflow/core/common_runtime/gpu/gpu_device.cc:1406] Created TensorFlow device (/job:localhost/replica:0/task:0/device:GPU:0 with 12106 MB memory) -> physical GPU (device: 0, name: Quadro RTX 6000, pci bus id: 0000:1b:00.0, compute capability: 7.5)\n",
      "2023-05-08 18:35:56.619192: I tensorflow/core/common_runtime/gpu/gpu_device.cc:1406] Created TensorFlow device (/job:localhost/replica:0/task:0/device:GPU:1 with 12106 MB memory) -> physical GPU (device: 1, name: Quadro RTX 6000, pci bus id: 0000:1c:00.0, compute capability: 7.5)\n",
      "2023-05-08 18:35:56.619687: I tensorflow/core/common_runtime/gpu/gpu_device.cc:1406] Created TensorFlow device (/job:localhost/replica:0/task:0/device:GPU:2 with 12106 MB memory) -> physical GPU (device: 2, name: Quadro RTX 6000, pci bus id: 0000:1d:00.0, compute capability: 7.5)\n",
      "2023-05-08 18:35:56.620178: I tensorflow/core/common_runtime/gpu/gpu_device.cc:1406] Created TensorFlow device (/job:localhost/replica:0/task:0/device:GPU:3 with 12106 MB memory) -> physical GPU (device: 3, name: Quadro RTX 6000, pci bus id: 0000:1e:00.0, compute capability: 7.5)\n",
      "2023-05-08 18:35:56.620668: I tensorflow/core/common_runtime/gpu/gpu_device.cc:1406] Created TensorFlow device (/job:localhost/replica:0/task:0/device:GPU:4 with 12106 MB memory) -> physical GPU (device: 4, name: Quadro RTX 6000, pci bus id: 0000:3d:00.0, compute capability: 7.5)\n",
      "2023-05-08 18:35:56.621189: I tensorflow/core/common_runtime/gpu/gpu_device.cc:1406] Created TensorFlow device (/job:localhost/replica:0/task:0/device:GPU:5 with 12106 MB memory) -> physical GPU (device: 5, name: Quadro RTX 6000, pci bus id: 0000:3f:00.0, compute capability: 7.5)\n",
      "2023-05-08 18:35:56.621714: I tensorflow/core/common_runtime/gpu/gpu_device.cc:1406] Created TensorFlow device (/job:localhost/replica:0/task:0/device:GPU:6 with 12106 MB memory) -> physical GPU (device: 6, name: Quadro RTX 6000, pci bus id: 0000:40:00.0, compute capability: 7.5)\n",
      "2023-05-08 18:35:56.622243: I tensorflow/core/common_runtime/gpu/gpu_device.cc:1406] Created TensorFlow device (/job:localhost/replica:0/task:0/device:GPU:7 with 12106 MB memory) -> physical GPU (device: 7, name: Quadro RTX 6000, pci bus id: 0000:41:00.0, compute capability: 7.5)\n",
      "/opt/anaconda3/lib/python3.9/site-packages/sklearn/linear_model/_logistic.py:444: ConvergenceWarning: lbfgs failed to converge (status=1):\n",
      "STOP: TOTAL NO. of ITERATIONS REACHED LIMIT.\n",
      "\n",
      "Increase the number of iterations (max_iter) or scale the data as shown in:\n",
      "    https://scikit-learn.org/stable/modules/preprocessing.html\n",
      "Please also refer to the documentation for alternative solver options:\n",
      "    https://scikit-learn.org/stable/modules/linear_model.html#logistic-regression\n",
      "  n_iter_i = _check_optimize_result(\n"
     ]
    },
    {
     "name": "stdout",
     "output_type": "stream",
     "text": [
      "Elapsed Time for Logistic Regression: 9.882444858551025\n",
      "\n",
      "Baseline Training Accuracy: 0.7264\n",
      "CV l2 Time: 2668.494802713394\n",
      "\n",
      "CV l2 Baseline: 0.7008\n",
      "CV l1 Time: 6986.902775287628\n",
      "\n",
      "CV l1 Baseline: 0.6967\n"
     ]
    }
   ],
   "source": [
    "tf.debugging.set_log_device_placement(True)\n",
    "gpus = tf.config.list_logical_devices('GPU')\n",
    "strategy = tf.distribute.MirroredStrategy(gpus)\n",
    "with strategy.scope():\n",
    "\n",
    "    ####################################################################\n",
    "    time_start = time()\n",
    "    lgr = LogisticRegression(n_jobs = -1)\n",
    "    lgr.fit(X,y)\n",
    "\n",
    "    time_stop = time()\n",
    "    print('Elapsed Time for Logistic Regression:', time_stop-time_start)\n",
    "    print()\n",
    "    print('Baseline Training Accuracy:', lgr.score(X,y))\n",
    "    ####################################################################\n",
    "    ts = time()\n",
    "    lgrcv2 = LogisticRegressionCV(cv=5, \n",
    "                                 random_state=0, \n",
    "                                 n_jobs=-1,\n",
    "                                 penalty='l2',\n",
    "                                 solver='sag',\n",
    "                                 max_iter = 5000)\n",
    "\n",
    "    lgrcv2.fit(X,y)\n",
    "    tss= time()\n",
    "    print('CV l2 Time:', tss-ts)\n",
    "    print()\n",
    "    print('CV l2 Baseline:', lgrcv2.score(X,y))\n",
    "    ####################################################################\n",
    "    ts = time()\n",
    "    lgrcv1 = LogisticRegressionCV(cv=5, \n",
    "                                 random_state=0, \n",
    "                                 n_jobs=-1,\n",
    "                                 penalty='l1',\n",
    "                                 solver='saga',\n",
    "                                 max_iter = 10000)\n",
    "\n",
    "    lgrcv1.fit(X,y)\n",
    "    tss= time()\n",
    "    print('CV l1 Time:', tss-ts)\n",
    "    print()\n",
    "    print('CV l1 Baseline:', lgrcv1.score(X,y))\n",
    "    "
   ]
  },
  {
   "cell_type": "code",
   "execution_count": 85,
   "id": "de366b30-6146-4332-9548-2f7bad090754",
   "metadata": {},
   "outputs": [],
   "source": [
    "import matplotlib.pyplot as plt"
   ]
  },
  {
   "cell_type": "code",
   "execution_count": 195,
   "id": "c8a55480-5500-4d9e-b8d4-3d06801e9820",
   "metadata": {},
   "outputs": [],
   "source": [
    "resultsl2 = lgrcv2.coef_\n",
    "resultsl2 = resultsl2.reshape([32,32,3])\n",
    "x = []\n",
    "y = []\n",
    "\n",
    "xred = []\n",
    "yred = []\n",
    "\n",
    "xgreen = []\n",
    "ygreen = []\n",
    "\n",
    "xblue = []\n",
    "yblue = []\n",
    "\n",
    "weight = [0.01,0.05,0.1]\n",
    "\n",
    "for w in range(len(weight)):\n",
    "    for rgb in range(3):\n",
    "        for i in range(32):\n",
    "            for j in range(32):\n",
    "                if abs(resultsl2[i,j,rgb]) > weight[w]:\n",
    "                    if rgb == 0:\n",
    "                        xred.append(i);\n",
    "                        yred.append(j);\n",
    "                    if rgb == 1:\n",
    "                        xgreen.append(i);\n",
    "                        ygreen.append(j);\n",
    "                    if rgb == 2:\n",
    "                        xblue.append(i);\n",
    "                        yblue.append(j);\n",
    "\n",
    "x = xred + xgreen + xblue;\n",
    "y = yred + ygreen + yblue"
   ]
  },
  {
   "cell_type": "code",
   "execution_count": 210,
   "id": "87a7f54d-10fa-469f-8229-2c0b822832b5",
   "metadata": {},
   "outputs": [
    {
     "data": {
      "text/plain": [
       "<matplotlib.collections.PathCollection at 0x7fcf2019f250>"
      ]
     },
     "execution_count": 210,
     "metadata": {},
     "output_type": "execute_result"
    },
    {
     "data": {
      "image/png": "[encoded data removed]",
      "text/plain": [
       "<Figure size 640x480 with 1 Axes>"
      ]
     },
     "metadata": {},
     "output_type": "display_data"
    }
   ],
   "source": [
    "plt.scatter(xred,yred,alpha=0.3,c='r',marker='s')"
   ]
  },
  {
   "cell_type": "code",
   "execution_count": 211,
   "id": "a622f2f5-f878-45d3-b5e8-ccc32ad6a71f",
   "metadata": {},
   "outputs": [
    {
     "data": {
      "text/plain": [
       "<matplotlib.collections.PathCollection at 0x7fce6041a760>"
      ]
     },
     "execution_count": 211,
     "metadata": {},
     "output_type": "execute_result"
    },
    {
     "data": {
      "image/png": "[encoded data removed]",
      "text/plain": [
       "<Figure size 640x480 with 1 Axes>"
      ]
     },
     "metadata": {},
     "output_type": "display_data"
    }
   ],
   "source": [
    "plt.scatter(xgreen,ygreen,alpha=0.3,c='g',marker='s')"
   ]
  },
  {
   "cell_type": "code",
   "execution_count": 212,
   "id": "0a223b2c-cc7d-461a-b51d-78518af64fbd",
   "metadata": {},
   "outputs": [
    {
     "data": {
      "text/plain": [
       "<matplotlib.collections.PathCollection at 0x7fce601ce7f0>"
      ]
     },
     "execution_count": 212,
     "metadata": {},
     "output_type": "execute_result"
    },
    {
     "data": {
      "image/png": "[encoded data removed]",
      "text/plain": [
       "<Figure size 640x480 with 1 Axes>"
      ]
     },
     "metadata": {},
     "output_type": "display_data"
    }
   ],
   "source": [
    "plt.scatter(xblue,yblue,alpha=0.3,c='b',marker='s')"
   ]
  },
  {
   "cell_type": "code",
   "execution_count": 213,
   "id": "9aaccd67-53a2-42a0-92b6-d93740f013e5",
   "metadata": {},
   "outputs": [
    {
     "data": {
      "text/plain": [
       "<matplotlib.collections.PathCollection at 0x7fce601a7850>"
      ]
     },
     "execution_count": 213,
     "metadata": {},
     "output_type": "execute_result"
    },
    {
     "data": {
      "image/png": "[encoded data removed]",
      "text/plain": [
       "<Figure size 640x480 with 1 Axes>"
      ]
     },
     "metadata": {},
     "output_type": "display_data"
    }
   ],
   "source": [
    "plt.scatter(x,y,alpha=0.3,c='black',marker='s')"
   ]
  },
  {
   "cell_type": "code",
   "execution_count": 205,
   "id": "22bd3540-8d35-47dd-8893-df3954eaad02",
   "metadata": {},
   "outputs": [],
   "source": [
    "resultsl1 = lgrcv1.coef_\n",
    "resultsl1 = resultsl1.reshape([32,32,3])\n",
    "x = []\n",
    "y = []\n",
    "\n",
    "xred = []\n",
    "yred = []\n",
    "\n",
    "xgreen = []\n",
    "ygreen = []\n",
    "\n",
    "xblue = []\n",
    "yblue = []\n",
    "\n",
    "weight = [0.005,0.01,0.05,0.1]\n",
    "\n",
    "for w in range(len(weight)):\n",
    "    for rgb in range(3):\n",
    "        for i in range(32):\n",
    "            for j in range(32):\n",
    "                if abs(resultsl1[i,j,rgb]) > weight[w]:\n",
    "                    if rgb == 0:\n",
    "                        xred.append(i);\n",
    "                        yred.append(j);\n",
    "                    if rgb == 1:\n",
    "                        xgreen.append(i);\n",
    "                        ygreen.append(j);\n",
    "                    if rgb == 2:\n",
    "                        xblue.append(i);\n",
    "                        yblue.append(j);\n",
    "\n",
    "x = xred + xgreen + xblue;\n",
    "y = yred + ygreen + yblue"
   ]
  },
  {
   "cell_type": "code",
   "execution_count": 215,
   "id": "aa54387c-80da-48e5-94c7-7d6187831164",
   "metadata": {},
   "outputs": [
    {
     "data": {
      "text/plain": [
       "<matplotlib.collections.PathCollection at 0x7fce600d12e0>"
      ]
     },
     "execution_count": 215,
     "metadata": {},
     "output_type": "execute_result"
    },
    {
     "data": {
      "image/png": "[encoded data removed]",
      "text/plain": [
       "<Figure size 640x480 with 1 Axes>"
      ]
     },
     "metadata": {},
     "output_type": "display_data"
    }
   ],
   "source": [
    "plt.scatter(xred,yred,alpha=0.2,c='r',marker='s')"
   ]
  },
  {
   "cell_type": "code",
   "execution_count": 216,
   "id": "866be704-5bc0-4e2a-9be9-53466fb4b788",
   "metadata": {},
   "outputs": [
    {
     "data": {
      "text/plain": [
       "<matplotlib.collections.PathCollection at 0x7fce6004b5b0>"
      ]
     },
     "execution_count": 216,
     "metadata": {},
     "output_type": "execute_result"
    },
    {
     "data": {
      "image/png": "[encoded data removed]",
      "text/plain": [
       "<Figure size 640x480 with 1 Axes>"
      ]
     },
     "metadata": {},
     "output_type": "display_data"
    }
   ],
   "source": [
    "plt.scatter(xgreen,ygreen,alpha=0.2,c='g',marker='s')"
   ]
  },
  {
   "cell_type": "code",
   "execution_count": 217,
   "id": "f1e1b8b8-b9d4-4cf3-a2c7-40b71bd1aff5",
   "metadata": {},
   "outputs": [
    {
     "data": {
      "text/plain": [
       "<matplotlib.collections.PathCollection at 0x7fce347f8e50>"
      ]
     },
     "execution_count": 217,
     "metadata": {},
     "output_type": "execute_result"
    },
    {
     "data": {
      "image/png": "[encoded data removed]",
      "text/plain": [
       "<Figure size 640x480 with 1 Axes>"
      ]
     },
     "metadata": {},
     "output_type": "display_data"
    }
   ],
   "source": [
    "plt.scatter(xblue,yblue,alpha=0.2,c='b',marker='s')"
   ]
  },
  {
   "cell_type": "code",
   "execution_count": 218,
   "id": "b1d711d6-b207-44d2-bd87-5fc32dfd85a9",
   "metadata": {},
   "outputs": [
    {
     "data": {
      "text/plain": [
       "<matplotlib.collections.PathCollection at 0x7fce6007f760>"
      ]
     },
     "execution_count": 218,
     "metadata": {},
     "output_type": "execute_result"
    },
    {
     "data": {
      "image/png": "[encoded data removed]",
      "text/plain": [
       "<Figure size 640x480 with 1 Axes>"
      ]
     },
     "metadata": {},
     "output_type": "display_data"
    }
   ],
   "source": [
    "plt.scatter(x,y,alpha=0.3,c='black',marker='s')"
   ]
  },
  {
   "cell_type": "code",
   "execution_count": null,
   "id": "0c6804c7-7e66-4aaf-8e04-e945c4985031",
   "metadata": {},
   "outputs": [],
   "source": []
  },
  {
   "cell_type": "code",
   "execution_count": null,
   "id": "2fb5b9ce-4b03-401b-a240-ecc9904d8918",
   "metadata": {},
   "outputs": [],
   "source": []
  },
  {
   "cell_type": "code",
   "execution_count": null,
   "id": "3f8bf6c6-9fc9-48ea-bc64-9db41accecb6",
   "metadata": {},
   "outputs": [],
   "source": []
  },
  {
   "cell_type": "code",
   "execution_count": null,
   "id": "8131f231-418a-4489-8462-cc8abe9e1287",
   "metadata": {},
   "outputs": [],
   "source": []
  },
  {
   "cell_type": "code",
   "execution_count": null,
   "id": "af321b18-2bd0-4d7e-ae0c-6baaf4fa5d5d",
   "metadata": {},
   "outputs": [],
   "source": []
  },
  {
   "cell_type": "code",
   "execution_count": null,
   "id": "f16a893b-8b09-436d-99be-62ebfaba7fa0",
   "metadata": {},
   "outputs": [],
   "source": []
  },
  {
   "cell_type": "code",
   "execution_count": null,
   "id": "cd1970d1-d9ce-4dd8-be7a-ec4c1500128b",
   "metadata": {},
   "outputs": [],
   "source": []
  }
 ],
 "metadata": {
  "kernelspec": {
   "display_name": "Python 3 (ipykernel)",
   "language": "python",
   "name": "python3"
  },
  "language_info": {
   "codemirror_mode": {
    "name": "ipython",
    "version": 3
   },
   "file_extension": ".py",
   "mimetype": "text/x-python",
   "name": "python",
   "nbconvert_exporter": "python",
   "pygments_lexer": "ipython3",
   "version": "3.9.15"
  }
 },
 "nbformat": 4,
 "nbformat_minor": 5
}
