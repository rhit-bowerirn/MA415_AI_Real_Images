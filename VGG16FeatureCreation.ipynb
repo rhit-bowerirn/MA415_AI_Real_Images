{
 "cells": [
  {
   "cell_type": "code",
   "execution_count": 1,
   "id": "8e85ccd0",
   "metadata": {},
   "outputs": [],
   "source": [
    "# Import all of the data using dataset from directory\n",
    "# If there isn't enough RAM available, consider using Tensorflow Datasets \n",
    "\n",
    "import tensorflow as tf\n",
    "\n",
    "img_height = 32 # The dataset is all 32px but this is here just to make sure\n",
    "img_width = 32\n",
    "batch_size = 32\n",
    "\n",
    "# # Load the training data\n",
    "# train_ds = tf.keras.utils.image_dataset_from_directory(\n",
    "#   \"train\",\n",
    "#   seed=123,\n",
    "\n",
    "image_size=(img_height, img_width)\n",
    "batch_size=batch_size"
   ]
  },
  {
   "cell_type": "code",
   "execution_count": 2,
   "id": "f218d72a",
   "metadata": {},
   "outputs": [
    {
     "name": "stdout",
     "output_type": "stream",
     "text": [
      "Downloading data from https://storage.googleapis.com/tensorflow/keras-applications/vgg16/vgg16_weights_tf_dim_ordering_tf_kernels_notop.h5\n",
      "58889256/58889256 [==============================] - 1s 0us/step\n",
      "starting preprocess\n",
      "313/313 [==============================] - 52s 165ms/step\n",
      "(10000, 1, 1, 512)\n"
     ]
    }
   ],
   "source": [
    "import os\n",
    "import pandas as pd\n",
    "from os import listdir\n",
    "from tensorflow.keras.applications.vgg16 import VGG16\n",
    "from tensorflow.keras.preprocessing import image\n",
    "from tensorflow.keras.applications.vgg16 import preprocess_input\n",
    "import numpy as np\n",
    "img_height = 32 # The dataset is all 32px but this is here just to make sure\n",
    "img_width = 32\n",
    "batch_size = 32\n",
    "\n",
    "feat_out = np.zeros((10000,32,32,3))\n",
    "#print(feat_out.shape)\n",
    "model = VGG16(weights='imagenet', include_top=False)\n",
    "# get the path/directory\n",
    "count = 0\n",
    "folder_dir = \"./AIR_Image/test/REAL/\"\n",
    "for images in os.listdir(folder_dir):\n",
    "    img_path = folder_dir + images\n",
    "    img = image.load_img(img_path, target_size=(img_height, img_width))\n",
    "    x = image.img_to_array(img)\n",
    "    x = np.expand_dims(x,axis=0)\n",
    "    mean = np.mean(x, axis=(1,2), keepdims=True)\n",
    "    std = np.std(x, axis=(1,2), keepdims=True)\n",
    "    standardized_images_out = (x - mean) / std\n",
    "    feat_out[count] = x[0]\n",
    "    #print(count)\n",
    "    count = count + 1\n",
    "print(\"starting preprocess\")\n",
    "feat_out = preprocess_input(feat_out)\n",
    "features = model.predict(feat_out)\n",
    "print(features.shape)\n",
    "    #feat_out.append(features[0][0][0])\n",
    "#feat_out.shape\n",
    "\n",
    "feat_out.shape\n",
    "\n",
    "store = np.zeros((10000,512))\n",
    "for i in range(10000):\n",
    "    store[i] = features[i][0][0]\n",
    "real = pd.DataFrame(store)\n",
    "real['class'] = 'Real'\n",
    "\n",
    "real.head(3)\n",
    "\n",
    "real.to_csv('REAL_Test_Features.csv')"
   ]
  },
  {
   "cell_type": "code",
   "execution_count": 3,
   "id": "03da95a8",
   "metadata": {},
   "outputs": [
    {
     "name": "stdout",
     "output_type": "stream",
     "text": [
      "starting preprocess\n",
      "313/313 [==============================] - 48s 154ms/step\n",
      "(10000, 1, 1, 512)\n"
     ]
    }
   ],
   "source": [
    "feat_out = np.zeros((10000,32,32,3))\n",
    "#print(feat_out.shape)\n",
    "model = VGG16(weights='imagenet', include_top=False)\n",
    "# get the path/directory\n",
    "count = 0\n",
    "folder_dir = \"./AIR_Image/test/FAKE/\"\n",
    "for images in os.listdir(folder_dir):\n",
    "    img_path = folder_dir + images\n",
    "    img = image.load_img(img_path, target_size=(img_height, img_width))\n",
    "    x = image.img_to_array(img)\n",
    "    x = np.expand_dims(x,axis=0)\n",
    "    mean = np.mean(x, axis=(1,2), keepdims=True)\n",
    "    std = np.std(x, axis=(1,2), keepdims=True)\n",
    "    standardized_images_out = (x - mean) / std\n",
    "    feat_out[count] = x[0]\n",
    "    #print(count)\n",
    "    count = count + 1\n",
    "print(\"starting preprocess\")\n",
    "feat_out = preprocess_input(feat_out)\n",
    "features = model.predict(feat_out)\n",
    "print(features.shape)\n",
    "    #feat_out.append(features[0][0][0])\n",
    "#feat_out.shape\n",
    "\n",
    "feat_out.shape\n",
    "\n",
    "store = np.zeros((10000,512))\n",
    "for i in range(10000):\n",
    "    store[i] = features[i][0][0]\n",
    "real = pd.DataFrame(store)\n",
    "real['class'] = 'Fake'\n",
    "\n",
    "real.head(3)\n",
    "\n",
    "real.to_csv('FAKE_Test_Features.csv')"
   ]
  },
  {
   "cell_type": "code",
   "execution_count": 4,
   "id": "b7712614",
   "metadata": {},
   "outputs": [
    {
     "name": "stdout",
     "output_type": "stream",
     "text": [
      "starting preprocess\n",
      "1563/1563 [==============================] - 205s 131ms/step\n",
      "(50000, 1, 1, 512)\n"
     ]
    }
   ],
   "source": [
    "feat_out = np.zeros((50000,32,32,3))\n",
    "#print(feat_out.shape)\n",
    "model = VGG16(weights='imagenet', include_top=False)\n",
    "# get the path/directory\n",
    "count = 0\n",
    "folder_dir = \"./AIR_Image/train/FAKE/\"\n",
    "for images in os.listdir(folder_dir):\n",
    "    img_path = folder_dir + images\n",
    "    img = image.load_img(img_path, target_size=(img_height, img_width))\n",
    "    x = image.img_to_array(img)\n",
    "    x = np.expand_dims(x,axis=0)\n",
    "    mean = np.mean(x, axis=(1,2), keepdims=True)\n",
    "    std = np.std(x, axis=(1,2), keepdims=True)\n",
    "    standardized_images_out = (x - mean) / std\n",
    "    feat_out[count] = x[0]\n",
    "    #print(count)\n",
    "    count = count + 1\n",
    "print(\"starting preprocess\")\n",
    "feat_out = preprocess_input(feat_out)\n",
    "features = model.predict(feat_out)\n",
    "print(features.shape)\n",
    "    #feat_out.append(features[0][0][0])\n",
    "#feat_out.shape\n",
    "\n",
    "feat_out.shape\n",
    "\n",
    "store = np.zeros((50000,512))\n",
    "for i in range(50000):\n",
    "    store[i] = features[i][0][0]\n",
    "real = pd.DataFrame(store)\n",
    "real['class'] = 'Fake'\n",
    "\n",
    "real.head(3)\n",
    "\n",
    "real.to_csv('FAKE_Train_Features.csv')"
   ]
  },
  {
   "cell_type": "code",
   "execution_count": 5,
   "id": "3a64bafb",
   "metadata": {},
   "outputs": [
    {
     "name": "stdout",
     "output_type": "stream",
     "text": [
      "starting preprocess\n",
      "1563/1563 [==============================] - 211s 135ms/step\n",
      "(50000, 1, 1, 512)\n"
     ]
    }
   ],
   "source": [
    "feat_out = np.zeros((50000,32,32,3))\n",
    "#print(feat_out.shape)\n",
    "model = VGG16(weights='imagenet', include_top=False)\n",
    "# get the path/directory\n",
    "count = 0\n",
    "folder_dir = \"./AIR_Image/train/REAL/\"\n",
    "for images in os.listdir(folder_dir):\n",
    "    img_path = folder_dir + images\n",
    "    img = image.load_img(img_path, target_size=(img_height, img_width))\n",
    "    x = image.img_to_array(img)\n",
    "    x = np.expand_dims(x,axis=0)\n",
    "    mean = np.mean(x, axis=(1,2), keepdims=True)\n",
    "    std = np.std(x, axis=(1,2), keepdims=True)\n",
    "    standardized_images_out = (x - mean) / std\n",
    "    feat_out[count] = x[0]\n",
    "    #print(count)\n",
    "    count = count + 1\n",
    "print(\"starting preprocess\")\n",
    "feat_out = preprocess_input(feat_out)\n",
    "features = model.predict(feat_out)\n",
    "print(features.shape)\n",
    "    #feat_out.append(features[0][0][0])\n",
    "#feat_out.shape\n",
    "\n",
    "feat_out.shape\n",
    "\n",
    "store = np.zeros((50000,512))\n",
    "for i in range(50000):\n",
    "    store[i] = features[i][0][0]\n",
    "real = pd.DataFrame(store)\n",
    "real['class'] = 'Real'\n",
    "\n",
    "real.head(3)\n",
    "\n",
    "real.to_csv('Real_Train_Features.csv')"
   ]
  },
  {
   "cell_type": "code",
   "execution_count": null,
   "id": "bc73889c",
   "metadata": {},
   "outputs": [],
   "source": []
  },
  {
   "cell_type": "code",
   "execution_count": null,
   "id": "d6ec6cef",
   "metadata": {},
   "outputs": [],
   "source": []
  }
 ],
 "metadata": {
  "kernelspec": {
   "display_name": "Python 3 (ipykernel)",
   "language": "python",
   "name": "python3"
  },
  "language_info": {
   "codemirror_mode": {
    "name": "ipython",
    "version": 3
   },
   "file_extension": ".py",
   "mimetype": "text/x-python",
   "name": "python",
   "nbconvert_exporter": "python",
   "pygments_lexer": "ipython3",
   "version": "3.9.16"
  }
 },
 "nbformat": 4,
 "nbformat_minor": 5
}
